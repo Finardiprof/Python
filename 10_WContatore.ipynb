{
  "nbformat": 4,
  "nbformat_minor": 0,
  "metadata": {
    "colab": {
      "provenance": [],
      "toc_visible": true,
      "include_colab_link": true
    },
    "kernelspec": {
      "name": "python3",
      "display_name": "Python 3"
    },
    "language_info": {
      "name": "python"
    }
  },
  "cells": [
    {
      "cell_type": "markdown",
      "metadata": {
        "id": "view-in-github",
        "colab_type": "text"
      },
      "source": [
        "<a href=\"https://colab.research.google.com/github/Finardiprof/Python/blob/main/10_WContatore.ipynb\" target=\"_parent\"><img src=\"https://colab.research.google.com/assets/colab-badge.svg\" alt=\"Open In Colab\"/></a>"
      ]
    },
    {
      "cell_type": "markdown",
      "metadata": {
        "id": "v_u_Twu9fqyu"
      },
      "source": [
        "# Indovina la parola che ho pensato in max 5 tentativi"
      ]
    },
    {
      "cell_type": "code",
      "metadata": {
        "id": "RhuwzgpFfnf1"
      },
      "source": [
        "#Scrivi il codice qui"
      ],
      "execution_count": null,
      "outputs": []
    },
    {
      "cell_type": "markdown",
      "metadata": {
        "id": "FnRJ_KLCsMHj"
      },
      "source": [
        "# Ora puoi divertirti a personalizzare il gioco!\n",
        "Per esempio si possono dare punteggi diversi a seconda del numero di tentativi impiegati, ..."
      ]
    },
    {
      "cell_type": "code",
      "metadata": {
        "id": "AGlNU9TZsSjG"
      },
      "source": [
        "#Scrivi il codice qui"
      ],
      "execution_count": null,
      "outputs": []
    },
    {
      "cell_type": "markdown",
      "metadata": {
        "id": "hWdF42fpsnX7"
      },
      "source": [
        "# cont += 1\n",
        "Invece dell'istruzione cont = cont + 1, si può usare una sua contrazione.\n",
        "Sotto due codici alternativi che ottengono lo stesso risultato"
      ]
    },
    {
      "cell_type": "code",
      "metadata": {
        "id": "R3aLtkvEs9Mh"
      },
      "source": [
        "while cont < 10:\n",
        "  cont = cont + 1\n",
        "print (cont)"
      ],
      "execution_count": null,
      "outputs": []
    },
    {
      "cell_type": "code",
      "metadata": {
        "id": "cTbBMemNt5Lo"
      },
      "source": [
        "while cont < 10:\n",
        "  cont += 1\n",
        "print (cont)\n"
      ],
      "execution_count": null,
      "outputs": []
    },
    {
      "cell_type": "markdown",
      "metadata": {
        "id": "Gwcd3delf5ME"
      },
      "source": [
        "# Soluzione proposta"
      ]
    },
    {
      "cell_type": "code",
      "metadata": {
        "id": "ArysAUAXgDCK"
      },
      "source": [
        "PS = \"gatto\"\n",
        "print (\"Inserisci una parola e cerca di indovinare quella che ho pensato: si tratta di un animale domestico \")\n",
        "print (\"Hai a disposizione 5 tentativi\")\n",
        "Parola = input(\"inserisci una parola \")\n",
        "cont = 1\n",
        "while Parola != PS and cont < 5: #devono essere vere ENTRAMBE le condizioni\n",
        "  print (\"Ritenta!\")\n",
        "  cont = cont +1\n",
        "  Parola = input(\"inserisci una parola \")\n",
        "# si esce dal ciclo quando una delle condizioni diventa falsa\n",
        "# oppure sono entrambe false\n",
        "# quindi serve una selezione per capire in quale caso ci troviamo\n",
        "if Parola == PS:\n",
        "  print(\"Hai vinto\")\n",
        "else:        # il ciclo è terminato perchè sono stati esauriti i tentativi a disposizione\n",
        "  print(\"Mi dispiace hai esaurito il numero di tentativi a disposizione\")"
      ],
      "execution_count": null,
      "outputs": []
    }
  ]
}