{
  "cells": [
    {
      "cell_type": "markdown",
      "metadata": {
        "id": "view-in-github",
        "colab_type": "text"
      },
      "source": [
        "<a href=\"https://colab.research.google.com/github/Finardiprof/Python/blob/main/Funzioni_def.ipynb\" target=\"_parent\"><img src=\"https://colab.research.google.com/assets/colab-badge.svg\" alt=\"Open In Colab\"/></a>"
      ]
    },
    {
      "cell_type": "markdown",
      "source": [
        "#Lezione sulle funzioni con def\n",
        "\n",
        "In questo tutorial impareremo a creare e utilizzare funzioni con il comando `def` in Python.\n",
        "\n",
        "**Definizione di una funzione**\n",
        "\n",
        "Una funzione è un blocco di codice che può essere riutilizzato in diversi punti del programma. Per definire una funzione, utilizziamo il comando `def` seguito dal nome della funzione, i parametri della funzione (opzionali) e il corpo della funzione.\n",
        "\n",
        "Ecco un esempio di definizione di una funzione:"
      ],
      "metadata": {
        "id": "s1KgjC86QxMV"
      }
    },
    {
      "cell_type": "code",
      "source": [
        "def saluta():\n",
        "    print(\"Ciao!\")"
      ],
      "outputs": [],
      "execution_count": 1,
      "metadata": {
        "id": "5gyLGxEmQxMZ"
      }
    },
    {
      "cell_type": "markdown",
      "source": [
        "Questa funzione si chiama `saluta()` e non ha parametri. Il corpo della funzione contiene un'istruzione `print()` che stampa il messaggio \"Ciao!\".\n",
        "\n",
        "**Esecuzione di una funzione**\n",
        "\n",
        "Per eseguire una funzione, utilizziamo il nome della funzione seguito da eventuali parametri.\n",
        "\n",
        "Ecco un esempio di esecuzione di una funzione:"
      ],
      "metadata": {
        "id": "PJmFATVhQxMa"
      }
    },
    {
      "cell_type": "code",
      "source": [
        "saluta()"
      ],
      "outputs": [],
      "execution_count": null,
      "metadata": {
        "id": "SjKVa_XfQxMb"
      }
    },
    {
      "cell_type": "markdown",
      "source": [
        "Questa istruzione esegue la funzione `saluta()`, che stampa il messaggio \"Ciao!\".\n",
        "\n",
        "**Parametri di una funzione**\n",
        "\n",
        "I parametri sono valori che possono essere passati a una funzione quando viene eseguita. I parametri possono essere utilizzati all'interno della funzione per eseguire operazioni.\n",
        "\n",
        "Ecco un esempio di funzione con parametri:"
      ],
      "metadata": {
        "id": "xy1ceKFyQxMb"
      }
    },
    {
      "cell_type": "code",
      "source": [
        "def saluta_con_nome(nome):\n",
        "    print(\"Ciao,\", nome, \"!\")"
      ],
      "outputs": [],
      "execution_count": null,
      "metadata": {
        "id": "XQeElRoCQxMc"
      }
    },
    {
      "cell_type": "markdown",
      "source": [
        "Questa funzione si chiama `saluta_con_nome()` e ha un parametro chiamato `nome`. Il corpo della funzione stampa il messaggio \"Ciao, [nome]!\", dove [nome] viene sostituito dal valore del parametro `nome`.\n",
        "\n",
        "Ecco un esempio di utilizzo di una funzione con parametri:"
      ],
      "metadata": {
        "id": "cGfRoFFmQxMc"
      }
    },
    {
      "cell_type": "code",
      "source": [
        "saluta_con_nome(\"Mario\")"
      ],
      "outputs": [],
      "execution_count": null,
      "metadata": {
        "id": "V2_cK5aVQxMc"
      }
    },
    {
      "cell_type": "markdown",
      "source": [
        "Questa istruzione esegue la funzione `saluta_con_nome()` con il parametro `nome` impostato a \"Mario\". La funzione stampa il messaggio \"Ciao, Mario!\".\n",
        "\n",
        "**Restituzione di un valore da una funzione**\n",
        "\n",
        "Una funzione può restituire un valore. Per restituire un valore da una funzione, utilizziamo l'istruzione `return`.\n",
        "\n",
        "Ecco un esempio di funzione che restituisce un valore:"
      ],
      "metadata": {
        "id": "ekj1VzMmQxMd"
      }
    },
    {
      "cell_type": "code",
      "source": [
        "def calcola_somma(a, b):\n",
        "    return a + b"
      ],
      "outputs": [],
      "execution_count": null,
      "metadata": {
        "id": "-FIye0EKQxMd"
      }
    },
    {
      "cell_type": "markdown",
      "source": [
        "Questa funzione si chiama `calcola_somma()` e ha due parametri: `a` e `b`. Il corpo della funzione calcola la somma dei valori dei parametri `a` e `b` e la restituisce.\n",
        "\n",
        "Ecco un esempio di utilizzo di una funzione che restituisce un valore:"
      ],
      "metadata": {
        "id": "ooPYbvsCQxMe"
      }
    },
    {
      "cell_type": "code",
      "source": [
        "somma = calcola_somma(10, 20)\n",
        "print(somma)"
      ],
      "outputs": [],
      "execution_count": null,
      "metadata": {
        "id": "LxRPj4OwQxMe"
      }
    },
    {
      "cell_type": "markdown",
      "source": [
        "Questa istruzione esegue la funzione `calcola_somma()` con i parametri `a` impostato a 10 e `b` impostato a 20. La funzione restituisce il valore 30, che viene quindi stampato.\n",
        "\n",
        "**Esempi di funzioni**\n",
        "\n",
        "Ecco alcuni esempi di funzioni che possiamo creare:\n",
        "\n",
        "* Una funzione che stampa un messaggio\n",
        "* Una funzione che calcola una somma\n",
        "* Una funzione che calcola una media\n",
        "* Una funzione che verifica se un numero è pari o dispari\n",
        "\n",
        "**Esercizi**\n",
        "\n",
        "Ecco alcuni esercizi che puoi svolgere per esercitarti con le funzioni:\n",
        "\n",
        "* Crea una funzione che calcola il prodotto di due numeri.\n",
        "* Crea una funzione che verifica se una stringa è palindroma.\n",
        "\n"
      ],
      "metadata": {
        "id": "_UdI-uncQxMe"
      }
    }
  ],
  "metadata": {
    "colab": {
      "provenance": [],
      "include_colab_link": true
    },
    "kernelspec": {
      "display_name": "Python 3",
      "name": "python3"
    }
  },
  "nbformat": 4,
  "nbformat_minor": 0
}