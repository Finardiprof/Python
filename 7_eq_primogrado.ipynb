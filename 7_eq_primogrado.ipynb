{
  "nbformat": 4,
  "nbformat_minor": 0,
  "metadata": {
    "colab": {
      "provenance": [],
      "toc_visible": true,
      "include_colab_link": true
    },
    "kernelspec": {
      "name": "python3",
      "display_name": "Python 3"
    },
    "language_info": {
      "name": "python"
    }
  },
  "cells": [
    {
      "cell_type": "markdown",
      "metadata": {
        "id": "view-in-github",
        "colab_type": "text"
      },
      "source": [
        "<a href=\"https://colab.research.google.com/github/Finardiprof/Python/blob/main/7_eq_primogrado.ipynb\" target=\"_parent\"><img src=\"https://colab.research.google.com/assets/colab-badge.svg\" alt=\"Open In Colab\"/></a>"
      ]
    },
    {
      "cell_type": "markdown",
      "metadata": {
        "id": "UD0P9zLs8Eaw"
      },
      "source": [
        "# Algoritmo per la soluzione di un'equazione di primo grado"
      ]
    },
    {
      "cell_type": "code",
      "metadata": {
        "id": "78d2kBO6789o"
      },
      "source": [
        "# Scrivi il codice qui"
      ],
      "execution_count": null,
      "outputs": []
    },
    {
      "cell_type": "markdown",
      "metadata": {
        "id": "DxyfQvg78K40"
      },
      "source": [
        "# Soluzione proposta"
      ]
    },
    {
      "cell_type": "code",
      "metadata": {
        "id": "Un3c00-t8UfE",
        "colab": {
          "base_uri": "https://localhost:8080/"
        },
        "outputId": "37fe610c-12b9-49de-da3d-4858f2727afa"
      },
      "source": [
        "# Soluzione Equazione di primo grado\n",
        "a = float(input(\"Inserisci il coefficiente di x: \"))\n",
        "b = float(input(\"Inserisci il termine noto:  \"))\n",
        "if a != 0:\n",
        "  print (\"x= \", b/a)\n",
        "  Tipo = \"determinata\"\n",
        "else:\n",
        "  if b == 0:\n",
        "    print (\"Soluzioni: R\")\n",
        "    Tipo = \"indeterminata\"\n",
        "  else:\n",
        "    print (\"non ci sono soluzioni\")\n",
        "    Tipo = \"impossibile\"\n",
        "print (\"l'equazione è:\", Tipo)"
      ],
      "execution_count": 1,
      "outputs": [
        {
          "output_type": "stream",
          "name": "stdout",
          "text": [
            "Inserisci il coefficiente di x: 10\n",
            "Inserisci il termine noto:  3\n",
            "x=  0.3\n",
            "l'equazione è: determinata\n"
          ]
        }
      ]
    }
  ]
}