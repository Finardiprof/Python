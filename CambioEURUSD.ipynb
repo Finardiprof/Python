{
  "nbformat": 4,
  "nbformat_minor": 0,
  "metadata": {
    "colab": {
      "provenance": [],
      "authorship_tag": "ABX9TyNqUFZx1jopTfGRW7vU5JJg",
      "include_colab_link": true
    },
    "kernelspec": {
      "name": "python3",
      "display_name": "Python 3"
    },
    "language_info": {
      "name": "python"
    }
  },
  "cells": [
    {
      "cell_type": "markdown",
      "metadata": {
        "id": "view-in-github",
        "colab_type": "text"
      },
      "source": [
        "<a href=\"https://colab.research.google.com/github/Finardiprof/Python/blob/main/CambioEURUSD.ipynb\" target=\"_parent\"><img src=\"https://colab.research.google.com/assets/colab-badge.svg\" alt=\"Open In Colab\"/></a>"
      ]
    },
    {
      "cell_type": "code",
      "execution_count": null,
      "metadata": {
        "id": "rZ298oIZr1ZK"
      },
      "outputs": [],
      "source": [
        "import yfinance as yf\n",
        "import pandas as pd\n",
        "import numpy as np\n",
        "import statistics as st\n",
        "\n",
        "Ticker = input('Inserisci il ticker per scaricare la serie storica: ')\n",
        "Tempo = input('Inserisci la durata della serie storica: ')\n",
        "\n",
        "Azione = yf.download(Ticker, period = Tempo)\n",
        "import matplotlib.pyplot as plt\n",
        "plt.plot(Azione.Close)\n",
        "plt.plot(Azione.High)\n",
        "plt.plot(Azione.Low)\n",
        "# Calcola le statistiche descrittive\n",
        "descriptive_statistics = Azione.Close.describe()\n",
        "\n",
        "# Stampare le statistiche descrittive\n",
        "print(descriptive_statistics)"
      ]
    }
  ]
}