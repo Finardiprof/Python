{
  "cells": [
    {
      "cell_type": "markdown",
      "metadata": {
        "id": "view-in-github",
        "colab_type": "text"
      },
      "source": [
        "<a href=\"https://colab.research.google.com/github/Finardiprof/Python/blob/main/3_espressioni_booleane_con_descrizione_ed_esempi.ipynb\" target=\"_parent\"><img src=\"https://colab.research.google.com/assets/colab-badge.svg\" alt=\"Open In Colab\"/></a>"
      ]
    },
    {
      "cell_type": "markdown",
      "source": [
        "In Python, un'espressione booleana è un'espressione che può avere solo due possibili risultati: True o False. Gli operatori booleani vengono utilizzati per combinare espressioni booleane per formare espressioni più complesse.\n",
        "\n",
        "**Descrizione**\n",
        "\n",
        "Le espressioni booleane sono utilizzate per verificare le condizioni e prendere decisioni nel codice Python. Ad esempio, possiamo utilizzare un'espressione booleana per verificare se un numero è maggiore di un altro, o se una stringa è uguale a un'altra.\n",
        "\n",
        "**Esempi**\n",
        "\n",
        "Ecco alcuni esempi di espressioni booleane in Python:\n",
        "\n",
        "* **Verifica se un numero è maggiore di 10:**"
      ],
      "metadata": {
        "id": "oSLFlgSS328S"
      }
    },
    {
      "cell_type": "code",
      "source": [
        "x = 15\n",
        "\n",
        "# True\n",
        "print(x > 10)\n",
        "\n",
        "# False\n",
        "print(x <= 10)"
      ],
      "outputs": [],
      "execution_count": null,
      "metadata": {
        "id": "s3uRSql6328X"
      }
    },
    {
      "cell_type": "markdown",
      "source": [
        "* **Verifica se una stringa è vuota:**"
      ],
      "metadata": {
        "id": "OFI7EtH1328Z"
      }
    },
    {
      "cell_type": "code",
      "source": [
        "s = \"\"\n",
        "\n",
        "# True\n",
        "print(s == \"\")\n",
        "\n",
        "# False\n",
        "print(s != \"\")"
      ],
      "outputs": [],
      "execution_count": null,
      "metadata": {
        "id": "qHwjB5O0328a"
      }
    },
    {
      "cell_type": "markdown",
      "source": [
        "* **Verifica se una lista è vuota:**"
      ],
      "metadata": {
        "id": "yeXPkZoU328a"
      }
    },
    {
      "cell_type": "code",
      "source": [
        "lista = []\n",
        "\n",
        "# True\n",
        "print(lista == [])\n",
        "\n",
        "# False\n",
        "print(lista != [])"
      ],
      "outputs": [],
      "execution_count": null,
      "metadata": {
        "id": "4FmOO8UY328b"
      }
    },
    {
      "cell_type": "markdown",
      "source": [
        "**Operatori booleani**\n",
        "\n",
        "Python supporta i seguenti operatori booleani:\n",
        "\n",
        "* **E (and)**: restituisce True se entrambe le espressioni sono vere.\n",
        "* **O (or)**: restituisce True se almeno una delle espressioni è vera.\n",
        "* **Non (not)**: restituisce il valore opposto dell'espressione.\n",
        "\n",
        "**Esempi**\n",
        "\n",
        "Ecco alcuni esempi di operatori booleani in Python:\n",
        "\n",
        "* **E (and)**:"
      ],
      "metadata": {
        "id": "oZKpmpVw328b"
      }
    },
    {
      "cell_type": "code",
      "source": [
        "x = 10\n",
        "y = 20\n",
        "\n",
        "# True\n",
        "print(x > 0 and y > 0)\n",
        "\n",
        "# False\n",
        "print(x < 0 and y < 0)"
      ],
      "outputs": [],
      "execution_count": null,
      "metadata": {
        "id": "UIyTWZv3328c"
      }
    },
    {
      "cell_type": "markdown",
      "source": [
        "* **O (or)**:"
      ],
      "metadata": {
        "id": "0L-qEBRX328d"
      }
    },
    {
      "cell_type": "code",
      "source": [
        "x = 10\n",
        "y = 20\n",
        "\n",
        "# True\n",
        "print(x > 0 or y > 0)\n",
        "\n",
        "# False\n",
        "print(x < 0 or y < 0)"
      ],
      "outputs": [],
      "execution_count": null,
      "metadata": {
        "id": "kpqLyQFv328e"
      }
    },
    {
      "cell_type": "markdown",
      "source": [
        "* **Non (not)**:"
      ],
      "metadata": {
        "id": "KnzaMFmp328f"
      }
    },
    {
      "cell_type": "code",
      "source": [
        "x = 10\n",
        "\n",
        "# False\n",
        "print(not x == 10)\n",
        "\n",
        "# True\n",
        "print(not x == 20)"
      ],
      "outputs": [],
      "execution_count": null,
      "metadata": {
        "id": "9ma8Lxm7328f"
      }
    },
    {
      "cell_type": "markdown",
      "source": [
        "**Confronto di espressioni booleane**\n",
        "\n",
        "Le espressioni booleane possono essere confrontate tra loro utilizzando gli operatori di uguaglianza `==`, `!=`, `>`, `<`, `>=` e `<==`.\n",
        "\n",
        "**Esempi**\n",
        "\n",
        "Ecco alcuni esempi di confronto di espressioni booleane in Python:\n",
        "\n",
        "* **Uguale (==)**:"
      ],
      "metadata": {
        "id": "pj7_oYw1328g"
      }
    },
    {
      "cell_type": "code",
      "source": [
        "x = 10\n",
        "y = 20\n",
        "\n",
        "# False\n",
        "print(x == y)\n",
        "\n",
        "# True\n",
        "print(x == 10)"
      ],
      "outputs": [],
      "execution_count": null,
      "metadata": {
        "id": "83DNEDeD328g"
      }
    },
    {
      "cell_type": "markdown",
      "source": [
        "* **Diverso (!=)**:"
      ],
      "metadata": {
        "id": "xo4ddiz8328h"
      }
    },
    {
      "cell_type": "code",
      "source": [
        "x = 10\n",
        "y = 20\n",
        "\n",
        "# True\n",
        "print(x != y)\n",
        "\n",
        "# False\n",
        "print(x != 10)"
      ],
      "outputs": [],
      "execution_count": null,
      "metadata": {
        "id": "qq1W0-ES328h"
      }
    },
    {
      "cell_type": "markdown",
      "source": [
        "* **Maggiore (>)**:"
      ],
      "metadata": {
        "id": "SEwdiX1f328h"
      }
    },
    {
      "cell_type": "code",
      "source": [
        "x = 10\n",
        "y = 20\n",
        "\n",
        "# False\n",
        "print(x > y)\n",
        "\n",
        "# True\n",
        "print(x > 5)"
      ],
      "outputs": [],
      "execution_count": null,
      "metadata": {
        "id": "BFRJSfta328h"
      }
    },
    {
      "cell_type": "markdown",
      "source": [
        "* **Minore (<)**:"
      ],
      "metadata": {
        "id": "JxJ4AGwD328i"
      }
    },
    {
      "cell_type": "code",
      "source": [
        "x = 10\n",
        "y = 20\n",
        "\n",
        "# True\n",
        "print(x < y)\n",
        "\n",
        "# False\n",
        "print(x < 5)"
      ],
      "outputs": [],
      "execution_count": null,
      "metadata": {
        "id": "g-K79UHP328i"
      }
    },
    {
      "cell_type": "markdown",
      "source": [
        "* **Maggiore o uguale (>=)**:"
      ],
      "metadata": {
        "id": "8NLfJWru328i"
      }
    },
    {
      "cell_type": "code",
      "source": [
        "x = 10\n",
        "y = 20\n",
        "\n",
        "# False\n",
        "print(x >= y)\n",
        "\n",
        "# True\n",
        "print(x >= 5)"
      ],
      "outputs": [],
      "execution_count": null,
      "metadata": {
        "id": "FXasTeSt328i"
      }
    },
    {
      "cell_type": "markdown",
      "source": [
        "* **Minore o uguale (<=)**:"
      ],
      "metadata": {
        "id": "c40-ebD9328j"
      }
    },
    {
      "cell_type": "code",
      "source": [
        "x = 10\n",
        "y = 20\n",
        "\n",
        "# True\n",
        "print(x <= y)\n",
        "\n",
        "# False\n",
        "print(x <= 5)"
      ],
      "outputs": [],
      "execution_count": null,
      "metadata": {
        "id": "nX8zwg-J328j"
      }
    },
    {
      "cell_type": "markdown",
      "source": [
        "**Conclusione**\n",
        "\n",
        "Le espressioni booleane sono un componente fondamentale del linguaggio Python. Vengono utilizzate per verificare le condizioni e prendere decisioni nel codice."
      ],
      "metadata": {
        "id": "Ln3e4j75328j"
      }
    }
  ],
  "metadata": {
    "colab": {
      "provenance": [],
      "include_colab_link": true
    },
    "kernelspec": {
      "display_name": "Python 3",
      "name": "python3"
    }
  },
  "nbformat": 4,
  "nbformat_minor": 0
}