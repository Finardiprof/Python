{
  "nbformat": 4,
  "nbformat_minor": 0,
  "metadata": {
    "colab": {
      "provenance": [],
      "authorship_tag": "ABX9TyPhcJ/oW3Wz7KxAmWP6IWtx",
      "include_colab_link": true
    },
    "kernelspec": {
      "name": "python3",
      "display_name": "Python 3"
    },
    "language_info": {
      "name": "python"
    }
  },
  "cells": [
    {
      "cell_type": "markdown",
      "metadata": {
        "id": "view-in-github",
        "colab_type": "text"
      },
      "source": [
        "<a href=\"https://colab.research.google.com/github/Finardiprof/Python/blob/main/Dizionari.ipynb\" target=\"_parent\"><img src=\"https://colab.research.google.com/assets/colab-badge.svg\" alt=\"Open In Colab\"/></a>"
      ]
    },
    {
      "cell_type": "code",
      "execution_count": 1,
      "metadata": {
        "colab": {
          "base_uri": "https://localhost:8080/"
        },
        "id": "55x_cc-Wr8jZ",
        "outputId": "a8aa3408-c090-4688-bea3-bbb8ab055d1c"
      },
      "outputs": [
        {
          "output_type": "stream",
          "name": "stdout",
          "text": [
            " Il dizionario contiene questi dati: \n",
            " {'A': 18, 'B': 27, 'L': 35, 'W': 40}\n",
            "\n",
            " l'età media è  30.0 anni\n"
          ]
        }
      ],
      "source": [
        "dizio={\"A\":18,\n",
        "     \"B\":27,\n",
        "     \"L\":35,\n",
        "     \"W\":40}\n",
        "print(\" Il dizionario contiene questi dati: \\n\",dizio)\n",
        "\n",
        "etamedia=sum(dizio.values())/len(dizio)\n",
        "\n",
        "print(\"\\n l'età media è \",etamedia,\"anni\")"
      ]
    },
    {
      "cell_type": "code",
      "source": [],
      "metadata": {
        "id": "Qzu0ZSIIsH0A"
      },
      "execution_count": null,
      "outputs": []
    }
  ]
}