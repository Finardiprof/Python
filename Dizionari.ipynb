{
  "nbformat": 4,
  "nbformat_minor": 0,
  "metadata": {
    "colab": {
      "provenance": [],
      "authorship_tag": "ABX9TyM3LspuN2jOg7R6i2+YDNS9",
      "include_colab_link": true
    },
    "kernelspec": {
      "name": "python3",
      "display_name": "Python 3"
    },
    "language_info": {
      "name": "python"
    }
  },
  "cells": [
    {
      "cell_type": "markdown",
      "metadata": {
        "id": "view-in-github",
        "colab_type": "text"
      },
      "source": [
        "<a href=\"https://colab.research.google.com/github/Finardiprof/Python/blob/main/Dizionari.ipynb\" target=\"_parent\"><img src=\"https://colab.research.google.com/assets/colab-badge.svg\" alt=\"Open In Colab\"/></a>"
      ]
    },
    {
      "cell_type": "code",
      "execution_count": null,
      "metadata": {
        "id": "55x_cc-Wr8jZ"
      },
      "outputs": [],
      "source": [
        "# es 24. pag. 46\n",
        "dizio={\"A\":18,\"B\":27,\"L\":35,\"W\":40}\n",
        "print(\" Il dizionario contiene questi dati: \\n\",dizio)\n",
        "\n",
        "etamedia=sum(dizio.values())/len(dizio)\n",
        "\n",
        "print(\"\\n l'età media è \",etamedia,\"anni\")"
      ]
    },
    {
      "cell_type": "code",
      "source": [],
      "metadata": {
        "id": "Qzu0ZSIIsH0A"
      },
      "execution_count": null,
      "outputs": []
    }
  ]
}