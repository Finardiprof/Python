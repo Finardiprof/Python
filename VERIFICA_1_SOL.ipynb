{
  "nbformat": 4,
  "nbformat_minor": 0,
  "metadata": {
    "colab": {
      "provenance": [],
      "authorship_tag": "ABX9TyMH50ctiWUR5PrDC0SkRrtg",
      "include_colab_link": true
    },
    "kernelspec": {
      "name": "python3",
      "display_name": "Python 3"
    },
    "language_info": {
      "name": "python"
    }
  },
  "cells": [
    {
      "cell_type": "markdown",
      "metadata": {
        "id": "view-in-github",
        "colab_type": "text"
      },
      "source": [
        "<a href=\"https://colab.research.google.com/github/Finardiprof/Python/blob/main/VERIFICA_1_SOL.ipynb\" target=\"_parent\"><img src=\"https://colab.research.google.com/assets/colab-badge.svg\" alt=\"Open In Colab\"/></a>"
      ]
    },
    {
      "cell_type": "markdown",
      "source": [
        "## Verifica (if, while e for)"
      ],
      "metadata": {
        "id": "63VIUP1TDXF3"
      }
    },
    {
      "cell_type": "markdown",
      "source": [
        "ESERCIZIO 1"
      ],
      "metadata": {
        "id": "F7ta7v1RD66n"
      }
    },
    {
      "cell_type": "code",
      "source": [
        "# Esercizio 1: Utilizzo dell'istruzione if\n",
        "# Completa/Modifica il codice per verificare se un numero è positivo, negativo o zero.\n",
        "\n",
        "numero = float(input(\"Inserisci un numero: \"))\n",
        "\n",
        "if numero > 0:\n",
        "    print(\"Il numero è positivo\")\n",
        "elif numero == 0:\n",
        "    print(\"Il numero è zero\")\n",
        "else:\n",
        "    print(\"Il numero è negativo\")"
      ],
      "metadata": {
        "id": "jgpm6lKeDfKR"
      },
      "execution_count": null,
      "outputs": []
    },
    {
      "cell_type": "markdown",
      "source": [
        "ESERCIZIO 2"
      ],
      "metadata": {
        "id": "Z3bmyp2ED_aO"
      }
    },
    {
      "cell_type": "code",
      "execution_count": null,
      "metadata": {
        "id": "wk592TxcCcfY"
      },
      "outputs": [],
      "source": [
        "# Esercizio 2: Utilizzo del ciclo while\n",
        "# Completa il codice per stampare i numeri pari da 1 a 10 utilizzando un ciclo while.\n",
        "\n",
        "n = 10\n",
        "print(\"Numeri pari da 1 a\", n)\n",
        "contatore = 1\n",
        "while contatore <= n:\n",
        "    if (contatore % 2 == 0):\n",
        "      print(contatore)\n",
        "    contatore += 1"
      ]
    },
    {
      "cell_type": "markdown",
      "source": [
        "ESERCIZIO 3"
      ],
      "metadata": {
        "id": "06yLyTB8EBZa"
      }
    },
    {
      "cell_type": "code",
      "source": [
        "# ESERCIZIO 3: Utilizzo del ciclo for\n",
        "# Completa il codice per stampare i quadrati dei numeri da 1 a 5 utilizzando un ciclo for.\n",
        "\n",
        "print(\"Quadrati dei numeri da 1 a 5:\")\n",
        "for i in range(1, 6):\n",
        "    quadrato = i ** 2\n",
        "    print(f\"Il quadrato di {i} è {quadrato}\")"
      ],
      "metadata": {
        "id": "WwG2PC9pEOme"
      },
      "execution_count": null,
      "outputs": []
    },
    {
      "cell_type": "markdown",
      "source": [
        "ESERCIZIO 4 (per il massimo dei voti)"
      ],
      "metadata": {
        "id": "771trkH8HF9D"
      }
    },
    {
      "cell_type": "markdown",
      "source": [
        "Crea un programma che chieda all'utente di impostare una password (diciamo che la password è \"password123\"). Quindi, chiedi all'utente di inserire la password. Se la password inserita corrisponde alla password preimpostata, stampare un messaggio di successo e terminare il programma. Se la password inserita non è corretta, consentire all'utente di riprovare, fino ad un massimo di 3 tentativi. Se l'utente supera i 3 tentativi, stampa un messaggio di errore e termina il programma."
      ],
      "metadata": {
        "id": "1qX91yc6fHAO"
      }
    },
    {
      "cell_type": "code",
      "source": [
        "# Inizializza la password\n",
        "preset_password = \"password123\"\n",
        "\n",
        "# inizializza le variabili\n",
        "Tentativi = 0\n",
        "max_tentativi = 3\n",
        "\n",
        "while Tentativi < max_tentativi:\n",
        "    password_inserita = input(\"Inserisci Password: \")\n",
        "\n",
        "    if password_inserita == preset_password:\n",
        "        print(\"Esatto! Hai inserito la password corretta.\")\n",
        "        break\n",
        "    elif password_inserita != preset_password:\n",
        "        print(\"Password errata. Riprova.\")\n",
        "        Tentativi += 1\n",
        "\n",
        "# Controlla se l'utente ha superato il numero massimo di tentativi\n",
        "if Tentativi == max_tentativi:\n",
        "    print(\"Hai superato il numero massimo di tentativi. Accesso negato.\")"
      ],
      "metadata": {
        "colab": {
          "base_uri": "https://localhost:8080/",
          "height": 391
        },
        "id": "Qe6EWnjLfFJR",
        "outputId": "6014162a-61e1-4024-e4b0-d9fe4f00d5d5"
      },
      "execution_count": 15,
      "outputs": [
        {
          "output_type": "error",
          "ename": "KeyboardInterrupt",
          "evalue": "ignored",
          "traceback": [
            "\u001b[0;31m---------------------------------------------------------------------------\u001b[0m",
            "\u001b[0;31mKeyboardInterrupt\u001b[0m                         Traceback (most recent call last)",
            "\u001b[0;32m<ipython-input-15-ef322ed4acf4>\u001b[0m in \u001b[0;36m<cell line: 8>\u001b[0;34m()\u001b[0m\n\u001b[1;32m      7\u001b[0m \u001b[0;34m\u001b[0m\u001b[0m\n\u001b[1;32m      8\u001b[0m \u001b[0;32mwhile\u001b[0m \u001b[0mTentativi\u001b[0m \u001b[0;34m<\u001b[0m \u001b[0mmax_tentativi\u001b[0m\u001b[0;34m:\u001b[0m\u001b[0;34m\u001b[0m\u001b[0;34m\u001b[0m\u001b[0m\n\u001b[0;32m----> 9\u001b[0;31m     \u001b[0mpassword_inserita\u001b[0m \u001b[0;34m=\u001b[0m \u001b[0minput\u001b[0m\u001b[0;34m(\u001b[0m\u001b[0;34m\"Inserisci Password: \"\u001b[0m\u001b[0;34m)\u001b[0m\u001b[0;34m\u001b[0m\u001b[0;34m\u001b[0m\u001b[0m\n\u001b[0m\u001b[1;32m     10\u001b[0m \u001b[0;34m\u001b[0m\u001b[0m\n\u001b[1;32m     11\u001b[0m     \u001b[0;32mif\u001b[0m \u001b[0mpassword_inserita\u001b[0m \u001b[0;34m==\u001b[0m \u001b[0mpreset_password\u001b[0m\u001b[0;34m:\u001b[0m\u001b[0;34m\u001b[0m\u001b[0;34m\u001b[0m\u001b[0m\n",
            "\u001b[0;32m/usr/local/lib/python3.10/dist-packages/ipykernel/kernelbase.py\u001b[0m in \u001b[0;36mraw_input\u001b[0;34m(self, prompt)\u001b[0m\n\u001b[1;32m    849\u001b[0m                 \u001b[0;34m\"raw_input was called, but this frontend does not support input requests.\"\u001b[0m\u001b[0;34m\u001b[0m\u001b[0;34m\u001b[0m\u001b[0m\n\u001b[1;32m    850\u001b[0m             )\n\u001b[0;32m--> 851\u001b[0;31m         return self._input_request(str(prompt),\n\u001b[0m\u001b[1;32m    852\u001b[0m             \u001b[0mself\u001b[0m\u001b[0;34m.\u001b[0m\u001b[0m_parent_ident\u001b[0m\u001b[0;34m,\u001b[0m\u001b[0;34m\u001b[0m\u001b[0;34m\u001b[0m\u001b[0m\n\u001b[1;32m    853\u001b[0m             \u001b[0mself\u001b[0m\u001b[0;34m.\u001b[0m\u001b[0m_parent_header\u001b[0m\u001b[0;34m,\u001b[0m\u001b[0;34m\u001b[0m\u001b[0;34m\u001b[0m\u001b[0m\n",
            "\u001b[0;32m/usr/local/lib/python3.10/dist-packages/ipykernel/kernelbase.py\u001b[0m in \u001b[0;36m_input_request\u001b[0;34m(self, prompt, ident, parent, password)\u001b[0m\n\u001b[1;32m    893\u001b[0m             \u001b[0;32mexcept\u001b[0m \u001b[0mKeyboardInterrupt\u001b[0m\u001b[0;34m:\u001b[0m\u001b[0;34m\u001b[0m\u001b[0;34m\u001b[0m\u001b[0m\n\u001b[1;32m    894\u001b[0m                 \u001b[0;31m# re-raise KeyboardInterrupt, to truncate traceback\u001b[0m\u001b[0;34m\u001b[0m\u001b[0;34m\u001b[0m\u001b[0m\n\u001b[0;32m--> 895\u001b[0;31m                 \u001b[0;32mraise\u001b[0m \u001b[0mKeyboardInterrupt\u001b[0m\u001b[0;34m(\u001b[0m\u001b[0;34m\"Interrupted by user\"\u001b[0m\u001b[0;34m)\u001b[0m \u001b[0;32mfrom\u001b[0m \u001b[0;32mNone\u001b[0m\u001b[0;34m\u001b[0m\u001b[0;34m\u001b[0m\u001b[0m\n\u001b[0m\u001b[1;32m    896\u001b[0m             \u001b[0;32mexcept\u001b[0m \u001b[0mException\u001b[0m \u001b[0;32mas\u001b[0m \u001b[0me\u001b[0m\u001b[0;34m:\u001b[0m\u001b[0;34m\u001b[0m\u001b[0;34m\u001b[0m\u001b[0m\n\u001b[1;32m    897\u001b[0m                 \u001b[0mself\u001b[0m\u001b[0;34m.\u001b[0m\u001b[0mlog\u001b[0m\u001b[0;34m.\u001b[0m\u001b[0mwarning\u001b[0m\u001b[0;34m(\u001b[0m\u001b[0;34m\"Invalid Message:\"\u001b[0m\u001b[0;34m,\u001b[0m \u001b[0mexc_info\u001b[0m\u001b[0;34m=\u001b[0m\u001b[0;32mTrue\u001b[0m\u001b[0;34m)\u001b[0m\u001b[0;34m\u001b[0m\u001b[0;34m\u001b[0m\u001b[0m\n",
            "\u001b[0;31mKeyboardInterrupt\u001b[0m: Interrupted by user"
          ]
        }
      ]
    }
  ]
}