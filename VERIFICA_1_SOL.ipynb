{
  "nbformat": 4,
  "nbformat_minor": 0,
  "metadata": {
    "colab": {
      "provenance": [],
      "authorship_tag": "ABX9TyNF7ip7YDZyKq7353RcJAHC",
      "include_colab_link": true
    },
    "kernelspec": {
      "name": "python3",
      "display_name": "Python 3"
    },
    "language_info": {
      "name": "python"
    }
  },
  "cells": [
    {
      "cell_type": "markdown",
      "metadata": {
        "id": "view-in-github",
        "colab_type": "text"
      },
      "source": [
        "<a href=\"https://colab.research.google.com/github/Finardiprof/Python/blob/main/VERIFICA_1_SOL.ipynb\" target=\"_parent\"><img src=\"https://colab.research.google.com/assets/colab-badge.svg\" alt=\"Open In Colab\"/></a>"
      ]
    },
    {
      "cell_type": "markdown",
      "source": [
        "## Verifica (if, while e for)"
      ],
      "metadata": {
        "id": "63VIUP1TDXF3"
      }
    },
    {
      "cell_type": "markdown",
      "source": [
        "ESERCIZIO 1"
      ],
      "metadata": {
        "id": "F7ta7v1RD66n"
      }
    },
    {
      "cell_type": "code",
      "source": [
        "# Esercizio 1: Utilizzo dell'istruzione if\n",
        "# Completa/Modifica il codice per verificare se un numero è positivo, negativo o zero.\n",
        "\n",
        "numero = float(input(\"Inserisci un numero: \"))\n",
        "\n",
        "if numero > 0:\n",
        "    print(\"Il numero è positivo\")\n",
        "elif numero == 0:\n",
        "    print(\"Il numero è zero\")\n",
        "else:\n",
        "    print(\"Il numero è negativo\")"
      ],
      "metadata": {
        "id": "jgpm6lKeDfKR"
      },
      "execution_count": null,
      "outputs": []
    },
    {
      "cell_type": "markdown",
      "source": [
        "ESERCIZIO 2"
      ],
      "metadata": {
        "id": "Z3bmyp2ED_aO"
      }
    },
    {
      "cell_type": "code",
      "execution_count": null,
      "metadata": {
        "id": "wk592TxcCcfY"
      },
      "outputs": [],
      "source": [
        "# Esercizio 2: Utilizzo del ciclo while\n",
        "# Completa il codice per stampare i numeri da 1 a 10 utilizzando un ciclo while.\n",
        "\n",
        "n = 10\n",
        "print(\"Numeri da 1 a\", n)\n",
        "contatore = 1\n",
        "while contatore <= n:\n",
        "    print(contatore)\n",
        "    contatore += 1"
      ]
    },
    {
      "cell_type": "markdown",
      "source": [
        "ESERCIZIO 3"
      ],
      "metadata": {
        "id": "06yLyTB8EBZa"
      }
    },
    {
      "cell_type": "code",
      "source": [
        "# ESERCIZIO 3: Utilizzo del ciclo for\n",
        "# Completa il codice per stampare i quadrati dei numeri da 1 a 5 utilizzando un ciclo for.\n",
        "\n",
        "print(\"Quadrati dei numeri da 1 a 5:\")\n",
        "for i in range(1, 6):\n",
        "    quadrato = i ** 2\n",
        "    print(f\"Il quadrato di {i} è {quadrato}\")"
      ],
      "metadata": {
        "id": "WwG2PC9pEOme"
      },
      "execution_count": null,
      "outputs": []
    },
    {
      "cell_type": "markdown",
      "source": [
        "ESERCIZIO 4 (per il massimo dei voti)"
      ],
      "metadata": {
        "id": "771trkH8HF9D"
      }
    },
    {
      "cell_type": "markdown",
      "source": [
        "Crea un programma che chieda all'utente di impostare una password (diciamo che la password è \"password123\"). Quindi, chiedi all'utente di inserire la password. Se la password inserita corrisponde alla password preimpostata, stampare un messaggio di successo e terminare il programma. Se la password inserita non è corretta, consentire all'utente di riprovare, fino ad un massimo di 3 tentativi. Se l'utente supera i 3 tentativi, stampa un messaggio di errore e termina il programma."
      ],
      "metadata": {
        "id": "1qX91yc6fHAO"
      }
    },
    {
      "cell_type": "code",
      "source": [
        "# Set the preset password\n",
        "preset_password = \"password123\"\n",
        "\n",
        "# Initialize variables\n",
        "attempts = 0\n",
        "max_attempts = 3\n",
        "\n",
        "# Implement password verification\n",
        "while attempts < max_attempts:\n",
        "    entered_password = input(\"Enter the password: \")\n",
        "\n",
        "    if entered_password == preset_password:\n",
        "        print(\"Success! You entered the correct password.\")\n",
        "        break  # End the program after successful login\n",
        "\n",
        "    else:\n",
        "        print(\"Incorrect password. Try again.\")\n",
        "        attempts += 1\n",
        "\n",
        "# Check if the user exceeded the maximum attempts\n",
        "if attempts == max_attempts:\n",
        "    print(\"You've exceeded the maximum number of attempts. Access denied.\")\n"
      ],
      "metadata": {
        "id": "Qe6EWnjLfFJR"
      },
      "execution_count": null,
      "outputs": []
    }
  ]
}