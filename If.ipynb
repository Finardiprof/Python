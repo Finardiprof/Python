{
  "cells": [
    {
      "cell_type": "markdown",
      "metadata": {
        "id": "view-in-github",
        "colab_type": "text"
      },
      "source": [
        "<a href=\"https://colab.research.google.com/github/Finardiprof/Python/blob/main/If.ipynb\" target=\"_parent\"><img src=\"https://colab.research.google.com/assets/colab-badge.svg\" alt=\"Open In Colab\"/></a>"
      ]
    },
    {
      "cell_type": "markdown",
      "source": [
        "## Istruzione if\n",
        "\n",
        "**Introduzione**\n",
        "\n",
        "L'istruzione if è una delle istruzioni più importanti in Python. Viene utilizzata per controllare il flusso di un programma, eseguendo o meno un blocco di codice a seconda del valore di una condizione.\n",
        "\n",
        "**Sintassi**\n",
        "\n",
        "La sintassi dell'istruzione if è la seguente:"
      ],
      "metadata": {
        "id": "tn0LWvK-9jwh"
      }
    },
    {
      "cell_type": "code",
      "source": [
        "if condizione:\n",
        "  blocco_di_codice"
      ],
      "outputs": [],
      "execution_count": null,
      "metadata": {
        "id": "n5tOsEjV9jwl"
      }
    },
    {
      "cell_type": "markdown",
      "source": [
        "Se la condizione è vera, il blocco di codice viene eseguito. Se la condizione è falsa, il blocco di codice viene saltato.\n",
        "\n",
        "**Esempi**\n",
        "\n",
        "Ecco alcuni esempi di istruzioni if:"
      ],
      "metadata": {
        "id": "WK6yDI7z9jwn"
      }
    },
    {
      "cell_type": "code",
      "source": [
        "# Verifica se un numero è maggiore di 10\n",
        "numero = 11\n",
        "if numero > 10:\n",
        "  print(\"Il numero è maggiore di 10\")\n",
        "\n",
        "# Verifica se una stringa è uguale a \"ciao\"\n",
        "stringa = \"ciao\"\n",
        "if stringa == \"ciao\":\n",
        "  print(\"La stringa è uguale a 'ciao'\")\n",
        "\n",
        "# Verifica se un utente è maggiore di età\n",
        "età = 18\n",
        "if età >= 18:\n",
        "  print(\"L'utente è maggiorenne\")"
      ],
      "outputs": [],
      "execution_count": null,
      "metadata": {
        "id": "eITzkhIS9jwo"
      }
    },
    {
      "cell_type": "markdown",
      "source": [
        "**Condizione**\n",
        "\n",
        "La condizione può essere qualsiasi espressione che restituisce un valore booleano, ovvero True o False.\n",
        "\n",
        "Ecco alcuni esempi di condizioni:\n",
        "\n",
        "* Una uguaglianza: `numero == 10`\n",
        "* Una ineguaglianza: `numero < 10`\n",
        "* Un'espressione logica: `numero > 10 and numero < 20`\n",
        "* Una funzione che restituisce un valore booleano: `is_maggiorenne(età)`\n",
        "\n",
        "**Blocco di codice**\n",
        "\n",
        "Il blocco di codice è un gruppo di istruzioni che vengono eseguite se la condizione è vera. Il blocco di codice deve essere racchiuso tra graffe.\n",
        "\n",
        "Ecco alcuni esempi di blocchi di codice:"
      ],
      "metadata": {
        "id": "_xLaqs3J9jwp"
      }
    },
    {
      "cell_type": "code",
      "source": [
        "# Blocco di codice con un'unica istruzione\n",
        "if numero > 10:\n",
        "  print(\"Il numero è maggiore di 10\")\n",
        "\n",
        "# Blocco di codice con più istruzioni\n",
        "if numero > 10:\n",
        "  print(\"Il numero è maggiore di 10\")\n",
        "  print(\"Il numero è minore di 20\")"
      ],
      "outputs": [],
      "execution_count": null,
      "metadata": {
        "id": "LZeur9zw9jwq"
      }
    },
    {
      "cell_type": "markdown",
      "source": [
        "**Else**\n",
        "\n",
        "L'istruzione else può essere utilizzata per eseguire un blocco di codice se la condizione è falsa.\n",
        "\n",
        "La sintassi dell'istruzione else è la seguente:"
      ],
      "metadata": {
        "id": "I8_y4fyr9jwq"
      }
    },
    {
      "cell_type": "code",
      "source": [
        "if condizione:\n",
        "  blocco_di_codice\n",
        "else:\n",
        "  blocco_di_codice_alternativo"
      ],
      "outputs": [],
      "execution_count": null,
      "metadata": {
        "id": "a4TMRgkf9jwr"
      }
    },
    {
      "cell_type": "markdown",
      "source": [
        "Ecco un esempio di istruzione else:"
      ],
      "metadata": {
        "id": "UKUUYBWX9jwr"
      }
    },
    {
      "cell_type": "code",
      "source": [
        "# Verifica se un numero è maggiore di 10\n",
        "numero = 9\n",
        "if numero > 10:\n",
        "  print(\"Il numero è maggiore di 10\")\n",
        "else:\n",
        "  print(\"Il numero è minore o uguale a 10\")"
      ],
      "outputs": [],
      "execution_count": null,
      "metadata": {
        "id": "KaTqldJY9jws"
      }
    },
    {
      "cell_type": "markdown",
      "source": [
        "**Elif**\n",
        "\n",
        "L'istruzione elif può essere utilizzata per eseguire un blocco di codice se la condizione è vera e la condizione precedente è falsa.\n",
        "\n",
        "La sintassi dell'istruzione elif è la seguente:"
      ],
      "metadata": {
        "id": "qIx316FB9jwt"
      }
    },
    {
      "cell_type": "code",
      "source": [
        "if condizione1:\n",
        "  blocco_di_codice1\n",
        "elif condizione2:\n",
        "  blocco_di_codice2"
      ],
      "outputs": [],
      "execution_count": null,
      "metadata": {
        "id": "B8KeqWDb9jwt"
      }
    },
    {
      "cell_type": "markdown",
      "source": [
        "Ecco un esempio di istruzione elif:"
      ],
      "metadata": {
        "id": "ykO72lLt9jwu"
      }
    },
    {
      "cell_type": "code",
      "source": [
        "# Verifica se un numero è maggiore di 10, minore di 5 o uguale a 10\n",
        "numero = 10\n",
        "if numero > 10:\n",
        "  print(\"Il numero è maggiore di 10\")\n",
        "elif numero < 5:\n",
        "  print(\"Il numero è minore di 5\")\n",
        "else:\n",
        "  print(\"Il numero è uguale a 10\")"
      ],
      "outputs": [],
      "execution_count": null,
      "metadata": {
        "id": "cEH86K6b9jwu"
      }
    },
    {
      "cell_type": "markdown",
      "source": [
        "**Esercizio**\n",
        "\n",
        "Scrivi un programma in Python che verifica se un numero è positivo, negativo o nullo.\n",
        "\n",
        "**Risposta**"
      ],
      "metadata": {
        "id": "GfF6eRjv9jwv"
      }
    },
    {
      "cell_type": "code",
      "source": [
        "numero = float(input(\"Inserisci un numero: \"))\n",
        "\n",
        "if numero > 0:\n",
        "  print(\"Il numero è positivo\")\n",
        "elif numero < 0:\n",
        "  print(\"Il numero è negativo\")\n",
        "else:\n",
        "  print(\"Il numero è nullo\")"
      ],
      "outputs": [],
      "execution_count": null,
      "metadata": {
        "id": "taCepYGu9jwv"
      }
    },
    {
      "cell_type": "markdown",
      "source": [
        "**Conclusione**\n",
        "\n",
        "L'istruzione if è un'istruzione fondamentale in Python. Viene utilizzata per controllare il flusso di un programma, eseguendo o meno un blocco di codice a seconda del valore di una condizione."
      ],
      "metadata": {
        "id": "H2A7lUJe9jwv"
      }
    }
  ],
  "metadata": {
    "colab": {
      "provenance": [],
      "include_colab_link": true
    },
    "kernelspec": {
      "display_name": "Python 3",
      "name": "python3"
    }
  },
  "nbformat": 4,
  "nbformat_minor": 0
}