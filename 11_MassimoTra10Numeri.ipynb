{
  "nbformat": 4,
  "nbformat_minor": 0,
  "metadata": {
    "colab": {
      "provenance": [],
      "toc_visible": true,
      "include_colab_link": true
    },
    "kernelspec": {
      "name": "python3",
      "display_name": "Python 3"
    },
    "language_info": {
      "name": "python"
    }
  },
  "cells": [
    {
      "cell_type": "markdown",
      "metadata": {
        "id": "view-in-github",
        "colab_type": "text"
      },
      "source": [
        "<a href=\"https://colab.research.google.com/github/Finardiprof/Python/blob/main/11_MassimoTra10Numeri.ipynb\" target=\"_parent\"><img src=\"https://colab.research.google.com/assets/colab-badge.svg\" alt=\"Open In Colab\"/></a>"
      ]
    },
    {
      "cell_type": "markdown",
      "metadata": {
        "id": "cgNlzXpouV_b"
      },
      "source": [
        "# Massimo tra 10 numeri\n",
        "Inseriti 10 numeri da tastiera, determinarne il massimo"
      ]
    },
    {
      "cell_type": "code",
      "metadata": {
        "id": "5dC5Nv5AuR2R"
      },
      "source": [
        "#Scrivi il codice qui"
      ],
      "execution_count": null,
      "outputs": []
    },
    {
      "cell_type": "markdown",
      "metadata": {
        "id": "3ITbTm5nvbCo"
      },
      "source": [
        "# Massimo tra n numeri\n",
        "Chiedere quanti numeri si vogliono considerare (n) e quindi, dopo averli acquisiti da tastiera, determinarne il massimo"
      ]
    },
    {
      "cell_type": "code",
      "metadata": {
        "id": "QXtc-cyOv3Rw"
      },
      "source": [
        "#Scrivi il codice qui"
      ],
      "execution_count": null,
      "outputs": []
    },
    {
      "cell_type": "markdown",
      "metadata": {
        "id": "ilT54vAGudii"
      },
      "source": [
        "# Soluzioni proposte"
      ]
    },
    {
      "cell_type": "code",
      "metadata": {
        "id": "HdY8rN2auhIZ"
      },
      "source": [
        "# Massimo tra 10 numeri\n",
        "Cont = 1\n",
        "Max = float(input(\"Inserisci un numero: \"))\n",
        "while Cont < 10:\n",
        "  a = float(input(\"Inserisci un numero: \"))\n",
        "  if a > Max:\n",
        "    Max = a\n",
        "  Cont = Cont + 1\n",
        "print (\"il massimo è: \", Max)\n",
        "\n"
      ],
      "execution_count": null,
      "outputs": []
    },
    {
      "cell_type": "code",
      "metadata": {
        "id": "udjf-1wFv5MK"
      },
      "source": [
        "# Massimo tra n numeri\n",
        "Cont = 1\n",
        "n = int(input(\"Quanti numeri vuoi inserire? \"))\n",
        "Max = float(input(\"Inserisci un numero: \"))\n",
        "while Cont < n:\n",
        "  a = float(input(\"Inserisci un numero: \"))\n",
        "  if a > Max:\n",
        "    Max = a\n",
        "  Cont = Cont + 1\n",
        "print (\"il massimo è: \", Max)\n",
        "\n"
      ],
      "execution_count": null,
      "outputs": []
    }
  ]
}