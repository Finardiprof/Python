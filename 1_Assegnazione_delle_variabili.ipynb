{
  "cells": [
    {
      "cell_type": "markdown",
      "metadata": {
        "id": "view-in-github",
        "colab_type": "text"
      },
      "source": [
        "<a href=\"https://colab.research.google.com/github/Finardiprof/Python/blob/main/1_Assegnazione_delle_variabili.ipynb\" target=\"_parent\"><img src=\"https://colab.research.google.com/assets/colab-badge.svg\" alt=\"Open In Colab\"/></a>"
      ]
    },
    {
      "cell_type": "markdown",
      "source": [
        "##Sintassi e assegnazione delle variabili\n",
        "\n",
        "**Introduzione**\n",
        "\n",
        "In Python, le variabili sono contenitori che possono contenere qualsiasi tipo di dato, come numeri, stringhe, liste, dizionari, ecc. Per assegnare un valore a una variabile, si utilizza il simbolo di assegnazione `=`.\n",
        "\n",
        "**Sintassi**\n",
        "\n",
        "La sintassi per l'assegnazione di una variabile è la seguente:"
      ],
      "metadata": {
        "id": "EPcmH_qYzjR7"
      }
    },
    {
      "cell_type": "code",
      "source": [
        "variabile = valore"
      ],
      "outputs": [],
      "execution_count": null,
      "metadata": {
        "id": "i4ribTPtzjSE"
      }
    },
    {
      "cell_type": "markdown",
      "source": [
        "Ad esempio, per assegnare il valore `10` alla variabile `x`, si utilizzerebbe la seguente sintassi:"
      ],
      "metadata": {
        "id": "zzyV48AYzjSH"
      }
    },
    {
      "cell_type": "code",
      "source": [
        "x = 10"
      ],
      "outputs": [],
      "execution_count": null,
      "metadata": {
        "id": "5a2Y4N3pzjSI"
      }
    },
    {
      "cell_type": "markdown",
      "source": [
        "**Esercizio 1**\n",
        "\n",
        "Assegnare alla variabile `y` il valore `\"Hello, Universe!\"`.\n",
        "\n",
        "**Soluzione**"
      ],
      "metadata": {
        "id": "KZNsM1KwzjSJ"
      }
    },
    {
      "cell_type": "code",
      "source": [
        "y = \"Hello, Universe!\""
      ],
      "outputs": [],
      "execution_count": null,
      "metadata": {
        "id": "o8dgDip8zjSJ"
      }
    },
    {
      "cell_type": "markdown",
      "source": [
        "**Esercizio 2**\n",
        "\n",
        "Assegnare alla variabile `z` una lista di numeri, come `[1, 2, 3, 4, 5]`.\n",
        "\n",
        "**Soluzione**"
      ],
      "metadata": {
        "id": "KrbFowHMzjSK"
      }
    },
    {
      "cell_type": "code",
      "source": [
        "z = [1, 2, 3, 4, 5]"
      ],
      "outputs": [],
      "execution_count": null,
      "metadata": {
        "id": "TGdAXsj8zjSL"
      }
    },
    {
      "cell_type": "markdown",
      "source": [
        "**Esercizio 3**\n",
        "\n",
        "Assegnare alla variabile `a` un dizionario, come `{\"nome\": \"Mario\", \"cognome\": \"Rossi\"}`.\n",
        "\n",
        "**Soluzione**"
      ],
      "metadata": {
        "id": "qeeLv_mhzjSM"
      }
    },
    {
      "cell_type": "code",
      "source": [
        "a = {\"nome\": \"Mario\", \"cognome\": \"Rossi\"}"
      ],
      "outputs": [],
      "execution_count": null,
      "metadata": {
        "id": "5UlehVv0zjSN"
      }
    },
    {
      "cell_type": "markdown",
      "source": [
        "**Tipi di dati**\n",
        "\n",
        "Le variabili possono contenere qualsiasi tipo di dato. I tipi di dati più comuni in Python sono:\n",
        "\n",
        "* **Numeri**\n",
        "    * `int`: interi\n",
        "    * `float`: numeri in virgola mobile\n",
        "    * `complex`: numeri complessi\n",
        "* **Stringhe**\n",
        "    * `str`: sequenze di caratteri\n",
        "* **Liste**\n",
        "    * `list`: sequenze di oggetti\n",
        "* **Dizionari**\n",
        "    * `dict`: associazioni tra chiavi e valori\n",
        "* **Tutte le altre strutture dati**\n",
        "    * `tuple`: sequenze immutabili\n",
        "    * `set`: insiemi\n",
        "    * `frozenset`: insiemi immutabili\n",
        "\n",
        "**Esercizio 4**\n",
        "\n",
        "Assegnare alla variabile `b` un numero intero.\n",
        "\n",
        "**Soluzione**"
      ],
      "metadata": {
        "id": "lFQamgeQzjSN"
      }
    },
    {
      "cell_type": "code",
      "source": [
        "b = 10"
      ],
      "outputs": [],
      "execution_count": null,
      "metadata": {
        "id": "P62CONaKzjSO"
      }
    },
    {
      "cell_type": "markdown",
      "source": [
        "**Esercizio 5**\n",
        "\n",
        "Assegnare alla variabile `c` una stringa.\n",
        "\n",
        "**Soluzione**"
      ],
      "metadata": {
        "id": "PI2xnNGHzjSO"
      }
    },
    {
      "cell_type": "code",
      "source": [
        "c = \"LSQ1!\""
      ],
      "outputs": [],
      "execution_count": null,
      "metadata": {
        "id": "KChuKE8UzjSP"
      }
    },
    {
      "cell_type": "markdown",
      "source": [
        "**Esercizio 6**\n",
        "\n",
        "Assegnare alla variabile `d` una lista di numeri.\n",
        "\n",
        "**Soluzione**"
      ],
      "metadata": {
        "id": "kbHSRc89zjSP"
      }
    },
    {
      "cell_type": "code",
      "source": [
        "d = [1, 2, 3, 4, 5]"
      ],
      "outputs": [],
      "execution_count": null,
      "metadata": {
        "id": "AfxsSpBIzjSP"
      }
    },
    {
      "cell_type": "markdown",
      "source": [
        "**Esercizio 7**\n",
        "\n",
        "Assegnare alla variabile `e` un dizionario.\n",
        "\n",
        "**Soluzione**"
      ],
      "metadata": {
        "id": "okpjI9uOzjSQ"
      }
    },
    {
      "cell_type": "code",
      "source": [
        "e = {\"nome\": \"Mario\", \"cognome\": \"Rossi\"}"
      ],
      "outputs": [],
      "execution_count": null,
      "metadata": {
        "id": "VNiCVe9jzjSQ"
      }
    },
    {
      "cell_type": "markdown",
      "source": [
        "**Conclusione**\n",
        "\n",
        "In questo file Colab abbiamo visto la sintassi e l'assegnazione delle variabili in Python. Abbiamo anche visto i diversi tipi di dati che possono essere assegnati a una variabile."
      ],
      "metadata": {
        "id": "cCT3a7gSzjSQ"
      }
    },
    {
      "cell_type": "markdown",
      "source": [
        "## Limitazioni sui nomi delle variabili"
      ],
      "metadata": {
        "id": "ob4Kp7su0nLI"
      }
    },
    {
      "cell_type": "markdown",
      "source": [
        "Ecco alcuni esempi sulle limitazioni di utilizzo del nome delle variabili in Python:\n",
        "\n",
        "* **I nomi delle variabili non possono iniziare con un numero.**"
      ],
      "metadata": {
        "id": "NQtRPrkN0c8H"
      }
    },
    {
      "cell_type": "code",
      "source": [
        "# Errore: il nome della variabile deve iniziare con una lettera\n",
        "1x = 10"
      ],
      "outputs": [],
      "execution_count": null,
      "metadata": {
        "id": "aL03QHZz0c8N"
      }
    },
    {
      "cell_type": "markdown",
      "source": [
        "* **I nomi delle variabili non possono essere uguali alle parole riservate del linguaggio Python.**"
      ],
      "metadata": {
        "id": "zpVmrQx60c8P"
      }
    },
    {
      "cell_type": "code",
      "source": [
        "# Errore: il nome della variabile è una parola riservata\n",
        "def = 10\n",
        "print = 7\n",
        "input = 3"
      ],
      "outputs": [],
      "execution_count": null,
      "metadata": {
        "id": "lvBaBg5v0c8Q"
      }
    },
    {
      "cell_type": "markdown",
      "source": [
        "* **I nomi delle variabili sono case sensitive.**"
      ],
      "metadata": {
        "id": "Lel6Ru5F0c8Q"
      }
    },
    {
      "cell_type": "code",
      "source": [
        "# x e X sono due variabili diverse\n",
        "x = 10\n",
        "X = 20"
      ],
      "outputs": [],
      "execution_count": null,
      "metadata": {
        "id": "bgIERAmJ0c8R"
      }
    },
    {
      "cell_type": "markdown",
      "source": [
        "* **I nomi delle variabili non possono essere troppo lunghi.**\n",
        "\n",
        "In Python 3, la lunghezza massima di un nome di variabile è di 127 caratteri.\n",
        "\n",
        "* **I nomi delle variabili non possono contenere spazi.**"
      ],
      "metadata": {
        "id": "ym78NJGS0c8R"
      }
    },
    {
      "cell_type": "code",
      "source": [
        "# Errore: il nome della variabile non può contenere spazi\n",
        "nome variabile = 10"
      ],
      "outputs": [],
      "execution_count": null,
      "metadata": {
        "id": "fEP_VbKA0c8R"
      }
    },
    {
      "cell_type": "markdown",
      "source": [
        "* **I nomi delle variabili non possono contenere caratteri non ASCII.**"
      ],
      "metadata": {
        "id": "3jjEfMYt0c8S"
      }
    },
    {
      "cell_type": "code",
      "source": [
        "# Errore: il nome della variabile contiene un carattere non ASCII\n",
        "nome ä variabile = 10"
      ],
      "outputs": [],
      "execution_count": null,
      "metadata": {
        "id": "4H4KeIrd0c8T"
      }
    },
    {
      "cell_type": "markdown",
      "source": [
        "Ecco alcuni esempi di nomi di variabili validi in Python:\n",
        "\n",
        "* `x`\n",
        "* `y`\n",
        "* `nome`\n",
        "* `cognome`\n",
        "* `età`\n",
        "* `data_di_nascita`\n",
        "* `lista_di_numeri`\n",
        "* `dizionario_di_parole`\n",
        "\n",
        "È importante seguire queste limitazioni per evitare errori di sintassi e per rendere il proprio codice Python più leggibile e comprensibile."
      ],
      "metadata": {
        "id": "8OEz6_-b0c8U"
      }
    }
  ],
  "metadata": {
    "colab": {
      "provenance": [],
      "include_colab_link": true
    },
    "kernelspec": {
      "display_name": "Python 3",
      "name": "python3"
    }
  },
  "nbformat": 4,
  "nbformat_minor": 0
}