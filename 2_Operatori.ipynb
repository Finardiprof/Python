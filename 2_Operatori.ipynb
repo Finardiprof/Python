{
  "nbformat": 4,
  "nbformat_minor": 0,
  "metadata": {
    "colab": {
      "provenance": [],
      "toc_visible": true,
      "include_colab_link": true
    },
    "kernelspec": {
      "name": "python3",
      "display_name": "Python 3"
    },
    "language_info": {
      "name": "python"
    }
  },
  "cells": [
    {
      "cell_type": "markdown",
      "metadata": {
        "id": "view-in-github",
        "colab_type": "text"
      },
      "source": [
        "<a href=\"https://colab.research.google.com/github/Finardiprof/Python/blob/main/2_Operatori.ipynb\" target=\"_parent\"><img src=\"https://colab.research.google.com/assets/colab-badge.svg\" alt=\"Open In Colab\"/></a>"
      ]
    },
    {
      "cell_type": "markdown",
      "metadata": {
        "id": "VV6VH7ZdCdLe"
      },
      "source": [
        "# Utilizzo degli operatori\n",
        "Senza utilizzare variabili, visualizzare la somma, la differenza, il prodotto e il quoziente di due numeri, di cui uno intero negativo e uno decimale"
      ]
    },
    {
      "cell_type": "code",
      "metadata": {
        "id": "Bmrt-1GES3Hv"
      },
      "source": [
        "#Scrivi il codice qui"
      ],
      "execution_count": null,
      "outputs": []
    },
    {
      "cell_type": "markdown",
      "metadata": {
        "id": "1WsudRZxDqxD"
      },
      "source": [
        "Senza utilizzare variabili, visualizzare la divisione intera tra due numeri naturali"
      ]
    },
    {
      "cell_type": "code",
      "metadata": {
        "id": "VEcP6Y8QDyXW"
      },
      "source": [
        "#Scrivi il codice qui"
      ],
      "execution_count": null,
      "outputs": []
    },
    {
      "cell_type": "markdown",
      "metadata": {
        "id": "H0fy3QklD_mK"
      },
      "source": [
        "\n",
        "Senza utilizzare variabili, visualizzare la il resto della divisione tra due numeri naturali\n",
        "\n"
      ]
    },
    {
      "cell_type": "code",
      "metadata": {
        "id": "xy1BN-XvD-lJ"
      },
      "source": [
        "#Scrivi il codice qui"
      ],
      "execution_count": null,
      "outputs": []
    },
    {
      "cell_type": "markdown",
      "metadata": {
        "id": "uknM2z4pFS7I"
      },
      "source": [
        "Senza utilizzare variabili, visualizzare la potenza quarta di un numer0 naturale"
      ]
    },
    {
      "cell_type": "code",
      "metadata": {
        "id": "tvXPtz-UFfql"
      },
      "source": [
        "#Scrivi il codice qui"
      ],
      "execution_count": null,
      "outputs": []
    },
    {
      "cell_type": "markdown",
      "metadata": {
        "id": "xIjnOiFMSe9c"
      },
      "source": [
        "# Operatori e parentesi\n",
        "Senza utilizzare variabili, visualizzare la media tra quattro numeri naturali"
      ]
    },
    {
      "cell_type": "code",
      "metadata": {
        "id": "BkA_Bvz_DDnc"
      },
      "source": [
        "#Scrivi il codice qui"
      ],
      "execution_count": null,
      "outputs": []
    },
    {
      "cell_type": "markdown",
      "metadata": {
        "id": "BJqXbjqtEhz_"
      },
      "source": [
        "# Operatori e Stringhe\n",
        "Provare a utilizzare gli operatori su stringhe (invece che su numeri). Per esempio sul proprio nome: Anna*3"
      ]
    },
    {
      "cell_type": "code",
      "metadata": {
        "id": "PgmIQPN4FBjH"
      },
      "source": [
        "#Scrivi il codice qui"
      ],
      "execution_count": null,
      "outputs": []
    },
    {
      "cell_type": "markdown",
      "metadata": {
        "id": "CjsNKHeuDIQs"
      },
      "source": [
        "# Soluzioni\n"
      ]
    },
    {
      "cell_type": "code",
      "metadata": {
        "id": "vVrNt4RqDPX8"
      },
      "source": [
        "#Utilizzo degli operatori\n",
        "print (-3+5.7)\n",
        "print (-3-5.7)\n",
        "print (-3*5.7)\n",
        "print (-3/5.7)"
      ],
      "execution_count": null,
      "outputs": []
    },
    {
      "cell_type": "code",
      "metadata": {
        "id": "FyBGmBDQD3BE"
      },
      "source": [
        "print (7//2)"
      ],
      "execution_count": null,
      "outputs": []
    },
    {
      "cell_type": "code",
      "metadata": {
        "id": "_Y4kx38vEU9y"
      },
      "source": [
        "print (7%2)"
      ],
      "execution_count": null,
      "outputs": []
    },
    {
      "cell_type": "code",
      "metadata": {
        "id": "3rXl98miFiu2"
      },
      "source": [
        "print (6**4)"
      ],
      "execution_count": null,
      "outputs": []
    },
    {
      "cell_type": "code",
      "metadata": {
        "id": "iYCiF2IrTK_O"
      },
      "source": [
        "#Operatori e parentesi\n",
        "print ((3+4+5+9)/4)"
      ],
      "execution_count": null,
      "outputs": []
    },
    {
      "cell_type": "code",
      "metadata": {
        "id": "9l3CiYruFGcX"
      },
      "source": [
        "#Operatori e Stringhe\n",
        "print ('Anna'*3)"
      ],
      "execution_count": null,
      "outputs": []
    },
    {
      "cell_type": "markdown",
      "metadata": {
        "id": "8IX7cLB3TpRP"
      },
      "source": [
        "# Le stesse operazioni utlizzando opportune Variabili\n",
        "Scrivere una sequenza di istruzioni che permetta di ottenere gli stessi risultati ottenuti nelle sezioni precedenti, utilizzando opportune variabili di appoggio per i numeri o le strighe"
      ]
    },
    {
      "cell_type": "code",
      "metadata": {
        "id": "nz80I-qcUYcJ"
      },
      "source": [
        "#Scrivi il codice qui"
      ],
      "execution_count": null,
      "outputs": []
    },
    {
      "cell_type": "markdown",
      "metadata": {
        "id": "nu5_t6V_VxNO"
      },
      "source": [
        "# Soluzioni proposte\n",
        "Confrontare le diverse soluzioni proposte"
      ]
    },
    {
      "cell_type": "code",
      "metadata": {
        "id": "vsgK3T-0V7dP"
      },
      "source": [
        "# Soluzione 1\n",
        "a=37\n",
        "b=4\n",
        "esp = 4\n",
        "Nome = 'Anna'\n",
        "nvolte=3\n",
        "print (a+b)\n",
        "print (a-b)\n",
        "print (a*b)\n",
        "print (a/b)\n",
        "print (a//b)\n",
        "print (a%b)\n",
        "print (a**esp)\n",
        "print (Nome*nvolte)"
      ],
      "execution_count": null,
      "outputs": []
    },
    {
      "cell_type": "code",
      "metadata": {
        "id": "ShyqggeVWMYR"
      },
      "source": [
        "# Soluzione 2\n",
        "a=37\n",
        "b=4\n",
        "esp = 4\n",
        "Nome = 'Anna'\n",
        "nvolte=3\n",
        "print (a+b, a-b, a*b, a/b, a//b, a%b, a**esp, Nome*nvolte)"
      ],
      "execution_count": null,
      "outputs": []
    },
    {
      "cell_type": "code",
      "metadata": {
        "id": "TgPrFB05Wk0D"
      },
      "source": [
        "# Soluzione 3\n",
        "a=37\n",
        "b=4\n",
        "esp = 4\n",
        "Nome = 'Anna'\n",
        "nvolte=3\n",
        "print ('I due numeri sono:',a,'e',b)\n",
        "print ('La somma è: ', a+b)\n",
        "print ('La differenza è: ', a-b)\n",
        "print ('Il prodotto è: ', a*b)\n",
        "print ('Il quoziente è: ', a/b)\n",
        "print ('La divisione intera è: ', a//b)\n",
        "print ('Il resto della divisione è: ', a%b)\n",
        "print ('La potenza con esponente',esp, ' di ', a, ' è: ', a**esp)\n",
        "print ('Ripeto ', Nome, nvolte, 'volte: ', Nome*nvolte)"
      ],
      "execution_count": null,
      "outputs": []
    }
  ]
}