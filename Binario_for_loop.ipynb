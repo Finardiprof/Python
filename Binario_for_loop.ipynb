{
  "nbformat": 4,
  "nbformat_minor": 0,
  "metadata": {
    "colab": {
      "provenance": [],
      "authorship_tag": "ABX9TyN5cgQmyKVnjhYWqEmr9Wvu",
      "include_colab_link": true
    },
    "kernelspec": {
      "name": "python3",
      "display_name": "Python 3"
    },
    "language_info": {
      "name": "python"
    }
  },
  "cells": [
    {
      "cell_type": "markdown",
      "metadata": {
        "id": "view-in-github",
        "colab_type": "text"
      },
      "source": [
        "<a href=\"https://colab.research.google.com/github/Finardiprof/Python/blob/main/Binario_for_loop.ipynb\" target=\"_parent\"><img src=\"https://colab.research.google.com/assets/colab-badge.svg\" alt=\"Open In Colab\"/></a>"
      ]
    },
    {
      "cell_type": "code",
      "execution_count": 2,
      "metadata": {
        "colab": {
          "base_uri": "https://localhost:8080/"
        },
        "id": "HLPEALqS-uIC",
        "outputId": "c9dd43a6-786b-4f09-c804-ba9c35b2daaa"
      },
      "outputs": [
        {
          "output_type": "stream",
          "name": "stdout",
          "text": [
            "scrivi il binario1001\n",
            "9\n"
          ]
        }
      ],
      "source": [
        "binary_string = input(\"scrivi il binario\")\n",
        "\n",
        "decimal_number = 0\n",
        "power = len(binary_string) - 1\n",
        "\n",
        "for digit in binary_string:\n",
        "    if digit == '1':\n",
        "        decimal_number += 2**power\n",
        "    power -= 1\n",
        "\n",
        "print(decimal_number)"
      ]
    }
  ]
}