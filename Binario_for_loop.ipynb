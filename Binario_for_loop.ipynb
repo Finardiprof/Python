{
  "nbformat": 4,
  "nbformat_minor": 0,
  "metadata": {
    "colab": {
      "provenance": [],
      "include_colab_link": true
    },
    "kernelspec": {
      "name": "python3",
      "display_name": "Python 3"
    },
    "language_info": {
      "name": "python"
    }
  },
  "cells": [
    {
      "cell_type": "markdown",
      "metadata": {
        "id": "view-in-github",
        "colab_type": "text"
      },
      "source": [
        "<a href=\"https://colab.research.google.com/github/Finardiprof/Python/blob/main/Binario_for_loop.ipynb\" target=\"_parent\"><img src=\"https://colab.research.google.com/assets/colab-badge.svg\" alt=\"Open In Colab\"/></a>"
      ]
    },
    {
      "cell_type": "code",
      "execution_count": null,
      "metadata": {
        "id": "HLPEALqS-uIC"
      },
      "outputs": [],
      "source": [
        "binario_stringa = input(\"Scrivi il numero binario: \")\n",
        "\n",
        "numero_decimale = 0\n",
        "potenza = len(binario_stringa) - 1\n",
        "\n",
        "for bit in binario_stringa:\n",
        "    if bit == '1':\n",
        "        numero_decimale += 2**potenza\n",
        "    potenza -= 1\n",
        "\n",
        "print(numero_decimale)"
      ]
    }
  ]
}