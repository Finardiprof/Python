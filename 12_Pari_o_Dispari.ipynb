{
  "nbformat": 4,
  "nbformat_minor": 0,
  "metadata": {
    "colab": {
      "provenance": [],
      "authorship_tag": "ABX9TyMhPRrWitXVNSni9kXoTnFf",
      "include_colab_link": true
    },
    "kernelspec": {
      "name": "python3",
      "display_name": "Python 3"
    },
    "language_info": {
      "name": "python"
    }
  },
  "cells": [
    {
      "cell_type": "markdown",
      "metadata": {
        "id": "view-in-github",
        "colab_type": "text"
      },
      "source": [
        "<a href=\"https://colab.research.google.com/github/Finardiprof/Python/blob/main/12_Pari_o_Dispari.ipynb\" target=\"_parent\"><img src=\"https://colab.research.google.com/assets/colab-badge.svg\" alt=\"Open In Colab\"/></a>"
      ]
    },
    {
      "cell_type": "markdown",
      "source": [
        "Usate l'istruzione if per capire se un intero è pari o dispari"
      ],
      "metadata": {
        "id": "Qg0izjwFEC-D"
      }
    },
    {
      "cell_type": "code",
      "execution_count": 1,
      "metadata": {
        "colab": {
          "base_uri": "https://localhost:8080/"
        },
        "id": "EjPQ1HnKD_as",
        "outputId": "e9d1de63-03ef-4b43-be82-52294b1261f9"
      },
      "outputs": [
        {
          "output_type": "stream",
          "name": "stdout",
          "text": [
            "Inserisci un numero: 11\n",
            "Il numero 11 è dispari.\n"
          ]
        }
      ],
      "source": [
        "numero = int(input(\"Inserisci un numero: \"))\n",
        "\n",
        "if numero % 2 == 0:\n",
        "    print(f\"Il numero {numero} è pari.\")\n",
        "else:\n",
        "    print(f\"Il numero {numero} è dispari.\")\n"
      ]
    }
  ]
}