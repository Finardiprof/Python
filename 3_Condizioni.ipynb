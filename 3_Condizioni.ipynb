{
  "nbformat": 4,
  "nbformat_minor": 0,
  "metadata": {
    "colab": {
      "provenance": [],
      "toc_visible": true,
      "include_colab_link": true
    },
    "kernelspec": {
      "name": "python3",
      "display_name": "Python 3"
    },
    "language_info": {
      "name": "python"
    }
  },
  "cells": [
    {
      "cell_type": "markdown",
      "metadata": {
        "id": "view-in-github",
        "colab_type": "text"
      },
      "source": [
        "<a href=\"https://colab.research.google.com/github/Finardiprof/Python/blob/main/Condizioni.ipynb\" target=\"_parent\"><img src=\"https://colab.research.google.com/assets/colab-badge.svg\" alt=\"Open In Colab\"/></a>"
      ]
    },
    {
      "cell_type": "markdown",
      "metadata": {
        "id": "vTK8BeeLVZTD"
      },
      "source": [
        "# Istruzione Input\n",
        "Scrivere l'istruzione per chiedere allo user (o utente cioè colui che esegue l'algoritmo) la sua età e memorizzare il valore in una opportuna variabile"
      ]
    },
    {
      "cell_type": "code",
      "metadata": {
        "id": "dSUN0kemVSzd"
      },
      "source": [
        "#Scrivi il codice qui"
      ],
      "execution_count": null,
      "outputs": []
    },
    {
      "cell_type": "markdown",
      "metadata": {
        "id": "q0frLUF8YB3t"
      },
      "source": [
        "# Selezione\n",
        "Ora aggiungere all'istruzione precedente il codice necessario per verificare se l'utente può prendere la patente e comunicare il risultato"
      ]
    },
    {
      "cell_type": "code",
      "metadata": {
        "id": "8Riv_NMhYmyj"
      },
      "source": [
        "#Scrivi il codice qui"
      ],
      "execution_count": null,
      "outputs": []
    },
    {
      "cell_type": "markdown",
      "metadata": {
        "id": "-6yF2FTYiKRg"
      },
      "source": [
        "# Composizione di condizioni logiche\n",
        "In una selezione si possono utilizzare i connettivi logici: and e or, per formare predicati composti.\n",
        "Scrivere un algoritmo che, a seconda dell'età dichiarata dall'utente, stabilisca che scuola deve frequentare: materna, elementare, media, superiori"
      ]
    },
    {
      "cell_type": "code",
      "metadata": {
        "id": "szeDOxo1kiF6"
      },
      "source": [
        "#Scrivi il codice qui"
      ],
      "execution_count": null,
      "outputs": []
    },
    {
      "cell_type": "markdown",
      "metadata": {
        "id": "uh-fKd7KWdLc"
      },
      "source": [
        "# Soluzioni proposte"
      ]
    },
    {
      "cell_type": "code",
      "metadata": {
        "id": "ca9s-7oMWlvG",
        "colab": {
          "base_uri": "https://localhost:8080/"
        },
        "outputId": "6f49d1a8-41e0-4d7a-ee3e-ea469481a0d9"
      },
      "source": [
        "#Scrivere l'istruzione per chiedere allo user la sua età\n",
        "#e memorizzare il valore in una opportuna variabile\n",
        "età = int (input(\"quanti anni hai? \"))"
      ],
      "execution_count": 1,
      "outputs": [
        {
          "name": "stdout",
          "output_type": "stream",
          "text": [
            "quanti anni hai? 17\n"
          ]
        }
      ]
    },
    {
      "cell_type": "code",
      "metadata": {
        "id": "f2GHHG5dYqXt",
        "colab": {
          "base_uri": "https://localhost:8080/"
        },
        "outputId": "1ecc63ab-954c-473c-dbf5-3a561f06a483"
      },
      "source": [
        "#Può prendere la patente?\n",
        "età = int (input(\"quanti anni hai? \"))\n",
        "if età >= 18:\n",
        "  print (\"Sei maggiorenne, quindi puoi prendere la patente\")\n",
        "else:\n",
        "  print (\"Sei minorenne, quindi non puoi prendere la patente\")\n"
      ],
      "execution_count": 2,
      "outputs": [
        {
          "output_type": "stream",
          "name": "stdout",
          "text": [
            "quanti anni hai? 17\n",
            "Sei minorenne, quindi non puoi prendere la patente\n"
          ]
        }
      ]
    },
    {
      "cell_type": "code",
      "metadata": {
        "id": "08IPoaITktdr",
        "colab": {
          "base_uri": "https://localhost:8080/"
        },
        "outputId": "aceb24b5-0e93-4f9d-d2f7-f8083d817fd3"
      },
      "source": [
        "#Dimmi la tua età e ti dico la scuola che devi frequentare\n",
        "età = int (input(\"quanti anni hai? \"))\n",
        "if età < 3:\n",
        "  print (\"Puoi andare al nido\")\n",
        "if età >=3 and età < 6:\n",
        "  print (\"Puoi frequentare la scuola materna\")\n",
        "if età >= 6 and età <  11:\n",
        "  print (\"Puoi frequentare la scuola elementare\")\n",
        "if età >= 11 and età <  14:\n",
        "  print (\"Puoi frequentare la scuola media\")\n",
        "if età >= 14 and età <  19:\n",
        "  print (\"Puoi frequentare la scuola superiore\")\n",
        "if età >= 19:\n",
        "  print (\"Puoi frequentare l'Università oppure lavorare\")\n",
        "\n"
      ],
      "execution_count": 4,
      "outputs": [
        {
          "output_type": "stream",
          "name": "stdout",
          "text": [
            "quanti anni hai? 17\n",
            "Puoi frequentare la scuola superiore\n"
          ]
        }
      ]
    }
  ]
}
