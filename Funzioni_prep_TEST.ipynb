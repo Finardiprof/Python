{
  "cells": [
    {
      "cell_type": "markdown",
      "metadata": {
        "id": "view-in-github",
        "colab_type": "text"
      },
      "source": [
        "<a href=\"https://colab.research.google.com/github/Finardiprof/Python/blob/main/Funzioni_prep_TEST.ipynb\" target=\"_parent\"><img src=\"https://colab.research.google.com/assets/colab-badge.svg\" alt=\"Open In Colab\"/></a>"
      ]
    },
    {
      "cell_type": "markdown",
      "source": [
        "Fai una funzione che stampa i numeri da 1 ad n"
      ],
      "metadata": {
        "id": "fgTUYVfaNTaQ"
      }
    },
    {
      "cell_type": "code",
      "source": [
        "def stampa_numeri(n):\n",
        "    for i in range(n):\n",
        "        print(i)"
      ],
      "outputs": [],
      "execution_count": 1,
      "metadata": {
        "id": "ZsP7xkh-NTaY"
      }
    },
    {
      "cell_type": "markdown",
      "source": [
        "Questa funzione stampa i numeri da 0 a `n`.\n",
        "\n",
        "Il ciclo `for` inizializza una variabile `i` a 0 e poi la incrementa di 1 fino a quando non raggiunge il valore di `n`. All'interno del ciclo, la funzione stampa il valore di `i`."
      ],
      "metadata": {
        "id": "3wWpZ6eXNTaa"
      }
    },
    {
      "cell_type": "markdown",
      "source": [
        "Ad esempio, se `n` è 10, la funzione stampa il seguente output:"
      ],
      "metadata": {
        "id": "Z-X4ZyMWNolC"
      }
    },
    {
      "cell_type": "code",
      "source": [
        "# inserisici il codice"
      ],
      "metadata": {
        "id": "LzEQoalnNt5U"
      },
      "execution_count": null,
      "outputs": []
    },
    {
      "cell_type": "markdown",
      "source": [
        "Funzione che calcola la somma dei primi n numeri"
      ],
      "metadata": {
        "id": "bOIYb8GVNpum"
      }
    },
    {
      "cell_type": "code",
      "source": [
        "# modifica il codice\n",
        "def somma_numeri(n):\n",
        "    somma =\n",
        "    for i in range(n):\n",
        "        somma = i\n",
        "    return somma"
      ],
      "outputs": [],
      "execution_count": null,
      "metadata": {
        "id": "bgi6yuSyNTab"
      }
    },
    {
      "cell_type": "markdown",
      "source": [
        "Ad esempio, se `n` è 10, la funzione stampa il seguente output:"
      ],
      "metadata": {
        "id": "RvPP1rsDUhg2"
      }
    },
    {
      "cell_type": "code",
      "source": [
        "# inserisci codice"
      ],
      "metadata": {
        "id": "UiHh7v-aUigL"
      },
      "execution_count": null,
      "outputs": []
    }
  ],
  "metadata": {
    "colab": {
      "provenance": [],
      "include_colab_link": true
    },
    "kernelspec": {
      "display_name": "Python 3",
      "name": "python3"
    }
  },
  "nbformat": 4,
  "nbformat_minor": 0
}