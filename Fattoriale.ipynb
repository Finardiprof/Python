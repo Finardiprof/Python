{
  "nbformat": 4,
  "nbformat_minor": 0,
  "metadata": {
    "colab": {
      "provenance": [],
      "authorship_tag": "ABX9TyOfwg+I2le38+PjI+TJBG2/",
      "include_colab_link": true
    },
    "kernelspec": {
      "name": "python3",
      "display_name": "Python 3"
    },
    "language_info": {
      "name": "python"
    }
  },
  "cells": [
    {
      "cell_type": "markdown",
      "metadata": {
        "id": "view-in-github",
        "colab_type": "text"
      },
      "source": [
        "<a href=\"https://colab.research.google.com/github/Finardiprof/Python/blob/main/Fattoriale.ipynb\" target=\"_parent\"><img src=\"https://colab.research.google.com/assets/colab-badge.svg\" alt=\"Open In Colab\"/></a>"
      ]
    },
    {
      "cell_type": "code",
      "execution_count": 2,
      "metadata": {
        "id": "yRXUgMmCH2OZ",
        "outputId": "28865a1a-ad96-4b1c-fbc3-f2e8e0286fdf",
        "colab": {
          "base_uri": "https://localhost:8080/"
        }
      },
      "outputs": [
        {
          "output_type": "stream",
          "name": "stdout",
          "text": [
            "Il fattoriale di 5 è 120\n"
          ]
        }
      ],
      "source": [
        "def fattoriale(n):\n",
        "  \"\"\"\n",
        "  Calcola il fattoriale di un numero n usando la ricorsione.\n",
        "\n",
        "  Input:\n",
        "    n: Il numero di cui si vuole calcolare il fattoriale.\n",
        "\n",
        "  Output:\n",
        "    Il fattoriale di n.\n",
        "  \"\"\"\n",
        "  if n == 0 or n == 1:\n",
        "    return 1\n",
        "  else:\n",
        "    return n * fattoriale(n-1)\n",
        "\n",
        "# Esempio di utilizzo\n",
        "numero = 5\n",
        "risultato = fattoriale(numero)\n",
        "print(f\"Il fattoriale di {numero} è {risultato}\")"
      ]
    }
  ]
}