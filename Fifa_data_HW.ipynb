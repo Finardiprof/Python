{
  "cells": [
    {
      "cell_type": "markdown",
      "metadata": {
        "id": "view-in-github",
        "colab_type": "text"
      },
      "source": [
        "<a href=\"https://colab.research.google.com/github/Finardiprof/Python/blob/main/Fifa_data_HW.ipynb\" target=\"_parent\"><img src=\"https://colab.research.google.com/assets/colab-badge.svg\" alt=\"Open In Colab\"/></a>"
      ]
    },
    {
      "cell_type": "markdown",
      "metadata": {
        "id": "TIMpS1FMEm1e"
      },
      "source": [
        "#Dataset FIFA20\n",
        "------------------------------\n",
        "\n",
        "## Importazione delle librerie\n",
        "Per questo compito di data science, potresti utilizzare le seguenti librerie Python:\n",
        "\n",
        "1. **Pandas**: Questa libreria fornisce strutture dati e funzioni di manipolazione dei dati ad alte prestazioni e facili da usare. È molto utile per la pulizia dei dati e l'analisi esplorativa dei dati.\n",
        "\n",
        "2. **NumPy**: Questa libreria è fondamentale per il calcolo scientifico con Python. Fornisce supporto per array e matrici di grandi dimensioni, insieme a una vasta collezione di funzioni matematiche di alto livello.\n",
        "\n",
        "3. **Matplotlib**: Questa è una libreria di visualizzazione dei dati che ti permette di creare una varietà di grafici, tra cui istogrammi, grafici a torta e grafici a barre.\n",
        "\n",
        "4. **Seaborn**: Questa è un'altra libreria di visualizzazione dei dati basata su Matplotlib. Fornisce un'interfaccia di alto livello per creare grafici statistici attraenti.\n",
        "\n",
        "5. **Scikit-learn**: Questa libreria è molto utile per l'apprendimento automatico e l'analisi dei dati. Fornisce semplici e efficienti strumenti per l'analisi dei dati e l'estrazione di dati.\n",
        "\n",
        "6. **google.colab.drive**: Questo modulo fa parte di Google Colab, il modulo `drive` permette di montare il tuo Google Drive nel file system di Google Colab, fornendo l'accesso ai file salvati nel tuo Google Drive.\n",
        "\n",
        "7. **plotly.graph_objects (go)**: Questo modulo fa parte della libreria Plotly, una libreria di grafici interattivi per Python. `plotly.graph_objects` contiene una gerarchia di classi Python che rappresentano parti di una figura. Queste classi forniscono un modo per creare grafici complessi a partire da componenti più semplici.\n",
        "\n",
        "8. **plotly.express (px)**: Questo è un modulo ad alto livello della libreria Plotly che semplifica la creazione di visualizzazioni interattive. Fornisce funzioni che possono creare intere figure in una sola volta, rendendo facile passare da un grafico a dispersione a un grafico a barre a un istogramma a un grafico sunburst durante una sessione di esplorazione dei dati.\n",
        "\n",
        "8. **plotly**: Questa è una libreria di grafici interattiva, open-source e basata su browser per Python. Costruita sopra plotly.js, plotly.py è una libreria di grafici dichiarativa ad alto livello. Plotly.py può creare oltre 30 tipi di grafici, tra cui grafici scientifici, grafici 3D, grafici statistici, mappe SVG, grafici finanziari e molti altri.\n",
        "\n",
        "\n",
        "Ricorda, queste sono solo alcune delle librerie Python disponibili per la data science. Ci sono molte altre librerie là fuori che potrebbero essere utili a seconda delle specifiche esigenze del tuo compito. Buon lavoro! 👩‍💻"
      ]
    },
    {
      "cell_type": "code",
      "execution_count": 2,
      "metadata": {
        "id": "VnG4z-ICEm1m",
        "colab": {
          "base_uri": "https://localhost:8080/"
        },
        "outputId": "623a90c8-d400-4b1d-8f25-8d0cffa0cd55"
      },
      "outputs": [
        {
          "output_type": "stream",
          "name": "stdout",
          "text": [
            "librerie importate\n"
          ]
        }
      ],
      "source": [
        "import numpy as np\n",
        "import pandas as pd\n",
        "from google.colab import drive\n",
        "import plotly.graph_objects as go\n",
        "import plotly.express as px\n",
        "import plotly\n",
        "print('librerie importate')"
      ]
    },
    {
      "cell_type": "markdown",
      "metadata": {
        "id": "4NlCZz9pEm1q"
      },
      "source": [
        "### Caricare il file dataset CSV di fifa 2020\n",
        "Il formato CSV (Comma-Separated Values) è un formato di file basato su file di testo utilizzato per l'importazione ed esportazione di una tabella di dati. Questo formato rappresenta uno dei modi più semplici per rappresentare dati in forma tabellare all'interno di un semplice file di testo. I documenti CSV contengono elenchi di dati separati da virgole. Vengono usati spesso per esportare i contatti della posta elettronica o importare velocemente informazioni all’interno dei fogli di calcolo"
      ]
    },
    {
      "cell_type": "code",
      "execution_count": 3,
      "metadata": {
        "id": "vQEnxTa0Em1q",
        "colab": {
          "base_uri": "https://localhost:8080/"
        },
        "outputId": "377f3882-9da7-4899-c34d-900445bff10b"
      },
      "outputs": [
        {
          "output_type": "stream",
          "name": "stdout",
          "text": [
            "Mounted at /content/drive\n"
          ]
        }
      ],
      "source": [
        "drive.mount('/content/drive')\n",
        "df_20 = pd.read_csv('/content/drive/My Drive/players_20.csv')"
      ]
    },
    {
      "cell_type": "markdown",
      "metadata": {
        "id": "km7nE_RCEm1r"
      },
      "source": [
        "Controlliamo il dataset:\n",
        "visualizzare le prime 5 righe della tebella con il comando .head(numero_righe)"
      ]
    },
    {
      "cell_type": "code",
      "execution_count": null,
      "metadata": {
        "id": "AqpXrHkxEm1r"
      },
      "outputs": [],
      "source": [
        "# inserisci il codice"
      ]
    },
    {
      "cell_type": "markdown",
      "source": [
        "visualizzare le ultime 5 righe della tebella con il comando .tail(numero_righe)"
      ],
      "metadata": {
        "id": "3B89qbiUeILQ"
      }
    },
    {
      "cell_type": "code",
      "source": [
        "# inserisci il codice"
      ],
      "metadata": {
        "id": "8YwT7vM2eR28"
      },
      "execution_count": null,
      "outputs": []
    },
    {
      "cell_type": "markdown",
      "metadata": {
        "id": "LGgRenLcEm1s"
      },
      "source": [
        "Controlla le dimensione, numero di righe e di colonne"
      ]
    },
    {
      "cell_type": "code",
      "execution_count": null,
      "metadata": {
        "id": "OL30nwfDEm1s"
      },
      "outputs": [],
      "source": [
        "df_20.shape"
      ]
    },
    {
      "cell_type": "markdown",
      "metadata": {
        "id": "Azt7d1ZFEm1t"
      },
      "source": [
        "Stampa le colonne"
      ]
    },
    {
      "cell_type": "code",
      "execution_count": null,
      "metadata": {
        "id": "iebtkNNtEm1u"
      },
      "outputs": [],
      "source": [
        "colonne = list(df_20.columns)\n",
        "print(colonne)"
      ]
    },
    {
      "cell_type": "markdown",
      "source": [
        "#Query\n",
        "Una query, o interrogazione, è un comando scritto da un utente per ottenere informazioni dal contenuto di un database. Il termine \"query\" letteralmente significa interrogazione, richiesta, domanda."
      ],
      "metadata": {
        "id": "7uoiPZEYtbqM"
      }
    },
    {
      "cell_type": "code",
      "source": [
        "df_20_HV = df_20.query('club == \"Hellas Verona\"')"
      ],
      "metadata": {
        "id": "xY2OhWfsubkN"
      },
      "execution_count": null,
      "outputs": []
    },
    {
      "cell_type": "markdown",
      "source": [
        "Selezionare solo alcune colonne del dataframe, esempio \"short_name\",  \"club\", \"overall\""
      ],
      "metadata": {
        "id": "gM5m-VbtvTSP"
      }
    },
    {
      "cell_type": "code",
      "source": [
        "df_20_HV[['short_name', 'club', 'overall']]"
      ],
      "metadata": {
        "id": "NH8U58lOvhkS"
      },
      "execution_count": 8,
      "outputs": []
    },
    {
      "cell_type": "markdown",
      "source": [
        "Selezionare solamente i giocatori mancini del Real Madrid"
      ],
      "metadata": {
        "id": "j5P2GMUExRaM"
      }
    },
    {
      "cell_type": "code",
      "source": [
        "# inserisci il codice qui"
      ],
      "metadata": {
        "id": "OpRsJfBCxrvW"
      },
      "execution_count": null,
      "outputs": []
    },
    {
      "cell_type": "markdown",
      "source": [
        "#Analisi Dati:\n",
        "Fai un'analisi dei dati con il comando .describe()"
      ],
      "metadata": {
        "id": "NdybcONpWp15"
      }
    },
    {
      "cell_type": "code",
      "source": [
        "# inserisci codice qui"
      ],
      "metadata": {
        "id": "GPQ9KDZ0WqeD"
      },
      "execution_count": null,
      "outputs": []
    },
    {
      "cell_type": "markdown",
      "source": [
        "Crea un istogramma dell'età di tutti i giocatori"
      ],
      "metadata": {
        "id": "EOLaY9x5tLxS"
      }
    },
    {
      "cell_type": "code",
      "source": [
        "fig = px.histogram(df_20, x = 'age', title = 'Istogramma età')\n",
        "fig.show()\n",
        "## suggerimento: nbins = 20 per aumentare  il dettaglio"
      ],
      "metadata": {
        "id": "pynYllG4hVGm"
      },
      "execution_count": null,
      "outputs": []
    },
    {
      "cell_type": "markdown",
      "source": [
        "Crea un istogramma dell'età dei giocatori di una squadra a scelta"
      ],
      "metadata": {
        "id": "pC6w-PxZwrcQ"
      }
    },
    {
      "cell_type": "code",
      "source": [
        "# inserisci codice qui"
      ],
      "metadata": {
        "id": "RBqcql36hjPi"
      },
      "execution_count": null,
      "outputs": []
    },
    {
      "cell_type": "markdown",
      "source": [
        "Crea un grafico a torta dell'età dei giocatori"
      ],
      "metadata": {
        "id": "xUGtJ2DGzSWW"
      }
    },
    {
      "cell_type": "code",
      "source": [
        "fig = px.pie(df_20, names = 'age', title = 'Età dei giocatori Fifa20')\n",
        "fig.show()"
      ],
      "metadata": {
        "id": "XJeX5lQpzRiE"
      },
      "execution_count": null,
      "outputs": []
    },
    {
      "cell_type": "markdown",
      "source": [
        "Grafico a torta dei giocatori di piede destro rispetto ai giocatori di piede sinistro"
      ],
      "metadata": {
        "id": "R6sz0l45zEZv"
      }
    },
    {
      "cell_type": "code",
      "execution_count": null,
      "metadata": {
        "id": "p79r2yWCEm1u"
      },
      "outputs": [],
      "source": [
        "# inserisci codice qui"
      ]
    }
  ],
  "metadata": {
    "kernelspec": {
      "display_name": "Python 3",
      "language": "python",
      "name": "python3"
    },
    "language_info": {
      "codemirror_mode": {
        "name": "ipython",
        "version": 3
      },
      "file_extension": ".py",
      "mimetype": "text/x-python",
      "name": "python",
      "nbconvert_exporter": "python",
      "pygments_lexer": "ipython3",
      "version": "3.8.5"
    },
    "colab": {
      "provenance": [],
      "include_colab_link": true
    }
  },
  "nbformat": 4,
  "nbformat_minor": 0
}