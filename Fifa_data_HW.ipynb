{
  "cells": [
    {
      "cell_type": "markdown",
      "metadata": {
        "id": "view-in-github",
        "colab_type": "text"
      },
      "source": [
        "<a href=\"https://colab.research.google.com/github/Finardiprof/Python/blob/main/Fifa_data_HW.ipynb\" target=\"_parent\"><img src=\"https://colab.research.google.com/assets/colab-badge.svg\" alt=\"Open In Colab\"/></a>"
      ]
    },
    {
      "cell_type": "markdown",
      "metadata": {
        "id": "TIMpS1FMEm1e"
      },
      "source": [
        "#Dataset FIFA20\n",
        "------------------------------\n",
        "\n",
        "## Importazione delle librerie\n",
        "Per questo compito di data science, potresti utilizzare le seguenti librerie Python:\n",
        "\n",
        "1. **Pandas**: Questa libreria fornisce strutture dati e funzioni di manipolazione dei dati ad alte prestazioni e facili da usare. È molto utile per la pulizia dei dati e l'analisi esplorativa dei dati.\n",
        "\n",
        "2. **NumPy**: Questa libreria è fondamentale per il calcolo scientifico con Python. Fornisce supporto per array e matrici di grandi dimensioni, insieme a una vasta collezione di funzioni matematiche di alto livello.\n",
        "\n",
        "3. **Matplotlib**: Questa è una libreria di visualizzazione dei dati che ti permette di creare una varietà di grafici, tra cui istogrammi, grafici a torta e grafici a barre.\n",
        "\n",
        "4. **Seaborn**: Questa è un'altra libreria di visualizzazione dei dati basata su Matplotlib. Fornisce un'interfaccia di alto livello per creare grafici statistici attraenti.\n",
        "\n",
        "5. **Scikit-learn**: Questa libreria è molto utile per l'apprendimento automatico e l'analisi dei dati. Fornisce semplici e efficienti strumenti per l'analisi dei dati e l'estrazione di dati.\n",
        "\n",
        "6. **google.colab.drive**: Questo modulo fa parte di Google Colab, il modulo `drive` permette di montare il tuo Google Drive nel file system di Google Colab, fornendo l'accesso ai file salvati nel tuo Google Drive.\n",
        "\n",
        "7. **plotly.graph_objects (go)**: Questo modulo fa parte della libreria Plotly, una libreria di grafici interattivi per Python. `plotly.graph_objects` contiene una gerarchia di classi Python che rappresentano parti di una figura. Queste classi forniscono un modo per creare grafici complessi a partire da componenti più semplici.\n",
        "\n",
        "8. **plotly.express (px)**: Questo è un modulo ad alto livello della libreria Plotly che semplifica la creazione di visualizzazioni interattive. Fornisce funzioni che possono creare intere figure in una sola volta, rendendo facile passare da un grafico a dispersione a un grafico a barre a un istogramma a un grafico sunburst durante una sessione di esplorazione dei dati.\n",
        "\n",
        "8. **plotly**: Questa è una libreria di grafici interattiva, open-source e basata su browser per Python. Costruita sopra plotly.js, plotly.py è una libreria di grafici dichiarativa ad alto livello. Plotly.py può creare oltre 30 tipi di grafici, tra cui grafici scientifici, grafici 3D, grafici statistici, mappe SVG, grafici finanziari e molti altri.\n",
        "\n",
        "\n",
        "Ricorda, queste sono solo alcune delle librerie Python disponibili per la data science. Ci sono molte altre librerie là fuori che potrebbero essere utili a seconda delle specifiche esigenze del tuo compito. Buon lavoro! 👩‍💻"
      ]
    },
    {
      "cell_type": "code",
      "execution_count": 1,
      "metadata": {
        "id": "VnG4z-ICEm1m",
        "colab": {
          "base_uri": "https://localhost:8080/"
        },
        "outputId": "32a1167c-76f5-430a-f5f5-cfa287980c7d"
      },
      "outputs": [
        {
          "output_type": "stream",
          "name": "stdout",
          "text": [
            "librerie importate\n"
          ]
        }
      ],
      "source": [
        "import numpy as np\n",
        "import pandas as pd\n",
        "from google.colab import drive\n",
        "from google.colab import files\n",
        "import io\n",
        "import plotly.graph_objects as go\n",
        "import plotly.express as px\n",
        "import plotly\n",
        "print('librerie importate')"
      ]
    },
    {
      "cell_type": "markdown",
      "metadata": {
        "id": "4NlCZz9pEm1q"
      },
      "source": [
        "### Caricare il file dataset CSV di fifa 2020\n",
        "Il formato CSV (Comma-Separated Values) è un formato di file basato su file di testo utilizzato per l'importazione ed esportazione di una tabella di dati. Questo formato rappresenta uno dei modi più semplici per rappresentare dati in forma tabellare all'interno di un semplice file di testo. I documenti CSV contengono elenchi di dati separati da virgole. Vengono usati spesso per esportare i contatti della posta elettronica o importare velocemente informazioni all’interno dei fogli di calcolo"
      ]
    },
    {
      "cell_type": "code",
      "execution_count": 2,
      "metadata": {
        "id": "vQEnxTa0Em1q",
        "colab": {
          "base_uri": "https://localhost:8080/",
          "height": 73
        },
        "outputId": "4bc3c37e-20d0-476a-a5bd-3612ed9a584a"
      },
      "outputs": [
        {
          "output_type": "display_data",
          "data": {
            "text/plain": [
              "<IPython.core.display.HTML object>"
            ],
            "text/html": [
              "\n",
              "     <input type=\"file\" id=\"files-872c9292-bfbe-43cb-8e6b-751b0803a95c\" name=\"files[]\" multiple disabled\n",
              "        style=\"border:none\" />\n",
              "     <output id=\"result-872c9292-bfbe-43cb-8e6b-751b0803a95c\">\n",
              "      Upload widget is only available when the cell has been executed in the\n",
              "      current browser session. Please rerun this cell to enable.\n",
              "      </output>\n",
              "      <script>// Copyright 2017 Google LLC\n",
              "//\n",
              "// Licensed under the Apache License, Version 2.0 (the \"License\");\n",
              "// you may not use this file except in compliance with the License.\n",
              "// You may obtain a copy of the License at\n",
              "//\n",
              "//      http://www.apache.org/licenses/LICENSE-2.0\n",
              "//\n",
              "// Unless required by applicable law or agreed to in writing, software\n",
              "// distributed under the License is distributed on an \"AS IS\" BASIS,\n",
              "// WITHOUT WARRANTIES OR CONDITIONS OF ANY KIND, either express or implied.\n",
              "// See the License for the specific language governing permissions and\n",
              "// limitations under the License.\n",
              "\n",
              "/**\n",
              " * @fileoverview Helpers for google.colab Python module.\n",
              " */\n",
              "(function(scope) {\n",
              "function span(text, styleAttributes = {}) {\n",
              "  const element = document.createElement('span');\n",
              "  element.textContent = text;\n",
              "  for (const key of Object.keys(styleAttributes)) {\n",
              "    element.style[key] = styleAttributes[key];\n",
              "  }\n",
              "  return element;\n",
              "}\n",
              "\n",
              "// Max number of bytes which will be uploaded at a time.\n",
              "const MAX_PAYLOAD_SIZE = 100 * 1024;\n",
              "\n",
              "function _uploadFiles(inputId, outputId) {\n",
              "  const steps = uploadFilesStep(inputId, outputId);\n",
              "  const outputElement = document.getElementById(outputId);\n",
              "  // Cache steps on the outputElement to make it available for the next call\n",
              "  // to uploadFilesContinue from Python.\n",
              "  outputElement.steps = steps;\n",
              "\n",
              "  return _uploadFilesContinue(outputId);\n",
              "}\n",
              "\n",
              "// This is roughly an async generator (not supported in the browser yet),\n",
              "// where there are multiple asynchronous steps and the Python side is going\n",
              "// to poll for completion of each step.\n",
              "// This uses a Promise to block the python side on completion of each step,\n",
              "// then passes the result of the previous step as the input to the next step.\n",
              "function _uploadFilesContinue(outputId) {\n",
              "  const outputElement = document.getElementById(outputId);\n",
              "  const steps = outputElement.steps;\n",
              "\n",
              "  const next = steps.next(outputElement.lastPromiseValue);\n",
              "  return Promise.resolve(next.value.promise).then((value) => {\n",
              "    // Cache the last promise value to make it available to the next\n",
              "    // step of the generator.\n",
              "    outputElement.lastPromiseValue = value;\n",
              "    return next.value.response;\n",
              "  });\n",
              "}\n",
              "\n",
              "/**\n",
              " * Generator function which is called between each async step of the upload\n",
              " * process.\n",
              " * @param {string} inputId Element ID of the input file picker element.\n",
              " * @param {string} outputId Element ID of the output display.\n",
              " * @return {!Iterable<!Object>} Iterable of next steps.\n",
              " */\n",
              "function* uploadFilesStep(inputId, outputId) {\n",
              "  const inputElement = document.getElementById(inputId);\n",
              "  inputElement.disabled = false;\n",
              "\n",
              "  const outputElement = document.getElementById(outputId);\n",
              "  outputElement.innerHTML = '';\n",
              "\n",
              "  const pickedPromise = new Promise((resolve) => {\n",
              "    inputElement.addEventListener('change', (e) => {\n",
              "      resolve(e.target.files);\n",
              "    });\n",
              "  });\n",
              "\n",
              "  const cancel = document.createElement('button');\n",
              "  inputElement.parentElement.appendChild(cancel);\n",
              "  cancel.textContent = 'Cancel upload';\n",
              "  const cancelPromise = new Promise((resolve) => {\n",
              "    cancel.onclick = () => {\n",
              "      resolve(null);\n",
              "    };\n",
              "  });\n",
              "\n",
              "  // Wait for the user to pick the files.\n",
              "  const files = yield {\n",
              "    promise: Promise.race([pickedPromise, cancelPromise]),\n",
              "    response: {\n",
              "      action: 'starting',\n",
              "    }\n",
              "  };\n",
              "\n",
              "  cancel.remove();\n",
              "\n",
              "  // Disable the input element since further picks are not allowed.\n",
              "  inputElement.disabled = true;\n",
              "\n",
              "  if (!files) {\n",
              "    return {\n",
              "      response: {\n",
              "        action: 'complete',\n",
              "      }\n",
              "    };\n",
              "  }\n",
              "\n",
              "  for (const file of files) {\n",
              "    const li = document.createElement('li');\n",
              "    li.append(span(file.name, {fontWeight: 'bold'}));\n",
              "    li.append(span(\n",
              "        `(${file.type || 'n/a'}) - ${file.size} bytes, ` +\n",
              "        `last modified: ${\n",
              "            file.lastModifiedDate ? file.lastModifiedDate.toLocaleDateString() :\n",
              "                                    'n/a'} - `));\n",
              "    const percent = span('0% done');\n",
              "    li.appendChild(percent);\n",
              "\n",
              "    outputElement.appendChild(li);\n",
              "\n",
              "    const fileDataPromise = new Promise((resolve) => {\n",
              "      const reader = new FileReader();\n",
              "      reader.onload = (e) => {\n",
              "        resolve(e.target.result);\n",
              "      };\n",
              "      reader.readAsArrayBuffer(file);\n",
              "    });\n",
              "    // Wait for the data to be ready.\n",
              "    let fileData = yield {\n",
              "      promise: fileDataPromise,\n",
              "      response: {\n",
              "        action: 'continue',\n",
              "      }\n",
              "    };\n",
              "\n",
              "    // Use a chunked sending to avoid message size limits. See b/62115660.\n",
              "    let position = 0;\n",
              "    do {\n",
              "      const length = Math.min(fileData.byteLength - position, MAX_PAYLOAD_SIZE);\n",
              "      const chunk = new Uint8Array(fileData, position, length);\n",
              "      position += length;\n",
              "\n",
              "      const base64 = btoa(String.fromCharCode.apply(null, chunk));\n",
              "      yield {\n",
              "        response: {\n",
              "          action: 'append',\n",
              "          file: file.name,\n",
              "          data: base64,\n",
              "        },\n",
              "      };\n",
              "\n",
              "      let percentDone = fileData.byteLength === 0 ?\n",
              "          100 :\n",
              "          Math.round((position / fileData.byteLength) * 100);\n",
              "      percent.textContent = `${percentDone}% done`;\n",
              "\n",
              "    } while (position < fileData.byteLength);\n",
              "  }\n",
              "\n",
              "  // All done.\n",
              "  yield {\n",
              "    response: {\n",
              "      action: 'complete',\n",
              "    }\n",
              "  };\n",
              "}\n",
              "\n",
              "scope.google = scope.google || {};\n",
              "scope.google.colab = scope.google.colab || {};\n",
              "scope.google.colab._files = {\n",
              "  _uploadFiles,\n",
              "  _uploadFilesContinue,\n",
              "};\n",
              "})(self);\n",
              "</script> "
            ]
          },
          "metadata": {}
        },
        {
          "output_type": "stream",
          "name": "stdout",
          "text": [
            "Saving players_20.csv to players_20.csv\n"
          ]
        }
      ],
      "source": [
        "#drive.mount('/content/drive')\n",
        "#df_20 = pd.read_csv('/content/drive/My Drive/players_20.csv')\n",
        "\n",
        "upload = files.upload()\n",
        "df_20 = pd.read_csv(io.BytesIO(upload['players_20.csv']))"
      ]
    },
    {
      "cell_type": "markdown",
      "metadata": {
        "id": "km7nE_RCEm1r"
      },
      "source": [
        "Controlliamo il dataset:\n",
        "visualizzare le prime 5 righe della tebella con il comando .head(numero_righe)"
      ]
    },
    {
      "cell_type": "code",
      "execution_count": null,
      "metadata": {
        "id": "AqpXrHkxEm1r"
      },
      "outputs": [],
      "source": [
        "# inserisci il codice"
      ]
    },
    {
      "cell_type": "markdown",
      "source": [
        "visualizzare le ultime 5 righe della tebella con il comando .tail(numero_righe)"
      ],
      "metadata": {
        "id": "3B89qbiUeILQ"
      }
    },
    {
      "cell_type": "code",
      "source": [
        "# inserisci il codice"
      ],
      "metadata": {
        "id": "8YwT7vM2eR28"
      },
      "execution_count": null,
      "outputs": []
    },
    {
      "cell_type": "markdown",
      "metadata": {
        "id": "LGgRenLcEm1s"
      },
      "source": [
        "Controlla le dimensione, numero di righe e di colonne"
      ]
    },
    {
      "cell_type": "code",
      "execution_count": null,
      "metadata": {
        "id": "OL30nwfDEm1s"
      },
      "outputs": [],
      "source": [
        "df_20.shape"
      ]
    },
    {
      "cell_type": "markdown",
      "metadata": {
        "id": "Azt7d1ZFEm1t"
      },
      "source": [
        "Stampa le colonne"
      ]
    },
    {
      "cell_type": "code",
      "execution_count": 3,
      "metadata": {
        "id": "iebtkNNtEm1u",
        "colab": {
          "base_uri": "https://localhost:8080/"
        },
        "outputId": "dd53162c-ccd3-48db-eeb0-6512354d6561"
      },
      "outputs": [
        {
          "output_type": "stream",
          "name": "stdout",
          "text": [
            "['sofifa_id', 'player_url', 'short_name', 'long_name', 'age', 'dob', 'height_cm', 'weight_kg', 'nationality', 'club', 'overall', 'potential', 'value_eur', 'wage_eur', 'player_positions', 'preferred_foot', 'international_reputation', 'weak_foot', 'skill_moves', 'work_rate', 'body_type', 'real_face', 'release_clause_eur', 'player_tags', 'team_position', 'team_jersey_number', 'loaned_from', 'joined', 'contract_valid_until', 'nation_position', 'nation_jersey_number', 'pace', 'shooting', 'passing', 'dribbling', 'defending', 'physic', 'gk_diving', 'gk_handling', 'gk_kicking', 'gk_reflexes', 'gk_speed', 'gk_positioning', 'player_traits', 'attacking_crossing', 'attacking_finishing', 'attacking_heading_accuracy', 'attacking_short_passing', 'attacking_volleys', 'skill_dribbling', 'skill_curve', 'skill_fk_accuracy', 'skill_long_passing', 'skill_ball_control', 'movement_acceleration', 'movement_sprint_speed', 'movement_agility', 'movement_reactions', 'movement_balance', 'power_shot_power', 'power_jumping', 'power_stamina', 'power_strength', 'power_long_shots', 'mentality_aggression', 'mentality_interceptions', 'mentality_positioning', 'mentality_vision', 'mentality_penalties', 'mentality_composure', 'defending_marking', 'defending_standing_tackle', 'defending_sliding_tackle', 'goalkeeping_diving', 'goalkeeping_handling', 'goalkeeping_kicking', 'goalkeeping_positioning', 'goalkeeping_reflexes', 'ls', 'st', 'rs', 'lw', 'lf', 'cf', 'rf', 'rw', 'lam', 'cam', 'ram', 'lm', 'lcm', 'cm', 'rcm', 'rm', 'lwb', 'ldm', 'cdm', 'rdm', 'rwb', 'lb', 'lcb', 'cb', 'rcb', 'rb']\n"
          ]
        }
      ],
      "source": [
        "colonne = list(df_20.columns)\n",
        "print(colonne)"
      ]
    },
    {
      "cell_type": "markdown",
      "source": [
        "## Data Preprocessing\n"
      ],
      "metadata": {
        "id": "ysk1mrstRMRU"
      }
    },
    {
      "cell_type": "code",
      "source": [
        "colonne_inutili = ['']"
      ],
      "metadata": {
        "id": "83Zfsjo1Ri1T"
      },
      "execution_count": null,
      "outputs": []
    },
    {
      "cell_type": "markdown",
      "source": [
        "Utilizza il comando .drop() per eliminare le colonne"
      ],
      "metadata": {
        "id": "Dp2IMSWhRZP-"
      }
    },
    {
      "cell_type": "markdown",
      "source": [
        "#Query\n",
        "Una query, o interrogazione, è un comando scritto da un utente per ottenere informazioni dal contenuto di un database. Il termine \"query\" letteralmente significa interrogazione, richiesta, domanda."
      ],
      "metadata": {
        "id": "7uoiPZEYtbqM"
      }
    },
    {
      "cell_type": "code",
      "source": [
        "df_20_HV = df_20.query('club == \"Hellas Verona\"')"
      ],
      "metadata": {
        "id": "xY2OhWfsubkN"
      },
      "execution_count": null,
      "outputs": []
    },
    {
      "cell_type": "markdown",
      "source": [
        "Selezionare solo alcune colonne del dataframe, esempio \"short_name\",  \"club\", \"overall\""
      ],
      "metadata": {
        "id": "gM5m-VbtvTSP"
      }
    },
    {
      "cell_type": "code",
      "source": [
        "df_20_HV[['short_name', 'club', 'overall']]"
      ],
      "metadata": {
        "id": "NH8U58lOvhkS"
      },
      "execution_count": null,
      "outputs": []
    },
    {
      "cell_type": "markdown",
      "source": [
        "Selezionare solamente i giocatori mancini del Real Madrid"
      ],
      "metadata": {
        "id": "j5P2GMUExRaM"
      }
    },
    {
      "cell_type": "code",
      "source": [
        "# inserisci il codice qui"
      ],
      "metadata": {
        "id": "OpRsJfBCxrvW"
      },
      "execution_count": null,
      "outputs": []
    },
    {
      "cell_type": "markdown",
      "source": [
        "#Analisi Dati:\n",
        "Fai un'analisi dei dati con il comando .describe()"
      ],
      "metadata": {
        "id": "NdybcONpWp15"
      }
    },
    {
      "cell_type": "code",
      "source": [
        "# inserisci codice qui"
      ],
      "metadata": {
        "id": "GPQ9KDZ0WqeD"
      },
      "execution_count": null,
      "outputs": []
    },
    {
      "cell_type": "markdown",
      "source": [
        "Crea un istogramma dell'età di tutti i giocatori"
      ],
      "metadata": {
        "id": "EOLaY9x5tLxS"
      }
    },
    {
      "cell_type": "code",
      "source": [
        "fig = px.histogram(df_20, x = 'age', title = 'Istogramma età')\n",
        "fig.show()\n",
        "## suggerimento: nbins = 20 per aumentare  il dettaglio"
      ],
      "metadata": {
        "id": "pynYllG4hVGm"
      },
      "execution_count": null,
      "outputs": []
    },
    {
      "cell_type": "markdown",
      "source": [
        "Crea un istogramma dell'età dei giocatori di una squadra a scelta"
      ],
      "metadata": {
        "id": "pC6w-PxZwrcQ"
      }
    },
    {
      "cell_type": "code",
      "source": [
        "# inserisci codice qui"
      ],
      "metadata": {
        "id": "RBqcql36hjPi"
      },
      "execution_count": null,
      "outputs": []
    },
    {
      "cell_type": "markdown",
      "source": [
        "Crea un grafico a torta dell'età dei giocatori"
      ],
      "metadata": {
        "id": "xUGtJ2DGzSWW"
      }
    },
    {
      "cell_type": "code",
      "source": [
        "fig = px.pie(df_20, names = 'age', title = 'Età dei giocatori Fifa20')\n",
        "fig.show()"
      ],
      "metadata": {
        "id": "XJeX5lQpzRiE"
      },
      "execution_count": null,
      "outputs": []
    },
    {
      "cell_type": "markdown",
      "source": [
        "Grafico a torta dei giocatori di piede destro rispetto ai giocatori di piede sinistro"
      ],
      "metadata": {
        "id": "R6sz0l45zEZv"
      }
    },
    {
      "cell_type": "code",
      "execution_count": null,
      "metadata": {
        "id": "p79r2yWCEm1u"
      },
      "outputs": [],
      "source": [
        "# inserisci codice qui"
      ]
    }
  ],
  "metadata": {
    "kernelspec": {
      "display_name": "Python 3",
      "language": "python",
      "name": "python3"
    },
    "language_info": {
      "codemirror_mode": {
        "name": "ipython",
        "version": 3
      },
      "file_extension": ".py",
      "mimetype": "text/x-python",
      "name": "python",
      "nbconvert_exporter": "python",
      "pygments_lexer": "ipython3",
      "version": "3.8.5"
    },
    "colab": {
      "provenance": [],
      "include_colab_link": true
    }
  },
  "nbformat": 4,
  "nbformat_minor": 0
}