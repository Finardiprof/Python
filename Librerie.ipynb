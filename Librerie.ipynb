{
  "nbformat": 4,
  "nbformat_minor": 0,
  "metadata": {
    "colab": {
      "provenance": [],
      "authorship_tag": "ABX9TyPIPH7zn4ahKG29gvSV7GIS",
      "include_colab_link": true
    },
    "kernelspec": {
      "name": "python3",
      "display_name": "Python 3"
    },
    "language_info": {
      "name": "python"
    }
  },
  "cells": [
    {
      "cell_type": "markdown",
      "metadata": {
        "id": "view-in-github",
        "colab_type": "text"
      },
      "source": [
        "<a href=\"https://colab.research.google.com/github/Finardiprof/Python/blob/main/Librerie.ipynb\" target=\"_parent\"><img src=\"https://colab.research.google.com/assets/colab-badge.svg\" alt=\"Open In Colab\"/></a>"
      ]
    },
    {
      "cell_type": "markdown",
      "source": [
        "# ALCUNE LIBRERIE\n"
      ],
      "metadata": {
        "id": "Z8qntyRkv7g3"
      }
    },
    {
      "cell_type": "markdown",
      "source": [
        "# Math"
      ],
      "metadata": {
        "id": "EN3W6BOovcKN"
      }
    },
    {
      "cell_type": "code",
      "source": [
        "import math\n",
        "radq = math.sqrt(2)\n",
        "print(radq)"
      ],
      "metadata": {
        "id": "va1tr_Dovh_b"
      },
      "execution_count": null,
      "outputs": []
    },
    {
      "cell_type": "markdown",
      "source": [
        "Se vogliamo due cifre dopo la virgola:"
      ],
      "metadata": {
        "id": "FCWWgsZ6_tu1"
      }
    },
    {
      "cell_type": "code",
      "source": [
        "print(\"%.2f\" % radq)"
      ],
      "metadata": {
        "id": "OSNZjXB7_crq"
      },
      "execution_count": null,
      "outputs": []
    },
    {
      "cell_type": "markdown",
      "source": [
        "Calcola una funzione utilizzando la libreria math. (exp, sin, log, ecc..)"
      ],
      "metadata": {
        "id": "yEuoi2B6waOq"
      }
    },
    {
      "cell_type": "code",
      "source": [
        "[] # inserisci il codice qui"
      ],
      "metadata": {
        "id": "N-BlB5bDwKN1"
      },
      "execution_count": null,
      "outputs": []
    },
    {
      "cell_type": "markdown",
      "source": [
        "# Numpy\n"
      ],
      "metadata": {
        "id": "Ec-BiJQszago"
      }
    },
    {
      "cell_type": "code",
      "source": [
        "# import della libreria\n",
        "import numpy as np"
      ],
      "metadata": {
        "id": "QUhwZ7bWzd12"
      },
      "execution_count": 50,
      "outputs": []
    },
    {
      "cell_type": "code",
      "source": [
        "# crea array con arange\n",
        "t = np.arange(0,10,0.5)\n",
        "print(t)\n",
        "print(type(t))\n",
        "lunghezza_array = len(t)\n",
        "print(lunghezza_array)"
      ],
      "metadata": {
        "id": "-MyNJPMQzjng"
      },
      "execution_count": null,
      "outputs": []
    },
    {
      "cell_type": "code",
      "source": [
        "# crea array con linspace\n",
        "T = np.linspace(1,10,10)\n",
        "print(T)\n",
        "print(type(T))\n",
        "print(T[0])"
      ],
      "metadata": {
        "id": "bP-RQlLM0PAq"
      },
      "execution_count": null,
      "outputs": []
    },
    {
      "cell_type": "code",
      "source": [
        "# calcolare una funzione per un array di valori\n",
        "[] # inserisci il codice qui"
      ],
      "metadata": {
        "id": "2IbJ2H_U4eBJ"
      },
      "execution_count": null,
      "outputs": []
    },
    {
      "cell_type": "markdown",
      "source": [
        "Comando append e array vuoto"
      ],
      "metadata": {
        "id": "gW8RRVL3-D5O"
      }
    },
    {
      "cell_type": "code",
      "source": [
        "A = [] # crea l'array vuoto\n",
        "print(A)"
      ],
      "metadata": {
        "id": "BeszyULJ-JFT"
      },
      "execution_count": null,
      "outputs": []
    },
    {
      "cell_type": "code",
      "source": [
        "A.append(10)\n",
        "print(A)"
      ],
      "metadata": {
        "id": "VgMi6Oiq-RIr"
      },
      "execution_count": null,
      "outputs": []
    },
    {
      "cell_type": "markdown",
      "source": [
        "Provare a creare un array con il ciclo for"
      ],
      "metadata": {
        "id": "_yXovfGb6sRJ"
      }
    },
    {
      "cell_type": "code",
      "source": [
        "[] # inserisci il codice qui"
      ],
      "metadata": {
        "id": "be_v0dnq98NZ"
      },
      "execution_count": null,
      "outputs": []
    },
    {
      "cell_type": "markdown",
      "source": [
        "#Soluzione"
      ],
      "metadata": {
        "id": "9F8HWHbR933O"
      }
    },
    {
      "cell_type": "code",
      "source": [
        "[] # inserisci il codice qui\n",
        "array_nuovo = []\n",
        "for  i in T:\n",
        "    array_nuovo.append(i)\n",
        "print(array_nuovo)\n"
      ],
      "metadata": {
        "id": "fjvT9SwZ7PR9"
      },
      "execution_count": null,
      "outputs": []
    },
    {
      "cell_type": "markdown",
      "source": [
        "# Matplotlib\n"
      ],
      "metadata": {
        "id": "5JtdlTbLvSIM"
      }
    },
    {
      "cell_type": "code",
      "source": [
        "# importo la libreria\n",
        "import matplotlib.pyplot as plt"
      ],
      "metadata": {
        "id": "VPoBSQXHvV-b"
      },
      "execution_count": 7,
      "outputs": []
    },
    {
      "cell_type": "code",
      "source": [
        "plt.plot(T, S)\n",
        "# crea reticolo del grafico\n",
        "plt.grid()\n",
        "# crea etichetta assi\n",
        "plt.xlabel('grandezza X')\n",
        "plt.ylabel('grandezza Y')# mostra il grafico\n",
        "plt.show()"
      ],
      "metadata": {
        "id": "59Ton9iR5u7W"
      },
      "execution_count": null,
      "outputs": []
    },
    {
      "cell_type": "code",
      "source": [
        "#%reset"
      ],
      "metadata": {
        "id": "tyKBgYicAT_r"
      },
      "execution_count": null,
      "outputs": []
    }
  ]
}