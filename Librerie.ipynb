{
  "nbformat": 4,
  "nbformat_minor": 0,
  "metadata": {
    "colab": {
      "provenance": [],
      "authorship_tag": "ABX9TyOHnxxzancszlAJ9hNcnKet",
      "include_colab_link": true
    },
    "kernelspec": {
      "name": "python3",
      "display_name": "Python 3"
    },
    "language_info": {
      "name": "python"
    }
  },
  "cells": [
    {
      "cell_type": "markdown",
      "metadata": {
        "id": "view-in-github",
        "colab_type": "text"
      },
      "source": [
        "<a href=\"https://colab.research.google.com/github/Finardiprof/Python/blob/main/Librerie.ipynb\" target=\"_parent\"><img src=\"https://colab.research.google.com/assets/colab-badge.svg\" alt=\"Open In Colab\"/></a>"
      ]
    },
    {
      "cell_type": "markdown",
      "source": [
        "# ALCUNE LIBRERIE\n"
      ],
      "metadata": {
        "id": "Z8qntyRkv7g3"
      }
    },
    {
      "cell_type": "markdown",
      "source": [
        "# Math"
      ],
      "metadata": {
        "id": "EN3W6BOovcKN"
      }
    },
    {
      "cell_type": "code",
      "source": [
        "import math\n",
        "radq = math.sqrt(2)\n",
        "print(radq)"
      ],
      "metadata": {
        "colab": {
          "base_uri": "https://localhost:8080/"
        },
        "id": "va1tr_Dovh_b",
        "outputId": "f2c2aff7-1106-4c9c-ed41-7b6a5d9a79e0"
      },
      "execution_count": 2,
      "outputs": [
        {
          "output_type": "stream",
          "name": "stdout",
          "text": [
            "1.4142135623730951\n"
          ]
        }
      ]
    },
    {
      "cell_type": "markdown",
      "source": [
        "Calcola una funzione utilizzando la libreria math. (exp, sin, log, ecc..)"
      ],
      "metadata": {
        "id": "yEuoi2B6waOq"
      }
    },
    {
      "cell_type": "code",
      "source": [
        "[] # inserisci il codice qui"
      ],
      "metadata": {
        "id": "N-BlB5bDwKN1"
      },
      "execution_count": null,
      "outputs": []
    },
    {
      "cell_type": "markdown",
      "source": [
        "# Matplotlib\n"
      ],
      "metadata": {
        "id": "5JtdlTbLvSIM"
      }
    },
    {
      "cell_type": "code",
      "source": [
        "# importo la libreria\n",
        "import matplotlib.pyplot as plt"
      ],
      "metadata": {
        "id": "VPoBSQXHvV-b"
      },
      "execution_count": 7,
      "outputs": []
    },
    {
      "cell_type": "code",
      "source": [
        "# crea reticolo del grafico\n",
        "plt.grid()"
      ],
      "metadata": {
        "id": "skTjMvZQxqzg"
      },
      "execution_count": null,
      "outputs": []
    },
    {
      "cell_type": "code",
      "source": [
        "# crea etichetta assi\n",
        "plt.xlabel('grandezza X')\n",
        "plt.ylabel('grandezza Y')"
      ],
      "metadata": {
        "id": "0iRifrWzy09-"
      },
      "execution_count": null,
      "outputs": []
    },
    {
      "cell_type": "code",
      "source": [
        "# mostra il grafico\n",
        "plt.show()"
      ],
      "metadata": {
        "id": "Q3_rVcOgx8pf"
      },
      "execution_count": 10,
      "outputs": []
    },
    {
      "cell_type": "markdown",
      "source": [
        "# Numpy\n"
      ],
      "metadata": {
        "id": "Ec-BiJQszago"
      }
    },
    {
      "cell_type": "code",
      "source": [
        "# import della libreria\n",
        "import numpy as np"
      ],
      "metadata": {
        "id": "QUhwZ7bWzd12"
      },
      "execution_count": null,
      "outputs": []
    },
    {
      "cell_type": "code",
      "source": [],
      "metadata": {
        "id": "-MyNJPMQzjng"
      },
      "execution_count": null,
      "outputs": []
    },
    {
      "cell_type": "markdown",
      "source": [],
      "metadata": {
        "id": "drFDqwTrvQvk"
      }
    }
  ]
}