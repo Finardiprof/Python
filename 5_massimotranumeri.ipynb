{
  "nbformat": 4,
  "nbformat_minor": 0,
  "metadata": {
    "colab": {
      "provenance": [],
      "toc_visible": true,
      "include_colab_link": true
    },
    "kernelspec": {
      "name": "python3",
      "display_name": "Python 3"
    },
    "language_info": {
      "name": "python"
    }
  },
  "cells": [
    {
      "cell_type": "markdown",
      "metadata": {
        "id": "view-in-github",
        "colab_type": "text"
      },
      "source": [
        "<a href=\"https://colab.research.google.com/github/Finardiprof/Python/blob/main/5_massimotranumeri.ipynb\" target=\"_parent\"><img src=\"https://colab.research.google.com/assets/colab-badge.svg\" alt=\"Open In Colab\"/></a>"
      ]
    },
    {
      "cell_type": "markdown",
      "metadata": {
        "id": "k284Jcpo22Dg"
      },
      "source": [
        "# Massimo tra due numeri"
      ]
    },
    {
      "cell_type": "markdown",
      "metadata": {
        "id": "ZuiY5yCb28Y0"
      },
      "source": [
        "Scrivere un algoritmo che determini il massimo tra due numeri inseriti da tastiera"
      ]
    },
    {
      "cell_type": "code",
      "metadata": {
        "id": "JvyPhZeq3FcT"
      },
      "source": [
        "#Scrivi il codice qui"
      ],
      "execution_count": null,
      "outputs": []
    },
    {
      "cell_type": "markdown",
      "metadata": {
        "id": "dS0MbnfD4ZvN"
      },
      "source": [
        "# Massimo tra tre numeri inseriti da tastiera\n",
        "Scrivere un algoritmo che determini il massimo tra tre numeri inseriti da tastiera.\n",
        "L'algoritmo deve essere semplice e il numero di if ridotto al minimo"
      ]
    },
    {
      "cell_type": "code",
      "metadata": {
        "id": "cGINOsln4hp4"
      },
      "source": [
        "#Scrivi il codice qui"
      ],
      "execution_count": null,
      "outputs": []
    },
    {
      "cell_type": "markdown",
      "metadata": {
        "id": "9Fr7EWp72KcM"
      },
      "source": [
        "# Soluzioni proposte"
      ]
    },
    {
      "cell_type": "code",
      "metadata": {
        "id": "Rl_2gumF2hE3"
      },
      "source": [
        "# Massimo tra due numeri inseriti da tastiera (Soluzione 1)\n",
        "a = float (input(\"Inserisci il primo numero: \"))\n",
        "b = float (input(\"Inserisci il secondo numero: \"))\n",
        "if a >= b:\n",
        "  print (\"il massimo tra i numeri\", a, \"e\", b, \"è\", a)\n",
        "else:\n",
        "  print (\"il massimo tra i numeri\", a, \"e\", b, \"è\", b)"
      ],
      "execution_count": null,
      "outputs": []
    },
    {
      "cell_type": "code",
      "metadata": {
        "id": "GYVV_zO93PCd"
      },
      "source": [
        "# Massimo tra due numeri inseriti da tastiera (Soluzione 2)\n",
        "a = float (input(\"Inserisci il primo numero: \"))\n",
        "b = float (input(\"Inserisci il secondo numero: \"))\n",
        "if a > b:\n",
        "  print (\"il massimo tra i numeri\", a, \"e\", b, \"è\", a)\n",
        "if a < b:\n",
        "  print (\"il massimo tra i numeri\", a, \"e\", b, \"è\", b)\n",
        "if a == b:\n",
        "  print (\"I due numeri\", a, \"e\", b, \"sono uguali\")\n"
      ],
      "execution_count": null,
      "outputs": []
    },
    {
      "cell_type": "code",
      "metadata": {
        "id": "io4FeZy4k-7v"
      },
      "source": [
        "#Massimo tra tre numeri inseriti da tastiera (Soluzione 3)\n",
        "# Massimo tra due numeri inseriti da tastiera\n",
        "a = float (input(\"Inserisci il primo numero: \"))\n",
        "b = float (input(\"Inserisci il secondo numero: \"))\n",
        "c = float (input(\"Inserisci il terzo numero: \"))\n",
        "if a > b:\n",
        "  if a > c:\n",
        "    Max = a\n",
        "  else:\n",
        "    Max = c\n",
        "else:\n",
        "  if b > c:\n",
        "    Max = b\n",
        "  else:\n",
        "    Max = c\n",
        "print (\"il massimo tra i numeri\", a, \",\", b,\",\",c, \"è\", Max)"
      ],
      "execution_count": null,
      "outputs": []
    },
    {
      "cell_type": "code",
      "metadata": {
        "id": "oouJREod4zS8"
      },
      "source": [
        "#Massimo tra tre numeri inseriti da tastiera (Soluzione 4)\n",
        "a = float (input(\"Inserisci il primo numero: \"))\n",
        "b = float (input(\"Inserisci il secondo numero: \"))\n",
        "c = float (input(\"Inserisci il terzo numero: \"))\n",
        "if a > b and a > c:\n",
        "  print (\"il massimo tra i numeri\", a, \",\", b, \",\",c, \" è\", a)\n",
        "if b > a and b > c:\n",
        "  print (\"il massimo tra i numeri\", a, \",\", b, \",\",c, \" è\", b)\n",
        "if c > a and c > b:\n",
        "  print (\"il massimo tra i numeri\", a, \",\", b, \",\",c, \" è\", c)"
      ],
      "execution_count": null,
      "outputs": []
    }
  ]
}