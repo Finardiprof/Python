{
  "nbformat": 4,
  "nbformat_minor": 0,
  "metadata": {
    "colab": {
      "provenance": [],
      "authorship_tag": "ABX9TyNyp/ZiZuFYYedqrHrO5QCO",
      "include_colab_link": true
    },
    "kernelspec": {
      "name": "python3",
      "display_name": "Python 3"
    },
    "language_info": {
      "name": "python"
    }
  },
  "cells": [
    {
      "cell_type": "markdown",
      "metadata": {
        "id": "view-in-github",
        "colab_type": "text"
      },
      "source": [
        "<a href=\"https://colab.research.google.com/github/Finardiprof/Python/blob/main/Moto_Circolare_e_Armonico.ipynb\" target=\"_parent\"><img src=\"https://colab.research.google.com/assets/colab-badge.svg\" alt=\"Open In Colab\"/></a>"
      ]
    },
    {
      "cell_type": "markdown",
      "source": [
        "## Moto Circolare e Moto Armonico"
      ],
      "metadata": {
        "id": "djEgsuzp860v"
      }
    },
    {
      "cell_type": "code",
      "source": [
        "%reset -f"
      ],
      "metadata": {
        "id": "9CblPcvoDTnl"
      },
      "execution_count": 1,
      "outputs": []
    },
    {
      "cell_type": "markdown",
      "source": [
        "Parti inserendo i dati da input\n",
        "T: Periodo\n",
        "Omega: velocità angolare\n",
        "r = raggio (o ampiezza)"
      ],
      "metadata": {
        "id": "qbFXZJYX9cZ4"
      }
    },
    {
      "cell_type": "code",
      "source": [
        "import math\n",
        "import numpy as np\n",
        "r = float(input('Inserisci il raggio: '))                 # raggio della circonferenza\n",
        "# omega = float(input('Inserisci la velocità angolare: '))  # velocità angolare\n",
        "T = float(input('Inserisci il periodo: '))                # durata del moto\n"
      ],
      "metadata": {
        "id": "xiFkT4JUJpJv"
      },
      "execution_count": null,
      "outputs": []
    },
    {
      "cell_type": "markdown",
      "source": [
        "Crea la funzione per calcolare il moto circolare nelle coordinate x e y"
      ],
      "metadata": {
        "id": "TqPVahbsDfAU"
      }
    },
    {
      "cell_type": "code",
      "source": [
        "def moto_circolare(r,T):\n",
        "  omega = 2*np.pi/T\n",
        "  # Calcola l'intervallo di tempo per il tracciamento della traiettoria\n",
        "  t = np.linspace(0, T, 1000)  # Dividiamo il periodo in 1000 punti temporali\n",
        "  # Calcola le coordinate x e y del punto P in funzione del tempo\n",
        "  x = r * np.cos(omega * t)\n",
        "  y = r * np.sin(omega * t)\n",
        "  return (x,y)\n"
      ],
      "metadata": {
        "id": "wMR85t0bCXhs"
      },
      "execution_count": 5,
      "outputs": []
    },
    {
      "cell_type": "code",
      "source": [
        "[x,y] = moto_circolare(r, T)\n",
        "# Traccia la traiettoria\n",
        "import matplotlib.pyplot as plt\n",
        "plt.figure(figsize=(6, 6))\n",
        "plt.plot(x, y, label=\"Traiettoria di P\")\n",
        "plt.scatter(0, 0, color='red')\n",
        "plt.legend()\n",
        "plt.title(\"Traiettoria di un punto in moto circolare uniforme\")\n",
        "plt.xlabel(\"X\")\n",
        "plt.ylabel(\"Y\")\n",
        "plt.grid()\n",
        "plt.axis('equal')  # Per mantenere gli assi x e y uguali\n",
        "plt.show()"
      ],
      "metadata": {
        "id": "0cWfecCdEiOt"
      },
      "execution_count": null,
      "outputs": []
    },
    {
      "cell_type": "markdown",
      "source": [
        "Ricordati come prima cosa di importare le librerie!!\n",
        "numpy e matplotlib"
      ],
      "metadata": {
        "id": "os17e9yc-FTX"
      }
    },
    {
      "cell_type": "code",
      "source": [
        "[] # inserisci il codice qui"
      ],
      "metadata": {
        "id": "LdxnkYHk-Jz6"
      },
      "execution_count": null,
      "outputs": []
    },
    {
      "cell_type": "markdown",
      "source": [
        "Scrivere un codice in grado di tracciare la traiettoria di un punto P di moto circolare uniforme."
      ],
      "metadata": {
        "id": "6SgqRJAR8_Ze"
      }
    },
    {
      "cell_type": "code",
      "source": [
        "import numpy as np\n",
        "import matplotlib.pyplot as plt\n",
        "\n",
        "# Input dei dati\n",
        "T = float(input(\"Inserisci il periodo (T) in secondi: \"))\n",
        "omega = 2 * np.pi / T  # Calcola la velocità angolare da T\n",
        "r = float(input(\"Inserisci il raggio (r) in metri: \"))\n",
        "\n",
        "# Calcola l'intervallo di tempo per il tracciamento della traiettoria\n",
        "t = np.linspace(0, T, 1000)  # Dividiamo il periodo in 1000 punti temporali\n",
        "\n",
        "# Calcola le coordinate x e y del punto P in funzione del tempo\n",
        "x = r * np.cos(omega * t)\n",
        "y = r * np.sin(omega * t)\n",
        "\n",
        "# Traccia la traiettoria\n",
        "plt.figure(figsize=(6, 6))\n",
        "plt.plot(x, y, label=\"Traiettoria di P\")\n",
        "plt.scatter(0, 0, color='red', label=\"Centro O\")\n",
        "plt.legend()\n",
        "plt.title(\"Traiettoria di un punto in moto circolare uniforme\")\n",
        "plt.xlabel(\"X\")\n",
        "plt.ylabel(\"Y\")\n",
        "plt.grid()\n",
        "plt.axis('equal')  # Per mantenere gli assi x e y uguali\n",
        "plt.show()\n"
      ],
      "metadata": {
        "id": "SqN1ymoRBrmw"
      },
      "execution_count": null,
      "outputs": []
    },
    {
      "cell_type": "code",
      "source": [
        "[] # inserisci il codice qui"
      ],
      "metadata": {
        "id": "SpRWte9B9sso"
      },
      "execution_count": null,
      "outputs": []
    },
    {
      "cell_type": "markdown",
      "source": [
        "Scrivere un codice in grado di tracciare la traiettoria di un punto P di moto armonico"
      ],
      "metadata": {
        "id": "Thwx47TF9Xw2"
      }
    },
    {
      "cell_type": "code",
      "execution_count": null,
      "metadata": {
        "id": "8Onquv6WJO9X"
      },
      "outputs": [],
      "source": [
        "# moto circolare e moto armonico\n",
        "\n",
        "import numpy as np\n",
        "import matplotlib.pyplot as plt\n",
        "\n",
        "#r = 1                      # raggio della circonferenza\n",
        "#omega = 1                  # velocità angolare\n",
        "#T = 6.4                    # durata del moto\n",
        "\n",
        "t = np.linspace(0, T, 100)   # array degli istanti di tempo\n",
        "\n",
        "xt = r * np.cos(omega * t) # calcolo delle x di P\n",
        "yt = r * np.sin(omega * t) # calcolo delle y di P\n",
        "\n",
        "plt.axis('equal')          # stessa unità  di misura assi\n",
        "plt.plot(xt,yt,'g:o',label='moto circolare uniforme(x,y)')\n",
        "plt.plot(t,yt,'r:o',label='moto armonico(t,x)')\n",
        "plt.legend(loc='upper right')\n",
        "plt.grid()\n",
        "plt.xticks(fontsize=16)\n",
        "plt.yticks(fontsize=16)\n",
        "plt.show()\n"
      ]
    }
  ]
}