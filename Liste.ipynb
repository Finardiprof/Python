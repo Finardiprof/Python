{
  "cells": [
    {
      "cell_type": "markdown",
      "metadata": {
        "id": "view-in-github",
        "colab_type": "text"
      },
      "source": [
        "<a href=\"https://colab.research.google.com/github/Finardiprof/Python/blob/main/Liste.ipynb\" target=\"_parent\"><img src=\"https://colab.research.google.com/assets/colab-badge.svg\" alt=\"Open In Colab\"/></a>"
      ]
    },
    {
      "cell_type": "markdown",
      "source": [
        "**Introduzione**\n",
        "\n",
        "Le liste sono una struttura dati molto importante in Python. Sono utilizzate per memorizzare una sequenza di dati, come numeri, stringhe, oggetti o altre liste. Le liste possono essere utilizzate per memorizzare dati di qualsiasi tipo e dimensione.\n",
        "\n",
        "**Creazione di una lista**\n",
        "\n",
        "Una lista può essere creata utilizzando la funzione `list()`. La funzione `list()` accetta un elenco di valori come argomento e crea una lista con quei valori.\n",
        "\n",
        "Ad esempio, la seguente istruzione crea una lista con i numeri da 1 a 10:"
      ],
      "metadata": {
        "id": "W9Z-nJT99-nx"
      }
    },
    {
      "cell_type": "code",
      "source": [
        "lista = list(range(1, 11))"
      ],
      "outputs": [],
      "execution_count": null,
      "metadata": {
        "id": "DmRZQ-4f9-n5"
      }
    },
    {
      "cell_type": "code",
      "source": [],
      "metadata": {
        "id": "--WjdRgI-dYB"
      },
      "execution_count": null,
      "outputs": []
    },
    {
      "cell_type": "markdown",
      "source": [
        "Un'altra forma per creare una lista è utilizzare le parentesi quadre. Ad esempio, la seguente istruzione crea una lista con le parole \"ciao\", \"mondo\" e \"Python\":"
      ],
      "metadata": {
        "id": "Q9_dROzw9-n-"
      }
    },
    {
      "cell_type": "code",
      "source": [
        "lista = [\"ciao\", \"mondo\", \"Python\"]"
      ],
      "outputs": [],
      "execution_count": 12,
      "metadata": {
        "id": "t9YLHSUb9-n_"
      }
    },
    {
      "cell_type": "markdown",
      "source": [
        "**Accesso agli elementi di una lista**\n",
        "\n",
        "Gli elementi di una lista possono essere acceduti utilizzando gli indici. Gli indici delle liste iniziano da 0.\n",
        "\n",
        "Ad esempio, la seguente istruzione accede al secondo elemento della lista `lista`:"
      ],
      "metadata": {
        "id": "khW4ecxs9-oC"
      }
    },
    {
      "cell_type": "code",
      "source": [
        "print(lista[1])"
      ],
      "outputs": [],
      "execution_count": null,
      "metadata": {
        "id": "gC374Dcc9-oD"
      }
    },
    {
      "cell_type": "markdown",
      "source": [
        "**Iterazione su una lista**\n",
        "\n",
        "Per iterare su una lista, è possibile utilizzare un ciclo `for`. Il ciclo `for` esegue il blocco di codice specificato una volta per ogni elemento della lista.\n",
        "\n",
        "Ad esempio, la seguente istruzione stampa tutti gli elementi della lista `lista`:"
      ],
      "metadata": {
        "id": "vrdTgiq79-oF"
      }
    },
    {
      "cell_type": "code",
      "source": [
        "for elemento in lista:\n",
        "    print(elemento)"
      ],
      "outputs": [],
      "execution_count": null,
      "metadata": {
        "id": "Z6teCPZe9-oF"
      }
    },
    {
      "cell_type": "markdown",
      "source": [
        "**Funzioni sulle liste**\n",
        "\n",
        "Python fornisce molte funzioni utili per lavorare con le liste. Alcune di queste funzioni includono:\n",
        "\n",
        "* `len()`: Restituisce la lunghezza della lista.\n",
        "* `append()`: Aggiunge un elemento alla fine della lista.\n",
        "* `pop()`: Rimuove l'elemento dalla fine della lista.\n",
        "* `insert()`: Inserisce un elemento in una posizione specificata nella lista.\n",
        "* `remove()`: Rimuove un elemento specificato dalla lista.\n",
        "\n",
        "**Esempio**\n",
        "\n",
        "L'esempio seguente illustra come utilizzare alcune delle funzioni sulle liste:"
      ],
      "metadata": {
        "id": "2mDwkk079-oG"
      }
    },
    {
      "cell_type": "code",
      "source": [
        "# Crea una lista\n",
        "lista = [\"ciao\", \"mondo\", \"Python\"]\n",
        "\n",
        "# Stampa la lunghezza della lista\n",
        "print(len(lista))\n",
        "\n",
        "# Aggiunge un elemento alla fine della lista\n",
        "lista.append(\"Google\")\n",
        "\n",
        "# Rimuove l'elemento dalla fine della lista\n",
        "lista.pop()\n",
        "\n",
        "# Inserisce un elemento in una posizione specificata nella lista\n",
        "lista.insert(1, \"Ciao\")\n",
        "\n",
        "# Rimuove un elemento specificato dalla lista\n",
        "lista.remove(\"mondo\")\n",
        "\n",
        "# Stampa la lista\n",
        "print(lista)"
      ],
      "outputs": [],
      "execution_count": null,
      "metadata": {
        "id": "2nl5jiTQ9-oG"
      }
    },
    {
      "cell_type": "markdown",
      "source": [
        "Somma di 10 numeri all'interno di una lista"
      ],
      "metadata": {
        "id": "dN8vN5G5_sck"
      }
    },
    {
      "cell_type": "code",
      "source": [
        "# Crea una lista per memorizzare i numeri\n",
        "numeri = [1, 2, 33, 44, 55, 6, -7, 8, 99, 10]\n",
        "\n",
        "# Calcola la somma dei numeri\n",
        "somma = 0\n",
        "for numero in numeri:\n",
        "    somma += numero\n",
        "\n",
        "# Stampa la somma\n",
        "print(somma)"
      ],
      "metadata": {
        "id": "iD5wICx6_mR1"
      },
      "execution_count": null,
      "outputs": []
    }
  ],
  "metadata": {
    "colab": {
      "provenance": [],
      "include_colab_link": true
    },
    "kernelspec": {
      "display_name": "Python 3",
      "name": "python3"
    }
  },
  "nbformat": 4,
  "nbformat_minor": 0
}