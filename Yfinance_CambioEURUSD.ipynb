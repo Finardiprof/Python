{
  "nbformat": 4,
  "nbformat_minor": 0,
  "metadata": {
    "colab": {
      "provenance": [],
      "authorship_tag": "ABX9TyPRm+Pi8lB/4oDp3UNJ9Ikd",
      "include_colab_link": true
    },
    "kernelspec": {
      "name": "python3",
      "display_name": "Python 3"
    },
    "language_info": {
      "name": "python"
    }
  },
  "cells": [
    {
      "cell_type": "markdown",
      "metadata": {
        "id": "view-in-github",
        "colab_type": "text"
      },
      "source": [
        "<a href=\"https://colab.research.google.com/github/Finardiprof/Python/blob/main/Yfinance_CambioEURUSD.ipynb\" target=\"_parent\"><img src=\"https://colab.research.google.com/assets/colab-badge.svg\" alt=\"Open In Colab\"/></a>"
      ]
    },
    {
      "cell_type": "markdown",
      "source": [
        "# yfinance\n",
        "La libreria yfinance fornisce un'interfaccia semplice da usare per accedere ai dati finanziari da Yahoo Finance. Può essere utilizzata per scaricare dati storici e in tempo reale per azioni, valute e indici."
      ],
      "metadata": {
        "id": "hJ8stfISfNlw"
      }
    },
    {
      "cell_type": "code",
      "source": [
        "import yfinance as yf"
      ],
      "metadata": {
        "id": "77pMMjU7fxe6"
      },
      "execution_count": 2,
      "outputs": []
    },
    {
      "cell_type": "markdown",
      "source": [
        "Esempio Azione Microsoft"
      ],
      "metadata": {
        "id": "Q2VznUk2fqFJ"
      }
    },
    {
      "cell_type": "code",
      "source": [
        "cambio_EURUSD = yf.Ticker(\"EURUSD=X\")\n",
        "serie_storica = cambio_EURUSD.history(period=\"max\")\n",
        "print(serie_storica)"
      ],
      "metadata": {
        "id": "MBYerO3Eft5Z"
      },
      "execution_count": null,
      "outputs": []
    },
    {
      "cell_type": "markdown",
      "source": [
        "\n",
        "In Python, un DataFrame è una struttura dati bidimensionale con etichette e colonne di tipi potenzialmente diversi. È comunemente utilizzato per rappresentare dati tabulari, come dati da un foglio di calcolo o da un database. I DataFrame sono costruiti su array NumPy e forniscono un modo conveniente per lavorare con dati strutturati.\n",
        "\n",
        "Ecco alcune delle caratteristiche principali dei DataFrame:\n",
        "\n",
        "Righe e colonne: I DataFrame sono organizzati in righe e colonne. Ogni riga rappresenta un'osservazione singola e ogni colonna rappresenta una particolare variabile o attributo dell'osservazione.\n",
        "Dati etichettati: I DataFrame hanno righe e colonne etichettate. Ciò semplifica l'identificazione e l'accesso a punti dati specifici.\n",
        "Tipi di dati eterogenei: I DataFrame possono memorizzare dati di tipi diversi, come interi, float, stringhe e date.\n",
        "Indicizzazione e slicing: I DataFrame possono essere indicizzati e tagliati utilizzando una varietà di metodi, rendendo facile selezionare e manipolare punti dati specifici o gruppi di punti dati.\n",
        "Manipolazione e analisi dei dati: I DataFrame forniscono un ricco set di metodi per la manipolazione e l'analisi dei dati, come filtraggio, ordinamento, aggregazione e calcoli statistici."
      ],
      "metadata": {
        "id": "0VOtjKVbglsZ"
      }
    },
    {
      "cell_type": "code",
      "source": [
        "print(type(serie_storica))"
      ],
      "metadata": {
        "id": "nguXYhq9f6V6"
      },
      "execution_count": null,
      "outputs": []
    },
    {
      "cell_type": "markdown",
      "source": [
        "Selezionare Ticker e durata della serie storica"
      ],
      "metadata": {
        "id": "WlJPINr2hB1w"
      }
    },
    {
      "cell_type": "code",
      "source": [
        "# Esempio EURUSD=X o EURGBP=X ..\n",
        "Ticker = input('Inserisci il ticker per scaricare la serie storica: ')\n",
        "# Esempio 1y o 1m ..\n",
        "Tempo = input('Inserisci la durata della serie storica: ')\n",
        "Serie = yf.download(Ticker, period = Tempo)"
      ],
      "metadata": {
        "id": "pIiGBRZjhMCi"
      },
      "execution_count": null,
      "outputs": []
    },
    {
      "cell_type": "markdown",
      "source": [
        "Scaricare i dati del Data Frame in Excel"
      ],
      "metadata": {
        "id": "07e8QIc9h4k0"
      }
    },
    {
      "cell_type": "code",
      "source": [
        "import pandas as pd\n",
        "Serie.to_excel('dati.xlsx')\n",
        "from google.colab import files\n",
        "# Download the Excel file\n",
        "files.download('dati.xlsx')"
      ],
      "metadata": {
        "id": "Ix2ddDeQiDxY"
      },
      "execution_count": null,
      "outputs": []
    },
    {
      "cell_type": "markdown",
      "source": [
        "Statistiche descrittive e grafico"
      ],
      "metadata": {
        "id": "1oFeRsVai0X_"
      }
    },
    {
      "cell_type": "code",
      "execution_count": null,
      "metadata": {
        "id": "rZ298oIZr1ZK"
      },
      "outputs": [],
      "source": [
        "import statistics as st\n",
        "import matplotlib.pyplot as plt\n",
        "plt.plot(Serie.Close)\n",
        "plt.plot(Serie.High)\n",
        "plt.plot(Serie.Low)\n",
        "# Calcola le statistiche descrittive\n",
        "statistiche_descrittive = Serie.Close.describe()\n",
        "\n",
        "# Stampare le statistiche descrittive\n",
        "print(statistiche_descrittive)"
      ]
    },
    {
      "cell_type": "markdown",
      "source": [],
      "metadata": {
        "id": "jC3ANXFXfLra"
      }
    }
  ]
}