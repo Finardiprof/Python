{
  "nbformat": 4,
  "nbformat_minor": 0,
  "metadata": {
    "colab": {
      "private_outputs": true,
      "provenance": [],
      "include_colab_link": true
    },
    "kernelspec": {
      "name": "python3",
      "display_name": "Python 3"
    },
    "language_info": {
      "name": "python"
    }
  },
  "cells": [
    {
      "cell_type": "markdown",
      "metadata": {
        "id": "view-in-github",
        "colab_type": "text"
      },
      "source": [
        "<a href=\"https://colab.research.google.com/github/Finardiprof/Python/blob/main/Colab_for_Math_Educators.ipynb\" target=\"_parent\"><img src=\"https://colab.research.google.com/assets/colab-badge.svg\" alt=\"Open In Colab\"/></a>"
      ]
    },
    {
      "cell_type": "markdown",
      "metadata": {
        "id": "ZFceG9TqVwXA"
      },
      "source": [
        "# Welcome to Coding in Python with Google Colab!\n",
        "\n",
        "---\n",
        "\n",
        "This resource will provide helpful information and links as you learn to navigate this platform for use in your math classes."
      ]
    },
    {
      "cell_type": "markdown",
      "metadata": {
        "id": "mJuwI9oEl_kO"
      },
      "source": [
        "As you read through this tutorial, **feel free to explore**!\n",
        "\n",
        "Click things, edit things - you can always return to the [original tutorial](https://colab.research.google.com/drive/1fzPtJLKKdZuEzcohtXRkdUcO6XfGNbdV) if you delete something by accident!"
      ]
    },
    {
      "cell_type": "markdown",
      "metadata": {
        "id": "p1USpMHHl47m"
      },
      "source": [
        "The document you are reading is called a **Colab Notebook**, which has been shared with you in **view** mode. Unlike regular Google documents, you **can** edit this Notebook, but unless you create your own copy, any changes will not be saved!\n",
        "\n",
        "Colab Notebooks can be stored in your Google Drive, just like Google Docs, Sheets and Slides. If you would like to make a copy for yourself, go to **File -> Save a copy in Drive**."
      ]
    },
    {
      "cell_type": "markdown",
      "metadata": {
        "id": "ngyJhcSB1bQh"
      },
      "source": [
        "As you navigate this notebook, you can use the **Table of Contents** on the left side to quickly navigate to different sections.\n",
        "\n",
        "You can also collapse or expand sections using the small arrows to the left of the section title."
      ]
    },
    {
      "cell_type": "markdown",
      "metadata": {
        "id": "52iw2p9eLu0Z"
      },
      "source": [
        "Questions? Email me at karen.spindler@ocsb.ca"
      ]
    },
    {
      "cell_type": "markdown",
      "metadata": {
        "id": "I8LX1MqnjNXh"
      },
      "source": [
        "# Notebook Overview"
      ]
    },
    {
      "cell_type": "markdown",
      "metadata": {
        "id": "NxLjg0lB76f7"
      },
      "source": [
        "Colab Notebooks consist of a series of cells. There are 2 types of cells:\n",
        "\n",
        "1. Text cells\n",
        "2. Code cells\n",
        "\n",
        "[This notebook](https://colab.research.google.com/notebooks/basic_features_overview.ipynb#scrollTo=JyG45Qk3qQLS) contains a detailed description of cells in Colab."
      ]
    },
    {
      "cell_type": "markdown",
      "metadata": {
        "id": "u6DF1e6Qc45q"
      },
      "source": [
        "## Types of Cells"
      ]
    },
    {
      "cell_type": "markdown",
      "metadata": {
        "id": "7GpwQbO4TBb7"
      },
      "source": [
        "This is a **Text cell**.\n",
        "\n",
        "Text cells can contain links, images, and text formatted using a syntax called **Markdown**."
      ]
    },
    {
      "cell_type": "markdown",
      "metadata": {
        "id": "dxgteu031WgS"
      },
      "source": [
        "To **edit** a Text cell, **double-click on the cell**. This will open the Markdown editor.  \n",
        "\n",
        "You can use the toolbar to format your text.\n",
        "\n",
        "![toolbar image](https://drive.google.com/uc?export=view&id=1C3BlXmk45NFhJJSBNF34cT15RxytV2jE)"
      ]
    },
    {
      "cell_type": "markdown",
      "metadata": {
        "id": "iG_5qVfYURhY"
      },
      "source": [
        "Press **esc** or single-click another cell to exit the Markdown editor.\n",
        "\n",
        "[This notebook](https://colab.research.google.com/notebooks/markdown_guide.ipynb) contains a detailed description of Markdown."
      ]
    },
    {
      "cell_type": "code",
      "metadata": {
        "id": "40WvLpPSVsDU"
      },
      "source": [
        "print(\"This is a code cell\")\n",
        "print(\"Code cells use the Python language\")\n",
        "print()\n",
        "print(\"To edit a Code cell, single-click in the code window and type away!\")\n",
        "print()\n",
        "print(\"To execute a Code cell, click the run button on the left margin of the cell\")\n",
        "print(\"Note #1: You must be signed in to Google to run a code cell\")\n",
        "print(\"Note #2: Running a notebook authored by someone else will give a warning\")\n",
        "print(\"Don't worry - running this notebook is perfectly safe!\")"
      ],
      "execution_count": null,
      "outputs": []
    },
    {
      "cell_type": "markdown",
      "metadata": {
        "id": "c5sC3y5gdL5I"
      },
      "source": [
        "## Can Students Share Notebooks?"
      ]
    },
    {
      "cell_type": "markdown",
      "metadata": {
        "id": "saHv8kn4By3d"
      },
      "source": [
        "Yes and no.\n",
        "\n",
        "You can have multiple editors for a single notebook, however, **Colab does not show updates in real-time**. This is different from a typical Google file (docs/sheets/slides), where live edits can be seen by other viewers and editors of the document."
      ]
    },
    {
      "cell_type": "markdown",
      "metadata": {
        "id": "UTnT1fM-BSJh"
      },
      "source": [
        "To view any edits that were made since you last opened the notebook, you will need to **reload** the browser page.  \n",
        "\n",
        "If you (or someone else) have made edits in the meantime, you may receive an error message (changes will not be saved), or you may be shown a comparison of the two versions and prompted to either save or discard your changes."
      ]
    },
    {
      "cell_type": "markdown",
      "metadata": {
        "id": "sn7spbu7BeNh"
      },
      "source": [
        "For student collaboration, it is recommended to either have **students share the physical device** (one Chromebook per group) or use a **screen-sharing tool** so all students can view the same version simultaneously."
      ]
    },
    {
      "cell_type": "markdown",
      "metadata": {
        "id": "A8x4H0PseLbV"
      },
      "source": [
        "# Connecting Math with Coding"
      ]
    },
    {
      "cell_type": "markdown",
      "metadata": {
        "id": "tyf3mNpcaBBe"
      },
      "source": [
        "The following section is an activity for teachers and students to help them apply coding skills to math concepts.\n",
        "\n",
        "A student version of this Notebook is available [here](https://colab.research.google.com/drive/18ITzWEqLugOZit0XCt0N5QoEvQcRX2Ew)."
      ]
    },
    {
      "cell_type": "markdown",
      "metadata": {
        "id": "JNFbGI1k4UBu"
      },
      "source": [
        "## Math Operations with Python"
      ]
    },
    {
      "cell_type": "markdown",
      "metadata": {
        "id": "1HNefcVi4Y8Q"
      },
      "source": [
        "Python supports basic mathematical operators and expressions. If you wish to use more advanced operations (such as square roots) you need to **import** a Python Library.\n",
        "\n",
        "Definitions are from the [Ontario Grade 9 Math Curriculum (2021)](https://www.dcp.edu.gov.on.ca/en/curriculum/secondary-mathematics/courses/mth1w/c/c2)."
      ]
    },
    {
      "cell_type": "markdown",
      "metadata": {
        "id": "ODOC5lOcFsq8"
      },
      "source": [
        "### Variables in Python"
      ]
    },
    {
      "cell_type": "markdown",
      "metadata": {
        "id": "fBsDsR7FFxv5"
      },
      "source": [
        "A **variable** is a temporary storage location for data such as a numerical value or a series of characters. The values stored in that location vary depending on the commands given by the program.\n",
        "\n",
        "While variables are usually single letters in mathematics, in coding, both words and letters can be used as variables.\n",
        "\n",
        "To create a variable in Python, you must give it a **name** and then **assign** it a value. The format is `name = value`\n",
        "\n",
        "The value can be a number or text within quotation marks, like this:\n",
        "\n",
        "```python\n",
        "x = 3\n",
        "subject = \"Math is awesome!\"\n",
        "height = 42.5\n",
        "```\n",
        "In this example, `x` and `height` are numeric variables, while `subject` is a series of characters, commonly called a *string*.\n",
        "\n",
        "Try running the Code cell below. What do you think will be displayed as output?\n"
      ]
    },
    {
      "cell_type": "code",
      "metadata": {
        "id": "oTPvPOGJG2jP"
      },
      "source": [
        "x = 3\n",
        "subject = \"Math is awesome!\"\n",
        "height = 42.5\n",
        "\n",
        "print(x)\n",
        "print(subject)\n",
        "print(height)"
      ],
      "execution_count": null,
      "outputs": []
    },
    {
      "cell_type": "markdown",
      "metadata": {
        "id": "F_DzwglQfHDq"
      },
      "source": [
        "#### Naming Variables"
      ]
    },
    {
      "cell_type": "markdown",
      "metadata": {
        "id": "nxrEQd_MnX6Y"
      },
      "source": [
        "Some rules about naming variables\n",
        "\n",
        "1. Variable names must **begin** with a letter or an underscore\n",
        "2. Variable names may **contain** letters, numbers, or underscores\n",
        "\n",
        "Here are some examples of **valid** variable names:\n",
        "\n",
        "*   `x1`\n",
        "*   `answer`\n",
        "*   `height_of_prism`"
      ]
    },
    {
      "cell_type": "markdown",
      "metadata": {
        "id": "a3mCewZNP7Sl"
      },
      "source": [
        "The following are **invalid** variables names in Python, followed by the reasoning:\n",
        "\n",
        "*   `1x` - *begins with a number*\n",
        "*   `answer#` - *contains an invalid symbol*\n",
        "*   `height of prism` - *contains spaces*\n",
        "\n",
        "If you give a variable an **invalid** name, Python will generate an error.  Try running the code below to see what happens:"
      ]
    },
    {
      "cell_type": "code",
      "metadata": {
        "id": "GABVT4Hi3WH7"
      },
      "source": [
        "1x = 3\n",
        "\n",
        "print(1x)"
      ],
      "execution_count": null,
      "outputs": []
    },
    {
      "cell_type": "markdown",
      "metadata": {
        "id": "PUK4mywmA9PQ"
      },
      "source": [
        "### Algebraic Expressions"
      ]
    },
    {
      "cell_type": "markdown",
      "metadata": {
        "id": "kMYeBWYGBDsU"
      },
      "source": [
        "Python can evaluate mathematical expressions consisting of both variables and numerical coefficients.\n",
        "\n",
        "The base Python library supports the following operators:\n",
        "\n",
        "*   `+`  Addition\n",
        "*   `-`  Subtraction\n",
        "*   `*`  Multiplication\n",
        "*   `**` Exponent\n",
        "*   `/`  Division\n",
        "*   `//` Integer Division (returns the quotient only)\n",
        "*   `%` Modulus Division (returns the remainder only)\n",
        "\n",
        "You can also uses parentheses `()` to group expressions as needed. Python will use the standard order of operations (BEDMAS) in all expressions that are evaluated.\n",
        "\n",
        "Consider the following algebraic expression:\n",
        "\n",
        "$$ 3x^2 + 2x - 5 $$\n",
        "\n",
        "The following code will evaluate this expression for $x = 2$, which gives an answer of $11$. Notice that the `*` must be given explicitly, despite being implied in the algebraic expression.\n",
        "\n",
        "Try running the code cell below:"
      ]
    },
    {
      "cell_type": "code",
      "metadata": {
        "id": "J5pb1FmkExRB"
      },
      "source": [
        "x = 2\n",
        "\n",
        "answer = 3*x**2 + 2*x - 5\n",
        "\n",
        "print(answer)"
      ],
      "execution_count": null,
      "outputs": []
    },
    {
      "cell_type": "markdown",
      "metadata": {
        "id": "7hEHOVdOFdsI"
      },
      "source": [
        "**Check Your Understanding!**\n",
        "\n",
        "1. Modify the code above to evaluate the expression for $x = 1$ (*answer: 0*)\n",
        "\n",
        "2. Modify the code to evaluate the expression for $x = -2$ (*answer: 3*)\n",
        "\n",
        "3. Modify the code to evaluate the expression $$1.5x^2 + 3x - 10$$ for $x = -4$ (*answer: 2.0*)\n",
        "\n",
        "4. Modify the code to evaluate the expression $$\\frac{3}{2}x^2 + 3x - 10$$ for $x = 1$ (*answer: -5.5*)\n",
        "\n",
        "5. Modify the code to evaluate the expression $$5xy - 4x + 2y$$ for $x = -2$ and $y = 3$ (*answer: -16*)"
      ]
    },
    {
      "cell_type": "markdown",
      "metadata": {
        "id": "xOw9qqZMOuCg"
      },
      "source": [
        "### Equations"
      ]
    },
    {
      "cell_type": "markdown",
      "metadata": {
        "id": "0K13YTkYOzyw"
      },
      "source": [
        "An **equation** is a mathematical statement that has equivalent expressions on either side of an equal sign.\n",
        "\n",
        "A **solution** to an equation is a value of a variable that makes the equation true.\n",
        "\n",
        "We can use the `==` operator in Python to verify if a value is a solution or not.\n",
        "\n",
        "In the code samples below, we will `print` the result of this operator to the output screen. The possible outputs are **`True`** (if the value is a solution) or **`False`** (if the value is not a solution)\n",
        "\n",
        "The following code will determine if the value $x=2$ is a solution to the equation $$3x+4 = 8x-6$$\n",
        "\n",
        "Try running the code cell below:"
      ]
    },
    {
      "cell_type": "code",
      "metadata": {
        "id": "MJUmsQyZlpXO"
      },
      "source": [
        "x = 2\n",
        "\n",
        "print(3*x + 4 == 8*x − 6)"
      ],
      "execution_count": null,
      "outputs": []
    },
    {
      "cell_type": "markdown",
      "metadata": {
        "id": "wJU5f0J4tk18"
      },
      "source": [
        "The output of **`True`** means that $x=2$ is a solution to $3x+4=8x−6$\n",
        "\n",
        "**Check Your Understanding!**\n",
        "\n",
        "1. Modify the code above to test **if** $x = 3$ is a solution. What does the output mean?\n",
        "\n",
        "2. Modify the code to verify that $x = 3$ **is a solution** to $$-2x + 10 = x + 1$$\n",
        "\n",
        "3. Modify the code to verify that $x = 2$ **is NOT a solution** to $$3x - 2 = 2x + 5$$\n",
        "\n",
        "4. Modify the code to verify that $x = -2$ **is a solution** to $$10 + x = -3x + 2$$\n",
        "\n",
        "5. Modify the code to verify that $x = 8$ **is a solution** to $$20 - 4x = -12$$\n",
        "\n"
      ]
    },
    {
      "cell_type": "markdown",
      "metadata": {
        "id": "jABsdLjjrgOR"
      },
      "source": [
        "As expressions get more complicated, you may wish to **separate** the left and right side of the equation into two additional variables. This is especially useful when the expressions on either side contain brackets.\n",
        "\n",
        "The following code will determine if the value $x=3$ is a solution to the equation $$4(2x+1) = -2(-3x-5)$$\n",
        "\n",
        "Try running the code cell below:"
      ]
    },
    {
      "cell_type": "code",
      "metadata": {
        "id": "8spTjt4tk_uI"
      },
      "source": [
        "x = 3\n",
        "\n",
        "left_side = 4*(2*x + 1)\n",
        "right_side = -2*(-3*x - 5)\n",
        "\n",
        "print(left_side == right_side)"
      ],
      "execution_count": null,
      "outputs": []
    },
    {
      "cell_type": "markdown",
      "metadata": {
        "id": "exJRi2VTA8Ks"
      },
      "source": [
        "**Check Your Understanding!**\n",
        "\n",
        "1. Modify the code above to verify that $x=-9$ **is a solution** to $$-2(3x-5) = 4(-3x-11)$$\n",
        "\n",
        "2. Modify the code to verify that $x = 1.5$ **is a solution** to $$4(2x - 1) = 2(3x - 1) +1$$\n",
        "\n",
        "3. Modify the code to verify that $x = -1$ **is a solution** to $$3x(2x+5)=-3x(x-2)$$\n",
        "\n"
      ]
    },
    {
      "cell_type": "markdown",
      "metadata": {
        "id": "K_xv6rOzv5UC"
      },
      "source": [
        "### Inequalities"
      ]
    },
    {
      "cell_type": "markdown",
      "metadata": {
        "id": "aO-lBea5ZAeC"
      },
      "source": [
        "An **inequality** describes the relationship between two expressions that are **not** equal.\n",
        "\n",
        "An ineqality states that the first expression, when compared to the second expression, is one of the following:\n",
        "\n",
        "*   less than $<$\n",
        "*   greater than $>$\n",
        "*   not equal to $\\ne$\n",
        "*   less than or equal to $\\le$\n",
        "*   greater than or equal to $\\ge$\n",
        "\n",
        "Each inequality relationship has a corresponding Python operator:\n",
        "\n",
        "\n",
        "Relationship | Sign | Operator\n",
        "--- | --- | ---\n",
        "less than | $<$ | `<`\n",
        "greater than | $>$| `>`\n",
        "not equal to | $\\ne$| `!=`\n",
        "less than or equal to | $\\le$| `<=`\n",
        "greater than or equal to | $\\ge$| `>=`\n",
        "\n",
        "The following code will verify that $x = 6$ is a solution to $$ 2x - 4 > 7$$\n"
      ]
    },
    {
      "cell_type": "code",
      "metadata": {
        "id": "F5Bkup5E7R7M"
      },
      "source": [
        "x = 6\n",
        "\n",
        "print(2*x - 4 > 7)"
      ],
      "execution_count": null,
      "outputs": []
    },
    {
      "cell_type": "markdown",
      "metadata": {
        "id": "e3iqClCf8cHQ"
      },
      "source": [
        "**Check Your Understanding!**\n",
        "\n",
        "1. Modify the code above to verify that $x=5$ **is a solution** to $$ 2x - 4 < 7$$\n",
        "\n",
        "2. Modify the code to verify that $x=5.5$ **is a solution** to $$ 2x - 4 \\ge 7$$\n",
        "\n",
        "3. Modify the code to verify that $x=5.5$ **is NOT a solution** to $$ 2x - 4 \\ne 7$$\n",
        "\n"
      ]
    },
    {
      "cell_type": "markdown",
      "metadata": {
        "id": "PqchsPkLIUBt"
      },
      "source": [
        "### Parameters (Advanced/Extension Activity)\n",
        "\n",
        "The next section has some very advanced concepts. Proceed if you are ready for a challenge!"
      ]
    },
    {
      "cell_type": "markdown",
      "metadata": {
        "id": "1J9OeW84cVxW"
      },
      "source": [
        "A **parameter** is a special variable that defines the values that are inputted to a Code cell. Parameters are often used in programming to separate input values from the logic of a program.\n",
        "\n",
        "Colab provides a convenient way to create parameters: by using **Forms** with Code cells.\n",
        "\n",
        "Forms allow you to create **parameters** that will become **input values** for the code that you write."
      ]
    },
    {
      "cell_type": "markdown",
      "metadata": {
        "id": "yC34V_bhsmH_"
      },
      "source": [
        "To create a form, select a **Code cell** and choose the **More cell actions** option from the toolbar (OR right-click the Code cell) and select **Add a Form.**\n",
        "\n",
        "Try adding a form to the Code cell below:"
      ]
    },
    {
      "cell_type": "code",
      "metadata": {
        "id": "rBmqZjjYvih_"
      },
      "source": [],
      "execution_count": null,
      "outputs": []
    },
    {
      "cell_type": "markdown",
      "metadata": {
        "id": "ZhF54QXcxdG4"
      },
      "source": [
        "Once the form is created, you will notice a line of code added to your Code cell.\n",
        "\n",
        "You Code cell will now contain something similar to:\n",
        "\n",
        "```python\n",
        "#@title Default title text\n",
        "```\n",
        "\n",
        "You can change the \"Default title text\" to a title that descrbies the purpose of the form.  These titles will appear in the Table of Contents on the left side of the Colab Notebook."
      ]
    },
    {
      "cell_type": "markdown",
      "metadata": {
        "id": "EfXcxeCmBHni"
      },
      "source": [
        "---"
      ]
    },
    {
      "cell_type": "markdown",
      "metadata": {
        "id": "r2ShUs6la-E1"
      },
      "source": [
        "To add a parameter (or form field) to the form, click **More cell actions** (OR right-click the Code cell) -> **Form** -> **Add a form field** and provide the:\n",
        "\n",
        "* Form field type (*each type has a different set of options*)\n",
        "  * input (can be integer, number, string, or other types provided by Python)\n",
        "  * dropdown (for text-based lists)\n",
        "  * slider (with customizable min, max and step)\n",
        "  * markdown (to provide information text in the form)\n",
        "* Variable name"
      ]
    },
    {
      "cell_type": "markdown",
      "metadata": {
        "id": "jmxyVaSGtd6H"
      },
      "source": [
        "In the example below, a **number**-type input parameter has been created, named `x`. As the parameters are added to the form, the corresponding code will appear in the code cell.  \n",
        "\n",
        "Try adding another **number**-type **input** parameter, named `y`. Use the **Add a form field** menu option to do this.\n",
        "\n",
        "![Form context menu](https://drive.google.com/uc?export=view&id=1Cpf3VVaLCcwAxXK5U1LOcrRh35RDWZAt)"
      ]
    },
    {
      "cell_type": "code",
      "metadata": {
        "id": "1RekI9NZzVv6"
      },
      "source": [
        "#@title Add Parameters to a Form { run: \"auto\" }\n",
        "x = 0 #@param {type:\"number\"}\n",
        "\n",
        "print (\"x:\", x)\n",
        "print (\"y:\", y)"
      ],
      "execution_count": null,
      "outputs": []
    },
    {
      "cell_type": "markdown",
      "metadata": {
        "id": "2DIvxVHmFMIj"
      },
      "source": [
        "Try running the code cell, and use the **input field** on the right side to change the values of $x$ and $y$. Observe the output."
      ]
    },
    {
      "cell_type": "markdown",
      "metadata": {
        "id": "Ld4A7vynifFg"
      },
      "source": [
        "You may have noticed that each time you change the parameter's value, you need to manually re-run the Code cell. You can **edit the form's attributes** to change this behaviour.\n",
        "\n",
        "Using the code cell above, click **More cell actions** (OR right-click the Code cell) -> **Form** -> **Edit form attributes**.\n",
        "\n",
        "Enable the option to **Auto-execute the cell when fields change**.  *Be aware that this setting will not take effect until after the cell is run once manually*. Notice that an extra piece of code is added to the first line of the code cell.\n",
        "\n",
        "Run the code cell once manually (click on the run button), then try changing the values of $x$ and $y$ (using the input fields on the right side), and observe how the the output changes."
      ]
    },
    {
      "cell_type": "markdown",
      "metadata": {
        "id": "u_3GFEmFA_nV"
      },
      "source": [
        "---"
      ]
    },
    {
      "cell_type": "markdown",
      "metadata": {
        "id": "oJbjyT3cnNcu"
      },
      "source": [
        "The form below could be used to determine if **two** variables, $x$ and $y$, both satisfy the equation described by $$y = 3x+2$$\n",
        "\n",
        "You will need to add the $y$ parameter. Try creating a **slider**-type variable, named `y`, with the following settings:\n",
        "* Min: -50\n",
        "* Max: 50\n",
        "* Step: 1"
      ]
    },
    {
      "cell_type": "code",
      "metadata": {
        "id": "8g09udmwm6Un"
      },
      "source": [
        "#@title Using Sliders { run: \"auto\" }\n",
        "x = 6 #@param {type:\"slider\", min:-50, max:50, step:1}\n",
        "\n",
        "print(y == 3*x + 2)"
      ],
      "execution_count": null,
      "outputs": []
    },
    {
      "cell_type": "markdown",
      "metadata": {
        "id": "P793bk7QAG0i"
      },
      "source": [
        "Run the code manually once, then try using the sliders to change the input values.\n",
        "\n",
        "Can you find values for $x$ and $y$ that will make the output `True`? What does this mean about the values that you have chosen?"
      ]
    },
    {
      "cell_type": "markdown",
      "metadata": {
        "id": "c-xhK1EWoKJP"
      },
      "source": [
        "**Check Your Understanding!**\n",
        "\n",
        "1. Modify the code above to enable the user to find solutions to $$ y = -2x+4 $$\n",
        "\n",
        "2. Modify the code above to enable the user to find solutions to $$ y = \\frac{5}{3}x-2 $$\n",
        "\n",
        "3. Modify the code above to enable the user to find solutions to $$ y < -1.5x + 4 $$"
      ]
    },
    {
      "cell_type": "markdown",
      "metadata": {
        "id": "hzXBjH1gI-ht"
      },
      "source": [
        "## Using Python Libraries (Reference)"
      ]
    },
    {
      "cell_type": "markdown",
      "metadata": {
        "id": "rP-GB08kUMeY"
      },
      "source": [
        "To extend the functionality of your code, you can **import** library modules.\n",
        "\n",
        "These will contain pre-built functions, also known as subprograms. You can use each library module's **documentation** for details on how to use the functions.\n",
        "\n",
        "Note: Some of the code below contains the `#` symbol. These are **comments** and are NOT part of the executed code. They are there to help programmers understand what the code is doing."
      ]
    },
    {
      "cell_type": "markdown",
      "metadata": {
        "id": "0Qycp5fKK3lA"
      },
      "source": [
        "### The Math Library"
      ]
    },
    {
      "cell_type": "markdown",
      "metadata": {
        "id": "rePlqT5RNRU2"
      },
      "source": [
        "The [Math library](https://docs.python.org/3.7/library/math.html) provides access to more advanced math functions, such as square roots and constants such as pi.\n",
        "\n",
        "Try running the code cell below."
      ]
    },
    {
      "cell_type": "code",
      "metadata": {
        "id": "70vU9NKkUdk6"
      },
      "source": [
        "import math\n",
        "\n",
        "print(\"Square root of 16 is:\")\n",
        "root = math.sqrt(16)          # Place the input to the sqrt function inside ()\n",
        "print(root)\n",
        "\n",
        "print()     # Add an empty line to the output for readability\n",
        "\n",
        "print(\"Area of a circle with radius 3 is: \")\n",
        "radius = 3\n",
        "area = math.pi * radius ** 2  # No brackets needed - pi does not require input\n",
        "print(area)\n",
        "\n",
        "print()     # Add an empty line to the output for readability\n",
        "\n",
        "print(\"Area rounded to 1 decimal place: \")\n",
        "rounded_area = round(area, 1) # round() is a built-in function - not part of the math library!\n",
        "                              # This will round the area to 1 decimal place\n",
        "print(rounded_area)"
      ],
      "execution_count": null,
      "outputs": []
    },
    {
      "cell_type": "markdown",
      "metadata": {
        "id": "TIEORU5wUXLf"
      },
      "source": [
        "### The NumPy Library"
      ]
    },
    {
      "cell_type": "markdown",
      "metadata": {
        "id": "8lyenqLEUV4R"
      },
      "source": [
        "The [NumPy Library](https://numpy.org/devdocs/user/index.html) is used for working with numerical lists, and other scientific computing purposes.\n",
        "\n",
        "It is often used in conjunction with other libraries, such as tabulate (table of values), matplotlib (graphs) and pandas (data analysis).\n",
        "\n",
        "A standard convention is to use the short form `np` when importing the NumPy library.\n",
        "\n",
        "Try running the code cell below."
      ]
    },
    {
      "cell_type": "code",
      "metadata": {
        "id": "65uFxci8XyKL"
      },
      "source": [
        "import numpy as np    # Use 'np' to access the module instead of 'numpy'\n",
        "\n",
        "print(\"Here is a list of 11 numbers, evenly spaced from -10 to +10\")\n",
        "x_values = np.linspace(-10, 10, 11)\n",
        "print(x_values)\n",
        "\n",
        "print()     # Add an empty line to the output for readability\n",
        "\n",
        "print(\"Here is a new list where each element is 2 times the original (y = 2x)\")\n",
        "y_values = 2*x_values\n",
        "print(y_values)\n",
        "\n",
        "print()     # Add an empty line to the output for readability\n",
        "\n",
        "print(\"Here are both lists, organized as x & y pairs\")\n",
        "pairs = np.transpose([x_values, y_values])\n",
        "print(pairs)"
      ],
      "execution_count": null,
      "outputs": []
    },
    {
      "cell_type": "markdown",
      "metadata": {
        "id": "9PiC5v-CK5--"
      },
      "source": [
        "### The Tabulate Library"
      ]
    },
    {
      "cell_type": "markdown",
      "metadata": {
        "id": "z4KZN-buabbi"
      },
      "source": [
        "The [Tabulate Library](https://github.com/astanin/python-tabulate#readme) is used to create well-formatted tables of values.\n",
        "\n",
        "This library contains only 1 function, so the import statement is modified to reflect this.\n",
        "\n",
        "Try running the code cell below."
      ]
    },
    {
      "cell_type": "code",
      "metadata": {
        "id": "6fZholNPcE5K"
      },
      "source": [
        "import numpy as np    # Use 'np' to access the module instead of 'numpy'\n",
        "from tabulate import tabulate   # Import the tabulate function from the tabulate library\n",
        "                                # to use the function, we just need the function name\n",
        "\n",
        "# Create the x and y values (copied from previous cell)\n",
        "x_values = np.linspace(-10, 10, 11)\n",
        "y_values = 2*x_values\n",
        "pairs = np.transpose([x_values, y_values])\n",
        "\n",
        "print(\"Here are the x & y pairs in a table\")\n",
        "\n",
        "table = tabulate(pairs,                 # required: The data for the table\n",
        "                 headers=('x', 'y'),    # optional: Header text (place text in quotes!)\n",
        "                 tablefmt='fancy_grid', # optional: Table format (try simple, grid, or fancy_grid for different looks)\n",
        "                 numalign='center',     # optional: Alignment (try right, center, left, or decimal)\n",
        "                 floatfmt='.1f')        # optional: Number of decimal places (try .0f, .1f, or .2f)\n",
        "\n",
        "print(table)"
      ],
      "execution_count": null,
      "outputs": []
    },
    {
      "cell_type": "markdown",
      "metadata": {
        "id": "GLo7KxfWaSxZ"
      },
      "source": [
        "### The Matplotlib Library"
      ]
    },
    {
      "cell_type": "markdown",
      "metadata": {
        "id": "ASM5d8fZNUrJ"
      },
      "source": [
        "The [Matplotlib Library](https://matplotlib.org/3.2.2/api/_as_gen/matplotlib.pyplot.html#module-matplotlib.pyplot) is used to create graphs.\n",
        "\n",
        "This is a very large library module; the code below imports only the **pyplot** sub-module and gives it the short form `plt`.\n",
        "\n",
        "Below is an example of the steps required to create the graph of the data from the previous code cells. Try running the code cell below."
      ]
    },
    {
      "cell_type": "code",
      "metadata": {
        "id": "mcjN8EJ-h1Cr"
      },
      "source": [
        "import numpy as np    # Use 'np' to access the module instead of 'numpy'\n",
        "import matplotlib.pyplot as plt  # use 'plt' to acccess the sub-module\n",
        "\n",
        "# Create the x and y values (copied from the previous cell)\n",
        "x_values = np.linspace(-10, 10, 11)\n",
        "y_values = 2*x_values\n",
        "\n",
        "# Step 1: Create the graph area\n",
        "plt.figure(figsize=(8,8))        # (width = 8 units, length = 8 units)\n",
        "\n",
        "# Step 2: Create the scale for each axis (from -20 to +20, with 21 tick markings)\n",
        "scale = np.linspace(-20, 20, 21)\n",
        "plt.axes(xticks=scale, yticks=scale)\n",
        "\n",
        "# Step 3: Draw the axes\n",
        "plt.axhline(y=0, color='black')  # draw x-axis\n",
        "plt.axvline(x=0, color='black')  # draw y-axis\n",
        "\n",
        "# Step 4: Set the window limits\n",
        "plt.xlim(-20, 20)        # set the x-axis to start at -20 and end at +20\n",
        "plt.ylim(-20, 20)        # set the y-axis to start at -20 and end at +20\n",
        "\n",
        "# Step 5: Turn grid visibility on\n",
        "plt.grid()\n",
        "\n",
        "# Step 6: plot the data as a solid green line, with the points as large dots\n",
        "plt.plot(x_values,\n",
        "         y_values,\n",
        "         'o-g')           # format string: [marker][line][color]\n",
        "\n",
        "print(\"Graph of y=2x\")"
      ],
      "execution_count": null,
      "outputs": []
    },
    {
      "cell_type": "markdown",
      "metadata": {
        "id": "9Kzsxh8YnIZN"
      },
      "source": [
        "To change the appearance of the line, modify the format string. The following image shows the many options available:\n",
        "\n",
        "![Format String.jpg](https://drive.google.com/uc?export=view&id=1Eb8O1oj6QzENWkmQiGV9mk10fEN44sK_)"
      ]
    },
    {
      "cell_type": "markdown",
      "metadata": {
        "id": "PUXjZpRul8ei"
      },
      "source": [
        "You can also plot individual points or multiple lines on the same grid.\n",
        "\n",
        "In the following code cell, another Python library is used - the random library to generate random values for points."
      ]
    },
    {
      "cell_type": "code",
      "metadata": {
        "id": "UK-XePUTmL81"
      },
      "source": [
        "import numpy as np    # Use 'np' to access the module instead of 'numpy'\n",
        "import matplotlib.pyplot as plt  # use 'plt' to acccess the sub-module\n",
        "import random\n",
        "\n",
        "# Step 1: Create the graph area (width = 5 units, length = 8 units)\n",
        "plt.figure(figsize=(5,8))\n",
        "\n",
        "# Step 2: Create the scale for each axis (you can create different scales for x & y)\n",
        "x_scale = np.linspace(0, 10, 11)\n",
        "y_scale = np.linspace(0, 20, 21)\n",
        "plt.axes(xticks=x_scale, yticks=y_scale)\n",
        "\n",
        "# Step 3: Draw the axes\n",
        "plt.axhline(y=0, color='black')  # draw x-axis\n",
        "plt.axvline(x=0, color='black')  # draw y-axis\n",
        "\n",
        "# Step 4: Set the window limits\n",
        "plt.xlim(0, 10)       # set the x-axis to start at 0 and end at 10\n",
        "plt.ylim(0, 20)       # set the y-axis to start at 0 and end at 20\n",
        "\n",
        "# Step 5: Turn grid visibility on\n",
        "plt.grid()\n",
        "\n",
        "# Step 6: plot individual points (choosing random points)\n",
        "x = random.randint(0, 10)     # pick a random integer between 0 and 10\n",
        "y = random.randint(0, 20)     # pick a random integer between 0 and 20\n",
        "plt.plot(x, y, 'sr')          # plot as a red square\n",
        "\n",
        "x = random.uniform(0, 10)     # pick a random number between 0 and 10\n",
        "y = random.uniform(0, 20)     # pick a random number between 0 and 20\n",
        "plt.plot(x, y, '*b')          # plot as a blue star\n",
        "\n",
        "# Let's also plot two lines - create the x-values (no negative numbers this time)\n",
        "x_values = np.linspace(0, 10, 11)\n",
        "\n",
        "# You can type the equation right into the function!\n",
        "plt.plot(x_values,\n",
        "         3*x_values + 1,  # y = 3x + 1\n",
        "         'x:g')           # plots a green dotted line with 'x' for the points\n",
        "\n",
        "plt.plot(x_values,\n",
        "         -5/2*x_values + 16,  # y = -5/2x + 16\n",
        "         'D--y')              # plots a yellow dashed line with diamonds for the points\n",
        "\n",
        "print(\"Random points and a couple of lines\")"
      ],
      "execution_count": null,
      "outputs": []
    },
    {
      "cell_type": "markdown",
      "metadata": {
        "id": "B31TjIJ5hQSj"
      },
      "source": [
        "### The Pandas Library"
      ]
    },
    {
      "cell_type": "markdown",
      "metadata": {
        "id": "K8-WYJ83hQSm"
      },
      "source": [
        "The [Pandas Library](https://pandas.pydata.org/pandas-docs/version/1.1.5/user_guide/index.html) is a powerful data analysis tool.  \n",
        "\n",
        "If you are interested in exploring this library, please visit [Peter Been's code repository](https://github.com/pbeens/OTF-Data-Analysis-2021-05#readme). He does an excellent job of providing tutorials, videos, and sample notebooks to demonstrate how to use this tool."
      ]
    },
    {
      "cell_type": "markdown",
      "metadata": {
        "id": "B4BCsqy4k_dU"
      },
      "source": [
        "# Creating your own Lessons with Colab"
      ]
    },
    {
      "cell_type": "markdown",
      "metadata": {
        "id": "j24ov8NyfkIK"
      },
      "source": [
        "The following sections describe some tips and tricks that you may find useful as you explore creating or modifying Colab Notebooks."
      ]
    },
    {
      "cell_type": "markdown",
      "metadata": {
        "id": "qPA5cWOaf-FE"
      },
      "source": [
        "## Working with Cells"
      ]
    },
    {
      "cell_type": "markdown",
      "metadata": {
        "id": "lafGUHBpgFVv"
      },
      "source": [
        "To **select** a cell (Code or Text), **single-click on the cell**.\n",
        "\n",
        "When you select a cell, a cell toolbar pops up on the right side. You can use this toolbar to **move** cells, leave **comments** on cells or **delete** cells.\n",
        "\n",
        "![Cell Toolbar](https://drive.google.com/uc?export=view&id=1C5m4LuizhegFPeHAOsG0q7yjNNFru3k0)\n",
        "\n"
      ]
    },
    {
      "cell_type": "markdown",
      "metadata": {
        "id": "HA5B6cVv_q-W"
      },
      "source": [
        "You can select multiple cells by holding down **ctrl** while clicking.\n",
        "\n",
        "This gives you the option to **merge cells** (under the \"more options\" menu.)"
      ]
    },
    {
      "cell_type": "markdown",
      "metadata": {
        "id": "uwvwJijnNtOm"
      },
      "source": [
        "To **add** cells, hover the cursor **between any two cells** and select the type you wish to add.\n",
        "\n",
        "You can also use the toolbar at the top of the screen:\n",
        "\n",
        "---\n",
        "\n",
        "![Add Cell](https://drive.google.com/uc?export=view&id=1C9Am-YPuDwsau2NL2mnVt_nD266L0GiT)\n",
        "\n",
        "---\n",
        "\n",
        "This will insert a new cell **below** the currently selected cell."
      ]
    },
    {
      "cell_type": "markdown",
      "metadata": {
        "id": "pNpq9P0-EjJT"
      },
      "source": [
        "## Sections: Special Text Cells\n",
        "\n",
        "**Sections** are Text cells that contain a **heading**."
      ]
    },
    {
      "cell_type": "markdown",
      "metadata": {
        "id": "V6NZQhQwHKh0"
      },
      "source": [
        "Any cells underneath a section can be expanded or collapsed using the arrow next to the section title."
      ]
    },
    {
      "cell_type": "markdown",
      "metadata": {
        "id": "l1n9dYWDfvxT"
      },
      "source": [
        "The **Table of Contents** on the left side is populated with section headings.\n",
        "\n",
        "You can click these to quickly navigate through the notebook."
      ]
    },
    {
      "cell_type": "markdown",
      "metadata": {
        "id": "BbxcmHzGfNgu"
      },
      "source": [
        " In Markdown, a heading is shown with the **#** sign. The number of **#** signs determines the level of the heading.\n",
        "\n",
        "To **nest** a section inside of a section, choose an appropriate heading level. The [Markdown guide](https://colab.research.google.com/notebooks/markdown_guide.ipynb#scrollTo=Lhfnlq1Surtk) gives a detailed explanation of using headings to create sections.\n",
        "\n"
      ]
    },
    {
      "cell_type": "markdown",
      "metadata": {
        "id": "VG-sXfQtrfhD"
      },
      "source": [
        "## Math Expressions in Text cells"
      ]
    },
    {
      "cell_type": "markdown",
      "metadata": {
        "id": "jRxqO2pW4QuK"
      },
      "source": [
        "Colab uses the [LaTeX](https://www.mathjax.org) syntax to display mathematical expressions in Text cells.\n",
        "\n",
        "To create an inline mathematical expression, place a statement within a pair of `$` signs. For example, the expression `$y=x^2$` will display as $y=x^2$\n",
        "\n",
        "If you would like the expression to be centered (and on its own line), use double `$$` signs as delimiters. For example, the expression `$$y=x^2$$` will display as $$y=x^2$$"
      ]
    },
    {
      "cell_type": "markdown",
      "metadata": {
        "id": "k-0cbGWHNSGE"
      },
      "source": [
        "Here is a quick reference for using LaTeX to create simple math expressions:\n",
        "\n",
        "- curly braces `{}` are used to group expressions as required\n",
        "- `^` will create exponents or superscripts\n",
        "- `_` will create subscripts\n",
        "- `\\frac{numerator}{denominator}` will display fractions\n",
        "- `\\sqrt{expression}` will display an expression under square root sign\n",
        "  - to create other roots, place the index in square brackets: `\\sqrt[3]{expression}`\n",
        "- use `\\left(` and `\\right)` for brackets that will scale to hold fractions or larger formulas.  \n",
        "- `\\Delta`, `\\theta`, `\\pi`, etc will display Greek letters (first letter determines upper vs. lower case)\n",
        "- `\\le` and `\\ge` will display $\\le$ and $\\ge$, respectively\n",
        "- `\\times` and `\\div` will display $\\times$ and $\\div$, respectively\n",
        "- `\\pm` will display $\\pm$\n",
        "- `\\angle` will display $\\angle$\n",
        "- Certain math functions or symbols will display better if proceeded with a `\\`, such as `\\sin`, `\\log` or `\\%`.\n",
        "- `\\text{}` will display regular text\n",
        "- Note: there is no degree symbol, but ` ^ \\circ ` will display $ ^ \\circ $"
      ]
    },
    {
      "cell_type": "markdown",
      "metadata": {
        "id": "kyqO0GduXYJK"
      },
      "source": [
        "Here are some common intermediate math formulas using these rules:\n",
        "\n",
        "`$ m = \\frac {\\Delta y} {\\Delta x} $` displays $ m = \\frac {\\Delta y} {\\Delta x} $\n",
        "\n",
        "`$ V = \\frac {1} {3} \\pi r^2 h$` displays $ V = \\frac {1} {3} \\pi r^2 h $\n",
        "\n",
        "`$ V = \\frac {A_{\\text{base}} \\times \\text{height}} {3} $` displays $ V = \\frac {A_{\\text{base}} \\times \\text {height}} {3} $\n",
        "\n",
        "`$ d = \\sqrt {(x_2-x_1)^2+(y_2-y_1)^2} $` displays $ d = \\sqrt {(x_2-x_1)^2+(y_2-y_1)^2} $\n",
        "\n",
        "`$ M = \\left( \\frac{x_1+x_2}{2}, \\frac{y_1+y_2}{2} \\right) $` displays $ M = \\left( \\frac{x_1+x_2}{2}, \\frac{y_1+y_2}{2} \\right) $\n",
        "\n",
        "`$ x = \\frac {-b \\pm \\sqrt {b^2-4ac}} {2a} $` displays $ x = \\frac {-b \\pm \\sqrt {b^2-4ac}} {2a}$\n",
        "\n",
        "`$ \\frac {a}{\\sin A} = \\frac {b}{\\sin B} = \\frac {c}{\\sin C} $` displays $ \\frac {a}{\\sin A} = \\frac {b}{\\sin B} = \\frac {c}{\\sin C} $\n",
        "\n",
        "`$ c^2 = a^2 + b^2 - 2ab \\cos C $` displays $ c^2 = a^2 + b^2 - 2ab \\cos C $"
      ]
    },
    {
      "cell_type": "markdown",
      "metadata": {
        "id": "bnKVhewDca9C"
      },
      "source": [
        "**Tip**: The math equation editor in [EquatIO](https://equatio.texthelp.com/) will allow you to create a math expression and provide the LaTeX code for it.\n",
        "\n",
        "You can use this tool to help you if you are new to LaTeX!"
      ]
    },
    {
      "cell_type": "markdown",
      "metadata": {
        "id": "OvgwwJstjniT"
      },
      "source": [
        "### Note about '$' Signs"
      ]
    },
    {
      "cell_type": "markdown",
      "metadata": {
        "id": "NfAgDgE28nR7"
      },
      "source": [
        "Since the $ sign is used to denote mathematical expressions, your text cells may behave strangely if you have **two dollar signs on a single line**, such as in a problem description involving money."
      ]
    },
    {
      "cell_type": "markdown",
      "metadata": {
        "id": "jiUjEVU-Xie9"
      },
      "source": [
        "Example (View in edit mode to see the issue!)\n",
        "\n",
        "Yoga costs $20 for registration, plus $8 per\n",
        "class. How much would it cost to take 10 classes?"
      ]
    },
    {
      "cell_type": "markdown",
      "metadata": {
        "id": "qT6EwAlsXoMt"
      },
      "source": [
        "To fix the issue, place a backslash just in front of the dollar sign, like this: `\\$`."
      ]
    },
    {
      "cell_type": "markdown",
      "metadata": {
        "id": "Qg6hRpGgXp2p"
      },
      "source": [
        "Example (View in edit mode to see the fix!)\n",
        "\n",
        "Yoga costs \\$20 for registration, plus \\$8 per\n",
        "class. How much would it cost to take 10 classes?\n"
      ]
    },
    {
      "cell_type": "markdown",
      "metadata": {
        "id": "sRJDUNawYTlZ"
      },
      "source": [
        "If you would like BOTH a formula and dollar signs in a single text cell, you will need double backslashes on the dollar signs,  like this: `\\\\$`."
      ]
    },
    {
      "cell_type": "markdown",
      "metadata": {
        "id": "kMqPPPXtYTl2"
      },
      "source": [
        "Example (View in edit mode)\n",
        "\n",
        "Yoga costs \\\\$20 for registration, plus \\\\$8 per\n",
        "class. Create an equation in the form $ y = mx + b $ to represent this relation.\n"
      ]
    },
    {
      "cell_type": "markdown",
      "metadata": {
        "id": "eqTVFUpufhle"
      },
      "source": [
        "## Adding Pictures"
      ]
    },
    {
      "cell_type": "markdown",
      "metadata": {
        "id": "gSDPxSgGt618"
      },
      "source": [
        "When you **insert an image**, Colab will prompt you to upload an image from your computer.  \n",
        "\n",
        "When you do this, the text cell will populate with thousands of characters. This may make editing the cell afterwards challenging!"
      ]
    },
    {
      "cell_type": "markdown",
      "metadata": {
        "id": "yQH-q49B0Kmy"
      },
      "source": [
        "Here is an example of an image that was uploaded from a computer.\n",
        "\n",
        "Double-click this text cell to see what it looks like in edit mode. Click **esc** to leave edit mode!\n",
        "\n",
        "![colab_favicon_256px.png](data:image/png;base64,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)"
      ]
    },
    {
      "cell_type": "markdown",
      "metadata": {
        "id": "UdeFnueRCpK0"
      },
      "source": [
        "### Add an image from the Internet"
      ]
    },
    {
      "cell_type": "markdown",
      "metadata": {
        "id": "O8TmweaiuKV9"
      },
      "source": [
        "Another strategy for inserting a picture is to add it as a **link**. This works for images that can be found online.  \n",
        "\n",
        "1. You will need the URL of an image\n",
        "  - Right-click an image and choose **Copy image address**\n",
        "  - *Tip: When using Google image search, avoid using the thumbnail for this - click the thumbnail and use the image on the right side of the page instead*\n",
        "\n",
        "2. Type an exclamation point (**!**), then click the insert link button: ![insert link.jpg](data:image/jpeg;base64,/9j/4AAQSkZJRgABAQEAeAB4AAD/4QAiRXhpZgAATU0AKgAAAAgAAQESAAMAAAABAAEAAAAAAAD/2wBDAAIBAQIBAQICAgICAgICAwUDAwMDAwYEBAMFBwYHBwcGBwcICQsJCAgKCAcHCg0KCgsMDAwMBwkODw0MDgsMDAz/2wBDAQICAgMDAwYDAwYMCAcIDAwMDAwMDAwMDAwMDAwMDAwMDAwMDAwMDAwMDAwMDAwMDAwMDAwMDAwMDAwMDAwMDAz/wAARCAAMABQDASIAAhEBAxEB/8QAHwAAAQUBAQEBAQEAAAAAAAAAAAECAwQFBgcICQoL/8QAtRAAAgEDAwIEAwUFBAQAAAF9AQIDAAQRBRIhMUEGE1FhByJxFDKBkaEII0KxwRVS0fAkM2JyggkKFhcYGRolJicoKSo0NTY3ODk6Q0RFRkdISUpTVFVWV1hZWmNkZWZnaGlqc3R1dnd4eXqDhIWGh4iJipKTlJWWl5iZmqKjpKWmp6ipqrKztLW2t7i5usLDxMXGx8jJytLT1NXW19jZ2uHi4+Tl5ufo6erx8vP09fb3+Pn6/8QAHwEAAwEBAQEBAQEBAQAAAAAAAAECAwQFBgcICQoL/8QAtREAAgECBAQDBAcFBAQAAQJ3AAECAxEEBSExBhJBUQdhcRMiMoEIFEKRobHBCSMzUvAVYnLRChYkNOEl8RcYGRomJygpKjU2Nzg5OkNERUZHSElKU1RVVldYWVpjZGVmZ2hpanN0dXZ3eHl6goOEhYaHiImKkpOUlZaXmJmaoqOkpaanqKmqsrO0tba3uLm6wsPExcbHyMnK0tPU1dbX2Nna4uPk5ebn6Onq8vP09fb3+Pn6/9oADAMBAAIRAxEAPwD9PPiT4w+IXxk+KPxQstB8aax4L0X4W/ZrYad4e0S21DWtclltY7oy/v8AOEIbZEkYXdhyW4wc3wrJ8RPjh4r0/TtK8afHDwDJpmkLFNda74J0+Oxv54jgyuJA37yQuCY1wMJxjrXsnxh/Y2+H/wAfPE66xr2k3Uetxw/ZP7S03UbjT7qSFWysbvC6+YoIyA4OCTisXxZ+wL8OfGMmkrqkHia8g0fTI9LhgPiXUI4pYItyqJVSYeYcMQWbJbvmgDY/Y++MWqfH34A6T4i1qPT/AO1mnu7C7ntGdbS9e2uZYDPBlifLk8vcOTjJA4AoruvB3hnTPBfhix0fRtOs9J0rS4Vt7W0tY9kUCADAUdutFAH/2Q==)\n",
        "  - You should see something like this:\n",
        "\n",
        "    `![link text](https://)`\n",
        "  \n",
        "3. Replace \"link text\" with a description of the image (this is important for screen readers, and to give a description in case the link stops working)\n",
        "\n",
        "4. Replace the \"https://\" with the URL for the image.\n",
        "\n",
        "5. Here is an example:\n",
        "\n",
        "    `![Colab logo](http://colab.research.google.com/img/colab_favicon_256px.png)`\n",
        "\n",
        "  - This will display the following image:\n",
        "\n",
        "    ![Colab logo](http://colab.research.google.com/img/colab_favicon_256px.png)"
      ]
    },
    {
      "cell_type": "markdown",
      "metadata": {
        "id": "IBnHAUyU5skl"
      },
      "source": [
        "Now you try!  Find an image on a webpage, and insert it into this Text cell *(double-click to enter edit mode)*\n",
        "\n",
        "![image description goes here](http://image_address_goes_here)"
      ]
    },
    {
      "cell_type": "markdown",
      "metadata": {
        "id": "2_ummmG6CsyW"
      },
      "source": [
        "### Add an image from Google Drive"
      ]
    },
    {
      "cell_type": "markdown",
      "metadata": {
        "id": "1OT7WGsNiMG8"
      },
      "source": [
        "To insert an image from your Google Drive, you will need to **create** the URL for the steps above.\n",
        "\n",
        "1. Navigate to the image in Google Drive using your browser.\n",
        "\n",
        "2. Obtain the link to the image (right-click the image file and select **Get link**)\n",
        "\n",
        "  - Ensure that **Anyone with the link** can view.\n",
        "\n",
        "  - You should see a link that resembles the following:\n",
        "\n",
        "    `https://drive.google.com/file/d/1CE_azWOCC1yKQRImBozo8v_fnCR_SX9S/view?usp=sharing`\n",
        "\n",
        "\n",
        "3. Select and copy the text between the **file/d/** and the **/view** portion of the URL.  This is the **file id** of the image.\n",
        "\n",
        "  - From the example above, you will only need this portion:\n",
        "\n",
        "    `1CE_azWOCC1yKQRImBozo8v_fnCR_SX9S`\n",
        "\n",
        "4. Use the URL below and **paste the file id at the end**.\n",
        "\n",
        "  **`https://drive.google.com/uc?export=view&id=`**\n",
        "\n",
        "  - The URL from the example would be this:\n",
        "\n",
        "    `https://drive.google.com/uc?export=view&id=1CE_azWOCC1yKQRImBozo8v_fnCR_SX9S`\n",
        "\n",
        "5. Use this URL, along with the steps above, to insert your image.\n",
        "\n",
        "  - The image code from the example would be:\n",
        "  \n",
        "    `![Colab logo from Google Drive](https://drive.google.com/uc?export=view&id=1CE_azWOCC1yKQRImBozo8v_fnCR_SX9S)`\n",
        "\n",
        "  - This will create the following image:\n",
        "\n",
        "    ![Colab logo from Google Drive](https://drive.google.com/uc?export=view&id=1CE_azWOCC1yKQRImBozo8v_fnCR_SX9S)\n"
      ]
    },
    {
      "cell_type": "markdown",
      "metadata": {
        "id": "k2xe7U8L6BV3"
      },
      "source": [
        "Now you try!  Find an image from your Google Drive, and embed it into this Text cell *(double-click to enter edit mode)*\n",
        "\n",
        "\n",
        "\n",
        "![image description goes here](https://drive.google.com/uc?export=view&id=`)"
      ]
    },
    {
      "cell_type": "markdown",
      "metadata": {
        "id": "JH1HDehdy3hl"
      },
      "source": [
        "## Adding Videos"
      ]
    },
    {
      "cell_type": "markdown",
      "metadata": {
        "id": "NuFkHHmVy5Xi"
      },
      "source": [
        "You can add videos to your Notebooks, however, they must be added to a **Code cell**.\n",
        "\n",
        "Viewers will **run** the code cell, then **watch** the video."
      ]
    },
    {
      "cell_type": "markdown",
      "metadata": {
        "id": "yFNyGHxlzClZ"
      },
      "source": [
        "### Add a YouTube Video"
      ]
    },
    {
      "cell_type": "markdown",
      "metadata": {
        "id": "dinxcVsQ1qyI"
      },
      "source": [
        "Follow these steps to insert a YouTube video in your Notebook:\n",
        "\n",
        "1. Obtain the **video id** of the YouTube video.\n",
        "\n",
        "  - This is found in the URL address for the video, after the **/watch?v=** portion of the URL.\n",
        "\n",
        "  - For example, the video id for this video: `https://www.youtube.com/watch?v=agj3AxNPDWU`\n",
        "\n",
        "    would be **`agj3AxNPDWU`**\n",
        "\n",
        "2. Use the following code (in a Code cell) to embed the video in your Notebook.\n",
        "\n",
        "  - Paste the **video id** between the single quotes in the second line, like this:\n",
        "\n",
        "```\n",
        " from IPython.display import YouTubeVideo\n",
        " YouTubeVideo('agj3AxNPDWU')\n",
        " ```\n",
        "\n",
        "3. You will need to **run** the code to be able to watch the video.\n",
        "\n",
        "4. Try it out!  Use the code cell below.\n",
        "  - You can use the video provided, or try inserting your favourite YouTube video."
      ]
    },
    {
      "cell_type": "code",
      "metadata": {
        "id": "biiW4NX42Lis"
      },
      "source": [
        "from IPython.display import YouTubeVideo\n",
        "YouTubeVideo('agj3AxNPDWU')"
      ],
      "execution_count": null,
      "outputs": []
    },
    {
      "cell_type": "markdown",
      "metadata": {
        "id": "wugYC9oUhhoV"
      },
      "source": [
        "Here is a 'starter' Code cell ready for your YouTube **video id**.\n",
        "\n",
        "You can copy & paste this into other Notebooks as needed."
      ]
    },
    {
      "cell_type": "code",
      "metadata": {
        "id": "Dsrnn-kChhoY"
      },
      "source": [
        "from IPython.display import YouTubeVideo\n",
        "YouTubeVideo('')"
      ],
      "execution_count": null,
      "outputs": []
    },
    {
      "cell_type": "markdown",
      "metadata": {
        "id": "7vzL8G4n8AQu"
      },
      "source": [
        "### Add a Video with Embed Code"
      ]
    },
    {
      "cell_type": "markdown",
      "metadata": {
        "id": "eKezcPBK8AQw"
      },
      "source": [
        "Follow these steps to embed an Internet video (Screencastify, Vimeo, etc) in your Notebook:\n",
        "\n",
        "1. Choose the **Share - Embed** option from the video platform.  \n",
        "This will provide you with **embed code** that can be pasted into a Code cell.\n",
        "\n",
        "  - **Embed code** usually (but not always!) starts with `<iframe src=` and ends with `</iframe>`\n",
        "\n",
        "  - You will need to **copy** this code!\n",
        "\n",
        "2. Use the code provided below (in a Code cell) to embed the video in your Notebook.  \n",
        "\n",
        "  - Paste the **embed code** between the single quotes on the second line, like this:\n",
        "    ```\n",
        "    from IPython.display import HTML\n",
        "    HTML(' <embed code goes here> ')\n",
        "    ```\n",
        "\n",
        "  - It is important that the embed code be pasted in a single line. **If the embed code contains line breaks, delete them!**\n",
        "\n",
        "  - For example, the Code cell may look something like this:\n",
        "\n",
        "```\n",
        "from IPython.display import HTML\n",
        "HTML('<iframe src=\"https://player.vimeo.com/video/546540279?color=F6B23C&title=0&byline=0&portrait=0\" width=\"640\" height=\"400\" frameborder=\"0\" allow=\"autoplay; fullscreen; picture-in-picture\" allowfullscreen></iframe><p><a href=\"https://vimeo.com/546540279\">Google Colab Introduction Tutorial</a> from <a href=\"https://vimeo.com/user20989575\">YouCubed</a> on <a href=\"https://vimeo.com\">Vimeo</a>.</p>')\n",
        "```\n",
        "\n",
        "3. You will need to **run** the code to be able to watch the video.\n",
        "\n",
        "5. Try it out!  Use the code cell below.\n",
        "  - You can use the video provided, or try embedding your favourite Internet video."
      ]
    },
    {
      "cell_type": "code",
      "metadata": {
        "id": "IG0rUaGo8AQx"
      },
      "source": [
        "from IPython.display import HTML\n",
        "HTML('<iframe src=\"https://player.vimeo.com/video/546540279?color=F6B23C&title=0&byline=0&portrait=0\" width=\"640\" height=\"400\" frameborder=\"0\" allow=\"autoplay; fullscreen; picture-in-picture\" allowfullscreen></iframe><p><a href=\"https://vimeo.com/546540279\">Google Colab Introduction Tutorial</a> from <a href=\"https://vimeo.com/user20989575\">YouCubed</a> on <a href=\"https://vimeo.com\">Vimeo</a>.</p>')"
      ],
      "execution_count": null,
      "outputs": []
    },
    {
      "cell_type": "markdown",
      "metadata": {
        "id": "LEhekksng7vv"
      },
      "source": [
        "Here is a 'starter' Code cell ready for your **embed code**.\n",
        "\n",
        "You can copy & paste this into other Notebooks as needed."
      ]
    },
    {
      "cell_type": "code",
      "metadata": {
        "id": "qXrbA9dVg0bM"
      },
      "source": [
        "from IPython.display import HTML\n",
        "HTML('')"
      ],
      "execution_count": null,
      "outputs": []
    },
    {
      "cell_type": "markdown",
      "metadata": {
        "id": "KfJzvapR0Yx3"
      },
      "source": [
        "## Jupyter Notebooks in the Callysto Hub"
      ]
    },
    {
      "cell_type": "markdown",
      "metadata": {
        "id": "i8_fjt4k_m0k"
      },
      "source": [
        "Now that you are a bit more comfortable with Google Colab, there is a great library of activities that have been created using a similar format.  Google Colab is built on a technology called Jupyter Notebooks, and there are other versions of Jupyter Notebooks avaiable as teaching resources!\n",
        "\n",
        "Callysto uses Jupyter Notebooks to create interactive activites for students from grades 5 - 12. There is a library of [Learning Modules](https://www.callysto.ca/learning-modules/math/), [Lesson Plans](https://www.callysto.ca/lesson-plans/) as well as a Youtube playlist of [Interesting Problems](https://www.youtube.com/playlist?list=PL-j7ku2URmjZYtWzMCS4AqFS5SXPXRHwf).  Visit the [Callysto Website](https://www.callysto.ca/) to learn more!\n",
        "\n",
        "To use the Jupyter notebooks provided by Callysto, you will need to log in with your Google account. You can run the notebooks directly on the [Callysto Hub](https://hub.callysto.ca/).\n",
        "\n",
        "Alternatively, you can download the notebooks from the Callysto Hub (**File -> Download as -> Notebook (.ipynb)**) and then upload them to Google Colab (**File -> Upload Notebook**.) You may wish to do this to assign a notebook to students.  \n",
        "\n",
        "*Be aware that not all notebooks that work in Callysto will also work in Colab! Specifically, anything with graphics, such as the turtle activities, are better done in the Callysto Hub.*"
      ]
    }
  ]
}