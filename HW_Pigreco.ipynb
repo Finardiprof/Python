{
  "nbformat": 4,
  "nbformat_minor": 0,
  "metadata": {
    "colab": {
      "provenance": [],
      "authorship_tag": "ABX9TyPOk+DAWQhXsKX+kBh6qRJR",
      "include_colab_link": true
    },
    "kernelspec": {
      "name": "python3",
      "display_name": "Python 3"
    },
    "language_info": {
      "name": "python"
    }
  },
  "cells": [
    {
      "cell_type": "markdown",
      "metadata": {
        "id": "view-in-github",
        "colab_type": "text"
      },
      "source": [
        "<a href=\"https://colab.research.google.com/github/Finardiprof/Python/blob/main/HW_Pigreco.ipynb\" target=\"_parent\"><img src=\"https://colab.research.google.com/assets/colab-badge.svg\" alt=\"Open In Colab\"/></a>"
      ]
    },
    {
      "cell_type": "code",
      "source": [
        "import matplotlib.pyplot as plt\n",
        "import numpy as np\n",
        "import random"
      ],
      "metadata": {
        "id": "9TbPVgzRHkFQ"
      },
      "execution_count": 9,
      "outputs": []
    },
    {
      "cell_type": "code",
      "source": [
        "#DATI INIZIALI\n",
        "raggio_cerchio = 1 #m\n",
        "lato_quadrato = 2*raggio_cerchio #m\n",
        "area_quadrato = lato_quadrato**2 #m^2\n",
        "numero_lanci = 100 #numero freccette lanciate a caso dentro il quadrato\n",
        "C = 0 # contatore freccette all'interno del cerchio"
      ],
      "metadata": {
        "id": "ivlS8tlHHmqu"
      },
      "execution_count": 11,
      "outputs": []
    },
    {
      "cell_type": "code",
      "source": [
        "#Numeri casuali (coordinate x e y della freccetta lanciata casualmente)\n",
        "x = np.random.uniform(-raggio_cerchio,raggio_cerchio,numero_lanci)\n",
        "y = np.random.uniform(-raggio_cerchio,raggio_cerchio,numero_lanci)"
      ],
      "metadata": {
        "id": "WTdAs8NIHxzS"
      },
      "execution_count": 4,
      "outputs": []
    },
    {
      "cell_type": "code",
      "source": [
        "for i in range(1, numero_lanci + 1):\n",
        "  x = random.uniform(-raggio_cerchio,raggio_cerchio)\n",
        "  y = random.uniform(-raggio_cerchio,raggio_cerchio)\n",
        "  if x**2+y**2<raggio_cerchio**2:\n",
        "    C+=1"
      ],
      "metadata": {
        "id": "p5VTjZihINHm"
      },
      "execution_count": 12,
      "outputs": []
    },
    {
      "cell_type": "code",
      "source": [],
      "metadata": {
        "id": "2-xTF2I0JpUq"
      },
      "execution_count": null,
      "outputs": []
    },
    {
      "cell_type": "code",
      "execution_count": null,
      "metadata": {
        "id": "NKlbzfOsHi_y"
      },
      "outputs": [],
      "source": [
        "import matplotlib.pyplot as plt\n",
        "import numpy as np\n",
        "\n",
        "#===========================================================================================================\n",
        "#DATI INIZIALI\n",
        "raggio_cerchio = 4.0 #m\n",
        "lato_quadrato = 2*raggio_cerchio #m\n",
        "area_quadrato = lato_quadrato**2 #m^2\n",
        "numero_lanci = 10000 #numero freccette lanciate a caso dentro il quadrato\n",
        "#===========================================================================================================\n",
        "\n",
        "#===========================================================================================================\n",
        "#PROCESSO DI MISURA\n",
        "x = np.random.uniform(-raggio_cerchio,raggio_cerchio,numero_lanci)\n",
        "y = np.random.uniform(-raggio_cerchio,raggio_cerchio,numero_lanci)\n",
        "\n",
        "lancio_nel_cerchio = x**2+y**2<raggio_cerchio**2 #teorema di Pitagora\n",
        "\n",
        "numero_lanci_nel_cerchio = np.count_nonzero(lancio_nel_cerchio)\n",
        "area_cerchio_stimata = area_quadrato*numero_lanci_nel_cerchio/numero_lanci\n",
        "print(f\"L'area stimata del cerchio è {area_cerchio_stimata:.2f} m^2\")\n",
        "print(f\"La stima di Pi è {4*(area_cerchio_stimata/area_quadrato):.2f}\")\n",
        "#===========================================================================================================\n",
        "\n",
        "#===========================================================================================================\n",
        "#CREAZIONE DEL GRAFICO\n",
        "figura, grafico = plt.subplots(figsize=(10,10))\n",
        "grafico.scatter(x,y,c=lancio_nel_cerchio)\n",
        "grafico.set_xlabel(\"x (m)\")\n",
        "grafico.set_ylabel(\"y (m)\")\n",
        "grafico.set_title(f\"Area del cerchio stimata: {area_cerchio_stimata:.2f} m^2\")\n",
        "grafico.set_aspect('equal')\n",
        "grafico.grid(\"both\")\n",
        "plt.show()\n",
        "#===========================================================================================================\n",
        "\n"
      ]
    }
  ]
}