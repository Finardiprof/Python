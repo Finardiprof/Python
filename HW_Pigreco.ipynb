{
  "nbformat": 4,
  "nbformat_minor": 0,
  "metadata": {
    "colab": {
      "provenance": [],
      "authorship_tag": "ABX9TyNq/vBqaPdETYkCl6bQcaTe",
      "include_colab_link": true
    },
    "kernelspec": {
      "name": "python3",
      "display_name": "Python 3"
    },
    "language_info": {
      "name": "python"
    }
  },
  "cells": [
    {
      "cell_type": "markdown",
      "metadata": {
        "id": "view-in-github",
        "colab_type": "text"
      },
      "source": [
        "<a href=\"https://colab.research.google.com/github/Finardiprof/Python/blob/main/HW_Pigreco.ipynb\" target=\"_parent\"><img src=\"https://colab.research.google.com/assets/colab-badge.svg\" alt=\"Open In Colab\"/></a>"
      ]
    },
    {
      "cell_type": "code",
      "source": [
        "import matplotlib.pyplot as plt\n",
        "import numpy as np\n",
        "import random"
      ],
      "metadata": {
        "id": "9TbPVgzRHkFQ"
      },
      "execution_count": 9,
      "outputs": []
    },
    {
      "cell_type": "code",
      "source": [
        "#DATI INIZIALI\n",
        "raggio_cerchio = 1 #m\n",
        "lato_quadrato = 2*raggio_cerchio #m\n",
        "area_quadrato = lato_quadrato**2 #m^2\n",
        "numero_lanci = 50000 #numero freccette lanciate a caso dentro il quadrato\n",
        "C = 0 # contatore freccette all'interno del cerchio\n",
        "X = [] # crea una lista che conterrà i numeri casuali\n",
        "Y = [] # crea una lista che conterrà i numeri casuali\n",
        "XX = [] # crea una lista che conterrà i numeri casuali che sono all'interno del cerchio\n",
        "YY = [] # crea una lista che conterrà i numeri casuali che sono all'interno del cerchio"
      ],
      "metadata": {
        "id": "ivlS8tlHHmqu"
      },
      "execution_count": 43,
      "outputs": []
    },
    {
      "cell_type": "code",
      "source": [
        "for i in range(1, numero_lanci + 1):\n",
        "  x = random.uniform(-raggio_cerchio,raggio_cerchio)\n",
        "  y = random.uniform(-raggio_cerchio,raggio_cerchio)\n",
        "  X.append(x)\n",
        "  Y.append(y)\n",
        "  if x**2+y**2<raggio_cerchio**2:\n",
        "    XX.append(x)\n",
        "    YY.append(y)\n",
        "    C+=1"
      ],
      "metadata": {
        "id": "p5VTjZihINHm"
      },
      "execution_count": 44,
      "outputs": []
    },
    {
      "cell_type": "code",
      "source": [
        "# Stime\n",
        "area_cerchio_stimata = C/numero_lanci\n",
        "print(f\"L'area stimata del cerchio è {area_cerchio_stimata:.2f} m^2\")\n",
        "print(f\"La stima di Pi è {4*area_cerchio_stimata:.2f}\")"
      ],
      "metadata": {
        "id": "2-xTF2I0JpUq"
      },
      "execution_count": null,
      "outputs": []
    },
    {
      "cell_type": "code",
      "source": [
        "# Plot\n",
        "#CREAZIONE DEL GRAFICO\n",
        "figura,grafico = plt.subplots(figsize=(10,10))\n",
        "grafico.scatter(X,Y)\n",
        "grafico.scatter(XX,YY,c = \"red\")\n",
        "grafico.set_xlabel(\"x (m)\")\n",
        "grafico.set_ylabel(\"y (m)\")\n",
        "grafico.set_title(f\"Area del cerchio stimata: {area_cerchio_stimata:.2f} m^2\")\n",
        "grafico.set_aspect('equal')\n",
        "grafico.grid(\"both\")\n",
        "plt.show()"
      ],
      "metadata": {
        "id": "YpyCk5xIKcq-"
      },
      "execution_count": null,
      "outputs": []
    }
  ]
}