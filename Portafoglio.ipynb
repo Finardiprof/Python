{
  "nbformat": 4,
  "nbformat_minor": 0,
  "metadata": {
    "colab": {
      "provenance": [],
      "include_colab_link": true
    },
    "kernelspec": {
      "name": "python3",
      "display_name": "Python 3"
    },
    "language_info": {
      "name": "python"
    }
  },
  "cells": [
    {
      "cell_type": "markdown",
      "metadata": {
        "id": "view-in-github",
        "colab_type": "text"
      },
      "source": [
        "<a href=\"https://colab.research.google.com/github/Finardiprof/Python/blob/main/Portafoglio.ipynb\" target=\"_parent\"><img src=\"https://colab.research.google.com/assets/colab-badge.svg\" alt=\"Open In Colab\"/></a>"
      ]
    },
    {
      "cell_type": "code",
      "execution_count": null,
      "metadata": {
        "id": "iQJTA2EhYTCK"
      },
      "outputs": [],
      "source": [
        "import yfinance as yf\n",
        "import seaborn as sns\n",
        "import pandas as pd\n",
        "import matplotlib.pyplot as plt\n",
        "\n",
        "portfolio = [\"AAPL\", \"GOOGL\", \"TSLA\", \"MSFT\", \"AMZN\"]\n",
        "portfolio_data = yf.download(portfolio, start=\"2023-09-14\", end=\"2023-12-31\")\n",
        "\n",
        "#imposta il budget (esempio 1000 eur)\n",
        "budget = float(input(\"Inserisci il budget: \"))\n",
        "\n",
        "# Calcola la quantità di azioni da acquistare\n",
        "allocazione = [0.3, 0.40, 0.1, 0.1, 0.1]\n",
        "quantity = []\n",
        "for i in range(len(portfolio)):\n",
        "  quantity.append(budget * allocazione[i] / portfolio_data.iloc[0,i])\n",
        "\n",
        "# Calculate daily returns for each stock\n",
        "daily_returns = portfolio_data['Adj Close'].pct_change()\n",
        "\n",
        "# Calculare il valore del portafoglio in base alle quanità presenti\n",
        "portfolio_value = (portfolio_data['Adj Close'] * quantity).sum(axis=1)"
      ]
    },
    {
      "cell_type": "markdown",
      "source": [
        "Questo serve per accedere alla matrice data frame"
      ],
      "metadata": {
        "id": "R2iQEJ7fGwpR"
      }
    },
    {
      "cell_type": "code",
      "source": [
        "print(portfolio_data.iloc[0,0])"
      ],
      "metadata": {
        "id": "XXIx2BKbFDcs"
      },
      "execution_count": null,
      "outputs": []
    },
    {
      "cell_type": "code",
      "source": [
        "# Visualize the portfolio value\n",
        "#portfolio_data.Close.plot(figsize=(10, 6), title=\"Stock prices\")\n",
        "#plt.show()\n",
        "portfolio_value.plot(title=\"Portfolio Value\")\n",
        "plt.show()\n",
        "#daily_returns.plot(figsize=(10, 6), title=\"Portfolio Value\")\n",
        "#plt.show()\n",
        "#portfolio_data.Volume.plot(figsize=(10, 6), title=\"Portfolio Value\")\n",
        "#plt.show()\n",
        "#plt.hist(daily_returns)"
      ],
      "metadata": {
        "id": "rVq8RBh2N-rH"
      },
      "execution_count": null,
      "outputs": []
    },
    {
      "cell_type": "code",
      "source": [
        "# Per salvare in un file Excel:\n",
        "# portfolio_data.to_excel('dataframe.xlsx', index=False)\n",
        "#print(portfolio_data.head())\n",
        "\n",
        "# Define the file path for the Excel file\n",
        "file_path = 'your_data.xlsx'\n",
        "\n",
        "# Export the DataFrame to an Excel file\n",
        "#portfolio_data.to_excel(file_path, index=True)\n",
        "portfolio_value.to_excel(file_path, index=True)\n",
        "\n",
        "# The 'index=False' argument prevents writing the index to the Excel file\n",
        "\n",
        "# Download the Excel file to your local machine\n",
        "from google.colab import files\n",
        "files.download(file_path)"
      ],
      "metadata": {
        "id": "dWwAYB3zDXs8",
        "colab": {
          "base_uri": "https://localhost:8080/",
          "height": 17
        },
        "outputId": "ee931730-6dec-4f0a-f8d5-722630daead0"
      },
      "execution_count": 21,
      "outputs": [
        {
          "output_type": "display_data",
          "data": {
            "text/plain": [
              "<IPython.core.display.Javascript object>"
            ],
            "application/javascript": [
              "\n",
              "    async function download(id, filename, size) {\n",
              "      if (!google.colab.kernel.accessAllowed) {\n",
              "        return;\n",
              "      }\n",
              "      const div = document.createElement('div');\n",
              "      const label = document.createElement('label');\n",
              "      label.textContent = `Downloading \"${filename}\": `;\n",
              "      div.appendChild(label);\n",
              "      const progress = document.createElement('progress');\n",
              "      progress.max = size;\n",
              "      div.appendChild(progress);\n",
              "      document.body.appendChild(div);\n",
              "\n",
              "      const buffers = [];\n",
              "      let downloaded = 0;\n",
              "\n",
              "      const channel = await google.colab.kernel.comms.open(id);\n",
              "      // Send a message to notify the kernel that we're ready.\n",
              "      channel.send({})\n",
              "\n",
              "      for await (const message of channel.messages) {\n",
              "        // Send a message to notify the kernel that we're ready.\n",
              "        channel.send({})\n",
              "        if (message.buffers) {\n",
              "          for (const buffer of message.buffers) {\n",
              "            buffers.push(buffer);\n",
              "            downloaded += buffer.byteLength;\n",
              "            progress.value = downloaded;\n",
              "          }\n",
              "        }\n",
              "      }\n",
              "      const blob = new Blob(buffers, {type: 'application/binary'});\n",
              "      const a = document.createElement('a');\n",
              "      a.href = window.URL.createObjectURL(blob);\n",
              "      a.download = filename;\n",
              "      div.appendChild(a);\n",
              "      a.click();\n",
              "      div.remove();\n",
              "    }\n",
              "  "
            ]
          },
          "metadata": {}
        },
        {
          "output_type": "display_data",
          "data": {
            "text/plain": [
              "<IPython.core.display.Javascript object>"
            ],
            "application/javascript": [
              "download(\"download_f0116237-698b-4109-974f-d8c20934c148\", \"your_data.xlsx\", 6133)"
            ]
          },
          "metadata": {}
        }
      ]
    }
  ]
}