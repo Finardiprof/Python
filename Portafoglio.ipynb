{
  "nbformat": 4,
  "nbformat_minor": 0,
  "metadata": {
    "colab": {
      "provenance": [],
      "include_colab_link": true
    },
    "kernelspec": {
      "name": "python3",
      "display_name": "Python 3"
    },
    "language_info": {
      "name": "python"
    }
  },
  "cells": [
    {
      "cell_type": "markdown",
      "metadata": {
        "id": "view-in-github",
        "colab_type": "text"
      },
      "source": [
        "<a href=\"https://colab.research.google.com/github/Finardiprof/Python/blob/main/Portafoglio.ipynb\" target=\"_parent\"><img src=\"https://colab.research.google.com/assets/colab-badge.svg\" alt=\"Open In Colab\"/></a>"
      ]
    },
    {
      "cell_type": "code",
      "execution_count": null,
      "metadata": {
        "id": "iQJTA2EhYTCK"
      },
      "outputs": [],
      "source": [
        "import yfinance as yf\n",
        "import seaborn as sns\n",
        "import pandas as pd\n",
        "import matplotlib.pyplot as plt\n",
        "\n",
        "portfolio = [\"AAPL\", \"GOOGL\", \"TSLA\", \"MSFT\", \"AMZN\"]\n",
        "portfolio_data = yf.download(portfolio, start=\"2023-09-14\", end=\"2023-12-31\")\n",
        "\n",
        "#imposta il budget (esempio 1000 eur)\n",
        "budget = float(input(\"Inserisci il budget: \"))\n",
        "\n",
        "# Calcola la quantità di azioni da acquistare\n",
        "allocazione = [0.25, 0.25, 0.1, 0.1, 0.15, 0.15]\n",
        "quantity = []\n",
        "for i in range(len(portfolio)):\n",
        "  quantity.append(budget * allocazione[i] / portfolio_data.iloc[0,i])\n",
        "\n",
        "# Calculate daily returns for each stock\n",
        "daily_returns = portfolio_data['Adj Close'].pct_change()\n",
        "\n",
        "# Calculate portfolio value based on the number of shares you own\n",
        "portfolio_value = (portfolio_data['Adj Close'] * quantity).sum(axis=1)\n",
        "\n",
        "# Visualize the portfolio value\n",
        "portfolio_data.Close.plot(figsize=(10, 6), title=\"Stock prices\")\n",
        "plt.show()\n",
        "portfolio_value.plot(figsize=(10, 6), title=\"Portfolio Value\")\n",
        "plt.show()\n",
        "daily_returns.plot(figsize=(10, 6), title=\"Portfolio Value\")\n",
        "plt.show()\n",
        "portfolio_data.Volume.plot(figsize=(10, 6), title=\"Portfolio Value\")\n",
        "plt.show()\n",
        "plt.hist(daily_returns)"
      ]
    },
    {
      "cell_type": "markdown",
      "source": [
        "Questo serve per accedere alla matrice data frame"
      ],
      "metadata": {
        "id": "R2iQEJ7fGwpR"
      }
    },
    {
      "cell_type": "code",
      "source": [
        "print(portfolio_data.iloc[0,0])"
      ],
      "metadata": {
        "colab": {
          "base_uri": "https://localhost:8080/"
        },
        "id": "XXIx2BKbFDcs",
        "outputId": "b2a8b1f1-851d-4103-b538-86f72f5e623d"
      },
      "execution_count": null,
      "outputs": [
        {
          "output_type": "stream",
          "name": "stdout",
          "text": [
            "175.5087890625\n"
          ]
        }
      ]
    },
    {
      "cell_type": "code",
      "source": [
        "# Per salvare in un file Excel:\n",
        "# portfolio_data.to_excel('dataframe.xlsx', index=False)\n",
        "#print(portfolio_data.head())\n",
        "\n",
        "# Define the file path for the Excel file\n",
        "file_path = 'your_data.xlsx'\n",
        "\n",
        "# Export the DataFrame to an Excel file\n",
        "portfolio_data.to_excel(file_path, index=True)\n",
        "\n",
        "# The 'index=False' argument prevents writing the index to the Excel file\n",
        "\n",
        "# Download the Excel file to your local machine\n",
        "from google.colab import files\n",
        "#files.download(file_path)"
      ],
      "metadata": {
        "id": "dWwAYB3zDXs8"
      },
      "execution_count": null,
      "outputs": []
    }
  ]
}