{
  "cells": [
    {
      "cell_type": "markdown",
      "metadata": {
        "id": "view-in-github",
        "colab_type": "text"
      },
      "source": [
        "<a href=\"https://colab.research.google.com/github/Finardiprof/Python/blob/main/2_Input_e_Print.ipynb\" target=\"_parent\"><img src=\"https://colab.research.google.com/assets/colab-badge.svg\" alt=\"Open In Colab\"/></a>"
      ]
    },
    {
      "cell_type": "markdown",
      "source": [
        "La funzione `input()` viene utilizzata per acquisire input dall'utente. La funzione `print()` viene utilizzata per stampare output sul terminale.\n",
        "\n",
        "**Esempio 1: Acquisire un numero dall'utente**"
      ],
      "metadata": {
        "id": "UwjUgP_33VfQ"
      }
    },
    {
      "cell_type": "code",
      "source": [
        "numero = input(\"Inserisci un numero: \")\n",
        "\n",
        "# Converti la stringa in un numero\n",
        "numero = int(numero)\n",
        "\n",
        "# Stampa il numero\n",
        "print(\"Il numero è:\", numero)"
      ],
      "outputs": [],
      "execution_count": null,
      "metadata": {
        "id": "l6KqRoe83VfT"
      }
    },
    {
      "cell_type": "markdown",
      "source": [
        "**Esempio 2: Stampare una stringa**"
      ],
      "metadata": {
        "id": "AsMyXH3E3VfU"
      }
    },
    {
      "cell_type": "code",
      "source": [
        "print(\"Hello, universe!\")"
      ],
      "outputs": [],
      "execution_count": null,
      "metadata": {
        "id": "mhppfqyX3VfU"
      }
    },
    {
      "cell_type": "markdown",
      "source": [
        "**Esempio 3: Stampare il risultato di un'operazione matematica**"
      ],
      "metadata": {
        "id": "GrZD9peX3VfU"
      }
    },
    {
      "cell_type": "code",
      "source": [
        "numero1 = 10\n",
        "numero2 = 20\n",
        "\n",
        "somma = numero1 + numero2\n",
        "\n",
        "print(\"La somma è:\", somma)"
      ],
      "outputs": [],
      "execution_count": null,
      "metadata": {
        "id": "dehvFy1Y3VfU"
      }
    },
    {
      "cell_type": "markdown",
      "source": [
        "**Esempio 4: Stampare un messaggio personalizzato**"
      ],
      "metadata": {
        "id": "13UY1X9y3VfV"
      }
    },
    {
      "cell_type": "code",
      "source": [
        "nome = input(\"Inserisci il tuo nome: \")\n",
        "\n",
        "print(\"Ciao,\", nome)"
      ],
      "outputs": [],
      "execution_count": null,
      "metadata": {
        "id": "AIURyNcJ3VfV"
      }
    },
    {
      "cell_type": "markdown",
      "source": [
        "**Esempio 5: Stampare una lista di numeri**"
      ],
      "metadata": {
        "id": "PzPR3Bo33VfV"
      }
    },
    {
      "cell_type": "code",
      "source": [
        "lista_numeri = [1, 2, 3, 4, 5]\n",
        "\n",
        "print(\"La lista è:\", lista_numeri)"
      ],
      "outputs": [],
      "execution_count": null,
      "metadata": {
        "id": "0RVTnuQ63VfV"
      }
    },
    {
      "cell_type": "markdown",
      "source": [
        "**Esempio 6: Stampare un dizionario**"
      ],
      "metadata": {
        "id": "mrUm8xD93VfV"
      }
    },
    {
      "cell_type": "code",
      "source": [
        "dizionario = {\"nome\": \"Mario\", \"cognome\": \"Rossi\"}\n",
        "\n",
        "print(\"Il dizionario è:\", dizionario)"
      ],
      "outputs": [],
      "execution_count": null,
      "metadata": {
        "id": "4mD7IeeP3VfV"
      }
    },
    {
      "cell_type": "markdown",
      "source": [
        "**Esempio 7: Stampare un messaggio di errore**"
      ],
      "metadata": {
        "id": "ZLxJq4K53VfV"
      }
    },
    {
      "cell_type": "code",
      "source": [
        "numero = input(\"Inserisci un numero: \")\n",
        "\n",
        "try:\n",
        "    numero = int(numero)\n",
        "except ValueError:\n",
        "    print(\"Il valore inserito non è un numero valido\")"
      ],
      "outputs": [],
      "execution_count": null,
      "metadata": {
        "id": "nxhRULk73VfW"
      }
    },
    {
      "cell_type": "markdown",
      "source": [
        "Questi sono solo alcuni esempi di come utilizzare le funzioni `input()` e `print()` in Python."
      ],
      "metadata": {
        "id": "lUCnCVMR3VfW"
      }
    }
  ],
  "metadata": {
    "colab": {
      "provenance": [],
      "include_colab_link": true
    },
    "kernelspec": {
      "display_name": "Python 3",
      "name": "python3"
    }
  },
  "nbformat": 4,
  "nbformat_minor": 0
}