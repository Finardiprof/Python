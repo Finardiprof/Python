{
  "nbformat": 4,
  "nbformat_minor": 0,
  "metadata": {
    "colab": {
      "provenance": [],
      "toc_visible": true,
      "include_colab_link": true
    },
    "kernelspec": {
      "name": "python3",
      "display_name": "Python 3"
    },
    "language_info": {
      "name": "python"
    }
  },
  "cells": [
    {
      "cell_type": "markdown",
      "metadata": {
        "id": "view-in-github",
        "colab_type": "text"
      },
      "source": [
        "<a href=\"https://colab.research.google.com/github/Finardiprof/Python/blob/main/1_Variabili.ipynb\" target=\"_parent\"><img src=\"https://colab.research.google.com/assets/colab-badge.svg\" alt=\"Open In Colab\"/></a>"
      ]
    },
    {
      "cell_type": "markdown",
      "metadata": {
        "id": "resRt9wI-F6_"
      },
      "source": [
        "## Print\n",
        "Scrivere l'istruzione per visualizzare la frase \"Ciao! Mi chiamo Anna\" *(sostituire Anna col proprio nome)*. Eseguire cliccando sul tasto Play e verificare il risultato"
      ]
    },
    {
      "cell_type": "code",
      "metadata": {
        "id": "Dc7mBgIJ-0j1"
      },
      "source": [
        "#Scrivi il codice qui"
      ],
      "execution_count": null,
      "outputs": []
    },
    {
      "cell_type": "markdown",
      "metadata": {
        "id": "Dyi3V7FHXXwg"
      },
      "source": [
        "Il simbolo # indica che il testo a seguire non deve essere eseguito e serve per inserire all'interno del codice dei commenti.\n",
        "E' molto importante commentare il codice in modo che sia chiaro come funziona l'algoritmo"
      ]
    },
    {
      "cell_type": "markdown",
      "metadata": {
        "id": "x8Nbb0q1_MOI"
      },
      "source": [
        "# Sequenza\n",
        "Scrivere le istruzioni per visualizzare la frase \"Ciao! Mi chiamo Anna. Volevano chiamarmi Maria, ma il nome Anna mi piace di più\" *(sostituire Anna col proprio nome)*. Eseguire cliccando sul tasto Play e verificare il risultato"
      ]
    },
    {
      "cell_type": "code",
      "metadata": {
        "id": "nMYsk8-nqzuc"
      },
      "source": [
        "#Scrivi il codice qui"
      ],
      "execution_count": null,
      "outputs": []
    },
    {
      "cell_type": "markdown",
      "metadata": {
        "id": "zJeVsEg1yUue"
      },
      "source": [
        "Riflettere sull'ordine delle istruzioni.\n",
        "In una sequenza le istruzioni vengono eseguite nell'ordine in cui si presentano.\n",
        "Provare a cambiarne l'ordine e verificare il risultato che si ottiene"
      ]
    },
    {
      "cell_type": "code",
      "metadata": {
        "id": "swYPC5AXxWSO"
      },
      "source": [
        "#Scrivi il codice qui"
      ],
      "execution_count": null,
      "outputs": []
    },
    {
      "cell_type": "markdown",
      "metadata": {
        "id": "NLioO5OV_ZEl"
      },
      "source": [
        "# Variabili\n",
        "E se voglio cambiare nome? Posso farlo a mano, modificando il codice. Oppure posso avvalermi di variabili. Le variabili sono dei contenitori in cui si possono memorizzare delle informazioni. Provare a utilizzare una variabile per memorizzare il valore 'Anna'. Eseguire cliccando sul tasto Play e verificare il risultato."
      ]
    },
    {
      "cell_type": "code",
      "metadata": {
        "id": "v_ayRKtQ4WsU"
      },
      "source": [
        "#Scrivi il codice qui"
      ],
      "execution_count": null,
      "outputs": []
    },
    {
      "cell_type": "markdown",
      "metadata": {
        "id": "k6unUCKl5lYd"
      },
      "source": [
        "E se invece di Anna vogliamo usare un altro nome?\n",
        "Basta modificare il valore memorizzato nella variabile nome. Eseguire cliccando sul tasto Play e verificare il risultato"
      ]
    },
    {
      "cell_type": "code",
      "metadata": {
        "id": "Ulhi0n5-6SMZ"
      },
      "source": [
        "#Scrivi il codice qui"
      ],
      "execution_count": null,
      "outputs": []
    },
    {
      "cell_type": "markdown",
      "metadata": {
        "id": "O-7h109yR3xM"
      },
      "source": [
        "# Tipi di variabili\n",
        "La variabile usata precedentemente conteneva un testo: il nome Anna. In questo caso si parla di variabili di tipo String. Oltre ai testi (stringhe) si possono memorizzare i numeri interi o decimali, positivi o negativi. Scrivere le istruzioni per visualizzare la somma di due numeri a e b"
      ]
    },
    {
      "cell_type": "code",
      "metadata": {
        "id": "VlWCQnHHXHK2"
      },
      "source": [
        "#Scrivi il codice qui"
      ],
      "execution_count": null,
      "outputs": []
    },
    {
      "cell_type": "markdown",
      "metadata": {
        "id": "cbTFZTIBupk5"
      },
      "source": [
        "# Soluzioni"
      ]
    },
    {
      "cell_type": "code",
      "metadata": {
        "id": "bkF2Rb9ruxm6",
        "colab": {
          "base_uri": "https://localhost:8080/"
        },
        "outputId": "2020417a-5306-4a85-cebb-40b93851a917"
      },
      "source": [
        "#Scrivere l'istruzione per visualizzare la frase \"Ciao! Mi chiamo Anna\"\n",
        "print(\"Ciao! Mi chiamo Anna\")"
      ],
      "execution_count": 1,
      "outputs": [
        {
          "output_type": "stream",
          "name": "stdout",
          "text": [
            "Ciao! Mi chiamo Anna\n"
          ]
        }
      ]
    },
    {
      "cell_type": "code",
      "metadata": {
        "id": "cSTTUCB4u48g",
        "colab": {
          "base_uri": "https://localhost:8080/"
        },
        "outputId": "18687fe4-541c-4b7e-d8cc-7176b71b21f5"
      },
      "source": [
        "#Scrivere le istruzioni per visualizzare la frase \"Ciao! Mi chiamo Anna.\n",
        "#Volevano chiamarmia Maria, ma il nome Anna Mi piace di più\"\n",
        "print (\"Ciao! Mi chiamo Anna\")\n",
        "print (\"Volevano chiamarmi Maria\")\n",
        "print (\"ma il nome Anna mi piace di più\")"
      ],
      "execution_count": 2,
      "outputs": [
        {
          "output_type": "stream",
          "name": "stdout",
          "text": [
            "Ciao! Mi chiamo Anna\n",
            "Volevano chiamarmi Maria\n",
            "ma il nome Anna mi piace di più\n"
          ]
        }
      ]
    },
    {
      "cell_type": "code",
      "metadata": {
        "id": "4mVbRRPBxvl4",
        "colab": {
          "base_uri": "https://localhost:8080/"
        },
        "outputId": "f5a8b796-88d6-4818-d6f2-2f3518112e59"
      },
      "source": [
        "#Provare a utilizzare una variabile per memorizzare il valore 'Anna'\n",
        "nome = \"Anna\"\n",
        "print (\"Ciao! Mi chiamo\", nome)\n",
        "print (\"Volevano chiamarmi Maria\")\n",
        "print (\"ma il nome\", nome, \"mi piace di più\")"
      ],
      "execution_count": 3,
      "outputs": [
        {
          "output_type": "stream",
          "name": "stdout",
          "text": [
            "Ciao! Mi chiamo Anna\n",
            "Volevano chiamarmi Maria\n",
            "ma il nome Anna mi piace di più\n"
          ]
        }
      ]
    },
    {
      "cell_type": "code",
      "metadata": {
        "id": "rFn4Iktox3pN",
        "colab": {
          "base_uri": "https://localhost:8080/"
        },
        "outputId": "829b6c5d-4376-415a-cf4e-7dea81ada2de"
      },
      "source": [
        "#Provare a modificare il valore memorizzato nella variabile nome\n",
        "nome = \"Violetta\"\n",
        "print (\"Ciao! Mi chiamo\", nome)\n",
        "print (\"Volevano chiamarmi Maria\")\n",
        "print (\"ma il nome\", nome, \"mi piace di più\")"
      ],
      "execution_count": 4,
      "outputs": [
        {
          "output_type": "stream",
          "name": "stdout",
          "text": [
            "Ciao! Mi chiamo Violetta\n",
            "Volevano chiamarmi Maria\n",
            "ma il nome Violetta mi piace di più\n"
          ]
        }
      ]
    },
    {
      "cell_type": "code",
      "metadata": {
        "id": "Pcu-ZE8KYPJj",
        "colab": {
          "base_uri": "https://localhost:8080/"
        },
        "outputId": "119f58f4-2d9a-4fa9-ade7-2a7e103b9282"
      },
      "source": [
        "#Scrivere le istruzioni per visualizzare la somma di due numeri a e b\n",
        "a = -5\n",
        "b = 23.567\n",
        "print (a+b)"
      ],
      "execution_count": 5,
      "outputs": [
        {
          "output_type": "stream",
          "name": "stdout",
          "text": [
            "18.567\n"
          ]
        }
      ]
    }
  ]
}