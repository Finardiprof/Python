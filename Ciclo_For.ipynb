{
  "cells": [
    {
      "cell_type": "markdown",
      "metadata": {
        "id": "view-in-github",
        "colab_type": "text"
      },
      "source": [
        "<a href=\"https://colab.research.google.com/github/Finardiprof/Python/blob/main/Ciclo_For.ipynb\" target=\"_parent\"><img src=\"https://colab.research.google.com/assets/colab-badge.svg\" alt=\"Open In Colab\"/></a>"
      ]
    },
    {
      "cell_type": "markdown",
      "source": [
        "## Ciclo for\n",
        "\n",
        "**Introduzione**\n",
        "Come l’istruzione while, l’istruzione for permette di ripetere una o diverse azioni. L’istruzione for esegue queste azioni per ogni oggetto contenuto in una sequenza.\n",
        "In Python, il ciclo for è un costrutto di controllo che consente di iterare su un insieme di elementi. L'elemento corrente dell'insieme viene assegnato alla variabile di iterazione, che può essere utilizzata all'interno del blocco di codice del ciclo.\n",
        "\n",
        "**Sintassi**\n",
        "\n",
        "La sintassi del ciclo for è la seguente:"
      ],
      "metadata": {
        "id": "Uo55citp6Vqo"
      }
    },
    {
      "cell_type": "code",
      "source": [
        "for variabile in iterabile:\n",
        "    blocco di codice"
      ],
      "outputs": [],
      "execution_count": null,
      "metadata": {
        "id": "bSaxwmfX6Vqu"
      }
    },
    {
      "cell_type": "markdown",
      "source": [
        "**Dove:**\n",
        "\n",
        "* `variabile` è la variabile di iterazione\n",
        "* `iterabile` è un oggetto iterabile, come una lista, una stringa, un dizionario o un set\n",
        "* `blocco di codice` è il codice che verrà eseguito per ogni elemento dell'iterabile\n",
        "\n",
        "**Esempio 1: iterazione su una lista**"
      ],
      "metadata": {
        "id": "R7JqpI746Vqx"
      }
    },
    {
      "cell_type": "code",
      "source": [
        "# Crea una lista\n",
        "lista = [\"a\", \"b\", \"c\", \"d\"]\n",
        "\n",
        "# Itera sulla lista\n",
        "for lettera in lista:\n",
        "    print(lettera)"
      ],
      "outputs": [],
      "execution_count": null,
      "metadata": {
        "id": "Hq9lfJ626Vqx"
      }
    },
    {
      "cell_type": "code",
      "source": [
        "# Crea una stringa\n",
        "stringa = \"Hello, LSQ1!\"\n",
        "\n",
        "# Itera sulla stringa\n",
        "for carattere in stringa:\n",
        "    print(carattere)"
      ],
      "outputs": [],
      "execution_count": null,
      "metadata": {
        "id": "ZM8T0xFF6Vqy"
      }
    },
    {
      "cell_type": "markdown",
      "source": [
        "**Esempio 2: iterazione su un set**"
      ],
      "metadata": {
        "id": "lOC0ZeCY6Vq1"
      }
    },
    {
      "cell_type": "code",
      "source": [
        "# Crea un set\n",
        "set = {1, 2, 3, 4, 5}\n",
        "\n",
        "# Itera sul set\n",
        "for numero in set:\n",
        "    print(numero)"
      ],
      "outputs": [],
      "execution_count": null,
      "metadata": {
        "id": "EeoRdQJf6Vq1"
      }
    },
    {
      "cell_type": "markdown",
      "source": [
        "**Estensioni**\n",
        "\n",
        "Il ciclo for può essere esteso con diverse funzionalità, come:\n",
        "\n",
        "* **Un passo:** è possibile specificare un passo per l'iterazione, che determina di quanti elementi l'iterazione si sposta ad ogni iterazione. Ad esempio, il seguente codice itera sulla lista `lista` con un passo di 2:"
      ],
      "metadata": {
        "id": "1i_S27lk6Vq2"
      }
    },
    {
      "cell_type": "code",
      "source": [
        "lista = [\"a\", \"b\", \"c\", \"d\"]\n",
        "\n",
        "for lettera in lista[::2]:\n",
        "    print(lettera)"
      ],
      "outputs": [],
      "execution_count": null,
      "metadata": {
        "id": "YyoogYs56Vq2"
      }
    },
    {
      "cell_type": "markdown",
      "source": [
        "* **Una condizione di terminazione:** è possibile specificare una condizione di terminazione per il ciclo, che determina quando il ciclo deve terminare. Ad esempio, il seguente codice itera sulla lista `lista` fino a quando non viene raggiunto l'elemento `\"d\"`:"
      ],
      "metadata": {
        "id": "a6BO-3dW6Vq2"
      }
    },
    {
      "cell_type": "code",
      "source": [
        "lista = [\"a\", \"b\", \"c\", \"d\"]\n",
        "\n",
        "for lettera in lista:\n",
        "    if lettera == \"d\":\n",
        "        break\n",
        "    print(lettera)"
      ],
      "outputs": [],
      "execution_count": null,
      "metadata": {
        "id": "pZ5zLujh6Vq3"
      }
    },
    {
      "cell_type": "markdown",
      "source": [
        "**Conclusione**\n",
        "\n",
        "Il ciclo for è uno strumento potente che può essere utilizzato per iterare su una varietà di oggetti iterabili. La comprensione della sintassi e delle estensioni del ciclo for è essenziale per la programmazione Python."
      ],
      "metadata": {
        "id": "tBV9T45Y6Vq4"
      }
    }
  ],
  "metadata": {
    "colab": {
      "provenance": [],
      "include_colab_link": true
    },
    "kernelspec": {
      "display_name": "Python 3",
      "name": "python3"
    }
  },
  "nbformat": 4,
  "nbformat_minor": 0
}