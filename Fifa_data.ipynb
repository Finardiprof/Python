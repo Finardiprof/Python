{
  "cells": [
    {
      "cell_type": "markdown",
      "metadata": {
        "id": "view-in-github",
        "colab_type": "text"
      },
      "source": [
        "<a href=\"https://colab.research.google.com/github/Finardiprof/Python/blob/main/Fifa_data.ipynb\" target=\"_parent\"><img src=\"https://colab.research.google.com/assets/colab-badge.svg\" alt=\"Open In Colab\"/></a>"
      ]
    },
    {
      "cell_type": "markdown",
      "metadata": {
        "id": "TIMpS1FMEm1e"
      },
      "source": [
        "# WELCOME TO THE NOTEBOOK\n",
        "------------------------------\n",
        "## Task 1\n",
        "\n",
        "### Importing the modules"
      ]
    },
    {
      "cell_type": "code",
      "execution_count": 14,
      "metadata": {
        "colab": {
          "base_uri": "https://localhost:8080/"
        },
        "id": "VnG4z-ICEm1m",
        "outputId": "bdac3e14-46e5-4b2a-d0c6-299149880fe5"
      },
      "outputs": [
        {
          "output_type": "stream",
          "name": "stdout",
          "text": [
            "modules are imported\n"
          ]
        }
      ],
      "source": [
        "import numpy as np\n",
        "import pandas as pd\n",
        "from google.colab import drive\n",
        "import plotly.graph_objects as go\n",
        "import plotly.express as px\n",
        "import plotly\n",
        "import re\n",
        "print('modules are imported')"
      ]
    },
    {
      "cell_type": "markdown",
      "metadata": {
        "id": "4NlCZz9pEm1q"
      },
      "source": [
        "### let's load the fifa 2020 dataset"
      ]
    },
    {
      "cell_type": "code",
      "execution_count": 19,
      "metadata": {
        "colab": {
          "base_uri": "https://localhost:8080/"
        },
        "id": "vQEnxTa0Em1q",
        "outputId": "4d12043e-10f7-4738-efe6-d01ad75defa1"
      },
      "outputs": [
        {
          "output_type": "stream",
          "name": "stdout",
          "text": [
            "Drive already mounted at /content/drive; to attempt to forcibly remount, call drive.mount(\"/content/drive\", force_remount=True).\n"
          ]
        }
      ],
      "source": [
        "drive.mount('/content/drive')\n",
        "df_20 = pd.read_csv('/content/drive/My Drive/players_20.csv')"
      ]
    },
    {
      "cell_type": "markdown",
      "metadata": {
        "id": "km7nE_RCEm1r"
      },
      "source": [
        "let's check the dataset"
      ]
    },
    {
      "cell_type": "code",
      "execution_count": null,
      "metadata": {
        "id": "AqpXrHkxEm1r"
      },
      "outputs": [],
      "source": [
        "df_20.head()"
      ]
    },
    {
      "cell_type": "markdown",
      "metadata": {
        "id": "LGgRenLcEm1s"
      },
      "source": [
        "checking how many rows and columns we have"
      ]
    },
    {
      "cell_type": "code",
      "execution_count": 21,
      "metadata": {
        "colab": {
          "base_uri": "https://localhost:8080/"
        },
        "id": "OL30nwfDEm1s",
        "outputId": "d2b969d5-5bd9-4d23-8ea9-b2776e2132b3"
      },
      "outputs": [
        {
          "output_type": "execute_result",
          "data": {
            "text/plain": [
              "(18278, 104)"
            ]
          },
          "metadata": {},
          "execution_count": 21
        }
      ],
      "source": [
        "df_20.shape"
      ]
    },
    {
      "cell_type": "markdown",
      "metadata": {
        "id": "Azt7d1ZFEm1t"
      },
      "source": [
        "let's check the columns"
      ]
    },
    {
      "cell_type": "code",
      "execution_count": 24,
      "metadata": {
        "colab": {
          "base_uri": "https://localhost:8080/"
        },
        "id": "iebtkNNtEm1u",
        "outputId": "3350d711-261b-4f24-fa4a-61d614174773"
      },
      "outputs": [
        {
          "output_type": "stream",
          "name": "stdout",
          "text": [
            "['sofifa_id', 'player_url', 'short_name', 'long_name', 'age', 'dob', 'height_cm', 'weight_kg', 'nationality', 'club', 'overall', 'potential', 'value_eur', 'wage_eur', 'player_positions', 'preferred_foot', 'international_reputation', 'weak_foot', 'skill_moves', 'work_rate', 'body_type', 'real_face', 'release_clause_eur', 'player_tags', 'team_position', 'team_jersey_number', 'loaned_from', 'joined', 'contract_valid_until', 'nation_position', 'nation_jersey_number', 'pace', 'shooting', 'passing', 'dribbling', 'defending', 'physic', 'gk_diving', 'gk_handling', 'gk_kicking', 'gk_reflexes', 'gk_speed', 'gk_positioning', 'player_traits', 'attacking_crossing', 'attacking_finishing', 'attacking_heading_accuracy', 'attacking_short_passing', 'attacking_volleys', 'skill_dribbling', 'skill_curve', 'skill_fk_accuracy', 'skill_long_passing', 'skill_ball_control', 'movement_acceleration', 'movement_sprint_speed', 'movement_agility', 'movement_reactions', 'movement_balance', 'power_shot_power', 'power_jumping', 'power_stamina', 'power_strength', 'power_long_shots', 'mentality_aggression', 'mentality_interceptions', 'mentality_positioning', 'mentality_vision', 'mentality_penalties', 'mentality_composure', 'defending_marking', 'defending_standing_tackle', 'defending_sliding_tackle', 'goalkeeping_diving', 'goalkeeping_handling', 'goalkeeping_kicking', 'goalkeeping_positioning', 'goalkeeping_reflexes', 'ls', 'st', 'rs', 'lw', 'lf', 'cf', 'rf', 'rw', 'lam', 'cam', 'ram', 'lm', 'lcm', 'cm', 'rcm', 'rm', 'lwb', 'ldm', 'cdm', 'rdm', 'rwb', 'lb', 'lcb', 'cb', 'rcb', 'rb']\n"
          ]
        }
      ],
      "source": [
        "colonne = list(df_20.columns)\n",
        "print(colonne)"
      ]
    },
    {
      "cell_type": "markdown",
      "metadata": {
        "id": "MuKeOl4gEm1u"
      },
      "source": [
        "## Task 2:\n",
        "### Data Preprocessin\n",
        "Dropping some useless columns"
      ]
    },
    {
      "cell_type": "code",
      "execution_count": null,
      "metadata": {
        "id": "p79r2yWCEm1u"
      },
      "outputs": [],
      "source": [
        "useless_columns = ['dob','sofifa_id', 'player_url', 'long_name', 'body_type', 'real_face', 'loaned_from', 'nation_position', 'nation_jersey_number']"
      ]
    },
    {
      "cell_type": "markdown",
      "metadata": {
        "id": "ksVK0RAsEm1z"
      },
      "source": [
        "Let's check the dataframe again"
      ]
    },
    {
      "cell_type": "code",
      "execution_count": null,
      "metadata": {
        "id": "-NeWF3toEm1z"
      },
      "outputs": [],
      "source": []
    },
    {
      "cell_type": "markdown",
      "metadata": {
        "id": "Cu8mnbhLEm10"
      },
      "source": [
        "### Calculating BMI\n",
        "let's calculate body max index of each Player"
      ]
    },
    {
      "cell_type": "code",
      "execution_count": null,
      "metadata": {
        "id": "5TqXF-hyEm10"
      },
      "outputs": [],
      "source": []
    },
    {
      "cell_type": "code",
      "execution_count": null,
      "metadata": {
        "id": "knXCQ3XeEm10"
      },
      "outputs": [],
      "source": []
    },
    {
      "cell_type": "markdown",
      "metadata": {
        "id": "c7FOxF82Em10"
      },
      "source": [
        "### Player's Position\n",
        "Convert the categorical values in Player's Position column in integer values."
      ]
    },
    {
      "cell_type": "code",
      "execution_count": null,
      "metadata": {
        "id": "UBNP0jXnEm10"
      },
      "outputs": [],
      "source": []
    },
    {
      "cell_type": "markdown",
      "metadata": {
        "id": "CcrSnXgLEm11"
      },
      "source": [
        "let's convert the column to integeral columns"
      ]
    },
    {
      "cell_type": "code",
      "execution_count": null,
      "metadata": {
        "id": "52SsB7U9Em11"
      },
      "outputs": [],
      "source": []
    },
    {
      "cell_type": "markdown",
      "metadata": {
        "id": "qcQrIeIYEm11"
      },
      "source": [
        "concatinating new_player_position dataframe to our dataframe"
      ]
    },
    {
      "cell_type": "code",
      "execution_count": null,
      "metadata": {
        "id": "BnR4C45UEm11"
      },
      "outputs": [],
      "source": []
    },
    {
      "cell_type": "markdown",
      "metadata": {
        "id": "ZmukHo95Em11"
      },
      "source": [
        "let's check the dataset again"
      ]
    },
    {
      "cell_type": "code",
      "execution_count": null,
      "metadata": {
        "id": "oL6DbvgxEm11"
      },
      "outputs": [],
      "source": []
    },
    {
      "cell_type": "markdown",
      "metadata": {
        "id": "HVi_VkwdEm11"
      },
      "source": [
        "let's drop the original player_positions columns"
      ]
    },
    {
      "cell_type": "code",
      "execution_count": null,
      "metadata": {
        "id": "cl7j1xAtEm11"
      },
      "outputs": [],
      "source": []
    },
    {
      "cell_type": "markdown",
      "metadata": {
        "id": "681fWZilEm11"
      },
      "source": [
        "let's check the dataset again"
      ]
    },
    {
      "cell_type": "code",
      "execution_count": null,
      "metadata": {
        "id": "XX-UPXI0Em12"
      },
      "outputs": [],
      "source": []
    },
    {
      "cell_type": "markdown",
      "metadata": {
        "id": "tRcF0vxhEm12"
      },
      "source": [
        "## Task 3:\n",
        "### Position Columns ratings\n",
        "Clean, Process and Assign the new attributes to columns listed below."
      ]
    },
    {
      "cell_type": "code",
      "execution_count": null,
      "metadata": {
        "id": "_FPGQMwwEm12"
      },
      "outputs": [],
      "source": [
        "columns = ['ls', 'st', 'rs', 'lw', 'lf', 'cf', 'rf', 'rw', 'lam', 'cam', 'ram',\n",
        "       'lm', 'lcm', 'cm', 'rcm', 'rm', 'lwb', 'ldm', 'cdm', 'rdm', 'rwb', 'lb',\n",
        "       'lcb', 'cb', 'rcb', 'rb']"
      ]
    },
    {
      "cell_type": "markdown",
      "metadata": {
        "id": "c7yqHQuLEm12"
      },
      "source": [
        "let's check what we have in these columns"
      ]
    },
    {
      "cell_type": "code",
      "execution_count": null,
      "metadata": {
        "id": "XATVcOgWEm12"
      },
      "outputs": [],
      "source": []
    },
    {
      "cell_type": "markdown",
      "metadata": {
        "id": "rMBUz-aaEm12"
      },
      "source": [
        "let's omit the '+' sign"
      ]
    },
    {
      "cell_type": "code",
      "execution_count": null,
      "metadata": {
        "id": "h0a2zqKiEm12"
      },
      "outputs": [],
      "source": []
    },
    {
      "cell_type": "markdown",
      "metadata": {
        "id": "1DMxouTEEm12"
      },
      "source": [
        "Let's Replace NaN values with 0"
      ]
    },
    {
      "cell_type": "code",
      "execution_count": null,
      "metadata": {
        "id": "kpzsEluqEm13"
      },
      "outputs": [],
      "source": []
    },
    {
      "cell_type": "markdown",
      "metadata": {
        "id": "TR7vCHwBEm13"
      },
      "source": [
        "Let's convert the columns to int"
      ]
    },
    {
      "cell_type": "code",
      "execution_count": null,
      "metadata": {
        "id": "AbyWNhqbEm13"
      },
      "outputs": [],
      "source": []
    },
    {
      "cell_type": "markdown",
      "metadata": {
        "id": "XJsuqQnsEm1-"
      },
      "source": [
        "Checking the dataframe again"
      ]
    },
    {
      "cell_type": "code",
      "execution_count": null,
      "metadata": {
        "id": "Y6qcgs70Em1-"
      },
      "outputs": [],
      "source": []
    },
    {
      "cell_type": "markdown",
      "metadata": {
        "id": "SCoiiILlEm1-"
      },
      "source": [
        "### Filling Missing Values\n",
        "Let's fill <b>\"dribbling\", \"defending\", \"physic\", \"passing\", \"shooting\" and \"pace\" </b> missing values of these columns by median\n"
      ]
    },
    {
      "cell_type": "code",
      "execution_count": null,
      "metadata": {
        "id": "msSnj-5UEm1-"
      },
      "outputs": [],
      "source": [
        "columns = [\"dribbling\", \"defending\", \"physic\", \"passing\", \"shooting\", \"pace\"]"
      ]
    },
    {
      "cell_type": "markdown",
      "metadata": {
        "id": "DiT3RE_0Em1-"
      },
      "source": [
        "At first let's check how many NaN values are there in these columuns"
      ]
    },
    {
      "cell_type": "code",
      "execution_count": null,
      "metadata": {
        "id": "UaiAW7UbEm1_"
      },
      "outputs": [],
      "source": []
    },
    {
      "cell_type": "markdown",
      "metadata": {
        "id": "27pJed3CEm1_"
      },
      "source": [
        "now lets fill the NaN values with the median of the respective column"
      ]
    },
    {
      "cell_type": "code",
      "execution_count": null,
      "metadata": {
        "id": "XBLrv1kEEm1_"
      },
      "outputs": [],
      "source": []
    },
    {
      "cell_type": "markdown",
      "metadata": {
        "id": "jiObJ8wsEm1_"
      },
      "source": [
        "let's fill all NaN values in the dataframe with 0"
      ]
    },
    {
      "cell_type": "code",
      "execution_count": null,
      "metadata": {
        "id": "aT1yh5QNEm1_"
      },
      "outputs": [],
      "source": []
    },
    {
      "cell_type": "markdown",
      "metadata": {
        "id": "xf43biiNEm2A"
      },
      "source": [
        "let's count the NaN values again"
      ]
    },
    {
      "cell_type": "code",
      "execution_count": null,
      "metadata": {
        "id": "Po33GjoXEm2A"
      },
      "outputs": [],
      "source": []
    },
    {
      "cell_type": "markdown",
      "metadata": {
        "id": "GVGseH6gEm2A"
      },
      "source": [
        "## Task 4:\n",
        "## Exploratory Data Analysis\n",
        "\n",
        "#### 1- Scatter Plot (colored by Age) year 2020 - Overall Rating vs Value in Euros"
      ]
    },
    {
      "cell_type": "code",
      "execution_count": null,
      "metadata": {
        "id": "a7SU654LEm2A"
      },
      "outputs": [],
      "source": []
    },
    {
      "cell_type": "markdown",
      "metadata": {
        "id": "AivX6GhqEm2A"
      },
      "source": [
        "#### 2- Pie chart proportion of right-foot players vs left-foot players"
      ]
    },
    {
      "cell_type": "code",
      "execution_count": null,
      "metadata": {
        "id": "0vYp6AQ8Em2B"
      },
      "outputs": [],
      "source": []
    },
    {
      "cell_type": "markdown",
      "metadata": {
        "id": "aURAHZOSEm2B"
      },
      "source": [
        "#### 3- Histogram of Players Ages"
      ]
    },
    {
      "cell_type": "code",
      "execution_count": null,
      "metadata": {
        "id": "I1ovCwHfEm2B"
      },
      "outputs": [],
      "source": []
    },
    {
      "cell_type": "markdown",
      "metadata": {
        "id": "zG8zxAFhEm2B"
      },
      "source": [
        "#### 4- Scatterpolar plot to compare a player's grothw over time\n",
        "let's load the other datasets players from 2016 to 2019"
      ]
    },
    {
      "cell_type": "code",
      "execution_count": null,
      "metadata": {
        "id": "jPIe5P5sEm2B"
      },
      "outputs": [],
      "source": [
        "df_16 = pd.read_csv(\"dataset/players_16.csv\", error_bad_lines=False)\n",
        "df_17 = pd.read_csv(\"dataset/players_17.csv\", error_bad_lines=False)\n",
        "df_18 = pd.read_csv(\"dataset/players_18.csv\", error_bad_lines=False)\n",
        "df_19 = pd.read_csv(\"dataset/players_19.csv\", error_bad_lines=False)"
      ]
    },
    {
      "cell_type": "markdown",
      "metadata": {
        "id": "eW8sUe6HEm2C"
      },
      "source": [
        "player attributes column names"
      ]
    },
    {
      "cell_type": "code",
      "execution_count": null,
      "metadata": {
        "id": "6HpMvcEgEm2C"
      },
      "outputs": [],
      "source": [
        "attributes = ['Pace','Shooting','Passing','Dribbling','Defending','Physic','Overall']"
      ]
    },
    {
      "cell_type": "markdown",
      "metadata": {
        "id": "B664yphwEm2C"
      },
      "source": [
        "Creating a method to compare a Players growth over Time"
      ]
    },
    {
      "cell_type": "code",
      "execution_count": null,
      "metadata": {
        "id": "xLJgx7pAEm2C"
      },
      "outputs": [],
      "source": []
    },
    {
      "cell_type": "markdown",
      "metadata": {
        "id": "qqOBcAjlEm2C"
      },
      "source": [
        "Let's check the growth of Neymar over time"
      ]
    },
    {
      "cell_type": "code",
      "execution_count": null,
      "metadata": {
        "id": "ufMS41VxEm2C"
      },
      "outputs": [],
      "source": []
    },
    {
      "cell_type": "markdown",
      "metadata": {
        "id": "fzv9sqF6Em2C"
      },
      "source": [
        "what about cristiano Ronaldo"
      ]
    },
    {
      "cell_type": "code",
      "execution_count": null,
      "metadata": {
        "id": "pbNCD6UNEm2D"
      },
      "outputs": [],
      "source": []
    },
    {
      "cell_type": "markdown",
      "metadata": {
        "id": "vBjN2pBREm2D"
      },
      "source": [
        "## Task 5:\n",
        "#### 6- Pie chart Describing the Percentage of Players in different Attacker positions"
      ]
    },
    {
      "cell_type": "code",
      "execution_count": null,
      "metadata": {
        "id": "geHHbYUUEm2D"
      },
      "outputs": [],
      "source": [
        "attack = ['RW', 'LW', 'ST', 'CF', 'LS', 'RS', 'RF', 'LF']"
      ]
    },
    {
      "cell_type": "markdown",
      "metadata": {
        "id": "3DX4VbzdEm2D"
      },
      "source": [
        "#### 7- Pie chart Describing the Percentage of Players in different Midfielder positions"
      ]
    },
    {
      "cell_type": "code",
      "execution_count": null,
      "metadata": {
        "id": "_HXWi87LEm2D"
      },
      "outputs": [],
      "source": [
        "mid = ['CAM', 'RCM', 'CDM', 'LDM', 'RM', 'LCM', 'LM', 'RDM', 'RAM','CM', 'LAM']"
      ]
    },
    {
      "cell_type": "markdown",
      "metadata": {
        "id": "B54_RuacEm2D"
      },
      "source": [
        "#### 8- Pie chart Describing the Percentage of Players in different Defender positions"
      ]
    },
    {
      "cell_type": "code",
      "execution_count": null,
      "metadata": {
        "id": "QJJoj372Em2E"
      },
      "outputs": [],
      "source": [
        "defence = ['LCB', 'RCB', 'LB', 'RB', 'CB', 'RWB', 'LWB']"
      ]
    },
    {
      "cell_type": "markdown",
      "metadata": {
        "id": "UDNdAES8Em2E"
      },
      "source": [
        "### Pick Top 5 Players per Position\n",
        "Creating a method to pick top 5 player based on a the player position and the player value in euro"
      ]
    },
    {
      "cell_type": "code",
      "execution_count": null,
      "metadata": {
        "id": "Il9nivDdEm2E"
      },
      "outputs": [],
      "source": []
    },
    {
      "cell_type": "code",
      "execution_count": null,
      "metadata": {
        "id": "p8vMkRjLEm2E"
      },
      "outputs": [],
      "source": []
    },
    {
      "cell_type": "code",
      "execution_count": null,
      "metadata": {
        "id": "-e0q7iLjEm2E"
      },
      "outputs": [],
      "source": []
    }
  ],
  "metadata": {
    "kernelspec": {
      "display_name": "Python 3",
      "language": "python",
      "name": "python3"
    },
    "language_info": {
      "codemirror_mode": {
        "name": "ipython",
        "version": 3
      },
      "file_extension": ".py",
      "mimetype": "text/x-python",
      "name": "python",
      "nbconvert_exporter": "python",
      "pygments_lexer": "ipython3",
      "version": "3.8.5"
    },
    "colab": {
      "provenance": [],
      "include_colab_link": true
    }
  },
  "nbformat": 4,
  "nbformat_minor": 0
}