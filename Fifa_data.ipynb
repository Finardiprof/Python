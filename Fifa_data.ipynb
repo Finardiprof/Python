{
  "cells": [
    {
      "cell_type": "markdown",
      "metadata": {
        "id": "view-in-github",
        "colab_type": "text"
      },
      "source": [
        "<a href=\"https://colab.research.google.com/github/Finardiprof/Python/blob/main/Fifa_data.ipynb\" target=\"_parent\"><img src=\"https://colab.research.google.com/assets/colab-badge.svg\" alt=\"Open In Colab\"/></a>"
      ]
    },
    {
      "cell_type": "markdown",
      "metadata": {
        "id": "TIMpS1FMEm1e"
      },
      "source": [
        "# WELCOME TO THE NOTEBOOK\n",
        "------------------------------\n",
        "## Task 1\n",
        "\n",
        "### Importing the modules"
      ]
    },
    {
      "cell_type": "code",
      "execution_count": 2,
      "metadata": {
        "colab": {
          "base_uri": "https://localhost:8080/"
        },
        "id": "VnG4z-ICEm1m",
        "outputId": "f6b21b93-535e-46df-bf7b-12e9e7f61475"
      },
      "outputs": [
        {
          "output_type": "stream",
          "name": "stdout",
          "text": [
            "librerie importate\n"
          ]
        }
      ],
      "source": [
        "import numpy as np\n",
        "import pandas as pd\n",
        "from google.colab import drive\n",
        "import plotly.graph_objects as go\n",
        "import plotly.express as px\n",
        "import plotly\n",
        "import re\n",
        "print('librerie importate')"
      ]
    },
    {
      "cell_type": "markdown",
      "metadata": {
        "id": "4NlCZz9pEm1q"
      },
      "source": [
        "### let's load the fifa 2020 dataset"
      ]
    },
    {
      "cell_type": "code",
      "execution_count": 3,
      "metadata": {
        "colab": {
          "base_uri": "https://localhost:8080/"
        },
        "id": "vQEnxTa0Em1q",
        "outputId": "52abaf56-a2ea-4fdf-c383-efb0b7c070df"
      },
      "outputs": [
        {
          "output_type": "stream",
          "name": "stdout",
          "text": [
            "Mounted at /content/drive\n"
          ]
        }
      ],
      "source": [
        "drive.mount('/content/drive')\n",
        "df_20 = pd.read_csv('/content/drive/My Drive/players_20.csv')\n",
        "#df_20 = pd.read_csv('/content/drive/My Drive/players_23.csv')"
      ]
    },
    {
      "cell_type": "markdown",
      "metadata": {
        "id": "km7nE_RCEm1r"
      },
      "source": [
        "let's check the dataset"
      ]
    },
    {
      "cell_type": "code",
      "execution_count": 4,
      "metadata": {
        "id": "AqpXrHkxEm1r",
        "colab": {
          "base_uri": "https://localhost:8080/",
          "height": 464
        },
        "outputId": "48dfff85-b9e8-467b-e29d-604a48454243"
      },
      "outputs": [
        {
          "output_type": "execute_result",
          "data": {
            "text/plain": [
              "   sofifa_id                                         player_url  \\\n",
              "0     158023  https://sofifa.com/player/158023/lionel-messi/...   \n",
              "1      20801  https://sofifa.com/player/20801/c-ronaldo-dos-...   \n",
              "2     190871  https://sofifa.com/player/190871/neymar-da-sil...   \n",
              "3     200389  https://sofifa.com/player/200389/jan-oblak/20/...   \n",
              "4     183277  https://sofifa.com/player/183277/eden-hazard/2...   \n",
              "\n",
              "          short_name                            long_name  age         dob  \\\n",
              "0           L. Messi       Lionel Andrés Messi Cuccittini   32  1987-06-24   \n",
              "1  Cristiano Ronaldo  Cristiano Ronaldo dos Santos Aveiro   34  1985-02-05   \n",
              "2          Neymar Jr        Neymar da Silva Santos Junior   27  1992-02-05   \n",
              "3           J. Oblak                            Jan Oblak   26  1993-01-07   \n",
              "4          E. Hazard                          Eden Hazard   28  1991-01-07   \n",
              "\n",
              "   height_cm  weight_kg nationality                 club  ...   lwb   ldm  \\\n",
              "0        170         72   Argentina         FC Barcelona  ...  68+2  66+2   \n",
              "1        187         83    Portugal             Juventus  ...  65+3  61+3   \n",
              "2        175         68      Brazil  Paris Saint-Germain  ...  66+3  61+3   \n",
              "3        188         87    Slovenia      Atlético Madrid  ...   NaN   NaN   \n",
              "4        175         74     Belgium          Real Madrid  ...  66+3  63+3   \n",
              "\n",
              "    cdm   rdm   rwb    lb   lcb    cb   rcb    rb  \n",
              "0  66+2  66+2  68+2  63+2  52+2  52+2  52+2  63+2  \n",
              "1  61+3  61+3  65+3  61+3  53+3  53+3  53+3  61+3  \n",
              "2  61+3  61+3  66+3  61+3  46+3  46+3  46+3  61+3  \n",
              "3   NaN   NaN   NaN   NaN   NaN   NaN   NaN   NaN  \n",
              "4  63+3  63+3  66+3  61+3  49+3  49+3  49+3  61+3  \n",
              "\n",
              "[5 rows x 104 columns]"
            ],
            "text/html": [
              "\n",
              "  <div id=\"df-a5e436a9-d0c8-49fe-a147-763afc76d8c8\" class=\"colab-df-container\">\n",
              "    <div>\n",
              "<style scoped>\n",
              "    .dataframe tbody tr th:only-of-type {\n",
              "        vertical-align: middle;\n",
              "    }\n",
              "\n",
              "    .dataframe tbody tr th {\n",
              "        vertical-align: top;\n",
              "    }\n",
              "\n",
              "    .dataframe thead th {\n",
              "        text-align: right;\n",
              "    }\n",
              "</style>\n",
              "<table border=\"1\" class=\"dataframe\">\n",
              "  <thead>\n",
              "    <tr style=\"text-align: right;\">\n",
              "      <th></th>\n",
              "      <th>sofifa_id</th>\n",
              "      <th>player_url</th>\n",
              "      <th>short_name</th>\n",
              "      <th>long_name</th>\n",
              "      <th>age</th>\n",
              "      <th>dob</th>\n",
              "      <th>height_cm</th>\n",
              "      <th>weight_kg</th>\n",
              "      <th>nationality</th>\n",
              "      <th>club</th>\n",
              "      <th>...</th>\n",
              "      <th>lwb</th>\n",
              "      <th>ldm</th>\n",
              "      <th>cdm</th>\n",
              "      <th>rdm</th>\n",
              "      <th>rwb</th>\n",
              "      <th>lb</th>\n",
              "      <th>lcb</th>\n",
              "      <th>cb</th>\n",
              "      <th>rcb</th>\n",
              "      <th>rb</th>\n",
              "    </tr>\n",
              "  </thead>\n",
              "  <tbody>\n",
              "    <tr>\n",
              "      <th>0</th>\n",
              "      <td>158023</td>\n",
              "      <td>https://sofifa.com/player/158023/lionel-messi/...</td>\n",
              "      <td>L. Messi</td>\n",
              "      <td>Lionel Andrés Messi Cuccittini</td>\n",
              "      <td>32</td>\n",
              "      <td>1987-06-24</td>\n",
              "      <td>170</td>\n",
              "      <td>72</td>\n",
              "      <td>Argentina</td>\n",
              "      <td>FC Barcelona</td>\n",
              "      <td>...</td>\n",
              "      <td>68+2</td>\n",
              "      <td>66+2</td>\n",
              "      <td>66+2</td>\n",
              "      <td>66+2</td>\n",
              "      <td>68+2</td>\n",
              "      <td>63+2</td>\n",
              "      <td>52+2</td>\n",
              "      <td>52+2</td>\n",
              "      <td>52+2</td>\n",
              "      <td>63+2</td>\n",
              "    </tr>\n",
              "    <tr>\n",
              "      <th>1</th>\n",
              "      <td>20801</td>\n",
              "      <td>https://sofifa.com/player/20801/c-ronaldo-dos-...</td>\n",
              "      <td>Cristiano Ronaldo</td>\n",
              "      <td>Cristiano Ronaldo dos Santos Aveiro</td>\n",
              "      <td>34</td>\n",
              "      <td>1985-02-05</td>\n",
              "      <td>187</td>\n",
              "      <td>83</td>\n",
              "      <td>Portugal</td>\n",
              "      <td>Juventus</td>\n",
              "      <td>...</td>\n",
              "      <td>65+3</td>\n",
              "      <td>61+3</td>\n",
              "      <td>61+3</td>\n",
              "      <td>61+3</td>\n",
              "      <td>65+3</td>\n",
              "      <td>61+3</td>\n",
              "      <td>53+3</td>\n",
              "      <td>53+3</td>\n",
              "      <td>53+3</td>\n",
              "      <td>61+3</td>\n",
              "    </tr>\n",
              "    <tr>\n",
              "      <th>2</th>\n",
              "      <td>190871</td>\n",
              "      <td>https://sofifa.com/player/190871/neymar-da-sil...</td>\n",
              "      <td>Neymar Jr</td>\n",
              "      <td>Neymar da Silva Santos Junior</td>\n",
              "      <td>27</td>\n",
              "      <td>1992-02-05</td>\n",
              "      <td>175</td>\n",
              "      <td>68</td>\n",
              "      <td>Brazil</td>\n",
              "      <td>Paris Saint-Germain</td>\n",
              "      <td>...</td>\n",
              "      <td>66+3</td>\n",
              "      <td>61+3</td>\n",
              "      <td>61+3</td>\n",
              "      <td>61+3</td>\n",
              "      <td>66+3</td>\n",
              "      <td>61+3</td>\n",
              "      <td>46+3</td>\n",
              "      <td>46+3</td>\n",
              "      <td>46+3</td>\n",
              "      <td>61+3</td>\n",
              "    </tr>\n",
              "    <tr>\n",
              "      <th>3</th>\n",
              "      <td>200389</td>\n",
              "      <td>https://sofifa.com/player/200389/jan-oblak/20/...</td>\n",
              "      <td>J. Oblak</td>\n",
              "      <td>Jan Oblak</td>\n",
              "      <td>26</td>\n",
              "      <td>1993-01-07</td>\n",
              "      <td>188</td>\n",
              "      <td>87</td>\n",
              "      <td>Slovenia</td>\n",
              "      <td>Atlético Madrid</td>\n",
              "      <td>...</td>\n",
              "      <td>NaN</td>\n",
              "      <td>NaN</td>\n",
              "      <td>NaN</td>\n",
              "      <td>NaN</td>\n",
              "      <td>NaN</td>\n",
              "      <td>NaN</td>\n",
              "      <td>NaN</td>\n",
              "      <td>NaN</td>\n",
              "      <td>NaN</td>\n",
              "      <td>NaN</td>\n",
              "    </tr>\n",
              "    <tr>\n",
              "      <th>4</th>\n",
              "      <td>183277</td>\n",
              "      <td>https://sofifa.com/player/183277/eden-hazard/2...</td>\n",
              "      <td>E. Hazard</td>\n",
              "      <td>Eden Hazard</td>\n",
              "      <td>28</td>\n",
              "      <td>1991-01-07</td>\n",
              "      <td>175</td>\n",
              "      <td>74</td>\n",
              "      <td>Belgium</td>\n",
              "      <td>Real Madrid</td>\n",
              "      <td>...</td>\n",
              "      <td>66+3</td>\n",
              "      <td>63+3</td>\n",
              "      <td>63+3</td>\n",
              "      <td>63+3</td>\n",
              "      <td>66+3</td>\n",
              "      <td>61+3</td>\n",
              "      <td>49+3</td>\n",
              "      <td>49+3</td>\n",
              "      <td>49+3</td>\n",
              "      <td>61+3</td>\n",
              "    </tr>\n",
              "  </tbody>\n",
              "</table>\n",
              "<p>5 rows × 104 columns</p>\n",
              "</div>\n",
              "    <div class=\"colab-df-buttons\">\n",
              "\n",
              "  <div class=\"colab-df-container\">\n",
              "    <button class=\"colab-df-convert\" onclick=\"convertToInteractive('df-a5e436a9-d0c8-49fe-a147-763afc76d8c8')\"\n",
              "            title=\"Convert this dataframe to an interactive table.\"\n",
              "            style=\"display:none;\">\n",
              "\n",
              "  <svg xmlns=\"http://www.w3.org/2000/svg\" height=\"24px\" viewBox=\"0 -960 960 960\">\n",
              "    <path d=\"M120-120v-720h720v720H120Zm60-500h600v-160H180v160Zm220 220h160v-160H400v160Zm0 220h160v-160H400v160ZM180-400h160v-160H180v160Zm440 0h160v-160H620v160ZM180-180h160v-160H180v160Zm440 0h160v-160H620v160Z\"/>\n",
              "  </svg>\n",
              "    </button>\n",
              "\n",
              "  <style>\n",
              "    .colab-df-container {\n",
              "      display:flex;\n",
              "      gap: 12px;\n",
              "    }\n",
              "\n",
              "    .colab-df-convert {\n",
              "      background-color: #E8F0FE;\n",
              "      border: none;\n",
              "      border-radius: 50%;\n",
              "      cursor: pointer;\n",
              "      display: none;\n",
              "      fill: #1967D2;\n",
              "      height: 32px;\n",
              "      padding: 0 0 0 0;\n",
              "      width: 32px;\n",
              "    }\n",
              "\n",
              "    .colab-df-convert:hover {\n",
              "      background-color: #E2EBFA;\n",
              "      box-shadow: 0px 1px 2px rgba(60, 64, 67, 0.3), 0px 1px 3px 1px rgba(60, 64, 67, 0.15);\n",
              "      fill: #174EA6;\n",
              "    }\n",
              "\n",
              "    .colab-df-buttons div {\n",
              "      margin-bottom: 4px;\n",
              "    }\n",
              "\n",
              "    [theme=dark] .colab-df-convert {\n",
              "      background-color: #3B4455;\n",
              "      fill: #D2E3FC;\n",
              "    }\n",
              "\n",
              "    [theme=dark] .colab-df-convert:hover {\n",
              "      background-color: #434B5C;\n",
              "      box-shadow: 0px 1px 3px 1px rgba(0, 0, 0, 0.15);\n",
              "      filter: drop-shadow(0px 1px 2px rgba(0, 0, 0, 0.3));\n",
              "      fill: #FFFFFF;\n",
              "    }\n",
              "  </style>\n",
              "\n",
              "    <script>\n",
              "      const buttonEl =\n",
              "        document.querySelector('#df-a5e436a9-d0c8-49fe-a147-763afc76d8c8 button.colab-df-convert');\n",
              "      buttonEl.style.display =\n",
              "        google.colab.kernel.accessAllowed ? 'block' : 'none';\n",
              "\n",
              "      async function convertToInteractive(key) {\n",
              "        const element = document.querySelector('#df-a5e436a9-d0c8-49fe-a147-763afc76d8c8');\n",
              "        const dataTable =\n",
              "          await google.colab.kernel.invokeFunction('convertToInteractive',\n",
              "                                                    [key], {});\n",
              "        if (!dataTable) return;\n",
              "\n",
              "        const docLinkHtml = 'Like what you see? Visit the ' +\n",
              "          '<a target=\"_blank\" href=https://colab.research.google.com/notebooks/data_table.ipynb>data table notebook</a>'\n",
              "          + ' to learn more about interactive tables.';\n",
              "        element.innerHTML = '';\n",
              "        dataTable['output_type'] = 'display_data';\n",
              "        await google.colab.output.renderOutput(dataTable, element);\n",
              "        const docLink = document.createElement('div');\n",
              "        docLink.innerHTML = docLinkHtml;\n",
              "        element.appendChild(docLink);\n",
              "      }\n",
              "    </script>\n",
              "  </div>\n",
              "\n",
              "\n",
              "<div id=\"df-89f1f600-5706-429f-aa9c-df8841ef7b92\">\n",
              "  <button class=\"colab-df-quickchart\" onclick=\"quickchart('df-89f1f600-5706-429f-aa9c-df8841ef7b92')\"\n",
              "            title=\"Suggest charts\"\n",
              "            style=\"display:none;\">\n",
              "\n",
              "<svg xmlns=\"http://www.w3.org/2000/svg\" height=\"24px\"viewBox=\"0 0 24 24\"\n",
              "     width=\"24px\">\n",
              "    <g>\n",
              "        <path d=\"M19 3H5c-1.1 0-2 .9-2 2v14c0 1.1.9 2 2 2h14c1.1 0 2-.9 2-2V5c0-1.1-.9-2-2-2zM9 17H7v-7h2v7zm4 0h-2V7h2v10zm4 0h-2v-4h2v4z\"/>\n",
              "    </g>\n",
              "</svg>\n",
              "  </button>\n",
              "\n",
              "<style>\n",
              "  .colab-df-quickchart {\n",
              "      --bg-color: #E8F0FE;\n",
              "      --fill-color: #1967D2;\n",
              "      --hover-bg-color: #E2EBFA;\n",
              "      --hover-fill-color: #174EA6;\n",
              "      --disabled-fill-color: #AAA;\n",
              "      --disabled-bg-color: #DDD;\n",
              "  }\n",
              "\n",
              "  [theme=dark] .colab-df-quickchart {\n",
              "      --bg-color: #3B4455;\n",
              "      --fill-color: #D2E3FC;\n",
              "      --hover-bg-color: #434B5C;\n",
              "      --hover-fill-color: #FFFFFF;\n",
              "      --disabled-bg-color: #3B4455;\n",
              "      --disabled-fill-color: #666;\n",
              "  }\n",
              "\n",
              "  .colab-df-quickchart {\n",
              "    background-color: var(--bg-color);\n",
              "    border: none;\n",
              "    border-radius: 50%;\n",
              "    cursor: pointer;\n",
              "    display: none;\n",
              "    fill: var(--fill-color);\n",
              "    height: 32px;\n",
              "    padding: 0;\n",
              "    width: 32px;\n",
              "  }\n",
              "\n",
              "  .colab-df-quickchart:hover {\n",
              "    background-color: var(--hover-bg-color);\n",
              "    box-shadow: 0 1px 2px rgba(60, 64, 67, 0.3), 0 1px 3px 1px rgba(60, 64, 67, 0.15);\n",
              "    fill: var(--button-hover-fill-color);\n",
              "  }\n",
              "\n",
              "  .colab-df-quickchart-complete:disabled,\n",
              "  .colab-df-quickchart-complete:disabled:hover {\n",
              "    background-color: var(--disabled-bg-color);\n",
              "    fill: var(--disabled-fill-color);\n",
              "    box-shadow: none;\n",
              "  }\n",
              "\n",
              "  .colab-df-spinner {\n",
              "    border: 2px solid var(--fill-color);\n",
              "    border-color: transparent;\n",
              "    border-bottom-color: var(--fill-color);\n",
              "    animation:\n",
              "      spin 1s steps(1) infinite;\n",
              "  }\n",
              "\n",
              "  @keyframes spin {\n",
              "    0% {\n",
              "      border-color: transparent;\n",
              "      border-bottom-color: var(--fill-color);\n",
              "      border-left-color: var(--fill-color);\n",
              "    }\n",
              "    20% {\n",
              "      border-color: transparent;\n",
              "      border-left-color: var(--fill-color);\n",
              "      border-top-color: var(--fill-color);\n",
              "    }\n",
              "    30% {\n",
              "      border-color: transparent;\n",
              "      border-left-color: var(--fill-color);\n",
              "      border-top-color: var(--fill-color);\n",
              "      border-right-color: var(--fill-color);\n",
              "    }\n",
              "    40% {\n",
              "      border-color: transparent;\n",
              "      border-right-color: var(--fill-color);\n",
              "      border-top-color: var(--fill-color);\n",
              "    }\n",
              "    60% {\n",
              "      border-color: transparent;\n",
              "      border-right-color: var(--fill-color);\n",
              "    }\n",
              "    80% {\n",
              "      border-color: transparent;\n",
              "      border-right-color: var(--fill-color);\n",
              "      border-bottom-color: var(--fill-color);\n",
              "    }\n",
              "    90% {\n",
              "      border-color: transparent;\n",
              "      border-bottom-color: var(--fill-color);\n",
              "    }\n",
              "  }\n",
              "</style>\n",
              "\n",
              "  <script>\n",
              "    async function quickchart(key) {\n",
              "      const quickchartButtonEl =\n",
              "        document.querySelector('#' + key + ' button');\n",
              "      quickchartButtonEl.disabled = true;  // To prevent multiple clicks.\n",
              "      quickchartButtonEl.classList.add('colab-df-spinner');\n",
              "      try {\n",
              "        const charts = await google.colab.kernel.invokeFunction(\n",
              "            'suggestCharts', [key], {});\n",
              "      } catch (error) {\n",
              "        console.error('Error during call to suggestCharts:', error);\n",
              "      }\n",
              "      quickchartButtonEl.classList.remove('colab-df-spinner');\n",
              "      quickchartButtonEl.classList.add('colab-df-quickchart-complete');\n",
              "    }\n",
              "    (() => {\n",
              "      let quickchartButtonEl =\n",
              "        document.querySelector('#df-89f1f600-5706-429f-aa9c-df8841ef7b92 button');\n",
              "      quickchartButtonEl.style.display =\n",
              "        google.colab.kernel.accessAllowed ? 'block' : 'none';\n",
              "    })();\n",
              "  </script>\n",
              "</div>\n",
              "    </div>\n",
              "  </div>\n"
            ]
          },
          "metadata": {},
          "execution_count": 4
        }
      ],
      "source": [
        "df_20.head()"
      ]
    },
    {
      "cell_type": "markdown",
      "metadata": {
        "id": "LGgRenLcEm1s"
      },
      "source": [
        "checking how many rows and columns we have"
      ]
    },
    {
      "cell_type": "code",
      "execution_count": 4,
      "metadata": {
        "colab": {
          "base_uri": "https://localhost:8080/"
        },
        "id": "OL30nwfDEm1s",
        "outputId": "e9a65d34-6673-4f6c-944b-216e505a0bb4"
      },
      "outputs": [
        {
          "output_type": "execute_result",
          "data": {
            "text/plain": [
              "(18278, 104)"
            ]
          },
          "metadata": {},
          "execution_count": 4
        }
      ],
      "source": [
        "df_20.shape"
      ]
    },
    {
      "cell_type": "markdown",
      "metadata": {
        "id": "Azt7d1ZFEm1t"
      },
      "source": [
        "let's check the columns"
      ]
    },
    {
      "cell_type": "code",
      "execution_count": 5,
      "metadata": {
        "colab": {
          "base_uri": "https://localhost:8080/"
        },
        "id": "iebtkNNtEm1u",
        "outputId": "e0c47c82-743d-433d-983b-01c3a838422d"
      },
      "outputs": [
        {
          "output_type": "stream",
          "name": "stdout",
          "text": [
            "['sofifa_id', 'player_url', 'short_name', 'long_name', 'age', 'dob', 'height_cm', 'weight_kg', 'nationality', 'club', 'overall', 'potential', 'value_eur', 'wage_eur', 'player_positions', 'preferred_foot', 'international_reputation', 'weak_foot', 'skill_moves', 'work_rate', 'body_type', 'real_face', 'release_clause_eur', 'player_tags', 'team_position', 'team_jersey_number', 'loaned_from', 'joined', 'contract_valid_until', 'nation_position', 'nation_jersey_number', 'pace', 'shooting', 'passing', 'dribbling', 'defending', 'physic', 'gk_diving', 'gk_handling', 'gk_kicking', 'gk_reflexes', 'gk_speed', 'gk_positioning', 'player_traits', 'attacking_crossing', 'attacking_finishing', 'attacking_heading_accuracy', 'attacking_short_passing', 'attacking_volleys', 'skill_dribbling', 'skill_curve', 'skill_fk_accuracy', 'skill_long_passing', 'skill_ball_control', 'movement_acceleration', 'movement_sprint_speed', 'movement_agility', 'movement_reactions', 'movement_balance', 'power_shot_power', 'power_jumping', 'power_stamina', 'power_strength', 'power_long_shots', 'mentality_aggression', 'mentality_interceptions', 'mentality_positioning', 'mentality_vision', 'mentality_penalties', 'mentality_composure', 'defending_marking', 'defending_standing_tackle', 'defending_sliding_tackle', 'goalkeeping_diving', 'goalkeeping_handling', 'goalkeeping_kicking', 'goalkeeping_positioning', 'goalkeeping_reflexes', 'ls', 'st', 'rs', 'lw', 'lf', 'cf', 'rf', 'rw', 'lam', 'cam', 'ram', 'lm', 'lcm', 'cm', 'rcm', 'rm', 'lwb', 'ldm', 'cdm', 'rdm', 'rwb', 'lb', 'lcb', 'cb', 'rcb', 'rb']\n"
          ]
        }
      ],
      "source": [
        "colonne = list(df_20.columns)\n",
        "print(colonne)"
      ]
    },
    {
      "cell_type": "markdown",
      "source": [
        "Analisi Dati"
      ],
      "metadata": {
        "id": "NdybcONpWp15"
      }
    },
    {
      "cell_type": "code",
      "source": [
        "df_20.describe()"
      ],
      "metadata": {
        "colab": {
          "base_uri": "https://localhost:8080/",
          "height": 349
        },
        "id": "GPQ9KDZ0WqeD",
        "outputId": "e41bbaba-2a53-4eda-a795-cc5f55c40651"
      },
      "execution_count": 6,
      "outputs": [
        {
          "output_type": "execute_result",
          "data": {
            "text/plain": [
              "           sofifa_id           age     height_cm     weight_kg       overall  \\\n",
              "count   18278.000000  18278.000000  18278.000000  18278.000000  18278.000000   \n",
              "mean   219738.864482     25.283291    181.362184     75.276343     66.244994   \n",
              "std     27960.200461      4.656964      6.756961      7.047744      6.949953   \n",
              "min       768.000000     16.000000    156.000000     50.000000     48.000000   \n",
              "25%    204445.500000     22.000000    177.000000     70.000000     62.000000   \n",
              "50%    226165.000000     25.000000    181.000000     75.000000     66.000000   \n",
              "75%    240795.750000     29.000000    186.000000     80.000000     71.000000   \n",
              "max    252905.000000     42.000000    205.000000    110.000000     94.000000   \n",
              "\n",
              "          potential     value_eur       wage_eur  international_reputation  \\\n",
              "count  18278.000000  1.827800e+04   18278.000000              18278.000000   \n",
              "mean      71.546887  2.484038e+06    9456.942773                  1.103184   \n",
              "std        6.139669  5.585481e+06   21351.714095                  0.378861   \n",
              "min       49.000000  0.000000e+00       0.000000                  1.000000   \n",
              "25%       67.000000  3.250000e+05    1000.000000                  1.000000   \n",
              "50%       71.000000  7.000000e+05    3000.000000                  1.000000   \n",
              "75%       75.000000  2.100000e+06    8000.000000                  1.000000   \n",
              "max       95.000000  1.055000e+08  565000.000000                  5.000000   \n",
              "\n",
              "          weak_foot  ...  mentality_penalties  mentality_composure  \\\n",
              "count  18278.000000  ...         18278.000000         18278.000000   \n",
              "mean       2.944250  ...            48.383357            58.528778   \n",
              "std        0.664656  ...            15.708099            11.880840   \n",
              "min        1.000000  ...             7.000000            12.000000   \n",
              "25%        3.000000  ...            39.000000            51.000000   \n",
              "50%        3.000000  ...            49.000000            60.000000   \n",
              "75%        3.000000  ...            60.000000            67.000000   \n",
              "max        5.000000  ...            92.000000            96.000000   \n",
              "\n",
              "       defending_marking  defending_standing_tackle  defending_sliding_tackle  \\\n",
              "count       18278.000000               18278.000000              18278.000000   \n",
              "mean           46.848889                  47.640333                 45.606631   \n",
              "std            20.091287                  21.585641                 21.217734   \n",
              "min             1.000000                   5.000000                  3.000000   \n",
              "25%            29.000000                  27.000000                 24.000000   \n",
              "50%            52.000000                  55.000000                 52.000000   \n",
              "75%            64.000000                  66.000000                 64.000000   \n",
              "max            94.000000                  92.000000                 90.000000   \n",
              "\n",
              "       goalkeeping_diving  goalkeeping_handling  goalkeeping_kicking  \\\n",
              "count        18278.000000          18278.000000         18278.000000   \n",
              "mean            16.572765             16.354853            16.212934   \n",
              "std             17.738069             16.996925            16.613665   \n",
              "min              1.000000              1.000000             1.000000   \n",
              "25%              8.000000              8.000000             8.000000   \n",
              "50%             11.000000             11.000000            11.000000   \n",
              "75%             14.000000             14.000000            14.000000   \n",
              "max             90.000000             92.000000            93.000000   \n",
              "\n",
              "       goalkeeping_positioning  goalkeeping_reflexes  \n",
              "count             18278.000000          18278.000000  \n",
              "mean                 16.368038             16.709924  \n",
              "std                  17.136497             18.038125  \n",
              "min                   1.000000              1.000000  \n",
              "25%                   8.000000              8.000000  \n",
              "50%                  11.000000             11.000000  \n",
              "75%                  14.000000             14.000000  \n",
              "max                  91.000000             92.000000  \n",
              "\n",
              "[8 rows x 61 columns]"
            ],
            "text/html": [
              "\n",
              "  <div id=\"df-f9be7aa1-d2f9-45d2-9b6d-ea9237b3a011\" class=\"colab-df-container\">\n",
              "    <div>\n",
              "<style scoped>\n",
              "    .dataframe tbody tr th:only-of-type {\n",
              "        vertical-align: middle;\n",
              "    }\n",
              "\n",
              "    .dataframe tbody tr th {\n",
              "        vertical-align: top;\n",
              "    }\n",
              "\n",
              "    .dataframe thead th {\n",
              "        text-align: right;\n",
              "    }\n",
              "</style>\n",
              "<table border=\"1\" class=\"dataframe\">\n",
              "  <thead>\n",
              "    <tr style=\"text-align: right;\">\n",
              "      <th></th>\n",
              "      <th>sofifa_id</th>\n",
              "      <th>age</th>\n",
              "      <th>height_cm</th>\n",
              "      <th>weight_kg</th>\n",
              "      <th>overall</th>\n",
              "      <th>potential</th>\n",
              "      <th>value_eur</th>\n",
              "      <th>wage_eur</th>\n",
              "      <th>international_reputation</th>\n",
              "      <th>weak_foot</th>\n",
              "      <th>...</th>\n",
              "      <th>mentality_penalties</th>\n",
              "      <th>mentality_composure</th>\n",
              "      <th>defending_marking</th>\n",
              "      <th>defending_standing_tackle</th>\n",
              "      <th>defending_sliding_tackle</th>\n",
              "      <th>goalkeeping_diving</th>\n",
              "      <th>goalkeeping_handling</th>\n",
              "      <th>goalkeeping_kicking</th>\n",
              "      <th>goalkeeping_positioning</th>\n",
              "      <th>goalkeeping_reflexes</th>\n",
              "    </tr>\n",
              "  </thead>\n",
              "  <tbody>\n",
              "    <tr>\n",
              "      <th>count</th>\n",
              "      <td>18278.000000</td>\n",
              "      <td>18278.000000</td>\n",
              "      <td>18278.000000</td>\n",
              "      <td>18278.000000</td>\n",
              "      <td>18278.000000</td>\n",
              "      <td>18278.000000</td>\n",
              "      <td>1.827800e+04</td>\n",
              "      <td>18278.000000</td>\n",
              "      <td>18278.000000</td>\n",
              "      <td>18278.000000</td>\n",
              "      <td>...</td>\n",
              "      <td>18278.000000</td>\n",
              "      <td>18278.000000</td>\n",
              "      <td>18278.000000</td>\n",
              "      <td>18278.000000</td>\n",
              "      <td>18278.000000</td>\n",
              "      <td>18278.000000</td>\n",
              "      <td>18278.000000</td>\n",
              "      <td>18278.000000</td>\n",
              "      <td>18278.000000</td>\n",
              "      <td>18278.000000</td>\n",
              "    </tr>\n",
              "    <tr>\n",
              "      <th>mean</th>\n",
              "      <td>219738.864482</td>\n",
              "      <td>25.283291</td>\n",
              "      <td>181.362184</td>\n",
              "      <td>75.276343</td>\n",
              "      <td>66.244994</td>\n",
              "      <td>71.546887</td>\n",
              "      <td>2.484038e+06</td>\n",
              "      <td>9456.942773</td>\n",
              "      <td>1.103184</td>\n",
              "      <td>2.944250</td>\n",
              "      <td>...</td>\n",
              "      <td>48.383357</td>\n",
              "      <td>58.528778</td>\n",
              "      <td>46.848889</td>\n",
              "      <td>47.640333</td>\n",
              "      <td>45.606631</td>\n",
              "      <td>16.572765</td>\n",
              "      <td>16.354853</td>\n",
              "      <td>16.212934</td>\n",
              "      <td>16.368038</td>\n",
              "      <td>16.709924</td>\n",
              "    </tr>\n",
              "    <tr>\n",
              "      <th>std</th>\n",
              "      <td>27960.200461</td>\n",
              "      <td>4.656964</td>\n",
              "      <td>6.756961</td>\n",
              "      <td>7.047744</td>\n",
              "      <td>6.949953</td>\n",
              "      <td>6.139669</td>\n",
              "      <td>5.585481e+06</td>\n",
              "      <td>21351.714095</td>\n",
              "      <td>0.378861</td>\n",
              "      <td>0.664656</td>\n",
              "      <td>...</td>\n",
              "      <td>15.708099</td>\n",
              "      <td>11.880840</td>\n",
              "      <td>20.091287</td>\n",
              "      <td>21.585641</td>\n",
              "      <td>21.217734</td>\n",
              "      <td>17.738069</td>\n",
              "      <td>16.996925</td>\n",
              "      <td>16.613665</td>\n",
              "      <td>17.136497</td>\n",
              "      <td>18.038125</td>\n",
              "    </tr>\n",
              "    <tr>\n",
              "      <th>min</th>\n",
              "      <td>768.000000</td>\n",
              "      <td>16.000000</td>\n",
              "      <td>156.000000</td>\n",
              "      <td>50.000000</td>\n",
              "      <td>48.000000</td>\n",
              "      <td>49.000000</td>\n",
              "      <td>0.000000e+00</td>\n",
              "      <td>0.000000</td>\n",
              "      <td>1.000000</td>\n",
              "      <td>1.000000</td>\n",
              "      <td>...</td>\n",
              "      <td>7.000000</td>\n",
              "      <td>12.000000</td>\n",
              "      <td>1.000000</td>\n",
              "      <td>5.000000</td>\n",
              "      <td>3.000000</td>\n",
              "      <td>1.000000</td>\n",
              "      <td>1.000000</td>\n",
              "      <td>1.000000</td>\n",
              "      <td>1.000000</td>\n",
              "      <td>1.000000</td>\n",
              "    </tr>\n",
              "    <tr>\n",
              "      <th>25%</th>\n",
              "      <td>204445.500000</td>\n",
              "      <td>22.000000</td>\n",
              "      <td>177.000000</td>\n",
              "      <td>70.000000</td>\n",
              "      <td>62.000000</td>\n",
              "      <td>67.000000</td>\n",
              "      <td>3.250000e+05</td>\n",
              "      <td>1000.000000</td>\n",
              "      <td>1.000000</td>\n",
              "      <td>3.000000</td>\n",
              "      <td>...</td>\n",
              "      <td>39.000000</td>\n",
              "      <td>51.000000</td>\n",
              "      <td>29.000000</td>\n",
              "      <td>27.000000</td>\n",
              "      <td>24.000000</td>\n",
              "      <td>8.000000</td>\n",
              "      <td>8.000000</td>\n",
              "      <td>8.000000</td>\n",
              "      <td>8.000000</td>\n",
              "      <td>8.000000</td>\n",
              "    </tr>\n",
              "    <tr>\n",
              "      <th>50%</th>\n",
              "      <td>226165.000000</td>\n",
              "      <td>25.000000</td>\n",
              "      <td>181.000000</td>\n",
              "      <td>75.000000</td>\n",
              "      <td>66.000000</td>\n",
              "      <td>71.000000</td>\n",
              "      <td>7.000000e+05</td>\n",
              "      <td>3000.000000</td>\n",
              "      <td>1.000000</td>\n",
              "      <td>3.000000</td>\n",
              "      <td>...</td>\n",
              "      <td>49.000000</td>\n",
              "      <td>60.000000</td>\n",
              "      <td>52.000000</td>\n",
              "      <td>55.000000</td>\n",
              "      <td>52.000000</td>\n",
              "      <td>11.000000</td>\n",
              "      <td>11.000000</td>\n",
              "      <td>11.000000</td>\n",
              "      <td>11.000000</td>\n",
              "      <td>11.000000</td>\n",
              "    </tr>\n",
              "    <tr>\n",
              "      <th>75%</th>\n",
              "      <td>240795.750000</td>\n",
              "      <td>29.000000</td>\n",
              "      <td>186.000000</td>\n",
              "      <td>80.000000</td>\n",
              "      <td>71.000000</td>\n",
              "      <td>75.000000</td>\n",
              "      <td>2.100000e+06</td>\n",
              "      <td>8000.000000</td>\n",
              "      <td>1.000000</td>\n",
              "      <td>3.000000</td>\n",
              "      <td>...</td>\n",
              "      <td>60.000000</td>\n",
              "      <td>67.000000</td>\n",
              "      <td>64.000000</td>\n",
              "      <td>66.000000</td>\n",
              "      <td>64.000000</td>\n",
              "      <td>14.000000</td>\n",
              "      <td>14.000000</td>\n",
              "      <td>14.000000</td>\n",
              "      <td>14.000000</td>\n",
              "      <td>14.000000</td>\n",
              "    </tr>\n",
              "    <tr>\n",
              "      <th>max</th>\n",
              "      <td>252905.000000</td>\n",
              "      <td>42.000000</td>\n",
              "      <td>205.000000</td>\n",
              "      <td>110.000000</td>\n",
              "      <td>94.000000</td>\n",
              "      <td>95.000000</td>\n",
              "      <td>1.055000e+08</td>\n",
              "      <td>565000.000000</td>\n",
              "      <td>5.000000</td>\n",
              "      <td>5.000000</td>\n",
              "      <td>...</td>\n",
              "      <td>92.000000</td>\n",
              "      <td>96.000000</td>\n",
              "      <td>94.000000</td>\n",
              "      <td>92.000000</td>\n",
              "      <td>90.000000</td>\n",
              "      <td>90.000000</td>\n",
              "      <td>92.000000</td>\n",
              "      <td>93.000000</td>\n",
              "      <td>91.000000</td>\n",
              "      <td>92.000000</td>\n",
              "    </tr>\n",
              "  </tbody>\n",
              "</table>\n",
              "<p>8 rows × 61 columns</p>\n",
              "</div>\n",
              "    <div class=\"colab-df-buttons\">\n",
              "\n",
              "  <div class=\"colab-df-container\">\n",
              "    <button class=\"colab-df-convert\" onclick=\"convertToInteractive('df-f9be7aa1-d2f9-45d2-9b6d-ea9237b3a011')\"\n",
              "            title=\"Convert this dataframe to an interactive table.\"\n",
              "            style=\"display:none;\">\n",
              "\n",
              "  <svg xmlns=\"http://www.w3.org/2000/svg\" height=\"24px\" viewBox=\"0 -960 960 960\">\n",
              "    <path d=\"M120-120v-720h720v720H120Zm60-500h600v-160H180v160Zm220 220h160v-160H400v160Zm0 220h160v-160H400v160ZM180-400h160v-160H180v160Zm440 0h160v-160H620v160ZM180-180h160v-160H180v160Zm440 0h160v-160H620v160Z\"/>\n",
              "  </svg>\n",
              "    </button>\n",
              "\n",
              "  <style>\n",
              "    .colab-df-container {\n",
              "      display:flex;\n",
              "      gap: 12px;\n",
              "    }\n",
              "\n",
              "    .colab-df-convert {\n",
              "      background-color: #E8F0FE;\n",
              "      border: none;\n",
              "      border-radius: 50%;\n",
              "      cursor: pointer;\n",
              "      display: none;\n",
              "      fill: #1967D2;\n",
              "      height: 32px;\n",
              "      padding: 0 0 0 0;\n",
              "      width: 32px;\n",
              "    }\n",
              "\n",
              "    .colab-df-convert:hover {\n",
              "      background-color: #E2EBFA;\n",
              "      box-shadow: 0px 1px 2px rgba(60, 64, 67, 0.3), 0px 1px 3px 1px rgba(60, 64, 67, 0.15);\n",
              "      fill: #174EA6;\n",
              "    }\n",
              "\n",
              "    .colab-df-buttons div {\n",
              "      margin-bottom: 4px;\n",
              "    }\n",
              "\n",
              "    [theme=dark] .colab-df-convert {\n",
              "      background-color: #3B4455;\n",
              "      fill: #D2E3FC;\n",
              "    }\n",
              "\n",
              "    [theme=dark] .colab-df-convert:hover {\n",
              "      background-color: #434B5C;\n",
              "      box-shadow: 0px 1px 3px 1px rgba(0, 0, 0, 0.15);\n",
              "      filter: drop-shadow(0px 1px 2px rgba(0, 0, 0, 0.3));\n",
              "      fill: #FFFFFF;\n",
              "    }\n",
              "  </style>\n",
              "\n",
              "    <script>\n",
              "      const buttonEl =\n",
              "        document.querySelector('#df-f9be7aa1-d2f9-45d2-9b6d-ea9237b3a011 button.colab-df-convert');\n",
              "      buttonEl.style.display =\n",
              "        google.colab.kernel.accessAllowed ? 'block' : 'none';\n",
              "\n",
              "      async function convertToInteractive(key) {\n",
              "        const element = document.querySelector('#df-f9be7aa1-d2f9-45d2-9b6d-ea9237b3a011');\n",
              "        const dataTable =\n",
              "          await google.colab.kernel.invokeFunction('convertToInteractive',\n",
              "                                                    [key], {});\n",
              "        if (!dataTable) return;\n",
              "\n",
              "        const docLinkHtml = 'Like what you see? Visit the ' +\n",
              "          '<a target=\"_blank\" href=https://colab.research.google.com/notebooks/data_table.ipynb>data table notebook</a>'\n",
              "          + ' to learn more about interactive tables.';\n",
              "        element.innerHTML = '';\n",
              "        dataTable['output_type'] = 'display_data';\n",
              "        await google.colab.output.renderOutput(dataTable, element);\n",
              "        const docLink = document.createElement('div');\n",
              "        docLink.innerHTML = docLinkHtml;\n",
              "        element.appendChild(docLink);\n",
              "      }\n",
              "    </script>\n",
              "  </div>\n",
              "\n",
              "\n",
              "<div id=\"df-7c9f8379-9626-4661-b0b2-73c1a05fcf31\">\n",
              "  <button class=\"colab-df-quickchart\" onclick=\"quickchart('df-7c9f8379-9626-4661-b0b2-73c1a05fcf31')\"\n",
              "            title=\"Suggest charts\"\n",
              "            style=\"display:none;\">\n",
              "\n",
              "<svg xmlns=\"http://www.w3.org/2000/svg\" height=\"24px\"viewBox=\"0 0 24 24\"\n",
              "     width=\"24px\">\n",
              "    <g>\n",
              "        <path d=\"M19 3H5c-1.1 0-2 .9-2 2v14c0 1.1.9 2 2 2h14c1.1 0 2-.9 2-2V5c0-1.1-.9-2-2-2zM9 17H7v-7h2v7zm4 0h-2V7h2v10zm4 0h-2v-4h2v4z\"/>\n",
              "    </g>\n",
              "</svg>\n",
              "  </button>\n",
              "\n",
              "<style>\n",
              "  .colab-df-quickchart {\n",
              "      --bg-color: #E8F0FE;\n",
              "      --fill-color: #1967D2;\n",
              "      --hover-bg-color: #E2EBFA;\n",
              "      --hover-fill-color: #174EA6;\n",
              "      --disabled-fill-color: #AAA;\n",
              "      --disabled-bg-color: #DDD;\n",
              "  }\n",
              "\n",
              "  [theme=dark] .colab-df-quickchart {\n",
              "      --bg-color: #3B4455;\n",
              "      --fill-color: #D2E3FC;\n",
              "      --hover-bg-color: #434B5C;\n",
              "      --hover-fill-color: #FFFFFF;\n",
              "      --disabled-bg-color: #3B4455;\n",
              "      --disabled-fill-color: #666;\n",
              "  }\n",
              "\n",
              "  .colab-df-quickchart {\n",
              "    background-color: var(--bg-color);\n",
              "    border: none;\n",
              "    border-radius: 50%;\n",
              "    cursor: pointer;\n",
              "    display: none;\n",
              "    fill: var(--fill-color);\n",
              "    height: 32px;\n",
              "    padding: 0;\n",
              "    width: 32px;\n",
              "  }\n",
              "\n",
              "  .colab-df-quickchart:hover {\n",
              "    background-color: var(--hover-bg-color);\n",
              "    box-shadow: 0 1px 2px rgba(60, 64, 67, 0.3), 0 1px 3px 1px rgba(60, 64, 67, 0.15);\n",
              "    fill: var(--button-hover-fill-color);\n",
              "  }\n",
              "\n",
              "  .colab-df-quickchart-complete:disabled,\n",
              "  .colab-df-quickchart-complete:disabled:hover {\n",
              "    background-color: var(--disabled-bg-color);\n",
              "    fill: var(--disabled-fill-color);\n",
              "    box-shadow: none;\n",
              "  }\n",
              "\n",
              "  .colab-df-spinner {\n",
              "    border: 2px solid var(--fill-color);\n",
              "    border-color: transparent;\n",
              "    border-bottom-color: var(--fill-color);\n",
              "    animation:\n",
              "      spin 1s steps(1) infinite;\n",
              "  }\n",
              "\n",
              "  @keyframes spin {\n",
              "    0% {\n",
              "      border-color: transparent;\n",
              "      border-bottom-color: var(--fill-color);\n",
              "      border-left-color: var(--fill-color);\n",
              "    }\n",
              "    20% {\n",
              "      border-color: transparent;\n",
              "      border-left-color: var(--fill-color);\n",
              "      border-top-color: var(--fill-color);\n",
              "    }\n",
              "    30% {\n",
              "      border-color: transparent;\n",
              "      border-left-color: var(--fill-color);\n",
              "      border-top-color: var(--fill-color);\n",
              "      border-right-color: var(--fill-color);\n",
              "    }\n",
              "    40% {\n",
              "      border-color: transparent;\n",
              "      border-right-color: var(--fill-color);\n",
              "      border-top-color: var(--fill-color);\n",
              "    }\n",
              "    60% {\n",
              "      border-color: transparent;\n",
              "      border-right-color: var(--fill-color);\n",
              "    }\n",
              "    80% {\n",
              "      border-color: transparent;\n",
              "      border-right-color: var(--fill-color);\n",
              "      border-bottom-color: var(--fill-color);\n",
              "    }\n",
              "    90% {\n",
              "      border-color: transparent;\n",
              "      border-bottom-color: var(--fill-color);\n",
              "    }\n",
              "  }\n",
              "</style>\n",
              "\n",
              "  <script>\n",
              "    async function quickchart(key) {\n",
              "      const quickchartButtonEl =\n",
              "        document.querySelector('#' + key + ' button');\n",
              "      quickchartButtonEl.disabled = true;  // To prevent multiple clicks.\n",
              "      quickchartButtonEl.classList.add('colab-df-spinner');\n",
              "      try {\n",
              "        const charts = await google.colab.kernel.invokeFunction(\n",
              "            'suggestCharts', [key], {});\n",
              "      } catch (error) {\n",
              "        console.error('Error during call to suggestCharts:', error);\n",
              "      }\n",
              "      quickchartButtonEl.classList.remove('colab-df-spinner');\n",
              "      quickchartButtonEl.classList.add('colab-df-quickchart-complete');\n",
              "    }\n",
              "    (() => {\n",
              "      let quickchartButtonEl =\n",
              "        document.querySelector('#df-7c9f8379-9626-4661-b0b2-73c1a05fcf31 button');\n",
              "      quickchartButtonEl.style.display =\n",
              "        google.colab.kernel.accessAllowed ? 'block' : 'none';\n",
              "    })();\n",
              "  </script>\n",
              "</div>\n",
              "    </div>\n",
              "  </div>\n"
            ]
          },
          "metadata": {},
          "execution_count": 6
        }
      ]
    },
    {
      "cell_type": "code",
      "source": [
        "(df_20.Age == 30).describe()"
      ],
      "metadata": {
        "colab": {
          "base_uri": "https://localhost:8080/"
        },
        "id": "8JQjnVItXQk1",
        "outputId": "28bfb658-3681-4bc3-f945-0ae942a0737c"
      },
      "execution_count": null,
      "outputs": [
        {
          "output_type": "execute_result",
          "data": {
            "text/plain": [
              "count     18539\n",
              "unique        2\n",
              "top       False\n",
              "freq      17569\n",
              "Name: Age, dtype: object"
            ]
          },
          "metadata": {},
          "execution_count": 47
        }
      ]
    },
    {
      "cell_type": "code",
      "source": [
        "histogram = df_20.Age.hist()"
      ],
      "metadata": {
        "colab": {
          "base_uri": "https://localhost:8080/",
          "height": 430
        },
        "id": "oC3SQDbeXbuO",
        "outputId": "a7545bb6-80a1-4f29-85aa-03c6de522ad2"
      },
      "execution_count": null,
      "outputs": [
        {
          "output_type": "display_data",
          "data": {
            "text/plain": [
              "<Figure size 640x480 with 1 Axes>"
            ],
            "image/png": "[encoded data removed]"
          },
          "metadata": {}
        }
      ]
    },
    {
      "cell_type": "code",
      "source": [
        "peso = df_20.weight_kg.hist()\n",
        "df_20.weight_kg.describe()"
      ],
      "metadata": {
        "colab": {
          "base_uri": "https://localhost:8080/",
          "height": 245
        },
        "id": "9-fhD2f1X6Tg",
        "outputId": "6b97917e-c6d2-4662-a1c4-9d8506997f93"
      },
      "execution_count": null,
      "outputs": [
        {
          "output_type": "error",
          "ename": "SyntaxError",
          "evalue": "ignored",
          "traceback": [
            "\u001b[0;31m---------------------------------------------------------------------------\u001b[0m",
            "\u001b[0;31mSyntaxError\u001b[0m                               Traceback (most recent call last)",
            "\u001b[0;32m/usr/local/lib/python3.10/dist-packages/IPython/core/compilerop.py\u001b[0m in \u001b[0;36mast_parse\u001b[0;34m(self, source, filename, symbol)\u001b[0m\n\u001b[1;32m     99\u001b[0m         \u001b[0mArguments\u001b[0m \u001b[0mare\u001b[0m \u001b[0mexactly\u001b[0m \u001b[0mthe\u001b[0m \u001b[0msame\u001b[0m \u001b[0;32mas\u001b[0m \u001b[0mast\u001b[0m\u001b[0;34m.\u001b[0m\u001b[0mparse\u001b[0m \u001b[0;34m(\u001b[0m\u001b[0;32min\u001b[0m \u001b[0mthe\u001b[0m \u001b[0mstandard\u001b[0m \u001b[0mlibrary\u001b[0m\u001b[0;34m)\u001b[0m\u001b[0;34m,\u001b[0m\u001b[0;34m\u001b[0m\u001b[0;34m\u001b[0m\u001b[0m\n\u001b[1;32m    100\u001b[0m         and are passed to the built-in compile function.\"\"\"\n\u001b[0;32m--> 101\u001b[0;31m         \u001b[0;32mreturn\u001b[0m \u001b[0mcompile\u001b[0m\u001b[0;34m(\u001b[0m\u001b[0msource\u001b[0m\u001b[0;34m,\u001b[0m \u001b[0mfilename\u001b[0m\u001b[0;34m,\u001b[0m \u001b[0msymbol\u001b[0m\u001b[0;34m,\u001b[0m \u001b[0mself\u001b[0m\u001b[0;34m.\u001b[0m\u001b[0mflags\u001b[0m \u001b[0;34m|\u001b[0m \u001b[0mPyCF_ONLY_AST\u001b[0m\u001b[0;34m,\u001b[0m \u001b[0;36m1\u001b[0m\u001b[0;34m)\u001b[0m\u001b[0;34m\u001b[0m\u001b[0;34m\u001b[0m\u001b[0m\n\u001b[0m\u001b[1;32m    102\u001b[0m \u001b[0;34m\u001b[0m\u001b[0m\n\u001b[1;32m    103\u001b[0m     \u001b[0;32mdef\u001b[0m \u001b[0mreset_compiler_flags\u001b[0m\u001b[0;34m(\u001b[0m\u001b[0mself\u001b[0m\u001b[0;34m)\u001b[0m\u001b[0;34m:\u001b[0m\u001b[0;34m\u001b[0m\u001b[0;34m\u001b[0m\u001b[0m\n",
            "\u001b[0;31mSyntaxError\u001b[0m: invalid syntax (<ipython-input-54-89026caead64>, line 1)"
          ]
        }
      ]
    },
    {
      "cell_type": "code",
      "source": [
        "df_20['overall'].hist()\n",
        "fig = px.histogram(df_20, x = 'overall', title = 'Istogramma rating')\n",
        "fig.show()\n",
        "# Seleziona tutti i giocatori che giocano per il Real Madrid\n",
        "query = df_20.query('club == \"Manchester City\"')\n",
        "print(query[['short_name','overall', 'club']])\n",
        "# Seleziona i giocatori mancini con un punteggio di abilità generale superiore a 85\n",
        "df_lefties = df_20.query('preferred_foot == \"Left\" & overall > 85')\n",
        "\n",
        "# Visualizza i giocatori\n",
        "df_lefties[['short_name', 'overall', 'club']]"
      ],
      "metadata": {
        "colab": {
          "base_uri": "https://localhost:8080/",
          "height": 1000
        },
        "id": "63jk9ttDQWTr",
        "outputId": "0d512c19-ec44-4f7b-b702-6878bec7a0d8"
      },
      "execution_count": 17,
      "outputs": [
        {
          "output_type": "display_data",
          "data": {
            "text/html": [
              "<html>\n",
              "<head><meta charset=\"utf-8\" /></head>\n",
              "<body>\n",
              "    <div>            <script src=\"https://cdnjs.cloudflare.com/ajax/libs/mathjax/2.7.5/MathJax.js?config=TeX-AMS-MML_SVG\"></script><script type=\"text/javascript\">if (window.MathJax && window.MathJax.Hub && window.MathJax.Hub.Config) {window.MathJax.Hub.Config({SVG: {font: \"STIX-Web\"}});}</script>                <script type=\"text/javascript\">window.PlotlyConfig = {MathJaxConfig: 'local'};</script>\n",
              "        <script charset=\"utf-8\" src=\"https://cdn.plot.ly/plotly-2.24.1.min.js\"></script>                <div id=\"c3291193-1ebf-4288-a9ae-155397cee7ab\" class=\"plotly-graph-div\" style=\"height:525px; width:100%;\"></div>            <script type=\"text/javascript\">                                    window.PLOTLYENV=window.PLOTLYENV || {};                                    if (document.getElementById(\"c3291193-1ebf-4288-a9ae-155397cee7ab\")) {                    Plotly.newPlot(                        \"c3291193-1ebf-4288-a9ae-155397cee7ab\",                        [{\"alignmentgroup\":\"True\",\"bingroup\":\"x\",\"hovertemplate\":\"overall=%{x}\\u003cbr\\u003ecount=%{y}\\u003cextra\\u003e\\u003c\\u002fextra\\u003e\",\"legendgroup\":\"\",\"marker\":{\"color\":\"#636efa\",\"pattern\":{\"shape\":\"\"}},\"name\":\"\",\"offsetgroup\":\"\",\"orientation\":\"v\",\"showlegend\":false,\"x\":[94,93,92,91,91,91,90,90,90,90,89,89,89,89,89,89,89,89,89,89,89,89,89,88,88,88,88,88,88,88,88,88,88,88,88,88,88,88,88,88,87,87,87,87,87,87,87,87,87,87,87,87,87,87,87,86,86,86,86,86,86,86,86,86,86,86,86,86,86,86,86,86,86,85,85,85,85,85,85,85,85,85,85,85,85,85,85,85,85,85,85,85,85,85,85,85,85,85,85,85,85,85,85,85,85,85,85,85,84,84,84,84,84,84,84,84,84,84,84,84,84,84,84,84,84,84,84,84,84,84,84,84,84,84,84,84,84,84,84,84,84,84,84,84,84,84,84,84,84,84,84,84,84,84,84,84,84,83,83,83,83,83,83,83,83,83,83,83,83,83,83,83,83,83,83,83,83,83,83,83,83,83,83,83,83,83,83,83,83,83,83,83,83,83,83,83,83,83,83,83,83,83,83,83,83,83,83,83,83,83,83,83,83,83,83,83,83,83,83,83,83,83,83,83,83,83,83,83,83,83,83,83,83,83,83,83,83,82,82,82,82,82,82,82,82,82,82,82,82,82,82,82,82,82,82,82,82,82,82,82,82,82,82,82,82,82,82,82,82,82,82,82,82,82,82,82,82,82,82,82,82,82,82,82,82,82,82,82,82,82,82,82,82,82,82,82,82,82,82,82,82,82,82,82,82,82,82,82,82,82,82,82,82,82,82,82,82,82,82,82,82,82,82,82,82,82,82,82,82,81,81,81,81,81,81,81,81,81,81,81,81,81,81,81,81,81,81,81,81,81,81,81,81,81,81,81,81,81,81,81,81,81,81,81,81,81,81,81,81,81,81,81,81,81,81,81,81,81,81,81,81,81,81,81,81,81,81,81,81,81,81,81,81,81,81,81,81,81,81,81,81,81,81,81,81,81,81,81,81,81,81,80,80,80,80,80,80,80,80,80,80,80,80,80,80,80,80,80,80,80,80,80,80,80,80,80,80,80,80,80,80,80,80,80,80,80,80,80,80,80,80,80,80,80,80,80,80,80,80,80,80,80,80,80,80,80,80,80,80,80,80,80,80,80,80,80,80,80,80,80,80,80,80,80,80,80,80,80,80,80,80,80,80,80,80,80,80,80,80,80,80,80,80,80,80,80,80,80,80,80,80,80,80,80,80,80,80,80,80,80,80,80,80,80,80,80,80,80,80,80,80,80,80,80,80,80,80,80,80,80,80,80,80,80,80,80,80,80,80,80,80,80,80,80,80,80,80,80,80,80,80,80,80,80,80,80,80,80,79,79,79,79,79,79,79,79,79,79,79,79,79,79,79,79,79,79,79,79,79,79,79,79,79,79,79,79,79,79,79,79,79,79,79,79,79,79,79,79,79,79,79,79,79,79,79,79,79,79,79,79,79,79,79,79,79,79,79,79,79,79,79,79,79,79,79,79,79,79,79,79,79,79,79,79,79,79,79,79,79,79,79,79,79,79,79,79,79,79,79,79,79,79,79,79,79,79,79,79,79,79,79,79,79,79,79,79,79,79,79,79,79,79,79,79,79,79,79,79,79,79,79,79,79,79,79,79,79,79,79,79,79,79,79,79,79,79,79,79,79,79,79,79,79,79,79,79,79,79,79,79,79,79,79,79,79,79,79,79,79,79,79,79,79,79,79,79,79,79,79,79,79,79,79,79,79,79,79,79,79,79,79,79,79,78,78,78,78,78,78,78,78,78,78,78,78,78,78,78,78,78,78,78,78,78,78,78,78,78,78,78,78,78,78,78,78,78,78,78,78,78,78,78,78,78,78,78,78,78,78,78,78,78,78,78,78,78,78,78,78,78,78,78,78,78,78,78,78,78,78,78,78,78,78,78,78,78,78,78,78,78,78,78,78,78,78,78,78,78,78,78,78,78,78,78,78,78,78,78,78,78,78,78,78,78,78,78,78,78,78,78,78,78,78,78,78,78,78,78,78,78,78,78,78,78,78,78,78,78,78,78,78,78,78,78,78,78,78,78,78,78,78,78,78,78,78,78,78,78,78,78,78,78,78,78,78,78,78,78,78,78,78,78,78,78,78,78,78,78,78,78,78,78,78,78,78,78,78,78,78,78,78,78,78,78,78,78,78,78,78,78,78,78,78,78,78,78,78,78,78,78,78,78,78,78,78,78,78,78,78,78,78,78,78,78,78,78,78,78,78,78,78,78,78,78,78,78,78,78,78,78,78,78,78,78,78,78,78,78,78,78,78,78,77,77,77,77,77,77,77,77,77,77,77,77,77,77,77,77,77,77,77,77,77,77,77,77,77,77,77,77,77,77,77,77,77,77,77,77,77,77,77,77,77,77,77,77,77,77,77,77,77,77,77,77,77,77,77,77,77,77,77,77,77,77,77,77,77,77,77,77,77,77,77,77,77,77,77,77,77,77,77,77,77,77,77,77,77,77,77,77,77,77,77,77,77,77,77,77,77,77,77,77,77,77,77,77,77,77,77,77,77,77,77,77,77,77,77,77,77,77,77,77,77,77,77,77,77,77,77,77,77,77,77,77,77,77,77,77,77,77,77,77,77,77,77,77,77,77,77,77,77,77,77,77,77,77,77,77,77,77,77,77,77,77,77,77,77,77,77,77,77,77,77,77,77,77,77,77,77,77,77,77,77,77,77,77,77,77,77,77,77,77,77,77,77,77,77,77,77,77,77,77,77,77,77,77,77,77,77,77,77,77,77,77,77,77,77,77,77,77,77,77,77,77,77,77,77,77,77,77,77,77,77,77,77,77,77,77,77,77,77,77,77,77,77,77,77,77,77,77,77,77,77,77,77,77,77,77,77,77,77,77,77,77,76,76,76,76,76,76,76,76,76,76,76,76,76,76,76,76,76,76,76,76,76,76,76,76,76,76,76,76,76,76,76,76,76,76,76,76,76,76,76,76,76,76,76,76,76,76,76,76,76,76,76,76,76,76,76,76,76,76,76,76,76,76,76,76,76,76,76,76,76,76,76,76,76,76,76,76,76,76,76,76,76,76,76,76,76,76,76,76,76,76,76,76,76,76,76,76,76,76,76,76,76,76,76,76,76,76,76,76,76,76,76,76,76,76,76,76,76,76,76,76,76,76,76,76,76,76,76,76,76,76,76,76,76,76,76,76,76,76,76,76,76,76,76,76,76,76,76,76,76,76,76,76,76,76,76,76,76,76,76,76,76,76,76,76,76,76,76,76,76,76,76,76,76,76,76,76,76,76,76,76,76,76,76,76,76,76,76,76,76,76,76,76,76,76,76,76,76,76,76,76,76,76,76,76,76,76,76,76,76,76,76,76,76,76,76,76,76,76,76,76,76,76,76,76,76,76,76,76,76,76,76,76,76,76,76,76,76,76,76,76,76,76,76,76,76,76,76,76,76,76,76,76,76,76,76,76,76,76,76,76,76,76,76,76,76,76,76,76,76,76,76,76,76,76,76,76,76,76,76,76,76,76,76,76,76,76,76,76,76,76,76,76,76,76,76,76,76,76,76,76,76,76,76,76,76,76,76,76,76,76,76,76,76,76,76,76,76,76,76,76,76,76,76,76,76,76,76,76,76,76,76,76,76,76,76,76,76,76,76,76,76,76,76,76,76,76,76,76,76,76,76,76,76,76,76,76,76,76,76,76,76,75,75,75,75,75,75,75,75,75,75,75,75,75,75,75,75,75,75,75,75,75,75,75,75,75,75,75,75,75,75,75,75,75,75,75,75,75,75,75,75,75,75,75,75,75,75,75,75,75,75,75,75,75,75,75,75,75,75,75,75,75,75,75,75,75,75,75,75,75,75,75,75,75,75,75,75,75,75,75,75,75,75,75,75,75,75,75,75,75,75,75,75,75,75,75,75,75,75,75,75,75,75,75,75,75,75,75,75,75,75,75,75,75,75,75,75,75,75,75,75,75,75,75,75,75,75,75,75,75,75,75,75,75,75,75,75,75,75,75,75,75,75,75,75,75,75,75,75,75,75,75,75,75,75,75,75,75,75,75,75,75,75,75,75,75,75,75,75,75,75,75,75,75,75,75,75,75,75,75,75,75,75,75,75,75,75,75,75,75,75,75,75,75,75,75,75,75,75,75,75,75,75,75,75,75,75,75,75,75,75,75,75,75,75,75,75,75,75,75,75,75,75,75,75,75,75,75,75,75,75,75,75,75,75,75,75,75,75,75,75,75,75,75,75,75,75,75,75,75,75,75,75,75,75,75,75,75,75,75,75,75,75,75,75,75,75,75,75,75,75,75,75,75,75,75,75,75,75,75,75,75,75,75,75,75,75,75,75,75,75,75,75,75,75,75,75,75,75,75,75,75,75,75,75,75,75,75,75,75,75,75,75,75,75,75,75,75,75,75,75,75,75,75,75,75,75,75,75,75,75,75,75,75,75,75,75,75,75,75,75,75,75,75,75,75,75,75,75,75,75,75,75,75,75,75,75,75,75,75,75,75,75,75,75,75,75,75,75,75,75,75,75,75,75,75,75,75,75,75,75,75,75,75,75,75,75,75,75,75,75,75,75,75,75,75,75,75,75,75,75,75,75,75,75,75,75,75,75,75,75,75,75,75,75,75,75,75,75,75,75,75,75,75,75,75,75,75,75,75,75,75,75,75,75,75,75,75,75,75,75,75,75,75,75,75,75,75,75,75,75,75,75,75,75,75,75,75,75,75,75,75,75,75,75,75,75,75,75,75,75,75,75,75,75,75,75,75,75,75,75,75,75,75,75,75,75,75,75,75,75,75,75,75,75,75,75,75,75,75,75,75,75,75,75,75,75,74,74,74,74,74,74,74,74,74,74,74,74,74,74,74,74,74,74,74,74,74,74,74,74,74,74,74,74,74,74,74,74,74,74,74,74,74,74,74,74,74,74,74,74,74,74,74,74,74,74,74,74,74,74,74,74,74,74,74,74,74,74,74,74,74,74,74,74,74,74,74,74,74,74,74,74,74,74,74,74,74,74,74,74,74,74,74,74,74,74,74,74,74,74,74,74,74,74,74,74,74,74,74,74,74,74,74,74,74,74,74,74,74,74,74,74,74,74,74,74,74,74,74,74,74,74,74,74,74,74,74,74,74,74,74,74,74,74,74,74,74,74,74,74,74,74,74,74,74,74,74,74,74,74,74,74,74,74,74,74,74,74,74,74,74,74,74,74,74,74,74,74,74,74,74,74,74,74,74,74,74,74,74,74,74,74,74,74,74,74,74,74,74,74,74,74,74,74,74,74,74,74,74,74,74,74,74,74,74,74,74,74,74,74,74,74,74,74,74,74,74,74,74,74,74,74,74,74,74,74,74,74,74,74,74,74,74,74,74,74,74,74,74,74,74,74,74,74,74,74,74,74,74,74,74,74,74,74,74,74,74,74,74,74,74,74,74,74,74,74,74,74,74,74,74,74,74,74,74,74,74,74,74,74,74,74,74,74,74,74,74,74,74,74,74,74,74,74,74,74,74,74,74,74,74,74,74,74,74,74,74,74,74,74,74,74,74,74,74,74,74,74,74,74,74,74,74,74,74,74,74,74,74,74,74,74,74,74,74,74,74,74,74,74,74,74,74,74,74,74,74,74,74,74,74,74,74,74,74,74,74,74,74,74,74,74,74,74,74,74,74,74,74,74,74,74,74,74,74,74,74,74,74,74,74,74,74,74,74,74,74,74,74,74,74,74,74,74,74,74,74,74,74,74,74,74,74,74,74,74,74,74,74,74,74,74,74,74,74,74,74,74,74,74,74,74,74,74,74,74,74,74,74,74,74,74,74,74,74,74,74,74,74,74,74,74,74,74,74,74,74,74,74,74,74,74,74,74,74,74,74,74,74,74,74,74,74,74,74,74,74,74,74,74,74,74,74,74,74,74,74,74,74,74,74,74,74,74,74,74,74,74,74,74,74,74,74,74,74,74,74,74,74,74,74,74,74,74,74,74,74,74,74,74,74,74,74,74,74,74,74,74,74,74,74,74,74,74,74,73,73,73,73,73,73,73,73,73,73,73,73,73,73,73,73,73,73,73,73,73,73,73,73,73,73,73,73,73,73,73,73,73,73,73,73,73,73,73,73,73,73,73,73,73,73,73,73,73,73,73,73,73,73,73,73,73,73,73,73,73,73,73,73,73,73,73,73,73,73,73,73,73,73,73,73,73,73,73,73,73,73,73,73,73,73,73,73,73,73,73,73,73,73,73,73,73,73,73,73,73,73,73,73,73,73,73,73,73,73,73,73,73,73,73,73,73,73,73,73,73,73,73,73,73,73,73,73,73,73,73,73,73,73,73,73,73,73,73,73,73,73,73,73,73,73,73,73,73,73,73,73,73,73,73,73,73,73,73,73,73,73,73,73,73,73,73,73,73,73,73,73,73,73,73,73,73,73,73,73,73,73,73,73,73,73,73,73,73,73,73,73,73,73,73,73,73,73,73,73,73,73,73,73,73,73,73,73,73,73,73,73,73,73,73,73,73,73,73,73,73,73,73,73,73,73,73,73,73,73,73,73,73,73,73,73,73,73,73,73,73,73,73,73,73,73,73,73,73,73,73,73,73,73,73,73,73,73,73,73,73,73,73,73,73,73,73,73,73,73,73,73,73,73,73,73,73,73,73,73,73,73,73,73,73,73,73,73,73,73,73,73,73,73,73,73,73,73,73,73,73,73,73,73,73,73,73,73,73,73,73,73,73,73,73,73,73,73,73,73,73,73,73,73,73,73,73,73,73,73,73,73,73,73,73,73,73,73,73,73,73,73,73,73,73,73,73,73,73,73,73,73,73,73,73,73,73,73,73,73,73,73,73,73,73,73,73,73,73,73,73,73,73,73,73,73,73,73,73,73,73,73,73,73,73,73,73,73,73,73,73,73,73,73,73,73,73,73,73,73,73,73,73,73,73,73,73,73,73,73,73,73,73,73,73,73,73,73,73,73,73,73,73,73,73,73,73,73,73,73,73,73,73,73,73,73,73,73,73,73,73,73,73,73,73,73,73,73,73,73,73,73,73,73,73,73,73,73,73,73,73,73,73,73,73,73,73,73,73,73,73,73,73,73,73,73,73,73,73,73,73,73,73,73,73,73,73,73,73,73,73,73,73,73,73,73,73,73,73,73,73,73,73,73,73,73,73,73,73,73,73,73,73,73,73,73,73,73,73,73,73,73,73,73,73,73,73,73,73,73,73,73,73,73,73,73,73,73,73,73,73,73,73,73,73,73,73,73,73,73,73,73,73,73,73,73,73,73,73,73,73,73,73,73,73,73,73,73,73,73,73,73,73,73,73,73,73,73,73,73,73,73,73,73,73,73,73,73,73,73,73,73,73,73,73,73,73,73,73,73,73,73,73,73,73,73,73,73,73,73,73,73,73,73,73,73,73,73,73,73,73,73,73,73,73,73,73,73,73,73,73,73,73,73,73,73,73,73,72,72,72,72,72,72,72,72,72,72,72,72,72,72,72,72,72,72,72,72,72,72,72,72,72,72,72,72,72,72,72,72,72,72,72,72,72,72,72,72,72,72,72,72,72,72,72,72,72,72,72,72,72,72,72,72,72,72,72,72,72,72,72,72,72,72,72,72,72,72,72,72,72,72,72,72,72,72,72,72,72,72,72,72,72,72,72,72,72,72,72,72,72,72,72,72,72,72,72,72,72,72,72,72,72,72,72,72,72,72,72,72,72,72,72,72,72,72,72,72,72,72,72,72,72,72,72,72,72,72,72,72,72,72,72,72,72,72,72,72,72,72,72,72,72,72,72,72,72,72,72,72,72,72,72,72,72,72,72,72,72,72,72,72,72,72,72,72,72,72,72,72,72,72,72,72,72,72,72,72,72,72,72,72,72,72,72,72,72,72,72,72,72,72,72,72,72,72,72,72,72,72,72,72,72,72,72,72,72,72,72,72,72,72,72,72,72,72,72,72,72,72,72,72,72,72,72,72,72,72,72,72,72,72,72,72,72,72,72,72,72,72,72,72,72,72,72,72,72,72,72,72,72,72,72,72,72,72,72,72,72,72,72,72,72,72,72,72,72,72,72,72,72,72,72,72,72,72,72,72,72,72,72,72,72,72,72,72,72,72,72,72,72,72,72,72,72,72,72,72,72,72,72,72,72,72,72,72,72,72,72,72,72,72,72,72,72,72,72,72,72,72,72,72,72,72,72,72,72,72,72,72,72,72,72,72,72,72,72,72,72,72,72,72,72,72,72,72,72,72,72,72,72,72,72,72,72,72,72,72,72,72,72,72,72,72,72,72,72,72,72,72,72,72,72,72,72,72,72,72,72,72,72,72,72,72,72,72,72,72,72,72,72,72,72,72,72,72,72,72,72,72,72,72,72,72,72,72,72,72,72,72,72,72,72,72,72,72,72,72,72,72,72,72,72,72,72,72,72,72,72,72,72,72,72,72,72,72,72,72,72,72,72,72,72,72,72,72,72,72,72,72,72,72,72,72,72,72,72,72,72,72,72,72,72,72,72,72,72,72,72,72,72,72,72,72,72,72,72,72,72,72,72,72,72,72,72,72,72,72,72,72,72,72,72,72,72,72,72,72,72,72,72,72,72,72,72,72,72,72,72,72,72,72,72,72,72,72,72,72,72,72,72,72,72,72,72,72,72,72,72,72,72,72,72,72,72,72,72,72,72,72,72,72,72,72,72,72,72,72,72,72,72,72,72,72,72,72,72,72,72,72,72,72,72,72,72,72,72,72,72,72,72,72,72,72,72,72,72,72,72,72,72,72,72,72,72,72,72,72,72,72,72,72,72,72,72,72,72,72,72,72,72,72,72,72,72,72,72,72,72,72,72,72,72,72,72,72,72,72,72,72,72,72,72,72,72,72,72,72,72,72,72,72,72,72,72,72,72,72,72,72,72,72,72,72,72,72,72,72,72,72,72,72,72,72,72,72,72,72,72,72,72,72,72,72,72,72,72,72,72,72,72,72,72,72,72,72,72,72,72,72,72,72,72,72,72,72,72,72,72,72,72,72,72,72,72,72,72,72,72,72,72,72,72,72,72,72,72,72,72,72,72,72,72,72,72,72,72,72,72,72,72,72,72,72,72,72,72,72,72,72,72,72,72,72,72,72,72,72,72,72,72,72,72,72,72,72,72,72,72,72,72,71,71,71,71,71,71,71,71,71,71,71,71,71,71,71,71,71,71,71,71,71,71,71,71,71,71,71,71,71,71,71,71,71,71,71,71,71,71,71,71,71,71,71,71,71,71,71,71,71,71,71,71,71,71,71,71,71,71,71,71,71,71,71,71,71,71,71,71,71,71,71,71,71,71,71,71,71,71,71,71,71,71,71,71,71,71,71,71,71,71,71,71,71,71,71,71,71,71,71,71,71,71,71,71,71,71,71,71,71,71,71,71,71,71,71,71,71,71,71,71,71,71,71,71,71,71,71,71,71,71,71,71,71,71,71,71,71,71,71,71,71,71,71,71,71,71,71,71,71,71,71,71,71,71,71,71,71,71,71,71,71,71,71,71,71,71,71,71,71,71,71,71,71,71,71,71,71,71,71,71,71,71,71,71,71,71,71,71,71,71,71,71,71,71,71,71,71,71,71,71,71,71,71,71,71,71,71,71,71,71,71,71,71,71,71,71,71,71,71,71,71,71,71,71,71,71,71,71,71,71,71,71,71,71,71,71,71,71,71,71,71,71,71,71,71,71,71,71,71,71,71,71,71,71,71,71,71,71,71,71,71,71,71,71,71,71,71,71,71,71,71,71,71,71,71,71,71,71,71,71,71,71,71,71,71,71,71,71,71,71,71,71,71,71,71,71,71,71,71,71,71,71,71,71,71,71,71,71,71,71,71,71,71,71,71,71,71,71,71,71,71,71,71,71,71,71,71,71,71,71,71,71,71,71,71,71,71,71,71,71,71,71,71,71,71,71,71,71,71,71,71,71,71,71,71,71,71,71,71,71,71,71,71,71,71,71,71,71,71,71,71,71,71,71,71,71,71,71,71,71,71,71,71,71,71,71,71,71,71,71,71,71,71,71,71,71,71,71,71,71,71,71,71,71,71,71,71,71,71,71,71,71,71,71,71,71,71,71,71,71,71,71,71,71,71,71,71,71,71,71,71,71,71,71,71,71,71,71,71,71,71,71,71,71,71,71,71,71,71,71,71,71,71,71,71,71,71,71,71,71,71,71,71,71,71,71,71,71,71,71,71,71,71,71,71,71,71,71,71,71,71,71,71,71,71,71,71,71,71,71,71,71,71,71,71,71,71,71,71,71,71,71,71,71,71,71,71,71,71,71,71,71,71,71,71,71,71,71,71,71,71,71,71,71,71,71,71,71,71,71,71,71,71,71,71,71,71,71,71,71,71,71,71,71,71,71,71,71,71,71,71,71,71,71,71,71,71,71,71,71,71,71,71,71,71,71,71,71,71,71,71,71,71,71,71,71,71,71,71,71,71,71,71,71,71,71,71,71,71,71,71,71,71,71,71,71,71,71,71,71,71,71,71,71,71,71,71,71,71,71,71,71,71,71,71,71,71,71,71,71,71,71,71,71,71,71,71,71,71,71,71,71,71,71,71,71,71,71,71,71,71,71,71,71,71,71,71,71,71,71,71,71,71,71,71,71,71,71,71,71,71,71,71,71,71,71,71,71,71,71,71,71,71,71,71,71,71,71,71,71,71,71,71,71,71,71,71,71,71,71,71,71,71,71,71,71,71,71,71,71,71,71,71,71,71,71,71,71,71,71,71,71,71,71,71,70,70,70,70,70,70,70,70,70,70,70,70,70,70,70,70,70,70,70,70,70,70,70,70,70,70,70,70,70,70,70,70,70,70,70,70,70,70,70,70,70,70,70,70,70,70,70,70,70,70,70,70,70,70,70,70,70,70,70,70,70,70,70,70,70,70,70,70,70,70,70,70,70,70,70,70,70,70,70,70,70,70,70,70,70,70,70,70,70,70,70,70,70,70,70,70,70,70,70,70,70,70,70,70,70,70,70,70,70,70,70,70,70,70,70,70,70,70,70,70,70,70,70,70,70,70,70,70,70,70,70,70,70,70,70,70,70,70,70,70,70,70,70,70,70,70,70,70,70,70,70,70,70,70,70,70,70,70,70,70,70,70,70,70,70,70,70,70,70,70,70,70,70,70,70,70,70,70,70,70,70,70,70,70,70,70,70,70,70,70,70,70,70,70,70,70,70,70,70,70,70,70,70,70,70,70,70,70,70,70,70,70,70,70,70,70,70,70,70,70,70,70,70,70,70,70,70,70,70,70,70,70,70,70,70,70,70,70,70,70,70,70,70,70,70,70,70,70,70,70,70,70,70,70,70,70,70,70,70,70,70,70,70,70,70,70,70,70,70,70,70,70,70,70,70,70,70,70,70,70,70,70,70,70,70,70,70,70,70,70,70,70,70,70,70,70,70,70,70,70,70,70,70,70,70,70,70,70,70,70,70,70,70,70,70,70,70,70,70,70,70,70,70,70,70,70,70,70,70,70,70,70,70,70,70,70,70,70,70,70,70,70,70,70,70,70,70,70,70,70,70,70,70,70,70,70,70,70,70,70,70,70,70,70,70,70,70,70,70,70,70,70,70,70,70,70,70,70,70,70,70,70,70,70,70,70,70,70,70,70,70,70,70,70,70,70,70,70,70,70,70,70,70,70,70,70,70,70,70,70,70,70,70,70,70,70,70,70,70,70,70,70,70,70,70,70,70,70,70,70,70,70,70,70,70,70,70,70,70,70,70,70,70,70,70,70,70,70,70,70,70,70,70,70,70,70,70,70,70,70,70,70,70,70,70,70,70,70,70,70,70,70,70,70,70,70,70,70,70,70,70,70,70,70,70,70,70,70,70,70,70,70,70,70,70,70,70,70,70,70,70,70,70,70,70,70,70,70,70,70,70,70,70,70,70,70,70,70,70,70,70,70,70,70,70,70,70,70,70,70,70,70,70,70,70,70,70,70,70,70,70,70,70,70,70,70,70,70,70,70,70,70,70,70,70,70,70,70,70,70,70,70,70,70,70,70,70,70,70,70,70,70,70,70,70,70,70,70,70,70,70,70,70,70,70,70,70,70,70,70,70,70,70,70,70,70,70,70,70,70,70,70,70,70,70,70,70,70,70,70,70,70,70,70,70,70,70,70,70,70,70,70,70,70,70,70,70,70,70,70,70,70,70,70,70,70,70,70,70,70,70,70,70,70,70,70,70,70,70,70,70,70,70,70,70,70,70,70,70,70,70,70,70,70,70,70,70,70,70,70,70,70,70,70,70,70,70,70,70,70,70,70,70,70,70,70,70,70,70,70,70,70,70,70,70,70,70,70,70,70,70,70,70,70,70,70,70,70,70,70,70,70,70,70,70,70,70,70,70,70,70,70,70,70,70,70,70,70,70,70,70,70,70,70,70,70,70,70,70,70,70,70,70,70,70,70,70,70,70,70,70,70,70,70,70,70,70,70,70,70,70,70,70,70,70,70,70,70,70,70,70,70,70,70,70,70,70,70,70,70,70,70,70,70,70,70,70,70,70,70,70,70,70,70,70,70,70,70,70,70,70,70,70,70,70,70,70,70,70,70,70,70,70,70,70,70,70,70,70,70,70,70,70,70,70,70,70,70,70,70,70,70,70,70,70,70,70,70,70,70,70,70,70,70,70,70,70,70,70,70,70,70,70,70,70,70,70,70,70,70,70,70,70,70,70,70,70,70,70,70,70,70,70,70,70,70,70,70,70,70,70,70,70,70,70,70,70,70,70,70,70,70,70,70,70,70,70,70,70,70,70,70,69,69,69,69,69,69,69,69,69,69,69,69,69,69,69,69,69,69,69,69,69,69,69,69,69,69,69,69,69,69,69,69,69,69,69,69,69,69,69,69,69,69,69,69,69,69,69,69,69,69,69,69,69,69,69,69,69,69,69,69,69,69,69,69,69,69,69,69,69,69,69,69,69,69,69,69,69,69,69,69,69,69,69,69,69,69,69,69,69,69,69,69,69,69,69,69,69,69,69,69,69,69,69,69,69,69,69,69,69,69,69,69,69,69,69,69,69,69,69,69,69,69,69,69,69,69,69,69,69,69,69,69,69,69,69,69,69,69,69,69,69,69,69,69,69,69,69,69,69,69,69,69,69,69,69,69,69,69,69,69,69,69,69,69,69,69,69,69,69,69,69,69,69,69,69,69,69,69,69,69,69,69,69,69,69,69,69,69,69,69,69,69,69,69,69,69,69,69,69,69,69,69,69,69,69,69,69,69,69,69,69,69,69,69,69,69,69,69,69,69,69,69,69,69,69,69,69,69,69,69,69,69,69,69,69,69,69,69,69,69,69,69,69,69,69,69,69,69,69,69,69,69,69,69,69,69,69,69,69,69,69,69,69,69,69,69,69,69,69,69,69,69,69,69,69,69,69,69,69,69,69,69,69,69,69,69,69,69,69,69,69,69,69,69,69,69,69,69,69,69,69,69,69,69,69,69,69,69,69,69,69,69,69,69,69,69,69,69,69,69,69,69,69,69,69,69,69,69,69,69,69,69,69,69,69,69,69,69,69,69,69,69,69,69,69,69,69,69,69,69,69,69,69,69,69,69,69,69,69,69,69,69,69,69,69,69,69,69,69,69,69,69,69,69,69,69,69,69,69,69,69,69,69,69,69,69,69,69,69,69,69,69,69,69,69,69,69,69,69,69,69,69,69,69,69,69,69,69,69,69,69,69,69,69,69,69,69,69,69,69,69,69,69,69,69,69,69,69,69,69,69,69,69,69,69,69,69,69,69,69,69,69,69,69,69,69,69,69,69,69,69,69,69,69,69,69,69,69,69,69,69,69,69,69,69,69,69,69,69,69,69,69,69,69,69,69,69,69,69,69,69,69,69,69,69,69,69,69,69,69,69,69,69,69,69,69,69,69,69,69,69,69,69,69,69,69,69,69,69,69,69,69,69,69,69,69,69,69,69,69,69,69,69,69,69,69,69,69,69,69,69,69,69,69,69,69,69,69,69,69,69,69,69,69,69,69,69,69,69,69,69,69,69,69,69,69,69,69,69,69,69,69,69,69,69,69,69,69,69,69,69,69,69,69,69,69,69,69,69,69,69,69,69,69,69,69,69,69,69,69,69,69,69,69,69,69,69,69,69,69,69,69,69,69,69,69,69,69,69,69,69,69,69,69,69,69,69,69,69,69,69,69,69,69,69,69,69,69,69,69,69,69,69,69,69,69,69,69,69,69,69,69,69,69,69,69,69,69,69,69,69,69,69,69,69,69,69,69,69,69,69,69,69,69,69,69,69,69,69,69,69,69,69,69,69,69,69,69,69,69,69,69,69,69,69,69,69,69,69,69,69,69,69,69,69,69,69,69,69,69,69,69,69,69,69,69,69,69,69,69,69,69,69,69,69,69,69,69,69,69,69,69,69,69,69,69,69,69,69,69,69,69,69,69,69,69,69,69,69,69,69,69,69,69,69,69,69,69,69,69,69,69,69,69,69,69,69,69,69,69,69,69,69,69,69,69,69,69,69,69,69,69,69,69,69,69,69,69,69,69,69,69,69,69,69,69,69,69,69,69,69,69,69,69,69,69,69,69,69,69,69,69,69,69,69,69,69,69,69,69,69,69,69,69,69,69,69,69,69,69,69,69,69,69,69,69,69,69,69,69,69,69,69,69,69,69,69,69,69,69,69,69,69,69,69,69,69,69,69,69,69,69,69,69,69,69,69,69,69,69,69,69,69,69,69,69,69,69,69,69,69,69,69,69,69,69,69,69,69,69,69,69,69,69,69,69,69,69,69,69,69,69,69,69,69,69,69,69,69,69,69,69,69,69,69,69,69,69,69,69,69,69,69,69,69,69,69,69,69,69,69,69,69,69,69,69,69,69,69,69,69,69,69,69,69,69,69,69,69,69,69,69,69,69,69,69,69,69,69,69,69,69,69,69,69,69,69,69,69,69,69,69,69,69,68,68,68,68,68,68,68,68,68,68,68,68,68,68,68,68,68,68,68,68,68,68,68,68,68,68,68,68,68,68,68,68,68,68,68,68,68,68,68,68,68,68,68,68,68,68,68,68,68,68,68,68,68,68,68,68,68,68,68,68,68,68,68,68,68,68,68,68,68,68,68,68,68,68,68,68,68,68,68,68,68,68,68,68,68,68,68,68,68,68,68,68,68,68,68,68,68,68,68,68,68,68,68,68,68,68,68,68,68,68,68,68,68,68,68,68,68,68,68,68,68,68,68,68,68,68,68,68,68,68,68,68,68,68,68,68,68,68,68,68,68,68,68,68,68,68,68,68,68,68,68,68,68,68,68,68,68,68,68,68,68,68,68,68,68,68,68,68,68,68,68,68,68,68,68,68,68,68,68,68,68,68,68,68,68,68,68,68,68,68,68,68,68,68,68,68,68,68,68,68,68,68,68,68,68,68,68,68,68,68,68,68,68,68,68,68,68,68,68,68,68,68,68,68,68,68,68,68,68,68,68,68,68,68,68,68,68,68,68,68,68,68,68,68,68,68,68,68,68,68,68,68,68,68,68,68,68,68,68,68,68,68,68,68,68,68,68,68,68,68,68,68,68,68,68,68,68,68,68,68,68,68,68,68,68,68,68,68,68,68,68,68,68,68,68,68,68,68,68,68,68,68,68,68,68,68,68,68,68,68,68,68,68,68,68,68,68,68,68,68,68,68,68,68,68,68,68,68,68,68,68,68,68,68,68,68,68,68,68,68,68,68,68,68,68,68,68,68,68,68,68,68,68,68,68,68,68,68,68,68,68,68,68,68,68,68,68,68,68,68,68,68,68,68,68,68,68,68,68,68,68,68,68,68,68,68,68,68,68,68,68,68,68,68,68,68,68,68,68,68,68,68,68,68,68,68,68,68,68,68,68,68,68,68,68,68,68,68,68,68,68,68,68,68,68,68,68,68,68,68,68,68,68,68,68,68,68,68,68,68,68,68,68,68,68,68,68,68,68,68,68,68,68,68,68,68,68,68,68,68,68,68,68,68,68,68,68,68,68,68,68,68,68,68,68,68,68,68,68,68,68,68,68,68,68,68,68,68,68,68,68,68,68,68,68,68,68,68,68,68,68,68,68,68,68,68,68,68,68,68,68,68,68,68,68,68,68,68,68,68,68,68,68,68,68,68,68,68,68,68,68,68,68,68,68,68,68,68,68,68,68,68,68,68,68,68,68,68,68,68,68,68,68,68,68,68,68,68,68,68,68,68,68,68,68,68,68,68,68,68,68,68,68,68,68,68,68,68,68,68,68,68,68,68,68,68,68,68,68,68,68,68,68,68,68,68,68,68,68,68,68,68,68,68,68,68,68,68,68,68,68,68,68,68,68,68,68,68,68,68,68,68,68,68,68,68,68,68,68,68,68,68,68,68,68,68,68,68,68,68,68,68,68,68,68,68,68,68,68,68,68,68,68,68,68,68,68,68,68,68,68,68,68,68,68,68,68,68,68,68,68,68,68,68,68,68,68,68,68,68,68,68,68,68,68,68,68,68,68,68,68,68,68,68,68,68,68,68,68,68,68,68,68,68,68,68,68,68,68,68,68,68,68,68,68,68,68,68,68,68,68,68,68,68,68,68,68,68,68,68,68,68,68,68,68,68,68,68,68,68,68,68,68,68,68,68,68,68,68,68,68,68,68,68,68,68,68,68,68,68,68,68,68,68,68,68,68,68,68,68,68,68,68,68,68,68,68,68,68,68,68,68,68,68,68,68,68,68,68,68,68,68,68,68,68,68,68,68,68,68,68,68,68,68,68,68,68,68,68,68,68,68,68,68,68,68,68,68,68,68,68,68,68,68,68,68,68,68,68,68,68,68,68,68,68,68,68,68,68,68,68,68,68,68,68,68,68,68,68,68,68,68,68,68,68,68,68,68,68,68,68,68,68,68,68,68,68,68,68,68,68,68,68,68,68,68,68,68,68,68,68,68,68,68,68,68,68,68,68,68,68,68,68,68,68,68,68,68,68,68,68,68,68,68,68,68,68,68,68,68,68,68,68,68,68,68,68,68,68,68,68,68,68,68,68,68,68,68,68,68,68,68,68,68,68,68,68,68,68,68,68,68,68,68,68,68,68,68,68,68,68,68,68,68,68,68,68,68,68,68,68,68,68,68,68,68,68,68,68,68,68,68,68,68,68,68,68,68,68,68,68,68,68,68,68,68,68,68,68,68,68,68,68,68,68,68,68,68,68,68,68,68,68,68,68,68,68,68,68,68,68,68,68,68,68,68,68,68,68,68,68,68,68,68,68,68,68,68,68,68,68,68,68,68,68,68,68,68,68,68,68,68,68,68,68,68,68,68,68,68,68,68,68,68,68,68,68,68,68,68,68,68,68,68,68,68,68,68,67,67,67,67,67,67,67,67,67,67,67,67,67,67,67,67,67,67,67,67,67,67,67,67,67,67,67,67,67,67,67,67,67,67,67,67,67,67,67,67,67,67,67,67,67,67,67,67,67,67,67,67,67,67,67,67,67,67,67,67,67,67,67,67,67,67,67,67,67,67,67,67,67,67,67,67,67,67,67,67,67,67,67,67,67,67,67,67,67,67,67,67,67,67,67,67,67,67,67,67,67,67,67,67,67,67,67,67,67,67,67,67,67,67,67,67,67,67,67,67,67,67,67,67,67,67,67,67,67,67,67,67,67,67,67,67,67,67,67,67,67,67,67,67,67,67,67,67,67,67,67,67,67,67,67,67,67,67,67,67,67,67,67,67,67,67,67,67,67,67,67,67,67,67,67,67,67,67,67,67,67,67,67,67,67,67,67,67,67,67,67,67,67,67,67,67,67,67,67,67,67,67,67,67,67,67,67,67,67,67,67,67,67,67,67,67,67,67,67,67,67,67,67,67,67,67,67,67,67,67,67,67,67,67,67,67,67,67,67,67,67,67,67,67,67,67,67,67,67,67,67,67,67,67,67,67,67,67,67,67,67,67,67,67,67,67,67,67,67,67,67,67,67,67,67,67,67,67,67,67,67,67,67,67,67,67,67,67,67,67,67,67,67,67,67,67,67,67,67,67,67,67,67,67,67,67,67,67,67,67,67,67,67,67,67,67,67,67,67,67,67,67,67,67,67,67,67,67,67,67,67,67,67,67,67,67,67,67,67,67,67,67,67,67,67,67,67,67,67,67,67,67,67,67,67,67,67,67,67,67,67,67,67,67,67,67,67,67,67,67,67,67,67,67,67,67,67,67,67,67,67,67,67,67,67,67,67,67,67,67,67,67,67,67,67,67,67,67,67,67,67,67,67,67,67,67,67,67,67,67,67,67,67,67,67,67,67,67,67,67,67,67,67,67,67,67,67,67,67,67,67,67,67,67,67,67,67,67,67,67,67,67,67,67,67,67,67,67,67,67,67,67,67,67,67,67,67,67,67,67,67,67,67,67,67,67,67,67,67,67,67,67,67,67,67,67,67,67,67,67,67,67,67,67,67,67,67,67,67,67,67,67,67,67,67,67,67,67,67,67,67,67,67,67,67,67,67,67,67,67,67,67,67,67,67,67,67,67,67,67,67,67,67,67,67,67,67,67,67,67,67,67,67,67,67,67,67,67,67,67,67,67,67,67,67,67,67,67,67,67,67,67,67,67,67,67,67,67,67,67,67,67,67,67,67,67,67,67,67,67,67,67,67,67,67,67,67,67,67,67,67,67,67,67,67,67,67,67,67,67,67,67,67,67,67,67,67,67,67,67,67,67,67,67,67,67,67,67,67,67,67,67,67,67,67,67,67,67,67,67,67,67,67,67,67,67,67,67,67,67,67,67,67,67,67,67,67,67,67,67,67,67,67,67,67,67,67,67,67,67,67,67,67,67,67,67,67,67,67,67,67,67,67,67,67,67,67,67,67,67,67,67,67,67,67,67,67,67,67,67,67,67,67,67,67,67,67,67,67,67,67,67,67,67,67,67,67,67,67,67,67,67,67,67,67,67,67,67,67,67,67,67,67,67,67,67,67,67,67,67,67,67,67,67,67,67,67,67,67,67,67,67,67,67,67,67,67,67,67,67,67,67,67,67,67,67,67,67,67,67,67,67,67,67,67,67,67,67,67,67,67,67,67,67,67,67,67,67,67,67,67,67,67,67,67,67,67,67,67,67,67,67,67,67,67,67,67,67,67,67,67,67,67,67,67,67,67,67,67,67,67,67,67,67,67,67,67,67,67,67,67,67,67,67,67,67,67,67,67,67,67,67,67,67,67,67,67,67,67,67,67,67,67,67,67,67,67,67,67,67,67,67,67,67,67,67,67,67,67,67,67,67,67,67,67,67,67,67,67,67,67,67,67,67,67,67,67,67,67,67,67,67,67,67,67,67,67,67,67,67,67,67,67,67,67,67,67,67,67,67,67,67,67,67,67,67,67,67,67,67,67,67,67,67,67,67,67,67,67,67,67,67,67,67,67,67,67,67,67,67,67,67,67,67,67,67,67,67,67,67,67,67,67,67,67,67,67,67,67,67,67,67,67,67,67,67,67,67,67,67,67,67,67,67,67,67,67,67,67,67,67,67,67,67,67,67,67,67,67,67,67,67,67,67,67,67,67,67,67,67,67,67,67,67,67,67,67,67,67,67,67,67,67,67,67,67,67,67,67,67,67,67,67,67,67,67,67,67,67,67,67,67,67,67,67,67,67,67,67,67,67,67,67,67,67,67,67,67,67,67,67,67,67,67,67,67,67,67,67,67,67,67,67,67,67,67,67,67,67,67,67,67,67,67,67,67,67,67,67,67,67,67,67,67,67,66,66,66,66,66,66,66,66,66,66,66,66,66,66,66,66,66,66,66,66,66,66,66,66,66,66,66,66,66,66,66,66,66,66,66,66,66,66,66,66,66,66,66,66,66,66,66,66,66,66,66,66,66,66,66,66,66,66,66,66,66,66,66,66,66,66,66,66,66,66,66,66,66,66,66,66,66,66,66,66,66,66,66,66,66,66,66,66,66,66,66,66,66,66,66,66,66,66,66,66,66,66,66,66,66,66,66,66,66,66,66,66,66,66,66,66,66,66,66,66,66,66,66,66,66,66,66,66,66,66,66,66,66,66,66,66,66,66,66,66,66,66,66,66,66,66,66,66,66,66,66,66,66,66,66,66,66,66,66,66,66,66,66,66,66,66,66,66,66,66,66,66,66,66,66,66,66,66,66,66,66,66,66,66,66,66,66,66,66,66,66,66,66,66,66,66,66,66,66,66,66,66,66,66,66,66,66,66,66,66,66,66,66,66,66,66,66,66,66,66,66,66,66,66,66,66,66,66,66,66,66,66,66,66,66,66,66,66,66,66,66,66,66,66,66,66,66,66,66,66,66,66,66,66,66,66,66,66,66,66,66,66,66,66,66,66,66,66,66,66,66,66,66,66,66,66,66,66,66,66,66,66,66,66,66,66,66,66,66,66,66,66,66,66,66,66,66,66,66,66,66,66,66,66,66,66,66,66,66,66,66,66,66,66,66,66,66,66,66,66,66,66,66,66,66,66,66,66,66,66,66,66,66,66,66,66,66,66,66,66,66,66,66,66,66,66,66,66,66,66,66,66,66,66,66,66,66,66,66,66,66,66,66,66,66,66,66,66,66,66,66,66,66,66,66,66,66,66,66,66,66,66,66,66,66,66,66,66,66,66,66,66,66,66,66,66,66,66,66,66,66,66,66,66,66,66,66,66,66,66,66,66,66,66,66,66,66,66,66,66,66,66,66,66,66,66,66,66,66,66,66,66,66,66,66,66,66,66,66,66,66,66,66,66,66,66,66,66,66,66,66,66,66,66,66,66,66,66,66,66,66,66,66,66,66,66,66,66,66,66,66,66,66,66,66,66,66,66,66,66,66,66,66,66,66,66,66,66,66,66,66,66,66,66,66,66,66,66,66,66,66,66,66,66,66,66,66,66,66,66,66,66,66,66,66,66,66,66,66,66,66,66,66,66,66,66,66,66,66,66,66,66,66,66,66,66,66,66,66,66,66,66,66,66,66,66,66,66,66,66,66,66,66,66,66,66,66,66,66,66,66,66,66,66,66,66,66,66,66,66,66,66,66,66,66,66,66,66,66,66,66,66,66,66,66,66,66,66,66,66,66,66,66,66,66,66,66,66,66,66,66,66,66,66,66,66,66,66,66,66,66,66,66,66,66,66,66,66,66,66,66,66,66,66,66,66,66,66,66,66,66,66,66,66,66,66,66,66,66,66,66,66,66,66,66,66,66,66,66,66,66,66,66,66,66,66,66,66,66,66,66,66,66,66,66,66,66,66,66,66,66,66,66,66,66,66,66,66,66,66,66,66,66,66,66,66,66,66,66,66,66,66,66,66,66,66,66,66,66,66,66,66,66,66,66,66,66,66,66,66,66,66,66,66,66,66,66,66,66,66,66,66,66,66,66,66,66,66,66,66,66,66,66,66,66,66,66,66,66,66,66,66,66,66,66,66,66,66,66,66,66,66,66,66,66,66,66,66,66,66,66,66,66,66,66,66,66,66,66,66,66,66,66,66,66,66,66,66,66,66,66,66,66,66,66,66,66,66,66,66,66,66,66,66,66,66,66,66,66,66,66,66,66,66,66,66,66,66,66,66,66,66,66,66,66,66,66,66,66,66,66,66,66,66,66,66,66,66,66,66,66,66,66,66,66,66,66,66,66,66,66,66,66,66,66,66,66,66,66,66,66,66,66,66,66,66,66,66,66,66,66,66,66,66,66,66,66,66,66,66,66,66,66,66,66,66,66,66,66,66,66,66,66,66,66,66,66,66,66,66,66,66,66,66,66,66,66,66,66,66,66,66,66,66,66,66,66,66,66,66,66,66,66,66,66,66,66,66,66,66,66,66,66,66,66,66,66,66,66,66,66,66,66,66,66,66,66,66,66,66,66,66,66,66,66,66,66,66,66,66,66,66,66,66,66,66,66,66,66,66,66,66,66,66,66,66,66,66,66,66,66,66,66,66,66,66,66,66,66,66,66,66,66,66,66,66,66,66,66,66,66,66,66,66,66,66,66,66,66,66,66,66,66,66,66,66,66,66,66,66,66,66,66,66,66,66,66,66,66,66,66,66,66,66,66,66,66,66,66,66,66,66,66,66,66,66,66,66,66,66,66,66,66,66,66,66,66,66,66,66,66,66,66,66,66,66,66,66,66,66,66,66,66,66,66,66,66,66,66,66,66,66,66,66,66,66,66,66,66,66,66,66,66,66,66,66,66,66,66,66,66,66,66,66,66,66,66,66,66,66,66,66,66,66,66,66,66,66,66,66,66,66,66,66,66,66,66,66,66,66,66,66,66,66,66,66,66,66,66,66,66,66,66,66,66,66,66,66,66,66,66,65,65,65,65,65,65,65,65,65,65,65,65,65,65,65,65,65,65,65,65,65,65,65,65,65,65,65,65,65,65,65,65,65,65,65,65,65,65,65,65,65,65,65,65,65,65,65,65,65,65,65,65,65,65,65,65,65,65,65,65,65,65,65,65,65,65,65,65,65,65,65,65,65,65,65,65,65,65,65,65,65,65,65,65,65,65,65,65,65,65,65,65,65,65,65,65,65,65,65,65,65,65,65,65,65,65,65,65,65,65,65,65,65,65,65,65,65,65,65,65,65,65,65,65,65,65,65,65,65,65,65,65,65,65,65,65,65,65,65,65,65,65,65,65,65,65,65,65,65,65,65,65,65,65,65,65,65,65,65,65,65,65,65,65,65,65,65,65,65,65,65,65,65,65,65,65,65,65,65,65,65,65,65,65,65,65,65,65,65,65,65,65,65,65,65,65,65,65,65,65,65,65,65,65,65,65,65,65,65,65,65,65,65,65,65,65,65,65,65,65,65,65,65,65,65,65,65,65,65,65,65,65,65,65,65,65,65,65,65,65,65,65,65,65,65,65,65,65,65,65,65,65,65,65,65,65,65,65,65,65,65,65,65,65,65,65,65,65,65,65,65,65,65,65,65,65,65,65,65,65,65,65,65,65,65,65,65,65,65,65,65,65,65,65,65,65,65,65,65,65,65,65,65,65,65,65,65,65,65,65,65,65,65,65,65,65,65,65,65,65,65,65,65,65,65,65,65,65,65,65,65,65,65,65,65,65,65,65,65,65,65,65,65,65,65,65,65,65,65,65,65,65,65,65,65,65,65,65,65,65,65,65,65,65,65,65,65,65,65,65,65,65,65,65,65,65,65,65,65,65,65,65,65,65,65,65,65,65,65,65,65,65,65,65,65,65,65,65,65,65,65,65,65,65,65,65,65,65,65,65,65,65,65,65,65,65,65,65,65,65,65,65,65,65,65,65,65,65,65,65,65,65,65,65,65,65,65,65,65,65,65,65,65,65,65,65,65,65,65,65,65,65,65,65,65,65,65,65,65,65,65,65,65,65,65,65,65,65,65,65,65,65,65,65,65,65,65,65,65,65,65,65,65,65,65,65,65,65,65,65,65,65,65,65,65,65,65,65,65,65,65,65,65,65,65,65,65,65,65,65,65,65,65,65,65,65,65,65,65,65,65,65,65,65,65,65,65,65,65,65,65,65,65,65,65,65,65,65,65,65,65,65,65,65,65,65,65,65,65,65,65,65,65,65,65,65,65,65,65,65,65,65,65,65,65,65,65,65,65,65,65,65,65,65,65,65,65,65,65,65,65,65,65,65,65,65,65,65,65,65,65,65,65,65,65,65,65,65,65,65,65,65,65,65,65,65,65,65,65,65,65,65,65,65,65,65,65,65,65,65,65,65,65,65,65,65,65,65,65,65,65,65,65,65,65,65,65,65,65,65,65,65,65,65,65,65,65,65,65,65,65,65,65,65,65,65,65,65,65,65,65,65,65,65,65,65,65,65,65,65,65,65,65,65,65,65,65,65,65,65,65,65,65,65,65,65,65,65,65,65,65,65,65,65,65,65,65,65,65,65,65,65,65,65,65,65,65,65,65,65,65,65,65,65,65,65,65,65,65,65,65,65,65,65,65,65,65,65,65,65,65,65,65,65,65,65,65,65,65,65,65,65,65,65,65,65,65,65,65,65,65,65,65,65,65,65,65,65,65,65,65,65,65,65,65,65,65,65,65,65,65,65,65,65,65,65,65,65,65,65,65,65,65,65,65,65,65,65,65,65,65,65,65,65,65,65,65,65,65,65,65,65,65,65,65,65,65,65,65,65,65,65,65,65,65,65,65,65,65,65,65,65,65,65,65,65,65,65,65,65,65,65,65,65,65,65,65,65,65,65,65,65,65,65,65,65,65,65,65,65,65,65,65,65,65,65,65,65,65,65,65,65,65,65,65,65,65,65,65,65,65,65,65,65,65,65,65,65,65,65,65,65,65,65,65,65,65,65,65,65,65,65,65,65,65,65,65,65,65,65,65,65,65,65,65,65,65,65,65,65,65,65,65,65,65,65,65,65,65,65,65,65,65,65,65,65,65,65,65,65,65,65,65,65,65,65,65,65,65,65,65,65,65,65,65,65,65,65,65,65,65,65,65,65,65,65,65,65,65,65,65,65,65,65,65,65,65,65,65,65,65,65,65,65,65,65,65,65,65,65,65,65,65,65,65,65,65,65,65,65,65,65,65,65,65,65,65,65,65,65,65,65,65,65,65,65,65,65,65,65,65,65,65,65,65,65,65,65,65,65,65,65,65,65,65,65,65,65,65,65,65,65,65,65,65,65,65,65,65,65,65,65,65,65,65,65,65,65,65,65,65,65,65,65,65,65,65,65,65,65,65,65,65,65,65,65,65,65,65,65,65,65,65,65,65,65,65,65,65,65,65,65,65,65,65,65,65,65,65,65,65,65,65,65,65,65,65,65,65,65,65,65,65,65,65,65,65,65,65,65,65,65,65,65,65,65,65,65,65,65,65,65,65,65,64,64,64,64,64,64,64,64,64,64,64,64,64,64,64,64,64,64,64,64,64,64,64,64,64,64,64,64,64,64,64,64,64,64,64,64,64,64,64,64,64,64,64,64,64,64,64,64,64,64,64,64,64,64,64,64,64,64,64,64,64,64,64,64,64,64,64,64,64,64,64,64,64,64,64,64,64,64,64,64,64,64,64,64,64,64,64,64,64,64,64,64,64,64,64,64,64,64,64,64,64,64,64,64,64,64,64,64,64,64,64,64,64,64,64,64,64,64,64,64,64,64,64,64,64,64,64,64,64,64,64,64,64,64,64,64,64,64,64,64,64,64,64,64,64,64,64,64,64,64,64,64,64,64,64,64,64,64,64,64,64,64,64,64,64,64,64,64,64,64,64,64,64,64,64,64,64,64,64,64,64,64,64,64,64,64,64,64,64,64,64,64,64,64,64,64,64,64,64,64,64,64,64,64,64,64,64,64,64,64,64,64,64,64,64,64,64,64,64,64,64,64,64,64,64,64,64,64,64,64,64,64,64,64,64,64,64,64,64,64,64,64,64,64,64,64,64,64,64,64,64,64,64,64,64,64,64,64,64,64,64,64,64,64,64,64,64,64,64,64,64,64,64,64,64,64,64,64,64,64,64,64,64,64,64,64,64,64,64,64,64,64,64,64,64,64,64,64,64,64,64,64,64,64,64,64,64,64,64,64,64,64,64,64,64,64,64,64,64,64,64,64,64,64,64,64,64,64,64,64,64,64,64,64,64,64,64,64,64,64,64,64,64,64,64,64,64,64,64,64,64,64,64,64,64,64,64,64,64,64,64,64,64,64,64,64,64,64,64,64,64,64,64,64,64,64,64,64,64,64,64,64,64,64,64,64,64,64,64,64,64,64,64,64,64,64,64,64,64,64,64,64,64,64,64,64,64,64,64,64,64,64,64,64,64,64,64,64,64,64,64,64,64,64,64,64,64,64,64,64,64,64,64,64,64,64,64,64,64,64,64,64,64,64,64,64,64,64,64,64,64,64,64,64,64,64,64,64,64,64,64,64,64,64,64,64,64,64,64,64,64,64,64,64,64,64,64,64,64,64,64,64,64,64,64,64,64,64,64,64,64,64,64,64,64,64,64,64,64,64,64,64,64,64,64,64,64,64,64,64,64,64,64,64,64,64,64,64,64,64,64,64,64,64,64,64,64,64,64,64,64,64,64,64,64,64,64,64,64,64,64,64,64,64,64,64,64,64,64,64,64,64,64,64,64,64,64,64,64,64,64,64,64,64,64,64,64,64,64,64,64,64,64,64,64,64,64,64,64,64,64,64,64,64,64,64,64,64,64,64,64,64,64,64,64,64,64,64,64,64,64,64,64,64,64,64,64,64,64,64,64,64,64,64,64,64,64,64,64,64,64,64,64,64,64,64,64,64,64,64,64,64,64,64,64,64,64,64,64,64,64,64,64,64,64,64,64,64,64,64,64,64,64,64,64,64,64,64,64,64,64,64,64,64,64,64,64,64,64,64,64,64,64,64,64,64,64,64,64,64,64,64,64,64,64,64,64,64,64,64,64,64,64,64,64,64,64,64,64,64,64,64,64,64,64,64,64,64,64,64,64,64,64,64,64,64,64,64,64,64,64,64,64,64,64,64,64,64,64,64,64,64,64,64,64,64,64,64,64,64,64,64,64,64,64,64,64,64,64,64,64,64,64,64,64,64,64,64,64,64,64,64,64,64,64,64,64,64,64,64,64,64,64,64,64,64,64,64,64,64,64,64,64,64,64,64,64,64,64,64,64,64,64,64,64,64,64,64,64,64,64,64,64,64,64,64,64,64,64,64,64,64,64,64,64,64,64,64,64,64,64,64,64,64,64,64,64,64,64,64,64,64,64,64,64,64,64,64,64,64,64,64,64,64,64,64,64,64,64,64,64,64,64,64,64,64,64,64,64,64,64,64,64,64,64,64,64,64,64,64,64,64,64,64,64,64,64,64,64,64,64,64,64,64,64,64,64,64,64,64,64,64,64,64,64,64,64,64,64,64,64,64,64,64,64,64,64,64,64,64,64,64,64,64,64,64,64,64,64,64,64,64,64,64,64,64,64,64,64,64,64,64,64,64,64,64,64,64,64,64,64,64,64,64,64,64,64,64,64,64,64,64,64,64,64,64,64,64,64,64,64,64,64,64,64,64,64,64,64,64,64,64,64,64,64,64,64,64,64,64,64,64,64,64,64,64,64,64,64,64,64,64,64,64,64,64,64,64,64,64,64,64,64,64,64,64,64,64,64,64,64,64,64,64,64,64,64,64,64,64,64,64,64,64,64,64,64,64,64,64,64,64,64,64,64,64,64,64,64,64,64,64,64,64,64,64,64,64,64,64,64,64,64,64,64,64,64,64,64,64,64,64,64,64,64,64,64,64,64,64,64,64,64,64,64,64,64,64,64,64,64,64,64,64,64,64,64,64,64,64,64,64,64,64,64,64,64,64,64,64,64,64,64,64,64,64,64,64,64,64,64,64,64,64,64,64,64,64,64,64,64,64,64,64,64,64,64,64,64,64,64,64,64,64,64,64,64,64,63,63,63,63,63,63,63,63,63,63,63,63,63,63,63,63,63,63,63,63,63,63,63,63,63,63,63,63,63,63,63,63,63,63,63,63,63,63,63,63,63,63,63,63,63,63,63,63,63,63,63,63,63,63,63,63,63,63,63,63,63,63,63,63,63,63,63,63,63,63,63,63,63,63,63,63,63,63,63,63,63,63,63,63,63,63,63,63,63,63,63,63,63,63,63,63,63,63,63,63,63,63,63,63,63,63,63,63,63,63,63,63,63,63,63,63,63,63,63,63,63,63,63,63,63,63,63,63,63,63,63,63,63,63,63,63,63,63,63,63,63,63,63,63,63,63,63,63,63,63,63,63,63,63,63,63,63,63,63,63,63,63,63,63,63,63,63,63,63,63,63,63,63,63,63,63,63,63,63,63,63,63,63,63,63,63,63,63,63,63,63,63,63,63,63,63,63,63,63,63,63,63,63,63,63,63,63,63,63,63,63,63,63,63,63,63,63,63,63,63,63,63,63,63,63,63,63,63,63,63,63,63,63,63,63,63,63,63,63,63,63,63,63,63,63,63,63,63,63,63,63,63,63,63,63,63,63,63,63,63,63,63,63,63,63,63,63,63,63,63,63,63,63,63,63,63,63,63,63,63,63,63,63,63,63,63,63,63,63,63,63,63,63,63,63,63,63,63,63,63,63,63,63,63,63,63,63,63,63,63,63,63,63,63,63,63,63,63,63,63,63,63,63,63,63,63,63,63,63,63,63,63,63,63,63,63,63,63,63,63,63,63,63,63,63,63,63,63,63,63,63,63,63,63,63,63,63,63,63,63,63,63,63,63,63,63,63,63,63,63,63,63,63,63,63,63,63,63,63,63,63,63,63,63,63,63,63,63,63,63,63,63,63,63,63,63,63,63,63,63,63,63,63,63,63,63,63,63,63,63,63,63,63,63,63,63,63,63,63,63,63,63,63,63,63,63,63,63,63,63,63,63,63,63,63,63,63,63,63,63,63,63,63,63,63,63,63,63,63,63,63,63,63,63,63,63,63,63,63,63,63,63,63,63,63,63,63,63,63,63,63,63,63,63,63,63,63,63,63,63,63,63,63,63,63,63,63,63,63,63,63,63,63,63,63,63,63,63,63,63,63,63,63,63,63,63,63,63,63,63,63,63,63,63,63,63,63,63,63,63,63,63,63,63,63,63,63,63,63,63,63,63,63,63,63,63,63,63,63,63,63,63,63,63,63,63,63,63,63,63,63,63,63,63,63,63,63,63,63,63,63,63,63,63,63,63,63,63,63,63,63,63,63,63,63,63,63,63,63,63,63,63,63,63,63,63,63,63,63,63,63,63,63,63,63,63,63,63,63,63,63,63,63,63,63,63,63,63,63,63,63,63,63,63,63,63,63,63,63,63,63,63,63,63,63,63,63,63,63,63,63,63,63,63,63,63,63,63,63,63,63,63,63,63,63,63,63,63,63,63,63,63,63,63,63,63,63,63,63,63,63,63,63,63,63,63,63,63,63,63,63,63,63,63,63,63,63,63,63,63,63,63,63,63,63,63,63,63,63,63,63,63,63,63,63,63,63,63,63,63,63,63,63,63,63,63,63,63,63,63,63,63,63,63,63,63,63,63,63,63,63,63,63,63,63,63,63,63,63,63,63,63,63,63,63,63,63,63,63,63,63,63,63,63,63,63,63,63,63,63,63,63,63,63,63,63,63,63,63,63,63,63,63,63,63,63,63,63,63,63,63,63,63,63,63,63,63,63,63,63,63,63,63,63,63,63,63,63,63,63,63,63,63,63,63,63,63,63,63,63,63,63,63,63,63,63,63,63,63,63,63,63,63,63,63,63,63,63,63,63,63,63,63,63,63,63,63,63,63,63,63,63,63,63,63,63,63,63,63,63,63,63,63,63,63,63,63,63,63,63,63,63,63,63,63,63,63,63,63,63,63,63,63,63,63,63,63,63,63,63,63,63,63,63,63,63,63,63,63,63,63,63,63,63,63,63,63,63,63,63,63,63,63,63,63,63,63,63,63,63,63,63,63,63,63,63,63,63,63,63,63,63,63,63,63,63,63,63,63,63,63,63,63,63,63,63,63,63,63,63,63,63,63,63,63,63,63,63,63,63,63,63,63,63,63,63,62,62,62,62,62,62,62,62,62,62,62,62,62,62,62,62,62,62,62,62,62,62,62,62,62,62,62,62,62,62,62,62,62,62,62,62,62,62,62,62,62,62,62,62,62,62,62,62,62,62,62,62,62,62,62,62,62,62,62,62,62,62,62,62,62,62,62,62,62,62,62,62,62,62,62,62,62,62,62,62,62,62,62,62,62,62,62,62,62,62,62,62,62,62,62,62,62,62,62,62,62,62,62,62,62,62,62,62,62,62,62,62,62,62,62,62,62,62,62,62,62,62,62,62,62,62,62,62,62,62,62,62,62,62,62,62,62,62,62,62,62,62,62,62,62,62,62,62,62,62,62,62,62,62,62,62,62,62,62,62,62,62,62,62,62,62,62,62,62,62,62,62,62,62,62,62,62,62,62,62,62,62,62,62,62,62,62,62,62,62,62,62,62,62,62,62,62,62,62,62,62,62,62,62,62,62,62,62,62,62,62,62,62,62,62,62,62,62,62,62,62,62,62,62,62,62,62,62,62,62,62,62,62,62,62,62,62,62,62,62,62,62,62,62,62,62,62,62,62,62,62,62,62,62,62,62,62,62,62,62,62,62,62,62,62,62,62,62,62,62,62,62,62,62,62,62,62,62,62,62,62,62,62,62,62,62,62,62,62,62,62,62,62,62,62,62,62,62,62,62,62,62,62,62,62,62,62,62,62,62,62,62,62,62,62,62,62,62,62,62,62,62,62,62,62,62,62,62,62,62,62,62,62,62,62,62,62,62,62,62,62,62,62,62,62,62,62,62,62,62,62,62,62,62,62,62,62,62,62,62,62,62,62,62,62,62,62,62,62,62,62,62,62,62,62,62,62,62,62,62,62,62,62,62,62,62,62,62,62,62,62,62,62,62,62,62,62,62,62,62,62,62,62,62,62,62,62,62,62,62,62,62,62,62,62,62,62,62,62,62,62,62,62,62,62,62,62,62,62,62,62,62,62,62,62,62,62,62,62,62,62,62,62,62,62,62,62,62,62,62,62,62,62,62,62,62,62,62,62,62,62,62,62,62,62,62,62,62,62,62,62,62,62,62,62,62,62,62,62,62,62,62,62,62,62,62,62,62,62,62,62,62,62,62,62,62,62,62,62,62,62,62,62,62,62,62,62,62,62,62,62,62,62,62,62,62,62,62,62,62,62,62,62,62,62,62,62,62,62,62,62,62,62,62,62,62,62,62,62,62,62,62,62,62,62,62,62,62,62,62,62,62,62,62,62,62,62,62,62,62,62,62,62,62,62,62,62,62,62,62,62,62,62,62,62,62,62,62,62,62,62,62,62,62,62,62,62,62,62,62,62,62,62,62,62,62,62,62,62,62,62,62,62,62,62,62,62,62,62,62,62,62,62,62,62,62,62,62,62,62,62,62,62,62,62,62,62,62,62,62,62,62,62,62,62,62,62,62,62,62,62,62,62,62,62,62,62,62,62,62,62,62,62,62,62,62,62,62,62,62,62,62,62,62,62,62,62,62,62,62,62,62,62,62,62,62,62,62,62,62,62,62,62,62,62,62,62,62,62,62,62,62,62,62,62,62,62,62,62,62,62,62,62,62,62,62,62,62,62,62,62,62,62,62,62,62,62,62,62,62,62,62,62,62,62,62,62,62,62,62,62,62,62,62,62,62,62,62,62,62,62,62,62,62,62,62,62,62,62,62,62,62,62,62,62,62,62,62,62,62,62,62,62,62,62,62,62,62,62,62,62,62,62,62,62,62,62,62,62,62,62,62,62,62,62,62,62,62,62,62,62,62,62,62,62,62,62,62,62,62,62,62,62,62,62,62,62,62,62,62,62,62,62,62,62,62,62,62,62,62,62,62,62,62,62,62,62,62,62,62,62,62,62,62,62,62,62,62,62,62,62,62,62,62,62,62,62,62,62,62,62,62,62,62,62,62,62,62,62,62,62,62,62,62,62,62,62,62,62,62,62,62,62,61,61,61,61,61,61,61,61,61,61,61,61,61,61,61,61,61,61,61,61,61,61,61,61,61,61,61,61,61,61,61,61,61,61,61,61,61,61,61,61,61,61,61,61,61,61,61,61,61,61,61,61,61,61,61,61,61,61,61,61,61,61,61,61,61,61,61,61,61,61,61,61,61,61,61,61,61,61,61,61,61,61,61,61,61,61,61,61,61,61,61,61,61,61,61,61,61,61,61,61,61,61,61,61,61,61,61,61,61,61,61,61,61,61,61,61,61,61,61,61,61,61,61,61,61,61,61,61,61,61,61,61,61,61,61,61,61,61,61,61,61,61,61,61,61,61,61,61,61,61,61,61,61,61,61,61,61,61,61,61,61,61,61,61,61,61,61,61,61,61,61,61,61,61,61,61,61,61,61,61,61,61,61,61,61,61,61,61,61,61,61,61,61,61,61,61,61,61,61,61,61,61,61,61,61,61,61,61,61,61,61,61,61,61,61,61,61,61,61,61,61,61,61,61,61,61,61,61,61,61,61,61,61,61,61,61,61,61,61,61,61,61,61,61,61,61,61,61,61,61,61,61,61,61,61,61,61,61,61,61,61,61,61,61,61,61,61,61,61,61,61,61,61,61,61,61,61,61,61,61,61,61,61,61,61,61,61,61,61,61,61,61,61,61,61,61,61,61,61,61,61,61,61,61,61,61,61,61,61,61,61,61,61,61,61,61,61,61,61,61,61,61,61,61,61,61,61,61,61,61,61,61,61,61,61,61,61,61,61,61,61,61,61,61,61,61,61,61,61,61,61,61,61,61,61,61,61,61,61,61,61,61,61,61,61,61,61,61,61,61,61,61,61,61,61,61,61,61,61,61,61,61,61,61,61,61,61,61,61,61,61,61,61,61,61,61,61,61,61,61,61,61,61,61,61,61,61,61,61,61,61,61,61,61,61,61,61,61,61,61,61,61,61,61,61,61,61,61,61,61,61,61,61,61,61,61,61,61,61,61,61,61,61,61,61,61,61,61,61,61,61,61,61,61,61,61,61,61,61,61,61,61,61,61,61,61,61,61,61,61,61,61,61,61,61,61,61,61,61,61,61,61,61,61,61,61,61,61,61,61,61,61,61,61,61,61,61,61,61,61,61,61,61,61,61,61,61,61,61,61,61,61,61,61,61,61,61,61,61,61,61,61,61,61,61,61,61,61,61,61,61,61,61,61,61,61,61,61,61,61,61,61,61,61,61,61,61,61,61,61,61,61,61,61,61,61,61,61,61,61,61,61,61,61,61,61,61,61,61,61,61,61,61,61,61,61,61,61,61,61,61,61,61,61,61,61,61,61,61,61,61,61,61,61,61,61,61,61,61,61,61,61,61,61,61,61,61,61,61,61,61,61,61,61,61,61,61,61,61,61,61,61,61,61,61,61,61,61,61,61,61,61,61,61,61,61,61,61,61,61,61,61,61,61,61,61,61,61,61,60,60,60,60,60,60,60,60,60,60,60,60,60,60,60,60,60,60,60,60,60,60,60,60,60,60,60,60,60,60,60,60,60,60,60,60,60,60,60,60,60,60,60,60,60,60,60,60,60,60,60,60,60,60,60,60,60,60,60,60,60,60,60,60,60,60,60,60,60,60,60,60,60,60,60,60,60,60,60,60,60,60,60,60,60,60,60,60,60,60,60,60,60,60,60,60,60,60,60,60,60,60,60,60,60,60,60,60,60,60,60,60,60,60,60,60,60,60,60,60,60,60,60,60,60,60,60,60,60,60,60,60,60,60,60,60,60,60,60,60,60,60,60,60,60,60,60,60,60,60,60,60,60,60,60,60,60,60,60,60,60,60,60,60,60,60,60,60,60,60,60,60,60,60,60,60,60,60,60,60,60,60,60,60,60,60,60,60,60,60,60,60,60,60,60,60,60,60,60,60,60,60,60,60,60,60,60,60,60,60,60,60,60,60,60,60,60,60,60,60,60,60,60,60,60,60,60,60,60,60,60,60,60,60,60,60,60,60,60,60,60,60,60,60,60,60,60,60,60,60,60,60,60,60,60,60,60,60,60,60,60,60,60,60,60,60,60,60,60,60,60,60,60,60,60,60,60,60,60,60,60,60,60,60,60,60,60,60,60,60,60,60,60,60,60,60,60,60,60,60,60,60,60,60,60,60,60,60,60,60,60,60,60,60,60,60,60,60,60,60,60,60,60,60,60,60,60,60,60,60,60,60,60,60,60,60,60,60,60,60,60,60,60,60,60,60,60,60,60,60,60,60,60,60,60,60,60,60,60,60,60,60,60,60,60,60,60,60,60,60,60,60,60,60,60,60,60,60,60,60,60,60,60,60,60,60,60,60,60,60,60,60,60,60,60,60,60,60,60,60,60,60,60,60,60,60,60,60,60,60,60,60,60,60,60,60,60,60,60,60,60,60,60,60,60,60,60,60,60,60,60,60,60,60,60,60,60,60,60,60,60,60,60,60,60,60,60,60,60,60,60,60,60,60,60,60,60,60,60,60,60,60,60,60,60,60,60,60,60,60,60,60,60,60,60,60,60,60,60,60,60,60,60,60,60,60,60,60,60,60,60,60,60,60,60,60,60,60,60,60,60,60,60,60,60,60,60,60,60,60,60,60,60,60,60,60,60,60,60,60,60,60,60,60,60,60,60,60,60,60,60,60,60,60,60,60,60,60,60,60,60,60,60,60,60,60,60,60,60,60,60,60,60,60,60,60,60,60,60,60,60,60,60,60,60,60,60,60,60,60,60,60,60,60,60,60,60,60,60,60,60,60,60,60,60,60,60,60,60,60,60,60,60,60,60,60,60,60,60,60,60,60,60,60,60,60,60,60,60,60,60,60,60,60,60,60,60,60,60,60,60,60,60,60,60,60,60,60,60,60,60,60,60,60,60,60,60,60,60,60,60,60,60,60,60,60,60,60,60,60,60,60,60,60,60,60,60,60,60,60,60,60,60,60,60,60,60,60,60,60,60,60,60,60,60,60,60,60,60,60,60,60,60,60,60,60,60,60,60,60,60,60,60,60,60,60,60,60,60,60,60,59,59,59,59,59,59,59,59,59,59,59,59,59,59,59,59,59,59,59,59,59,59,59,59,59,59,59,59,59,59,59,59,59,59,59,59,59,59,59,59,59,59,59,59,59,59,59,59,59,59,59,59,59,59,59,59,59,59,59,59,59,59,59,59,59,59,59,59,59,59,59,59,59,59,59,59,59,59,59,59,59,59,59,59,59,59,59,59,59,59,59,59,59,59,59,59,59,59,59,59,59,59,59,59,59,59,59,59,59,59,59,59,59,59,59,59,59,59,59,59,59,59,59,59,59,59,59,59,59,59,59,59,59,59,59,59,59,59,59,59,59,59,59,59,59,59,59,59,59,59,59,59,59,59,59,59,59,59,59,59,59,59,59,59,59,59,59,59,59,59,59,59,59,59,59,59,59,59,59,59,59,59,59,59,59,59,59,59,59,59,59,59,59,59,59,59,59,59,59,59,59,59,59,59,59,59,59,59,59,59,59,59,59,59,59,59,59,59,59,59,59,59,59,59,59,59,59,59,59,59,59,59,59,59,59,59,59,59,59,59,59,59,59,59,59,59,59,59,59,59,59,59,59,59,59,59,59,59,59,59,59,59,59,59,59,59,59,59,59,59,59,59,59,59,59,59,59,59,59,59,59,59,59,59,59,59,59,59,59,59,59,59,59,59,59,59,59,59,59,59,59,59,59,59,59,59,59,59,59,59,59,59,59,59,59,59,59,59,59,59,59,59,59,59,59,59,59,59,59,59,59,59,59,59,59,59,59,59,59,59,59,59,59,59,59,59,59,59,59,59,59,59,59,59,59,59,59,59,59,59,59,59,59,59,59,59,59,59,59,59,59,59,59,59,59,59,59,59,59,59,59,59,59,59,59,59,59,59,59,59,59,59,59,59,59,59,59,59,59,59,59,59,59,59,59,59,59,59,59,59,59,59,59,59,59,59,59,59,59,59,59,59,59,59,59,59,59,59,59,59,59,59,59,59,59,59,59,59,59,59,59,59,59,59,59,59,59,59,59,59,59,59,59,59,59,59,59,59,59,59,59,59,59,59,59,59,59,59,59,59,59,59,59,59,59,59,59,59,59,59,59,59,59,59,59,59,59,59,59,59,59,59,59,59,59,59,59,59,59,59,59,59,59,59,59,59,59,59,59,59,59,59,59,59,59,59,59,59,59,59,59,59,59,59,59,59,59,59,59,59,59,59,59,59,59,59,59,59,59,59,59,59,59,59,59,58,58,58,58,58,58,58,58,58,58,58,58,58,58,58,58,58,58,58,58,58,58,58,58,58,58,58,58,58,58,58,58,58,58,58,58,58,58,58,58,58,58,58,58,58,58,58,58,58,58,58,58,58,58,58,58,58,58,58,58,58,58,58,58,58,58,58,58,58,58,58,58,58,58,58,58,58,58,58,58,58,58,58,58,58,58,58,58,58,58,58,58,58,58,58,58,58,58,58,58,58,58,58,58,58,58,58,58,58,58,58,58,58,58,58,58,58,58,58,58,58,58,58,58,58,58,58,58,58,58,58,58,58,58,58,58,58,58,58,58,58,58,58,58,58,58,58,58,58,58,58,58,58,58,58,58,58,58,58,58,58,58,58,58,58,58,58,58,58,58,58,58,58,58,58,58,58,58,58,58,58,58,58,58,58,58,58,58,58,58,58,58,58,58,58,58,58,58,58,58,58,58,58,58,58,58,58,58,58,58,58,58,58,58,58,58,58,58,58,58,58,58,58,58,58,58,58,58,58,58,58,58,58,58,58,58,58,58,58,58,58,58,58,58,58,58,58,58,58,58,58,58,58,58,58,58,58,58,58,58,58,58,58,58,58,58,58,58,58,58,58,58,58,58,58,58,58,58,58,58,58,58,58,58,58,58,58,58,58,58,58,58,58,58,58,58,58,58,58,58,58,58,58,58,58,58,58,58,58,58,58,58,58,58,58,58,58,58,58,58,58,58,58,58,58,58,58,58,58,58,58,58,58,58,58,58,58,58,58,58,58,58,58,58,58,58,58,58,58,58,58,58,58,58,58,58,58,58,58,58,58,58,58,58,58,58,58,58,58,58,58,58,58,58,58,58,58,58,58,58,58,58,58,58,58,58,58,58,58,58,58,58,58,58,58,58,58,58,58,58,58,58,58,58,58,58,58,58,58,58,58,58,58,58,58,58,58,58,58,58,58,58,58,58,58,58,58,58,58,58,58,58,58,58,58,58,58,58,58,58,58,58,58,58,58,58,58,58,58,58,58,58,58,58,58,58,58,58,58,58,58,58,58,58,58,58,58,58,58,58,58,58,58,58,58,58,58,58,58,58,58,58,58,58,58,57,57,57,57,57,57,57,57,57,57,57,57,57,57,57,57,57,57,57,57,57,57,57,57,57,57,57,57,57,57,57,57,57,57,57,57,57,57,57,57,57,57,57,57,57,57,57,57,57,57,57,57,57,57,57,57,57,57,57,57,57,57,57,57,57,57,57,57,57,57,57,57,57,57,57,57,57,57,57,57,57,57,57,57,57,57,57,57,57,57,57,57,57,57,57,57,57,57,57,57,57,57,57,57,57,57,57,57,57,57,57,57,57,57,57,57,57,57,57,57,57,57,57,57,57,57,57,57,57,57,57,57,57,57,57,57,57,57,57,57,57,57,57,57,57,57,57,57,57,57,57,57,57,57,57,57,57,57,57,57,57,57,57,57,57,57,57,57,57,57,57,57,57,57,57,57,57,57,57,57,57,57,57,57,57,57,57,57,57,57,57,57,57,57,57,57,57,57,57,57,57,57,57,57,57,57,57,57,57,57,57,57,57,57,57,57,57,57,57,57,57,57,57,57,57,57,57,57,57,57,57,57,57,57,57,57,57,57,57,57,57,57,57,57,57,57,57,57,57,57,57,57,57,57,57,57,57,57,57,57,57,57,57,57,57,57,57,57,57,57,57,57,57,57,57,57,57,57,57,57,57,57,57,57,57,57,57,57,57,57,57,57,57,57,57,57,57,57,57,57,57,57,57,57,57,57,57,57,57,57,57,57,57,57,57,57,57,57,57,57,57,57,57,57,57,57,57,57,57,57,57,57,57,57,57,57,57,57,57,57,57,57,57,57,57,57,57,57,57,57,57,57,57,57,57,57,57,57,57,57,56,56,56,56,56,56,56,56,56,56,56,56,56,56,56,56,56,56,56,56,56,56,56,56,56,56,56,56,56,56,56,56,56,56,56,56,56,56,56,56,56,56,56,56,56,56,56,56,56,56,56,56,56,56,56,56,56,56,56,56,56,56,56,56,56,56,56,56,56,56,56,56,56,56,56,56,56,56,56,56,56,56,56,56,56,56,56,56,56,56,56,56,56,56,56,56,56,56,56,56,56,56,56,56,56,56,56,56,56,56,56,56,56,56,56,56,56,56,56,56,56,56,56,56,56,56,56,56,56,56,56,56,56,56,56,56,56,56,56,56,56,56,56,56,56,56,56,56,56,56,56,56,56,56,56,56,56,56,56,56,56,56,56,56,56,56,56,56,56,56,56,56,56,56,56,56,56,56,56,56,56,56,56,56,56,56,56,56,56,56,56,56,56,56,56,56,56,56,56,56,56,56,56,56,56,56,56,56,56,56,56,56,56,56,56,56,56,56,56,56,56,56,56,56,56,56,56,56,56,56,56,56,56,56,56,56,56,56,56,56,56,56,56,56,56,56,56,56,56,56,56,56,56,56,56,56,56,56,56,56,56,56,56,56,56,56,56,56,56,56,56,56,56,56,56,56,56,56,56,56,56,56,56,56,56,56,56,56,56,56,56,56,56,56,56,56,56,56,56,56,56,56,56,56,56,56,56,56,56,56,56,56,56,56,56,56,56,56,56,56,56,56,56,56,56,56,56,56,56,56,56,56,56,56,56,56,56,56,56,56,56,56,56,56,56,56,56,56,56,56,56,56,56,56,56,56,56,56,56,56,55,55,55,55,55,55,55,55,55,55,55,55,55,55,55,55,55,55,55,55,55,55,55,55,55,55,55,55,55,55,55,55,55,55,55,55,55,55,55,55,55,55,55,55,55,55,55,55,55,55,55,55,55,55,55,55,55,55,55,55,55,55,55,55,55,55,55,55,55,55,55,55,55,55,55,55,55,55,55,55,55,55,55,55,55,55,55,55,55,55,55,55,55,55,55,55,55,55,55,55,55,55,55,55,55,55,55,55,55,55,55,55,55,55,55,55,55,55,55,55,55,55,55,55,55,55,55,55,55,55,55,55,55,55,55,55,55,55,55,55,55,55,55,55,55,55,55,55,55,55,55,55,55,55,55,55,55,55,55,55,55,55,55,55,55,55,55,55,55,55,55,55,55,55,55,55,55,55,55,55,55,55,55,55,55,55,55,55,55,55,55,55,55,55,55,55,55,55,55,55,55,55,55,55,55,55,55,55,55,55,55,55,55,55,55,55,55,55,55,55,55,55,55,55,55,55,55,55,55,55,55,55,55,55,55,55,55,55,55,55,55,55,55,55,55,55,55,55,55,55,55,55,55,55,55,55,55,55,55,55,55,55,55,55,55,55,55,55,55,55,55,55,55,55,54,54,54,54,54,54,54,54,54,54,54,54,54,54,54,54,54,54,54,54,54,54,54,54,54,54,54,54,54,54,54,54,54,54,54,54,54,54,54,54,54,54,54,54,54,54,54,54,54,54,54,54,54,54,54,54,54,54,54,54,54,54,54,54,54,54,54,54,54,54,54,54,54,54,54,54,54,54,54,54,54,54,54,54,54,54,54,54,54,54,54,54,54,54,54,54,54,54,54,54,54,54,54,54,54,54,54,54,54,54,54,54,54,54,54,54,54,54,54,54,54,54,54,54,54,54,54,54,54,54,54,54,54,54,54,54,54,54,54,54,54,54,54,54,54,54,54,54,54,54,54,54,54,54,54,54,54,54,54,54,54,54,54,54,54,54,54,54,54,54,54,54,54,54,54,54,54,54,54,54,54,54,54,54,54,54,54,54,54,54,54,54,54,54,54,54,54,54,54,54,54,54,54,54,54,54,54,54,54,54,54,54,54,54,54,54,54,54,54,54,54,54,54,54,54,54,54,54,54,54,54,54,53,53,53,53,53,53,53,53,53,53,53,53,53,53,53,53,53,53,53,53,53,53,53,53,53,53,53,53,53,53,53,53,53,53,53,53,53,53,53,53,53,53,53,53,53,53,53,53,53,53,53,53,53,53,53,53,53,53,53,53,53,53,53,53,53,53,53,53,53,53,53,53,53,53,53,53,53,53,53,53,53,53,53,53,53,53,53,53,53,53,53,53,53,53,53,53,53,53,53,53,53,53,53,53,53,53,53,53,53,53,53,53,53,53,53,53,53,53,53,53,53,53,53,53,53,53,53,53,53,53,53,53,53,53,53,53,53,53,53,53,53,53,53,53,53,53,53,53,53,53,53,53,53,53,53,53,53,53,53,53,53,53,53,53,53,53,53,53,53,53,53,53,53,53,53,53,53,53,53,53,53,53,53,53,53,53,53,53,53,53,53,53,53,53,53,53,53,52,52,52,52,52,52,52,52,52,52,52,52,52,52,52,52,52,52,52,52,52,52,52,52,52,52,52,52,52,52,52,52,52,52,52,52,52,52,52,52,52,52,52,52,52,52,52,52,52,52,52,52,52,52,52,52,52,52,52,52,52,52,52,52,52,52,52,52,52,52,52,52,52,52,52,52,52,52,52,52,52,52,52,52,52,52,52,52,52,52,52,52,52,52,52,52,52,52,52,52,52,52,52,52,52,52,52,52,52,52,52,52,52,52,52,52,52,52,52,52,52,52,52,52,52,52,52,52,52,52,52,52,52,52,52,52,52,52,52,52,52,52,52,52,52,52,52,52,52,52,52,52,52,52,52,52,52,52,52,52,52,52,52,52,52,52,52,52,52,51,51,51,51,51,51,51,51,51,51,51,51,51,51,51,51,51,51,51,51,51,51,51,51,51,51,51,51,51,51,51,51,51,51,51,51,51,51,51,51,51,51,51,51,51,51,51,51,51,51,51,51,51,51,51,51,51,51,51,51,51,51,51,51,51,51,51,51,51,51,51,51,51,51,51,51,51,51,51,51,51,51,51,51,51,51,51,51,51,51,51,51,51,51,51,51,51,51,51,51,51,51,51,51,51,51,51,51,51,51,51,51,51,51,51,51,51,50,50,50,50,50,50,50,50,50,50,50,50,50,50,50,50,50,50,50,50,50,50,50,50,50,50,50,50,50,50,50,50,50,50,50,50,50,50,50,50,50,50,50,50,50,50,50,50,50,50,50,50,50,50,50,50,50,50,50,50,50,50,50,50,50,50,50,50,50,50,50,50,50,50,50,50,50,50,50,50,50,50,50,50,50,50,50,50,50,50,50,50,50,50,50,50,50,50,50,50,50,50,50,49,49,49,49,49,49,49,49,49,49,49,49,49,49,49,49,49,49,49,49,49,49,49,49,49,49,49,49,49,49,49,49,49,49,49,49,49,49,49,49,49,49,49,49,49,49,49,49,49,49,49,49,49,49,49,49,49,49,49,49,49,49,49,49,49,49,48,48,48,48,48,48,48,48,48,48,48,48,48,48,48,48,48,48,48,48,48,48,48,48,48,48,48,48,48,48,48,48,48,48,48,48,48,48,48,48,48,48,48],\"xaxis\":\"x\",\"yaxis\":\"y\",\"type\":\"histogram\"}],                        {\"template\":{\"data\":{\"histogram2dcontour\":[{\"type\":\"histogram2dcontour\",\"colorbar\":{\"outlinewidth\":0,\"ticks\":\"\"},\"colorscale\":[[0.0,\"#0d0887\"],[0.1111111111111111,\"#46039f\"],[0.2222222222222222,\"#7201a8\"],[0.3333333333333333,\"#9c179e\"],[0.4444444444444444,\"#bd3786\"],[0.5555555555555556,\"#d8576b\"],[0.6666666666666666,\"#ed7953\"],[0.7777777777777778,\"#fb9f3a\"],[0.8888888888888888,\"#fdca26\"],[1.0,\"#f0f921\"]]}],\"choropleth\":[{\"type\":\"choropleth\",\"colorbar\":{\"outlinewidth\":0,\"ticks\":\"\"}}],\"histogram2d\":[{\"type\":\"histogram2d\",\"colorbar\":{\"outlinewidth\":0,\"ticks\":\"\"},\"colorscale\":[[0.0,\"#0d0887\"],[0.1111111111111111,\"#46039f\"],[0.2222222222222222,\"#7201a8\"],[0.3333333333333333,\"#9c179e\"],[0.4444444444444444,\"#bd3786\"],[0.5555555555555556,\"#d8576b\"],[0.6666666666666666,\"#ed7953\"],[0.7777777777777778,\"#fb9f3a\"],[0.8888888888888888,\"#fdca26\"],[1.0,\"#f0f921\"]]}],\"heatmap\":[{\"type\":\"heatmap\",\"colorbar\":{\"outlinewidth\":0,\"ticks\":\"\"},\"colorscale\":[[0.0,\"#0d0887\"],[0.1111111111111111,\"#46039f\"],[0.2222222222222222,\"#7201a8\"],[0.3333333333333333,\"#9c179e\"],[0.4444444444444444,\"#bd3786\"],[0.5555555555555556,\"#d8576b\"],[0.6666666666666666,\"#ed7953\"],[0.7777777777777778,\"#fb9f3a\"],[0.8888888888888888,\"#fdca26\"],[1.0,\"#f0f921\"]]}],\"heatmapgl\":[{\"type\":\"heatmapgl\",\"colorbar\":{\"outlinewidth\":0,\"ticks\":\"\"},\"colorscale\":[[0.0,\"#0d0887\"],[0.1111111111111111,\"#46039f\"],[0.2222222222222222,\"#7201a8\"],[0.3333333333333333,\"#9c179e\"],[0.4444444444444444,\"#bd3786\"],[0.5555555555555556,\"#d8576b\"],[0.6666666666666666,\"#ed7953\"],[0.7777777777777778,\"#fb9f3a\"],[0.8888888888888888,\"#fdca26\"],[1.0,\"#f0f921\"]]}],\"contourcarpet\":[{\"type\":\"contourcarpet\",\"colorbar\":{\"outlinewidth\":0,\"ticks\":\"\"}}],\"contour\":[{\"type\":\"contour\",\"colorbar\":{\"outlinewidth\":0,\"ticks\":\"\"},\"colorscale\":[[0.0,\"#0d0887\"],[0.1111111111111111,\"#46039f\"],[0.2222222222222222,\"#7201a8\"],[0.3333333333333333,\"#9c179e\"],[0.4444444444444444,\"#bd3786\"],[0.5555555555555556,\"#d8576b\"],[0.6666666666666666,\"#ed7953\"],[0.7777777777777778,\"#fb9f3a\"],[0.8888888888888888,\"#fdca26\"],[1.0,\"#f0f921\"]]}],\"surface\":[{\"type\":\"surface\",\"colorbar\":{\"outlinewidth\":0,\"ticks\":\"\"},\"colorscale\":[[0.0,\"#0d0887\"],[0.1111111111111111,\"#46039f\"],[0.2222222222222222,\"#7201a8\"],[0.3333333333333333,\"#9c179e\"],[0.4444444444444444,\"#bd3786\"],[0.5555555555555556,\"#d8576b\"],[0.6666666666666666,\"#ed7953\"],[0.7777777777777778,\"#fb9f3a\"],[0.8888888888888888,\"#fdca26\"],[1.0,\"#f0f921\"]]}],\"mesh3d\":[{\"type\":\"mesh3d\",\"colorbar\":{\"outlinewidth\":0,\"ticks\":\"\"}}],\"scatter\":[{\"fillpattern\":{\"fillmode\":\"overlay\",\"size\":10,\"solidity\":0.2},\"type\":\"scatter\"}],\"parcoords\":[{\"type\":\"parcoords\",\"line\":{\"colorbar\":{\"outlinewidth\":0,\"ticks\":\"\"}}}],\"scatterpolargl\":[{\"type\":\"scatterpolargl\",\"marker\":{\"colorbar\":{\"outlinewidth\":0,\"ticks\":\"\"}}}],\"bar\":[{\"error_x\":{\"color\":\"#2a3f5f\"},\"error_y\":{\"color\":\"#2a3f5f\"},\"marker\":{\"line\":{\"color\":\"#E5ECF6\",\"width\":0.5},\"pattern\":{\"fillmode\":\"overlay\",\"size\":10,\"solidity\":0.2}},\"type\":\"bar\"}],\"scattergeo\":[{\"type\":\"scattergeo\",\"marker\":{\"colorbar\":{\"outlinewidth\":0,\"ticks\":\"\"}}}],\"scatterpolar\":[{\"type\":\"scatterpolar\",\"marker\":{\"colorbar\":{\"outlinewidth\":0,\"ticks\":\"\"}}}],\"histogram\":[{\"marker\":{\"pattern\":{\"fillmode\":\"overlay\",\"size\":10,\"solidity\":0.2}},\"type\":\"histogram\"}],\"scattergl\":[{\"type\":\"scattergl\",\"marker\":{\"colorbar\":{\"outlinewidth\":0,\"ticks\":\"\"}}}],\"scatter3d\":[{\"type\":\"scatter3d\",\"line\":{\"colorbar\":{\"outlinewidth\":0,\"ticks\":\"\"}},\"marker\":{\"colorbar\":{\"outlinewidth\":0,\"ticks\":\"\"}}}],\"scattermapbox\":[{\"type\":\"scattermapbox\",\"marker\":{\"colorbar\":{\"outlinewidth\":0,\"ticks\":\"\"}}}],\"scatterternary\":[{\"type\":\"scatterternary\",\"marker\":{\"colorbar\":{\"outlinewidth\":0,\"ticks\":\"\"}}}],\"scattercarpet\":[{\"type\":\"scattercarpet\",\"marker\":{\"colorbar\":{\"outlinewidth\":0,\"ticks\":\"\"}}}],\"carpet\":[{\"aaxis\":{\"endlinecolor\":\"#2a3f5f\",\"gridcolor\":\"white\",\"linecolor\":\"white\",\"minorgridcolor\":\"white\",\"startlinecolor\":\"#2a3f5f\"},\"baxis\":{\"endlinecolor\":\"#2a3f5f\",\"gridcolor\":\"white\",\"linecolor\":\"white\",\"minorgridcolor\":\"white\",\"startlinecolor\":\"#2a3f5f\"},\"type\":\"carpet\"}],\"table\":[{\"cells\":{\"fill\":{\"color\":\"#EBF0F8\"},\"line\":{\"color\":\"white\"}},\"header\":{\"fill\":{\"color\":\"#C8D4E3\"},\"line\":{\"color\":\"white\"}},\"type\":\"table\"}],\"barpolar\":[{\"marker\":{\"line\":{\"color\":\"#E5ECF6\",\"width\":0.5},\"pattern\":{\"fillmode\":\"overlay\",\"size\":10,\"solidity\":0.2}},\"type\":\"barpolar\"}],\"pie\":[{\"automargin\":true,\"type\":\"pie\"}]},\"layout\":{\"autotypenumbers\":\"strict\",\"colorway\":[\"#636efa\",\"#EF553B\",\"#00cc96\",\"#ab63fa\",\"#FFA15A\",\"#19d3f3\",\"#FF6692\",\"#B6E880\",\"#FF97FF\",\"#FECB52\"],\"font\":{\"color\":\"#2a3f5f\"},\"hovermode\":\"closest\",\"hoverlabel\":{\"align\":\"left\"},\"paper_bgcolor\":\"white\",\"plot_bgcolor\":\"#E5ECF6\",\"polar\":{\"bgcolor\":\"#E5ECF6\",\"angularaxis\":{\"gridcolor\":\"white\",\"linecolor\":\"white\",\"ticks\":\"\"},\"radialaxis\":{\"gridcolor\":\"white\",\"linecolor\":\"white\",\"ticks\":\"\"}},\"ternary\":{\"bgcolor\":\"#E5ECF6\",\"aaxis\":{\"gridcolor\":\"white\",\"linecolor\":\"white\",\"ticks\":\"\"},\"baxis\":{\"gridcolor\":\"white\",\"linecolor\":\"white\",\"ticks\":\"\"},\"caxis\":{\"gridcolor\":\"white\",\"linecolor\":\"white\",\"ticks\":\"\"}},\"coloraxis\":{\"colorbar\":{\"outlinewidth\":0,\"ticks\":\"\"}},\"colorscale\":{\"sequential\":[[0.0,\"#0d0887\"],[0.1111111111111111,\"#46039f\"],[0.2222222222222222,\"#7201a8\"],[0.3333333333333333,\"#9c179e\"],[0.4444444444444444,\"#bd3786\"],[0.5555555555555556,\"#d8576b\"],[0.6666666666666666,\"#ed7953\"],[0.7777777777777778,\"#fb9f3a\"],[0.8888888888888888,\"#fdca26\"],[1.0,\"#f0f921\"]],\"sequentialminus\":[[0.0,\"#0d0887\"],[0.1111111111111111,\"#46039f\"],[0.2222222222222222,\"#7201a8\"],[0.3333333333333333,\"#9c179e\"],[0.4444444444444444,\"#bd3786\"],[0.5555555555555556,\"#d8576b\"],[0.6666666666666666,\"#ed7953\"],[0.7777777777777778,\"#fb9f3a\"],[0.8888888888888888,\"#fdca26\"],[1.0,\"#f0f921\"]],\"diverging\":[[0,\"#8e0152\"],[0.1,\"#c51b7d\"],[0.2,\"#de77ae\"],[0.3,\"#f1b6da\"],[0.4,\"#fde0ef\"],[0.5,\"#f7f7f7\"],[0.6,\"#e6f5d0\"],[0.7,\"#b8e186\"],[0.8,\"#7fbc41\"],[0.9,\"#4d9221\"],[1,\"#276419\"]]},\"xaxis\":{\"gridcolor\":\"white\",\"linecolor\":\"white\",\"ticks\":\"\",\"title\":{\"standoff\":15},\"zerolinecolor\":\"white\",\"automargin\":true,\"zerolinewidth\":2},\"yaxis\":{\"gridcolor\":\"white\",\"linecolor\":\"white\",\"ticks\":\"\",\"title\":{\"standoff\":15},\"zerolinecolor\":\"white\",\"automargin\":true,\"zerolinewidth\":2},\"scene\":{\"xaxis\":{\"backgroundcolor\":\"#E5ECF6\",\"gridcolor\":\"white\",\"linecolor\":\"white\",\"showbackground\":true,\"ticks\":\"\",\"zerolinecolor\":\"white\",\"gridwidth\":2},\"yaxis\":{\"backgroundcolor\":\"#E5ECF6\",\"gridcolor\":\"white\",\"linecolor\":\"white\",\"showbackground\":true,\"ticks\":\"\",\"zerolinecolor\":\"white\",\"gridwidth\":2},\"zaxis\":{\"backgroundcolor\":\"#E5ECF6\",\"gridcolor\":\"white\",\"linecolor\":\"white\",\"showbackground\":true,\"ticks\":\"\",\"zerolinecolor\":\"white\",\"gridwidth\":2}},\"shapedefaults\":{\"line\":{\"color\":\"#2a3f5f\"}},\"annotationdefaults\":{\"arrowcolor\":\"#2a3f5f\",\"arrowhead\":0,\"arrowwidth\":1},\"geo\":{\"bgcolor\":\"white\",\"landcolor\":\"#E5ECF6\",\"subunitcolor\":\"white\",\"showland\":true,\"showlakes\":true,\"lakecolor\":\"white\"},\"title\":{\"x\":0.05},\"mapbox\":{\"style\":\"light\"}}},\"xaxis\":{\"anchor\":\"y\",\"domain\":[0.0,1.0],\"title\":{\"text\":\"overall\"}},\"yaxis\":{\"anchor\":\"x\",\"domain\":[0.0,1.0],\"title\":{\"text\":\"count\"}},\"legend\":{\"tracegroupgap\":0},\"title\":{\"text\":\"Istogramma rating\"},\"barmode\":\"relative\"},                        {\"responsive\": true}                    ).then(function(){\n",
              "                            \n",
              "var gd = document.getElementById('c3291193-1ebf-4288-a9ae-155397cee7ab');\n",
              "var x = new MutationObserver(function (mutations, observer) {{\n",
              "        var display = window.getComputedStyle(gd).display;\n",
              "        if (!display || display === 'none') {{\n",
              "            console.log([gd, 'removed!']);\n",
              "            Plotly.purge(gd);\n",
              "            observer.disconnect();\n",
              "        }}\n",
              "}});\n",
              "\n",
              "// Listen for the removal of the full notebook cells\n",
              "var notebookContainer = gd.closest('#notebook-container');\n",
              "if (notebookContainer) {{\n",
              "    x.observe(notebookContainer, {childList: true});\n",
              "}}\n",
              "\n",
              "// Listen for the clearing of the current output cell\n",
              "var outputEl = gd.closest('.output');\n",
              "if (outputEl) {{\n",
              "    x.observe(outputEl, {childList: true});\n",
              "}}\n",
              "\n",
              "                        })                };                            </script>        </div>\n",
              "</body>\n",
              "</html>"
            ]
          },
          "metadata": {}
        },
        {
          "output_type": "stream",
          "name": "stdout",
          "text": [
            "             short_name  overall             club\n",
            "5          K. De Bruyne       91  Manchester City\n",
            "17            S. Agüero       89  Manchester City\n",
            "25              Ederson       88  Manchester City\n",
            "26          R. Sterling       88  Manchester City\n",
            "33          David Silva       88  Manchester City\n",
            "40           A. Laporte       87  Manchester City\n",
            "41       Bernardo Silva       87  Manchester City\n",
            "44          Fernandinho       87  Manchester City\n",
            "55              L. Sané       86  Manchester City\n",
            "79                Rodri       85  Manchester City\n",
            "112        João Cancelo       84  Manchester City\n",
            "146         I. Gündoğan       84  Manchester City\n",
            "148           K. Walker       84  Manchester City\n",
            "154           R. Mahrez       84  Manchester City\n",
            "172           J. Stones       83  Manchester City\n",
            "224         N. Otamendi       83  Manchester City\n",
            "239       Gabriel Jesus       82  Manchester City\n",
            "429            B. Mendy       80  Manchester City\n",
            "610            Angeliño       79  Manchester City\n",
            "768        O. Zinchenko       78  Manchester City\n",
            "1157           C. Bravo       77  Manchester City\n",
            "1254           P. Foden       76  Manchester City\n",
            "2127       Aleix García       74  Manchester City\n",
            "3708          S. Carson       72  Manchester City\n",
            "8770        Eric García       66  Manchester City\n",
            "8784           C. Gomes       66  Manchester City\n",
            "13115         F. Nmecha       62  Manchester City\n",
            "14018       L. Gonzalez       61  Manchester City\n",
            "14642  J. Latibeaudiere       60  Manchester City\n",
            "14659          B. Garré       60  Manchester City\n",
            "15327         G. Bazunu       59  Manchester City\n",
            "16743         T. Wilson       56  Manchester City\n",
            "17167       D. Grimshaw       55  Manchester City\n"
          ]
        },
        {
          "output_type": "execute_result",
          "data": {
            "text/plain": [
              "        short_name  overall                 club\n",
              "0         L. Messi       94         FC Barcelona\n",
              "9         M. Salah       90            Liverpool\n",
              "16    G. Chiellini       89             Juventus\n",
              "22    A. Griezmann       89         FC Barcelona\n",
              "23       P. Dybala       88             Juventus\n",
              "25         Ederson       88      Manchester City\n",
              "28     T. Courtois       88          Real Madrid\n",
              "32       H. Lloris       88    Tottenham Hotspur\n",
              "33     David Silva       88      Manchester City\n",
              "40      A. Laporte       87      Manchester City\n",
              "41  Bernardo Silva       87      Manchester City\n",
              "47   J. Vertonghen       87    Tottenham Hotspur\n",
              "51      Jordi Alba       87         FC Barcelona\n",
              "55         L. Sané       86      Manchester City\n",
              "59       S. Umtiti       86         FC Barcelona\n",
              "66     A. Di María       86  Paris Saint-Germain"
            ],
            "text/html": [
              "\n",
              "  <div id=\"df-36c2400a-33f2-4827-ba0c-3391f88b517f\" class=\"colab-df-container\">\n",
              "    <div>\n",
              "<style scoped>\n",
              "    .dataframe tbody tr th:only-of-type {\n",
              "        vertical-align: middle;\n",
              "    }\n",
              "\n",
              "    .dataframe tbody tr th {\n",
              "        vertical-align: top;\n",
              "    }\n",
              "\n",
              "    .dataframe thead th {\n",
              "        text-align: right;\n",
              "    }\n",
              "</style>\n",
              "<table border=\"1\" class=\"dataframe\">\n",
              "  <thead>\n",
              "    <tr style=\"text-align: right;\">\n",
              "      <th></th>\n",
              "      <th>short_name</th>\n",
              "      <th>overall</th>\n",
              "      <th>club</th>\n",
              "    </tr>\n",
              "  </thead>\n",
              "  <tbody>\n",
              "    <tr>\n",
              "      <th>0</th>\n",
              "      <td>L. Messi</td>\n",
              "      <td>94</td>\n",
              "      <td>FC Barcelona</td>\n",
              "    </tr>\n",
              "    <tr>\n",
              "      <th>9</th>\n",
              "      <td>M. Salah</td>\n",
              "      <td>90</td>\n",
              "      <td>Liverpool</td>\n",
              "    </tr>\n",
              "    <tr>\n",
              "      <th>16</th>\n",
              "      <td>G. Chiellini</td>\n",
              "      <td>89</td>\n",
              "      <td>Juventus</td>\n",
              "    </tr>\n",
              "    <tr>\n",
              "      <th>22</th>\n",
              "      <td>A. Griezmann</td>\n",
              "      <td>89</td>\n",
              "      <td>FC Barcelona</td>\n",
              "    </tr>\n",
              "    <tr>\n",
              "      <th>23</th>\n",
              "      <td>P. Dybala</td>\n",
              "      <td>88</td>\n",
              "      <td>Juventus</td>\n",
              "    </tr>\n",
              "    <tr>\n",
              "      <th>25</th>\n",
              "      <td>Ederson</td>\n",
              "      <td>88</td>\n",
              "      <td>Manchester City</td>\n",
              "    </tr>\n",
              "    <tr>\n",
              "      <th>28</th>\n",
              "      <td>T. Courtois</td>\n",
              "      <td>88</td>\n",
              "      <td>Real Madrid</td>\n",
              "    </tr>\n",
              "    <tr>\n",
              "      <th>32</th>\n",
              "      <td>H. Lloris</td>\n",
              "      <td>88</td>\n",
              "      <td>Tottenham Hotspur</td>\n",
              "    </tr>\n",
              "    <tr>\n",
              "      <th>33</th>\n",
              "      <td>David Silva</td>\n",
              "      <td>88</td>\n",
              "      <td>Manchester City</td>\n",
              "    </tr>\n",
              "    <tr>\n",
              "      <th>40</th>\n",
              "      <td>A. Laporte</td>\n",
              "      <td>87</td>\n",
              "      <td>Manchester City</td>\n",
              "    </tr>\n",
              "    <tr>\n",
              "      <th>41</th>\n",
              "      <td>Bernardo Silva</td>\n",
              "      <td>87</td>\n",
              "      <td>Manchester City</td>\n",
              "    </tr>\n",
              "    <tr>\n",
              "      <th>47</th>\n",
              "      <td>J. Vertonghen</td>\n",
              "      <td>87</td>\n",
              "      <td>Tottenham Hotspur</td>\n",
              "    </tr>\n",
              "    <tr>\n",
              "      <th>51</th>\n",
              "      <td>Jordi Alba</td>\n",
              "      <td>87</td>\n",
              "      <td>FC Barcelona</td>\n",
              "    </tr>\n",
              "    <tr>\n",
              "      <th>55</th>\n",
              "      <td>L. Sané</td>\n",
              "      <td>86</td>\n",
              "      <td>Manchester City</td>\n",
              "    </tr>\n",
              "    <tr>\n",
              "      <th>59</th>\n",
              "      <td>S. Umtiti</td>\n",
              "      <td>86</td>\n",
              "      <td>FC Barcelona</td>\n",
              "    </tr>\n",
              "    <tr>\n",
              "      <th>66</th>\n",
              "      <td>A. Di María</td>\n",
              "      <td>86</td>\n",
              "      <td>Paris Saint-Germain</td>\n",
              "    </tr>\n",
              "  </tbody>\n",
              "</table>\n",
              "</div>\n",
              "    <div class=\"colab-df-buttons\">\n",
              "\n",
              "  <div class=\"colab-df-container\">\n",
              "    <button class=\"colab-df-convert\" onclick=\"convertToInteractive('df-36c2400a-33f2-4827-ba0c-3391f88b517f')\"\n",
              "            title=\"Convert this dataframe to an interactive table.\"\n",
              "            style=\"display:none;\">\n",
              "\n",
              "  <svg xmlns=\"http://www.w3.org/2000/svg\" height=\"24px\" viewBox=\"0 -960 960 960\">\n",
              "    <path d=\"M120-120v-720h720v720H120Zm60-500h600v-160H180v160Zm220 220h160v-160H400v160Zm0 220h160v-160H400v160ZM180-400h160v-160H180v160Zm440 0h160v-160H620v160ZM180-180h160v-160H180v160Zm440 0h160v-160H620v160Z\"/>\n",
              "  </svg>\n",
              "    </button>\n",
              "\n",
              "  <style>\n",
              "    .colab-df-container {\n",
              "      display:flex;\n",
              "      gap: 12px;\n",
              "    }\n",
              "\n",
              "    .colab-df-convert {\n",
              "      background-color: #E8F0FE;\n",
              "      border: none;\n",
              "      border-radius: 50%;\n",
              "      cursor: pointer;\n",
              "      display: none;\n",
              "      fill: #1967D2;\n",
              "      height: 32px;\n",
              "      padding: 0 0 0 0;\n",
              "      width: 32px;\n",
              "    }\n",
              "\n",
              "    .colab-df-convert:hover {\n",
              "      background-color: #E2EBFA;\n",
              "      box-shadow: 0px 1px 2px rgba(60, 64, 67, 0.3), 0px 1px 3px 1px rgba(60, 64, 67, 0.15);\n",
              "      fill: #174EA6;\n",
              "    }\n",
              "\n",
              "    .colab-df-buttons div {\n",
              "      margin-bottom: 4px;\n",
              "    }\n",
              "\n",
              "    [theme=dark] .colab-df-convert {\n",
              "      background-color: #3B4455;\n",
              "      fill: #D2E3FC;\n",
              "    }\n",
              "\n",
              "    [theme=dark] .colab-df-convert:hover {\n",
              "      background-color: #434B5C;\n",
              "      box-shadow: 0px 1px 3px 1px rgba(0, 0, 0, 0.15);\n",
              "      filter: drop-shadow(0px 1px 2px rgba(0, 0, 0, 0.3));\n",
              "      fill: #FFFFFF;\n",
              "    }\n",
              "  </style>\n",
              "\n",
              "    <script>\n",
              "      const buttonEl =\n",
              "        document.querySelector('#df-36c2400a-33f2-4827-ba0c-3391f88b517f button.colab-df-convert');\n",
              "      buttonEl.style.display =\n",
              "        google.colab.kernel.accessAllowed ? 'block' : 'none';\n",
              "\n",
              "      async function convertToInteractive(key) {\n",
              "        const element = document.querySelector('#df-36c2400a-33f2-4827-ba0c-3391f88b517f');\n",
              "        const dataTable =\n",
              "          await google.colab.kernel.invokeFunction('convertToInteractive',\n",
              "                                                    [key], {});\n",
              "        if (!dataTable) return;\n",
              "\n",
              "        const docLinkHtml = 'Like what you see? Visit the ' +\n",
              "          '<a target=\"_blank\" href=https://colab.research.google.com/notebooks/data_table.ipynb>data table notebook</a>'\n",
              "          + ' to learn more about interactive tables.';\n",
              "        element.innerHTML = '';\n",
              "        dataTable['output_type'] = 'display_data';\n",
              "        await google.colab.output.renderOutput(dataTable, element);\n",
              "        const docLink = document.createElement('div');\n",
              "        docLink.innerHTML = docLinkHtml;\n",
              "        element.appendChild(docLink);\n",
              "      }\n",
              "    </script>\n",
              "  </div>\n",
              "\n",
              "\n",
              "<div id=\"df-2453a922-5914-4e99-b5dc-b6d68005dd4e\">\n",
              "  <button class=\"colab-df-quickchart\" onclick=\"quickchart('df-2453a922-5914-4e99-b5dc-b6d68005dd4e')\"\n",
              "            title=\"Suggest charts\"\n",
              "            style=\"display:none;\">\n",
              "\n",
              "<svg xmlns=\"http://www.w3.org/2000/svg\" height=\"24px\"viewBox=\"0 0 24 24\"\n",
              "     width=\"24px\">\n",
              "    <g>\n",
              "        <path d=\"M19 3H5c-1.1 0-2 .9-2 2v14c0 1.1.9 2 2 2h14c1.1 0 2-.9 2-2V5c0-1.1-.9-2-2-2zM9 17H7v-7h2v7zm4 0h-2V7h2v10zm4 0h-2v-4h2v4z\"/>\n",
              "    </g>\n",
              "</svg>\n",
              "  </button>\n",
              "\n",
              "<style>\n",
              "  .colab-df-quickchart {\n",
              "      --bg-color: #E8F0FE;\n",
              "      --fill-color: #1967D2;\n",
              "      --hover-bg-color: #E2EBFA;\n",
              "      --hover-fill-color: #174EA6;\n",
              "      --disabled-fill-color: #AAA;\n",
              "      --disabled-bg-color: #DDD;\n",
              "  }\n",
              "\n",
              "  [theme=dark] .colab-df-quickchart {\n",
              "      --bg-color: #3B4455;\n",
              "      --fill-color: #D2E3FC;\n",
              "      --hover-bg-color: #434B5C;\n",
              "      --hover-fill-color: #FFFFFF;\n",
              "      --disabled-bg-color: #3B4455;\n",
              "      --disabled-fill-color: #666;\n",
              "  }\n",
              "\n",
              "  .colab-df-quickchart {\n",
              "    background-color: var(--bg-color);\n",
              "    border: none;\n",
              "    border-radius: 50%;\n",
              "    cursor: pointer;\n",
              "    display: none;\n",
              "    fill: var(--fill-color);\n",
              "    height: 32px;\n",
              "    padding: 0;\n",
              "    width: 32px;\n",
              "  }\n",
              "\n",
              "  .colab-df-quickchart:hover {\n",
              "    background-color: var(--hover-bg-color);\n",
              "    box-shadow: 0 1px 2px rgba(60, 64, 67, 0.3), 0 1px 3px 1px rgba(60, 64, 67, 0.15);\n",
              "    fill: var(--button-hover-fill-color);\n",
              "  }\n",
              "\n",
              "  .colab-df-quickchart-complete:disabled,\n",
              "  .colab-df-quickchart-complete:disabled:hover {\n",
              "    background-color: var(--disabled-bg-color);\n",
              "    fill: var(--disabled-fill-color);\n",
              "    box-shadow: none;\n",
              "  }\n",
              "\n",
              "  .colab-df-spinner {\n",
              "    border: 2px solid var(--fill-color);\n",
              "    border-color: transparent;\n",
              "    border-bottom-color: var(--fill-color);\n",
              "    animation:\n",
              "      spin 1s steps(1) infinite;\n",
              "  }\n",
              "\n",
              "  @keyframes spin {\n",
              "    0% {\n",
              "      border-color: transparent;\n",
              "      border-bottom-color: var(--fill-color);\n",
              "      border-left-color: var(--fill-color);\n",
              "    }\n",
              "    20% {\n",
              "      border-color: transparent;\n",
              "      border-left-color: var(--fill-color);\n",
              "      border-top-color: var(--fill-color);\n",
              "    }\n",
              "    30% {\n",
              "      border-color: transparent;\n",
              "      border-left-color: var(--fill-color);\n",
              "      border-top-color: var(--fill-color);\n",
              "      border-right-color: var(--fill-color);\n",
              "    }\n",
              "    40% {\n",
              "      border-color: transparent;\n",
              "      border-right-color: var(--fill-color);\n",
              "      border-top-color: var(--fill-color);\n",
              "    }\n",
              "    60% {\n",
              "      border-color: transparent;\n",
              "      border-right-color: var(--fill-color);\n",
              "    }\n",
              "    80% {\n",
              "      border-color: transparent;\n",
              "      border-right-color: var(--fill-color);\n",
              "      border-bottom-color: var(--fill-color);\n",
              "    }\n",
              "    90% {\n",
              "      border-color: transparent;\n",
              "      border-bottom-color: var(--fill-color);\n",
              "    }\n",
              "  }\n",
              "</style>\n",
              "\n",
              "  <script>\n",
              "    async function quickchart(key) {\n",
              "      const quickchartButtonEl =\n",
              "        document.querySelector('#' + key + ' button');\n",
              "      quickchartButtonEl.disabled = true;  // To prevent multiple clicks.\n",
              "      quickchartButtonEl.classList.add('colab-df-spinner');\n",
              "      try {\n",
              "        const charts = await google.colab.kernel.invokeFunction(\n",
              "            'suggestCharts', [key], {});\n",
              "      } catch (error) {\n",
              "        console.error('Error during call to suggestCharts:', error);\n",
              "      }\n",
              "      quickchartButtonEl.classList.remove('colab-df-spinner');\n",
              "      quickchartButtonEl.classList.add('colab-df-quickchart-complete');\n",
              "    }\n",
              "    (() => {\n",
              "      let quickchartButtonEl =\n",
              "        document.querySelector('#df-2453a922-5914-4e99-b5dc-b6d68005dd4e button');\n",
              "      quickchartButtonEl.style.display =\n",
              "        google.colab.kernel.accessAllowed ? 'block' : 'none';\n",
              "    })();\n",
              "  </script>\n",
              "</div>\n",
              "    </div>\n",
              "  </div>\n"
            ]
          },
          "metadata": {},
          "execution_count": 17
        },
        {
          "output_type": "display_data",
          "data": {
            "text/plain": [
              "<Figure size 640x480 with 1 Axes>"
            ],
            "image/png": "[encoded data removed]"
          },
          "metadata": {}
        }
      ]
    },
    {
      "cell_type": "code",
      "source": [
        "df_20['overall'] == 90"
      ],
      "metadata": {
        "colab": {
          "base_uri": "https://localhost:8080/"
        },
        "id": "dNEnGSaPkyGx",
        "outputId": "c2660fef-f8be-415f-b220-9149a4bd2642"
      },
      "execution_count": 11,
      "outputs": [
        {
          "output_type": "execute_result",
          "data": {
            "text/plain": [
              "0        False\n",
              "1        False\n",
              "2        False\n",
              "3        False\n",
              "4        False\n",
              "         ...  \n",
              "18273    False\n",
              "18274    False\n",
              "18275    False\n",
              "18276    False\n",
              "18277    False\n",
              "Name: overall, Length: 18278, dtype: bool"
            ]
          },
          "metadata": {},
          "execution_count": 11
        }
      ]
    },
    {
      "cell_type": "markdown",
      "metadata": {
        "id": "MuKeOl4gEm1u"
      },
      "source": [
        "## Task 2:\n",
        "### Data Preprocessin\n",
        "Dropping some useless columns"
      ]
    },
    {
      "cell_type": "code",
      "execution_count": null,
      "metadata": {
        "id": "p79r2yWCEm1u"
      },
      "outputs": [],
      "source": [
        "useless_columns = ['dob','sofifa_id', 'player_url', 'long_name', 'body_type', 'real_face', 'loaned_from', 'nation_position', 'nation_jersey_number']"
      ]
    },
    {
      "cell_type": "markdown",
      "metadata": {
        "id": "ksVK0RAsEm1z"
      },
      "source": [
        "Let's check the dataframe again"
      ]
    },
    {
      "cell_type": "code",
      "execution_count": null,
      "metadata": {
        "id": "-NeWF3toEm1z"
      },
      "outputs": [],
      "source": []
    },
    {
      "cell_type": "markdown",
      "metadata": {
        "id": "Cu8mnbhLEm10"
      },
      "source": [
        "### Calculating BMI\n",
        "let's calculate body max index of each Player"
      ]
    },
    {
      "cell_type": "code",
      "execution_count": null,
      "metadata": {
        "id": "5TqXF-hyEm10"
      },
      "outputs": [],
      "source": []
    },
    {
      "cell_type": "code",
      "execution_count": null,
      "metadata": {
        "id": "knXCQ3XeEm10"
      },
      "outputs": [],
      "source": []
    },
    {
      "cell_type": "markdown",
      "metadata": {
        "id": "c7FOxF82Em10"
      },
      "source": [
        "### Player's Position\n",
        "Convert the categorical values in Player's Position column in integer values."
      ]
    },
    {
      "cell_type": "code",
      "execution_count": null,
      "metadata": {
        "id": "UBNP0jXnEm10",
        "colab": {
          "base_uri": "https://localhost:8080/",
          "height": 423
        },
        "outputId": "7624e710-f937-4ef0-c073-c28485278206"
      },
      "outputs": [
        {
          "output_type": "execute_result",
          "data": {
            "text/plain": [
              "              short_name player_positions\n",
              "0               L. Messi       RW, CF, ST\n",
              "1      Cristiano Ronaldo           ST, LW\n",
              "2              Neymar Jr          LW, CAM\n",
              "3               J. Oblak               GK\n",
              "4              E. Hazard           LW, CF\n",
              "...                  ...              ...\n",
              "18273         Shao Shuai               CB\n",
              "18274       Xiao Mingjie               CB\n",
              "18275          Zhang Wei               CM\n",
              "18276       Wang Haijian               CM\n",
              "18277         Pan Ximing               CM\n",
              "\n",
              "[18278 rows x 2 columns]"
            ],
            "text/html": [
              "\n",
              "  <div id=\"df-aede7433-0800-4a07-8d41-1cedf738dfee\" class=\"colab-df-container\">\n",
              "    <div>\n",
              "<style scoped>\n",
              "    .dataframe tbody tr th:only-of-type {\n",
              "        vertical-align: middle;\n",
              "    }\n",
              "\n",
              "    .dataframe tbody tr th {\n",
              "        vertical-align: top;\n",
              "    }\n",
              "\n",
              "    .dataframe thead th {\n",
              "        text-align: right;\n",
              "    }\n",
              "</style>\n",
              "<table border=\"1\" class=\"dataframe\">\n",
              "  <thead>\n",
              "    <tr style=\"text-align: right;\">\n",
              "      <th></th>\n",
              "      <th>short_name</th>\n",
              "      <th>player_positions</th>\n",
              "    </tr>\n",
              "  </thead>\n",
              "  <tbody>\n",
              "    <tr>\n",
              "      <th>0</th>\n",
              "      <td>L. Messi</td>\n",
              "      <td>RW, CF, ST</td>\n",
              "    </tr>\n",
              "    <tr>\n",
              "      <th>1</th>\n",
              "      <td>Cristiano Ronaldo</td>\n",
              "      <td>ST, LW</td>\n",
              "    </tr>\n",
              "    <tr>\n",
              "      <th>2</th>\n",
              "      <td>Neymar Jr</td>\n",
              "      <td>LW, CAM</td>\n",
              "    </tr>\n",
              "    <tr>\n",
              "      <th>3</th>\n",
              "      <td>J. Oblak</td>\n",
              "      <td>GK</td>\n",
              "    </tr>\n",
              "    <tr>\n",
              "      <th>4</th>\n",
              "      <td>E. Hazard</td>\n",
              "      <td>LW, CF</td>\n",
              "    </tr>\n",
              "    <tr>\n",
              "      <th>...</th>\n",
              "      <td>...</td>\n",
              "      <td>...</td>\n",
              "    </tr>\n",
              "    <tr>\n",
              "      <th>18273</th>\n",
              "      <td>Shao Shuai</td>\n",
              "      <td>CB</td>\n",
              "    </tr>\n",
              "    <tr>\n",
              "      <th>18274</th>\n",
              "      <td>Xiao Mingjie</td>\n",
              "      <td>CB</td>\n",
              "    </tr>\n",
              "    <tr>\n",
              "      <th>18275</th>\n",
              "      <td>Zhang Wei</td>\n",
              "      <td>CM</td>\n",
              "    </tr>\n",
              "    <tr>\n",
              "      <th>18276</th>\n",
              "      <td>Wang Haijian</td>\n",
              "      <td>CM</td>\n",
              "    </tr>\n",
              "    <tr>\n",
              "      <th>18277</th>\n",
              "      <td>Pan Ximing</td>\n",
              "      <td>CM</td>\n",
              "    </tr>\n",
              "  </tbody>\n",
              "</table>\n",
              "<p>18278 rows × 2 columns</p>\n",
              "</div>\n",
              "    <div class=\"colab-df-buttons\">\n",
              "\n",
              "  <div class=\"colab-df-container\">\n",
              "    <button class=\"colab-df-convert\" onclick=\"convertToInteractive('df-aede7433-0800-4a07-8d41-1cedf738dfee')\"\n",
              "            title=\"Convert this dataframe to an interactive table.\"\n",
              "            style=\"display:none;\">\n",
              "\n",
              "  <svg xmlns=\"http://www.w3.org/2000/svg\" height=\"24px\" viewBox=\"0 -960 960 960\">\n",
              "    <path d=\"M120-120v-720h720v720H120Zm60-500h600v-160H180v160Zm220 220h160v-160H400v160Zm0 220h160v-160H400v160ZM180-400h160v-160H180v160Zm440 0h160v-160H620v160ZM180-180h160v-160H180v160Zm440 0h160v-160H620v160Z\"/>\n",
              "  </svg>\n",
              "    </button>\n",
              "\n",
              "  <style>\n",
              "    .colab-df-container {\n",
              "      display:flex;\n",
              "      gap: 12px;\n",
              "    }\n",
              "\n",
              "    .colab-df-convert {\n",
              "      background-color: #E8F0FE;\n",
              "      border: none;\n",
              "      border-radius: 50%;\n",
              "      cursor: pointer;\n",
              "      display: none;\n",
              "      fill: #1967D2;\n",
              "      height: 32px;\n",
              "      padding: 0 0 0 0;\n",
              "      width: 32px;\n",
              "    }\n",
              "\n",
              "    .colab-df-convert:hover {\n",
              "      background-color: #E2EBFA;\n",
              "      box-shadow: 0px 1px 2px rgba(60, 64, 67, 0.3), 0px 1px 3px 1px rgba(60, 64, 67, 0.15);\n",
              "      fill: #174EA6;\n",
              "    }\n",
              "\n",
              "    .colab-df-buttons div {\n",
              "      margin-bottom: 4px;\n",
              "    }\n",
              "\n",
              "    [theme=dark] .colab-df-convert {\n",
              "      background-color: #3B4455;\n",
              "      fill: #D2E3FC;\n",
              "    }\n",
              "\n",
              "    [theme=dark] .colab-df-convert:hover {\n",
              "      background-color: #434B5C;\n",
              "      box-shadow: 0px 1px 3px 1px rgba(0, 0, 0, 0.15);\n",
              "      filter: drop-shadow(0px 1px 2px rgba(0, 0, 0, 0.3));\n",
              "      fill: #FFFFFF;\n",
              "    }\n",
              "  </style>\n",
              "\n",
              "    <script>\n",
              "      const buttonEl =\n",
              "        document.querySelector('#df-aede7433-0800-4a07-8d41-1cedf738dfee button.colab-df-convert');\n",
              "      buttonEl.style.display =\n",
              "        google.colab.kernel.accessAllowed ? 'block' : 'none';\n",
              "\n",
              "      async function convertToInteractive(key) {\n",
              "        const element = document.querySelector('#df-aede7433-0800-4a07-8d41-1cedf738dfee');\n",
              "        const dataTable =\n",
              "          await google.colab.kernel.invokeFunction('convertToInteractive',\n",
              "                                                    [key], {});\n",
              "        if (!dataTable) return;\n",
              "\n",
              "        const docLinkHtml = 'Like what you see? Visit the ' +\n",
              "          '<a target=\"_blank\" href=https://colab.research.google.com/notebooks/data_table.ipynb>data table notebook</a>'\n",
              "          + ' to learn more about interactive tables.';\n",
              "        element.innerHTML = '';\n",
              "        dataTable['output_type'] = 'display_data';\n",
              "        await google.colab.output.renderOutput(dataTable, element);\n",
              "        const docLink = document.createElement('div');\n",
              "        docLink.innerHTML = docLinkHtml;\n",
              "        element.appendChild(docLink);\n",
              "      }\n",
              "    </script>\n",
              "  </div>\n",
              "\n",
              "\n",
              "<div id=\"df-d75710e6-701f-4029-b68c-547d03126c00\">\n",
              "  <button class=\"colab-df-quickchart\" onclick=\"quickchart('df-d75710e6-701f-4029-b68c-547d03126c00')\"\n",
              "            title=\"Suggest charts\"\n",
              "            style=\"display:none;\">\n",
              "\n",
              "<svg xmlns=\"http://www.w3.org/2000/svg\" height=\"24px\"viewBox=\"0 0 24 24\"\n",
              "     width=\"24px\">\n",
              "    <g>\n",
              "        <path d=\"M19 3H5c-1.1 0-2 .9-2 2v14c0 1.1.9 2 2 2h14c1.1 0 2-.9 2-2V5c0-1.1-.9-2-2-2zM9 17H7v-7h2v7zm4 0h-2V7h2v10zm4 0h-2v-4h2v4z\"/>\n",
              "    </g>\n",
              "</svg>\n",
              "  </button>\n",
              "\n",
              "<style>\n",
              "  .colab-df-quickchart {\n",
              "      --bg-color: #E8F0FE;\n",
              "      --fill-color: #1967D2;\n",
              "      --hover-bg-color: #E2EBFA;\n",
              "      --hover-fill-color: #174EA6;\n",
              "      --disabled-fill-color: #AAA;\n",
              "      --disabled-bg-color: #DDD;\n",
              "  }\n",
              "\n",
              "  [theme=dark] .colab-df-quickchart {\n",
              "      --bg-color: #3B4455;\n",
              "      --fill-color: #D2E3FC;\n",
              "      --hover-bg-color: #434B5C;\n",
              "      --hover-fill-color: #FFFFFF;\n",
              "      --disabled-bg-color: #3B4455;\n",
              "      --disabled-fill-color: #666;\n",
              "  }\n",
              "\n",
              "  .colab-df-quickchart {\n",
              "    background-color: var(--bg-color);\n",
              "    border: none;\n",
              "    border-radius: 50%;\n",
              "    cursor: pointer;\n",
              "    display: none;\n",
              "    fill: var(--fill-color);\n",
              "    height: 32px;\n",
              "    padding: 0;\n",
              "    width: 32px;\n",
              "  }\n",
              "\n",
              "  .colab-df-quickchart:hover {\n",
              "    background-color: var(--hover-bg-color);\n",
              "    box-shadow: 0 1px 2px rgba(60, 64, 67, 0.3), 0 1px 3px 1px rgba(60, 64, 67, 0.15);\n",
              "    fill: var(--button-hover-fill-color);\n",
              "  }\n",
              "\n",
              "  .colab-df-quickchart-complete:disabled,\n",
              "  .colab-df-quickchart-complete:disabled:hover {\n",
              "    background-color: var(--disabled-bg-color);\n",
              "    fill: var(--disabled-fill-color);\n",
              "    box-shadow: none;\n",
              "  }\n",
              "\n",
              "  .colab-df-spinner {\n",
              "    border: 2px solid var(--fill-color);\n",
              "    border-color: transparent;\n",
              "    border-bottom-color: var(--fill-color);\n",
              "    animation:\n",
              "      spin 1s steps(1) infinite;\n",
              "  }\n",
              "\n",
              "  @keyframes spin {\n",
              "    0% {\n",
              "      border-color: transparent;\n",
              "      border-bottom-color: var(--fill-color);\n",
              "      border-left-color: var(--fill-color);\n",
              "    }\n",
              "    20% {\n",
              "      border-color: transparent;\n",
              "      border-left-color: var(--fill-color);\n",
              "      border-top-color: var(--fill-color);\n",
              "    }\n",
              "    30% {\n",
              "      border-color: transparent;\n",
              "      border-left-color: var(--fill-color);\n",
              "      border-top-color: var(--fill-color);\n",
              "      border-right-color: var(--fill-color);\n",
              "    }\n",
              "    40% {\n",
              "      border-color: transparent;\n",
              "      border-right-color: var(--fill-color);\n",
              "      border-top-color: var(--fill-color);\n",
              "    }\n",
              "    60% {\n",
              "      border-color: transparent;\n",
              "      border-right-color: var(--fill-color);\n",
              "    }\n",
              "    80% {\n",
              "      border-color: transparent;\n",
              "      border-right-color: var(--fill-color);\n",
              "      border-bottom-color: var(--fill-color);\n",
              "    }\n",
              "    90% {\n",
              "      border-color: transparent;\n",
              "      border-bottom-color: var(--fill-color);\n",
              "    }\n",
              "  }\n",
              "</style>\n",
              "\n",
              "  <script>\n",
              "    async function quickchart(key) {\n",
              "      const quickchartButtonEl =\n",
              "        document.querySelector('#' + key + ' button');\n",
              "      quickchartButtonEl.disabled = true;  // To prevent multiple clicks.\n",
              "      quickchartButtonEl.classList.add('colab-df-spinner');\n",
              "      try {\n",
              "        const charts = await google.colab.kernel.invokeFunction(\n",
              "            'suggestCharts', [key], {});\n",
              "      } catch (error) {\n",
              "        console.error('Error during call to suggestCharts:', error);\n",
              "      }\n",
              "      quickchartButtonEl.classList.remove('colab-df-spinner');\n",
              "      quickchartButtonEl.classList.add('colab-df-quickchart-complete');\n",
              "    }\n",
              "    (() => {\n",
              "      let quickchartButtonEl =\n",
              "        document.querySelector('#df-d75710e6-701f-4029-b68c-547d03126c00 button');\n",
              "      quickchartButtonEl.style.display =\n",
              "        google.colab.kernel.accessAllowed ? 'block' : 'none';\n",
              "    })();\n",
              "  </script>\n",
              "</div>\n",
              "    </div>\n",
              "  </div>\n"
            ]
          },
          "metadata": {},
          "execution_count": 12
        }
      ],
      "source": [
        "df_20[['short_name','player_positions']]"
      ]
    },
    {
      "cell_type": "markdown",
      "metadata": {
        "id": "CcrSnXgLEm11"
      },
      "source": [
        "let's convert the column to integeral columns"
      ]
    },
    {
      "cell_type": "code",
      "execution_count": null,
      "metadata": {
        "id": "52SsB7U9Em11"
      },
      "outputs": [],
      "source": []
    },
    {
      "cell_type": "markdown",
      "metadata": {
        "id": "qcQrIeIYEm11"
      },
      "source": [
        "concatinating new_player_position dataframe to our dataframe"
      ]
    },
    {
      "cell_type": "code",
      "execution_count": null,
      "metadata": {
        "id": "BnR4C45UEm11"
      },
      "outputs": [],
      "source": []
    },
    {
      "cell_type": "markdown",
      "metadata": {
        "id": "ZmukHo95Em11"
      },
      "source": [
        "let's check the dataset again"
      ]
    },
    {
      "cell_type": "code",
      "execution_count": null,
      "metadata": {
        "id": "oL6DbvgxEm11"
      },
      "outputs": [],
      "source": []
    },
    {
      "cell_type": "markdown",
      "metadata": {
        "id": "HVi_VkwdEm11"
      },
      "source": [
        "let's drop the original player_positions columns"
      ]
    },
    {
      "cell_type": "code",
      "execution_count": null,
      "metadata": {
        "id": "cl7j1xAtEm11"
      },
      "outputs": [],
      "source": []
    },
    {
      "cell_type": "markdown",
      "metadata": {
        "id": "681fWZilEm11"
      },
      "source": [
        "let's check the dataset again"
      ]
    },
    {
      "cell_type": "code",
      "execution_count": null,
      "metadata": {
        "id": "XX-UPXI0Em12"
      },
      "outputs": [],
      "source": []
    },
    {
      "cell_type": "markdown",
      "metadata": {
        "id": "tRcF0vxhEm12"
      },
      "source": [
        "## Task 3:\n",
        "### Position Columns ratings\n",
        "Clean, Process and Assign the new attributes to columns listed below."
      ]
    },
    {
      "cell_type": "code",
      "execution_count": null,
      "metadata": {
        "id": "_FPGQMwwEm12"
      },
      "outputs": [],
      "source": [
        "columns = ['ls', 'st', 'rs', 'lw', 'lf', 'cf', 'rf', 'rw', 'lam', 'cam', 'ram',\n",
        "       'lm', 'lcm', 'cm', 'rcm', 'rm', 'lwb', 'ldm', 'cdm', 'rdm', 'rwb', 'lb',\n",
        "       'lcb', 'cb', 'rcb', 'rb']"
      ]
    },
    {
      "cell_type": "markdown",
      "metadata": {
        "id": "c7yqHQuLEm12"
      },
      "source": [
        "let's check what we have in these columns"
      ]
    },
    {
      "cell_type": "code",
      "execution_count": null,
      "metadata": {
        "id": "XATVcOgWEm12"
      },
      "outputs": [],
      "source": []
    },
    {
      "cell_type": "markdown",
      "metadata": {
        "id": "rMBUz-aaEm12"
      },
      "source": [
        "let's omit the '+' sign"
      ]
    },
    {
      "cell_type": "code",
      "execution_count": null,
      "metadata": {
        "id": "h0a2zqKiEm12"
      },
      "outputs": [],
      "source": []
    },
    {
      "cell_type": "markdown",
      "metadata": {
        "id": "1DMxouTEEm12"
      },
      "source": [
        "Let's Replace NaN values with 0"
      ]
    },
    {
      "cell_type": "code",
      "execution_count": null,
      "metadata": {
        "id": "kpzsEluqEm13"
      },
      "outputs": [],
      "source": []
    },
    {
      "cell_type": "markdown",
      "metadata": {
        "id": "TR7vCHwBEm13"
      },
      "source": [
        "Let's convert the columns to int"
      ]
    },
    {
      "cell_type": "code",
      "execution_count": null,
      "metadata": {
        "id": "AbyWNhqbEm13"
      },
      "outputs": [],
      "source": []
    },
    {
      "cell_type": "markdown",
      "metadata": {
        "id": "XJsuqQnsEm1-"
      },
      "source": [
        "Checking the dataframe again"
      ]
    },
    {
      "cell_type": "code",
      "execution_count": null,
      "metadata": {
        "id": "Y6qcgs70Em1-"
      },
      "outputs": [],
      "source": []
    },
    {
      "cell_type": "markdown",
      "metadata": {
        "id": "SCoiiILlEm1-"
      },
      "source": [
        "### Filling Missing Values\n",
        "Let's fill <b>\"dribbling\", \"defending\", \"physic\", \"passing\", \"shooting\" and \"pace\" </b> missing values of these columns by median\n"
      ]
    },
    {
      "cell_type": "code",
      "execution_count": null,
      "metadata": {
        "id": "msSnj-5UEm1-"
      },
      "outputs": [],
      "source": [
        "columns = [\"dribbling\", \"defending\", \"physic\", \"passing\", \"shooting\", \"pace\"]"
      ]
    },
    {
      "cell_type": "markdown",
      "metadata": {
        "id": "DiT3RE_0Em1-"
      },
      "source": [
        "At first let's check how many NaN values are there in these columuns"
      ]
    },
    {
      "cell_type": "code",
      "execution_count": null,
      "metadata": {
        "id": "UaiAW7UbEm1_"
      },
      "outputs": [],
      "source": []
    },
    {
      "cell_type": "markdown",
      "metadata": {
        "id": "27pJed3CEm1_"
      },
      "source": [
        "now lets fill the NaN values with the median of the respective column"
      ]
    },
    {
      "cell_type": "code",
      "execution_count": null,
      "metadata": {
        "id": "XBLrv1kEEm1_"
      },
      "outputs": [],
      "source": []
    },
    {
      "cell_type": "markdown",
      "metadata": {
        "id": "jiObJ8wsEm1_"
      },
      "source": [
        "let's fill all NaN values in the dataframe with 0"
      ]
    },
    {
      "cell_type": "code",
      "execution_count": null,
      "metadata": {
        "id": "aT1yh5QNEm1_"
      },
      "outputs": [],
      "source": []
    },
    {
      "cell_type": "markdown",
      "metadata": {
        "id": "xf43biiNEm2A"
      },
      "source": [
        "let's count the NaN values again"
      ]
    },
    {
      "cell_type": "code",
      "execution_count": null,
      "metadata": {
        "id": "Po33GjoXEm2A"
      },
      "outputs": [],
      "source": []
    },
    {
      "cell_type": "markdown",
      "metadata": {
        "id": "GVGseH6gEm2A"
      },
      "source": [
        "## Task 4:\n",
        "## Exploratory Data Analysis\n",
        "\n",
        "#### 1- Scatter Plot (colored by Age) year 2020 - Overall Rating vs Value in Euros"
      ]
    },
    {
      "cell_type": "code",
      "execution_count": null,
      "metadata": {
        "id": "a7SU654LEm2A",
        "colab": {
          "base_uri": "https://localhost:8080/",
          "height": 512
        },
        "outputId": "3f30aa84-f80e-49b9-bee2-a08e00fbb918"
      },
      "outputs": [
        {
          "output_type": "error",
          "ename": "KeyError",
          "evalue": "ignored",
          "traceback": [
            "\u001b[0;31m---------------------------------------------------------------------------\u001b[0m",
            "\u001b[0;31mKeyError\u001b[0m                                  Traceback (most recent call last)",
            "\u001b[0;32m/usr/local/lib/python3.10/dist-packages/pandas/core/indexes/base.py\u001b[0m in \u001b[0;36mget_loc\u001b[0;34m(self, key, method, tolerance)\u001b[0m\n\u001b[1;32m   3801\u001b[0m             \u001b[0;32mtry\u001b[0m\u001b[0;34m:\u001b[0m\u001b[0;34m\u001b[0m\u001b[0;34m\u001b[0m\u001b[0m\n\u001b[0;32m-> 3802\u001b[0;31m                 \u001b[0;32mreturn\u001b[0m \u001b[0mself\u001b[0m\u001b[0;34m.\u001b[0m\u001b[0m_engine\u001b[0m\u001b[0;34m.\u001b[0m\u001b[0mget_loc\u001b[0m\u001b[0;34m(\u001b[0m\u001b[0mcasted_key\u001b[0m\u001b[0;34m)\u001b[0m\u001b[0;34m\u001b[0m\u001b[0;34m\u001b[0m\u001b[0m\n\u001b[0m\u001b[1;32m   3803\u001b[0m             \u001b[0;32mexcept\u001b[0m \u001b[0mKeyError\u001b[0m \u001b[0;32mas\u001b[0m \u001b[0merr\u001b[0m\u001b[0;34m:\u001b[0m\u001b[0;34m\u001b[0m\u001b[0;34m\u001b[0m\u001b[0m\n",
            "\u001b[0;32m/usr/local/lib/python3.10/dist-packages/pandas/_libs/index.pyx\u001b[0m in \u001b[0;36mpandas._libs.index.IndexEngine.get_loc\u001b[0;34m()\u001b[0m\n",
            "\u001b[0;32m/usr/local/lib/python3.10/dist-packages/pandas/_libs/index.pyx\u001b[0m in \u001b[0;36mpandas._libs.index.IndexEngine.get_loc\u001b[0;34m()\u001b[0m\n",
            "\u001b[0;32mpandas/_libs/hashtable_class_helper.pxi\u001b[0m in \u001b[0;36mpandas._libs.hashtable.PyObjectHashTable.get_item\u001b[0;34m()\u001b[0m\n",
            "\u001b[0;32mpandas/_libs/hashtable_class_helper.pxi\u001b[0m in \u001b[0;36mpandas._libs.hashtable.PyObjectHashTable.get_item\u001b[0;34m()\u001b[0m\n",
            "\u001b[0;31mKeyError\u001b[0m: 'overall'",
            "\nThe above exception was the direct cause of the following exception:\n",
            "\u001b[0;31mKeyError\u001b[0m                                  Traceback (most recent call last)",
            "\u001b[0;32m<ipython-input-51-8f9fe5ee64b1>\u001b[0m in \u001b[0;36m<cell line: 1>\u001b[0;34m()\u001b[0m\n\u001b[1;32m      1\u001b[0m figura = go.Figure(\n\u001b[1;32m      2\u001b[0m data = go.Scatter(\n\u001b[0;32m----> 3\u001b[0;31m         \u001b[0mx\u001b[0m \u001b[0;34m=\u001b[0m \u001b[0mdf_20\u001b[0m\u001b[0;34m[\u001b[0m\u001b[0;34m'overall'\u001b[0m\u001b[0;34m]\u001b[0m\u001b[0;34m,\u001b[0m\u001b[0;34m\u001b[0m\u001b[0;34m\u001b[0m\u001b[0m\n\u001b[0m\u001b[1;32m      4\u001b[0m         \u001b[0my\u001b[0m \u001b[0;34m=\u001b[0m \u001b[0mdf_20\u001b[0m\u001b[0;34m[\u001b[0m\u001b[0;34m'value_eur'\u001b[0m\u001b[0;34m]\u001b[0m\u001b[0;34m,\u001b[0m\u001b[0;34m\u001b[0m\u001b[0;34m\u001b[0m\u001b[0m\n\u001b[1;32m      5\u001b[0m         \u001b[0mmode\u001b[0m \u001b[0;34m=\u001b[0m \u001b[0;34m'markers'\u001b[0m\u001b[0;34m,\u001b[0m\u001b[0;34m\u001b[0m\u001b[0;34m\u001b[0m\u001b[0m\n",
            "\u001b[0;32m/usr/local/lib/python3.10/dist-packages/pandas/core/frame.py\u001b[0m in \u001b[0;36m__getitem__\u001b[0;34m(self, key)\u001b[0m\n\u001b[1;32m   3805\u001b[0m             \u001b[0;32mif\u001b[0m \u001b[0mself\u001b[0m\u001b[0;34m.\u001b[0m\u001b[0mcolumns\u001b[0m\u001b[0;34m.\u001b[0m\u001b[0mnlevels\u001b[0m \u001b[0;34m>\u001b[0m \u001b[0;36m1\u001b[0m\u001b[0;34m:\u001b[0m\u001b[0;34m\u001b[0m\u001b[0;34m\u001b[0m\u001b[0m\n\u001b[1;32m   3806\u001b[0m                 \u001b[0;32mreturn\u001b[0m \u001b[0mself\u001b[0m\u001b[0;34m.\u001b[0m\u001b[0m_getitem_multilevel\u001b[0m\u001b[0;34m(\u001b[0m\u001b[0mkey\u001b[0m\u001b[0;34m)\u001b[0m\u001b[0;34m\u001b[0m\u001b[0;34m\u001b[0m\u001b[0m\n\u001b[0;32m-> 3807\u001b[0;31m             \u001b[0mindexer\u001b[0m \u001b[0;34m=\u001b[0m \u001b[0mself\u001b[0m\u001b[0;34m.\u001b[0m\u001b[0mcolumns\u001b[0m\u001b[0;34m.\u001b[0m\u001b[0mget_loc\u001b[0m\u001b[0;34m(\u001b[0m\u001b[0mkey\u001b[0m\u001b[0;34m)\u001b[0m\u001b[0;34m\u001b[0m\u001b[0;34m\u001b[0m\u001b[0m\n\u001b[0m\u001b[1;32m   3808\u001b[0m             \u001b[0;32mif\u001b[0m \u001b[0mis_integer\u001b[0m\u001b[0;34m(\u001b[0m\u001b[0mindexer\u001b[0m\u001b[0;34m)\u001b[0m\u001b[0;34m:\u001b[0m\u001b[0;34m\u001b[0m\u001b[0;34m\u001b[0m\u001b[0m\n\u001b[1;32m   3809\u001b[0m                 \u001b[0mindexer\u001b[0m \u001b[0;34m=\u001b[0m \u001b[0;34m[\u001b[0m\u001b[0mindexer\u001b[0m\u001b[0;34m]\u001b[0m\u001b[0;34m\u001b[0m\u001b[0;34m\u001b[0m\u001b[0m\n",
            "\u001b[0;32m/usr/local/lib/python3.10/dist-packages/pandas/core/indexes/base.py\u001b[0m in \u001b[0;36mget_loc\u001b[0;34m(self, key, method, tolerance)\u001b[0m\n\u001b[1;32m   3802\u001b[0m                 \u001b[0;32mreturn\u001b[0m \u001b[0mself\u001b[0m\u001b[0;34m.\u001b[0m\u001b[0m_engine\u001b[0m\u001b[0;34m.\u001b[0m\u001b[0mget_loc\u001b[0m\u001b[0;34m(\u001b[0m\u001b[0mcasted_key\u001b[0m\u001b[0;34m)\u001b[0m\u001b[0;34m\u001b[0m\u001b[0;34m\u001b[0m\u001b[0m\n\u001b[1;32m   3803\u001b[0m             \u001b[0;32mexcept\u001b[0m \u001b[0mKeyError\u001b[0m \u001b[0;32mas\u001b[0m \u001b[0merr\u001b[0m\u001b[0;34m:\u001b[0m\u001b[0;34m\u001b[0m\u001b[0;34m\u001b[0m\u001b[0m\n\u001b[0;32m-> 3804\u001b[0;31m                 \u001b[0;32mraise\u001b[0m \u001b[0mKeyError\u001b[0m\u001b[0;34m(\u001b[0m\u001b[0mkey\u001b[0m\u001b[0;34m)\u001b[0m \u001b[0;32mfrom\u001b[0m \u001b[0merr\u001b[0m\u001b[0;34m\u001b[0m\u001b[0;34m\u001b[0m\u001b[0m\n\u001b[0m\u001b[1;32m   3805\u001b[0m             \u001b[0;32mexcept\u001b[0m \u001b[0mTypeError\u001b[0m\u001b[0;34m:\u001b[0m\u001b[0;34m\u001b[0m\u001b[0;34m\u001b[0m\u001b[0m\n\u001b[1;32m   3806\u001b[0m                 \u001b[0;31m# If we have a listlike key, _check_indexing_error will raise\u001b[0m\u001b[0;34m\u001b[0m\u001b[0;34m\u001b[0m\u001b[0m\n",
            "\u001b[0;31mKeyError\u001b[0m: 'overall'"
          ]
        }
      ],
      "source": [
        "figura = go.Figure(\n",
        "data = go.Scatter(\n",
        "        x = df_20['overall'],\n",
        "        y = df_20['value_eur'],\n",
        "        mode = 'markers',\n",
        "        marker = dict(\n",
        "        size = 10,\n",
        "        color = df_20['age'],\n",
        "        showscale = True,\n",
        "        ),\n",
        "        text = df_20['short_name']\n",
        ")\n",
        ")\n",
        "figura.update_layout(title= 'Scatter Plot (colori per età - Rating vs Euro )',\n",
        "xaxis_title = 'a', yaxis_title = 'b')\n",
        "figura.show()\n"
      ]
    },
    {
      "cell_type": "markdown",
      "metadata": {
        "id": "AivX6GhqEm2A"
      },
      "source": [
        "#### 2- Pie chart proportion of right-foot players vs left-foot players"
      ]
    },
    {
      "cell_type": "code",
      "execution_count": null,
      "metadata": {
        "id": "0vYp6AQ8Em2B",
        "colab": {
          "base_uri": "https://localhost:8080/",
          "height": 1000
        },
        "outputId": "55233448-0b65-4dc4-8e0d-fedca7c69ee0"
      },
      "outputs": [
        {
          "output_type": "display_data",
          "data": {
            "text/html": [
              "<html>\n",
              "<head><meta charset=\"utf-8\" /></head>\n",
              "<body>\n",
              "    <div>            <script src=\"https://cdnjs.cloudflare.com/ajax/libs/mathjax/2.7.5/MathJax.js?config=TeX-AMS-MML_SVG\"></script><script type=\"text/javascript\">if (window.MathJax && window.MathJax.Hub && window.MathJax.Hub.Config) {window.MathJax.Hub.Config({SVG: {font: \"STIX-Web\"}});}</script>                <script type=\"text/javascript\">window.PlotlyConfig = {MathJaxConfig: 'local'};</script>\n",
              "        <script charset=\"utf-8\" src=\"https://cdn.plot.ly/plotly-2.24.1.min.js\"></script>                <div id=\"6c58e575-1418-42c1-b665-7fd4bf90d391\" class=\"plotly-graph-div\" style=\"height:525px; width:100%;\"></div>            <script type=\"text/javascript\">                                    window.PLOTLYENV=window.PLOTLYENV || {};                                    if (document.getElementById(\"6c58e575-1418-42c1-b665-7fd4bf90d391\")) {                    Plotly.newPlot(                        \"6c58e575-1418-42c1-b665-7fd4bf90d391\",                        [{\"domain\":{\"x\":[0.0,1.0],\"y\":[0.0,1.0]},\"hovertemplate\":\"preferred_foot=%{label}\\u003cextra\\u003e\\u003c\\u002fextra\\u003e\",\"labels\":[\"Left\",\"Right\",\"Right\",\"Right\",\"Right\",\"Right\",\"Right\",\"Right\",\"Right\",\"Left\",\"Right\",\"Right\",\"Right\",\"Right\",\"Right\",\"Right\",\"Left\",\"Right\",\"Right\",\"Right\",\"Right\",\"Right\",\"Left\",\"Left\",\"Right\",\"Left\",\"Right\",\"Right\",\"Left\",\"Right\",\"Right\",\"Right\",\"Left\",\"Left\",\"Right\",\"Right\",\"Right\",\"Right\",\"Right\",\"Right\",\"Left\",\"Left\",\"Right\",\"Right\",\"Right\",\"Right\",\"Right\",\"Left\",\"Right\",\"Right\",\"Right\",\"Left\",\"Right\",\"Right\",\"Right\",\"Left\",\"Right\",\"Right\",\"Right\",\"Left\",\"Right\",\"Right\",\"Right\",\"Right\",\"Right\",\"Right\",\"Left\",\"Right\",\"Right\",\"Right\",\"Right\",\"Right\",\"Right\",\"Right\",\"Right\",\"Right\",\"Right\",\"Right\",\"Right\",\"Right\",\"Left\",\"Right\",\"Left\",\"Right\",\"Left\",\"Right\",\"Left\",\"Right\",\"Right\",\"Left\",\"Right\",\"Right\",\"Left\",\"Right\",\"Right\",\"Left\",\"Right\",\"Right\",\"Right\",\"Left\",\"Left\",\"Left\",\"Right\",\"Left\",\"Left\",\"Right\",\"Left\",\"Right\",\"Right\",\"Left\",\"Left\",\"Right\",\"Right\",\"Right\",\"Left\",\"Right\",\"Right\",\"Right\",\"Right\",\"Right\",\"Right\",\"Left\",\"Right\",\"Right\",\"Left\",\"Right\",\"Right\",\"Right\",\"Right\",\"Right\",\"Right\",\"Right\",\"Right\",\"Right\",\"Right\",\"Left\",\"Right\",\"Right\",\"Right\",\"Right\",\"Right\",\"Right\",\"Right\",\"Right\",\"Right\",\"Right\",\"Right\",\"Right\",\"Right\",\"Left\",\"Left\",\"Right\",\"Left\",\"Left\",\"Left\",\"Right\",\"Right\",\"Left\",\"Left\",\"Left\",\"Right\",\"Right\",\"Left\",\"Right\",\"Left\",\"Right\",\"Right\",\"Left\",\"Right\",\"Left\",\"Right\",\"Right\",\"Right\",\"Left\",\"Left\",\"Right\",\"Left\",\"Right\",\"Left\",\"Left\",\"Right\",\"Left\",\"Right\",\"Right\",\"Left\",\"Right\",\"Right\",\"Right\",\"Right\",\"Right\",\"Left\",\"Right\",\"Right\",\"Right\",\"Right\",\"Left\",\"Right\",\"Right\",\"Left\",\"Right\",\"Right\",\"Left\",\"Right\",\"Right\",\"Right\",\"Right\",\"Right\",\"Right\",\"Right\",\"Left\",\"Right\",\"Left\",\"Right\",\"Right\",\"Right\",\"Right\",\"Right\",\"Left\",\"Right\",\"Right\",\"Right\",\"Right\",\"Left\",\"Right\",\"Right\",\"Right\",\"Right\",\"Right\",\"Left\",\"Right\",\"Right\",\"Left\",\"Right\",\"Right\",\"Right\",\"Right\",\"Right\",\"Left\",\"Left\",\"Right\",\"Right\",\"Right\",\"Right\",\"Right\",\"Right\",\"Right\",\"Left\",\"Right\",\"Right\",\"Right\",\"Right\",\"Right\",\"Right\",\"Right\",\"Right\",\"Right\",\"Right\",\"Left\",\"Right\",\"Left\",\"Right\",\"Left\",\"Right\",\"Right\",\"Left\",\"Right\",\"Left\",\"Right\",\"Right\",\"Right\",\"Right\",\"Left\",\"Right\",\"Right\",\"Right\",\"Left\",\"Left\",\"Right\",\"Right\",\"Left\",\"Right\",\"Right\",\"Right\",\"Left\",\"Left\",\"Right\",\"Right\",\"Right\",\"Right\",\"Right\",\"Right\",\"Right\",\"Right\",\"Right\",\"Left\",\"Left\",\"Left\",\"Right\",\"Right\",\"Right\",\"Right\",\"Right\",\"Right\",\"Left\",\"Right\",\"Left\",\"Right\",\"Right\",\"Right\",\"Right\",\"Right\",\"Right\",\"Right\",\"Left\",\"Right\",\"Right\",\"Right\",\"Right\",\"Right\",\"Right\",\"Right\",\"Right\",\"Right\",\"Right\",\"Right\",\"Right\",\"Right\",\"Right\",\"Right\",\"Right\",\"Right\",\"Right\",\"Right\",\"Right\",\"Right\",\"Right\",\"Right\",\"Right\",\"Right\",\"Left\",\"Left\",\"Right\",\"Right\",\"Left\",\"Left\",\"Left\",\"Right\",\"Left\",\"Right\",\"Right\",\"Right\",\"Left\",\"Right\",\"Right\",\"Right\",\"Right\",\"Right\",\"Left\",\"Right\",\"Right\",\"Right\",\"Right\",\"Right\",\"Right\",\"Right\",\"Right\",\"Right\",\"Left\",\"Right\",\"Right\",\"Left\",\"Right\",\"Right\",\"Right\",\"Left\",\"Right\",\"Right\",\"Right\",\"Right\",\"Right\",\"Right\",\"Left\",\"Right\",\"Right\",\"Right\",\"Right\",\"Left\",\"Right\",\"Right\",\"Right\",\"Right\",\"Right\",\"Left\",\"Right\",\"Left\",\"Right\",\"Left\",\"Left\",\"Right\",\"Right\",\"Right\",\"Right\",\"Left\",\"Right\",\"Right\",\"Left\",\"Left\",\"Right\",\"Left\",\"Right\",\"Right\",\"Right\",\"Right\",\"Right\",\"Right\",\"Right\",\"Right\",\"Left\",\"Right\",\"Right\",\"Right\",\"Right\",\"Right\",\"Right\",\"Left\",\"Left\",\"Right\",\"Right\",\"Right\",\"Left\",\"Right\",\"Right\",\"Right\",\"Left\",\"Right\",\"Right\",\"Right\",\"Right\",\"Right\",\"Right\",\"Right\",\"Right\",\"Left\",\"Right\",\"Right\",\"Right\",\"Right\",\"Right\",\"Right\",\"Right\",\"Left\",\"Right\",\"Right\",\"Right\",\"Right\",\"Left\",\"Right\",\"Right\",\"Left\",\"Left\",\"Right\",\"Right\",\"Right\",\"Left\",\"Right\",\"Right\",\"Right\",\"Right\",\"Right\",\"Right\",\"Left\",\"Left\",\"Left\",\"Right\",\"Right\",\"Right\",\"Right\",\"Right\",\"Left\",\"Right\",\"Right\",\"Right\",\"Right\",\"Left\",\"Right\",\"Right\",\"Left\",\"Right\",\"Right\",\"Right\",\"Right\",\"Right\",\"Right\",\"Right\",\"Right\",\"Right\",\"Right\",\"Right\",\"Left\",\"Right\",\"Right\",\"Right\",\"Left\",\"Left\",\"Left\",\"Right\",\"Right\",\"Right\",\"Right\",\"Right\",\"Right\",\"Right\",\"Right\",\"Right\",\"Right\",\"Right\",\"Right\",\"Left\",\"Right\",\"Right\",\"Right\",\"Right\",\"Right\",\"Right\",\"Right\",\"Right\",\"Right\",\"Right\",\"Right\",\"Right\",\"Right\",\"Right\",\"Left\",\"Left\",\"Right\",\"Right\",\"Right\",\"Right\",\"Right\",\"Right\",\"Right\",\"Right\",\"Right\",\"Left\",\"Right\",\"Right\",\"Right\",\"Left\",\"Right\",\"Left\",\"Left\",\"Right\",\"Left\",\"Right\",\"Right\",\"Right\",\"Right\",\"Left\",\"Right\",\"Right\",\"Left\",\"Right\",\"Right\",\"Right\",\"Left\",\"Right\",\"Right\",\"Left\",\"Right\",\"Right\",\"Left\",\"Right\",\"Right\",\"Right\",\"Left\",\"Right\",\"Right\",\"Right\",\"Right\",\"Right\",\"Right\",\"Right\",\"Right\",\"Right\",\"Right\",\"Right\",\"Right\",\"Left\",\"Left\",\"Left\",\"Right\",\"Right\",\"Right\",\"Right\",\"Right\",\"Right\",\"Left\",\"Right\",\"Right\",\"Left\",\"Right\",\"Right\",\"Left\",\"Right\",\"Left\",\"Right\",\"Right\",\"Right\",\"Right\",\"Left\",\"Left\",\"Right\",\"Right\",\"Right\",\"Right\",\"Left\",\"Right\",\"Right\",\"Right\",\"Right\",\"Right\",\"Right\",\"Right\",\"Left\",\"Right\",\"Right\",\"Right\",\"Right\",\"Right\",\"Left\",\"Right\",\"Left\",\"Left\",\"Right\",\"Right\",\"Right\",\"Right\",\"Right\",\"Right\",\"Right\",\"Right\",\"Right\",\"Right\",\"Left\",\"Left\",\"Right\",\"Right\",\"Right\",\"Right\",\"Left\",\"Left\",\"Right\",\"Left\",\"Right\",\"Right\",\"Right\",\"Right\",\"Right\",\"Right\",\"Right\",\"Right\",\"Right\",\"Right\",\"Right\",\"Right\",\"Right\",\"Right\",\"Right\",\"Right\",\"Left\",\"Right\",\"Right\",\"Right\",\"Right\",\"Right\",\"Right\",\"Left\",\"Left\",\"Right\",\"Left\",\"Right\",\"Right\",\"Right\",\"Left\",\"Right\",\"Right\",\"Right\",\"Right\",\"Right\",\"Right\",\"Right\",\"Right\",\"Left\",\"Right\",\"Right\",\"Right\",\"Right\",\"Right\",\"Left\",\"Right\",\"Right\",\"Right\",\"Right\",\"Left\",\"Right\",\"Left\",\"Left\",\"Right\",\"Right\",\"Right\",\"Right\",\"Right\",\"Left\",\"Right\",\"Right\",\"Left\",\"Right\",\"Left\",\"Right\",\"Right\",\"Right\",\"Right\",\"Left\",\"Right\",\"Right\",\"Right\",\"Left\",\"Right\",\"Right\",\"Left\",\"Right\",\"Left\",\"Right\",\"Right\",\"Left\",\"Right\",\"Right\",\"Right\",\"Right\",\"Left\",\"Right\",\"Right\",\"Right\",\"Right\",\"Right\",\"Left\",\"Right\",\"Right\",\"Right\",\"Left\",\"Right\",\"Right\",\"Right\",\"Left\",\"Right\",\"Right\",\"Right\",\"Right\",\"Right\",\"Right\",\"Right\",\"Right\",\"Right\",\"Left\",\"Left\",\"Left\",\"Right\",\"Right\",\"Left\",\"Right\",\"Right\",\"Right\",\"Right\",\"Right\",\"Right\",\"Right\",\"Right\",\"Left\",\"Left\",\"Right\",\"Right\",\"Right\",\"Right\",\"Right\",\"Left\",\"Right\",\"Right\",\"Right\",\"Right\",\"Right\",\"Left\",\"Right\",\"Right\",\"Right\",\"Right\",\"Right\",\"Right\",\"Right\",\"Left\",\"Left\",\"Right\",\"Left\",\"Right\",\"Left\",\"Left\",\"Right\",\"Right\",\"Right\",\"Right\",\"Right\",\"Right\",\"Right\",\"Right\",\"Right\",\"Right\",\"Right\",\"Right\",\"Right\",\"Right\",\"Right\",\"Left\",\"Right\",\"Right\",\"Right\",\"Right\",\"Right\",\"Left\",\"Right\",\"Right\",\"Right\",\"Right\",\"Right\",\"Right\",\"Right\",\"Right\",\"Right\",\"Right\",\"Left\",\"Right\",\"Right\",\"Right\",\"Right\",\"Right\",\"Right\",\"Right\",\"Left\",\"Right\",\"Right\",\"Right\",\"Right\",\"Right\",\"Right\",\"Right\",\"Right\",\"Right\",\"Right\",\"Left\",\"Right\",\"Right\",\"Right\",\"Right\",\"Right\",\"Right\",\"Right\",\"Right\",\"Right\",\"Left\",\"Right\",\"Right\",\"Right\",\"Right\",\"Right\",\"Left\",\"Right\",\"Right\",\"Right\",\"Right\",\"Left\",\"Right\",\"Right\",\"Left\",\"Right\",\"Right\",\"Left\",\"Right\",\"Right\",\"Left\",\"Right\",\"Left\",\"Right\",\"Left\",\"Left\",\"Right\",\"Right\",\"Right\",\"Right\",\"Left\",\"Right\",\"Right\",\"Right\",\"Right\",\"Right\",\"Left\",\"Right\",\"Right\",\"Right\",\"Right\",\"Right\",\"Right\",\"Left\",\"Right\",\"Left\",\"Right\",\"Right\",\"Right\",\"Right\",\"Right\",\"Right\",\"Right\",\"Right\",\"Right\",\"Right\",\"Left\",\"Right\",\"Right\",\"Right\",\"Right\",\"Left\",\"Right\",\"Right\",\"Right\",\"Left\",\"Right\",\"Right\",\"Right\",\"Right\",\"Right\",\"Right\",\"Left\",\"Right\",\"Right\",\"Left\",\"Right\",\"Right\",\"Left\",\"Right\",\"Left\",\"Left\",\"Right\",\"Left\",\"Right\",\"Right\",\"Right\",\"Right\",\"Right\",\"Right\",\"Left\",\"Left\",\"Right\",\"Right\",\"Left\",\"Right\",\"Right\",\"Right\",\"Right\",\"Left\",\"Right\",\"Right\",\"Right\",\"Right\",\"Right\",\"Right\",\"Left\",\"Right\",\"Right\",\"Right\",\"Left\",\"Right\",\"Right\",\"Right\",\"Right\",\"Right\",\"Right\",\"Right\",\"Left\",\"Left\",\"Right\",\"Right\",\"Right\",\"Left\",\"Right\",\"Left\",\"Right\",\"Right\",\"Right\",\"Right\",\"Right\",\"Right\",\"Left\",\"Right\",\"Left\",\"Right\",\"Right\",\"Right\",\"Right\",\"Right\",\"Right\",\"Right\",\"Right\",\"Right\",\"Left\",\"Right\",\"Left\",\"Left\",\"Right\",\"Right\",\"Right\",\"Right\",\"Right\",\"Left\",\"Right\",\"Right\",\"Right\",\"Right\",\"Right\",\"Right\",\"Left\",\"Left\",\"Right\",\"Right\",\"Right\",\"Right\",\"Right\",\"Right\",\"Right\",\"Right\",\"Right\",\"Right\",\"Right\",\"Right\",\"Left\",\"Right\",\"Left\",\"Right\",\"Right\",\"Left\",\"Right\",\"Right\",\"Right\",\"Right\",\"Left\",\"Left\",\"Right\",\"Right\",\"Left\",\"Right\",\"Right\",\"Right\",\"Left\",\"Right\",\"Right\",\"Right\",\"Right\",\"Right\",\"Right\",\"Left\",\"Right\",\"Right\",\"Right\",\"Left\",\"Right\",\"Left\",\"Right\",\"Right\",\"Right\",\"Right\",\"Left\",\"Right\",\"Right\",\"Left\",\"Right\",\"Left\",\"Right\",\"Right\",\"Left\",\"Left\",\"Right\",\"Right\",\"Right\",\"Right\",\"Right\",\"Right\",\"Right\",\"Right\",\"Right\",\"Right\",\"Right\",\"Right\",\"Right\",\"Right\",\"Left\",\"Right\",\"Left\",\"Right\",\"Right\",\"Right\",\"Right\",\"Right\",\"Left\",\"Right\",\"Right\",\"Right\",\"Right\",\"Left\",\"Right\",\"Right\",\"Right\",\"Right\",\"Right\",\"Left\",\"Right\",\"Right\",\"Right\",\"Right\",\"Left\",\"Right\",\"Right\",\"Right\",\"Left\",\"Left\",\"Right\",\"Right\",\"Right\",\"Left\",\"Right\",\"Right\",\"Left\",\"Right\",\"Right\",\"Left\",\"Right\",\"Right\",\"Right\",\"Right\",\"Right\",\"Right\",\"Right\",\"Right\",\"Right\",\"Right\",\"Right\",\"Right\",\"Right\",\"Right\",\"Right\",\"Right\",\"Right\",\"Right\",\"Right\",\"Right\",\"Right\",\"Right\",\"Right\",\"Left\",\"Right\",\"Right\",\"Right\",\"Right\",\"Right\",\"Right\",\"Right\",\"Left\",\"Left\",\"Right\",\"Right\",\"Right\",\"Left\",\"Left\",\"Left\",\"Left\",\"Right\",\"Right\",\"Right\",\"Right\",\"Right\",\"Right\",\"Right\",\"Right\",\"Right\",\"Right\",\"Right\",\"Right\",\"Right\",\"Right\",\"Right\",\"Right\",\"Right\",\"Right\",\"Right\",\"Right\",\"Right\",\"Right\",\"Right\",\"Right\",\"Right\",\"Right\",\"Right\",\"Right\",\"Right\",\"Right\",\"Right\",\"Right\",\"Left\",\"Right\",\"Right\",\"Left\",\"Right\",\"Right\",\"Right\",\"Right\",\"Right\",\"Right\",\"Left\",\"Right\",\"Right\",\"Right\",\"Right\",\"Right\",\"Right\",\"Right\",\"Left\",\"Right\",\"Right\",\"Left\",\"Left\",\"Left\",\"Right\",\"Right\",\"Right\",\"Right\",\"Right\",\"Left\",\"Right\",\"Right\",\"Left\",\"Left\",\"Right\",\"Right\",\"Right\",\"Right\",\"Right\",\"Right\",\"Right\",\"Right\",\"Left\",\"Right\",\"Right\",\"Right\",\"Right\",\"Right\",\"Left\",\"Left\",\"Right\",\"Right\",\"Right\",\"Left\",\"Left\",\"Right\",\"Right\",\"Right\",\"Left\",\"Right\",\"Right\",\"Right\",\"Right\",\"Right\",\"Left\",\"Right\",\"Right\",\"Right\",\"Right\",\"Right\",\"Left\",\"Right\",\"Right\",\"Right\",\"Right\",\"Right\",\"Right\",\"Left\",\"Right\",\"Right\",\"Right\",\"Left\",\"Right\",\"Right\",\"Right\",\"Right\",\"Left\",\"Right\",\"Right\",\"Right\",\"Right\",\"Left\",\"Right\",\"Right\",\"Right\",\"Left\",\"Right\",\"Right\",\"Left\",\"Right\",\"Right\",\"Right\",\"Right\",\"Left\",\"Left\",\"Right\",\"Right\",\"Left\",\"Right\",\"Right\",\"Right\",\"Right\",\"Left\",\"Left\",\"Right\",\"Right\",\"Right\",\"Left\",\"Left\",\"Right\",\"Right\",\"Right\",\"Left\",\"Left\",\"Left\",\"Left\",\"Right\",\"Right\",\"Left\",\"Right\",\"Right\",\"Left\",\"Right\",\"Left\",\"Right\",\"Right\",\"Left\",\"Right\",\"Right\",\"Right\",\"Right\",\"Left\",\"Right\",\"Right\",\"Right\",\"Right\",\"Right\",\"Right\",\"Right\",\"Right\",\"Left\",\"Right\",\"Right\",\"Left\",\"Right\",\"Right\",\"Right\",\"Left\",\"Right\",\"Right\",\"Right\",\"Left\",\"Right\",\"Right\",\"Left\",\"Right\",\"Left\",\"Right\",\"Right\",\"Left\",\"Right\",\"Left\",\"Right\",\"Right\",\"Right\",\"Left\",\"Right\",\"Right\",\"Left\",\"Right\",\"Left\",\"Right\",\"Right\",\"Right\",\"Right\",\"Left\",\"Right\",\"Right\",\"Right\",\"Right\",\"Left\",\"Right\",\"Right\",\"Right\",\"Right\",\"Right\",\"Right\",\"Right\",\"Left\",\"Left\",\"Right\",\"Right\",\"Right\",\"Right\",\"Right\",\"Left\",\"Right\",\"Right\",\"Right\",\"Right\",\"Right\",\"Right\",\"Right\",\"Right\",\"Left\",\"Right\",\"Right\",\"Right\",\"Right\",\"Right\",\"Left\",\"Left\",\"Right\",\"Right\",\"Left\",\"Right\",\"Right\",\"Right\",\"Right\",\"Right\",\"Right\",\"Right\",\"Left\",\"Right\",\"Left\",\"Right\",\"Left\",\"Right\",\"Right\",\"Left\",\"Right\",\"Right\",\"Right\",\"Left\",\"Right\",\"Right\",\"Right\",\"Left\",\"Right\",\"Right\",\"Right\",\"Left\",\"Right\",\"Right\",\"Right\",\"Right\",\"Right\",\"Right\",\"Right\",\"Right\",\"Left\",\"Right\",\"Right\",\"Right\",\"Right\",\"Right\",\"Right\",\"Right\",\"Right\",\"Right\",\"Left\",\"Right\",\"Right\",\"Right\",\"Right\",\"Right\",\"Right\",\"Right\",\"Right\",\"Left\",\"Right\",\"Right\",\"Right\",\"Right\",\"Right\",\"Right\",\"Right\",\"Right\",\"Right\",\"Right\",\"Right\",\"Right\",\"Left\",\"Right\",\"Right\",\"Right\",\"Right\",\"Right\",\"Right\",\"Right\",\"Left\",\"Right\",\"Right\",\"Left\",\"Left\",\"Right\",\"Left\",\"Right\",\"Left\",\"Right\",\"Right\",\"Right\",\"Right\",\"Right\",\"Right\",\"Right\",\"Right\",\"Right\",\"Right\",\"Right\",\"Right\",\"Right\",\"Right\",\"Right\",\"Right\",\"Left\",\"Right\",\"Right\",\"Right\",\"Right\",\"Right\",\"Right\",\"Right\",\"Right\",\"Left\",\"Right\",\"Right\",\"Right\",\"Right\",\"Right\",\"Left\",\"Right\",\"Right\",\"Right\",\"Right\",\"Right\",\"Right\",\"Right\",\"Left\",\"Right\",\"Right\",\"Left\",\"Right\",\"Right\",\"Left\",\"Right\",\"Left\",\"Right\",\"Right\",\"Left\",\"Right\",\"Right\",\"Right\",\"Left\",\"Right\",\"Left\",\"Left\",\"Right\",\"Left\",\"Left\",\"Right\",\"Right\",\"Left\",\"Left\",\"Right\",\"Right\",\"Right\",\"Left\",\"Right\",\"Left\",\"Right\",\"Right\",\"Right\",\"Right\",\"Right\",\"Right\",\"Right\",\"Left\",\"Right\",\"Right\",\"Left\",\"Left\",\"Right\",\"Right\",\"Right\",\"Right\",\"Right\",\"Right\",\"Left\",\"Left\",\"Left\",\"Left\",\"Right\",\"Right\",\"Right\",\"Right\",\"Right\",\"Left\",\"Right\",\"Left\",\"Right\",\"Right\",\"Right\",\"Right\",\"Right\",\"Left\",\"Right\",\"Right\",\"Right\",\"Right\",\"Right\",\"Right\",\"Right\",\"Right\",\"Left\",\"Right\",\"Right\",\"Right\",\"Left\",\"Right\",\"Right\",\"Left\",\"Left\",\"Right\",\"Left\",\"Right\",\"Left\",\"Left\",\"Left\",\"Right\",\"Left\",\"Right\",\"Right\",\"Right\",\"Left\",\"Right\",\"Right\",\"Right\",\"Right\",\"Right\",\"Right\",\"Left\",\"Left\",\"Right\",\"Right\",\"Left\",\"Right\",\"Left\",\"Left\",\"Right\",\"Right\",\"Right\",\"Right\",\"Right\",\"Left\",\"Left\",\"Right\",\"Right\",\"Right\",\"Left\",\"Right\",\"Right\",\"Right\",\"Left\",\"Right\",\"Right\",\"Right\",\"Right\",\"Right\",\"Right\",\"Right\",\"Right\",\"Right\",\"Right\",\"Right\",\"Left\",\"Right\",\"Right\",\"Right\",\"Right\",\"Right\",\"Left\",\"Right\",\"Right\",\"Right\",\"Right\",\"Right\",\"Right\",\"Right\",\"Right\",\"Left\",\"Left\",\"Right\",\"Right\",\"Right\",\"Right\",\"Right\",\"Right\",\"Right\",\"Right\",\"Right\",\"Right\",\"Right\",\"Left\",\"Left\",\"Right\",\"Left\",\"Right\",\"Left\",\"Left\",\"Right\",\"Right\",\"Right\",\"Right\",\"Right\",\"Left\",\"Right\",\"Right\",\"Left\",\"Right\",\"Right\",\"Right\",\"Right\",\"Left\",\"Left\",\"Right\",\"Left\",\"Right\",\"Right\",\"Right\",\"Right\",\"Right\",\"Left\",\"Left\",\"Right\",\"Right\",\"Right\",\"Right\",\"Right\",\"Left\",\"Left\",\"Right\",\"Right\",\"Left\",\"Right\",\"Left\",\"Right\",\"Left\",\"Right\",\"Right\",\"Right\",\"Right\",\"Right\",\"Right\",\"Right\",\"Right\",\"Left\",\"Right\",\"Right\",\"Right\",\"Right\",\"Right\",\"Left\",\"Right\",\"Right\",\"Right\",\"Left\",\"Left\",\"Left\",\"Right\",\"Right\",\"Right\",\"Right\",\"Right\",\"Right\",\"Right\",\"Left\",\"Right\",\"Right\",\"Right\",\"Right\",\"Right\",\"Right\",\"Right\",\"Right\",\"Left\",\"Right\",\"Left\",\"Right\",\"Right\",\"Right\",\"Left\",\"Left\",\"Left\",\"Right\",\"Right\",\"Right\",\"Left\",\"Right\",\"Right\",\"Right\",\"Right\",\"Left\",\"Right\",\"Right\",\"Left\",\"Right\",\"Right\",\"Left\",\"Right\",\"Right\",\"Right\",\"Left\",\"Left\",\"Right\",\"Left\",\"Right\",\"Right\",\"Left\",\"Right\",\"Right\",\"Right\",\"Right\",\"Right\",\"Right\",\"Right\",\"Right\",\"Right\",\"Right\",\"Left\",\"Right\",\"Left\",\"Right\",\"Right\",\"Right\",\"Right\",\"Right\",\"Right\",\"Left\",\"Right\",\"Right\",\"Left\",\"Right\",\"Left\",\"Right\",\"Right\",\"Right\",\"Right\",\"Right\",\"Right\",\"Right\",\"Left\",\"Right\",\"Right\",\"Right\",\"Right\",\"Right\",\"Right\",\"Right\",\"Right\",\"Right\",\"Right\",\"Right\",\"Right\",\"Right\",\"Right\",\"Right\",\"Right\",\"Right\",\"Left\",\"Right\",\"Right\",\"Right\",\"Right\",\"Right\",\"Left\",\"Left\",\"Left\",\"Right\",\"Right\",\"Right\",\"Right\",\"Right\",\"Right\",\"Right\",\"Right\",\"Left\",\"Right\",\"Right\",\"Right\",\"Right\",\"Right\",\"Right\",\"Right\",\"Right\",\"Right\",\"Right\",\"Right\",\"Right\",\"Right\",\"Right\",\"Left\",\"Right\",\"Left\",\"Right\",\"Right\",\"Right\",\"Left\",\"Right\",\"Right\",\"Right\",\"Right\",\"Right\",\"Right\",\"Right\",\"Right\",\"Right\",\"Right\",\"Right\",\"Left\",\"Right\",\"Right\",\"Right\",\"Right\",\"Right\",\"Left\",\"Right\",\"Right\",\"Left\",\"Right\",\"Right\",\"Right\",\"Right\",\"Left\",\"Right\",\"Right\",\"Right\",\"Right\",\"Left\",\"Left\",\"Right\",\"Right\",\"Left\",\"Right\",\"Right\",\"Right\",\"Right\",\"Left\",\"Right\",\"Right\",\"Left\",\"Right\",\"Right\",\"Right\",\"Right\",\"Right\",\"Right\",\"Right\",\"Left\",\"Right\",\"Right\",\"Right\",\"Right\",\"Right\",\"Right\",\"Left\",\"Right\",\"Left\",\"Right\",\"Right\",\"Right\",\"Right\",\"Left\",\"Right\",\"Left\",\"Right\",\"Right\",\"Right\",\"Right\",\"Left\",\"Left\",\"Right\",\"Right\",\"Right\",\"Left\",\"Right\",\"Right\",\"Right\",\"Left\",\"Right\",\"Right\",\"Right\",\"Right\",\"Right\",\"Right\",\"Right\",\"Left\",\"Right\",\"Right\",\"Left\",\"Right\",\"Right\",\"Right\",\"Right\",\"Left\",\"Right\",\"Right\",\"Right\",\"Right\",\"Right\",\"Right\",\"Right\",\"Right\",\"Right\",\"Left\",\"Right\",\"Right\",\"Right\",\"Right\",\"Right\",\"Left\",\"Right\",\"Left\",\"Right\",\"Right\",\"Right\",\"Right\",\"Right\",\"Right\",\"Right\",\"Right\",\"Right\",\"Right\",\"Right\",\"Right\",\"Left\",\"Right\",\"Right\",\"Right\",\"Right\",\"Right\",\"Left\",\"Right\",\"Right\",\"Left\",\"Left\",\"Right\",\"Left\",\"Left\",\"Right\",\"Left\",\"Right\",\"Right\",\"Right\",\"Left\",\"Right\",\"Right\",\"Right\",\"Right\",\"Left\",\"Right\",\"Left\",\"Right\",\"Left\",\"Right\",\"Left\",\"Right\",\"Right\",\"Right\",\"Right\",\"Right\",\"Right\",\"Right\",\"Right\",\"Right\",\"Right\",\"Left\",\"Right\",\"Left\",\"Left\",\"Left\",\"Left\",\"Right\",\"Left\",\"Left\",\"Right\",\"Left\",\"Left\",\"Left\",\"Right\",\"Left\",\"Left\",\"Right\",\"Right\",\"Right\",\"Right\",\"Right\",\"Right\",\"Right\",\"Right\",\"Left\",\"Right\",\"Right\",\"Right\",\"Right\",\"Right\",\"Right\",\"Right\",\"Right\",\"Left\",\"Right\",\"Right\",\"Right\",\"Right\",\"Right\",\"Left\",\"Left\",\"Left\",\"Right\",\"Left\",\"Right\",\"Right\",\"Right\",\"Right\",\"Right\",\"Left\",\"Right\",\"Right\",\"Left\",\"Right\",\"Right\",\"Right\",\"Left\",\"Right\",\"Right\",\"Left\",\"Left\",\"Right\",\"Right\",\"Left\",\"Left\",\"Right\",\"Right\",\"Left\",\"Right\",\"Right\",\"Left\",\"Right\",\"Left\",\"Right\",\"Right\",\"Right\",\"Right\",\"Right\",\"Left\",\"Right\",\"Right\",\"Right\",\"Right\",\"Right\",\"Left\",\"Left\",\"Right\",\"Right\",\"Right\",\"Right\",\"Right\",\"Right\",\"Right\",\"Right\",\"Right\",\"Right\",\"Right\",\"Right\",\"Left\",\"Right\",\"Right\",\"Left\",\"Right\",\"Right\",\"Left\",\"Right\",\"Right\",\"Right\",\"Right\",\"Right\",\"Right\",\"Right\",\"Right\",\"Right\",\"Right\",\"Right\",\"Right\",\"Right\",\"Right\",\"Right\",\"Right\",\"Right\",\"Right\",\"Right\",\"Right\",\"Left\",\"Right\",\"Right\",\"Right\",\"Left\",\"Right\",\"Left\",\"Left\",\"Right\",\"Right\",\"Left\",\"Right\",\"Right\",\"Right\",\"Right\",\"Left\",\"Left\",\"Right\",\"Right\",\"Left\",\"Left\",\"Right\",\"Right\",\"Right\",\"Right\",\"Left\",\"Right\",\"Right\",\"Left\",\"Right\",\"Right\",\"Right\",\"Right\",\"Right\",\"Left\",\"Left\",\"Right\",\"Right\",\"Right\",\"Left\",\"Left\",\"Right\",\"Right\",\"Right\",\"Left\",\"Left\",\"Right\",\"Left\",\"Right\",\"Right\",\"Left\",\"Right\",\"Right\",\"Right\",\"Right\",\"Right\",\"Right\",\"Right\",\"Right\",\"Left\",\"Right\",\"Right\",\"Right\",\"Right\",\"Right\",\"Right\",\"Left\",\"Right\",\"Left\",\"Right\",\"Right\",\"Right\",\"Left\",\"Right\",\"Right\",\"Right\",\"Right\",\"Right\",\"Right\",\"Right\",\"Left\",\"Left\",\"Left\",\"Right\",\"Left\",\"Left\",\"Right\",\"Right\",\"Right\",\"Left\",\"Right\",\"Right\",\"Right\",\"Right\",\"Right\",\"Right\",\"Right\",\"Right\",\"Left\",\"Right\",\"Left\",\"Right\",\"Right\",\"Right\",\"Left\",\"Right\",\"Left\",\"Left\",\"Right\",\"Right\",\"Left\",\"Right\",\"Left\",\"Left\",\"Right\",\"Right\",\"Left\",\"Left\",\"Left\",\"Left\",\"Right\",\"Left\",\"Right\",\"Right\",\"Right\",\"Right\",\"Right\",\"Left\",\"Left\",\"Right\",\"Right\",\"Right\",\"Right\",\"Right\",\"Right\",\"Right\",\"Left\",\"Right\",\"Right\",\"Right\",\"Left\",\"Right\",\"Right\",\"Left\",\"Right\",\"Right\",\"Right\",\"Right\",\"Right\",\"Right\",\"Right\",\"Right\",\"Right\",\"Left\",\"Left\",\"Left\",\"Right\",\"Left\",\"Right\",\"Left\",\"Right\",\"Left\",\"Right\",\"Right\",\"Right\",\"Right\",\"Right\",\"Right\",\"Right\",\"Right\",\"Left\",\"Right\",\"Right\",\"Right\",\"Right\",\"Right\",\"Right\",\"Right\",\"Right\",\"Left\",\"Right\",\"Right\",\"Right\",\"Right\",\"Right\",\"Right\",\"Right\",\"Right\",\"Left\",\"Left\",\"Right\",\"Left\",\"Right\",\"Right\",\"Right\",\"Left\",\"Right\",\"Right\",\"Left\",\"Right\",\"Right\",\"Right\",\"Right\",\"Right\",\"Right\",\"Right\",\"Right\",\"Right\",\"Left\",\"Right\",\"Left\",\"Right\",\"Right\",\"Right\",\"Left\",\"Right\",\"Right\",\"Right\",\"Right\",\"Right\",\"Left\",\"Right\",\"Left\",\"Left\",\"Right\",\"Left\",\"Right\",\"Right\",\"Right\",\"Left\",\"Left\",\"Right\",\"Right\",\"Left\",\"Left\",\"Right\",\"Left\",\"Right\",\"Right\",\"Left\",\"Right\",\"Right\",\"Left\",\"Right\",\"Right\",\"Right\",\"Right\",\"Right\",\"Right\",\"Right\",\"Right\",\"Right\",\"Right\",\"Right\",\"Right\",\"Right\",\"Right\",\"Right\",\"Right\",\"Right\",\"Right\",\"Right\",\"Right\",\"Right\",\"Left\",\"Right\",\"Right\",\"Right\",\"Right\",\"Right\",\"Right\",\"Right\",\"Right\",\"Right\",\"Right\",\"Left\",\"Right\",\"Right\",\"Right\",\"Left\",\"Left\",\"Right\",\"Left\",\"Right\",\"Left\",\"Right\",\"Left\",\"Right\",\"Right\",\"Left\",\"Right\",\"Right\",\"Left\",\"Right\",\"Left\",\"Right\",\"Left\",\"Right\",\"Left\",\"Right\",\"Right\",\"Right\",\"Right\",\"Right\",\"Left\",\"Right\",\"Left\",\"Right\",\"Right\",\"Right\",\"Right\",\"Right\",\"Right\",\"Right\",\"Right\",\"Right\",\"Left\",\"Left\",\"Left\",\"Left\",\"Left\",\"Right\",\"Right\",\"Right\",\"Right\",\"Right\",\"Left\",\"Left\",\"Right\",\"Left\",\"Right\",\"Right\",\"Left\",\"Right\",\"Right\",\"Right\",\"Right\",\"Left\",\"Left\",\"Left\",\"Right\",\"Left\",\"Right\",\"Right\",\"Right\",\"Left\",\"Right\",\"Right\",\"Right\",\"Right\",\"Right\",\"Right\",\"Left\",\"Right\",\"Right\",\"Right\",\"Right\",\"Left\",\"Right\",\"Right\",\"Right\",\"Right\",\"Right\",\"Left\",\"Left\",\"Right\",\"Right\",\"Right\",\"Left\",\"Right\",\"Right\",\"Right\",\"Right\",\"Left\",\"Right\",\"Left\",\"Right\",\"Right\",\"Left\",\"Right\",\"Right\",\"Right\",\"Right\",\"Right\",\"Left\",\"Right\",\"Right\",\"Right\",\"Right\",\"Right\",\"Right\",\"Right\",\"Left\",\"Right\",\"Right\",\"Left\",\"Right\",\"Right\",\"Left\",\"Right\",\"Left\",\"Right\",\"Right\",\"Right\",\"Right\",\"Right\",\"Right\",\"Right\",\"Left\",\"Right\",\"Left\",\"Right\",\"Right\",\"Right\",\"Right\",\"Right\",\"Right\",\"Right\",\"Right\",\"Right\",\"Left\",\"Right\",\"Left\",\"Left\",\"Right\",\"Right\",\"Right\",\"Right\",\"Right\",\"Left\",\"Right\",\"Right\",\"Left\",\"Right\",\"Right\",\"Right\",\"Right\",\"Right\",\"Right\",\"Right\",\"Left\",\"Left\",\"Left\",\"Right\",\"Right\",\"Right\",\"Right\",\"Right\",\"Right\",\"Right\",\"Left\",\"Right\",\"Right\",\"Right\",\"Right\",\"Left\",\"Left\",\"Right\",\"Right\",\"Right\",\"Right\",\"Right\",\"Right\",\"Right\",\"Right\",\"Right\",\"Right\",\"Right\",\"Right\",\"Right\",\"Right\",\"Right\",\"Right\",\"Left\",\"Right\",\"Right\",\"Right\",\"Right\",\"Left\",\"Right\",\"Left\",\"Right\",\"Right\",\"Right\",\"Left\",\"Left\",\"Right\",\"Right\",\"Right\",\"Right\",\"Right\",\"Right\",\"Right\",\"Right\",\"Right\",\"Right\",\"Right\",\"Left\",\"Right\",\"Right\",\"Right\",\"Right\",\"Right\",\"Left\",\"Left\",\"Right\",\"Right\",\"Right\",\"Right\",\"Right\",\"Right\",\"Right\",\"Right\",\"Right\",\"Right\",\"Left\",\"Right\",\"Right\",\"Right\",\"Right\",\"Right\",\"Right\",\"Right\",\"Right\",\"Right\",\"Right\",\"Right\",\"Left\",\"Right\",\"Left\",\"Right\",\"Right\",\"Right\",\"Right\",\"Right\",\"Right\",\"Left\",\"Left\",\"Left\",\"Right\",\"Right\",\"Right\",\"Left\",\"Right\",\"Right\",\"Right\",\"Left\",\"Left\",\"Right\",\"Right\",\"Right\",\"Left\",\"Right\",\"Left\",\"Right\",\"Left\",\"Right\",\"Right\",\"Left\",\"Right\",\"Left\",\"Right\",\"Right\",\"Left\",\"Right\",\"Right\",\"Right\",\"Right\",\"Right\",\"Left\",\"Right\",\"Left\",\"Right\",\"Right\",\"Right\",\"Right\",\"Left\",\"Right\",\"Right\",\"Right\",\"Right\",\"Left\",\"Left\",\"Left\",\"Right\",\"Left\",\"Right\",\"Left\",\"Right\",\"Right\",\"Left\",\"Right\",\"Right\",\"Left\",\"Right\",\"Right\",\"Right\",\"Right\",\"Right\",\"Right\",\"Left\",\"Right\",\"Right\",\"Left\",\"Right\",\"Right\",\"Left\",\"Left\",\"Right\",\"Right\",\"Right\",\"Right\",\"Right\",\"Right\",\"Right\",\"Right\",\"Right\",\"Right\",\"Left\",\"Right\",\"Left\",\"Right\",\"Left\",\"Right\",\"Right\",\"Left\",\"Right\",\"Right\",\"Right\",\"Right\",\"Right\",\"Right\",\"Right\",\"Left\",\"Right\",\"Right\",\"Right\",\"Left\",\"Left\",\"Right\",\"Right\",\"Right\",\"Right\",\"Left\",\"Right\",\"Right\",\"Right\",\"Right\",\"Right\",\"Right\",\"Right\",\"Right\",\"Right\",\"Right\",\"Right\",\"Left\",\"Right\",\"Right\",\"Right\",\"Right\",\"Left\",\"Right\",\"Right\",\"Right\",\"Right\",\"Right\",\"Right\",\"Right\",\"Right\",\"Right\",\"Right\",\"Right\",\"Right\",\"Right\",\"Right\",\"Right\",\"Right\",\"Right\",\"Left\",\"Left\",\"Left\",\"Left\",\"Left\",\"Right\",\"Left\",\"Right\",\"Left\",\"Right\",\"Right\",\"Right\",\"Right\",\"Left\",\"Left\",\"Right\",\"Right\",\"Right\",\"Left\",\"Right\",\"Right\",\"Right\",\"Right\",\"Right\",\"Right\",\"Right\",\"Right\",\"Right\",\"Right\",\"Left\",\"Left\",\"Right\",\"Right\",\"Right\",\"Left\",\"Right\",\"Left\",\"Left\",\"Right\",\"Left\",\"Right\",\"Right\",\"Right\",\"Right\",\"Right\",\"Left\",\"Right\",\"Right\",\"Right\",\"Left\",\"Right\",\"Right\",\"Left\",\"Right\",\"Right\",\"Right\",\"Right\",\"Right\",\"Left\",\"Right\",\"Right\",\"Right\",\"Right\",\"Left\",\"Right\",\"Left\",\"Right\",\"Right\",\"Right\",\"Right\",\"Right\",\"Right\",\"Right\",\"Left\",\"Right\",\"Left\",\"Left\",\"Left\",\"Right\",\"Right\",\"Right\",\"Right\",\"Right\",\"Right\",\"Right\",\"Right\",\"Left\",\"Right\",\"Right\",\"Right\",\"Right\",\"Right\",\"Right\",\"Right\",\"Right\",\"Right\",\"Right\",\"Right\",\"Right\",\"Left\",\"Left\",\"Right\",\"Left\",\"Right\",\"Right\",\"Right\",\"Left\",\"Right\",\"Right\",\"Left\",\"Left\",\"Right\",\"Right\",\"Right\",\"Right\",\"Right\",\"Right\",\"Right\",\"Right\",\"Right\",\"Left\",\"Right\",\"Right\",\"Right\",\"Right\",\"Right\",\"Right\",\"Right\",\"Right\",\"Right\",\"Right\",\"Left\",\"Right\",\"Left\",\"Left\",\"Left\",\"Right\",\"Left\",\"Right\",\"Right\",\"Right\",\"Left\",\"Right\",\"Right\",\"Right\",\"Right\",\"Right\",\"Right\",\"Right\",\"Right\",\"Right\",\"Right\",\"Left\",\"Right\",\"Left\",\"Right\",\"Right\",\"Right\",\"Left\",\"Right\",\"Left\",\"Right\",\"Right\",\"Right\",\"Right\",\"Right\",\"Right\",\"Right\",\"Right\",\"Right\",\"Right\",\"Right\",\"Right\",\"Left\",\"Left\",\"Right\",\"Right\",\"Right\",\"Right\",\"Right\",\"Left\",\"Right\",\"Right\",\"Right\",\"Right\",\"Right\",\"Right\",\"Right\",\"Left\",\"Right\",\"Right\",\"Right\",\"Right\",\"Right\",\"Right\",\"Right\",\"Right\",\"Right\",\"Left\",\"Right\",\"Right\",\"Right\",\"Right\",\"Right\",\"Left\",\"Right\",\"Right\",\"Right\",\"Right\",\"Right\",\"Left\",\"Left\",\"Left\",\"Right\",\"Right\",\"Right\",\"Right\",\"Left\",\"Right\",\"Left\",\"Right\",\"Right\",\"Left\",\"Right\",\"Right\",\"Right\",\"Left\",\"Right\",\"Right\",\"Right\",\"Right\",\"Right\",\"Right\",\"Right\",\"Left\",\"Right\",\"Left\",\"Right\",\"Right\",\"Left\",\"Right\",\"Right\",\"Right\",\"Left\",\"Right\",\"Left\",\"Right\",\"Right\",\"Left\",\"Right\",\"Right\",\"Left\",\"Right\",\"Left\",\"Right\",\"Right\",\"Right\",\"Right\",\"Left\",\"Left\",\"Left\",\"Left\",\"Left\",\"Right\",\"Right\",\"Right\",\"Right\",\"Right\",\"Left\",\"Right\",\"Right\",\"Right\",\"Right\",\"Right\",\"Left\",\"Right\",\"Right\",\"Left\",\"Left\",\"Left\",\"Right\",\"Right\",\"Right\",\"Left\",\"Left\",\"Right\",\"Right\",\"Right\",\"Right\",\"Right\",\"Right\",\"Left\",\"Right\",\"Right\",\"Right\",\"Right\",\"Right\",\"Right\",\"Right\",\"Right\",\"Right\",\"Right\",\"Left\",\"Right\",\"Right\",\"Right\",\"Right\",\"Right\",\"Left\",\"Right\",\"Left\",\"Left\",\"Right\",\"Right\",\"Right\",\"Right\",\"Right\",\"Right\",\"Right\",\"Right\",\"Right\",\"Right\",\"Left\",\"Right\",\"Left\",\"Right\",\"Left\",\"Right\",\"Left\",\"Right\",\"Right\",\"Right\",\"Right\",\"Right\",\"Right\",\"Left\",\"Right\",\"Right\",\"Right\",\"Right\",\"Left\",\"Right\",\"Right\",\"Right\",\"Right\",\"Right\",\"Right\",\"Right\",\"Right\",\"Left\",\"Right\",\"Right\",\"Right\",\"Right\",\"Right\",\"Right\",\"Right\",\"Right\",\"Left\",\"Right\",\"Left\",\"Right\",\"Left\",\"Left\",\"Right\",\"Right\",\"Right\",\"Left\",\"Right\",\"Right\",\"Right\",\"Right\",\"Left\",\"Right\",\"Right\",\"Right\",\"Right\",\"Right\",\"Right\",\"Left\",\"Right\",\"Left\",\"Right\",\"Right\",\"Right\",\"Right\",\"Right\",\"Right\",\"Left\",\"Right\",\"Left\",\"Right\",\"Right\",\"Right\",\"Right\",\"Left\",\"Right\",\"Left\",\"Right\",\"Right\",\"Left\",\"Left\",\"Left\",\"Left\",\"Right\",\"Left\",\"Left\",\"Left\",\"Right\",\"Left\",\"Right\",\"Right\",\"Right\",\"Left\",\"Left\",\"Right\",\"Left\",\"Left\",\"Right\",\"Right\",\"Right\",\"Right\",\"Left\",\"Right\",\"Left\",\"Right\",\"Right\",\"Right\",\"Left\",\"Right\",\"Right\",\"Right\",\"Right\",\"Left\",\"Right\",\"Right\",\"Right\",\"Left\",\"Right\",\"Right\",\"Left\",\"Right\",\"Left\",\"Right\",\"Right\",\"Right\",\"Left\",\"Right\",\"Right\",\"Left\",\"Right\",\"Right\",\"Right\",\"Left\",\"Right\",\"Left\",\"Right\",\"Left\",\"Right\",\"Right\",\"Left\",\"Left\",\"Right\",\"Right\",\"Left\",\"Right\",\"Right\",\"Right\",\"Left\",\"Right\",\"Right\",\"Right\",\"Right\",\"Left\",\"Right\",\"Right\",\"Right\",\"Left\",\"Right\",\"Right\",\"Right\",\"Right\",\"Right\",\"Right\",\"Right\",\"Right\",\"Right\",\"Right\",\"Right\",\"Right\",\"Right\",\"Right\",\"Right\",\"Right\",\"Left\",\"Left\",\"Right\",\"Right\",\"Right\",\"Right\",\"Right\",\"Right\",\"Left\",\"Left\",\"Right\",\"Left\",\"Right\",\"Left\",\"Right\",\"Left\",\"Left\",\"Right\",\"Right\",\"Left\",\"Right\",\"Left\",\"Right\",\"Right\",\"Right\",\"Right\",\"Right\",\"Right\",\"Left\",\"Left\",\"Left\",\"Right\",\"Left\",\"Right\",\"Right\",\"Right\",\"Right\",\"Right\",\"Left\",\"Left\",\"Left\",\"Right\",\"Right\",\"Right\",\"Right\",\"Left\",\"Right\",\"Left\",\"Right\",\"Right\",\"Left\",\"Left\",\"Right\",\"Right\",\"Right\",\"Right\",\"Right\",\"Right\",\"Left\",\"Right\",\"Right\",\"Left\",\"Right\",\"Right\",\"Right\",\"Right\",\"Right\",\"Left\",\"Left\",\"Right\",\"Right\",\"Right\",\"Left\",\"Left\",\"Right\",\"Right\",\"Right\",\"Right\",\"Right\",\"Right\",\"Left\",\"Right\",\"Right\",\"Right\",\"Right\",\"Right\",\"Right\",\"Right\",\"Right\",\"Right\",\"Right\",\"Left\",\"Right\",\"Left\",\"Right\",\"Right\",\"Right\",\"Right\",\"Right\",\"Right\",\"Left\",\"Right\",\"Right\",\"Right\",\"Right\",\"Right\",\"Right\",\"Right\",\"Right\",\"Right\",\"Left\",\"Right\",\"Right\",\"Right\",\"Left\",\"Right\",\"Right\",\"Left\",\"Right\",\"Left\",\"Right\",\"Right\",\"Right\",\"Right\",\"Right\",\"Right\",\"Left\",\"Right\",\"Right\",\"Right\",\"Right\",\"Right\",\"Right\",\"Right\",\"Right\",\"Right\",\"Right\",\"Left\",\"Right\",\"Right\",\"Right\",\"Right\",\"Right\",\"Right\",\"Right\",\"Right\",\"Right\",\"Right\",\"Right\",\"Right\",\"Left\",\"Right\",\"Right\",\"Right\",\"Right\",\"Right\",\"Left\",\"Right\",\"Right\",\"Left\",\"Right\",\"Right\",\"Right\",\"Right\",\"Right\",\"Right\",\"Right\",\"Left\",\"Right\",\"Left\",\"Right\",\"Right\",\"Right\",\"Right\",\"Right\",\"Right\",\"Right\",\"Right\",\"Right\",\"Right\",\"Right\",\"Right\",\"Right\",\"Right\",\"Right\",\"Right\",\"Right\",\"Right\",\"Right\",\"Right\",\"Right\",\"Right\",\"Right\",\"Right\",\"Right\",\"Left\",\"Right\",\"Right\",\"Right\",\"Right\",\"Right\",\"Right\",\"Right\",\"Left\",\"Right\",\"Right\",\"Left\",\"Left\",\"Right\",\"Right\",\"Right\",\"Right\",\"Right\",\"Right\",\"Right\",\"Left\",\"Right\",\"Right\",\"Right\",\"Right\",\"Left\",\"Right\",\"Right\",\"Right\",\"Right\",\"Right\",\"Left\",\"Right\",\"Right\",\"Right\",\"Right\",\"Right\",\"Left\",\"Left\",\"Right\",\"Right\",\"Right\",\"Left\",\"Right\",\"Right\",\"Right\",\"Right\",\"Left\",\"Right\",\"Right\",\"Right\",\"Right\",\"Right\",\"Left\",\"Right\",\"Right\",\"Right\",\"Left\",\"Right\",\"Left\",\"Right\",\"Right\",\"Right\",\"Right\",\"Right\",\"Right\",\"Left\",\"Right\",\"Right\",\"Right\",\"Right\",\"Right\",\"Right\",\"Right\",\"Right\",\"Right\",\"Right\",\"Left\",\"Right\",\"Right\",\"Right\",\"Right\",\"Right\",\"Right\",\"Right\",\"Right\",\"Left\",\"Right\",\"Left\",\"Right\",\"Right\",\"Left\",\"Right\",\"Right\",\"Right\",\"Right\",\"Right\",\"Right\",\"Left\",\"Right\",\"Right\",\"Right\",\"Right\",\"Right\",\"Left\",\"Right\",\"Right\",\"Right\",\"Right\",\"Right\",\"Left\",\"Right\",\"Right\",\"Right\",\"Right\",\"Right\",\"Right\",\"Right\",\"Right\",\"Left\",\"Left\",\"Left\",\"Right\",\"Right\",\"Right\",\"Right\",\"Right\",\"Left\",\"Right\",\"Left\",\"Right\",\"Left\",\"Left\",\"Right\",\"Right\",\"Right\",\"Right\",\"Right\",\"Left\",\"Left\",\"Right\",\"Right\",\"Right\",\"Left\",\"Left\",\"Left\",\"Right\",\"Right\",\"Right\",\"Right\",\"Right\",\"Right\",\"Right\",\"Right\",\"Right\",\"Right\",\"Right\",\"Left\",\"Left\",\"Right\",\"Right\",\"Right\",\"Right\",\"Right\",\"Left\",\"Right\",\"Right\",\"Right\",\"Right\",\"Right\",\"Right\",\"Left\",\"Right\",\"Right\",\"Right\",\"Right\",\"Right\",\"Right\",\"Left\",\"Right\",\"Right\",\"Right\",\"Right\",\"Right\",\"Right\",\"Right\",\"Right\",\"Right\",\"Right\",\"Right\",\"Right\",\"Right\",\"Right\",\"Right\",\"Right\",\"Left\",\"Right\",\"Left\",\"Right\",\"Right\",\"Right\",\"Left\",\"Right\",\"Right\",\"Right\",\"Right\",\"Right\",\"Right\",\"Right\",\"Right\",\"Right\",\"Right\",\"Right\",\"Right\",\"Left\",\"Left\",\"Right\",\"Left\",\"Right\",\"Right\",\"Right\",\"Right\",\"Left\",\"Right\",\"Left\",\"Right\",\"Left\",\"Right\",\"Right\",\"Left\",\"Right\",\"Right\",\"Right\",\"Left\",\"Left\",\"Right\",\"Left\",\"Right\",\"Right\",\"Left\",\"Right\",\"Left\",\"Left\",\"Left\",\"Left\",\"Right\",\"Left\",\"Right\",\"Right\",\"Right\",\"Left\",\"Right\",\"Right\",\"Left\",\"Right\",\"Right\",\"Right\",\"Right\",\"Right\",\"Left\",\"Right\",\"Left\",\"Right\",\"Right\",\"Right\",\"Left\",\"Left\",\"Left\",\"Right\",\"Right\",\"Right\",\"Right\",\"Left\",\"Left\",\"Right\",\"Left\",\"Right\",\"Right\",\"Right\",\"Right\",\"Right\",\"Left\",\"Right\",\"Right\",\"Left\",\"Left\",\"Left\",\"Left\",\"Right\",\"Right\",\"Right\",\"Left\",\"Left\",\"Right\",\"Left\",\"Left\",\"Right\",\"Left\",\"Right\",\"Right\",\"Right\",\"Right\",\"Left\",\"Left\",\"Left\",\"Right\",\"Left\",\"Left\",\"Right\",\"Right\",\"Right\",\"Right\",\"Left\",\"Left\",\"Left\",\"Right\",\"Right\",\"Left\",\"Right\",\"Left\",\"Right\",\"Left\",\"Right\",\"Right\",\"Right\",\"Left\",\"Right\",\"Right\",\"Right\",\"Right\",\"Right\",\"Right\",\"Right\",\"Left\",\"Right\",\"Right\",\"Left\",\"Right\",\"Right\",\"Left\",\"Right\",\"Right\",\"Right\",\"Right\",\"Right\",\"Right\",\"Left\",\"Right\",\"Right\",\"Right\",\"Left\",\"Right\",\"Right\",\"Right\",\"Right\",\"Left\",\"Right\",\"Right\",\"Right\",\"Left\",\"Left\",\"Right\",\"Right\",\"Right\",\"Left\",\"Left\",\"Right\",\"Right\",\"Right\",\"Left\",\"Left\",\"Right\",\"Left\",\"Right\",\"Left\",\"Left\",\"Left\",\"Right\",\"Right\",\"Right\",\"Right\",\"Right\",\"Right\",\"Left\",\"Right\",\"Right\",\"Right\",\"Right\",\"Left\",\"Right\",\"Right\",\"Right\",\"Right\",\"Right\",\"Right\",\"Right\",\"Left\",\"Right\",\"Right\",\"Right\",\"Right\",\"Right\",\"Right\",\"Left\",\"Right\",\"Right\",\"Left\",\"Right\",\"Right\",\"Right\",\"Right\",\"Right\",\"Right\",\"Right\",\"Right\",\"Left\",\"Left\",\"Left\",\"Right\",\"Right\",\"Left\",\"Right\",\"Left\",\"Left\",\"Right\",\"Right\",\"Left\",\"Right\",\"Right\",\"Right\",\"Right\",\"Right\",\"Right\",\"Left\",\"Left\",\"Right\",\"Right\",\"Left\",\"Left\",\"Left\",\"Right\",\"Right\",\"Right\",\"Left\",\"Left\",\"Right\",\"Right\",\"Right\",\"Right\",\"Left\",\"Right\",\"Right\",\"Right\",\"Right\",\"Right\",\"Right\",\"Right\",\"Right\",\"Right\",\"Right\",\"Right\",\"Left\",\"Left\",\"Right\",\"Right\",\"Left\",\"Right\",\"Right\",\"Left\",\"Right\",\"Right\",\"Right\",\"Right\",\"Left\",\"Right\",\"Right\",\"Right\",\"Right\",\"Right\",\"Left\",\"Left\",\"Right\",\"Right\",\"Right\",\"Right\",\"Right\",\"Right\",\"Left\",\"Right\",\"Right\",\"Right\",\"Right\",\"Right\",\"Left\",\"Right\",\"Right\",\"Right\",\"Right\",\"Right\",\"Left\",\"Right\",\"Right\",\"Right\",\"Right\",\"Left\",\"Right\",\"Right\",\"Right\",\"Right\",\"Right\",\"Left\",\"Right\",\"Left\",\"Right\",\"Right\",\"Right\",\"Left\",\"Right\",\"Left\",\"Left\",\"Right\",\"Right\",\"Right\",\"Right\",\"Left\",\"Right\",\"Left\",\"Right\",\"Right\",\"Right\",\"Right\",\"Right\",\"Right\",\"Right\",\"Left\",\"Right\",\"Right\",\"Right\",\"Right\",\"Left\",\"Left\",\"Right\",\"Left\",\"Right\",\"Right\",\"Right\",\"Right\",\"Left\",\"Right\",\"Right\",\"Right\",\"Right\",\"Right\",\"Right\",\"Right\",\"Right\",\"Right\",\"Left\",\"Right\",\"Right\",\"Left\",\"Right\",\"Right\",\"Right\",\"Left\",\"Right\",\"Right\",\"Left\",\"Left\",\"Right\",\"Right\",\"Right\",\"Right\",\"Right\",\"Right\",\"Right\",\"Right\",\"Right\",\"Left\",\"Right\",\"Right\",\"Right\",\"Right\",\"Right\",\"Right\",\"Right\",\"Left\",\"Right\",\"Left\",\"Right\",\"Right\",\"Right\",\"Right\",\"Right\",\"Right\",\"Right\",\"Right\",\"Right\",\"Right\",\"Right\",\"Right\",\"Left\",\"Right\",\"Right\",\"Right\",\"Left\",\"Right\",\"Right\",\"Right\",\"Left\",\"Right\",\"Left\",\"Left\",\"Right\",\"Right\",\"Right\",\"Right\",\"Right\",\"Left\",\"Right\",\"Right\",\"Left\",\"Left\",\"Right\",\"Left\",\"Left\",\"Left\",\"Right\",\"Left\",\"Right\",\"Right\",\"Right\",\"Right\",\"Right\",\"Right\",\"Right\",\"Left\",\"Right\",\"Left\",\"Left\",\"Right\",\"Left\",\"Right\",\"Right\",\"Right\",\"Right\",\"Right\",\"Right\",\"Right\",\"Right\",\"Right\",\"Right\",\"Right\",\"Right\",\"Right\",\"Right\",\"Right\",\"Right\",\"Right\",\"Left\",\"Left\",\"Right\",\"Right\",\"Right\",\"Right\",\"Right\",\"Right\",\"Right\",\"Right\",\"Right\",\"Right\",\"Right\",\"Right\",\"Right\",\"Right\",\"Right\",\"Right\",\"Right\",\"Right\",\"Right\",\"Right\",\"Right\",\"Left\",\"Left\",\"Left\",\"Right\",\"Left\",\"Right\",\"Right\",\"Left\",\"Right\",\"Left\",\"Right\",\"Right\",\"Right\",\"Right\",\"Right\",\"Left\",\"Right\",\"Right\",\"Right\",\"Right\",\"Right\",\"Left\",\"Right\",\"Right\",\"Left\",\"Left\",\"Right\",\"Right\",\"Right\",\"Right\",\"Right\",\"Right\",\"Right\",\"Right\",\"Right\",\"Right\",\"Right\",\"Right\",\"Right\",\"Left\",\"Left\",\"Left\",\"Left\",\"Right\",\"Left\",\"Right\",\"Right\",\"Right\",\"Right\",\"Right\",\"Left\",\"Left\",\"Right\",\"Right\",\"Right\",\"Right\",\"Right\",\"Right\",\"Right\",\"Right\",\"Right\",\"Right\",\"Right\",\"Right\",\"Right\",\"Right\",\"Right\",\"Right\",\"Right\",\"Left\",\"Right\",\"Right\",\"Right\",\"Left\",\"Right\",\"Left\",\"Left\",\"Right\",\"Right\",\"Right\",\"Right\",\"Left\",\"Right\",\"Right\",\"Right\",\"Right\",\"Left\",\"Right\",\"Left\",\"Left\",\"Right\",\"Right\",\"Right\",\"Right\",\"Right\",\"Right\",\"Right\",\"Right\",\"Right\",\"Right\",\"Right\",\"Right\",\"Left\",\"Right\",\"Right\",\"Right\",\"Right\",\"Right\",\"Right\",\"Right\",\"Right\",\"Right\",\"Right\",\"Right\",\"Left\",\"Right\",\"Right\",\"Left\",\"Left\",\"Left\",\"Right\",\"Right\",\"Right\",\"Left\",\"Right\",\"Right\",\"Right\",\"Left\",\"Right\",\"Right\",\"Right\",\"Right\",\"Right\",\"Right\",\"Right\",\"Right\",\"Right\",\"Right\",\"Right\",\"Right\",\"Left\",\"Left\",\"Left\",\"Right\",\"Left\",\"Right\",\"Right\",\"Right\",\"Left\",\"Right\",\"Right\",\"Right\",\"Left\",\"Left\",\"Right\",\"Left\",\"Right\",\"Right\",\"Right\",\"Right\",\"Right\",\"Right\",\"Left\",\"Right\",\"Right\",\"Right\",\"Right\",\"Right\",\"Right\",\"Right\",\"Right\",\"Right\",\"Right\",\"Left\",\"Right\",\"Right\",\"Right\",\"Right\",\"Right\",\"Right\",\"Left\",\"Right\",\"Right\",\"Right\",\"Right\",\"Right\",\"Right\",\"Right\",\"Right\",\"Right\",\"Left\",\"Right\",\"Right\",\"Right\",\"Right\",\"Left\",\"Right\",\"Right\",\"Right\",\"Left\",\"Right\",\"Right\",\"Right\",\"Right\",\"Right\",\"Left\",\"Right\",\"Right\",\"Right\",\"Left\",\"Right\",\"Right\",\"Left\",\"Right\",\"Right\",\"Left\",\"Right\",\"Left\",\"Left\",\"Right\",\"Left\",\"Right\",\"Right\",\"Right\",\"Right\",\"Right\",\"Left\",\"Right\",\"Right\",\"Right\",\"Right\",\"Right\",\"Left\",\"Right\",\"Right\",\"Left\",\"Right\",\"Right\",\"Right\",\"Right\",\"Right\",\"Right\",\"Right\",\"Right\",\"Left\",\"Right\",\"Right\",\"Right\",\"Left\",\"Left\",\"Right\",\"Right\",\"Right\",\"Right\",\"Left\",\"Left\",\"Right\",\"Right\",\"Left\",\"Right\",\"Right\",\"Right\",\"Right\",\"Right\",\"Right\",\"Right\",\"Right\",\"Left\",\"Left\",\"Right\",\"Right\",\"Right\",\"Left\",\"Right\",\"Right\",\"Right\",\"Right\",\"Right\",\"Right\",\"Right\",\"Right\",\"Right\",\"Left\",\"Left\",\"Right\",\"Right\",\"Right\",\"Right\",\"Right\",\"Right\",\"Right\",\"Left\",\"Left\",\"Left\",\"Left\",\"Right\",\"Right\",\"Right\",\"Left\",\"Left\",\"Left\",\"Right\",\"Right\",\"Right\",\"Right\",\"Left\",\"Left\",\"Right\",\"Right\",\"Right\",\"Right\",\"Right\",\"Right\",\"Right\",\"Right\",\"Right\",\"Right\",\"Right\",\"Right\",\"Left\",\"Right\",\"Left\",\"Right\",\"Right\",\"Right\",\"Right\",\"Right\",\"Right\",\"Left\",\"Right\",\"Right\",\"Right\",\"Right\",\"Right\",\"Right\",\"Right\",\"Left\",\"Right\",\"Left\",\"Left\",\"Right\",\"Right\",\"Right\",\"Left\",\"Right\",\"Left\",\"Right\",\"Right\",\"Right\",\"Right\",\"Right\",\"Left\",\"Left\",\"Right\",\"Right\",\"Left\",\"Left\",\"Right\",\"Right\",\"Right\",\"Left\",\"Right\",\"Right\",\"Right\",\"Right\",\"Right\",\"Left\",\"Right\",\"Right\",\"Right\",\"Right\",\"Left\",\"Right\",\"Left\",\"Left\",\"Right\",\"Right\",\"Right\",\"Right\",\"Right\",\"Left\",\"Right\",\"Right\",\"Right\",\"Right\",\"Right\",\"Right\",\"Left\",\"Left\",\"Left\",\"Right\",\"Right\",\"Left\",\"Left\",\"Right\",\"Left\",\"Right\",\"Right\",\"Right\",\"Right\",\"Right\",\"Right\",\"Right\",\"Right\",\"Right\",\"Right\",\"Right\",\"Right\",\"Right\",\"Right\",\"Left\",\"Left\",\"Right\",\"Right\",\"Right\",\"Right\",\"Right\",\"Left\",\"Right\",\"Left\",\"Right\",\"Right\",\"Right\",\"Right\",\"Left\",\"Left\",\"Right\",\"Right\",\"Right\",\"Left\",\"Right\",\"Right\",\"Right\",\"Right\",\"Right\",\"Right\",\"Left\",\"Right\",\"Left\",\"Left\",\"Right\",\"Left\",\"Right\",\"Right\",\"Left\",\"Left\",\"Right\",\"Left\",\"Left\",\"Right\",\"Right\",\"Right\",\"Right\",\"Left\",\"Right\",\"Right\",\"Left\",\"Right\",\"Right\",\"Right\",\"Right\",\"Right\",\"Right\",\"Left\",\"Right\",\"Left\",\"Right\",\"Right\",\"Left\",\"Right\",\"Left\",\"Right\",\"Left\",\"Right\",\"Left\",\"Right\",\"Right\",\"Left\",\"Right\",\"Right\",\"Right\",\"Right\",\"Right\",\"Right\",\"Right\",\"Left\",\"Right\",\"Right\",\"Right\",\"Right\",\"Right\",\"Right\",\"Right\",\"Right\",\"Left\",\"Left\",\"Right\",\"Right\",\"Left\",\"Left\",\"Right\",\"Right\",\"Right\",\"Right\",\"Right\",\"Right\",\"Left\",\"Right\",\"Right\",\"Right\",\"Left\",\"Right\",\"Right\",\"Right\",\"Right\",\"Left\",\"Right\",\"Right\",\"Right\",\"Right\",\"Right\",\"Right\",\"Right\",\"Right\",\"Right\",\"Left\",\"Right\",\"Right\",\"Right\",\"Right\",\"Left\",\"Right\",\"Left\",\"Right\",\"Left\",\"Right\",\"Right\",\"Right\",\"Right\",\"Right\",\"Right\",\"Left\",\"Right\",\"Right\",\"Right\",\"Right\",\"Left\",\"Right\",\"Right\",\"Left\",\"Right\",\"Right\",\"Left\",\"Right\",\"Right\",\"Left\",\"Left\",\"Right\",\"Right\",\"Right\",\"Right\",\"Left\",\"Right\",\"Right\",\"Right\",\"Right\",\"Right\",\"Right\",\"Right\",\"Right\",\"Right\",\"Right\",\"Right\",\"Left\",\"Right\",\"Left\",\"Right\",\"Right\",\"Right\",\"Right\",\"Right\",\"Right\",\"Right\",\"Right\",\"Right\",\"Right\",\"Right\",\"Right\",\"Right\",\"Right\",\"Right\",\"Right\",\"Right\",\"Right\",\"Right\",\"Left\",\"Right\",\"Right\",\"Right\",\"Right\",\"Right\",\"Right\",\"Left\",\"Right\",\"Right\",\"Left\",\"Left\",\"Right\",\"Right\",\"Right\",\"Right\",\"Right\",\"Right\",\"Right\",\"Right\",\"Left\",\"Right\",\"Right\",\"Left\",\"Right\",\"Right\",\"Right\",\"Right\",\"Right\",\"Right\",\"Right\",\"Right\",\"Left\",\"Right\",\"Left\",\"Right\",\"Right\",\"Right\",\"Right\",\"Right\",\"Left\",\"Right\",\"Right\",\"Right\",\"Right\",\"Right\",\"Right\",\"Right\",\"Right\",\"Right\",\"Right\",\"Left\",\"Right\",\"Left\",\"Right\",\"Left\",\"Right\",\"Right\",\"Right\",\"Left\",\"Right\",\"Right\",\"Left\",\"Left\",\"Right\",\"Right\",\"Right\",\"Right\",\"Right\",\"Right\",\"Right\",\"Right\",\"Right\",\"Right\",\"Right\",\"Right\",\"Right\",\"Right\",\"Right\",\"Right\",\"Right\",\"Right\",\"Right\",\"Right\",\"Right\",\"Right\",\"Right\",\"Left\",\"Left\",\"Right\",\"Right\",\"Right\",\"Right\",\"Right\",\"Right\",\"Right\",\"Left\",\"Right\",\"Right\",\"Right\",\"Left\",\"Left\",\"Right\",\"Right\",\"Right\",\"Right\",\"Right\",\"Right\",\"Right\",\"Left\",\"Right\",\"Left\",\"Left\",\"Right\",\"Left\",\"Left\",\"Right\",\"Right\",\"Left\",\"Right\",\"Left\",\"Left\",\"Right\",\"Right\",\"Right\",\"Right\",\"Left\",\"Left\",\"Left\",\"Right\",\"Right\",\"Right\",\"Left\",\"Right\",\"Right\",\"Right\",\"Right\",\"Right\",\"Right\",\"Right\",\"Right\",\"Right\",\"Right\",\"Left\",\"Right\",\"Left\",\"Left\",\"Right\",\"Right\",\"Right\",\"Left\",\"Right\",\"Left\",\"Right\",\"Right\",\"Right\",\"Left\",\"Left\",\"Right\",\"Right\",\"Right\",\"Left\",\"Right\",\"Left\",\"Right\",\"Right\",\"Right\",\"Right\",\"Right\",\"Right\",\"Right\",\"Right\",\"Right\",\"Right\",\"Left\",\"Right\",\"Left\",\"Right\",\"Left\",\"Right\",\"Right\",\"Right\",\"Right\",\"Right\",\"Right\",\"Left\",\"Right\",\"Left\",\"Right\",\"Right\",\"Right\",\"Right\",\"Right\",\"Right\",\"Left\",\"Left\",\"Left\",\"Right\",\"Right\",\"Right\",\"Left\",\"Left\",\"Right\",\"Right\",\"Right\",\"Left\",\"Right\",\"Right\",\"Right\",\"Right\",\"Right\",\"Left\",\"Right\",\"Right\",\"Left\",\"Right\",\"Left\",\"Right\",\"Right\",\"Right\",\"Left\",\"Right\",\"Right\",\"Right\",\"Left\",\"Right\",\"Right\",\"Right\",\"Right\",\"Right\",\"Right\",\"Right\",\"Right\",\"Right\",\"Right\",\"Left\",\"Right\",\"Left\",\"Left\",\"Right\",\"Right\",\"Right\",\"Right\",\"Right\",\"Right\",\"Right\",\"Right\",\"Right\",\"Right\",\"Left\",\"Right\",\"Left\",\"Left\",\"Right\",\"Right\",\"Right\",\"Right\",\"Left\",\"Right\",\"Left\",\"Right\",\"Right\",\"Right\",\"Right\",\"Right\",\"Right\",\"Left\",\"Right\",\"Right\",\"Right\",\"Right\",\"Right\",\"Right\",\"Right\",\"Right\",\"Right\",\"Right\",\"Right\",\"Left\",\"Right\",\"Right\",\"Right\",\"Left\",\"Right\",\"Right\",\"Left\",\"Right\",\"Right\",\"Right\",\"Right\",\"Left\",\"Right\",\"Right\",\"Right\",\"Right\",\"Right\",\"Right\",\"Right\",\"Left\",\"Right\",\"Right\",\"Right\",\"Right\",\"Right\",\"Right\",\"Right\",\"Right\",\"Left\",\"Right\",\"Right\",\"Right\",\"Right\",\"Right\",\"Left\",\"Left\",\"Left\",\"Right\",\"Left\",\"Right\",\"Right\",\"Right\",\"Left\",\"Right\",\"Left\",\"Right\",\"Right\",\"Left\",\"Right\",\"Left\",\"Right\",\"Right\",\"Right\",\"Right\",\"Right\",\"Right\",\"Right\",\"Left\",\"Left\",\"Right\",\"Right\",\"Right\",\"Right\",\"Right\",\"Left\",\"Right\",\"Left\",\"Right\",\"Right\",\"Left\",\"Right\",\"Right\",\"Left\",\"Right\",\"Left\",\"Right\",\"Right\",\"Right\",\"Right\",\"Right\",\"Right\",\"Right\",\"Left\",\"Right\",\"Right\",\"Left\",\"Right\",\"Left\",\"Left\",\"Right\",\"Right\",\"Left\",\"Left\",\"Right\",\"Right\",\"Right\",\"Right\",\"Left\",\"Right\",\"Right\",\"Right\",\"Right\",\"Right\",\"Left\",\"Right\",\"Right\",\"Left\",\"Right\",\"Right\",\"Left\",\"Left\",\"Left\",\"Right\",\"Right\",\"Right\",\"Right\",\"Right\",\"Right\",\"Right\",\"Right\",\"Right\",\"Left\",\"Right\",\"Right\",\"Right\",\"Right\",\"Right\",\"Right\",\"Right\",\"Left\",\"Right\",\"Right\",\"Right\",\"Right\",\"Right\",\"Right\",\"Right\",\"Right\",\"Left\",\"Left\",\"Right\",\"Right\",\"Right\",\"Right\",\"Right\",\"Right\",\"Right\",\"Right\",\"Right\",\"Right\",\"Right\",\"Right\",\"Right\",\"Right\",\"Right\",\"Right\",\"Right\",\"Left\",\"Right\",\"Left\",\"Right\",\"Left\",\"Right\",\"Right\",\"Right\",\"Right\",\"Left\",\"Left\",\"Right\",\"Left\",\"Right\",\"Right\",\"Right\",\"Right\",\"Right\",\"Right\",\"Left\",\"Right\",\"Right\",\"Right\",\"Right\",\"Right\",\"Right\",\"Right\",\"Right\",\"Left\",\"Left\",\"Left\",\"Right\",\"Left\",\"Right\",\"Right\",\"Left\",\"Right\",\"Right\",\"Right\",\"Right\",\"Left\",\"Right\",\"Right\",\"Right\",\"Left\",\"Right\",\"Left\",\"Left\",\"Right\",\"Right\",\"Right\",\"Right\",\"Right\",\"Left\",\"Right\",\"Right\",\"Left\",\"Right\",\"Right\",\"Right\",\"Right\",\"Right\",\"Right\",\"Left\",\"Right\",\"Right\",\"Right\",\"Right\",\"Right\",\"Right\",\"Right\",\"Right\",\"Right\",\"Left\",\"Right\",\"Right\",\"Right\",\"Right\",\"Left\",\"Right\",\"Left\",\"Right\",\"Right\",\"Right\",\"Right\",\"Right\",\"Right\",\"Right\",\"Right\",\"Right\",\"Right\",\"Right\",\"Right\",\"Right\",\"Right\",\"Left\",\"Right\",\"Right\",\"Right\",\"Right\",\"Right\",\"Right\",\"Right\",\"Right\",\"Right\",\"Left\",\"Right\",\"Right\",\"Right\",\"Right\",\"Right\",\"Right\",\"Right\",\"Right\",\"Right\",\"Left\",\"Right\",\"Left\",\"Right\",\"Right\",\"Left\",\"Right\",\"Left\",\"Right\",\"Left\",\"Left\",\"Right\",\"Right\",\"Right\",\"Right\",\"Right\",\"Left\",\"Left\",\"Left\",\"Right\",\"Right\",\"Right\",\"Right\",\"Right\",\"Right\",\"Right\",\"Left\",\"Right\",\"Left\",\"Right\",\"Left\",\"Right\",\"Right\",\"Left\",\"Right\",\"Right\",\"Left\",\"Right\",\"Right\",\"Left\",\"Right\",\"Right\",\"Right\",\"Right\",\"Right\",\"Right\",\"Right\",\"Right\",\"Right\",\"Right\",\"Right\",\"Right\",\"Left\",\"Right\",\"Left\",\"Right\",\"Right\",\"Right\",\"Right\",\"Right\",\"Right\",\"Right\",\"Left\",\"Right\",\"Right\",\"Right\",\"Right\",\"Right\",\"Right\",\"Right\",\"Right\",\"Right\",\"Right\",\"Right\",\"Right\",\"Right\",\"Left\",\"Right\",\"Right\",\"Right\",\"Right\",\"Right\",\"Left\",\"Left\",\"Right\",\"Right\",\"Right\",\"Right\",\"Right\",\"Left\",\"Right\",\"Right\",\"Right\",\"Right\",\"Right\",\"Right\",\"Right\",\"Left\",\"Right\",\"Right\",\"Right\",\"Left\",\"Left\",\"Right\",\"Right\",\"Left\",\"Left\",\"Right\",\"Left\",\"Right\",\"Right\",\"Left\",\"Right\",\"Right\",\"Right\",\"Right\",\"Right\",\"Right\",\"Right\",\"Left\",\"Right\",\"Right\",\"Right\",\"Left\",\"Right\",\"Right\",\"Right\",\"Right\",\"Left\",\"Right\",\"Right\",\"Left\",\"Right\",\"Right\",\"Right\",\"Right\",\"Right\",\"Right\",\"Right\",\"Right\",\"Right\",\"Right\",\"Right\",\"Right\",\"Right\",\"Right\",\"Right\",\"Right\",\"Right\",\"Right\",\"Right\",\"Left\",\"Right\",\"Right\",\"Right\",\"Left\",\"Left\",\"Right\",\"Left\",\"Right\",\"Right\",\"Left\",\"Left\",\"Right\",\"Right\",\"Right\",\"Right\",\"Right\",\"Right\",\"Right\",\"Right\",\"Right\",\"Right\",\"Right\",\"Right\",\"Left\",\"Right\",\"Right\",\"Right\",\"Left\",\"Left\",\"Right\",\"Left\",\"Right\",\"Left\",\"Right\",\"Right\",\"Left\",\"Right\",\"Right\",\"Left\",\"Right\",\"Right\",\"Right\",\"Right\",\"Left\",\"Right\",\"Right\",\"Right\",\"Right\",\"Right\",\"Right\",\"Right\",\"Left\",\"Left\",\"Left\",\"Right\",\"Right\",\"Right\",\"Right\",\"Right\",\"Right\",\"Right\",\"Right\",\"Left\",\"Right\",\"Right\",\"Left\",\"Right\",\"Left\",\"Right\",\"Right\",\"Right\",\"Right\",\"Left\",\"Right\",\"Right\",\"Right\",\"Right\",\"Right\",\"Right\",\"Right\",\"Right\",\"Right\",\"Right\",\"Right\",\"Right\",\"Right\",\"Right\",\"Left\",\"Right\",\"Left\",\"Left\",\"Right\",\"Right\",\"Right\",\"Right\",\"Right\",\"Right\",\"Right\",\"Right\",\"Right\",\"Right\",\"Right\",\"Right\",\"Right\",\"Right\",\"Left\",\"Left\",\"Right\",\"Right\",\"Right\",\"Right\",\"Left\",\"Right\",\"Right\",\"Right\",\"Right\",\"Right\",\"Right\",\"Right\",\"Left\",\"Right\",\"Right\",\"Right\",\"Right\",\"Right\",\"Right\",\"Left\",\"Right\",\"Left\",\"Left\",\"Left\",\"Left\",\"Left\",\"Right\",\"Right\",\"Right\",\"Right\",\"Right\",\"Right\",\"Right\",\"Left\",\"Right\",\"Right\",\"Right\",\"Right\",\"Left\",\"Right\",\"Right\",\"Right\",\"Right\",\"Left\",\"Right\",\"Right\",\"Left\",\"Right\",\"Right\",\"Right\",\"Right\",\"Right\",\"Left\",\"Left\",\"Right\",\"Right\",\"Left\",\"Right\",\"Right\",\"Left\",\"Right\",\"Right\",\"Right\",\"Right\",\"Right\",\"Right\",\"Right\",\"Right\",\"Left\",\"Right\",\"Left\",\"Right\",\"Right\",\"Left\",\"Left\",\"Right\",\"Right\",\"Left\",\"Right\",\"Left\",\"Right\",\"Right\",\"Left\",\"Right\",\"Left\",\"Right\",\"Right\",\"Left\",\"Right\",\"Right\",\"Left\",\"Right\",\"Right\",\"Right\",\"Right\",\"Left\",\"Left\",\"Right\",\"Right\",\"Right\",\"Right\",\"Right\",\"Right\",\"Right\",\"Right\",\"Right\",\"Right\",\"Left\",\"Right\",\"Right\",\"Right\",\"Right\",\"Right\",\"Left\",\"Right\",\"Right\",\"Right\",\"Right\",\"Left\",\"Right\",\"Right\",\"Right\",\"Left\",\"Left\",\"Left\",\"Right\",\"Right\",\"Left\",\"Right\",\"Left\",\"Right\",\"Right\",\"Left\",\"Left\",\"Right\",\"Right\",\"Right\",\"Left\",\"Right\",\"Left\",\"Left\",\"Right\",\"Right\",\"Right\",\"Left\",\"Right\",\"Right\",\"Left\",\"Right\",\"Right\",\"Right\",\"Left\",\"Left\",\"Left\",\"Right\",\"Right\",\"Right\",\"Right\",\"Right\",\"Right\",\"Left\",\"Left\",\"Right\",\"Right\",\"Right\",\"Right\",\"Right\",\"Right\",\"Right\",\"Left\",\"Right\",\"Right\",\"Right\",\"Right\",\"Right\",\"Right\",\"Right\",\"Right\",\"Right\",\"Right\",\"Right\",\"Right\",\"Right\",\"Right\",\"Right\",\"Right\",\"Left\",\"Right\",\"Left\",\"Right\",\"Right\",\"Right\",\"Right\",\"Left\",\"Right\",\"Right\",\"Right\",\"Right\",\"Right\",\"Left\",\"Left\",\"Right\",\"Right\",\"Right\",\"Right\",\"Right\",\"Left\",\"Right\",\"Right\",\"Right\",\"Right\",\"Right\",\"Right\",\"Right\",\"Left\",\"Right\",\"Right\",\"Right\",\"Right\",\"Right\",\"Right\",\"Right\",\"Right\",\"Right\",\"Right\",\"Right\",\"Right\",\"Left\",\"Right\",\"Right\",\"Left\",\"Right\",\"Right\",\"Right\",\"Right\",\"Left\",\"Right\",\"Left\",\"Left\",\"Right\",\"Left\",\"Right\",\"Left\",\"Right\",\"Right\",\"Right\",\"Right\",\"Right\",\"Right\",\"Right\",\"Right\",\"Right\",\"Left\",\"Right\",\"Right\",\"Left\",\"Right\",\"Right\",\"Right\",\"Right\",\"Left\",\"Right\",\"Right\",\"Left\",\"Right\",\"Right\",\"Right\",\"Right\",\"Right\",\"Right\",\"Right\",\"Right\",\"Left\",\"Left\",\"Right\",\"Left\",\"Right\",\"Right\",\"Right\",\"Left\",\"Left\",\"Right\",\"Right\",\"Left\",\"Left\",\"Right\",\"Right\",\"Left\",\"Right\",\"Right\",\"Right\",\"Left\",\"Right\",\"Right\",\"Left\",\"Right\",\"Right\",\"Left\",\"Right\",\"Left\",\"Right\",\"Right\",\"Left\",\"Left\",\"Right\",\"Right\",\"Right\",\"Right\",\"Right\",\"Right\",\"Right\",\"Right\",\"Right\",\"Right\",\"Left\",\"Right\",\"Right\",\"Right\",\"Left\",\"Right\",\"Right\",\"Left\",\"Left\",\"Right\",\"Right\",\"Right\",\"Right\",\"Right\",\"Right\",\"Right\",\"Left\",\"Left\",\"Right\",\"Left\",\"Right\",\"Right\",\"Left\",\"Right\",\"Left\",\"Right\",\"Right\",\"Left\",\"Right\",\"Right\",\"Right\",\"Right\",\"Right\",\"Right\",\"Right\",\"Right\",\"Right\",\"Left\",\"Right\",\"Left\",\"Right\",\"Right\",\"Right\",\"Right\",\"Right\",\"Right\",\"Right\",\"Right\",\"Left\",\"Right\",\"Right\",\"Right\",\"Right\",\"Right\",\"Right\",\"Right\",\"Right\",\"Right\",\"Right\",\"Right\",\"Right\",\"Right\",\"Right\",\"Right\",\"Right\",\"Right\",\"Right\",\"Right\",\"Right\",\"Left\",\"Right\",\"Right\",\"Right\",\"Left\",\"Left\",\"Right\",\"Right\",\"Right\",\"Right\",\"Left\",\"Right\",\"Right\",\"Right\",\"Right\",\"Right\",\"Left\",\"Right\",\"Left\",\"Right\",\"Right\",\"Left\",\"Right\",\"Right\",\"Right\",\"Right\",\"Right\",\"Right\",\"Right\",\"Left\",\"Right\",\"Right\",\"Right\",\"Left\",\"Right\",\"Right\",\"Right\",\"Right\",\"Right\",\"Left\",\"Left\",\"Right\",\"Right\",\"Right\",\"Right\",\"Right\",\"Right\",\"Right\",\"Right\",\"Left\",\"Right\",\"Right\",\"Right\",\"Left\",\"Right\",\"Left\",\"Left\",\"Left\",\"Right\",\"Right\",\"Right\",\"Left\",\"Right\",\"Left\",\"Left\",\"Right\",\"Left\",\"Right\",\"Right\",\"Left\",\"Right\",\"Right\",\"Left\",\"Right\",\"Right\",\"Right\",\"Right\",\"Left\",\"Right\",\"Left\",\"Right\",\"Left\",\"Left\",\"Right\",\"Right\",\"Right\",\"Left\",\"Left\",\"Right\",\"Right\",\"Right\",\"Right\",\"Right\",\"Right\",\"Right\",\"Right\",\"Left\",\"Right\",\"Left\",\"Right\",\"Right\",\"Right\",\"Left\",\"Right\",\"Right\",\"Left\",\"Right\",\"Right\",\"Right\",\"Right\",\"Right\",\"Left\",\"Right\",\"Left\",\"Right\",\"Right\",\"Left\",\"Left\",\"Right\",\"Right\",\"Right\",\"Right\",\"Right\",\"Right\",\"Right\",\"Right\",\"Right\",\"Right\",\"Right\",\"Right\",\"Right\",\"Right\",\"Left\",\"Left\",\"Left\",\"Right\",\"Right\",\"Right\",\"Left\",\"Right\",\"Right\",\"Right\",\"Right\",\"Right\",\"Right\",\"Left\",\"Right\",\"Right\",\"Left\",\"Right\",\"Right\",\"Right\",\"Right\",\"Left\",\"Right\",\"Left\",\"Right\",\"Right\",\"Right\",\"Right\",\"Right\",\"Right\",\"Right\",\"Right\",\"Right\",\"Right\",\"Right\",\"Right\",\"Left\",\"Left\",\"Right\",\"Left\",\"Right\",\"Left\",\"Right\",\"Left\",\"Right\",\"Right\",\"Right\",\"Right\",\"Right\",\"Left\",\"Right\",\"Left\",\"Right\",\"Right\",\"Right\",\"Right\",\"Left\",\"Right\",\"Right\",\"Right\",\"Right\",\"Right\",\"Right\",\"Left\",\"Left\",\"Right\",\"Right\",\"Right\",\"Right\",\"Left\",\"Right\",\"Left\",\"Left\",\"Right\",\"Right\",\"Right\",\"Left\",\"Left\",\"Right\",\"Right\",\"Right\",\"Right\",\"Right\",\"Right\",\"Right\",\"Right\",\"Right\",\"Right\",\"Right\",\"Right\",\"Right\",\"Right\",\"Right\",\"Left\",\"Right\",\"Right\",\"Right\",\"Right\",\"Right\",\"Right\",\"Right\",\"Right\",\"Left\",\"Right\",\"Right\",\"Left\",\"Right\",\"Right\",\"Left\",\"Right\",\"Right\",\"Left\",\"Left\",\"Right\",\"Right\",\"Right\",\"Left\",\"Right\",\"Right\",\"Right\",\"Right\",\"Right\",\"Right\",\"Left\",\"Right\",\"Right\",\"Left\",\"Right\",\"Right\",\"Right\",\"Right\",\"Right\",\"Right\",\"Left\",\"Right\",\"Right\",\"Right\",\"Left\",\"Right\",\"Right\",\"Right\",\"Right\",\"Right\",\"Right\",\"Right\",\"Right\",\"Right\",\"Right\",\"Right\",\"Right\",\"Right\",\"Right\",\"Right\",\"Right\",\"Right\",\"Right\",\"Right\",\"Right\",\"Right\",\"Right\",\"Right\",\"Right\",\"Right\",\"Right\",\"Right\",\"Right\",\"Right\",\"Right\",\"Right\",\"Right\",\"Left\",\"Right\",\"Right\",\"Right\",\"Right\",\"Right\",\"Right\",\"Right\",\"Right\",\"Right\",\"Right\",\"Right\",\"Right\",\"Left\",\"Right\",\"Left\",\"Right\",\"Right\",\"Left\",\"Right\",\"Right\",\"Left\",\"Right\",\"Right\",\"Left\",\"Right\",\"Right\",\"Right\",\"Right\",\"Right\",\"Right\",\"Right\",\"Right\",\"Left\",\"Right\",\"Left\",\"Right\",\"Right\",\"Right\",\"Right\",\"Right\",\"Right\",\"Right\",\"Right\",\"Right\",\"Right\",\"Right\",\"Left\",\"Left\",\"Right\",\"Right\",\"Right\",\"Right\",\"Right\",\"Left\",\"Left\",\"Right\",\"Right\",\"Left\",\"Left\",\"Right\",\"Left\",\"Right\",\"Right\",\"Right\",\"Left\",\"Right\",\"Right\",\"Right\",\"Right\",\"Right\",\"Right\",\"Right\",\"Right\",\"Right\",\"Right\",\"Right\",\"Right\",\"Right\",\"Left\",\"Right\",\"Right\",\"Right\",\"Right\",\"Right\",\"Right\",\"Right\",\"Right\",\"Right\",\"Right\",\"Right\",\"Right\",\"Right\",\"Right\",\"Left\",\"Left\",\"Right\",\"Left\",\"Left\",\"Right\",\"Right\",\"Left\",\"Left\",\"Right\",\"Right\",\"Right\",\"Left\",\"Right\",\"Right\",\"Left\",\"Left\",\"Right\",\"Right\",\"Right\",\"Right\",\"Right\",\"Right\",\"Right\",\"Right\",\"Right\",\"Right\",\"Right\",\"Left\",\"Right\",\"Right\",\"Right\",\"Right\",\"Right\",\"Right\",\"Left\",\"Left\",\"Right\",\"Right\",\"Right\",\"Left\",\"Left\",\"Right\",\"Right\",\"Right\",\"Right\",\"Right\",\"Left\",\"Right\",\"Right\",\"Right\",\"Left\",\"Right\",\"Right\",\"Left\",\"Right\",\"Left\",\"Left\",\"Right\",\"Left\",\"Right\",\"Right\",\"Left\",\"Left\",\"Left\",\"Right\",\"Right\",\"Right\",\"Right\",\"Left\",\"Right\",\"Right\",\"Right\",\"Right\",\"Right\",\"Right\",\"Right\",\"Left\",\"Right\",\"Left\",\"Left\",\"Right\",\"Right\",\"Right\",\"Right\",\"Left\",\"Right\",\"Left\",\"Right\",\"Left\",\"Right\",\"Right\",\"Right\",\"Right\",\"Right\",\"Right\",\"Right\",\"Left\",\"Right\",\"Right\",\"Right\",\"Right\",\"Right\",\"Right\",\"Right\",\"Right\",\"Right\",\"Right\",\"Right\",\"Left\",\"Right\",\"Left\",\"Right\",\"Right\",\"Right\",\"Right\",\"Right\",\"Right\",\"Right\",\"Right\",\"Left\",\"Right\",\"Left\",\"Right\",\"Right\",\"Right\",\"Right\",\"Right\",\"Left\",\"Right\",\"Right\",\"Right\",\"Right\",\"Right\",\"Right\",\"Left\",\"Right\",\"Left\",\"Right\",\"Left\",\"Right\",\"Right\",\"Left\",\"Right\",\"Right\",\"Right\",\"Right\",\"Left\",\"Right\",\"Right\",\"Right\",\"Right\",\"Right\",\"Right\",\"Right\",\"Left\",\"Right\",\"Right\",\"Right\",\"Left\",\"Right\",\"Left\",\"Right\",\"Right\",\"Right\",\"Right\",\"Right\",\"Right\",\"Left\",\"Left\",\"Left\",\"Left\",\"Left\",\"Right\",\"Right\",\"Left\",\"Right\",\"Right\",\"Right\",\"Right\",\"Right\",\"Right\",\"Right\",\"Left\",\"Left\",\"Left\",\"Right\",\"Left\",\"Right\",\"Left\",\"Right\",\"Left\",\"Left\",\"Right\",\"Right\",\"Right\",\"Right\",\"Left\",\"Right\",\"Right\",\"Right\",\"Right\",\"Left\",\"Right\",\"Left\",\"Right\",\"Right\",\"Right\",\"Right\",\"Right\",\"Right\",\"Right\",\"Right\",\"Left\",\"Right\",\"Left\",\"Right\",\"Right\",\"Left\",\"Right\",\"Right\",\"Right\",\"Right\",\"Right\",\"Right\",\"Right\",\"Right\",\"Right\",\"Left\",\"Right\",\"Right\",\"Left\",\"Left\",\"Right\",\"Right\",\"Right\",\"Left\",\"Right\",\"Right\",\"Right\",\"Right\",\"Right\",\"Left\",\"Left\",\"Right\",\"Right\",\"Right\",\"Right\",\"Right\",\"Right\",\"Left\",\"Left\",\"Right\",\"Left\",\"Right\",\"Right\",\"Right\",\"Left\",\"Right\",\"Right\",\"Right\",\"Right\",\"Right\",\"Right\",\"Right\",\"Right\",\"Left\",\"Right\",\"Right\",\"Left\",\"Left\",\"Right\",\"Right\",\"Right\",\"Right\",\"Right\",\"Right\",\"Right\",\"Right\",\"Left\",\"Left\",\"Right\",\"Right\",\"Right\",\"Left\",\"Right\",\"Right\",\"Right\",\"Right\",\"Right\",\"Right\",\"Right\",\"Right\",\"Left\",\"Right\",\"Right\",\"Left\",\"Right\",\"Right\",\"Right\",\"Left\",\"Right\",\"Left\",\"Left\",\"Right\",\"Left\",\"Right\",\"Right\",\"Left\",\"Right\",\"Right\",\"Right\",\"Right\",\"Left\",\"Left\",\"Right\",\"Left\",\"Right\",\"Right\",\"Right\",\"Right\",\"Left\",\"Right\",\"Right\",\"Right\",\"Right\",\"Right\",\"Left\",\"Right\",\"Right\",\"Right\",\"Right\",\"Left\",\"Left\",\"Left\",\"Right\",\"Right\",\"Right\",\"Right\",\"Right\",\"Right\",\"Right\",\"Right\",\"Left\",\"Right\",\"Right\",\"Left\",\"Left\",\"Right\",\"Right\",\"Right\",\"Right\",\"Left\",\"Right\",\"Right\",\"Right\",\"Right\",\"Right\",\"Right\",\"Right\",\"Left\",\"Right\",\"Right\",\"Right\",\"Right\",\"Right\",\"Right\",\"Right\",\"Right\",\"Left\",\"Left\",\"Right\",\"Left\",\"Right\",\"Right\",\"Left\",\"Right\",\"Right\",\"Right\",\"Right\",\"Right\",\"Right\",\"Left\",\"Right\",\"Right\",\"Right\",\"Right\",\"Right\",\"Right\",\"Left\",\"Right\",\"Right\",\"Left\",\"Right\",\"Right\",\"Right\",\"Right\",\"Left\",\"Right\",\"Right\",\"Left\",\"Right\",\"Right\",\"Left\",\"Right\",\"Right\",\"Right\",\"Right\",\"Right\",\"Left\",\"Right\",\"Right\",\"Right\",\"Right\",\"Right\",\"Right\",\"Left\",\"Left\",\"Right\",\"Right\",\"Right\",\"Left\",\"Right\",\"Right\",\"Left\",\"Right\",\"Right\",\"Left\",\"Right\",\"Left\",\"Left\",\"Right\",\"Right\",\"Right\",\"Right\",\"Right\",\"Right\",\"Right\",\"Right\",\"Right\",\"Left\",\"Right\",\"Right\",\"Left\",\"Right\",\"Right\",\"Right\",\"Left\",\"Right\",\"Right\",\"Left\",\"Right\",\"Right\",\"Right\",\"Right\",\"Right\",\"Right\",\"Left\",\"Left\",\"Right\",\"Right\",\"Right\",\"Right\",\"Right\",\"Left\",\"Right\",\"Right\",\"Left\",\"Right\",\"Right\",\"Left\",\"Right\",\"Right\",\"Right\",\"Right\",\"Left\",\"Left\",\"Left\",\"Right\",\"Right\",\"Right\",\"Right\",\"Right\",\"Right\",\"Right\",\"Right\",\"Right\",\"Right\",\"Right\",\"Right\",\"Right\",\"Right\",\"Right\",\"Right\",\"Right\",\"Right\",\"Right\",\"Right\",\"Right\",\"Right\",\"Left\",\"Right\",\"Left\",\"Right\",\"Right\",\"Right\",\"Right\",\"Right\",\"Right\",\"Left\",\"Right\",\"Right\",\"Left\",\"Left\",\"Right\",\"Right\",\"Right\",\"Right\",\"Right\",\"Right\",\"Left\",\"Right\",\"Left\",\"Left\",\"Left\",\"Left\",\"Right\",\"Right\",\"Right\",\"Right\",\"Left\",\"Right\",\"Right\",\"Left\",\"Right\",\"Right\",\"Right\",\"Left\",\"Right\",\"Right\",\"Right\",\"Right\",\"Right\",\"Right\",\"Right\",\"Right\",\"Right\",\"Left\",\"Right\",\"Left\",\"Left\",\"Left\",\"Right\",\"Right\",\"Right\",\"Right\",\"Left\",\"Right\",\"Right\",\"Right\",\"Right\",\"Right\",\"Left\",\"Right\",\"Right\",\"Right\",\"Right\",\"Right\",\"Right\",\"Left\",\"Right\",\"Left\",\"Right\",\"Right\",\"Right\",\"Left\",\"Right\",\"Left\",\"Left\",\"Right\",\"Right\",\"Right\",\"Right\",\"Right\",\"Left\",\"Right\",\"Right\",\"Right\",\"Right\",\"Right\",\"Left\",\"Right\",\"Left\",\"Right\",\"Right\",\"Right\",\"Left\",\"Right\",\"Left\",\"Right\",\"Left\",\"Right\",\"Right\",\"Right\",\"Right\",\"Left\",\"Right\",\"Left\",\"Right\",\"Right\",\"Right\",\"Left\",\"Right\",\"Left\",\"Left\",\"Right\",\"Left\",\"Right\",\"Right\",\"Right\",\"Right\",\"Right\",\"Right\",\"Right\",\"Left\",\"Right\",\"Left\",\"Right\",\"Left\",\"Right\",\"Right\",\"Right\",\"Right\",\"Left\",\"Right\",\"Right\",\"Right\",\"Right\",\"Right\",\"Right\",\"Right\",\"Right\",\"Right\",\"Right\",\"Right\",\"Left\",\"Right\",\"Right\",\"Right\",\"Right\",\"Right\",\"Right\",\"Right\",\"Left\",\"Right\",\"Left\",\"Right\",\"Right\",\"Right\",\"Right\",\"Left\",\"Right\",\"Right\",\"Right\",\"Right\",\"Left\",\"Right\",\"Left\",\"Right\",\"Left\",\"Right\",\"Right\",\"Left\",\"Right\",\"Right\",\"Right\",\"Right\",\"Right\",\"Left\",\"Right\",\"Right\",\"Right\",\"Left\",\"Left\",\"Right\",\"Right\",\"Left\",\"Left\",\"Left\",\"Right\",\"Right\",\"Right\",\"Left\",\"Right\",\"Right\",\"Left\",\"Left\",\"Right\",\"Right\",\"Right\",\"Right\",\"Right\",\"Right\",\"Right\",\"Right\",\"Right\",\"Right\",\"Left\",\"Right\",\"Right\",\"Right\",\"Right\",\"Right\",\"Right\",\"Right\",\"Right\",\"Right\",\"Right\",\"Left\",\"Right\",\"Right\",\"Left\",\"Right\",\"Right\",\"Left\",\"Right\",\"Right\",\"Right\",\"Left\",\"Right\",\"Left\",\"Right\",\"Right\",\"Right\",\"Right\",\"Right\",\"Right\",\"Right\",\"Right\",\"Right\",\"Right\",\"Left\",\"Right\",\"Right\",\"Right\",\"Right\",\"Right\",\"Right\",\"Left\",\"Left\",\"Left\",\"Right\",\"Right\",\"Right\",\"Right\",\"Right\",\"Right\",\"Right\",\"Left\",\"Left\",\"Right\",\"Left\",\"Right\",\"Left\",\"Left\",\"Right\",\"Left\",\"Right\",\"Right\",\"Right\",\"Left\",\"Right\",\"Right\",\"Right\",\"Right\",\"Right\",\"Right\",\"Right\",\"Right\",\"Left\",\"Right\",\"Right\",\"Left\",\"Right\",\"Right\",\"Right\",\"Right\",\"Left\",\"Right\",\"Left\",\"Right\",\"Left\",\"Left\",\"Right\",\"Right\",\"Left\",\"Left\",\"Right\",\"Right\",\"Right\",\"Right\",\"Right\",\"Right\",\"Right\",\"Right\",\"Left\",\"Right\",\"Right\",\"Right\",\"Right\",\"Right\",\"Right\",\"Right\",\"Right\",\"Left\",\"Right\",\"Right\",\"Right\",\"Right\",\"Right\",\"Left\",\"Right\",\"Right\",\"Right\",\"Right\",\"Right\",\"Right\",\"Left\",\"Right\",\"Right\",\"Left\",\"Right\",\"Right\",\"Left\",\"Left\",\"Right\",\"Right\",\"Right\",\"Left\",\"Right\",\"Right\",\"Right\",\"Right\",\"Right\",\"Left\",\"Right\",\"Right\",\"Right\",\"Right\",\"Right\",\"Right\",\"Right\",\"Left\",\"Right\",\"Left\",\"Right\",\"Left\",\"Left\",\"Right\",\"Right\",\"Right\",\"Right\",\"Right\",\"Right\",\"Left\",\"Right\",\"Right\",\"Left\",\"Right\",\"Right\",\"Left\",\"Right\",\"Right\",\"Right\",\"Left\",\"Right\",\"Right\",\"Left\",\"Right\",\"Right\",\"Left\",\"Right\",\"Left\",\"Left\",\"Left\",\"Right\",\"Right\",\"Right\",\"Right\",\"Right\",\"Left\",\"Right\",\"Right\",\"Right\",\"Left\",\"Right\",\"Right\",\"Right\",\"Right\",\"Left\",\"Right\",\"Right\",\"Left\",\"Right\",\"Right\",\"Right\",\"Left\",\"Right\",\"Right\",\"Right\",\"Left\",\"Right\",\"Right\",\"Right\",\"Left\",\"Right\",\"Right\",\"Right\",\"Left\",\"Left\",\"Right\",\"Left\",\"Left\",\"Right\",\"Right\",\"Left\",\"Right\",\"Left\",\"Right\",\"Right\",\"Right\",\"Right\",\"Right\",\"Right\",\"Left\",\"Left\",\"Right\",\"Right\",\"Right\",\"Right\",\"Left\",\"Right\",\"Left\",\"Right\",\"Right\",\"Right\",\"Right\",\"Right\",\"Right\",\"Left\",\"Left\",\"Left\",\"Right\",\"Right\",\"Right\",\"Right\",\"Right\",\"Right\",\"Right\",\"Left\",\"Left\",\"Right\",\"Right\",\"Right\",\"Right\",\"Left\",\"Left\",\"Right\",\"Right\",\"Right\",\"Left\",\"Right\",\"Right\",\"Left\",\"Right\",\"Left\",\"Right\",\"Left\",\"Right\",\"Right\",\"Left\",\"Right\",\"Left\",\"Right\",\"Left\",\"Left\",\"Right\",\"Left\",\"Right\",\"Right\",\"Right\",\"Right\",\"Right\",\"Right\",\"Left\",\"Left\",\"Right\",\"Right\",\"Right\",\"Right\",\"Right\",\"Right\",\"Right\",\"Right\",\"Right\",\"Right\",\"Left\",\"Right\",\"Left\",\"Right\",\"Right\",\"Right\",\"Right\",\"Right\",\"Right\",\"Right\",\"Left\",\"Right\",\"Left\",\"Right\",\"Right\",\"Right\",\"Right\",\"Left\",\"Left\",\"Right\",\"Right\",\"Right\",\"Right\",\"Right\",\"Right\",\"Right\",\"Right\",\"Right\",\"Left\",\"Right\",\"Right\",\"Right\",\"Right\",\"Left\",\"Right\",\"Left\",\"Right\",\"Right\",\"Right\",\"Left\",\"Left\",\"Right\",\"Right\",\"Right\",\"Right\",\"Right\",\"Right\",\"Right\",\"Right\",\"Right\",\"Left\",\"Right\",\"Right\",\"Right\",\"Right\",\"Right\",\"Right\",\"Right\",\"Right\",\"Right\",\"Left\",\"Right\",\"Right\",\"Right\",\"Right\",\"Left\",\"Left\",\"Right\",\"Right\",\"Left\",\"Right\",\"Right\",\"Right\",\"Left\",\"Right\",\"Left\",\"Right\",\"Left\",\"Right\",\"Right\",\"Left\",\"Right\",\"Right\",\"Right\",\"Right\",\"Right\",\"Right\",\"Right\",\"Right\",\"Right\",\"Left\",\"Right\",\"Right\",\"Right\",\"Left\",\"Left\",\"Left\",\"Right\",\"Right\",\"Right\",\"Left\",\"Right\",\"Right\",\"Right\",\"Right\",\"Right\",\"Left\",\"Right\",\"Right\",\"Right\",\"Right\",\"Right\",\"Right\",\"Right\",\"Right\",\"Right\",\"Left\",\"Right\",\"Right\",\"Left\",\"Left\",\"Right\",\"Right\",\"Right\",\"Right\",\"Right\",\"Left\",\"Right\",\"Left\",\"Left\",\"Right\",\"Left\",\"Right\",\"Right\",\"Right\",\"Left\",\"Right\",\"Right\",\"Right\",\"Left\",\"Right\",\"Right\",\"Right\",\"Right\",\"Left\",\"Right\",\"Left\",\"Right\",\"Right\",\"Right\",\"Left\",\"Right\",\"Left\",\"Left\",\"Right\",\"Right\",\"Right\",\"Right\",\"Right\",\"Left\",\"Right\",\"Right\",\"Right\",\"Right\",\"Right\",\"Left\",\"Right\",\"Right\",\"Left\",\"Right\",\"Right\",\"Right\",\"Right\",\"Left\",\"Right\",\"Right\",\"Right\",\"Right\",\"Right\",\"Left\",\"Left\",\"Right\",\"Right\",\"Right\",\"Right\",\"Left\",\"Right\",\"Right\",\"Right\",\"Left\",\"Right\",\"Right\",\"Right\",\"Left\",\"Right\",\"Left\",\"Right\",\"Right\",\"Right\",\"Right\",\"Left\",\"Left\",\"Left\",\"Left\",\"Left\",\"Right\",\"Right\",\"Right\",\"Right\",\"Left\",\"Right\",\"Right\",\"Right\",\"Right\",\"Right\",\"Right\",\"Right\",\"Right\",\"Right\",\"Left\",\"Right\",\"Right\",\"Right\",\"Right\",\"Right\",\"Right\",\"Right\",\"Right\",\"Left\",\"Right\",\"Right\",\"Right\",\"Right\",\"Right\",\"Right\",\"Right\",\"Right\",\"Right\",\"Right\",\"Right\",\"Right\",\"Left\",\"Right\",\"Left\",\"Left\",\"Right\",\"Right\",\"Right\",\"Right\",\"Right\",\"Left\",\"Left\",\"Left\",\"Left\",\"Right\",\"Right\",\"Right\",\"Right\",\"Right\",\"Right\",\"Right\",\"Left\",\"Right\",\"Right\",\"Right\",\"Right\",\"Right\",\"Right\",\"Right\",\"Right\",\"Right\",\"Right\",\"Right\",\"Right\",\"Right\",\"Right\",\"Right\",\"Right\",\"Left\",\"Right\",\"Right\",\"Left\",\"Right\",\"Right\",\"Right\",\"Left\",\"Right\",\"Right\",\"Left\",\"Left\",\"Left\",\"Right\",\"Left\",\"Right\",\"Right\",\"Left\",\"Left\",\"Left\",\"Left\",\"Right\",\"Left\",\"Left\",\"Right\",\"Right\",\"Right\",\"Left\",\"Right\",\"Right\",\"Right\",\"Right\",\"Right\",\"Left\",\"Right\",\"Right\",\"Right\",\"Left\",\"Right\",\"Right\",\"Left\",\"Left\",\"Right\",\"Right\",\"Right\",\"Left\",\"Right\",\"Right\",\"Right\",\"Left\",\"Left\",\"Right\",\"Right\",\"Right\",\"Right\",\"Right\",\"Right\",\"Left\",\"Left\",\"Right\",\"Left\",\"Right\",\"Left\",\"Left\",\"Right\",\"Right\",\"Left\",\"Left\",\"Right\",\"Right\",\"Right\",\"Left\",\"Left\",\"Right\",\"Right\",\"Left\",\"Right\",\"Right\",\"Right\",\"Right\",\"Right\",\"Right\",\"Right\",\"Right\",\"Right\",\"Right\",\"Right\",\"Left\",\"Right\",\"Left\",\"Right\",\"Right\",\"Right\",\"Right\",\"Right\",\"Left\",\"Right\",\"Right\",\"Right\",\"Right\",\"Right\",\"Right\",\"Right\",\"Right\",\"Right\",\"Right\",\"Right\",\"Left\",\"Left\",\"Left\",\"Right\",\"Right\",\"Left\",\"Right\",\"Left\",\"Left\",\"Right\",\"Left\",\"Right\",\"Right\",\"Left\",\"Right\",\"Right\",\"Right\",\"Right\",\"Right\",\"Left\",\"Right\",\"Right\",\"Right\",\"Right\",\"Right\",\"Left\",\"Right\",\"Right\",\"Right\",\"Left\",\"Right\",\"Left\",\"Left\",\"Right\",\"Right\",\"Right\",\"Right\",\"Right\",\"Right\",\"Right\",\"Right\",\"Right\",\"Right\",\"Right\",\"Right\",\"Right\",\"Right\",\"Right\",\"Right\",\"Right\",\"Right\",\"Right\",\"Right\",\"Right\",\"Right\",\"Left\",\"Left\",\"Right\",\"Right\",\"Right\",\"Right\",\"Right\",\"Right\",\"Left\",\"Right\",\"Left\",\"Right\",\"Left\",\"Left\",\"Right\",\"Left\",\"Right\",\"Right\",\"Left\",\"Right\",\"Left\",\"Left\",\"Right\",\"Right\",\"Right\",\"Right\",\"Right\",\"Left\",\"Right\",\"Left\",\"Right\",\"Right\",\"Right\",\"Right\",\"Right\",\"Right\",\"Right\",\"Left\",\"Right\",\"Right\",\"Right\",\"Right\",\"Right\",\"Right\",\"Right\",\"Left\",\"Right\",\"Right\",\"Left\",\"Left\",\"Right\",\"Left\",\"Right\",\"Right\",\"Left\",\"Right\",\"Right\",\"Right\",\"Right\",\"Left\",\"Left\",\"Right\",\"Left\",\"Right\",\"Right\",\"Right\",\"Right\",\"Left\",\"Left\",\"Left\",\"Left\",\"Right\",\"Left\",\"Right\",\"Left\",\"Right\",\"Left\",\"Right\",\"Right\",\"Left\",\"Right\",\"Left\",\"Right\",\"Right\",\"Right\",\"Right\",\"Right\",\"Left\",\"Right\",\"Left\",\"Right\",\"Right\",\"Right\",\"Right\",\"Right\",\"Right\",\"Right\",\"Right\",\"Right\",\"Right\",\"Right\",\"Right\",\"Right\",\"Right\",\"Right\",\"Right\",\"Right\",\"Right\",\"Left\",\"Right\",\"Left\",\"Left\",\"Right\",\"Right\",\"Left\",\"Right\",\"Right\",\"Left\",\"Right\",\"Right\",\"Right\",\"Right\",\"Right\",\"Left\",\"Right\",\"Left\",\"Right\",\"Left\",\"Right\",\"Right\",\"Right\",\"Left\",\"Right\",\"Left\",\"Right\",\"Right\",\"Right\",\"Left\",\"Right\",\"Right\",\"Left\",\"Left\",\"Right\",\"Right\",\"Right\",\"Right\",\"Right\",\"Right\",\"Right\",\"Right\",\"Right\",\"Left\",\"Right\",\"Right\",\"Right\",\"Right\",\"Right\",\"Right\",\"Left\",\"Left\",\"Right\",\"Right\",\"Right\",\"Right\",\"Right\",\"Right\",\"Left\",\"Right\",\"Right\",\"Left\",\"Left\",\"Left\",\"Left\",\"Right\",\"Right\",\"Right\",\"Left\",\"Right\",\"Left\",\"Right\",\"Right\",\"Right\",\"Right\",\"Right\",\"Right\",\"Left\",\"Right\",\"Right\",\"Left\",\"Right\",\"Right\",\"Right\",\"Left\",\"Right\",\"Right\",\"Right\",\"Left\",\"Right\",\"Right\",\"Right\",\"Left\",\"Right\",\"Right\",\"Right\",\"Right\",\"Right\",\"Right\",\"Left\",\"Right\",\"Right\",\"Right\",\"Right\",\"Left\",\"Right\",\"Right\",\"Right\",\"Left\",\"Left\",\"Right\",\"Right\",\"Left\",\"Right\",\"Right\",\"Right\",\"Left\",\"Right\",\"Right\",\"Right\",\"Right\",\"Left\",\"Right\",\"Left\",\"Right\",\"Right\",\"Left\",\"Right\",\"Right\",\"Left\",\"Right\",\"Right\",\"Right\",\"Right\",\"Right\",\"Right\",\"Right\",\"Right\",\"Right\",\"Right\",\"Right\",\"Right\",\"Right\",\"Right\",\"Right\",\"Right\",\"Right\",\"Right\",\"Right\",\"Left\",\"Right\",\"Right\",\"Right\",\"Left\",\"Right\",\"Right\",\"Right\",\"Left\",\"Right\",\"Right\",\"Right\",\"Right\",\"Left\",\"Right\",\"Right\",\"Right\",\"Left\",\"Right\",\"Left\",\"Right\",\"Right\",\"Right\",\"Left\",\"Right\",\"Right\",\"Right\",\"Right\",\"Right\",\"Right\",\"Right\",\"Right\",\"Right\",\"Right\",\"Right\",\"Right\",\"Right\",\"Right\",\"Left\",\"Right\",\"Right\",\"Left\",\"Left\",\"Right\",\"Right\",\"Right\",\"Left\",\"Right\",\"Right\",\"Right\",\"Right\",\"Right\",\"Right\",\"Right\",\"Left\",\"Left\",\"Right\",\"Right\",\"Left\",\"Right\",\"Right\",\"Right\",\"Right\",\"Right\",\"Left\",\"Left\",\"Left\",\"Right\",\"Right\",\"Left\",\"Left\",\"Right\",\"Right\",\"Right\",\"Left\",\"Right\",\"Left\",\"Right\",\"Right\",\"Right\",\"Right\",\"Right\",\"Right\",\"Right\",\"Left\",\"Right\",\"Right\",\"Left\",\"Right\",\"Right\",\"Right\",\"Right\",\"Right\",\"Right\",\"Left\",\"Right\",\"Right\",\"Right\",\"Left\",\"Right\",\"Right\",\"Left\",\"Right\",\"Right\",\"Right\",\"Right\",\"Left\",\"Right\",\"Left\",\"Right\",\"Left\",\"Right\",\"Right\",\"Right\",\"Left\",\"Right\",\"Right\",\"Right\",\"Left\",\"Right\",\"Left\",\"Right\",\"Right\",\"Right\",\"Right\",\"Left\",\"Right\",\"Right\",\"Right\",\"Right\",\"Right\",\"Right\",\"Right\",\"Right\",\"Right\",\"Right\",\"Right\",\"Right\",\"Left\",\"Right\",\"Right\",\"Right\",\"Right\",\"Right\",\"Right\",\"Right\",\"Left\",\"Right\",\"Right\",\"Left\",\"Left\",\"Left\",\"Right\",\"Left\",\"Right\",\"Right\",\"Right\",\"Right\",\"Right\",\"Right\",\"Right\",\"Right\",\"Right\",\"Right\",\"Left\",\"Right\",\"Right\",\"Left\",\"Right\",\"Right\",\"Right\",\"Right\",\"Right\",\"Right\",\"Right\",\"Left\",\"Left\",\"Right\",\"Right\",\"Right\",\"Right\",\"Right\",\"Left\",\"Left\",\"Left\",\"Left\",\"Right\",\"Right\",\"Right\",\"Right\",\"Right\",\"Right\",\"Right\",\"Right\",\"Right\",\"Right\",\"Right\",\"Right\",\"Right\",\"Left\",\"Right\",\"Right\",\"Left\",\"Right\",\"Right\",\"Right\",\"Right\",\"Right\",\"Left\",\"Right\",\"Right\",\"Left\",\"Right\",\"Left\",\"Left\",\"Right\",\"Left\",\"Right\",\"Right\",\"Right\",\"Left\",\"Right\",\"Right\",\"Right\",\"Right\",\"Left\",\"Left\",\"Right\",\"Right\",\"Right\",\"Right\",\"Left\",\"Left\",\"Right\",\"Right\",\"Right\",\"Left\",\"Right\",\"Left\",\"Left\",\"Right\",\"Right\",\"Right\",\"Left\",\"Right\",\"Right\",\"Right\",\"Right\",\"Left\",\"Right\",\"Right\",\"Right\",\"Right\",\"Right\",\"Right\",\"Right\",\"Right\",\"Right\",\"Left\",\"Right\",\"Right\",\"Left\",\"Right\",\"Right\",\"Left\",\"Left\",\"Right\",\"Right\",\"Right\",\"Right\",\"Right\",\"Left\",\"Right\",\"Right\",\"Right\",\"Left\",\"Right\",\"Right\",\"Right\",\"Right\",\"Right\",\"Right\",\"Right\",\"Left\",\"Right\",\"Right\",\"Right\",\"Left\",\"Right\",\"Right\",\"Right\",\"Left\",\"Right\",\"Right\",\"Right\",\"Left\",\"Right\",\"Right\",\"Right\",\"Left\",\"Right\",\"Right\",\"Left\",\"Left\",\"Right\",\"Right\",\"Right\",\"Right\",\"Right\",\"Right\",\"Right\",\"Left\",\"Left\",\"Right\",\"Right\",\"Right\",\"Left\",\"Right\",\"Right\",\"Right\",\"Right\",\"Right\",\"Right\",\"Right\",\"Right\",\"Right\",\"Left\",\"Right\",\"Left\",\"Right\",\"Right\",\"Right\",\"Left\",\"Right\",\"Right\",\"Right\",\"Right\",\"Left\",\"Right\",\"Right\",\"Right\",\"Left\",\"Right\",\"Right\",\"Right\",\"Right\",\"Right\",\"Left\",\"Right\",\"Right\",\"Left\",\"Left\",\"Right\",\"Right\",\"Right\",\"Left\",\"Right\",\"Right\",\"Right\",\"Right\",\"Left\",\"Right\",\"Right\",\"Right\",\"Right\",\"Left\",\"Right\",\"Right\",\"Right\",\"Right\",\"Right\",\"Right\",\"Left\",\"Right\",\"Right\",\"Left\",\"Right\",\"Left\",\"Left\",\"Right\",\"Right\",\"Right\",\"Left\",\"Right\",\"Right\",\"Left\",\"Right\",\"Right\",\"Right\",\"Right\",\"Right\",\"Right\",\"Left\",\"Right\",\"Left\",\"Right\",\"Right\",\"Right\",\"Right\",\"Left\",\"Right\",\"Right\",\"Left\",\"Right\",\"Right\",\"Right\",\"Right\",\"Right\",\"Left\",\"Left\",\"Right\",\"Right\",\"Left\",\"Right\",\"Right\",\"Left\",\"Right\",\"Right\",\"Right\",\"Right\",\"Left\",\"Right\",\"Left\",\"Right\",\"Right\",\"Left\",\"Right\",\"Right\",\"Right\",\"Left\",\"Right\",\"Right\",\"Right\",\"Right\",\"Left\",\"Right\",\"Left\",\"Right\",\"Right\",\"Left\",\"Right\",\"Right\",\"Left\",\"Right\",\"Right\",\"Right\",\"Right\",\"Right\",\"Right\",\"Right\",\"Right\",\"Right\",\"Right\",\"Right\",\"Right\",\"Right\",\"Right\",\"Left\",\"Right\",\"Right\",\"Right\",\"Left\",\"Right\",\"Left\",\"Right\",\"Right\",\"Right\",\"Right\",\"Right\",\"Right\",\"Right\",\"Right\",\"Right\",\"Right\",\"Right\",\"Right\",\"Right\",\"Right\",\"Left\",\"Left\",\"Right\",\"Right\",\"Left\",\"Right\",\"Right\",\"Right\",\"Left\",\"Right\",\"Right\",\"Right\",\"Left\",\"Left\",\"Right\",\"Right\",\"Right\",\"Left\",\"Left\",\"Right\",\"Right\",\"Right\",\"Left\",\"Left\",\"Right\",\"Right\",\"Right\",\"Right\",\"Right\",\"Left\",\"Right\",\"Left\",\"Right\",\"Right\",\"Right\",\"Right\",\"Right\",\"Left\",\"Right\",\"Right\",\"Left\",\"Right\",\"Right\",\"Right\",\"Left\",\"Right\",\"Right\",\"Right\",\"Right\",\"Left\",\"Right\",\"Left\",\"Left\",\"Left\",\"Left\",\"Right\",\"Right\",\"Right\",\"Right\",\"Right\",\"Left\",\"Left\",\"Right\",\"Left\",\"Right\",\"Right\",\"Right\",\"Left\",\"Right\",\"Right\",\"Right\",\"Right\",\"Right\",\"Right\",\"Right\",\"Left\",\"Right\",\"Right\",\"Left\",\"Left\",\"Right\",\"Left\",\"Left\",\"Left\",\"Right\",\"Right\",\"Right\",\"Right\",\"Right\",\"Right\",\"Right\",\"Right\",\"Right\",\"Left\",\"Left\",\"Right\",\"Right\",\"Right\",\"Right\",\"Right\",\"Right\",\"Right\",\"Right\",\"Left\",\"Right\",\"Right\",\"Right\",\"Right\",\"Right\",\"Right\",\"Right\",\"Right\",\"Left\",\"Right\",\"Right\",\"Left\",\"Right\",\"Right\",\"Right\",\"Right\",\"Right\",\"Right\",\"Right\",\"Right\",\"Right\",\"Right\",\"Left\",\"Left\",\"Right\",\"Right\",\"Left\",\"Left\",\"Right\",\"Right\",\"Right\",\"Right\",\"Right\",\"Left\",\"Right\",\"Right\",\"Right\",\"Right\",\"Right\",\"Right\",\"Right\",\"Right\",\"Right\",\"Right\",\"Left\",\"Right\",\"Right\",\"Right\",\"Right\",\"Right\",\"Left\",\"Right\",\"Right\",\"Right\",\"Left\",\"Right\",\"Left\",\"Left\",\"Right\",\"Right\",\"Right\",\"Right\",\"Left\",\"Right\",\"Right\",\"Right\",\"Right\",\"Right\",\"Right\",\"Left\",\"Right\",\"Right\",\"Right\",\"Left\",\"Right\",\"Right\",\"Left\",\"Right\",\"Right\",\"Right\",\"Left\",\"Right\",\"Right\",\"Right\",\"Right\",\"Right\",\"Right\",\"Left\",\"Right\",\"Left\",\"Left\",\"Right\",\"Right\",\"Right\",\"Right\",\"Right\",\"Right\",\"Right\",\"Left\",\"Left\",\"Right\",\"Right\",\"Right\",\"Right\",\"Right\",\"Right\",\"Right\",\"Left\",\"Right\",\"Left\",\"Left\",\"Right\",\"Left\",\"Right\",\"Right\",\"Right\",\"Right\",\"Right\",\"Right\",\"Right\",\"Right\",\"Right\",\"Right\",\"Right\",\"Left\",\"Right\",\"Right\",\"Right\",\"Right\",\"Left\",\"Right\",\"Right\",\"Right\",\"Right\",\"Right\",\"Right\",\"Left\",\"Right\",\"Right\",\"Left\",\"Right\",\"Left\",\"Right\",\"Right\",\"Left\",\"Right\",\"Left\",\"Right\",\"Right\",\"Left\",\"Right\",\"Right\",\"Left\",\"Right\",\"Right\",\"Right\",\"Right\",\"Right\",\"Right\",\"Right\",\"Right\",\"Right\",\"Right\",\"Right\",\"Right\",\"Right\",\"Right\",\"Right\",\"Right\",\"Right\",\"Right\",\"Right\",\"Right\",\"Right\",\"Left\",\"Right\",\"Right\",\"Right\",\"Left\",\"Right\",\"Left\",\"Right\",\"Left\",\"Right\",\"Left\",\"Right\",\"Right\",\"Right\",\"Right\",\"Right\",\"Right\",\"Left\",\"Right\",\"Right\",\"Right\",\"Right\",\"Left\",\"Left\",\"Right\",\"Right\",\"Left\",\"Right\",\"Right\",\"Right\",\"Right\",\"Right\",\"Right\",\"Left\",\"Left\",\"Right\",\"Right\",\"Right\",\"Right\",\"Right\",\"Right\",\"Left\",\"Right\",\"Right\",\"Right\",\"Right\",\"Right\",\"Right\",\"Left\",\"Right\",\"Left\",\"Right\",\"Right\",\"Left\",\"Right\",\"Right\",\"Right\",\"Right\",\"Right\",\"Right\",\"Right\",\"Right\",\"Right\",\"Right\",\"Right\",\"Right\",\"Right\",\"Left\",\"Left\",\"Left\",\"Right\",\"Right\",\"Left\",\"Right\",\"Right\",\"Right\",\"Left\",\"Right\",\"Right\",\"Right\",\"Right\",\"Right\",\"Right\",\"Right\",\"Right\",\"Left\",\"Right\",\"Right\",\"Right\",\"Left\",\"Left\",\"Right\",\"Right\",\"Right\",\"Right\",\"Right\",\"Right\",\"Right\",\"Right\",\"Left\",\"Left\",\"Right\",\"Right\",\"Right\",\"Right\",\"Left\",\"Left\",\"Right\",\"Right\",\"Right\",\"Right\",\"Right\",\"Right\",\"Right\",\"Right\",\"Left\",\"Right\",\"Left\",\"Right\",\"Right\",\"Right\",\"Left\",\"Right\",\"Left\",\"Right\",\"Left\",\"Right\",\"Right\",\"Right\",\"Right\",\"Left\",\"Left\",\"Right\",\"Left\",\"Right\",\"Left\",\"Right\",\"Left\",\"Left\",\"Right\",\"Right\",\"Left\",\"Right\",\"Right\",\"Left\",\"Right\",\"Right\",\"Right\",\"Right\",\"Right\",\"Left\",\"Left\",\"Right\",\"Right\",\"Left\",\"Right\",\"Right\",\"Right\",\"Right\",\"Left\",\"Left\",\"Right\",\"Right\",\"Right\",\"Right\",\"Right\",\"Right\",\"Right\",\"Left\",\"Right\",\"Right\",\"Right\",\"Right\",\"Left\",\"Right\",\"Right\",\"Right\",\"Right\",\"Right\",\"Right\",\"Right\",\"Left\",\"Right\",\"Right\",\"Right\",\"Right\",\"Right\",\"Left\",\"Right\",\"Right\",\"Right\",\"Right\",\"Left\",\"Left\",\"Right\",\"Left\",\"Right\",\"Right\",\"Right\",\"Right\",\"Right\",\"Right\",\"Left\",\"Right\",\"Right\",\"Right\",\"Right\",\"Right\",\"Right\",\"Right\",\"Right\",\"Right\",\"Right\",\"Right\",\"Right\",\"Right\",\"Right\",\"Right\",\"Right\",\"Right\",\"Right\",\"Right\",\"Right\",\"Right\",\"Right\",\"Right\",\"Right\",\"Right\",\"Left\",\"Right\",\"Right\",\"Right\",\"Right\",\"Right\",\"Right\",\"Right\",\"Right\",\"Right\",\"Right\",\"Right\",\"Right\",\"Right\",\"Right\",\"Right\",\"Right\",\"Left\",\"Right\",\"Left\",\"Right\",\"Right\",\"Right\",\"Right\",\"Left\",\"Right\",\"Left\",\"Left\",\"Right\",\"Left\",\"Right\",\"Right\",\"Left\",\"Right\",\"Right\",\"Right\",\"Right\",\"Right\",\"Left\",\"Right\",\"Right\",\"Left\",\"Right\",\"Right\",\"Right\",\"Right\",\"Right\",\"Left\",\"Right\",\"Right\",\"Right\",\"Right\",\"Right\",\"Right\",\"Right\",\"Right\",\"Right\",\"Left\",\"Left\",\"Right\",\"Right\",\"Right\",\"Right\",\"Left\",\"Left\",\"Right\",\"Right\",\"Right\",\"Right\",\"Right\",\"Left\",\"Left\",\"Right\",\"Right\",\"Left\",\"Right\",\"Right\",\"Right\",\"Left\",\"Right\",\"Right\",\"Right\",\"Left\",\"Left\",\"Right\",\"Right\",\"Left\",\"Left\",\"Right\",\"Left\",\"Right\",\"Left\",\"Right\",\"Left\",\"Right\",\"Left\",\"Right\",\"Right\",\"Right\",\"Left\",\"Right\",\"Right\",\"Right\",\"Right\",\"Right\",\"Right\",\"Left\",\"Right\",\"Left\",\"Right\",\"Left\",\"Right\",\"Right\",\"Left\",\"Left\",\"Right\",\"Right\",\"Right\",\"Left\",\"Right\",\"Left\",\"Right\",\"Right\",\"Right\",\"Right\",\"Left\",\"Right\",\"Left\",\"Left\",\"Right\",\"Right\",\"Right\",\"Left\",\"Right\",\"Right\",\"Right\",\"Right\",\"Right\",\"Right\",\"Right\",\"Right\",\"Right\",\"Left\",\"Right\",\"Left\",\"Right\",\"Right\",\"Left\",\"Right\",\"Right\",\"Right\",\"Right\",\"Right\",\"Right\",\"Right\",\"Right\",\"Right\",\"Right\",\"Left\",\"Right\",\"Right\",\"Right\",\"Left\",\"Right\",\"Right\",\"Right\",\"Left\",\"Left\",\"Right\",\"Right\",\"Right\",\"Right\",\"Right\",\"Right\",\"Right\",\"Right\",\"Right\",\"Right\",\"Right\",\"Right\",\"Right\",\"Left\",\"Right\",\"Right\",\"Right\",\"Right\",\"Right\",\"Right\",\"Right\",\"Left\",\"Right\",\"Left\",\"Right\",\"Right\",\"Left\",\"Right\",\"Right\",\"Right\",\"Left\",\"Right\",\"Right\",\"Right\",\"Right\",\"Right\",\"Right\",\"Right\",\"Right\",\"Left\",\"Left\",\"Right\",\"Right\",\"Right\",\"Right\",\"Left\",\"Right\",\"Right\",\"Left\",\"Right\",\"Right\",\"Right\",\"Left\",\"Right\",\"Right\",\"Left\",\"Right\",\"Right\",\"Right\",\"Right\",\"Left\",\"Right\",\"Right\",\"Right\",\"Right\",\"Right\",\"Right\",\"Right\",\"Right\",\"Right\",\"Left\",\"Right\",\"Left\",\"Right\",\"Right\",\"Left\",\"Right\",\"Left\",\"Left\",\"Right\",\"Right\",\"Right\",\"Right\",\"Left\",\"Right\",\"Right\",\"Right\",\"Left\",\"Right\",\"Right\",\"Right\",\"Right\",\"Right\",\"Left\",\"Left\",\"Right\",\"Left\",\"Right\",\"Right\",\"Right\",\"Right\",\"Right\",\"Right\",\"Right\",\"Right\",\"Right\",\"Right\",\"Right\",\"Right\",\"Right\",\"Left\",\"Right\",\"Right\",\"Right\",\"Right\",\"Right\",\"Left\",\"Left\",\"Right\",\"Left\",\"Left\",\"Right\",\"Right\",\"Right\",\"Right\",\"Right\",\"Right\",\"Right\",\"Right\",\"Right\",\"Right\",\"Right\",\"Left\",\"Left\",\"Right\",\"Right\",\"Left\",\"Right\",\"Left\",\"Left\",\"Right\",\"Right\",\"Right\",\"Left\",\"Right\",\"Left\",\"Left\",\"Right\",\"Right\",\"Right\",\"Right\",\"Right\",\"Right\",\"Right\",\"Left\",\"Right\",\"Right\",\"Right\",\"Left\",\"Right\",\"Left\",\"Right\",\"Right\",\"Right\",\"Left\",\"Left\",\"Right\",\"Right\",\"Left\",\"Left\",\"Right\",\"Right\",\"Right\",\"Left\",\"Right\",\"Right\",\"Right\",\"Left\",\"Left\",\"Right\",\"Right\",\"Right\",\"Right\",\"Right\",\"Right\",\"Right\",\"Right\",\"Right\",\"Left\",\"Right\",\"Left\",\"Right\",\"Right\",\"Right\",\"Right\",\"Right\",\"Left\",\"Right\",\"Right\",\"Right\",\"Right\",\"Right\",\"Right\",\"Right\",\"Left\",\"Right\",\"Right\",\"Right\",\"Right\",\"Right\",\"Right\",\"Right\",\"Right\",\"Right\",\"Right\",\"Left\",\"Right\",\"Left\",\"Right\",\"Right\",\"Right\",\"Right\",\"Left\",\"Right\",\"Right\",\"Right\",\"Right\",\"Right\",\"Right\",\"Right\",\"Right\",\"Left\",\"Right\",\"Right\",\"Right\",\"Right\",\"Right\",\"Right\",\"Left\",\"Right\",\"Left\",\"Right\",\"Right\",\"Right\",\"Left\",\"Right\",\"Right\",\"Right\",\"Right\",\"Left\",\"Right\",\"Right\",\"Right\",\"Right\",\"Right\",\"Right\",\"Left\",\"Right\",\"Right\",\"Left\",\"Left\",\"Right\",\"Left\",\"Right\",\"Right\",\"Right\",\"Right\",\"Right\",\"Left\",\"Right\",\"Right\",\"Right\",\"Right\",\"Right\",\"Right\",\"Right\",\"Right\",\"Left\",\"Right\",\"Right\",\"Right\",\"Right\",\"Right\",\"Right\",\"Left\",\"Right\",\"Right\",\"Right\",\"Right\",\"Right\",\"Right\",\"Left\",\"Left\",\"Right\",\"Right\",\"Right\",\"Right\",\"Right\",\"Right\",\"Right\",\"Right\",\"Right\",\"Right\",\"Right\",\"Right\",\"Right\",\"Left\",\"Right\",\"Right\",\"Right\",\"Right\",\"Right\",\"Left\",\"Right\",\"Right\",\"Right\",\"Right\",\"Right\",\"Right\",\"Right\",\"Right\",\"Left\",\"Left\",\"Right\",\"Left\",\"Right\",\"Right\",\"Right\",\"Right\",\"Right\",\"Right\",\"Left\",\"Right\",\"Right\",\"Right\",\"Left\",\"Right\",\"Right\",\"Right\",\"Right\",\"Left\",\"Left\",\"Right\",\"Left\",\"Right\",\"Right\",\"Right\",\"Right\",\"Left\",\"Right\",\"Right\",\"Right\",\"Right\",\"Right\",\"Left\",\"Right\",\"Left\",\"Right\",\"Right\",\"Left\",\"Right\",\"Right\",\"Left\",\"Right\",\"Right\",\"Right\",\"Right\",\"Right\",\"Left\",\"Left\",\"Left\",\"Right\",\"Right\",\"Right\",\"Left\",\"Left\",\"Right\",\"Right\",\"Right\",\"Right\",\"Right\",\"Right\",\"Right\",\"Right\",\"Left\",\"Right\",\"Right\",\"Right\",\"Right\",\"Right\",\"Left\",\"Right\",\"Right\",\"Left\",\"Right\",\"Right\",\"Left\",\"Left\",\"Left\",\"Right\",\"Left\",\"Right\",\"Right\",\"Right\",\"Right\",\"Right\",\"Right\",\"Right\",\"Left\",\"Right\",\"Right\",\"Left\",\"Right\",\"Left\",\"Right\",\"Right\",\"Left\",\"Right\",\"Right\",\"Right\",\"Left\",\"Right\",\"Left\",\"Right\",\"Right\",\"Right\",\"Left\",\"Right\",\"Right\",\"Right\",\"Right\",\"Right\",\"Right\",\"Right\",\"Right\",\"Right\",\"Right\",\"Right\",\"Left\",\"Left\",\"Right\",\"Right\",\"Right\",\"Left\",\"Right\",\"Right\",\"Right\",\"Right\",\"Right\",\"Left\",\"Left\",\"Right\",\"Right\",\"Right\",\"Right\",\"Right\",\"Right\",\"Right\",\"Left\",\"Right\",\"Left\",\"Left\",\"Right\",\"Right\",\"Left\",\"Right\",\"Right\",\"Right\",\"Right\",\"Left\",\"Right\",\"Left\",\"Right\",\"Right\",\"Right\",\"Left\",\"Right\",\"Right\",\"Right\",\"Right\",\"Right\",\"Right\",\"Right\",\"Right\",\"Right\",\"Right\",\"Right\",\"Right\",\"Right\",\"Right\",\"Left\",\"Right\",\"Left\",\"Right\",\"Left\",\"Right\",\"Left\",\"Right\",\"Left\",\"Left\",\"Right\",\"Left\",\"Left\",\"Right\",\"Right\",\"Right\",\"Left\",\"Right\",\"Right\",\"Left\",\"Left\",\"Right\",\"Left\",\"Left\",\"Left\",\"Left\",\"Left\",\"Right\",\"Right\",\"Right\",\"Right\",\"Right\",\"Right\",\"Right\",\"Left\",\"Left\",\"Right\",\"Right\",\"Right\",\"Left\",\"Right\",\"Right\",\"Right\",\"Left\",\"Left\",\"Right\",\"Right\",\"Right\",\"Right\",\"Right\",\"Right\",\"Right\",\"Right\",\"Right\",\"Left\",\"Right\",\"Right\",\"Right\",\"Right\",\"Right\",\"Right\",\"Left\",\"Left\",\"Left\",\"Right\",\"Right\",\"Right\",\"Left\",\"Left\",\"Right\",\"Right\",\"Left\",\"Left\",\"Right\",\"Right\",\"Right\",\"Right\",\"Left\",\"Right\",\"Right\",\"Left\",\"Right\",\"Right\",\"Right\",\"Right\",\"Right\",\"Right\",\"Right\",\"Left\",\"Right\",\"Left\",\"Right\",\"Right\",\"Left\",\"Left\",\"Left\",\"Left\",\"Right\",\"Right\",\"Left\",\"Left\",\"Right\",\"Right\",\"Right\",\"Left\",\"Right\",\"Left\",\"Right\",\"Right\",\"Right\",\"Right\",\"Left\",\"Right\",\"Right\",\"Right\",\"Right\",\"Right\",\"Right\",\"Right\",\"Right\",\"Right\",\"Right\",\"Left\",\"Left\",\"Right\",\"Right\",\"Left\",\"Right\",\"Left\",\"Right\",\"Left\",\"Right\",\"Right\",\"Right\",\"Left\",\"Left\",\"Left\",\"Left\",\"Right\",\"Right\",\"Left\",\"Right\",\"Right\",\"Right\",\"Left\",\"Right\",\"Right\",\"Left\",\"Right\",\"Right\",\"Right\",\"Left\",\"Right\",\"Right\",\"Right\",\"Left\",\"Left\",\"Right\",\"Left\",\"Right\",\"Left\",\"Right\",\"Right\",\"Left\",\"Right\",\"Right\",\"Right\",\"Right\",\"Right\",\"Left\",\"Right\",\"Right\",\"Left\",\"Right\",\"Right\",\"Left\",\"Right\",\"Left\",\"Right\",\"Right\",\"Left\",\"Left\",\"Right\",\"Left\",\"Right\",\"Right\",\"Left\",\"Left\",\"Left\",\"Right\",\"Right\",\"Left\",\"Right\",\"Right\",\"Left\",\"Right\",\"Right\",\"Right\",\"Right\",\"Left\",\"Right\",\"Right\",\"Right\",\"Right\",\"Right\",\"Right\",\"Right\",\"Right\",\"Right\",\"Right\",\"Right\",\"Right\",\"Right\",\"Right\",\"Left\",\"Right\",\"Left\",\"Right\",\"Right\",\"Right\",\"Right\",\"Right\",\"Right\",\"Right\",\"Left\",\"Left\",\"Right\",\"Right\",\"Right\",\"Right\",\"Left\",\"Right\",\"Right\",\"Right\",\"Left\",\"Right\",\"Right\",\"Right\",\"Right\",\"Right\",\"Right\",\"Right\",\"Left\",\"Right\",\"Left\",\"Right\",\"Left\",\"Right\",\"Right\",\"Right\",\"Right\",\"Left\",\"Right\",\"Right\",\"Right\",\"Left\",\"Left\",\"Left\",\"Right\",\"Right\",\"Right\",\"Left\",\"Left\",\"Right\",\"Right\",\"Right\",\"Right\",\"Right\",\"Right\",\"Left\",\"Right\",\"Right\",\"Right\",\"Right\",\"Right\",\"Right\",\"Left\",\"Right\",\"Left\",\"Left\",\"Right\",\"Right\",\"Right\",\"Left\",\"Left\",\"Right\",\"Right\",\"Left\",\"Right\",\"Left\",\"Right\",\"Right\",\"Left\",\"Right\",\"Right\",\"Right\",\"Right\",\"Right\",\"Right\",\"Left\",\"Left\",\"Right\",\"Right\",\"Left\",\"Right\",\"Right\",\"Right\",\"Left\",\"Right\",\"Right\",\"Left\",\"Left\",\"Right\",\"Left\",\"Left\",\"Left\",\"Right\",\"Right\",\"Right\",\"Right\",\"Left\",\"Left\",\"Left\",\"Right\",\"Right\",\"Left\",\"Left\",\"Left\",\"Left\",\"Right\",\"Right\",\"Left\",\"Right\",\"Left\",\"Right\",\"Right\",\"Right\",\"Right\",\"Right\",\"Left\",\"Right\",\"Right\",\"Right\",\"Right\",\"Right\",\"Left\",\"Left\",\"Left\",\"Right\",\"Right\",\"Left\",\"Right\",\"Right\",\"Right\",\"Right\",\"Right\",\"Right\",\"Right\",\"Left\",\"Right\",\"Left\",\"Right\",\"Right\",\"Left\",\"Right\",\"Right\",\"Right\",\"Right\",\"Left\",\"Right\",\"Right\",\"Right\",\"Right\",\"Left\",\"Right\",\"Right\",\"Right\",\"Right\",\"Left\",\"Left\",\"Right\",\"Right\",\"Right\",\"Right\",\"Right\",\"Right\",\"Right\",\"Right\",\"Right\",\"Right\",\"Right\",\"Right\",\"Right\",\"Right\",\"Right\",\"Right\",\"Left\",\"Left\",\"Right\",\"Right\",\"Right\",\"Left\",\"Right\",\"Right\",\"Right\",\"Right\",\"Right\",\"Left\",\"Right\",\"Right\",\"Right\",\"Right\",\"Left\",\"Right\",\"Left\",\"Right\",\"Right\",\"Left\",\"Right\",\"Right\",\"Right\",\"Right\",\"Right\",\"Right\",\"Left\",\"Right\",\"Right\",\"Right\",\"Right\",\"Right\",\"Right\",\"Right\",\"Right\",\"Right\",\"Right\",\"Right\",\"Left\",\"Right\",\"Right\",\"Right\",\"Left\",\"Right\",\"Right\",\"Left\",\"Right\",\"Right\",\"Right\",\"Right\",\"Right\",\"Right\",\"Right\",\"Right\",\"Right\",\"Left\",\"Right\",\"Right\",\"Right\",\"Right\",\"Right\",\"Right\",\"Right\",\"Right\",\"Right\",\"Right\",\"Right\",\"Left\",\"Left\",\"Left\",\"Left\",\"Right\",\"Right\",\"Left\",\"Left\",\"Left\",\"Right\",\"Left\",\"Right\",\"Right\",\"Right\",\"Right\",\"Right\",\"Right\",\"Left\",\"Left\",\"Right\",\"Right\",\"Right\",\"Left\",\"Right\",\"Right\",\"Right\",\"Right\",\"Left\",\"Right\",\"Right\",\"Right\",\"Right\",\"Right\",\"Right\",\"Left\",\"Right\",\"Right\",\"Right\",\"Right\",\"Right\",\"Right\",\"Right\",\"Right\",\"Right\",\"Right\",\"Left\",\"Right\",\"Right\",\"Left\",\"Right\",\"Right\",\"Right\",\"Right\",\"Right\",\"Left\",\"Right\",\"Right\",\"Right\",\"Right\",\"Right\",\"Right\",\"Right\",\"Left\",\"Right\",\"Right\",\"Right\",\"Left\",\"Right\",\"Right\",\"Right\",\"Right\",\"Right\",\"Left\",\"Right\",\"Right\",\"Right\",\"Right\",\"Left\",\"Right\",\"Right\",\"Left\",\"Right\",\"Left\",\"Left\",\"Right\",\"Left\",\"Right\",\"Right\",\"Right\",\"Right\",\"Right\",\"Left\",\"Left\",\"Left\",\"Left\",\"Right\",\"Right\",\"Right\",\"Right\",\"Left\",\"Left\",\"Right\",\"Right\",\"Right\",\"Right\",\"Left\",\"Right\",\"Right\",\"Left\",\"Right\",\"Left\",\"Right\",\"Right\",\"Right\",\"Right\",\"Right\",\"Right\",\"Right\",\"Right\",\"Right\",\"Left\",\"Right\",\"Right\",\"Left\",\"Right\",\"Right\",\"Left\",\"Left\",\"Right\",\"Right\",\"Right\",\"Right\",\"Left\",\"Right\",\"Right\",\"Right\",\"Right\",\"Right\",\"Right\",\"Right\",\"Right\",\"Right\",\"Right\",\"Left\",\"Right\",\"Right\",\"Right\",\"Right\",\"Right\",\"Right\",\"Left\",\"Left\",\"Left\",\"Right\",\"Left\",\"Right\",\"Right\",\"Right\",\"Left\",\"Right\",\"Left\",\"Right\",\"Right\",\"Right\",\"Right\",\"Right\",\"Right\",\"Right\",\"Right\",\"Right\",\"Right\",\"Right\",\"Left\",\"Left\",\"Right\",\"Right\",\"Left\",\"Right\",\"Right\",\"Right\",\"Left\",\"Right\",\"Right\",\"Right\",\"Right\",\"Left\",\"Right\",\"Left\",\"Right\",\"Right\",\"Right\",\"Right\",\"Right\",\"Right\",\"Right\",\"Right\",\"Right\",\"Left\",\"Right\",\"Right\",\"Right\",\"Right\",\"Right\",\"Right\",\"Left\",\"Right\",\"Right\",\"Right\",\"Right\",\"Left\",\"Right\",\"Right\",\"Right\",\"Right\",\"Right\",\"Left\",\"Right\",\"Right\",\"Right\",\"Right\",\"Right\",\"Right\",\"Right\",\"Right\",\"Right\",\"Right\",\"Left\",\"Left\",\"Right\",\"Right\",\"Right\",\"Left\",\"Right\",\"Right\",\"Left\",\"Left\",\"Right\",\"Right\",\"Left\",\"Right\",\"Left\",\"Left\",\"Right\",\"Right\",\"Left\",\"Right\",\"Left\",\"Right\",\"Right\",\"Right\",\"Right\",\"Right\",\"Right\",\"Right\",\"Right\",\"Right\",\"Left\",\"Right\",\"Right\",\"Right\",\"Left\",\"Right\",\"Right\",\"Right\",\"Right\",\"Right\",\"Right\",\"Right\",\"Right\",\"Right\",\"Right\",\"Right\",\"Right\",\"Right\",\"Right\",\"Right\",\"Left\",\"Right\",\"Left\",\"Right\",\"Right\",\"Right\",\"Right\",\"Right\",\"Left\",\"Left\",\"Right\",\"Left\",\"Right\",\"Right\",\"Right\",\"Right\",\"Left\",\"Right\",\"Left\",\"Right\",\"Left\",\"Right\",\"Right\",\"Left\",\"Right\",\"Left\",\"Right\",\"Right\",\"Right\",\"Right\",\"Right\",\"Right\",\"Right\",\"Right\",\"Right\",\"Right\",\"Right\",\"Right\",\"Right\",\"Right\",\"Right\",\"Right\",\"Right\",\"Left\",\"Right\",\"Right\",\"Right\",\"Right\",\"Right\",\"Right\",\"Right\",\"Left\",\"Right\",\"Right\",\"Right\",\"Right\",\"Right\",\"Left\",\"Left\",\"Right\",\"Right\",\"Left\",\"Right\",\"Left\",\"Right\",\"Right\",\"Left\",\"Right\",\"Right\",\"Left\",\"Right\",\"Right\",\"Right\",\"Right\",\"Right\",\"Right\",\"Right\",\"Left\",\"Right\",\"Left\",\"Right\",\"Right\",\"Right\",\"Right\",\"Right\",\"Right\",\"Left\",\"Left\",\"Right\",\"Right\",\"Right\",\"Left\",\"Right\",\"Right\",\"Right\",\"Left\",\"Right\",\"Right\",\"Right\",\"Right\",\"Right\",\"Right\",\"Right\",\"Right\",\"Right\",\"Right\",\"Right\",\"Right\",\"Right\",\"Right\",\"Right\",\"Right\",\"Left\",\"Left\",\"Right\",\"Right\",\"Left\",\"Right\",\"Left\",\"Right\",\"Right\",\"Right\",\"Right\",\"Left\",\"Right\",\"Left\",\"Right\",\"Right\",\"Right\",\"Left\",\"Left\",\"Right\",\"Right\",\"Left\",\"Right\",\"Right\",\"Right\",\"Right\",\"Right\",\"Right\",\"Left\",\"Right\",\"Right\",\"Right\",\"Right\",\"Right\",\"Right\",\"Right\",\"Left\",\"Right\",\"Right\",\"Right\",\"Right\",\"Right\",\"Right\",\"Right\",\"Right\",\"Right\",\"Right\",\"Right\",\"Right\",\"Right\",\"Right\",\"Right\",\"Left\",\"Right\",\"Right\",\"Right\",\"Left\",\"Left\",\"Right\",\"Right\",\"Right\",\"Right\",\"Right\",\"Left\",\"Right\",\"Left\",\"Right\",\"Left\",\"Right\",\"Left\",\"Right\",\"Right\",\"Right\",\"Right\",\"Left\",\"Left\",\"Right\",\"Right\",\"Right\",\"Right\",\"Right\",\"Left\",\"Right\",\"Right\",\"Right\",\"Right\",\"Right\",\"Left\",\"Right\",\"Left\",\"Left\",\"Right\",\"Left\",\"Right\",\"Right\",\"Right\",\"Right\",\"Right\",\"Right\",\"Right\",\"Right\",\"Right\",\"Right\",\"Right\",\"Right\",\"Left\",\"Right\",\"Right\",\"Right\",\"Left\",\"Left\",\"Right\",\"Left\",\"Right\",\"Right\",\"Left\",\"Right\",\"Right\",\"Right\",\"Right\",\"Right\",\"Right\",\"Left\",\"Right\",\"Right\",\"Left\",\"Right\",\"Right\",\"Left\",\"Right\",\"Right\",\"Right\",\"Left\",\"Right\",\"Right\",\"Right\",\"Left\",\"Right\",\"Left\",\"Right\",\"Left\",\"Right\",\"Right\",\"Left\",\"Right\",\"Right\",\"Left\",\"Right\",\"Right\",\"Right\",\"Right\",\"Right\",\"Right\",\"Right\",\"Left\",\"Right\",\"Right\",\"Left\",\"Right\",\"Right\",\"Right\",\"Right\",\"Right\",\"Right\",\"Right\",\"Left\",\"Left\",\"Left\",\"Right\",\"Right\",\"Right\",\"Left\",\"Left\",\"Right\",\"Right\",\"Left\",\"Right\",\"Right\",\"Right\",\"Left\",\"Right\",\"Left\",\"Right\",\"Right\",\"Right\",\"Right\",\"Right\",\"Left\",\"Right\",\"Left\",\"Right\",\"Left\",\"Right\",\"Left\",\"Right\",\"Right\",\"Right\",\"Left\",\"Right\",\"Right\",\"Left\",\"Left\",\"Left\",\"Right\",\"Right\",\"Right\",\"Right\",\"Right\",\"Right\",\"Right\",\"Right\",\"Right\",\"Right\",\"Right\",\"Right\",\"Right\",\"Right\",\"Right\",\"Right\",\"Right\",\"Right\",\"Right\",\"Right\",\"Right\",\"Left\",\"Right\",\"Right\",\"Right\",\"Left\",\"Left\",\"Right\",\"Right\",\"Right\",\"Left\",\"Right\",\"Right\",\"Right\",\"Right\",\"Right\",\"Left\",\"Right\",\"Right\",\"Right\",\"Right\",\"Right\",\"Right\",\"Left\",\"Right\",\"Right\",\"Left\",\"Left\",\"Left\",\"Right\",\"Right\",\"Right\",\"Right\",\"Right\",\"Right\",\"Right\",\"Left\",\"Right\",\"Right\",\"Right\",\"Right\",\"Left\",\"Right\",\"Right\",\"Right\",\"Right\",\"Right\",\"Left\",\"Left\",\"Right\",\"Right\",\"Right\",\"Left\",\"Right\",\"Right\",\"Right\",\"Left\",\"Left\",\"Right\",\"Left\",\"Right\",\"Left\",\"Left\",\"Right\",\"Right\",\"Right\",\"Right\",\"Right\",\"Left\",\"Right\",\"Right\",\"Left\",\"Right\",\"Left\",\"Right\",\"Right\",\"Left\",\"Right\",\"Left\",\"Right\",\"Right\",\"Right\",\"Right\",\"Right\",\"Right\",\"Right\",\"Right\",\"Right\",\"Right\",\"Left\",\"Right\",\"Right\",\"Right\",\"Right\",\"Right\",\"Right\",\"Right\",\"Right\",\"Right\",\"Right\",\"Right\",\"Right\",\"Right\",\"Right\",\"Right\",\"Right\",\"Left\",\"Right\",\"Right\",\"Left\",\"Right\",\"Right\",\"Right\",\"Right\",\"Right\",\"Right\",\"Right\",\"Right\",\"Right\",\"Right\",\"Right\",\"Right\",\"Right\",\"Right\",\"Left\",\"Right\",\"Right\",\"Right\",\"Right\",\"Right\",\"Right\",\"Right\",\"Right\",\"Right\",\"Right\",\"Right\",\"Left\",\"Right\",\"Right\",\"Right\",\"Right\",\"Right\",\"Right\",\"Right\",\"Right\",\"Right\",\"Right\",\"Right\",\"Right\",\"Left\",\"Right\",\"Left\",\"Right\",\"Right\",\"Right\",\"Left\",\"Left\",\"Left\",\"Right\",\"Left\",\"Left\",\"Right\",\"Left\",\"Right\",\"Right\",\"Right\",\"Right\",\"Right\",\"Right\",\"Right\",\"Right\",\"Right\",\"Left\",\"Right\",\"Right\",\"Left\",\"Right\",\"Right\",\"Right\",\"Left\",\"Left\",\"Right\",\"Right\",\"Right\",\"Right\",\"Right\",\"Right\",\"Left\",\"Right\",\"Right\",\"Left\",\"Right\",\"Right\",\"Left\",\"Right\",\"Right\",\"Right\",\"Right\",\"Right\",\"Right\",\"Right\",\"Right\",\"Right\",\"Right\",\"Right\",\"Right\",\"Left\",\"Left\",\"Right\",\"Left\",\"Left\",\"Right\",\"Left\",\"Right\",\"Right\",\"Left\",\"Left\",\"Right\",\"Left\",\"Right\",\"Left\",\"Right\",\"Left\",\"Right\",\"Left\",\"Right\",\"Right\",\"Left\",\"Right\",\"Left\",\"Right\",\"Right\",\"Left\",\"Right\",\"Right\",\"Right\",\"Right\",\"Right\",\"Right\",\"Right\",\"Right\",\"Right\",\"Right\",\"Right\",\"Left\",\"Left\",\"Right\",\"Right\",\"Right\",\"Right\",\"Right\",\"Right\",\"Right\",\"Right\",\"Right\",\"Right\",\"Right\",\"Right\",\"Left\",\"Right\",\"Left\",\"Right\",\"Right\",\"Right\",\"Right\",\"Left\",\"Left\",\"Right\",\"Right\",\"Right\",\"Right\",\"Right\",\"Right\",\"Left\",\"Left\",\"Left\",\"Right\",\"Right\",\"Left\",\"Right\",\"Right\",\"Right\",\"Right\",\"Right\",\"Right\",\"Right\",\"Left\",\"Left\",\"Right\",\"Right\",\"Right\",\"Right\",\"Right\",\"Left\",\"Right\",\"Right\",\"Right\",\"Left\",\"Left\",\"Right\",\"Right\",\"Left\",\"Right\",\"Right\",\"Right\",\"Right\",\"Left\",\"Left\",\"Right\",\"Right\",\"Right\",\"Left\",\"Left\",\"Right\",\"Right\",\"Right\",\"Right\",\"Right\",\"Right\",\"Left\",\"Right\",\"Right\",\"Right\",\"Right\",\"Left\",\"Left\",\"Right\",\"Left\",\"Right\",\"Right\",\"Right\",\"Right\",\"Right\",\"Right\",\"Left\",\"Right\",\"Left\",\"Right\",\"Right\",\"Right\",\"Right\",\"Left\",\"Right\",\"Right\",\"Left\",\"Right\",\"Right\",\"Left\",\"Left\",\"Right\",\"Right\",\"Left\",\"Right\",\"Right\",\"Left\",\"Right\",\"Right\",\"Right\",\"Right\",\"Left\",\"Right\",\"Right\",\"Right\",\"Left\",\"Right\",\"Right\",\"Right\",\"Left\",\"Left\",\"Right\",\"Right\",\"Right\",\"Right\",\"Right\",\"Right\",\"Left\",\"Right\",\"Right\",\"Right\",\"Right\",\"Right\",\"Left\",\"Right\",\"Right\",\"Right\",\"Right\",\"Right\",\"Right\",\"Right\",\"Left\",\"Right\",\"Right\",\"Right\",\"Left\",\"Right\",\"Left\",\"Right\",\"Left\",\"Right\",\"Left\",\"Right\",\"Right\",\"Right\",\"Right\",\"Right\",\"Right\",\"Right\",\"Right\",\"Right\",\"Right\",\"Right\",\"Right\",\"Right\",\"Left\",\"Right\",\"Right\",\"Right\",\"Right\",\"Right\",\"Right\",\"Right\",\"Right\",\"Right\",\"Right\",\"Right\",\"Left\",\"Left\",\"Right\",\"Right\",\"Right\",\"Right\",\"Right\",\"Right\",\"Left\",\"Right\",\"Left\",\"Right\",\"Right\",\"Right\",\"Left\",\"Right\",\"Right\",\"Right\",\"Right\",\"Right\",\"Right\",\"Right\",\"Right\",\"Right\",\"Right\",\"Right\",\"Right\",\"Right\",\"Left\",\"Right\",\"Left\",\"Right\",\"Right\",\"Right\",\"Right\",\"Right\",\"Right\",\"Right\",\"Right\",\"Right\",\"Right\",\"Right\",\"Right\",\"Right\",\"Right\",\"Right\",\"Right\",\"Right\",\"Left\",\"Left\",\"Left\",\"Left\",\"Right\",\"Right\",\"Left\",\"Right\",\"Right\",\"Right\",\"Right\",\"Right\",\"Right\",\"Right\",\"Right\",\"Right\",\"Right\",\"Right\",\"Left\",\"Right\",\"Right\",\"Right\",\"Right\",\"Right\",\"Right\",\"Right\",\"Right\",\"Right\",\"Left\",\"Right\",\"Right\",\"Right\",\"Left\",\"Right\",\"Left\",\"Left\",\"Left\",\"Right\",\"Right\",\"Left\",\"Right\",\"Left\",\"Left\",\"Right\",\"Right\",\"Left\",\"Right\",\"Right\",\"Left\",\"Right\",\"Left\",\"Right\",\"Left\",\"Left\",\"Right\",\"Right\",\"Left\",\"Right\",\"Left\",\"Right\",\"Right\",\"Right\",\"Right\",\"Right\",\"Right\",\"Right\",\"Right\",\"Left\",\"Left\",\"Left\",\"Right\",\"Right\",\"Right\",\"Right\",\"Right\",\"Left\",\"Right\",\"Right\",\"Right\",\"Right\",\"Right\",\"Right\",\"Right\",\"Left\",\"Right\",\"Right\",\"Right\",\"Right\",\"Right\",\"Right\",\"Right\",\"Left\",\"Right\",\"Right\",\"Right\",\"Right\",\"Right\",\"Right\",\"Left\",\"Right\",\"Right\",\"Right\",\"Right\",\"Right\",\"Left\",\"Right\",\"Left\",\"Right\",\"Right\",\"Right\",\"Right\",\"Right\",\"Left\",\"Left\",\"Right\",\"Left\",\"Right\",\"Right\",\"Right\",\"Left\",\"Right\",\"Right\",\"Left\",\"Left\",\"Left\",\"Right\",\"Right\",\"Right\",\"Left\",\"Left\",\"Right\",\"Right\",\"Left\",\"Right\",\"Right\",\"Left\",\"Right\",\"Right\",\"Right\",\"Left\",\"Left\",\"Left\",\"Left\",\"Right\",\"Left\",\"Right\",\"Right\",\"Right\",\"Right\",\"Right\",\"Right\",\"Right\",\"Right\",\"Left\",\"Left\",\"Right\",\"Left\",\"Right\",\"Right\",\"Right\",\"Right\",\"Left\",\"Right\",\"Right\",\"Right\",\"Left\",\"Right\",\"Right\",\"Left\",\"Left\",\"Right\",\"Right\",\"Right\",\"Right\",\"Right\",\"Right\",\"Right\",\"Right\",\"Right\",\"Left\",\"Right\",\"Right\",\"Right\",\"Right\",\"Right\",\"Left\",\"Right\",\"Left\",\"Right\",\"Right\",\"Right\",\"Left\",\"Right\",\"Left\",\"Right\",\"Right\",\"Right\",\"Left\",\"Right\",\"Right\",\"Right\",\"Right\",\"Right\",\"Right\",\"Left\",\"Right\",\"Right\",\"Right\",\"Right\",\"Left\",\"Right\",\"Right\",\"Left\",\"Right\",\"Right\",\"Right\",\"Right\",\"Left\",\"Right\",\"Right\",\"Left\",\"Right\",\"Right\",\"Right\",\"Left\",\"Right\",\"Right\",\"Right\",\"Right\",\"Right\",\"Left\",\"Left\",\"Right\",\"Right\",\"Right\",\"Right\",\"Right\",\"Right\",\"Left\",\"Left\",\"Right\",\"Right\",\"Right\",\"Right\",\"Right\",\"Right\",\"Right\",\"Left\",\"Left\",\"Right\",\"Right\",\"Right\",\"Right\",\"Right\",\"Right\",\"Right\",\"Right\",\"Right\",\"Left\",\"Right\",\"Left\",\"Right\",\"Right\",\"Right\",\"Right\",\"Left\",\"Right\",\"Right\",\"Right\",\"Right\",\"Right\",\"Left\",\"Right\",\"Right\",\"Right\",\"Right\",\"Left\",\"Left\",\"Right\",\"Right\",\"Right\",\"Right\",\"Left\",\"Right\",\"Left\",\"Left\",\"Left\",\"Right\",\"Left\",\"Right\",\"Right\",\"Left\",\"Right\",\"Right\",\"Right\",\"Right\",\"Right\",\"Right\",\"Left\",\"Right\",\"Right\",\"Right\",\"Right\",\"Left\",\"Left\",\"Right\",\"Right\",\"Right\",\"Right\",\"Right\",\"Right\",\"Right\",\"Left\",\"Right\",\"Left\",\"Left\",\"Right\",\"Right\",\"Right\",\"Left\",\"Left\",\"Right\",\"Left\",\"Right\",\"Right\",\"Left\",\"Right\",\"Right\",\"Right\",\"Left\",\"Left\",\"Right\",\"Right\",\"Left\",\"Left\",\"Right\",\"Right\",\"Right\",\"Left\",\"Right\",\"Right\",\"Right\",\"Right\",\"Right\",\"Left\",\"Right\",\"Right\",\"Right\",\"Right\",\"Right\",\"Right\",\"Right\",\"Left\",\"Right\",\"Right\",\"Right\",\"Right\",\"Right\",\"Left\",\"Left\",\"Left\",\"Right\",\"Right\",\"Right\",\"Left\",\"Right\",\"Right\",\"Right\",\"Right\",\"Right\",\"Right\",\"Right\",\"Right\",\"Right\",\"Right\",\"Right\",\"Right\",\"Right\",\"Right\",\"Right\",\"Right\",\"Right\",\"Right\",\"Right\",\"Right\",\"Right\",\"Left\",\"Left\",\"Right\",\"Right\",\"Right\",\"Right\",\"Right\",\"Right\",\"Right\",\"Right\",\"Right\",\"Left\",\"Right\",\"Left\",\"Right\",\"Right\",\"Right\",\"Right\",\"Right\",\"Left\",\"Right\",\"Right\",\"Left\",\"Right\",\"Right\",\"Right\",\"Right\",\"Right\",\"Right\",\"Right\",\"Right\",\"Left\",\"Right\",\"Right\",\"Right\",\"Right\",\"Right\",\"Right\",\"Right\",\"Right\",\"Right\",\"Right\",\"Right\",\"Right\",\"Right\",\"Right\",\"Right\",\"Right\",\"Left\",\"Right\",\"Left\",\"Left\",\"Left\",\"Left\",\"Right\",\"Right\",\"Right\",\"Right\",\"Left\",\"Right\",\"Left\",\"Right\",\"Right\",\"Left\",\"Right\",\"Right\",\"Right\",\"Left\",\"Left\",\"Right\",\"Left\",\"Right\",\"Right\",\"Right\",\"Right\",\"Right\",\"Right\",\"Right\",\"Right\",\"Right\",\"Right\",\"Left\",\"Right\",\"Right\",\"Right\",\"Right\",\"Right\",\"Left\",\"Right\",\"Right\",\"Right\",\"Right\",\"Right\",\"Right\",\"Left\",\"Right\",\"Right\",\"Right\",\"Right\",\"Right\",\"Right\",\"Right\",\"Left\",\"Left\",\"Left\",\"Right\",\"Left\",\"Left\",\"Right\",\"Right\",\"Right\",\"Right\",\"Right\",\"Left\",\"Right\",\"Left\",\"Right\",\"Right\",\"Right\",\"Right\",\"Left\",\"Right\",\"Left\",\"Right\",\"Right\",\"Right\",\"Right\",\"Right\",\"Right\",\"Right\",\"Left\",\"Right\",\"Right\",\"Left\",\"Left\",\"Left\",\"Right\",\"Right\",\"Right\",\"Right\",\"Right\",\"Right\",\"Right\",\"Left\",\"Right\",\"Right\",\"Right\",\"Right\",\"Right\",\"Right\",\"Right\",\"Right\",\"Right\",\"Right\",\"Right\",\"Right\",\"Right\",\"Right\",\"Right\",\"Left\",\"Right\",\"Right\",\"Left\",\"Right\",\"Right\",\"Right\",\"Right\",\"Right\",\"Right\",\"Right\",\"Right\",\"Right\",\"Right\",\"Left\",\"Left\",\"Right\",\"Left\",\"Right\",\"Right\",\"Right\",\"Right\",\"Right\",\"Left\",\"Right\",\"Right\",\"Right\",\"Right\",\"Left\",\"Right\",\"Right\",\"Right\",\"Left\",\"Left\",\"Right\",\"Left\",\"Right\",\"Left\",\"Left\",\"Left\",\"Right\",\"Right\",\"Right\",\"Left\",\"Right\",\"Left\",\"Right\",\"Left\",\"Left\",\"Right\",\"Right\",\"Right\",\"Right\",\"Right\",\"Left\",\"Right\",\"Left\",\"Right\",\"Right\",\"Right\",\"Left\",\"Left\",\"Right\",\"Right\",\"Right\",\"Right\",\"Left\",\"Right\",\"Right\",\"Right\",\"Right\",\"Right\",\"Right\",\"Right\",\"Right\",\"Right\",\"Right\",\"Left\",\"Right\",\"Right\",\"Left\",\"Right\",\"Left\",\"Right\",\"Left\",\"Right\",\"Right\",\"Right\",\"Right\",\"Right\",\"Right\",\"Left\",\"Right\",\"Right\",\"Right\",\"Left\",\"Left\",\"Right\",\"Right\",\"Right\",\"Right\",\"Right\",\"Right\",\"Right\",\"Left\",\"Right\",\"Right\",\"Right\",\"Right\",\"Right\",\"Left\",\"Right\",\"Right\",\"Right\",\"Right\",\"Right\",\"Left\",\"Right\",\"Right\",\"Right\",\"Left\",\"Left\",\"Right\",\"Left\",\"Right\",\"Left\",\"Left\",\"Right\",\"Right\",\"Right\",\"Left\",\"Right\",\"Right\",\"Right\",\"Right\",\"Left\",\"Right\",\"Left\",\"Right\",\"Right\",\"Right\",\"Right\",\"Right\",\"Right\",\"Right\",\"Right\",\"Right\",\"Right\",\"Right\",\"Right\",\"Left\",\"Right\",\"Right\",\"Left\",\"Left\",\"Right\",\"Right\",\"Right\",\"Right\",\"Right\",\"Right\",\"Right\",\"Left\",\"Left\",\"Right\",\"Right\",\"Right\",\"Right\",\"Right\",\"Right\",\"Right\",\"Right\",\"Right\",\"Left\",\"Right\",\"Right\",\"Right\",\"Right\",\"Left\",\"Right\",\"Left\",\"Right\",\"Left\",\"Right\",\"Right\",\"Right\",\"Right\",\"Left\",\"Right\",\"Right\",\"Right\",\"Right\",\"Right\",\"Right\",\"Right\",\"Right\",\"Right\",\"Left\",\"Left\",\"Right\",\"Right\",\"Right\",\"Right\",\"Right\",\"Right\",\"Right\",\"Right\",\"Right\",\"Right\",\"Right\",\"Left\",\"Right\",\"Right\",\"Right\",\"Right\",\"Right\",\"Right\",\"Left\",\"Right\",\"Right\",\"Right\",\"Right\",\"Right\",\"Left\",\"Right\",\"Left\",\"Right\",\"Right\",\"Right\",\"Right\",\"Right\",\"Right\",\"Left\",\"Right\",\"Right\",\"Right\",\"Left\",\"Left\",\"Left\",\"Right\",\"Right\",\"Right\",\"Right\",\"Right\",\"Right\",\"Right\",\"Left\",\"Right\",\"Right\",\"Left\",\"Right\",\"Right\",\"Left\",\"Right\",\"Right\",\"Left\",\"Left\",\"Left\",\"Right\",\"Right\",\"Right\",\"Right\",\"Right\",\"Left\",\"Right\",\"Right\",\"Left\",\"Right\",\"Right\",\"Left\",\"Right\",\"Right\",\"Right\",\"Right\",\"Left\",\"Right\",\"Right\",\"Right\",\"Left\",\"Right\",\"Right\",\"Left\",\"Right\",\"Right\",\"Right\",\"Right\",\"Right\",\"Left\",\"Right\",\"Right\",\"Right\",\"Right\",\"Right\",\"Right\",\"Right\",\"Left\",\"Right\",\"Right\",\"Right\",\"Left\",\"Right\",\"Right\",\"Left\",\"Right\",\"Left\",\"Right\",\"Right\",\"Left\",\"Right\",\"Left\",\"Left\",\"Right\",\"Right\",\"Left\",\"Right\",\"Right\",\"Left\",\"Left\",\"Right\",\"Right\",\"Left\",\"Right\",\"Right\",\"Right\",\"Right\",\"Right\",\"Right\",\"Right\",\"Right\",\"Left\",\"Right\",\"Right\",\"Right\",\"Right\",\"Left\",\"Left\",\"Left\",\"Left\",\"Right\",\"Right\",\"Left\",\"Left\",\"Left\",\"Right\",\"Right\",\"Left\",\"Right\",\"Right\",\"Right\",\"Right\",\"Right\",\"Left\",\"Right\",\"Left\",\"Right\",\"Right\",\"Right\",\"Right\",\"Right\",\"Right\",\"Left\",\"Right\",\"Right\",\"Right\",\"Right\",\"Right\",\"Right\",\"Right\",\"Right\",\"Right\",\"Left\",\"Right\",\"Right\",\"Right\",\"Right\",\"Right\",\"Left\",\"Right\",\"Left\",\"Right\",\"Right\",\"Left\",\"Right\",\"Right\",\"Right\",\"Left\",\"Left\",\"Right\",\"Right\",\"Right\",\"Right\",\"Right\",\"Right\",\"Right\",\"Right\",\"Right\",\"Right\",\"Left\",\"Right\",\"Right\",\"Right\",\"Right\",\"Right\",\"Left\",\"Right\",\"Right\",\"Right\",\"Right\",\"Left\",\"Right\",\"Left\",\"Left\",\"Right\",\"Right\",\"Right\",\"Right\",\"Right\",\"Right\",\"Left\",\"Left\",\"Right\",\"Right\",\"Right\",\"Right\",\"Right\",\"Right\",\"Left\",\"Right\",\"Right\",\"Right\",\"Right\",\"Right\",\"Right\",\"Right\",\"Right\",\"Left\",\"Right\",\"Right\",\"Right\",\"Right\",\"Right\",\"Left\",\"Left\",\"Right\",\"Right\",\"Left\",\"Right\",\"Right\",\"Right\",\"Left\",\"Left\",\"Right\",\"Right\",\"Right\",\"Right\",\"Right\",\"Right\",\"Left\",\"Right\",\"Right\",\"Left\",\"Left\",\"Left\",\"Right\",\"Right\",\"Right\",\"Right\",\"Right\",\"Right\",\"Left\",\"Left\",\"Right\",\"Right\",\"Right\",\"Right\",\"Right\",\"Right\",\"Right\",\"Left\",\"Right\",\"Right\",\"Right\",\"Right\",\"Right\",\"Right\",\"Left\",\"Right\",\"Right\",\"Right\",\"Right\",\"Right\",\"Right\",\"Right\",\"Right\",\"Right\",\"Left\",\"Left\",\"Right\",\"Right\",\"Right\",\"Right\",\"Right\",\"Right\",\"Left\",\"Left\",\"Right\",\"Right\",\"Right\",\"Right\",\"Right\",\"Left\",\"Right\",\"Left\",\"Right\",\"Right\",\"Right\",\"Right\",\"Right\",\"Right\",\"Left\",\"Left\",\"Right\",\"Right\",\"Left\",\"Right\",\"Right\",\"Left\",\"Left\",\"Right\",\"Right\",\"Right\",\"Left\",\"Left\",\"Right\",\"Right\",\"Right\",\"Right\",\"Right\",\"Right\",\"Left\",\"Right\",\"Right\",\"Left\",\"Left\",\"Right\",\"Right\",\"Right\",\"Right\",\"Right\",\"Right\",\"Right\",\"Right\",\"Left\",\"Right\",\"Right\",\"Right\",\"Right\",\"Right\",\"Right\",\"Right\",\"Right\",\"Right\",\"Right\",\"Right\",\"Left\",\"Left\",\"Right\",\"Right\",\"Left\",\"Right\",\"Right\",\"Right\",\"Right\",\"Right\",\"Right\",\"Right\",\"Right\",\"Right\",\"Right\",\"Left\",\"Right\",\"Right\",\"Right\",\"Right\",\"Right\",\"Left\",\"Left\",\"Left\",\"Right\",\"Right\",\"Right\",\"Left\",\"Right\",\"Right\",\"Right\",\"Right\",\"Right\",\"Left\",\"Right\",\"Right\",\"Left\",\"Right\",\"Right\",\"Right\",\"Right\",\"Right\",\"Right\",\"Right\",\"Left\",\"Right\",\"Right\",\"Right\",\"Left\",\"Right\",\"Right\",\"Right\",\"Right\",\"Right\",\"Right\",\"Right\",\"Left\",\"Right\",\"Right\",\"Left\",\"Right\",\"Right\",\"Left\",\"Right\",\"Right\",\"Right\",\"Right\",\"Right\",\"Right\",\"Right\",\"Right\",\"Left\",\"Right\",\"Right\",\"Right\",\"Right\",\"Left\",\"Right\",\"Right\",\"Right\",\"Left\",\"Right\",\"Right\",\"Right\",\"Right\",\"Right\",\"Right\",\"Left\",\"Right\",\"Right\",\"Left\",\"Right\",\"Right\",\"Right\",\"Right\",\"Right\",\"Right\",\"Right\",\"Left\",\"Right\",\"Left\",\"Left\",\"Right\",\"Right\",\"Right\",\"Left\",\"Right\",\"Right\",\"Left\",\"Right\",\"Right\",\"Left\",\"Right\",\"Right\",\"Right\",\"Left\",\"Left\",\"Left\",\"Right\",\"Right\",\"Left\",\"Left\",\"Right\",\"Right\",\"Right\",\"Right\",\"Right\",\"Left\",\"Left\",\"Right\",\"Right\",\"Right\",\"Left\",\"Right\",\"Left\",\"Right\",\"Right\",\"Right\",\"Right\",\"Left\",\"Right\",\"Right\",\"Right\",\"Right\",\"Right\",\"Right\",\"Right\",\"Right\",\"Right\",\"Right\",\"Right\",\"Right\",\"Right\",\"Right\",\"Right\",\"Right\",\"Right\",\"Right\",\"Right\",\"Right\",\"Right\",\"Right\",\"Left\",\"Left\",\"Right\",\"Left\",\"Right\",\"Right\",\"Right\",\"Right\",\"Right\",\"Right\",\"Left\",\"Left\",\"Right\",\"Left\",\"Left\",\"Right\",\"Right\",\"Left\",\"Right\",\"Right\",\"Right\",\"Right\",\"Right\",\"Left\",\"Right\",\"Right\",\"Left\",\"Right\",\"Right\",\"Right\",\"Right\",\"Right\",\"Right\",\"Right\",\"Right\",\"Right\",\"Right\",\"Right\",\"Left\",\"Left\",\"Right\",\"Right\",\"Right\",\"Right\",\"Right\",\"Right\",\"Right\",\"Right\",\"Left\",\"Left\",\"Right\",\"Right\",\"Right\",\"Left\",\"Right\",\"Right\",\"Left\",\"Right\",\"Right\",\"Right\",\"Left\",\"Right\",\"Right\",\"Right\",\"Right\",\"Right\",\"Right\",\"Right\",\"Right\",\"Left\",\"Right\",\"Right\",\"Left\",\"Right\",\"Left\",\"Left\",\"Right\",\"Right\",\"Right\",\"Left\",\"Left\",\"Left\",\"Right\",\"Right\",\"Left\",\"Left\",\"Left\",\"Right\",\"Left\",\"Right\",\"Right\",\"Right\",\"Right\",\"Right\",\"Left\",\"Right\",\"Right\",\"Right\",\"Right\",\"Right\",\"Right\",\"Right\",\"Right\",\"Right\",\"Right\",\"Right\",\"Right\",\"Right\",\"Left\",\"Right\",\"Right\",\"Right\",\"Right\",\"Right\",\"Right\",\"Left\",\"Right\",\"Left\",\"Right\",\"Right\",\"Left\",\"Right\",\"Right\",\"Right\",\"Right\",\"Right\",\"Right\",\"Left\",\"Right\",\"Right\",\"Right\",\"Left\",\"Right\",\"Right\",\"Right\",\"Right\",\"Left\",\"Right\",\"Right\",\"Right\",\"Right\",\"Left\",\"Right\",\"Right\",\"Right\",\"Left\",\"Right\",\"Right\",\"Right\",\"Right\",\"Right\",\"Right\",\"Right\",\"Left\",\"Right\",\"Right\",\"Right\",\"Left\",\"Right\",\"Right\",\"Right\",\"Left\",\"Left\",\"Left\",\"Left\",\"Right\",\"Right\",\"Right\",\"Right\",\"Right\",\"Left\",\"Right\",\"Left\",\"Right\",\"Left\",\"Right\",\"Right\",\"Right\",\"Right\",\"Right\",\"Left\",\"Right\",\"Left\",\"Right\",\"Right\",\"Right\",\"Right\",\"Right\",\"Right\",\"Left\",\"Left\",\"Right\",\"Left\",\"Right\",\"Left\",\"Right\",\"Right\",\"Right\",\"Right\",\"Right\",\"Right\",\"Right\",\"Left\",\"Right\",\"Right\",\"Left\",\"Right\",\"Left\",\"Right\",\"Right\",\"Right\",\"Left\",\"Right\",\"Left\",\"Right\",\"Right\",\"Left\",\"Right\",\"Left\",\"Right\",\"Right\",\"Right\",\"Left\",\"Right\",\"Right\",\"Right\",\"Right\",\"Right\",\"Left\",\"Right\",\"Left\",\"Right\",\"Right\",\"Right\",\"Right\",\"Left\",\"Right\",\"Right\",\"Left\",\"Right\",\"Right\",\"Right\",\"Right\",\"Left\",\"Right\",\"Right\",\"Left\",\"Right\",\"Left\",\"Right\",\"Left\",\"Right\",\"Right\",\"Left\",\"Right\",\"Right\",\"Right\",\"Right\",\"Right\",\"Right\",\"Right\",\"Right\",\"Right\",\"Right\",\"Right\",\"Left\",\"Right\",\"Left\",\"Left\",\"Right\",\"Right\",\"Right\",\"Left\",\"Right\",\"Right\",\"Right\",\"Left\",\"Left\",\"Right\",\"Right\",\"Left\",\"Right\",\"Right\",\"Right\",\"Right\",\"Left\",\"Right\",\"Right\",\"Right\",\"Right\",\"Right\",\"Right\",\"Right\",\"Right\",\"Right\",\"Right\",\"Right\",\"Left\",\"Right\",\"Right\",\"Right\",\"Right\",\"Left\",\"Right\",\"Right\",\"Right\",\"Right\",\"Right\",\"Left\",\"Right\",\"Left\",\"Left\",\"Right\",\"Right\",\"Right\",\"Right\",\"Right\",\"Right\",\"Right\",\"Right\",\"Right\",\"Right\",\"Right\",\"Right\",\"Right\",\"Right\",\"Left\",\"Left\",\"Right\",\"Right\",\"Right\",\"Right\",\"Right\",\"Left\",\"Right\",\"Left\",\"Right\",\"Right\",\"Right\",\"Right\",\"Right\",\"Right\",\"Right\",\"Left\",\"Right\",\"Right\",\"Left\",\"Right\",\"Right\",\"Right\",\"Right\",\"Right\",\"Right\",\"Right\",\"Right\",\"Right\",\"Right\",\"Left\",\"Right\",\"Left\",\"Right\",\"Left\",\"Right\",\"Right\",\"Right\",\"Right\",\"Right\",\"Left\",\"Right\",\"Right\",\"Left\",\"Right\",\"Right\",\"Right\",\"Right\",\"Right\",\"Right\",\"Right\",\"Right\",\"Right\",\"Right\",\"Right\",\"Left\",\"Right\",\"Right\",\"Right\",\"Left\",\"Left\",\"Right\",\"Left\",\"Right\",\"Right\",\"Right\",\"Left\",\"Right\",\"Left\",\"Right\",\"Right\",\"Right\",\"Right\",\"Right\",\"Right\",\"Right\",\"Right\",\"Right\",\"Right\",\"Right\",\"Right\",\"Left\",\"Right\",\"Right\",\"Right\",\"Right\",\"Right\",\"Left\",\"Right\",\"Right\",\"Right\",\"Left\",\"Right\",\"Right\",\"Right\",\"Right\",\"Left\",\"Right\",\"Left\",\"Right\",\"Right\",\"Left\",\"Right\",\"Left\",\"Right\",\"Right\",\"Left\",\"Right\",\"Right\",\"Right\",\"Right\",\"Right\",\"Right\",\"Right\",\"Right\",\"Right\",\"Right\",\"Right\",\"Right\",\"Right\",\"Right\",\"Right\",\"Left\",\"Right\",\"Right\",\"Left\",\"Right\",\"Right\",\"Right\",\"Right\",\"Left\",\"Left\",\"Right\",\"Left\",\"Left\",\"Right\",\"Right\",\"Right\",\"Right\",\"Right\",\"Left\",\"Left\",\"Left\",\"Right\",\"Right\",\"Right\",\"Right\",\"Right\",\"Right\",\"Left\",\"Left\",\"Right\",\"Right\",\"Right\",\"Left\",\"Right\",\"Right\",\"Right\",\"Right\",\"Left\",\"Right\",\"Right\",\"Right\",\"Right\",\"Left\",\"Right\",\"Left\",\"Right\",\"Right\",\"Right\",\"Right\",\"Right\",\"Right\",\"Right\",\"Right\",\"Right\",\"Right\",\"Right\",\"Right\",\"Left\",\"Right\",\"Right\",\"Right\",\"Right\",\"Right\",\"Right\",\"Right\",\"Right\",\"Right\",\"Left\",\"Right\",\"Left\",\"Right\",\"Right\",\"Right\",\"Left\",\"Right\",\"Right\",\"Left\",\"Right\",\"Right\",\"Right\",\"Right\",\"Right\",\"Right\",\"Right\",\"Left\",\"Right\",\"Right\",\"Right\",\"Left\",\"Right\",\"Right\",\"Right\",\"Right\",\"Left\",\"Right\",\"Right\",\"Right\",\"Right\",\"Right\",\"Right\",\"Right\",\"Left\",\"Left\",\"Left\",\"Right\",\"Right\",\"Right\",\"Right\",\"Right\",\"Left\",\"Right\",\"Right\",\"Left\",\"Right\",\"Left\",\"Right\",\"Right\",\"Right\",\"Right\",\"Right\",\"Right\",\"Right\",\"Left\",\"Right\",\"Left\",\"Left\",\"Right\",\"Right\",\"Right\",\"Right\",\"Left\",\"Right\",\"Right\",\"Left\",\"Right\",\"Right\",\"Left\",\"Right\",\"Right\",\"Right\",\"Right\",\"Left\",\"Left\",\"Right\",\"Left\",\"Left\",\"Left\",\"Right\",\"Right\",\"Right\",\"Right\",\"Left\",\"Left\",\"Right\",\"Right\",\"Left\",\"Left\",\"Right\",\"Right\",\"Left\",\"Right\",\"Right\",\"Right\",\"Left\",\"Right\",\"Right\",\"Left\",\"Left\",\"Left\",\"Right\",\"Right\",\"Right\",\"Right\",\"Right\",\"Left\",\"Right\",\"Left\",\"Right\",\"Left\",\"Right\",\"Left\",\"Right\",\"Left\",\"Right\",\"Left\",\"Right\",\"Right\",\"Right\",\"Right\",\"Right\",\"Right\",\"Right\",\"Left\",\"Right\",\"Right\",\"Right\",\"Right\",\"Right\",\"Right\",\"Left\",\"Left\",\"Left\",\"Right\",\"Left\",\"Right\",\"Right\",\"Right\",\"Right\",\"Right\",\"Right\",\"Right\",\"Right\",\"Right\",\"Left\",\"Right\",\"Right\",\"Left\",\"Left\",\"Left\",\"Right\",\"Right\",\"Left\",\"Right\",\"Right\",\"Right\",\"Right\",\"Right\",\"Left\",\"Right\",\"Right\",\"Right\",\"Right\",\"Right\",\"Right\",\"Left\",\"Left\",\"Right\",\"Right\",\"Left\",\"Right\",\"Left\",\"Right\",\"Right\",\"Right\",\"Right\",\"Right\",\"Left\",\"Left\",\"Right\",\"Right\",\"Right\",\"Left\",\"Right\",\"Left\",\"Right\",\"Right\",\"Right\",\"Right\",\"Right\",\"Right\",\"Right\",\"Left\",\"Right\",\"Right\",\"Right\",\"Right\",\"Right\",\"Left\",\"Right\",\"Right\",\"Right\",\"Left\",\"Right\",\"Right\",\"Right\",\"Left\",\"Right\",\"Right\",\"Right\",\"Right\",\"Right\",\"Right\",\"Right\",\"Right\",\"Left\",\"Left\",\"Right\",\"Right\",\"Left\",\"Right\",\"Left\",\"Right\",\"Right\",\"Right\",\"Right\",\"Right\",\"Right\",\"Left\",\"Left\",\"Right\",\"Right\",\"Left\",\"Right\",\"Right\",\"Right\",\"Right\",\"Right\",\"Right\",\"Right\",\"Right\",\"Right\",\"Right\",\"Left\",\"Right\",\"Right\",\"Right\",\"Right\",\"Right\",\"Left\",\"Right\",\"Right\",\"Left\",\"Right\",\"Right\",\"Right\",\"Right\",\"Right\",\"Right\",\"Right\",\"Right\",\"Right\",\"Left\",\"Right\",\"Right\",\"Right\",\"Right\",\"Right\",\"Left\",\"Left\",\"Right\",\"Right\",\"Right\",\"Right\",\"Right\",\"Right\",\"Left\",\"Left\",\"Right\",\"Right\",\"Right\",\"Right\",\"Right\",\"Left\",\"Left\",\"Right\",\"Right\",\"Right\",\"Right\",\"Right\",\"Right\",\"Right\",\"Right\",\"Right\",\"Right\",\"Left\",\"Right\",\"Left\",\"Right\",\"Right\",\"Right\",\"Right\",\"Left\",\"Left\",\"Right\",\"Right\",\"Left\",\"Right\",\"Right\",\"Right\",\"Left\",\"Right\",\"Left\",\"Left\",\"Right\",\"Right\",\"Right\",\"Right\",\"Right\",\"Right\",\"Right\",\"Right\",\"Right\",\"Right\",\"Right\",\"Right\",\"Right\",\"Right\",\"Right\",\"Right\",\"Right\",\"Right\",\"Right\",\"Right\",\"Right\",\"Left\",\"Right\",\"Right\",\"Right\",\"Right\",\"Right\",\"Right\",\"Right\",\"Right\",\"Left\",\"Right\",\"Right\",\"Right\",\"Right\",\"Right\",\"Left\",\"Left\",\"Right\",\"Right\",\"Left\",\"Left\",\"Right\",\"Left\",\"Right\",\"Right\",\"Left\",\"Right\",\"Right\",\"Right\",\"Right\",\"Right\",\"Left\",\"Right\",\"Right\",\"Right\",\"Left\",\"Left\",\"Right\",\"Left\",\"Left\",\"Right\",\"Left\",\"Right\",\"Right\",\"Right\",\"Right\",\"Left\",\"Left\",\"Right\",\"Right\",\"Left\",\"Right\",\"Left\",\"Right\",\"Left\",\"Right\",\"Right\",\"Right\",\"Right\",\"Right\",\"Right\",\"Right\",\"Right\",\"Right\",\"Right\",\"Right\",\"Right\",\"Right\",\"Left\",\"Right\",\"Right\",\"Right\",\"Right\",\"Right\",\"Right\",\"Right\",\"Right\",\"Right\",\"Right\",\"Right\",\"Right\",\"Right\",\"Right\",\"Left\",\"Right\",\"Right\",\"Right\",\"Right\",\"Right\",\"Left\",\"Right\",\"Right\",\"Right\",\"Right\",\"Left\",\"Right\",\"Right\",\"Left\",\"Right\",\"Right\",\"Right\",\"Right\",\"Right\",\"Right\",\"Right\",\"Right\",\"Right\",\"Right\",\"Right\",\"Right\",\"Left\",\"Right\",\"Left\",\"Right\",\"Right\",\"Right\",\"Right\",\"Left\",\"Right\",\"Right\",\"Right\",\"Left\",\"Right\",\"Right\",\"Left\",\"Right\",\"Right\",\"Right\",\"Left\",\"Right\",\"Right\",\"Right\",\"Right\",\"Right\",\"Right\",\"Left\",\"Left\",\"Right\",\"Right\",\"Right\",\"Left\",\"Right\",\"Right\",\"Left\",\"Right\",\"Right\",\"Right\",\"Left\",\"Right\",\"Right\",\"Left\",\"Right\",\"Right\",\"Right\",\"Right\",\"Right\",\"Right\",\"Right\",\"Right\",\"Right\",\"Left\",\"Right\",\"Right\",\"Right\",\"Left\",\"Right\",\"Right\",\"Right\",\"Right\",\"Right\",\"Left\",\"Right\",\"Right\",\"Right\",\"Left\",\"Left\",\"Right\",\"Right\",\"Right\",\"Right\",\"Right\",\"Right\",\"Right\",\"Right\",\"Right\",\"Right\",\"Right\",\"Left\",\"Right\",\"Left\",\"Right\",\"Right\",\"Right\",\"Right\",\"Left\",\"Right\",\"Right\",\"Right\",\"Left\",\"Right\",\"Left\",\"Left\",\"Right\",\"Left\",\"Right\",\"Right\",\"Right\",\"Right\",\"Left\",\"Right\",\"Right\",\"Right\",\"Right\",\"Right\",\"Left\",\"Right\",\"Left\",\"Right\",\"Right\",\"Right\",\"Right\",\"Right\",\"Right\",\"Left\",\"Right\",\"Left\",\"Left\",\"Right\",\"Right\",\"Right\",\"Right\",\"Left\",\"Right\",\"Left\",\"Right\",\"Right\",\"Right\",\"Right\",\"Left\",\"Right\",\"Right\",\"Right\",\"Right\",\"Right\",\"Right\",\"Left\",\"Left\",\"Left\",\"Left\",\"Left\",\"Right\",\"Left\",\"Right\",\"Right\",\"Left\",\"Right\",\"Right\",\"Right\",\"Right\",\"Left\",\"Right\",\"Right\",\"Right\",\"Right\",\"Right\",\"Right\",\"Right\",\"Right\",\"Right\",\"Right\",\"Left\",\"Right\",\"Right\",\"Left\",\"Right\",\"Right\",\"Left\",\"Right\",\"Right\",\"Left\",\"Left\",\"Right\",\"Right\",\"Left\",\"Left\",\"Right\",\"Right\",\"Left\",\"Right\",\"Right\",\"Right\",\"Right\",\"Left\",\"Right\",\"Right\",\"Left\",\"Right\",\"Left\",\"Right\",\"Left\",\"Left\",\"Right\",\"Right\",\"Right\",\"Right\",\"Right\",\"Right\",\"Left\",\"Right\",\"Right\",\"Right\",\"Right\",\"Left\",\"Right\",\"Right\",\"Right\",\"Right\",\"Left\",\"Right\",\"Right\",\"Right\",\"Right\",\"Right\",\"Right\",\"Right\",\"Right\",\"Right\",\"Right\",\"Left\",\"Right\",\"Right\",\"Right\",\"Left\",\"Right\",\"Right\",\"Right\",\"Left\",\"Right\",\"Right\",\"Right\",\"Right\",\"Right\",\"Right\",\"Left\",\"Right\",\"Left\",\"Right\",\"Right\",\"Left\",\"Right\",\"Right\",\"Right\",\"Right\",\"Right\",\"Right\",\"Left\",\"Right\",\"Left\",\"Right\",\"Right\",\"Right\",\"Right\",\"Left\",\"Right\",\"Left\",\"Right\",\"Right\",\"Right\",\"Right\",\"Right\",\"Right\",\"Right\",\"Right\",\"Right\",\"Right\",\"Right\",\"Right\",\"Right\",\"Right\",\"Right\",\"Left\",\"Right\",\"Left\",\"Right\",\"Right\",\"Right\",\"Left\",\"Right\",\"Right\",\"Right\",\"Right\",\"Right\",\"Right\",\"Right\",\"Right\",\"Right\",\"Left\",\"Right\",\"Right\",\"Right\",\"Right\",\"Right\",\"Right\",\"Right\",\"Right\",\"Right\",\"Right\",\"Left\",\"Right\",\"Right\",\"Right\",\"Left\",\"Right\",\"Right\",\"Right\",\"Right\",\"Right\",\"Right\",\"Right\",\"Left\",\"Right\",\"Right\",\"Right\",\"Right\",\"Right\",\"Right\",\"Left\",\"Left\",\"Right\",\"Right\",\"Right\",\"Right\",\"Right\",\"Right\",\"Right\",\"Right\",\"Right\",\"Right\",\"Right\",\"Right\",\"Right\",\"Left\",\"Left\",\"Right\",\"Right\",\"Right\",\"Left\",\"Left\",\"Right\",\"Left\",\"Right\",\"Right\",\"Left\",\"Left\",\"Left\",\"Left\",\"Right\",\"Right\",\"Right\",\"Right\",\"Right\",\"Right\",\"Left\",\"Right\",\"Right\",\"Right\",\"Right\",\"Right\",\"Right\",\"Left\",\"Right\",\"Right\",\"Right\",\"Right\",\"Right\",\"Right\",\"Right\",\"Left\",\"Right\",\"Right\",\"Left\",\"Right\",\"Left\",\"Right\",\"Right\",\"Right\",\"Right\",\"Right\",\"Right\",\"Right\",\"Left\",\"Right\",\"Right\",\"Right\",\"Right\",\"Right\",\"Left\",\"Right\",\"Left\",\"Left\",\"Left\",\"Right\",\"Right\",\"Right\",\"Right\",\"Right\",\"Right\",\"Left\",\"Left\",\"Right\",\"Left\",\"Right\",\"Right\",\"Right\",\"Left\",\"Right\",\"Right\",\"Right\",\"Left\",\"Right\",\"Right\",\"Right\",\"Right\",\"Left\",\"Right\",\"Right\",\"Right\",\"Left\",\"Right\",\"Right\",\"Right\",\"Left\",\"Right\",\"Right\",\"Right\",\"Right\",\"Right\",\"Right\",\"Right\",\"Right\",\"Right\",\"Left\",\"Right\",\"Left\",\"Right\",\"Right\",\"Right\",\"Right\",\"Right\",\"Right\",\"Right\",\"Left\",\"Right\",\"Left\",\"Right\",\"Left\",\"Right\",\"Right\",\"Left\",\"Left\",\"Right\",\"Right\",\"Left\",\"Right\",\"Left\",\"Left\",\"Left\",\"Right\",\"Right\",\"Right\",\"Right\",\"Left\",\"Right\",\"Right\",\"Right\",\"Right\",\"Right\",\"Right\",\"Right\",\"Right\",\"Right\",\"Right\",\"Right\",\"Left\",\"Right\",\"Right\",\"Right\",\"Right\",\"Left\",\"Right\",\"Right\",\"Left\",\"Left\",\"Right\",\"Left\",\"Right\",\"Left\",\"Right\",\"Right\",\"Right\",\"Right\",\"Right\",\"Right\",\"Left\",\"Right\",\"Right\",\"Right\",\"Right\",\"Right\",\"Right\",\"Right\",\"Left\",\"Right\",\"Right\",\"Left\",\"Right\",\"Left\",\"Left\",\"Left\",\"Right\",\"Left\",\"Right\",\"Right\",\"Right\",\"Right\",\"Right\",\"Right\",\"Right\",\"Right\",\"Left\",\"Right\",\"Right\",\"Right\",\"Right\",\"Left\",\"Right\",\"Right\",\"Left\",\"Left\",\"Right\",\"Right\",\"Right\",\"Right\",\"Right\",\"Right\",\"Right\",\"Right\",\"Right\",\"Right\",\"Right\",\"Right\",\"Right\",\"Left\",\"Right\",\"Right\",\"Right\",\"Right\",\"Right\",\"Right\",\"Right\",\"Right\",\"Right\",\"Right\",\"Right\",\"Right\",\"Right\",\"Right\",\"Right\",\"Left\",\"Right\",\"Right\",\"Right\",\"Right\",\"Right\",\"Left\",\"Left\",\"Right\",\"Right\",\"Right\",\"Right\",\"Left\",\"Right\",\"Right\",\"Right\",\"Left\",\"Left\",\"Right\",\"Right\",\"Left\",\"Left\",\"Right\",\"Right\",\"Right\",\"Left\",\"Left\",\"Right\",\"Right\",\"Right\",\"Left\",\"Right\",\"Left\",\"Right\",\"Left\",\"Right\",\"Right\",\"Right\",\"Left\",\"Left\",\"Right\",\"Left\",\"Right\",\"Right\",\"Right\",\"Right\",\"Right\",\"Right\",\"Left\",\"Right\",\"Right\",\"Right\",\"Right\",\"Right\",\"Right\",\"Left\",\"Right\",\"Left\",\"Right\",\"Right\",\"Right\",\"Right\",\"Right\",\"Left\",\"Right\",\"Right\",\"Right\",\"Right\",\"Left\",\"Left\",\"Right\",\"Left\",\"Right\",\"Right\",\"Left\",\"Right\",\"Right\",\"Right\",\"Right\",\"Right\",\"Right\",\"Right\",\"Right\",\"Left\",\"Right\",\"Right\",\"Left\",\"Left\",\"Right\",\"Right\",\"Right\",\"Right\",\"Right\",\"Right\",\"Left\",\"Right\",\"Right\",\"Right\",\"Right\",\"Right\",\"Left\",\"Right\",\"Left\",\"Right\",\"Right\",\"Right\",\"Left\",\"Right\",\"Right\",\"Left\",\"Right\",\"Right\",\"Right\",\"Right\",\"Right\",\"Right\",\"Left\",\"Right\",\"Right\",\"Right\",\"Right\",\"Right\",\"Right\",\"Right\",\"Right\",\"Right\",\"Right\",\"Right\",\"Right\",\"Right\",\"Right\",\"Left\",\"Right\",\"Right\",\"Right\",\"Right\",\"Right\",\"Left\",\"Right\",\"Right\",\"Right\",\"Left\",\"Right\",\"Right\",\"Left\",\"Right\",\"Right\",\"Right\",\"Left\",\"Left\",\"Left\",\"Left\",\"Right\",\"Right\",\"Right\",\"Right\",\"Right\",\"Right\",\"Right\",\"Right\",\"Right\",\"Right\",\"Right\",\"Left\",\"Left\",\"Left\",\"Right\",\"Right\",\"Right\",\"Right\",\"Left\",\"Left\",\"Right\",\"Right\",\"Right\",\"Right\",\"Right\",\"Right\",\"Left\",\"Right\",\"Right\",\"Left\",\"Left\",\"Right\",\"Right\",\"Right\",\"Left\",\"Right\",\"Right\",\"Right\",\"Right\",\"Left\",\"Right\",\"Left\",\"Right\",\"Right\",\"Right\",\"Left\",\"Right\",\"Right\",\"Left\",\"Right\",\"Right\",\"Right\",\"Right\",\"Right\",\"Left\",\"Right\",\"Right\",\"Left\",\"Right\",\"Left\",\"Left\",\"Left\",\"Right\",\"Right\",\"Right\",\"Right\",\"Right\",\"Right\",\"Left\",\"Right\",\"Left\",\"Right\",\"Left\",\"Right\",\"Right\",\"Left\",\"Right\",\"Right\",\"Right\",\"Left\",\"Right\",\"Right\",\"Right\",\"Left\",\"Right\",\"Right\",\"Right\",\"Right\",\"Right\",\"Right\",\"Right\",\"Right\",\"Right\",\"Left\",\"Right\",\"Left\",\"Right\",\"Right\",\"Right\",\"Left\",\"Left\",\"Right\",\"Right\",\"Right\",\"Right\",\"Right\",\"Right\",\"Right\",\"Right\",\"Left\",\"Right\",\"Right\",\"Right\",\"Right\",\"Right\",\"Right\",\"Right\",\"Left\",\"Right\",\"Right\",\"Right\",\"Left\",\"Left\",\"Right\",\"Right\",\"Right\",\"Right\",\"Right\",\"Left\",\"Right\",\"Right\",\"Left\",\"Left\",\"Right\",\"Left\",\"Left\",\"Right\",\"Right\",\"Left\",\"Right\",\"Right\",\"Left\",\"Right\",\"Right\",\"Right\",\"Right\",\"Right\",\"Left\",\"Right\",\"Right\",\"Left\",\"Right\",\"Right\",\"Right\",\"Right\",\"Left\",\"Left\",\"Right\",\"Right\",\"Left\",\"Right\",\"Left\",\"Left\",\"Right\",\"Right\",\"Left\",\"Right\",\"Right\",\"Right\",\"Right\",\"Right\",\"Right\",\"Right\",\"Right\",\"Right\",\"Right\",\"Right\",\"Right\",\"Right\",\"Left\",\"Left\",\"Left\",\"Right\",\"Right\",\"Right\",\"Right\",\"Right\",\"Right\",\"Right\",\"Right\",\"Left\",\"Right\",\"Right\",\"Right\",\"Right\",\"Left\",\"Right\",\"Right\",\"Right\",\"Right\",\"Right\",\"Right\",\"Right\",\"Right\",\"Right\",\"Right\",\"Right\",\"Left\",\"Right\",\"Right\",\"Right\",\"Right\",\"Right\",\"Right\",\"Right\",\"Right\",\"Left\",\"Right\",\"Right\",\"Right\",\"Left\",\"Right\",\"Right\",\"Left\",\"Right\",\"Right\",\"Right\",\"Left\",\"Left\",\"Left\",\"Right\",\"Right\",\"Right\",\"Right\",\"Right\",\"Right\",\"Right\",\"Right\",\"Right\",\"Right\",\"Right\",\"Right\",\"Right\",\"Right\",\"Right\",\"Right\",\"Right\",\"Right\",\"Left\",\"Left\",\"Right\",\"Right\",\"Right\",\"Right\",\"Right\",\"Right\",\"Right\",\"Right\",\"Right\",\"Right\",\"Left\",\"Left\",\"Right\",\"Right\",\"Right\",\"Right\",\"Right\",\"Left\",\"Left\",\"Right\",\"Right\",\"Right\",\"Right\",\"Right\",\"Right\",\"Right\",\"Right\",\"Right\",\"Right\",\"Right\",\"Right\",\"Right\",\"Right\",\"Right\",\"Left\",\"Right\",\"Right\",\"Right\",\"Right\",\"Right\",\"Right\",\"Right\",\"Right\",\"Right\",\"Left\",\"Right\",\"Left\",\"Left\",\"Right\",\"Right\",\"Right\",\"Right\",\"Left\",\"Right\",\"Right\",\"Left\",\"Right\",\"Right\",\"Right\",\"Left\",\"Left\",\"Left\",\"Right\",\"Left\",\"Right\",\"Right\",\"Right\",\"Right\",\"Left\",\"Left\",\"Right\",\"Left\",\"Right\",\"Right\",\"Left\",\"Right\",\"Left\",\"Left\",\"Right\",\"Right\",\"Left\",\"Right\",\"Right\",\"Left\",\"Right\",\"Right\",\"Right\",\"Left\",\"Right\",\"Right\",\"Right\",\"Right\",\"Right\",\"Left\",\"Right\",\"Left\",\"Right\",\"Right\",\"Right\",\"Right\",\"Right\",\"Left\",\"Right\",\"Right\",\"Left\",\"Left\",\"Right\",\"Right\",\"Right\",\"Right\",\"Left\",\"Right\",\"Right\",\"Left\",\"Left\",\"Left\",\"Right\",\"Right\",\"Right\",\"Right\",\"Right\",\"Right\",\"Right\",\"Right\",\"Right\",\"Right\",\"Right\",\"Right\",\"Right\",\"Left\",\"Right\",\"Left\",\"Right\",\"Right\",\"Right\",\"Right\",\"Right\",\"Right\",\"Right\",\"Right\",\"Right\",\"Right\",\"Right\",\"Right\",\"Left\",\"Right\",\"Right\",\"Right\",\"Left\",\"Right\",\"Right\",\"Right\",\"Right\",\"Right\",\"Right\",\"Right\",\"Left\",\"Right\",\"Right\",\"Right\",\"Right\",\"Right\",\"Right\",\"Right\",\"Right\",\"Right\",\"Left\",\"Right\",\"Left\",\"Left\",\"Right\",\"Right\",\"Right\",\"Right\",\"Left\",\"Right\",\"Right\",\"Right\",\"Right\",\"Left\",\"Right\",\"Left\",\"Right\",\"Right\",\"Left\",\"Right\",\"Right\",\"Right\",\"Right\",\"Right\",\"Right\",\"Right\",\"Right\",\"Left\",\"Right\",\"Right\",\"Right\",\"Left\",\"Right\",\"Right\",\"Right\",\"Right\",\"Left\",\"Right\",\"Right\",\"Left\",\"Left\",\"Right\",\"Right\",\"Right\",\"Right\",\"Left\",\"Right\",\"Right\",\"Left\",\"Right\",\"Right\",\"Right\",\"Right\",\"Right\",\"Right\",\"Left\",\"Right\",\"Right\",\"Right\",\"Left\",\"Right\",\"Right\",\"Right\",\"Right\",\"Right\",\"Right\",\"Right\",\"Right\",\"Right\",\"Right\",\"Right\",\"Right\",\"Right\",\"Right\",\"Right\",\"Right\",\"Right\",\"Right\",\"Right\",\"Right\",\"Right\",\"Right\",\"Right\",\"Right\",\"Left\",\"Left\",\"Left\",\"Right\",\"Right\",\"Right\",\"Right\",\"Left\",\"Right\",\"Left\",\"Right\",\"Right\",\"Right\",\"Right\",\"Left\",\"Right\",\"Right\",\"Right\",\"Right\",\"Right\",\"Right\",\"Left\",\"Right\",\"Right\",\"Right\",\"Left\",\"Right\",\"Right\",\"Right\",\"Left\",\"Right\",\"Right\",\"Right\",\"Right\",\"Left\",\"Left\",\"Right\",\"Right\",\"Right\",\"Right\",\"Left\",\"Right\",\"Right\",\"Right\",\"Left\",\"Right\",\"Right\",\"Right\",\"Right\",\"Left\",\"Right\",\"Left\",\"Left\",\"Right\",\"Right\",\"Right\",\"Right\",\"Right\",\"Right\",\"Right\",\"Right\",\"Left\",\"Left\",\"Right\",\"Right\",\"Right\",\"Right\",\"Right\",\"Left\",\"Right\",\"Right\",\"Left\",\"Left\",\"Right\",\"Right\",\"Right\",\"Right\",\"Left\",\"Right\",\"Left\",\"Right\",\"Right\",\"Left\",\"Right\",\"Right\",\"Left\",\"Right\",\"Right\",\"Right\",\"Right\",\"Right\",\"Right\",\"Right\",\"Right\",\"Right\",\"Left\",\"Right\",\"Left\",\"Left\",\"Left\",\"Right\",\"Right\",\"Right\",\"Right\",\"Right\",\"Left\",\"Right\",\"Right\",\"Right\",\"Right\",\"Right\",\"Right\",\"Right\",\"Left\",\"Left\",\"Right\",\"Left\",\"Right\",\"Right\",\"Right\",\"Right\",\"Right\",\"Left\",\"Left\",\"Right\",\"Right\",\"Left\",\"Right\",\"Right\",\"Right\",\"Right\",\"Left\",\"Left\",\"Left\",\"Right\",\"Right\",\"Right\",\"Right\",\"Right\",\"Right\",\"Right\",\"Right\",\"Right\",\"Right\",\"Right\",\"Right\",\"Left\",\"Right\",\"Right\",\"Right\",\"Left\",\"Left\",\"Right\",\"Right\",\"Right\",\"Left\",\"Right\",\"Right\",\"Left\",\"Right\",\"Right\",\"Right\",\"Left\",\"Right\",\"Right\",\"Right\",\"Right\",\"Right\",\"Right\",\"Right\",\"Right\",\"Right\",\"Right\",\"Right\",\"Right\",\"Right\",\"Right\",\"Right\",\"Left\",\"Right\",\"Right\",\"Left\",\"Right\",\"Right\",\"Right\",\"Right\",\"Right\",\"Left\",\"Right\",\"Left\",\"Right\",\"Right\",\"Right\",\"Right\",\"Right\",\"Right\",\"Right\",\"Left\",\"Left\",\"Right\",\"Right\",\"Right\",\"Right\",\"Right\",\"Right\",\"Right\",\"Right\",\"Right\",\"Right\",\"Right\",\"Right\",\"Right\",\"Right\",\"Right\",\"Right\",\"Right\",\"Right\",\"Right\",\"Right\",\"Right\",\"Right\",\"Right\",\"Right\",\"Right\",\"Right\",\"Left\",\"Left\",\"Right\",\"Right\",\"Right\",\"Right\",\"Right\",\"Right\",\"Right\",\"Right\",\"Right\",\"Right\",\"Right\",\"Right\",\"Right\",\"Right\",\"Right\",\"Right\",\"Right\",\"Right\",\"Right\",\"Left\",\"Right\",\"Right\",\"Right\",\"Left\",\"Right\",\"Right\",\"Right\",\"Right\",\"Left\",\"Right\",\"Right\",\"Right\",\"Right\",\"Right\",\"Right\",\"Right\",\"Left\",\"Right\",\"Right\",\"Right\",\"Right\",\"Right\",\"Left\",\"Right\",\"Right\",\"Left\",\"Left\",\"Right\",\"Right\",\"Right\",\"Right\",\"Right\",\"Right\",\"Right\",\"Right\",\"Right\",\"Right\",\"Right\",\"Right\",\"Left\",\"Right\",\"Right\",\"Right\",\"Right\",\"Right\",\"Right\",\"Left\",\"Right\",\"Right\",\"Right\",\"Right\",\"Right\",\"Right\",\"Right\",\"Right\",\"Right\",\"Right\",\"Right\",\"Right\",\"Right\",\"Left\",\"Right\",\"Left\",\"Left\",\"Right\",\"Left\",\"Right\",\"Right\",\"Right\",\"Right\",\"Right\",\"Left\",\"Right\",\"Right\",\"Right\",\"Right\",\"Right\",\"Right\",\"Right\",\"Right\",\"Right\",\"Left\",\"Right\",\"Right\",\"Right\",\"Right\",\"Right\",\"Left\",\"Right\",\"Left\",\"Left\",\"Right\",\"Right\",\"Left\",\"Left\",\"Right\",\"Right\",\"Right\",\"Right\",\"Right\",\"Left\",\"Right\",\"Left\",\"Left\",\"Right\",\"Right\",\"Right\",\"Left\",\"Right\",\"Right\",\"Right\",\"Right\",\"Right\",\"Left\",\"Right\",\"Right\",\"Right\",\"Right\",\"Left\",\"Right\",\"Right\",\"Right\",\"Right\",\"Right\",\"Right\",\"Right\",\"Left\",\"Right\",\"Right\",\"Right\",\"Right\",\"Right\",\"Right\",\"Right\",\"Right\",\"Right\",\"Right\",\"Left\",\"Right\",\"Right\",\"Left\",\"Right\",\"Right\",\"Right\",\"Left\",\"Right\",\"Right\",\"Right\",\"Right\",\"Right\",\"Left\",\"Left\",\"Left\",\"Right\",\"Right\",\"Right\",\"Right\",\"Right\",\"Right\",\"Right\",\"Right\",\"Right\",\"Left\",\"Left\",\"Right\",\"Left\",\"Left\",\"Right\",\"Right\",\"Right\",\"Right\",\"Right\",\"Left\",\"Left\",\"Right\",\"Right\",\"Left\",\"Right\",\"Right\",\"Right\",\"Right\",\"Right\",\"Right\",\"Right\",\"Left\",\"Right\",\"Right\",\"Right\",\"Right\",\"Right\",\"Right\",\"Left\",\"Left\",\"Right\",\"Right\",\"Right\",\"Right\",\"Right\",\"Right\",\"Right\",\"Right\",\"Right\",\"Right\",\"Right\",\"Left\",\"Right\",\"Right\",\"Right\",\"Right\",\"Right\",\"Right\",\"Left\",\"Left\",\"Right\",\"Right\",\"Right\",\"Right\",\"Right\",\"Left\",\"Right\",\"Right\",\"Left\",\"Right\",\"Right\",\"Right\",\"Right\",\"Right\",\"Right\",\"Right\",\"Right\",\"Right\",\"Right\",\"Right\",\"Right\",\"Right\",\"Right\",\"Right\",\"Right\",\"Right\",\"Left\",\"Right\",\"Right\",\"Right\",\"Right\",\"Left\",\"Right\",\"Left\",\"Right\",\"Right\",\"Right\",\"Right\",\"Right\",\"Left\",\"Right\",\"Right\",\"Right\",\"Right\",\"Right\",\"Right\",\"Left\",\"Left\",\"Left\",\"Right\",\"Right\",\"Left\",\"Right\",\"Right\",\"Right\",\"Right\",\"Right\",\"Right\",\"Left\",\"Right\",\"Right\",\"Right\",\"Right\",\"Left\",\"Right\",\"Left\",\"Left\",\"Left\",\"Left\",\"Right\",\"Right\",\"Left\",\"Left\",\"Right\",\"Right\",\"Left\",\"Left\",\"Right\",\"Right\",\"Right\",\"Right\",\"Right\",\"Right\",\"Right\",\"Right\",\"Left\",\"Left\",\"Right\",\"Right\",\"Right\",\"Right\",\"Left\",\"Left\",\"Left\",\"Right\",\"Left\",\"Left\",\"Left\",\"Right\",\"Right\",\"Left\",\"Right\",\"Right\",\"Right\",\"Left\",\"Right\",\"Right\",\"Right\",\"Right\",\"Right\",\"Right\",\"Right\",\"Right\",\"Right\",\"Right\",\"Right\",\"Left\",\"Left\",\"Right\",\"Left\",\"Left\",\"Left\",\"Right\",\"Right\",\"Right\",\"Right\",\"Right\",\"Left\",\"Left\",\"Right\",\"Left\",\"Right\",\"Left\",\"Right\",\"Right\",\"Right\",\"Right\",\"Right\",\"Right\",\"Right\",\"Right\",\"Right\",\"Left\",\"Right\",\"Right\",\"Left\",\"Left\",\"Right\",\"Right\",\"Right\",\"Right\",\"Right\",\"Right\",\"Right\",\"Right\",\"Right\",\"Right\",\"Left\",\"Left\",\"Right\",\"Right\",\"Right\",\"Right\",\"Right\",\"Right\",\"Right\",\"Right\",\"Right\",\"Right\",\"Left\",\"Right\",\"Right\",\"Right\",\"Right\",\"Right\",\"Right\",\"Right\",\"Right\",\"Right\",\"Right\",\"Right\",\"Right\",\"Left\",\"Left\",\"Left\",\"Right\",\"Left\",\"Right\",\"Left\",\"Right\",\"Right\",\"Right\",\"Right\",\"Right\",\"Right\",\"Left\",\"Left\",\"Right\",\"Right\",\"Right\",\"Right\",\"Right\",\"Right\",\"Right\",\"Right\",\"Right\",\"Left\",\"Right\",\"Left\",\"Right\",\"Right\",\"Right\",\"Right\",\"Right\",\"Right\",\"Right\",\"Right\",\"Right\",\"Right\",\"Right\",\"Right\",\"Right\",\"Right\",\"Right\",\"Right\",\"Left\",\"Right\",\"Right\",\"Right\",\"Right\",\"Right\",\"Right\",\"Right\",\"Left\",\"Right\",\"Left\",\"Right\",\"Left\",\"Right\",\"Right\",\"Right\",\"Right\",\"Left\",\"Right\",\"Right\",\"Right\",\"Right\",\"Right\",\"Left\",\"Right\",\"Left\",\"Right\",\"Right\",\"Right\",\"Right\",\"Right\",\"Right\",\"Right\",\"Right\",\"Right\",\"Right\",\"Right\",\"Left\",\"Right\",\"Right\",\"Right\",\"Right\",\"Left\",\"Left\",\"Right\",\"Right\",\"Right\",\"Right\",\"Right\",\"Right\",\"Left\",\"Right\",\"Right\",\"Right\",\"Right\",\"Right\",\"Right\",\"Left\",\"Right\",\"Right\",\"Right\",\"Right\",\"Right\",\"Right\",\"Right\",\"Right\",\"Right\",\"Right\",\"Left\",\"Right\",\"Right\",\"Right\",\"Right\",\"Left\",\"Right\",\"Right\",\"Right\",\"Right\",\"Right\",\"Right\",\"Right\",\"Right\",\"Left\",\"Right\",\"Right\",\"Right\",\"Right\",\"Right\",\"Right\",\"Right\",\"Right\",\"Right\",\"Left\",\"Right\",\"Right\",\"Right\",\"Right\",\"Right\",\"Right\",\"Right\",\"Left\",\"Right\",\"Right\",\"Right\",\"Right\",\"Right\",\"Left\",\"Right\",\"Left\",\"Right\",\"Right\",\"Right\",\"Right\",\"Left\",\"Right\",\"Right\",\"Right\",\"Right\",\"Right\",\"Left\",\"Right\",\"Right\",\"Right\",\"Right\",\"Right\",\"Right\",\"Right\",\"Right\",\"Right\",\"Right\",\"Right\",\"Right\",\"Right\",\"Right\",\"Left\",\"Right\",\"Right\",\"Right\",\"Right\",\"Right\",\"Right\",\"Left\",\"Right\",\"Right\",\"Right\",\"Left\",\"Left\",\"Right\",\"Right\",\"Right\",\"Right\",\"Right\",\"Right\",\"Right\",\"Right\",\"Left\",\"Right\",\"Right\",\"Right\",\"Right\",\"Right\",\"Right\",\"Right\",\"Left\",\"Right\",\"Left\",\"Right\",\"Right\",\"Right\",\"Right\",\"Right\",\"Left\",\"Right\",\"Left\",\"Left\",\"Right\",\"Right\",\"Right\",\"Right\",\"Left\",\"Left\",\"Right\",\"Right\",\"Right\",\"Right\",\"Right\",\"Left\",\"Right\",\"Right\",\"Right\",\"Right\",\"Right\",\"Right\",\"Right\",\"Right\",\"Right\",\"Right\",\"Right\",\"Right\",\"Right\",\"Right\",\"Right\",\"Right\",\"Left\",\"Right\",\"Right\",\"Right\",\"Right\",\"Right\",\"Right\",\"Right\",\"Right\",\"Right\",\"Right\",\"Right\",\"Right\",\"Left\",\"Right\",\"Right\",\"Right\",\"Left\",\"Right\",\"Left\",\"Right\",\"Right\",\"Right\",\"Right\",\"Right\",\"Right\",\"Left\",\"Left\",\"Left\",\"Left\",\"Right\",\"Right\",\"Right\",\"Right\",\"Right\",\"Right\",\"Right\",\"Right\",\"Left\",\"Right\",\"Right\",\"Right\",\"Right\",\"Right\",\"Right\",\"Right\",\"Right\",\"Right\",\"Right\",\"Right\",\"Right\",\"Left\",\"Right\",\"Right\",\"Right\",\"Right\",\"Left\",\"Right\",\"Right\",\"Right\",\"Right\",\"Right\",\"Right\",\"Right\",\"Right\",\"Left\",\"Right\",\"Left\",\"Right\",\"Right\",\"Right\",\"Right\",\"Right\",\"Right\",\"Right\",\"Right\",\"Right\",\"Right\",\"Left\",\"Right\",\"Right\",\"Right\",\"Right\",\"Right\",\"Right\",\"Right\",\"Right\",\"Right\",\"Right\",\"Left\",\"Right\",\"Right\",\"Left\",\"Left\",\"Right\",\"Left\",\"Right\",\"Right\",\"Right\",\"Right\",\"Left\",\"Right\",\"Right\",\"Right\",\"Right\",\"Right\",\"Right\",\"Left\",\"Right\",\"Right\",\"Right\",\"Right\",\"Right\",\"Right\",\"Right\",\"Right\",\"Right\",\"Right\",\"Right\",\"Left\",\"Right\",\"Right\",\"Right\",\"Right\",\"Left\",\"Right\",\"Left\",\"Left\",\"Right\",\"Right\",\"Right\",\"Right\",\"Right\",\"Right\",\"Left\",\"Right\",\"Right\",\"Left\",\"Right\",\"Right\",\"Right\",\"Right\",\"Left\",\"Right\",\"Left\",\"Right\",\"Left\",\"Right\",\"Left\",\"Right\",\"Right\",\"Left\",\"Right\",\"Right\",\"Right\",\"Left\",\"Right\",\"Right\",\"Right\",\"Right\",\"Right\",\"Right\",\"Left\",\"Right\",\"Right\",\"Right\",\"Left\",\"Right\",\"Left\",\"Right\",\"Right\",\"Left\",\"Right\",\"Left\",\"Right\",\"Left\",\"Left\",\"Right\",\"Right\",\"Left\",\"Left\",\"Right\",\"Right\",\"Right\",\"Right\",\"Right\",\"Right\",\"Left\",\"Right\",\"Right\",\"Right\",\"Left\",\"Right\",\"Left\",\"Left\",\"Right\",\"Right\",\"Right\",\"Right\",\"Right\",\"Left\",\"Right\",\"Left\",\"Left\",\"Right\",\"Left\",\"Right\",\"Right\",\"Left\",\"Left\",\"Right\",\"Right\",\"Right\",\"Right\",\"Left\",\"Left\",\"Right\",\"Right\",\"Right\",\"Right\",\"Right\",\"Right\",\"Right\",\"Left\",\"Right\",\"Right\",\"Right\",\"Left\",\"Right\",\"Left\",\"Left\",\"Left\",\"Right\",\"Right\",\"Right\",\"Left\",\"Left\",\"Right\",\"Right\",\"Right\",\"Right\",\"Right\",\"Right\",\"Right\",\"Left\",\"Right\",\"Right\",\"Right\",\"Right\",\"Right\",\"Left\",\"Left\",\"Right\",\"Right\",\"Right\",\"Right\",\"Right\",\"Right\",\"Right\",\"Right\",\"Right\",\"Right\",\"Left\",\"Left\",\"Right\",\"Left\",\"Right\",\"Right\",\"Right\",\"Right\",\"Right\",\"Right\",\"Right\",\"Right\",\"Right\",\"Right\",\"Right\",\"Right\",\"Left\",\"Left\",\"Left\",\"Right\",\"Right\",\"Right\",\"Right\",\"Right\",\"Left\",\"Left\",\"Left\",\"Right\",\"Right\",\"Right\",\"Right\",\"Right\",\"Right\",\"Right\",\"Right\",\"Right\",\"Right\",\"Left\",\"Right\",\"Right\",\"Right\",\"Right\",\"Left\",\"Left\",\"Right\",\"Left\",\"Right\",\"Right\",\"Right\",\"Left\",\"Left\",\"Right\",\"Right\",\"Right\",\"Right\",\"Right\",\"Right\",\"Right\",\"Left\",\"Right\",\"Right\",\"Right\",\"Right\",\"Right\",\"Right\",\"Right\",\"Right\",\"Left\",\"Right\",\"Right\",\"Right\",\"Right\",\"Right\",\"Right\",\"Left\",\"Right\",\"Right\",\"Right\",\"Right\",\"Right\",\"Left\",\"Right\",\"Left\",\"Right\",\"Right\",\"Right\",\"Right\",\"Right\",\"Right\",\"Left\",\"Right\",\"Right\",\"Right\",\"Right\",\"Right\",\"Left\",\"Right\",\"Right\",\"Right\",\"Left\",\"Right\",\"Left\",\"Right\",\"Right\",\"Right\",\"Right\",\"Right\",\"Right\",\"Left\",\"Left\",\"Right\",\"Right\",\"Right\",\"Right\",\"Right\",\"Left\",\"Right\",\"Right\",\"Right\",\"Right\",\"Right\",\"Right\",\"Right\",\"Right\",\"Left\",\"Right\",\"Right\",\"Right\",\"Right\",\"Right\",\"Left\",\"Right\",\"Left\",\"Right\",\"Left\",\"Right\",\"Right\",\"Right\",\"Right\",\"Right\",\"Right\",\"Left\",\"Right\",\"Right\",\"Right\",\"Right\",\"Right\",\"Right\",\"Right\",\"Left\",\"Left\",\"Right\",\"Left\",\"Right\",\"Left\",\"Right\",\"Right\",\"Right\",\"Right\",\"Right\",\"Right\",\"Right\",\"Right\",\"Right\",\"Right\",\"Right\",\"Right\",\"Right\",\"Left\",\"Left\",\"Right\",\"Left\",\"Left\",\"Left\",\"Right\",\"Right\",\"Right\",\"Left\",\"Right\",\"Right\",\"Right\",\"Right\",\"Right\",\"Right\",\"Right\",\"Right\",\"Right\",\"Right\",\"Right\",\"Right\",\"Right\",\"Right\",\"Right\",\"Right\",\"Left\",\"Right\",\"Left\",\"Left\",\"Right\",\"Right\",\"Right\",\"Right\",\"Left\",\"Right\",\"Right\",\"Left\",\"Right\",\"Left\",\"Left\",\"Right\",\"Left\",\"Left\",\"Right\",\"Right\",\"Right\",\"Right\",\"Right\",\"Right\",\"Left\",\"Left\",\"Left\",\"Right\",\"Right\",\"Right\",\"Left\",\"Right\",\"Right\",\"Left\",\"Left\",\"Right\",\"Right\",\"Right\",\"Right\",\"Left\",\"Left\",\"Left\",\"Right\",\"Right\",\"Right\",\"Left\",\"Right\",\"Right\",\"Right\",\"Left\",\"Right\",\"Right\",\"Right\",\"Right\",\"Right\",\"Right\",\"Right\",\"Left\",\"Left\",\"Right\",\"Right\",\"Right\",\"Right\",\"Left\",\"Left\",\"Right\",\"Right\",\"Right\",\"Right\",\"Right\",\"Right\",\"Right\",\"Left\",\"Right\",\"Right\",\"Right\",\"Left\",\"Right\",\"Right\",\"Right\",\"Right\",\"Right\",\"Right\",\"Right\",\"Right\",\"Right\",\"Right\",\"Right\",\"Right\",\"Left\",\"Right\",\"Right\",\"Right\",\"Left\",\"Left\",\"Left\",\"Right\",\"Right\",\"Left\",\"Right\",\"Right\",\"Right\",\"Right\",\"Right\",\"Right\",\"Right\",\"Right\",\"Right\",\"Right\",\"Right\",\"Right\",\"Right\",\"Right\",\"Right\",\"Right\",\"Right\",\"Right\",\"Right\",\"Left\",\"Left\",\"Right\",\"Right\",\"Right\",\"Right\",\"Right\",\"Right\",\"Right\",\"Right\",\"Right\",\"Right\",\"Right\",\"Right\",\"Right\",\"Right\",\"Right\",\"Right\",\"Right\",\"Left\",\"Right\",\"Right\",\"Left\",\"Left\",\"Right\",\"Left\",\"Right\",\"Right\",\"Right\",\"Right\",\"Right\",\"Left\",\"Right\",\"Left\",\"Right\",\"Right\",\"Right\",\"Right\",\"Right\",\"Right\",\"Right\",\"Left\",\"Right\",\"Right\",\"Right\",\"Right\",\"Right\",\"Right\",\"Right\",\"Left\",\"Right\",\"Right\",\"Left\",\"Right\",\"Right\",\"Right\",\"Right\",\"Right\",\"Left\",\"Right\",\"Right\",\"Right\",\"Right\",\"Right\",\"Right\",\"Left\",\"Right\",\"Right\",\"Right\",\"Right\",\"Left\",\"Left\",\"Right\",\"Right\",\"Right\",\"Left\",\"Right\",\"Left\",\"Right\",\"Left\",\"Left\",\"Right\",\"Right\",\"Right\",\"Right\",\"Right\",\"Right\",\"Right\",\"Right\",\"Left\",\"Right\",\"Right\",\"Left\",\"Right\",\"Right\",\"Right\",\"Left\",\"Left\",\"Right\",\"Right\",\"Right\",\"Right\",\"Right\",\"Right\",\"Right\",\"Right\",\"Right\",\"Right\",\"Right\",\"Right\",\"Right\",\"Left\",\"Right\",\"Right\",\"Right\",\"Left\",\"Right\",\"Right\",\"Left\",\"Right\",\"Right\",\"Right\",\"Right\",\"Right\",\"Left\",\"Left\",\"Right\",\"Right\",\"Right\",\"Right\",\"Right\",\"Right\",\"Right\",\"Right\",\"Left\",\"Right\",\"Right\",\"Left\",\"Left\",\"Right\",\"Right\",\"Right\",\"Left\",\"Left\",\"Right\",\"Right\",\"Right\",\"Right\",\"Right\",\"Right\",\"Right\",\"Right\",\"Left\",\"Right\",\"Right\",\"Right\",\"Right\",\"Right\",\"Right\",\"Right\",\"Right\",\"Left\",\"Right\",\"Left\",\"Right\",\"Left\",\"Right\",\"Right\",\"Right\",\"Right\",\"Right\",\"Right\",\"Left\",\"Left\",\"Right\",\"Right\",\"Right\",\"Right\",\"Left\",\"Left\",\"Left\",\"Right\",\"Right\",\"Right\",\"Right\",\"Right\",\"Right\",\"Right\",\"Right\",\"Right\",\"Left\",\"Right\",\"Right\",\"Left\",\"Right\",\"Left\",\"Right\",\"Right\",\"Right\",\"Right\",\"Left\",\"Right\",\"Right\",\"Right\",\"Right\",\"Right\",\"Right\",\"Right\",\"Right\",\"Right\",\"Right\",\"Right\",\"Right\",\"Right\",\"Right\",\"Right\",\"Right\",\"Right\",\"Right\",\"Right\",\"Right\",\"Left\",\"Left\",\"Right\",\"Right\",\"Right\",\"Right\",\"Right\",\"Left\",\"Right\",\"Right\",\"Right\",\"Left\",\"Right\",\"Right\",\"Right\",\"Right\",\"Right\",\"Right\",\"Right\",\"Right\",\"Right\",\"Right\",\"Right\",\"Right\",\"Left\",\"Right\",\"Right\",\"Right\",\"Left\",\"Right\",\"Right\",\"Right\",\"Right\",\"Right\",\"Right\",\"Right\",\"Right\",\"Right\",\"Right\",\"Left\",\"Right\",\"Left\",\"Right\",\"Left\",\"Right\",\"Right\",\"Right\",\"Left\",\"Left\",\"Right\",\"Right\",\"Right\",\"Left\",\"Right\",\"Left\",\"Right\",\"Right\",\"Right\",\"Left\",\"Right\",\"Right\",\"Right\",\"Right\",\"Right\",\"Right\",\"Right\",\"Right\",\"Right\",\"Right\",\"Right\",\"Right\",\"Left\",\"Right\",\"Right\",\"Right\",\"Right\",\"Right\",\"Right\",\"Right\",\"Left\",\"Left\",\"Right\",\"Right\",\"Right\",\"Right\",\"Right\",\"Right\",\"Right\",\"Left\",\"Right\",\"Right\",\"Right\",\"Right\",\"Right\",\"Right\",\"Left\",\"Right\",\"Left\",\"Right\",\"Right\",\"Right\",\"Right\",\"Right\",\"Right\",\"Right\",\"Right\",\"Right\",\"Left\",\"Left\",\"Right\",\"Right\",\"Right\",\"Left\",\"Right\",\"Right\",\"Left\",\"Right\",\"Right\",\"Right\",\"Right\",\"Right\",\"Right\",\"Right\",\"Right\",\"Right\",\"Right\",\"Right\",\"Right\",\"Left\",\"Right\",\"Right\",\"Right\",\"Right\",\"Right\",\"Left\",\"Right\",\"Right\",\"Right\",\"Right\",\"Right\",\"Right\",\"Right\",\"Right\",\"Right\",\"Left\",\"Right\",\"Right\",\"Right\",\"Left\",\"Right\",\"Right\",\"Left\",\"Right\",\"Right\",\"Right\",\"Right\",\"Left\",\"Right\",\"Right\",\"Right\",\"Right\",\"Right\",\"Right\",\"Left\",\"Right\",\"Right\",\"Right\",\"Left\",\"Right\",\"Right\",\"Right\",\"Right\",\"Right\",\"Right\",\"Right\",\"Right\",\"Right\",\"Right\",\"Right\",\"Right\",\"Right\",\"Right\",\"Right\",\"Right\",\"Right\",\"Right\",\"Right\",\"Right\",\"Right\",\"Right\",\"Left\",\"Right\",\"Left\",\"Right\",\"Right\",\"Right\",\"Right\",\"Left\",\"Right\",\"Right\",\"Right\",\"Right\",\"Right\",\"Right\",\"Right\",\"Left\",\"Right\",\"Right\",\"Right\",\"Right\",\"Right\",\"Right\",\"Left\",\"Left\",\"Right\",\"Right\",\"Left\",\"Right\",\"Right\",\"Right\",\"Left\",\"Right\",\"Right\",\"Right\",\"Right\",\"Right\",\"Right\",\"Right\",\"Right\",\"Right\",\"Left\",\"Left\",\"Right\",\"Right\",\"Right\",\"Right\",\"Right\",\"Right\",\"Right\",\"Right\",\"Left\",\"Right\",\"Right\",\"Right\",\"Left\",\"Right\",\"Right\",\"Left\",\"Left\",\"Right\",\"Right\",\"Left\",\"Right\",\"Right\",\"Right\",\"Left\",\"Left\",\"Right\",\"Right\",\"Left\",\"Right\",\"Right\",\"Left\",\"Right\",\"Right\",\"Left\",\"Left\",\"Right\",\"Right\",\"Right\",\"Right\",\"Left\",\"Left\",\"Right\",\"Right\",\"Right\",\"Right\",\"Right\",\"Right\",\"Right\",\"Right\",\"Right\",\"Left\",\"Right\",\"Right\",\"Right\",\"Left\",\"Right\",\"Right\",\"Right\",\"Right\",\"Right\",\"Left\",\"Right\",\"Left\",\"Right\",\"Right\",\"Right\",\"Right\",\"Right\",\"Left\",\"Left\",\"Right\",\"Right\",\"Right\",\"Right\",\"Right\",\"Right\",\"Right\",\"Right\",\"Left\",\"Right\",\"Right\",\"Left\",\"Left\",\"Right\",\"Right\",\"Right\",\"Right\",\"Right\",\"Left\",\"Right\",\"Right\",\"Right\",\"Left\",\"Left\",\"Left\",\"Left\",\"Left\",\"Left\",\"Right\",\"Right\",\"Right\",\"Right\",\"Right\",\"Right\",\"Right\",\"Left\",\"Right\",\"Right\",\"Right\",\"Right\",\"Right\",\"Right\",\"Right\",\"Left\",\"Right\",\"Right\",\"Right\",\"Right\",\"Right\",\"Right\",\"Right\",\"Right\",\"Right\",\"Right\",\"Right\",\"Right\",\"Right\",\"Right\",\"Right\",\"Right\",\"Right\",\"Right\",\"Left\",\"Right\",\"Left\",\"Left\",\"Right\",\"Right\",\"Right\",\"Right\",\"Right\",\"Right\",\"Left\",\"Left\",\"Right\",\"Left\",\"Right\",\"Right\",\"Right\",\"Left\",\"Right\",\"Right\",\"Right\",\"Right\",\"Right\",\"Right\",\"Right\",\"Right\",\"Right\",\"Right\",\"Left\",\"Right\",\"Right\",\"Left\",\"Right\",\"Right\",\"Left\",\"Left\",\"Right\",\"Right\",\"Right\",\"Right\",\"Left\",\"Right\",\"Right\",\"Right\",\"Right\",\"Left\",\"Right\",\"Right\",\"Right\",\"Right\",\"Right\",\"Left\",\"Left\",\"Right\",\"Right\",\"Right\",\"Right\",\"Right\",\"Right\",\"Right\",\"Right\",\"Left\",\"Right\",\"Right\",\"Right\",\"Left\",\"Right\",\"Left\",\"Right\",\"Right\",\"Right\",\"Right\",\"Left\",\"Right\",\"Right\",\"Right\",\"Right\",\"Right\",\"Right\",\"Right\",\"Right\",\"Right\",\"Right\",\"Right\",\"Right\",\"Right\",\"Right\",\"Right\",\"Right\",\"Right\",\"Right\",\"Right\",\"Right\",\"Right\",\"Left\",\"Left\",\"Right\",\"Left\",\"Right\",\"Right\",\"Right\",\"Right\",\"Right\",\"Left\",\"Right\",\"Right\",\"Right\",\"Right\",\"Right\",\"Right\",\"Left\",\"Right\",\"Right\",\"Left\",\"Left\",\"Right\",\"Right\",\"Right\",\"Right\",\"Right\",\"Right\",\"Right\",\"Right\",\"Right\",\"Right\",\"Right\",\"Right\",\"Left\",\"Right\",\"Right\",\"Right\",\"Left\",\"Left\",\"Right\",\"Right\",\"Right\",\"Right\",\"Right\",\"Right\",\"Right\",\"Left\",\"Right\",\"Right\",\"Right\",\"Right\",\"Right\",\"Right\",\"Right\",\"Right\",\"Right\",\"Right\",\"Right\",\"Right\",\"Right\",\"Right\",\"Right\",\"Right\",\"Right\",\"Right\",\"Right\",\"Right\",\"Right\",\"Right\",\"Right\",\"Right\",\"Right\",\"Left\",\"Right\",\"Right\",\"Left\",\"Right\",\"Right\",\"Right\",\"Right\",\"Right\",\"Right\",\"Left\",\"Right\",\"Right\",\"Left\",\"Right\",\"Right\",\"Right\",\"Right\",\"Right\",\"Right\",\"Right\",\"Right\",\"Right\",\"Right\",\"Right\",\"Right\",\"Right\",\"Right\",\"Right\",\"Right\",\"Right\",\"Right\",\"Left\",\"Right\",\"Left\",\"Right\",\"Right\",\"Left\",\"Right\",\"Left\",\"Right\",\"Left\",\"Left\",\"Right\",\"Right\",\"Right\",\"Right\",\"Left\",\"Right\",\"Right\",\"Right\",\"Right\",\"Right\",\"Right\",\"Right\",\"Right\",\"Right\",\"Right\",\"Right\",\"Right\",\"Right\",\"Right\",\"Right\",\"Right\",\"Right\",\"Right\",\"Right\",\"Right\",\"Right\",\"Right\",\"Right\",\"Right\",\"Left\",\"Right\",\"Left\",\"Right\",\"Right\",\"Right\",\"Right\",\"Right\",\"Right\",\"Right\",\"Right\",\"Left\",\"Right\",\"Right\",\"Right\",\"Left\",\"Right\",\"Right\",\"Right\",\"Left\",\"Right\",\"Right\",\"Right\",\"Left\",\"Left\",\"Right\",\"Right\",\"Right\",\"Right\",\"Right\",\"Right\",\"Left\",\"Right\",\"Right\",\"Right\",\"Right\",\"Right\",\"Left\",\"Right\",\"Right\",\"Left\",\"Left\",\"Left\",\"Left\",\"Left\",\"Right\",\"Left\",\"Right\",\"Left\",\"Right\",\"Right\",\"Right\",\"Right\",\"Right\",\"Right\",\"Right\",\"Right\",\"Right\",\"Right\",\"Left\",\"Right\",\"Right\",\"Left\",\"Right\",\"Right\",\"Right\",\"Right\",\"Right\",\"Right\",\"Left\",\"Right\",\"Right\",\"Right\",\"Right\",\"Right\",\"Right\",\"Right\",\"Right\",\"Right\",\"Right\",\"Right\",\"Right\",\"Right\",\"Left\",\"Right\",\"Right\",\"Right\",\"Right\",\"Right\",\"Right\",\"Left\",\"Right\",\"Right\",\"Right\",\"Right\",\"Right\",\"Right\",\"Right\",\"Right\",\"Right\",\"Right\",\"Right\",\"Right\",\"Right\",\"Right\",\"Right\",\"Right\",\"Right\",\"Left\",\"Right\",\"Right\",\"Right\",\"Right\",\"Left\",\"Right\",\"Right\",\"Right\",\"Right\",\"Right\",\"Right\",\"Right\",\"Right\",\"Right\",\"Right\",\"Left\",\"Right\",\"Left\",\"Right\",\"Right\",\"Right\",\"Right\",\"Left\",\"Right\",\"Right\",\"Right\",\"Right\",\"Left\",\"Right\",\"Right\",\"Left\",\"Left\",\"Left\",\"Left\",\"Right\",\"Left\",\"Left\",\"Left\",\"Right\",\"Right\",\"Right\",\"Left\",\"Left\",\"Left\",\"Left\",\"Right\",\"Right\",\"Left\",\"Right\",\"Left\",\"Right\",\"Right\",\"Right\",\"Right\",\"Right\",\"Left\",\"Right\",\"Right\",\"Left\",\"Right\",\"Right\",\"Left\",\"Right\",\"Right\",\"Left\",\"Right\",\"Right\",\"Right\",\"Right\",\"Right\",\"Right\",\"Right\",\"Right\",\"Right\",\"Right\",\"Right\",\"Right\",\"Right\",\"Right\",\"Left\",\"Right\",\"Right\",\"Right\",\"Right\",\"Right\",\"Left\",\"Right\",\"Right\",\"Right\",\"Right\",\"Left\",\"Right\",\"Right\",\"Left\",\"Right\",\"Right\",\"Right\",\"Right\",\"Right\",\"Right\",\"Right\",\"Right\",\"Right\",\"Left\",\"Right\",\"Right\",\"Right\",\"Right\",\"Right\",\"Right\",\"Right\",\"Right\",\"Right\",\"Right\",\"Right\",\"Right\",\"Right\",\"Right\",\"Right\",\"Right\",\"Right\",\"Right\",\"Right\",\"Right\",\"Right\",\"Left\",\"Right\",\"Right\",\"Left\",\"Right\",\"Right\",\"Right\",\"Right\",\"Right\",\"Right\",\"Right\",\"Left\",\"Right\",\"Right\",\"Right\",\"Right\",\"Right\",\"Right\",\"Right\",\"Right\",\"Right\",\"Left\",\"Left\",\"Right\",\"Right\",\"Right\",\"Right\",\"Right\",\"Right\",\"Right\",\"Right\",\"Right\",\"Right\",\"Right\",\"Right\",\"Left\",\"Right\",\"Right\",\"Right\",\"Left\",\"Left\",\"Right\",\"Right\",\"Right\",\"Right\",\"Right\",\"Right\",\"Right\",\"Right\",\"Right\",\"Left\",\"Right\",\"Right\",\"Right\",\"Right\",\"Right\",\"Right\",\"Right\",\"Right\",\"Left\",\"Right\",\"Right\",\"Right\",\"Right\",\"Left\",\"Left\",\"Right\",\"Right\",\"Right\",\"Right\",\"Right\",\"Right\",\"Right\",\"Right\",\"Right\",\"Right\",\"Right\",\"Right\",\"Right\",\"Left\",\"Right\",\"Right\",\"Left\",\"Right\",\"Right\",\"Left\",\"Left\",\"Right\",\"Left\",\"Right\",\"Right\",\"Right\",\"Right\",\"Right\",\"Right\",\"Right\",\"Left\",\"Right\",\"Left\",\"Right\",\"Left\",\"Left\",\"Right\",\"Right\",\"Right\",\"Right\",\"Left\",\"Right\",\"Right\",\"Right\",\"Right\",\"Right\",\"Right\",\"Right\",\"Right\",\"Right\",\"Right\",\"Left\",\"Right\",\"Right\",\"Left\",\"Right\",\"Right\",\"Left\",\"Right\",\"Left\",\"Right\",\"Right\",\"Left\",\"Right\",\"Right\",\"Right\",\"Right\",\"Left\",\"Right\",\"Right\",\"Left\",\"Right\",\"Left\",\"Right\",\"Right\",\"Right\",\"Right\",\"Right\",\"Right\",\"Right\",\"Right\",\"Right\",\"Right\",\"Right\",\"Right\",\"Right\",\"Right\",\"Right\",\"Right\",\"Right\",\"Right\",\"Right\",\"Left\",\"Right\",\"Right\",\"Left\",\"Right\",\"Right\",\"Right\",\"Right\",\"Right\",\"Right\",\"Right\",\"Left\",\"Right\",\"Left\",\"Right\",\"Right\",\"Right\",\"Right\",\"Right\",\"Right\",\"Right\",\"Right\",\"Right\",\"Right\",\"Right\",\"Left\",\"Right\",\"Right\",\"Right\",\"Right\",\"Right\",\"Right\",\"Right\",\"Right\",\"Right\",\"Left\",\"Right\",\"Left\",\"Right\",\"Right\",\"Right\",\"Left\",\"Right\",\"Left\",\"Right\",\"Right\",\"Right\",\"Right\",\"Left\",\"Right\",\"Right\",\"Right\",\"Left\",\"Right\",\"Left\",\"Right\",\"Right\",\"Right\",\"Right\",\"Right\",\"Right\",\"Right\",\"Right\",\"Right\",\"Right\",\"Right\",\"Right\",\"Right\",\"Right\",\"Right\",\"Right\",\"Right\",\"Right\",\"Right\",\"Right\",\"Right\",\"Left\",\"Right\",\"Right\",\"Right\",\"Right\",\"Right\",\"Right\",\"Right\",\"Right\",\"Right\",\"Right\",\"Right\",\"Right\",\"Left\",\"Left\",\"Right\",\"Right\",\"Right\",\"Right\",\"Left\",\"Right\",\"Right\",\"Right\",\"Right\",\"Right\",\"Right\",\"Right\",\"Right\",\"Right\",\"Left\",\"Right\",\"Right\",\"Left\",\"Left\",\"Left\",\"Right\",\"Right\",\"Right\",\"Right\",\"Right\",\"Right\",\"Right\",\"Left\",\"Right\",\"Left\",\"Right\",\"Right\",\"Right\",\"Left\",\"Right\",\"Right\",\"Right\",\"Right\",\"Right\",\"Right\",\"Right\",\"Right\",\"Right\",\"Right\",\"Right\",\"Right\",\"Left\",\"Right\",\"Right\",\"Right\",\"Right\",\"Right\",\"Right\",\"Right\",\"Right\",\"Right\",\"Right\",\"Right\",\"Right\",\"Right\",\"Right\",\"Left\",\"Right\",\"Left\",\"Right\",\"Right\",\"Right\",\"Right\",\"Right\",\"Right\",\"Right\",\"Right\",\"Right\",\"Left\",\"Right\",\"Right\",\"Right\",\"Left\",\"Right\",\"Right\",\"Left\",\"Right\",\"Right\",\"Left\",\"Right\",\"Right\",\"Right\",\"Right\",\"Right\",\"Right\",\"Right\",\"Left\",\"Right\",\"Right\",\"Right\",\"Right\",\"Right\",\"Right\",\"Right\",\"Left\",\"Right\",\"Right\",\"Right\",\"Right\",\"Left\",\"Right\",\"Right\",\"Right\",\"Right\",\"Right\",\"Right\",\"Right\",\"Right\",\"Right\",\"Right\",\"Left\",\"Right\",\"Right\",\"Right\",\"Left\",\"Right\",\"Right\",\"Right\",\"Right\",\"Right\",\"Right\",\"Right\",\"Right\",\"Right\",\"Right\",\"Left\",\"Right\",\"Right\",\"Right\",\"Right\",\"Right\",\"Left\",\"Right\",\"Right\",\"Right\",\"Right\",\"Right\",\"Right\",\"Left\",\"Right\",\"Right\",\"Right\",\"Right\",\"Left\",\"Right\",\"Right\",\"Left\",\"Right\",\"Right\",\"Right\",\"Right\",\"Right\",\"Right\",\"Right\",\"Right\",\"Right\",\"Right\",\"Right\",\"Right\",\"Right\",\"Right\",\"Right\",\"Left\",\"Right\",\"Left\",\"Right\",\"Left\",\"Right\",\"Right\",\"Left\",\"Right\",\"Right\",\"Left\",\"Right\",\"Left\",\"Right\",\"Right\",\"Right\",\"Right\",\"Right\",\"Right\",\"Left\",\"Right\",\"Right\",\"Right\",\"Left\",\"Right\",\"Left\",\"Right\",\"Right\",\"Left\",\"Right\",\"Right\",\"Right\",\"Right\",\"Left\",\"Right\",\"Right\",\"Right\",\"Right\",\"Right\",\"Right\",\"Right\",\"Right\",\"Right\",\"Right\",\"Right\",\"Right\",\"Right\",\"Right\",\"Left\",\"Right\",\"Left\",\"Right\",\"Right\",\"Right\",\"Right\",\"Right\",\"Right\",\"Right\",\"Right\",\"Right\",\"Right\",\"Right\",\"Right\",\"Left\",\"Right\",\"Right\",\"Right\",\"Right\",\"Right\",\"Right\",\"Right\",\"Right\",\"Right\",\"Right\",\"Right\",\"Left\",\"Right\",\"Right\",\"Right\",\"Right\",\"Right\",\"Right\",\"Right\",\"Right\",\"Right\",\"Left\",\"Right\",\"Right\",\"Right\",\"Right\",\"Left\",\"Right\",\"Right\",\"Right\",\"Right\",\"Right\",\"Right\",\"Right\",\"Right\",\"Right\",\"Right\",\"Right\",\"Right\",\"Right\",\"Right\",\"Right\",\"Right\",\"Right\",\"Right\",\"Right\",\"Right\",\"Right\",\"Right\",\"Right\",\"Right\",\"Right\",\"Right\",\"Left\",\"Left\",\"Right\",\"Right\",\"Right\",\"Right\",\"Right\",\"Right\",\"Right\",\"Right\",\"Right\",\"Left\",\"Right\",\"Right\",\"Right\",\"Right\",\"Right\",\"Right\",\"Right\",\"Left\",\"Left\",\"Left\",\"Right\",\"Right\",\"Left\",\"Left\",\"Right\",\"Right\",\"Left\",\"Right\",\"Right\",\"Right\",\"Right\",\"Right\",\"Right\",\"Right\",\"Right\",\"Right\",\"Right\",\"Right\",\"Right\",\"Right\",\"Right\",\"Right\",\"Right\",\"Right\",\"Right\",\"Left\",\"Right\",\"Right\",\"Right\",\"Right\",\"Right\",\"Left\",\"Right\",\"Left\",\"Right\",\"Right\",\"Right\",\"Right\",\"Right\",\"Right\",\"Right\",\"Right\",\"Right\",\"Right\",\"Right\",\"Right\",\"Left\",\"Right\",\"Right\",\"Right\",\"Right\",\"Right\",\"Right\",\"Right\",\"Right\",\"Right\",\"Right\",\"Right\",\"Right\",\"Right\",\"Left\",\"Right\",\"Right\",\"Right\",\"Right\",\"Right\",\"Right\",\"Right\",\"Right\",\"Right\",\"Right\",\"Right\",\"Right\",\"Right\",\"Right\",\"Right\",\"Right\",\"Right\",\"Right\",\"Right\",\"Right\",\"Right\",\"Right\",\"Right\",\"Right\",\"Left\",\"Right\",\"Left\",\"Left\",\"Right\",\"Left\",\"Right\",\"Left\",\"Right\",\"Right\",\"Right\",\"Right\",\"Left\",\"Right\",\"Right\",\"Right\",\"Left\",\"Left\",\"Right\",\"Right\",\"Left\",\"Right\",\"Right\",\"Right\",\"Right\",\"Right\",\"Right\",\"Right\",\"Right\",\"Right\",\"Right\",\"Right\",\"Right\",\"Left\",\"Right\",\"Right\",\"Left\",\"Right\",\"Right\",\"Right\",\"Right\",\"Right\",\"Right\",\"Right\",\"Right\",\"Left\",\"Right\",\"Right\",\"Left\",\"Right\",\"Right\",\"Right\",\"Left\",\"Right\",\"Right\",\"Right\",\"Right\",\"Right\",\"Left\",\"Right\",\"Right\",\"Right\",\"Right\",\"Right\",\"Right\",\"Right\",\"Right\",\"Right\",\"Right\",\"Left\",\"Right\",\"Right\",\"Right\",\"Left\",\"Right\",\"Right\",\"Right\",\"Right\",\"Left\",\"Right\",\"Right\",\"Right\",\"Left\",\"Right\",\"Right\",\"Right\",\"Right\",\"Left\",\"Right\",\"Right\",\"Left\",\"Right\",\"Right\",\"Right\",\"Right\",\"Right\",\"Right\",\"Right\",\"Right\",\"Right\",\"Right\",\"Right\",\"Right\",\"Right\",\"Right\",\"Right\",\"Left\",\"Right\",\"Right\",\"Right\",\"Right\",\"Right\",\"Left\",\"Right\",\"Right\",\"Right\",\"Right\",\"Left\",\"Right\",\"Right\",\"Right\",\"Right\",\"Right\",\"Right\",\"Right\",\"Right\",\"Right\",\"Right\",\"Left\",\"Right\",\"Left\",\"Right\",\"Right\",\"Right\",\"Right\",\"Right\",\"Right\",\"Right\",\"Right\",\"Right\",\"Right\",\"Left\",\"Right\",\"Right\",\"Right\",\"Right\",\"Right\",\"Right\",\"Left\",\"Right\",\"Left\",\"Left\",\"Right\",\"Right\",\"Left\",\"Right\",\"Right\",\"Right\",\"Right\",\"Right\",\"Left\",\"Right\",\"Right\",\"Right\",\"Right\",\"Right\",\"Right\",\"Right\",\"Right\",\"Right\",\"Right\",\"Right\",\"Right\",\"Right\",\"Right\",\"Right\",\"Left\",\"Right\",\"Right\",\"Right\",\"Right\",\"Right\",\"Right\",\"Right\",\"Left\",\"Right\",\"Right\",\"Right\",\"Right\",\"Right\",\"Right\",\"Right\",\"Right\",\"Right\",\"Right\",\"Right\",\"Right\",\"Right\",\"Right\",\"Left\",\"Right\",\"Right\",\"Right\",\"Right\",\"Right\",\"Right\",\"Right\",\"Right\",\"Right\",\"Right\",\"Right\",\"Right\",\"Right\",\"Right\",\"Left\",\"Right\",\"Right\",\"Right\",\"Right\",\"Left\",\"Right\",\"Right\",\"Right\",\"Right\",\"Right\",\"Right\",\"Right\",\"Left\",\"Left\",\"Left\",\"Right\",\"Right\",\"Right\",\"Right\",\"Right\",\"Right\",\"Right\",\"Left\",\"Right\",\"Right\",\"Right\",\"Right\",\"Right\",\"Right\",\"Right\",\"Left\",\"Right\",\"Right\",\"Right\",\"Right\",\"Right\",\"Right\",\"Right\",\"Right\",\"Right\",\"Right\",\"Right\",\"Right\",\"Left\",\"Left\",\"Right\",\"Right\",\"Right\",\"Right\",\"Right\",\"Right\",\"Right\",\"Right\",\"Right\",\"Right\",\"Right\",\"Left\",\"Right\",\"Right\",\"Left\",\"Right\",\"Right\",\"Left\",\"Right\",\"Right\",\"Right\",\"Right\",\"Right\",\"Right\",\"Left\",\"Left\",\"Right\",\"Right\",\"Right\",\"Right\",\"Right\",\"Left\",\"Right\",\"Left\",\"Right\",\"Right\",\"Right\",\"Right\",\"Right\",\"Right\",\"Right\",\"Right\",\"Right\",\"Right\",\"Right\",\"Right\",\"Right\",\"Right\",\"Right\",\"Right\",\"Right\",\"Right\",\"Right\",\"Right\",\"Right\",\"Right\",\"Right\",\"Right\",\"Right\",\"Right\",\"Right\",\"Right\",\"Right\",\"Right\",\"Right\"],\"legendgroup\":\"\",\"name\":\"\",\"showlegend\":true,\"type\":\"pie\"}],                        {\"template\":{\"data\":{\"histogram2dcontour\":[{\"type\":\"histogram2dcontour\",\"colorbar\":{\"outlinewidth\":0,\"ticks\":\"\"},\"colorscale\":[[0.0,\"#0d0887\"],[0.1111111111111111,\"#46039f\"],[0.2222222222222222,\"#7201a8\"],[0.3333333333333333,\"#9c179e\"],[0.4444444444444444,\"#bd3786\"],[0.5555555555555556,\"#d8576b\"],[0.6666666666666666,\"#ed7953\"],[0.7777777777777778,\"#fb9f3a\"],[0.8888888888888888,\"#fdca26\"],[1.0,\"#f0f921\"]]}],\"choropleth\":[{\"type\":\"choropleth\",\"colorbar\":{\"outlinewidth\":0,\"ticks\":\"\"}}],\"histogram2d\":[{\"type\":\"histogram2d\",\"colorbar\":{\"outlinewidth\":0,\"ticks\":\"\"},\"colorscale\":[[0.0,\"#0d0887\"],[0.1111111111111111,\"#46039f\"],[0.2222222222222222,\"#7201a8\"],[0.3333333333333333,\"#9c179e\"],[0.4444444444444444,\"#bd3786\"],[0.5555555555555556,\"#d8576b\"],[0.6666666666666666,\"#ed7953\"],[0.7777777777777778,\"#fb9f3a\"],[0.8888888888888888,\"#fdca26\"],[1.0,\"#f0f921\"]]}],\"heatmap\":[{\"type\":\"heatmap\",\"colorbar\":{\"outlinewidth\":0,\"ticks\":\"\"},\"colorscale\":[[0.0,\"#0d0887\"],[0.1111111111111111,\"#46039f\"],[0.2222222222222222,\"#7201a8\"],[0.3333333333333333,\"#9c179e\"],[0.4444444444444444,\"#bd3786\"],[0.5555555555555556,\"#d8576b\"],[0.6666666666666666,\"#ed7953\"],[0.7777777777777778,\"#fb9f3a\"],[0.8888888888888888,\"#fdca26\"],[1.0,\"#f0f921\"]]}],\"heatmapgl\":[{\"type\":\"heatmapgl\",\"colorbar\":{\"outlinewidth\":0,\"ticks\":\"\"},\"colorscale\":[[0.0,\"#0d0887\"],[0.1111111111111111,\"#46039f\"],[0.2222222222222222,\"#7201a8\"],[0.3333333333333333,\"#9c179e\"],[0.4444444444444444,\"#bd3786\"],[0.5555555555555556,\"#d8576b\"],[0.6666666666666666,\"#ed7953\"],[0.7777777777777778,\"#fb9f3a\"],[0.8888888888888888,\"#fdca26\"],[1.0,\"#f0f921\"]]}],\"contourcarpet\":[{\"type\":\"contourcarpet\",\"colorbar\":{\"outlinewidth\":0,\"ticks\":\"\"}}],\"contour\":[{\"type\":\"contour\",\"colorbar\":{\"outlinewidth\":0,\"ticks\":\"\"},\"colorscale\":[[0.0,\"#0d0887\"],[0.1111111111111111,\"#46039f\"],[0.2222222222222222,\"#7201a8\"],[0.3333333333333333,\"#9c179e\"],[0.4444444444444444,\"#bd3786\"],[0.5555555555555556,\"#d8576b\"],[0.6666666666666666,\"#ed7953\"],[0.7777777777777778,\"#fb9f3a\"],[0.8888888888888888,\"#fdca26\"],[1.0,\"#f0f921\"]]}],\"surface\":[{\"type\":\"surface\",\"colorbar\":{\"outlinewidth\":0,\"ticks\":\"\"},\"colorscale\":[[0.0,\"#0d0887\"],[0.1111111111111111,\"#46039f\"],[0.2222222222222222,\"#7201a8\"],[0.3333333333333333,\"#9c179e\"],[0.4444444444444444,\"#bd3786\"],[0.5555555555555556,\"#d8576b\"],[0.6666666666666666,\"#ed7953\"],[0.7777777777777778,\"#fb9f3a\"],[0.8888888888888888,\"#fdca26\"],[1.0,\"#f0f921\"]]}],\"mesh3d\":[{\"type\":\"mesh3d\",\"colorbar\":{\"outlinewidth\":0,\"ticks\":\"\"}}],\"scatter\":[{\"fillpattern\":{\"fillmode\":\"overlay\",\"size\":10,\"solidity\":0.2},\"type\":\"scatter\"}],\"parcoords\":[{\"type\":\"parcoords\",\"line\":{\"colorbar\":{\"outlinewidth\":0,\"ticks\":\"\"}}}],\"scatterpolargl\":[{\"type\":\"scatterpolargl\",\"marker\":{\"colorbar\":{\"outlinewidth\":0,\"ticks\":\"\"}}}],\"bar\":[{\"error_x\":{\"color\":\"#2a3f5f\"},\"error_y\":{\"color\":\"#2a3f5f\"},\"marker\":{\"line\":{\"color\":\"#E5ECF6\",\"width\":0.5},\"pattern\":{\"fillmode\":\"overlay\",\"size\":10,\"solidity\":0.2}},\"type\":\"bar\"}],\"scattergeo\":[{\"type\":\"scattergeo\",\"marker\":{\"colorbar\":{\"outlinewidth\":0,\"ticks\":\"\"}}}],\"scatterpolar\":[{\"type\":\"scatterpolar\",\"marker\":{\"colorbar\":{\"outlinewidth\":0,\"ticks\":\"\"}}}],\"histogram\":[{\"marker\":{\"pattern\":{\"fillmode\":\"overlay\",\"size\":10,\"solidity\":0.2}},\"type\":\"histogram\"}],\"scattergl\":[{\"type\":\"scattergl\",\"marker\":{\"colorbar\":{\"outlinewidth\":0,\"ticks\":\"\"}}}],\"scatter3d\":[{\"type\":\"scatter3d\",\"line\":{\"colorbar\":{\"outlinewidth\":0,\"ticks\":\"\"}},\"marker\":{\"colorbar\":{\"outlinewidth\":0,\"ticks\":\"\"}}}],\"scattermapbox\":[{\"type\":\"scattermapbox\",\"marker\":{\"colorbar\":{\"outlinewidth\":0,\"ticks\":\"\"}}}],\"scatterternary\":[{\"type\":\"scatterternary\",\"marker\":{\"colorbar\":{\"outlinewidth\":0,\"ticks\":\"\"}}}],\"scattercarpet\":[{\"type\":\"scattercarpet\",\"marker\":{\"colorbar\":{\"outlinewidth\":0,\"ticks\":\"\"}}}],\"carpet\":[{\"aaxis\":{\"endlinecolor\":\"#2a3f5f\",\"gridcolor\":\"white\",\"linecolor\":\"white\",\"minorgridcolor\":\"white\",\"startlinecolor\":\"#2a3f5f\"},\"baxis\":{\"endlinecolor\":\"#2a3f5f\",\"gridcolor\":\"white\",\"linecolor\":\"white\",\"minorgridcolor\":\"white\",\"startlinecolor\":\"#2a3f5f\"},\"type\":\"carpet\"}],\"table\":[{\"cells\":{\"fill\":{\"color\":\"#EBF0F8\"},\"line\":{\"color\":\"white\"}},\"header\":{\"fill\":{\"color\":\"#C8D4E3\"},\"line\":{\"color\":\"white\"}},\"type\":\"table\"}],\"barpolar\":[{\"marker\":{\"line\":{\"color\":\"#E5ECF6\",\"width\":0.5},\"pattern\":{\"fillmode\":\"overlay\",\"size\":10,\"solidity\":0.2}},\"type\":\"barpolar\"}],\"pie\":[{\"automargin\":true,\"type\":\"pie\"}]},\"layout\":{\"autotypenumbers\":\"strict\",\"colorway\":[\"#636efa\",\"#EF553B\",\"#00cc96\",\"#ab63fa\",\"#FFA15A\",\"#19d3f3\",\"#FF6692\",\"#B6E880\",\"#FF97FF\",\"#FECB52\"],\"font\":{\"color\":\"#2a3f5f\"},\"hovermode\":\"closest\",\"hoverlabel\":{\"align\":\"left\"},\"paper_bgcolor\":\"white\",\"plot_bgcolor\":\"#E5ECF6\",\"polar\":{\"bgcolor\":\"#E5ECF6\",\"angularaxis\":{\"gridcolor\":\"white\",\"linecolor\":\"white\",\"ticks\":\"\"},\"radialaxis\":{\"gridcolor\":\"white\",\"linecolor\":\"white\",\"ticks\":\"\"}},\"ternary\":{\"bgcolor\":\"#E5ECF6\",\"aaxis\":{\"gridcolor\":\"white\",\"linecolor\":\"white\",\"ticks\":\"\"},\"baxis\":{\"gridcolor\":\"white\",\"linecolor\":\"white\",\"ticks\":\"\"},\"caxis\":{\"gridcolor\":\"white\",\"linecolor\":\"white\",\"ticks\":\"\"}},\"coloraxis\":{\"colorbar\":{\"outlinewidth\":0,\"ticks\":\"\"}},\"colorscale\":{\"sequential\":[[0.0,\"#0d0887\"],[0.1111111111111111,\"#46039f\"],[0.2222222222222222,\"#7201a8\"],[0.3333333333333333,\"#9c179e\"],[0.4444444444444444,\"#bd3786\"],[0.5555555555555556,\"#d8576b\"],[0.6666666666666666,\"#ed7953\"],[0.7777777777777778,\"#fb9f3a\"],[0.8888888888888888,\"#fdca26\"],[1.0,\"#f0f921\"]],\"sequentialminus\":[[0.0,\"#0d0887\"],[0.1111111111111111,\"#46039f\"],[0.2222222222222222,\"#7201a8\"],[0.3333333333333333,\"#9c179e\"],[0.4444444444444444,\"#bd3786\"],[0.5555555555555556,\"#d8576b\"],[0.6666666666666666,\"#ed7953\"],[0.7777777777777778,\"#fb9f3a\"],[0.8888888888888888,\"#fdca26\"],[1.0,\"#f0f921\"]],\"diverging\":[[0,\"#8e0152\"],[0.1,\"#c51b7d\"],[0.2,\"#de77ae\"],[0.3,\"#f1b6da\"],[0.4,\"#fde0ef\"],[0.5,\"#f7f7f7\"],[0.6,\"#e6f5d0\"],[0.7,\"#b8e186\"],[0.8,\"#7fbc41\"],[0.9,\"#4d9221\"],[1,\"#276419\"]]},\"xaxis\":{\"gridcolor\":\"white\",\"linecolor\":\"white\",\"ticks\":\"\",\"title\":{\"standoff\":15},\"zerolinecolor\":\"white\",\"automargin\":true,\"zerolinewidth\":2},\"yaxis\":{\"gridcolor\":\"white\",\"linecolor\":\"white\",\"ticks\":\"\",\"title\":{\"standoff\":15},\"zerolinecolor\":\"white\",\"automargin\":true,\"zerolinewidth\":2},\"scene\":{\"xaxis\":{\"backgroundcolor\":\"#E5ECF6\",\"gridcolor\":\"white\",\"linecolor\":\"white\",\"showbackground\":true,\"ticks\":\"\",\"zerolinecolor\":\"white\",\"gridwidth\":2},\"yaxis\":{\"backgroundcolor\":\"#E5ECF6\",\"gridcolor\":\"white\",\"linecolor\":\"white\",\"showbackground\":true,\"ticks\":\"\",\"zerolinecolor\":\"white\",\"gridwidth\":2},\"zaxis\":{\"backgroundcolor\":\"#E5ECF6\",\"gridcolor\":\"white\",\"linecolor\":\"white\",\"showbackground\":true,\"ticks\":\"\",\"zerolinecolor\":\"white\",\"gridwidth\":2}},\"shapedefaults\":{\"line\":{\"color\":\"#2a3f5f\"}},\"annotationdefaults\":{\"arrowcolor\":\"#2a3f5f\",\"arrowhead\":0,\"arrowwidth\":1},\"geo\":{\"bgcolor\":\"white\",\"landcolor\":\"#E5ECF6\",\"subunitcolor\":\"white\",\"showland\":true,\"showlakes\":true,\"lakecolor\":\"white\"},\"title\":{\"x\":0.05},\"mapbox\":{\"style\":\"light\"}}},\"legend\":{\"tracegroupgap\":0},\"title\":{\"text\":\"a\"}},                        {\"responsive\": true}                    ).then(function(){\n",
              "                            \n",
              "var gd = document.getElementById('6c58e575-1418-42c1-b665-7fd4bf90d391');\n",
              "var x = new MutationObserver(function (mutations, observer) {{\n",
              "        var display = window.getComputedStyle(gd).display;\n",
              "        if (!display || display === 'none') {{\n",
              "            console.log([gd, 'removed!']);\n",
              "            Plotly.purge(gd);\n",
              "            observer.disconnect();\n",
              "        }}\n",
              "}});\n",
              "\n",
              "// Listen for the removal of the full notebook cells\n",
              "var notebookContainer = gd.closest('#notebook-container');\n",
              "if (notebookContainer) {{\n",
              "    x.observe(notebookContainer, {childList: true});\n",
              "}}\n",
              "\n",
              "// Listen for the clearing of the current output cell\n",
              "var outputEl = gd.closest('.output');\n",
              "if (outputEl) {{\n",
              "    x.observe(outputEl, {childList: true});\n",
              "}}\n",
              "\n",
              "                        })                };                            </script>        </div>\n",
              "</body>\n",
              "</html>"
            ]
          },
          "metadata": {}
        },
        {
          "output_type": "display_data",
          "data": {
            "text/html": [
              "<html>\n",
              "<head><meta charset=\"utf-8\" /></head>\n",
              "<body>\n",
              "    <div>            <script src=\"https://cdnjs.cloudflare.com/ajax/libs/mathjax/2.7.5/MathJax.js?config=TeX-AMS-MML_SVG\"></script><script type=\"text/javascript\">if (window.MathJax && window.MathJax.Hub && window.MathJax.Hub.Config) {window.MathJax.Hub.Config({SVG: {font: \"STIX-Web\"}});}</script>                <script type=\"text/javascript\">window.PlotlyConfig = {MathJaxConfig: 'local'};</script>\n",
              "        <script charset=\"utf-8\" src=\"https://cdn.plot.ly/plotly-2.24.1.min.js\"></script>                <div id=\"2a14e1f6-72f5-435e-b6ab-c3ea8a0ae011\" class=\"plotly-graph-div\" style=\"height:525px; width:100%;\"></div>            <script type=\"text/javascript\">                                    window.PLOTLYENV=window.PLOTLYENV || {};                                    if (document.getElementById(\"2a14e1f6-72f5-435e-b6ab-c3ea8a0ae011\")) {                    Plotly.newPlot(                        \"2a14e1f6-72f5-435e-b6ab-c3ea8a0ae011\",                        [{\"domain\":{\"x\":[0.0,1.0],\"y\":[0.0,1.0]},\"hovertemplate\":\"age=%{label}\\u003cextra\\u003e\\u003c\\u002fextra\\u003e\",\"labels\":[32,34,27,26,28,28,27,27,33,27,20,28,25,26,28,28,34,31,33,32,30,30,28,25,26,25,24,27,27,32,34,33,32,33,32,33,29,30,30,27,25,24,27,26,34,34,31,32,32,30,30,30,28,32,28,23,25,24,26,25,29,24,27,27,31,29,31,32,27,30,29,29,28,19,20,22,26,23,24,23,24,25,25,24,24,24,28,29,28,26,28,29,27,26,27,26,37,31,31,32,29,31,30,28,31,27,27,28,19,20,22,24,25,23,23,22,25,24,23,23,23,25,27,26,26,27,27,26,36,32,32,32,31,31,32,30,30,30,33,28,30,33,32,30,29,32,28,30,29,28,28,29,30,31,28,29,30,23,24,23,20,21,25,23,25,23,24,24,22,24,23,21,25,24,23,23,23,23,23,25,25,25,25,26,27,26,25,26,25,27,25,27,27,28,28,27,30,26,26,27,41,38,34,33,33,36,32,33,34,30,32,31,31,31,30,32,32,31,29,29,28,29,29,29,31,31,29,28,28,30,28,31,27,28,27,27,27,22,21,22,25,25,24,24,23,22,23,21,23,25,26,26,24,24,25,23,24,28,26,25,27,25,28,26,27,25,26,26,30,26,27,27,29,27,27,26,26,29,28,26,26,26,27,26,25,26,36,35,38,33,34,29,33,34,33,31,32,30,30,33,30,30,29,33,28,31,31,30,29,31,28,26,29,27,28,28,28,27,29,26,27,32,28,31,31,35,31,27,27,21,21,22,21,25,22,24,22,23,25,24,22,25,27,26,26,26,25,23,26,26,22,26,26,26,25,25,25,25,26,27,27,26,27,26,30,30,28,27,26,35,35,33,36,33,31,32,32,33,33,31,35,32,34,32,32,32,32,31,33,29,34,31,31,32,31,29,30,28,30,28,28,31,30,28,29,27,31,35,31,27,30,19,22,22,23,23,22,24,22,25,23,24,22,24,24,21,22,23,24,24,22,25,23,23,24,24,22,23,22,25,24,25,24,25,25,24,23,24,24,25,26,25,26,27,25,26,28,26,26,24,26,25,25,25,25,26,28,27,27,26,26,26,25,27,28,26,27,28,28,27,27,25,27,27,27,30,27,37,33,35,32,35,37,33,33,37,31,33,36,33,34,35,32,28,27,32,36,30,32,32,34,30,32,34,30,30,30,32,30,32,35,29,30,31,29,28,28,29,30,29,30,28,32,29,29,31,28,34,27,28,29,29,29,26,28,30,29,27,27,29,28,28,28,27,27,28,26,29,32,29,27,30,28,35,31,31,35,31,18,22,21,21,20,20,23,21,23,21,21,25,22,23,22,20,22,20,23,22,20,21,24,23,24,24,23,23,23,23,23,22,22,24,22,24,24,24,24,23,23,23,22,22,23,22,24,22,25,24,25,24,24,24,23,27,25,27,26,26,27,26,25,25,26,27,24,26,25,26,27,27,28,25,28,26,26,26,26,26,27,26,29,27,27,29,27,26,26,27,27,27,27,26,27,27,27,37,33,35,33,35,33,34,34,34,31,33,33,32,32,32,32,33,33,33,32,31,32,31,30,31,31,31,29,33,29,31,32,30,30,29,33,29,30,27,32,29,29,30,30,33,29,29,29,28,31,30,27,29,28,33,31,27,31,29,30,33,28,31,30,28,31,28,32,30,29,27,28,29,32,29,30,29,28,28,35,31,31,27,31,31,31,27,31,22,21,20,22,21,22,23,22,22,22,21,21,20,23,22,22,22,25,24,24,23,22,22,23,25,22,23,24,23,26,24,25,25,24,25,24,25,23,25,25,25,24,24,24,22,22,25,25,24,25,24,23,26,23,26,25,24,25,24,23,24,27,27,26,25,25,25,24,25,26,25,25,25,26,28,27,28,27,28,27,26,26,26,24,27,28,28,28,27,29,27,27,27,27,29,27,27,27,26,27,26,26,26,26,27,27,27,27,33,35,34,34,32,36,32,41,35,34,32,33,32,32,32,33,29,29,32,30,31,31,33,32,28,32,31,31,30,30,32,33,32,31,33,30,31,32,33,29,32,35,32,31,30,30,33,30,30,31,35,30,30,28,30,29,30,28,29,30,29,29,28,30,29,30,29,31,31,28,29,30,31,28,28,29,28,28,28,28,31,28,31,29,28,27,28,30,30,29,28,27,32,28,31,28,29,30,27,28,29,28,28,28,29,30,29,29,28,29,28,28,31,30,32,29,29,31,27,27,31,30,30,31,35,31,27,32,31,35,35,20,22,22,20,23,21,21,22,22,22,23,23,23,22,21,21,21,20,21,21,22,21,23,23,23,22,24,22,22,23,23,22,21,23,24,23,22,21,23,24,24,23,22,24,21,22,22,22,22,22,24,25,23,24,24,24,25,24,25,24,23,25,24,23,26,23,26,23,24,22,23,23,24,24,25,25,24,24,25,24,27,25,26,24,24,24,25,25,26,25,25,25,25,26,25,26,24,24,27,25,28,26,28,26,26,27,25,28,25,25,26,26,24,26,27,27,27,27,27,29,26,28,26,27,29,26,28,26,26,25,26,27,28,26,26,26,26,26,29,27,35,32,35,34,35,35,32,33,33,35,35,34,32,32,34,33,34,33,30,35,34,32,33,35,31,36,30,33,32,32,29,33,31,31,31,32,31,32,32,30,29,30,33,31,31,31,30,30,30,30,29,30,29,31,36,29,31,29,29,28,29,29,31,29,32,31,29,27,29,34,28,30,32,32,28,29,28,28,31,30,30,29,28,32,32,31,27,27,29,29,28,31,29,30,30,29,27,29,30,28,29,29,30,30,28,29,31,33,27,29,26,29,28,31,31,31,27,31,31,31,27,34,19,19,18,20,19,20,22,22,23,21,20,22,19,20,20,20,18,22,23,22,21,20,21,22,20,21,21,21,20,24,23,21,22,24,21,21,21,21,24,20,21,22,22,21,21,24,23,24,23,22,22,23,22,21,22,22,23,22,21,22,24,23,23,22,24,23,24,24,22,22,21,22,25,25,25,25,22,24,25,25,23,23,23,23,24,23,24,24,24,26,25,24,26,24,24,25,24,25,25,25,23,26,27,28,25,26,24,25,25,27,26,26,26,25,25,25,25,25,28,27,28,25,25,24,24,27,26,25,25,27,26,28,29,28,27,28,25,25,26,26,28,29,29,27,29,26,28,26,27,30,27,27,27,26,26,28,27,26,27,28,27,25,26,26,27,27,28,36,36,36,34,33,29,36,33,38,33,37,33,35,32,34,33,34,36,33,32,38,32,37,35,31,31,33,32,33,30,32,34,33,35,36,34,34,32,32,33,30,29,30,31,33,32,34,31,29,30,32,29,32,35,31,31,31,33,31,31,31,32,33,34,30,30,30,29,30,37,32,30,29,30,31,32,32,27,28,33,31,31,29,28,28,31,32,30,30,29,28,28,31,29,33,31,32,30,30,29,29,28,27,30,29,31,31,28,29,28,29,29,30,31,32,28,29,29,30,28,28,32,28,31,32,33,34,30,30,28,29,30,31,27,27,28,27,28,29,28,32,28,27,30,29,27,28,30,28,28,29,26,28,29,31,31,30,30,28,30,27,30,28,30,28,26,27,29,26,28,31,33,31,31,27,27,27,31,31,35,31,35,31,31,31,31,28,30,27,35,31,38,33,31,19,22,21,20,19,20,20,20,19,22,22,20,22,22,20,22,20,21,20,20,19,23,23,22,21,23,23,21,21,22,20,21,21,22,20,23,22,22,22,21,21,23,21,20,21,24,21,25,23,23,23,24,23,24,22,24,22,22,21,22,22,21,22,21,23,20,21,22,24,22,24,24,22,24,24,23,23,24,22,25,23,23,23,23,23,22,23,25,23,24,25,21,23,24,23,21,22,21,23,24,22,21,24,26,25,24,24,26,24,25,24,24,24,26,23,24,24,26,24,23,23,24,25,23,24,25,23,24,24,25,24,24,25,23,24,23,23,26,25,25,24,24,23,24,25,25,24,25,26,25,25,24,25,24,24,24,24,26,23,25,24,25,26,26,25,27,27,25,26,25,26,27,26,25,24,26,25,26,25,25,26,25,25,25,26,25,25,26,25,24,25,24,26,25,27,25,25,28,25,25,26,25,25,26,25,26,29,26,26,26,26,26,26,25,27,26,25,27,26,29,26,30,29,29,28,29,30,27,26,26,27,26,27,27,27,26,27,27,26,28,30,28,27,29,26,26,27,28,26,27,26,26,25,29,27,27,28,26,26,26,26,27,26,27,26,40,37,39,33,34,34,34,34,35,34,37,35,37,35,34,34,34,34,35,35,28,38,35,32,35,35,34,33,34,34,32,33,33,33,38,32,34,33,30,32,32,32,31,31,32,30,32,32,32,32,32,33,31,33,33,32,32,34,29,29,30,36,34,30,30,34,31,32,31,31,30,33,29,32,29,31,30,31,30,28,31,29,29,30,33,29,29,32,31,29,28,29,29,29,29,30,30,31,28,28,28,30,33,30,31,30,30,30,30,30,29,28,29,31,29,30,28,29,28,28,33,28,30,28,30,28,30,29,28,28,30,30,34,30,28,30,28,29,28,33,28,32,31,32,28,29,31,34,33,29,34,27,29,28,30,27,31,29,27,30,30,29,28,29,28,28,27,29,29,28,28,27,28,29,30,28,29,28,29,27,33,29,28,28,31,28,31,29,30,32,27,28,28,31,30,26,29,33,28,27,32,32,27,27,29,28,30,30,30,29,30,28,29,29,28,31,28,27,30,29,27,35,27,31,27,27,27,35,27,35,27,27,27,35,27,27,27,31,29,35,33,18,19,18,19,19,20,22,22,22,20,20,21,21,19,20,19,19,19,21,21,21,21,22,20,21,23,21,21,22,23,21,21,22,20,19,21,23,20,21,23,21,21,22,22,22,24,23,23,21,22,22,21,23,23,23,21,23,23,21,23,23,22,22,21,23,22,24,25,23,23,23,23,22,22,23,23,25,22,23,21,22,24,22,22,25,24,24,25,23,23,23,24,24,24,24,22,24,22,23,23,21,26,26,25,24,25,25,25,25,25,25,25,25,24,24,25,26,26,24,23,23,25,23,25,22,23,24,22,25,25,26,24,25,25,24,24,24,24,25,25,25,26,25,24,24,24,25,25,24,25,25,25,25,26,27,26,26,28,26,25,25,25,26,26,26,26,26,26,25,26,24,25,26,24,26,26,25,28,25,26,26,25,27,26,25,25,26,24,25,25,26,25,25,26,28,28,27,26,27,27,26,28,25,26,26,26,27,25,26,26,26,25,26,27,26,26,26,27,25,26,29,27,27,26,27,27,29,27,26,27,26,27,27,26,28,27,27,25,25,27,26,27,26,27,29,26,25,26,29,26,26,30,26,26,25,27,26,25,27,34,35,35,38,36,36,38,35,35,35,35,37,34,34,34,32,36,33,35,32,35,33,33,33,35,34,34,33,34,30,32,33,31,33,31,33,32,32,34,31,33,32,29,35,32,34,32,33,32,28,31,33,33,34,32,31,33,31,31,34,31,30,32,32,30,31,31,35,31,28,34,30,29,30,31,31,29,29,31,29,30,30,31,30,30,35,31,32,30,28,29,32,30,31,30,31,33,29,34,30,31,29,29,29,29,29,30,31,30,30,33,32,30,34,28,30,31,32,27,30,32,28,28,29,32,30,32,30,29,28,31,31,28,27,28,28,29,28,30,29,28,31,30,30,29,27,29,31,27,29,31,28,29,28,28,30,29,32,28,31,26,29,29,28,29,27,29,28,29,29,28,29,30,31,29,27,30,35,31,28,29,31,32,28,27,31,28,30,29,28,28,28,29,29,29,35,29,32,28,32,27,34,31,30,28,27,29,32,32,32,30,29,27,30,34,31,28,28,28,29,29,30,29,28,27,32,30,31,27,35,27,31,27,27,35,27,31,35,31,31,27,27,27,31,35,31,27,35,35,35,35,35,35,27,27,27,28,29,31,35,28,29,29,31,31,32,28,30,27,33,21,21,19,19,21,18,20,21,22,21,22,21,20,21,20,22,21,22,19,21,22,22,22,20,21,22,20,21,21,22,22,22,22,22,22,21,21,22,22,23,23,23,23,24,23,23,23,22,22,22,22,21,21,21,21,20,23,22,22,24,24,22,23,24,23,24,22,24,22,23,22,22,23,22,24,23,20,21,22,22,22,21,24,24,24,25,24,24,23,23,25,23,23,22,25,24,24,22,22,24,22,23,24,23,24,22,22,24,22,23,23,25,26,23,25,24,25,24,25,26,24,24,25,23,25,23,24,25,25,24,23,24,24,25,23,25,26,24,23,26,23,23,23,25,25,23,24,24,22,22,25,24,23,23,26,25,26,25,25,25,24,26,25,24,24,26,24,24,24,25,23,25,25,25,24,26,25,23,25,26,27,28,26,26,26,24,27,26,27,26,26,26,26,25,26,26,26,24,27,24,26,25,26,26,26,24,25,27,25,26,24,25,24,26,25,25,25,27,27,26,25,25,25,25,25,25,25,25,26,26,26,28,26,27,26,26,26,26,25,26,26,26,26,26,27,25,25,26,25,27,28,26,26,26,25,26,27,27,27,27,29,30,27,28,29,27,27,28,28,27,27,28,27,27,26,26,29,27,28,28,26,27,27,26,26,28,26,26,26,26,27,26,27,28,29,28,28,27,25,26,26,27,25,26,26,28,28,26,27,27,25,27,36,40,38,40,37,35,35,38,36,35,34,35,35,37,35,33,36,35,38,36,34,35,35,35,36,34,33,30,33,31,32,33,33,33,36,36,32,32,33,32,32,37,32,28,37,32,31,31,32,31,35,36,31,31,31,31,30,32,30,34,35,33,32,32,32,33,30,34,32,30,30,32,35,30,31,29,30,29,30,33,34,32,30,31,30,29,31,33,34,30,30,32,33,30,34,31,31,29,31,30,29,30,30,30,29,30,31,30,32,34,29,31,33,28,29,29,35,29,30,28,33,27,31,29,28,31,34,31,29,29,30,30,33,27,29,31,32,31,32,30,29,33,28,28,31,33,30,32,32,31,32,30,35,32,33,31,28,31,27,32,28,29,30,28,29,29,33,28,27,29,31,33,31,31,28,38,27,28,28,30,28,28,28,32,30,28,28,33,28,31,28,29,29,28,31,30,26,31,30,29,30,29,33,32,29,29,28,31,29,26,31,28,27,28,31,29,28,28,29,32,31,26,33,26,28,28,32,29,30,27,28,28,30,29,27,29,32,29,29,28,28,28,27,27,30,29,28,31,28,29,27,31,32,28,30,30,27,29,30,29,30,29,34,27,27,29,31,28,32,28,28,29,28,31,29,28,29,30,29,27,26,30,32,28,29,29,27,29,26,27,28,27,27,31,27,27,35,31,35,27,31,35,35,35,27,27,35,31,31,35,35,27,30,29,28,33,30,27,29,29,31,27,26,34,31,30,18,18,17,21,21,20,19,20,19,19,19,21,21,20,19,20,19,21,22,21,22,21,20,22,21,22,21,21,21,19,21,20,19,20,20,21,23,22,22,22,22,22,21,22,21,21,22,22,21,20,22,20,21,23,21,22,23,22,20,23,22,21,21,23,23,23,22,22,23,24,23,23,23,21,21,22,22,22,20,21,23,21,21,23,23,24,23,25,24,24,24,23,23,24,21,23,22,23,24,23,22,24,22,23,22,22,23,22,23,24,21,24,22,23,22,22,24,23,21,23,24,24,23,24,23,23,22,24,23,22,22,24,21,22,23,24,23,23,22,23,23,21,24,22,22,23,22,23,23,26,24,24,24,23,23,24,22,24,23,24,25,23,24,24,24,23,23,24,24,24,24,23,24,24,25,24,24,24,26,24,22,23,24,26,26,25,23,24,25,25,26,26,25,26,24,26,27,25,25,25,25,24,26,25,25,24,24,24,24,24,24,24,24,26,25,25,24,24,25,25,23,24,24,24,25,25,25,24,25,25,22,27,26,27,26,26,27,26,24,26,26,26,26,26,26,24,25,24,26,26,26,24,25,26,26,24,26,26,25,25,26,26,26,25,25,26,22,24,26,26,24,25,25,24,26,25,27,25,25,25,24,27,26,25,26,25,24,22,26,25,25,26,25,27,27,25,26,28,28,29,28,26,28,29,26,25,25,28,26,26,26,27,28,25,25,27,27,25,27,26,26,26,26,26,26,24,26,26,28,25,27,29,27,27,27,30,27,27,27,28,26,29,28,27,27,28,27,27,26,27,27,27,25,27,27,26,27,28,26,27,27,25,27,26,26,26,27,28,27,28,27,27,27,25,26,26,29,27,27,27,30,27,26,27,27,27,29,27,27,28,26,27,26,27,27,29,27,27,36,37,36,36,32,35,35,34,35,36,39,33,34,37,34,37,36,35,34,30,41,35,33,32,32,35,34,33,34,34,36,34,36,34,36,33,34,31,32,28,34,35,31,32,37,31,30,33,33,35,34,33,31,32,32,34,35,30,34,32,33,30,35,34,34,31,31,33,31,33,38,30,29,33,31,33,38,31,35,32,34,32,32,30,31,34,33,29,32,32,30,32,31,31,29,28,31,30,33,31,28,29,30,33,30,31,34,31,29,31,31,32,30,32,30,33,36,32,27,29,37,33,32,31,30,34,31,33,29,30,30,29,30,28,28,35,29,29,33,29,28,32,28,29,30,28,30,32,32,30,29,27,32,31,28,30,29,27,28,33,32,32,31,28,32,28,30,30,31,28,27,28,34,27,27,29,29,29,29,31,31,28,31,30,29,29,28,33,27,29,31,28,29,29,28,27,30,27,28,27,28,28,26,29,32,29,27,29,27,29,29,28,27,28,30,27,30,34,27,28,32,30,27,31,32,31,28,27,30,34,29,28,32,33,29,28,28,25,30,28,29,29,30,29,27,27,27,32,30,27,27,33,30,29,28,28,27,34,32,29,30,28,35,28,29,30,26,28,28,31,31,31,32,29,29,29,30,27,27,33,31,29,30,26,30,27,27,25,27,29,28,28,27,29,28,30,30,27,27,31,29,29,33,28,29,29,28,27,30,29,35,35,27,27,35,27,27,27,27,35,35,27,31,35,27,35,31,27,31,35,31,31,31,35,31,31,35,26,27,27,29,31,31,31,27,32,29,35,27,27,29,29,26,35,38,18,19,20,18,19,20,19,21,19,18,19,22,22,21,21,21,19,19,20,22,21,21,21,22,20,20,21,20,22,19,20,22,22,21,22,22,20,21,20,20,20,22,20,24,21,24,22,21,23,20,23,22,20,21,21,22,23,21,20,22,22,23,24,22,23,21,21,22,21,21,23,23,23,21,23,22,20,24,25,23,24,23,23,23,24,23,23,23,21,22,24,23,23,22,24,23,23,21,22,24,22,22,22,24,25,24,24,24,24,24,23,24,23,24,23,23,23,24,23,22,23,23,22,24,23,21,21,22,24,23,23,23,25,26,25,24,26,24,24,25,25,23,23,25,25,25,25,25,26,25,24,24,24,23,24,23,24,24,25,24,24,24,23,25,24,24,23,25,23,23,24,23,24,24,23,25,26,26,25,25,24,25,24,25,25,24,25,25,24,25,24,25,26,24,25,24,25,24,24,25,23,25,25,23,24,26,25,23,23,27,27,26,27,26,27,26,26,28,25,27,24,25,26,27,26,25,26,26,26,25,25,24,27,25,25,25,26,26,26,24,26,25,24,27,26,26,25,27,25,24,27,26,26,26,26,24,26,27,26,27,25,24,26,26,26,26,24,25,25,26,27,24,26,25,26,23,26,26,29,27,28,25,28,26,26,26,26,26,25,27,26,27,27,26,27,26,28,27,27,25,25,26,28,24,25,27,25,27,28,27,28,27,29,28,27,29,28,27,27,26,27,27,27,26,25,26,28,27,27,26,29,27,26,24,27,29,27,27,26,26,27,26,26,27,26,27,27,28,26,27,28,26,27,26,27,27,27,27,26,27,26,30,25,27,27,26,27,27,27,27,27,27,28,26,29,27,40,40,38,38,36,35,35,35,33,37,36,32,38,34,37,35,27,28,33,36,34,35,35,34,33,33,35,34,34,31,33,39,33,32,34,35,35,34,32,35,33,33,34,32,33,31,31,34,31,31,33,32,30,32,31,33,30,33,34,31,33,34,32,30,33,32,31,33,32,31,32,31,30,32,33,32,32,32,29,30,30,33,32,36,30,29,32,29,31,32,29,29,31,29,29,31,34,36,30,31,33,31,30,30,32,30,30,31,29,31,32,28,31,34,32,29,29,30,29,30,31,31,28,31,33,28,28,32,30,29,29,29,28,33,28,26,29,32,32,30,31,31,30,30,27,31,29,30,29,29,33,30,33,31,28,33,29,28,30,30,31,29,27,29,29,33,29,32,27,35,30,33,27,29,30,27,30,33,29,31,28,34,28,28,30,29,31,28,28,29,32,31,31,30,29,31,27,30,28,27,27,29,30,31,27,31,33,31,28,31,31,27,28,34,29,28,28,34,29,27,27,28,29,31,29,29,28,28,29,27,27,28,31,29,30,28,29,28,30,30,28,28,30,27,30,29,30,29,27,29,33,31,27,30,31,31,30,29,33,32,27,30,28,30,34,35,28,30,30,29,28,29,32,39,28,30,28,32,29,26,28,31,28,27,27,29,29,30,28,28,29,27,27,35,27,31,27,35,27,35,35,35,31,31,35,35,35,35,35,31,31,31,35,31,31,31,29,30,30,28,32,35,31,28,28,30,30,26,28,29,28,29,35,35,27,35,29,30,28,18,18,20,19,18,19,19,19,16,19,20,18,20,21,20,19,21,19,19,19,20,19,21,19,20,19,21,20,20,19,20,21,21,21,21,20,20,21,21,20,20,20,22,22,22,19,22,21,21,21,20,20,21,21,23,20,21,21,21,22,21,21,21,21,21,21,21,22,21,23,21,21,21,21,22,20,22,23,22,20,21,23,24,22,22,22,23,22,23,23,22,21,22,23,21,22,23,21,21,22,21,21,19,22,21,22,23,24,23,24,22,23,22,22,22,21,23,22,22,23,22,21,23,24,22,22,22,22,21,23,23,22,22,22,23,22,23,23,23,23,22,22,23,21,23,24,25,23,23,23,23,23,22,22,23,23,23,23,23,23,24,22,23,22,23,22,24,22,22,23,23,24,23,24,23,24,23,24,24,24,24,22,22,23,23,22,22,22,23,22,24,24,23,24,24,23,24,23,23,23,24,23,23,24,24,24,22,25,26,25,24,25,23,25,24,25,25,25,24,26,24,25,25,24,24,24,24,25,23,26,24,24,24,24,25,25,25,23,23,24,25,25,23,23,24,24,25,25,24,25,24,23,24,25,25,24,24,24,26,25,25,24,25,25,24,23,25,23,24,25,25,23,23,24,24,26,26,26,25,25,25,24,25,23,25,24,24,25,24,25,24,25,24,25,26,23,24,25,24,24,24,24,25,25,24,26,25,22,24,24,24,24,27,25,24,25,26,27,27,27,27,26,26,26,25,25,26,25,26,26,26,25,26,27,26,25,25,26,26,26,24,25,26,26,25,27,25,27,25,26,24,26,26,25,26,24,26,26,25,26,26,27,24,25,26,25,25,24,26,25,25,26,26,28,27,27,26,26,27,28,26,27,26,26,28,26,25,25,26,27,27,29,25,25,27,26,26,25,26,26,28,25,27,27,28,28,27,28,28,27,27,28,27,27,27,28,27,29,27,27,27,25,27,27,27,29,26,28,27,27,26,27,27,26,29,28,27,26,25,27,27,27,27,26,29,27,26,27,30,29,27,28,27,26,27,28,26,26,28,26,27,26,27,25,27,27,27,27,27,27,29,30,27,26,25,33,37,35,34,34,38,38,33,39,39,35,39,28,36,36,35,33,36,39,37,33,36,35,35,37,37,32,34,31,35,38,33,32,34,32,32,31,33,34,32,32,34,32,34,32,35,32,36,33,32,31,36,32,31,33,36,38,31,33,31,31,31,31,29,30,31,33,33,33,32,34,30,30,31,32,31,29,34,34,32,31,31,30,29,36,34,30,32,32,33,30,31,33,32,32,33,35,32,32,34,31,32,33,32,32,31,36,31,29,30,32,30,30,31,31,32,29,33,31,32,32,29,27,32,29,29,31,30,29,30,31,30,32,28,33,32,33,30,33,28,29,30,32,29,33,27,33,31,28,30,29,34,29,29,28,30,30,29,30,31,28,30,29,27,28,29,28,30,32,28,29,28,28,28,28,31,29,28,31,33,28,31,27,31,29,33,27,29,33,27,29,31,28,28,28,29,29,30,31,30,27,27,32,30,29,27,32,28,28,28,31,27,33,33,29,27,29,28,28,29,29,32,29,29,28,30,28,33,30,34,28,30,32,27,28,28,30,29,28,29,32,29,31,30,30,27,28,28,27,30,27,27,27,32,27,31,30,28,26,29,27,29,32,29,30,28,28,30,29,30,28,30,28,29,33,28,30,32,27,30,28,30,28,27,36,35,28,29,28,27,34,28,28,29,33,29,31,27,33,30,30,30,27,31,27,27,29,31,31,27,28,28,28,28,30,28,30,34,29,34,29,35,30,27,28,33,33,29,30,31,28,27,29,32,29,33,34,29,33,31,32,32,28,29,27,32,31,28,28,33,28,27,28,29,29,28,30,28,32,29,27,30,26,31,29,35,29,31,28,28,31,29,29,29,28,27,29,29,35,35,35,35,27,35,27,27,27,31,31,31,27,35,31,31,31,31,27,31,34,31,27,31,31,28,27,32,29,32,27,27,27,31,28,29,29,23,29,27,27,28,28,27,32,27,29,30,33,19,19,20,19,20,19,21,19,19,19,19,18,19,20,21,20,20,20,21,19,20,21,21,21,20,20,19,21,21,20,19,19,22,21,22,21,21,22,20,19,18,19,20,21,21,21,21,22,22,21,21,21,21,22,20,21,22,20,21,22,20,20,21,21,20,22,23,22,21,22,22,21,21,21,20,20,21,22,20,20,22,21,21,21,23,20,20,21,22,22,21,20,21,23,21,23,21,21,22,22,21,22,21,21,21,21,22,21,22,21,21,23,22,22,21,20,20,23,21,23,23,23,23,21,23,23,22,23,22,22,23,23,21,22,23,22,23,22,22,24,23,23,21,23,21,22,23,21,22,21,20,22,22,22,22,23,21,22,21,21,24,23,23,24,24,23,23,23,23,22,23,24,22,23,22,24,22,21,23,22,22,24,23,24,24,22,23,25,22,23,20,23,24,23,24,21,24,21,24,23,24,23,24,24,24,24,23,23,24,25,23,24,25,22,24,23,24,23,23,22,24,23,23,23,24,24,23,21,23,24,23,23,25,23,24,25,22,23,24,22,23,24,24,22,24,23,25,23,25,25,26,24,24,24,24,25,24,24,25,25,23,24,24,24,25,25,24,23,24,24,24,24,26,24,25,26,25,25,22,24,23,24,22,24,24,25,25,25,23,24,25,26,23,24,24,23,22,25,23,23,24,25,24,24,25,26,26,27,25,25,24,25,25,25,25,25,25,25,25,25,24,24,25,25,24,24,25,25,25,24,26,26,26,25,23,23,24,24,25,25,25,24,25,25,25,26,24,24,24,25,24,24,25,24,25,25,28,26,24,27,26,27,26,26,26,26,25,26,25,26,26,26,25,26,25,25,25,26,25,25,25,26,26,26,26,27,26,26,24,25,24,25,24,25,27,25,27,26,25,27,25,25,25,25,27,26,25,24,26,27,26,26,25,25,26,25,26,26,25,25,25,25,25,26,26,26,23,25,25,25,25,24,25,28,26,26,26,26,25,26,28,26,26,26,26,27,27,26,28,26,26,25,26,28,27,26,26,25,26,26,28,25,27,25,27,28,25,28,28,28,26,26,26,27,27,27,27,25,26,25,25,27,29,28,29,28,29,29,29,27,27,28,26,29,27,26,28,27,28,28,27,27,27,27,26,26,27,28,28,27,26,27,27,27,29,27,26,26,26,26,27,29,27,28,26,27,27,27,27,27,27,25,27,27,27,26,27,25,27,27,26,29,25,26,25,26,28,27,27,27,27,26,26,28,26,28,27,27,25,25,25,26,27,26,27,27,27,26,26,26,26,27,26,36,39,34,35,40,36,34,34,36,36,35,37,37,33,37,35,36,38,36,31,32,34,33,32,31,33,38,32,34,32,31,35,31,33,35,36,32,31,32,31,33,31,33,32,33,31,31,31,30,31,28,33,34,32,31,33,30,31,32,31,34,31,38,36,31,32,33,31,32,34,30,33,31,34,30,30,31,33,32,37,35,29,31,33,29,30,34,32,34,31,34,31,28,30,32,32,31,30,31,33,30,31,30,36,30,30,33,28,31,32,36,34,29,31,28,30,30,29,31,31,31,30,33,30,32,30,32,32,31,34,30,30,29,29,32,29,31,29,28,32,31,30,32,29,33,28,28,33,30,30,29,37,29,28,30,30,30,33,27,28,28,32,29,29,34,31,28,29,28,29,28,31,28,28,30,27,29,28,35,30,28,27,37,30,32,28,28,28,30,28,31,31,27,28,32,33,29,31,35,30,27,31,29,29,30,29,27,28,30,30,27,31,29,27,32,28,29,26,26,30,30,30,27,32,27,27,28,30,28,33,33,33,33,30,32,29,29,28,29,31,29,29,27,31,27,29,30,28,29,28,28,29,27,29,31,33,30,29,30,28,30,26,30,33,30,28,28,28,28,27,34,34,32,31,29,27,28,32,31,28,27,30,28,27,30,28,37,29,32,28,31,28,29,28,28,27,28,30,28,31,30,30,31,27,28,28,32,30,28,28,28,33,28,29,28,34,29,29,30,29,29,30,30,30,27,30,27,28,33,29,30,28,30,29,28,35,35,35,31,27,31,27,27,27,31,31,35,35,27,27,27,28,29,29,34,32,27,27,31,27,26,35,28,29,31,35,31,27,28,27,27,30,31,28,28,30,27,30,27,27,27,31,28,27,28,27,35,27,30,29,32,18,19,17,18,18,19,20,19,16,20,20,20,19,19,21,21,19,19,20,18,18,21,19,20,19,20,20,19,21,19,19,21,22,20,22,20,20,21,20,21,19,19,21,20,19,21,22,20,22,19,22,19,21,19,18,21,20,22,21,22,21,22,22,20,21,22,21,21,20,19,20,20,22,22,22,20,22,21,23,23,20,21,22,21,20,20,20,20,22,20,22,22,22,21,21,19,21,22,21,22,23,23,22,23,22,23,22,21,21,22,22,23,23,21,22,21,22,22,22,21,23,23,22,21,22,23,21,21,21,21,23,22,21,22,22,23,22,20,22,20,23,24,21,23,24,23,22,23,22,22,23,22,23,23,22,22,23,23,23,24,21,23,22,22,21,22,22,19,20,22,21,21,21,21,22,21,22,22,21,22,22,21,21,22,20,22,24,24,24,24,23,24,23,24,24,23,23,24,23,23,24,24,23,23,22,23,21,23,23,22,20,23,22,22,21,22,22,22,21,23,21,23,22,23,21,23,25,24,24,24,24,24,25,24,24,24,24,23,23,23,24,22,23,23,23,24,22,23,24,24,24,23,24,23,24,22,24,23,22,24,23,23,22,24,21,24,22,23,24,23,22,25,25,26,24,25,25,25,24,25,26,25,24,24,24,26,24,25,26,26,24,24,26,25,26,24,24,24,23,24,23,25,24,24,23,25,24,23,24,23,23,24,23,25,26,25,22,24,24,23,24,26,24,25,23,21,24,22,22,25,25,25,23,25,25,24,22,26,26,25,25,26,23,25,25,25,25,25,26,26,24,24,25,25,25,24,24,23,25,24,24,26,26,26,24,25,24,26,25,26,23,25,26,25,25,23,24,25,24,25,25,25,27,27,28,25,25,25,25,26,25,26,25,25,27,25,25,27,26,24,25,26,25,26,26,25,26,25,25,27,27,25,25,25,25,26,27,26,25,25,26,25,26,24,25,26,25,25,25,26,24,26,25,25,25,26,26,27,25,24,25,25,26,25,27,26,26,26,26,24,25,25,25,25,26,29,27,27,26,27,26,27,27,26,27,29,27,26,26,26,25,24,27,28,25,26,27,28,27,26,27,26,25,25,26,26,25,26,28,26,26,26,28,25,26,26,26,25,28,24,27,25,29,30,30,28,29,29,28,28,27,28,29,26,27,29,26,27,26,28,28,27,26,27,26,25,26,26,26,26,27,26,26,27,29,27,27,27,26,28,28,25,28,28,27,26,26,28,27,27,27,26,25,27,28,27,26,30,27,29,27,26,26,27,25,28,27,27,28,27,29,27,27,27,27,26,26,28,26,26,28,27,26,27,26,26,26,27,27,26,26,25,27,27,26,36,34,37,37,36,37,36,34,37,33,34,35,35,40,34,39,34,34,36,35,34,36,39,34,33,37,33,32,32,35,33,33,32,33,33,36,33,32,33,34,33,35,33,34,34,35,33,31,32,32,34,32,32,33,31,32,33,33,31,32,34,33,32,31,31,33,34,33,30,32,31,33,33,33,32,30,31,36,35,33,34,34,36,30,31,31,35,33,33,32,35,33,34,34,36,31,35,35,31,32,32,31,30,29,31,30,32,32,30,31,35,31,30,29,28,34,32,30,30,31,31,32,30,31,30,30,27,29,30,30,32,30,30,30,30,30,27,28,29,29,30,33,30,29,28,34,29,30,29,30,29,30,34,32,33,38,30,31,31,32,31,30,29,29,29,28,32,28,30,33,28,29,29,32,31,31,34,31,28,29,32,28,28,28,28,29,30,29,29,28,33,29,31,28,28,28,30,31,30,29,33,29,29,29,30,28,33,30,28,29,32,28,30,37,28,29,28,29,27,30,28,27,34,29,31,29,28,34,27,27,31,28,26,27,27,30,29,33,32,30,30,30,30,32,31,28,32,31,32,29,28,30,28,28,31,29,28,32,30,31,31,34,29,28,32,30,30,29,28,30,28,28,30,30,30,31,30,33,35,30,30,27,30,27,29,27,26,30,29,29,31,35,28,32,27,31,30,30,29,31,28,30,28,31,31,30,31,30,29,31,29,27,31,29,31,28,27,31,30,32,29,27,33,30,28,31,29,29,32,28,30,33,31,27,35,27,33,31,29,31,31,35,30,32,29,31,35,31,27,31,28,29,30,33,32,29,33,30,26,29,29,27,30,31,29,27,31,27,27,30,33,29,26,31,30,29,30,33,31,30,29,29,28,30,27,29,30,31,28,27,30,30,29,28,29,29,32,29,28,29,29,28,28,28,28,30,30,29,31,29,27,35,35,35,35,35,27,35,27,27,35,27,35,31,35,27,28,28,30,29,29,26,29,29,29,35,31,35,35,27,27,27,28,29,28,28,28,35,31,27,35,27,30,29,29,30,30,29,30,27,32,29,28,32,30,35,28,29,28,36,34,34,27,17,18,18,18,19,19,17,19,19,19,18,19,20,20,19,20,18,20,18,20,19,20,21,19,19,19,19,20,19,21,20,20,19,18,19,19,19,21,21,22,21,19,19,21,20,17,21,21,20,20,21,21,21,20,22,21,21,21,20,21,21,20,20,22,22,20,20,20,18,20,21,20,21,21,18,22,22,22,22,21,22,22,22,21,20,22,23,20,20,21,20,20,21,20,19,19,20,21,20,22,19,21,22,23,23,22,22,20,22,23,21,21,22,22,22,22,20,21,20,22,21,20,22,20,20,21,21,21,20,20,22,20,22,21,21,21,22,23,22,21,22,20,22,20,21,21,20,22,21,24,23,22,21,23,22,24,23,21,23,22,24,24,23,23,21,22,22,21,22,21,22,22,22,21,21,21,21,21,21,21,22,22,20,22,23,21,21,22,23,21,20,23,23,23,22,22,22,23,21,21,23,23,21,21,22,23,22,22,22,21,22,23,23,23,23,19,22,22,21,23,22,23,22,20,23,23,21,22,22,24,22,23,22,23,21,21,20,23,24,25,24,24,22,25,24,23,24,25,22,23,24,23,21,21,24,23,23,24,23,22,22,22,23,23,22,22,23,21,22,23,23,24,23,23,22,22,24,24,22,22,22,22,22,21,22,23,20,24,24,23,25,24,22,23,25,25,24,24,23,24,25,24,23,23,22,22,23,24,23,23,24,22,22,23,22,24,22,24,22,24,22,23,23,24,23,24,23,24,23,22,24,25,23,24,22,24,23,23,24,23,24,23,22,23,23,25,25,21,24,23,24,22,25,26,24,24,25,25,24,25,24,25,22,23,25,24,25,24,25,25,24,24,25,24,25,25,24,24,24,25,24,24,24,25,23,22,26,25,21,24,25,23,22,25,25,24,23,23,22,22,25,24,24,24,25,23,25,22,22,25,22,25,23,24,25,25,23,23,27,25,25,25,25,26,25,25,26,25,25,25,24,25,25,26,27,25,25,24,25,25,25,24,24,25,24,25,26,25,24,24,25,25,24,24,27,25,25,24,25,25,24,25,24,24,26,27,25,26,25,26,25,25,25,26,25,28,26,25,25,26,26,25,25,28,27,25,26,24,26,25,26,25,25,26,25,27,26,27,28,26,25,25,27,25,26,25,25,24,25,25,25,24,26,25,26,25,24,25,25,25,26,25,25,26,25,24,26,26,26,27,27,26,27,26,25,25,25,26,27,24,25,26,26,25,24,25,28,28,27,28,26,28,27,24,26,27,26,26,27,25,28,26,26,26,26,25,27,27,28,26,27,28,27,27,25,26,29,25,26,25,25,25,26,26,26,26,25,26,26,27,27,25,29,30,26,27,28,28,27,28,27,26,27,27,28,28,28,28,28,27,27,26,26,27,26,26,29,26,27,26,26,29,29,27,27,26,28,27,26,26,28,27,30,26,26,27,27,26,27,26,26,25,26,26,27,27,26,27,28,28,26,26,26,29,28,37,35,34,35,36,33,34,32,36,33,32,34,34,34,40,37,32,32,32,36,35,35,36,35,38,33,34,35,33,35,33,35,36,36,34,32,33,35,36,34,33,32,33,33,30,34,33,30,32,31,34,34,30,32,31,33,32,31,31,32,36,32,33,30,30,30,30,33,39,38,32,31,35,31,31,32,31,33,31,30,29,32,32,31,35,31,30,32,32,31,30,30,31,29,29,28,28,29,30,30,31,31,32,31,30,35,33,30,30,32,33,31,29,30,28,31,37,30,31,31,29,34,28,29,30,29,31,29,31,32,28,28,29,31,30,29,30,28,33,33,30,33,29,28,30,31,27,28,32,30,32,31,29,33,30,29,32,30,30,34,28,28,32,31,29,28,29,30,30,28,28,34,32,34,29,30,35,28,28,32,28,29,27,29,31,27,30,30,29,28,32,33,28,31,27,29,28,31,28,27,27,30,27,28,28,31,30,30,34,30,30,28,29,31,28,29,28,27,26,30,27,27,29,31,32,30,27,26,29,31,28,33,30,28,28,29,28,27,34,26,28,27,32,31,28,32,29,29,27,30,28,29,29,26,29,29,27,29,26,33,30,32,31,32,32,36,32,28,32,32,29,32,30,39,35,29,33,32,32,29,26,28,28,28,30,27,28,32,28,28,27,31,28,31,30,27,27,29,28,27,31,30,28,33,26,29,31,30,30,27,29,27,30,30,28,29,28,29,30,31,31,30,29,27,31,28,34,29,29,29,31,31,27,35,35,35,35,27,27,27,30,27,27,31,27,35,29,27,28,31,29,28,28,29,36,30,27,30,29,30,31,28,32,28,32,29,28,35,31,31,27,35,31,31,35,31,29,29,33,31,29,30,27,28,32,27,29,28,30,28,28,31,30,30,30,30,29,31,31,32,32,30,31,28,32,32,31,33,29,29,18,17,18,18,18,19,19,17,19,18,18,19,20,19,18,18,19,18,20,20,19,19,20,20,20,21,20,19,20,18,18,20,21,20,21,20,20,21,18,19,19,21,21,21,22,19,19,21,20,20,19,20,21,21,19,18,20,21,21,20,22,22,20,20,20,20,20,20,22,21,19,21,21,21,22,22,22,22,21,20,22,21,21,21,22,19,22,20,21,20,20,19,20,21,20,20,20,22,22,22,22,21,23,22,21,22,22,22,22,22,21,23,22,21,20,20,22,21,21,21,21,23,20,22,20,23,21,20,21,22,20,23,20,21,21,22,23,21,20,22,21,19,21,22,20,20,20,19,21,19,22,22,23,24,23,23,23,23,23,24,22,23,21,22,21,22,23,21,22,22,22,23,23,20,21,23,23,22,22,20,22,20,22,23,20,22,21,21,23,21,23,23,22,23,21,20,23,22,22,22,23,21,22,22,22,21,23,22,22,21,21,20,22,23,23,23,22,24,23,23,23,22,22,22,22,23,23,23,23,21,23,23,21,20,23,22,23,21,21,23,20,23,22,23,23,21,20,23,22,23,20,23,20,22,20,23,22,21,22,21,21,23,21,23,22,21,22,23,23,22,21,19,23,22,24,24,23,23,24,23,22,23,24,25,23,23,22,22,25,23,23,24,24,23,22,24,24,24,23,23,21,23,23,22,24,23,23,23,22,22,23,22,23,23,23,23,22,23,21,23,22,24,23,22,23,24,22,24,23,23,23,22,24,22,22,24,24,24,24,25,23,22,24,24,24,23,24,24,23,24,23,23,23,23,22,24,22,24,24,24,24,24,22,24,22,23,24,24,24,23,22,22,23,24,23,21,23,23,24,20,22,21,26,25,26,26,25,25,25,25,23,25,25,25,26,24,24,24,25,24,25,24,26,26,26,23,25,25,24,24,25,26,24,24,25,25,24,25,24,24,24,24,23,23,25,23,23,22,24,25,24,24,26,23,24,24,25,23,24,26,24,25,24,24,22,23,24,24,25,23,23,23,25,27,25,26,25,26,25,25,25,26,25,26,24,25,24,25,24,26,25,24,24,24,24,25,25,25,25,27,26,21,26,23,25,25,24,27,26,25,24,24,27,22,25,24,24,25,25,27,24,25,25,25,26,25,25,23,24,25,26,26,25,22,26,24,24,25,25,25,27,28,27,26,26,26,25,26,26,26,27,26,26,26,25,24,25,25,25,25,26,26,26,25,26,25,25,25,25,26,25,27,26,26,25,26,27,26,26,26,25,25,25,26,26,26,26,27,27,25,25,26,23,25,25,26,25,25,25,26,24,26,26,25,25,25,25,28,27,26,25,26,26,25,26,23,26,25,28,27,24,25,26,27,24,25,24,24,24,28,29,28,27,27,27,25,26,27,27,26,26,29,27,25,26,26,25,26,26,26,26,26,29,25,26,26,27,25,26,29,27,23,26,25,26,26,26,25,26,25,27,26,27,26,27,28,27,26,27,30,26,29,27,27,26,27,27,27,28,26,26,27,28,28,26,27,26,27,26,26,26,27,26,27,27,27,28,29,27,29,27,27,26,26,26,27,25,28,28,27,28,27,26,26,25,27,27,27,26,27,27,27,27,26,27,27,26,30,26,27,29,25,25,27,26,25,28,27,26,26,26,26,26,30,27,27,29,26,37,36,37,37,33,35,32,39,35,39,33,37,35,33,33,31,33,35,31,38,34,32,34,35,32,32,31,32,33,31,31,32,34,32,36,32,34,32,31,32,31,32,31,30,29,31,33,35,36,32,31,32,31,29,32,33,32,32,36,31,29,32,34,35,33,31,31,32,31,31,31,31,31,30,35,32,31,30,30,32,34,30,32,29,30,30,30,37,34,32,31,32,33,32,34,30,31,32,31,30,33,33,31,28,29,30,30,30,30,30,32,31,29,28,31,32,27,35,31,34,34,30,27,30,27,32,29,30,30,29,29,29,28,28,32,31,28,27,28,30,28,29,31,34,28,31,27,30,33,31,30,30,30,29,29,35,29,28,27,32,32,30,27,29,30,31,29,30,27,29,28,30,34,35,31,29,33,34,30,28,30,30,29,30,31,27,27,31,33,29,29,33,29,27,30,29,29,27,29,31,29,33,27,28,30,28,28,29,28,31,29,30,30,29,31,27,31,27,28,28,27,28,31,30,31,30,27,27,33,33,32,26,28,27,30,30,29,27,27,30,27,30,28,29,28,37,30,29,29,30,34,29,31,32,27,30,32,32,32,28,30,28,33,30,29,29,30,30,30,29,28,34,28,29,29,28,32,28,28,29,30,32,30,31,29,32,29,33,33,25,29,34,30,28,27,32,30,32,29,30,31,33,29,29,30,31,31,28,28,29,28,32,31,28,29,27,28,36,29,30,29,29,27,29,29,31,27,27,27,33,33,28,31,28,28,29,32,31,31,31,31,31,35,28,27,35,27,31,35,28,32,31,26,31,27,32,30,35,34,34,33,30,28,33,28,34,30,27,32,32,33,28,35,31,27,27,29,30,29,28,27,28,27,29,30,31,30,27,29,28,30,32,28,27,27,29,28,30,27,26,27,31,29,17,18,19,18,18,19,18,18,19,20,18,19,20,19,20,20,20,19,20,20,20,18,20,19,19,18,20,18,20,17,19,21,20,19,19,20,21,20,20,19,20,20,20,18,17,20,19,20,18,19,21,20,21,20,20,19,20,19,19,21,21,19,18,19,19,20,20,17,18,22,21,20,21,20,19,21,21,21,21,19,20,20,20,20,18,19,19,20,20,17,21,21,22,21,21,19,21,21,21,21,22,21,22,19,21,21,19,22,22,22,22,22,22,23,21,21,22,21,20,21,22,21,21,20,22,22,21,22,21,20,20,20,20,20,21,21,20,19,20,22,20,20,20,18,23,22,23,23,23,22,23,22,21,21,21,22,22,21,21,22,22,20,21,22,20,20,22,21,20,22,21,21,21,22,21,22,21,21,20,20,19,21,20,17,22,21,21,22,21,22,20,22,21,20,20,21,23,23,24,21,21,23,23,23,23,21,22,23,23,21,23,22,22,22,22,23,22,23,23,21,20,23,22,22,23,21,21,22,23,22,21,23,23,21,22,21,23,20,21,21,21,22,21,23,22,21,20,23,22,21,21,23,21,22,22,20,24,23,24,23,21,22,23,22,22,21,23,23,24,22,22,22,23,23,21,22,22,23,22,23,22,24,21,22,23,21,23,21,23,22,21,21,24,24,21,22,23,23,22,22,23,21,20,21,24,21,22,22,20,22,22,20,22,24,25,24,23,23,23,24,25,24,23,23,23,23,23,24,22,23,23,23,22,23,22,21,23,23,24,23,23,23,22,24,23,22,23,23,22,23,24,23,23,23,22,21,22,22,22,21,24,23,23,21,24,21,23,23,25,21,24,23,22,23,22,23,23,21,22,23,23,23,21,22,23,22,22,25,23,21,22,24,25,25,23,25,23,23,24,24,24,23,24,23,23,24,23,23,23,23,24,24,23,25,23,24,24,23,24,23,24,22,22,23,24,22,24,22,22,23,24,24,23,23,24,23,23,24,23,24,22,24,24,23,23,22,23,23,23,21,24,25,26,26,26,23,24,25,24,26,26,23,25,25,25,23,25,25,23,24,24,23,24,25,26,23,25,24,24,23,23,25,25,25,25,25,24,23,22,24,24,23,24,23,24,23,24,25,23,26,24,24,23,25,25,24,24,24,23,23,24,24,23,25,24,23,26,22,25,24,25,24,24,25,25,26,25,24,27,24,25,25,24,25,26,26,25,23,23,25,25,23,24,25,24,26,24,25,25,25,24,25,26,25,26,24,25,25,24,24,25,23,25,25,23,24,25,25,25,25,24,25,25,25,22,26,26,27,25,25,26,28,26,26,27,25,23,26,26,24,26,25,25,25,25,25,26,25,25,25,26,24,26,24,25,26,25,25,26,26,25,26,23,25,25,25,24,26,24,25,26,25,26,27,25,26,26,26,25,25,25,26,27,26,24,26,25,26,25,26,25,27,26,26,26,25,24,26,26,26,26,26,25,26,25,26,25,26,29,27,25,25,25,26,27,28,26,27,28,24,26,26,26,25,26,28,24,26,26,25,25,26,26,27,27,28,26,24,26,27,25,28,25,26,28,27,28,27,27,27,29,28,27,27,27,27,28,28,29,27,29,27,27,27,29,30,26,27,27,27,25,26,30,28,25,26,27,26,26,29,25,26,28,27,30,27,27,26,26,28,29,27,26,27,27,26,26,26,27,27,25,27,27,28,27,27,27,27,26,27,26,26,26,26,26,26,26,28,27,41,37,37,36,34,32,35,36,37,36,35,35,37,34,34,34,36,36,34,33,37,34,32,38,36,34,32,34,37,37,36,36,33,33,33,32,34,40,32,36,33,35,34,33,32,30,38,31,33,31,31,32,31,33,30,30,31,32,33,32,32,33,32,30,31,33,33,33,36,33,33,33,31,33,34,32,33,29,37,30,32,34,33,31,28,32,31,30,32,37,32,36,30,30,32,30,29,35,34,31,31,30,31,29,28,27,29,32,30,28,30,31,29,30,29,33,29,31,29,30,30,30,30,30,29,29,30,32,29,29,31,30,27,27,28,28,30,31,33,30,30,30,32,28,32,28,31,28,28,28,29,27,30,29,28,29,27,30,28,31,29,28,34,31,32,27,30,31,30,31,29,28,31,29,29,28,28,30,30,29,29,29,26,27,27,30,28,34,35,28,29,31,29,28,31,30,30,29,29,34,28,27,29,28,28,27,29,27,32,31,28,29,33,31,27,31,29,34,29,27,29,32,26,29,27,30,27,27,27,28,30,30,28,29,27,32,33,33,36,38,29,30,30,31,37,27,38,38,30,34,35,31,28,27,26,30,32,28,35,27,30,31,26,31,26,28,27,27,27,27,29,29,30,27,26,28,30,28,29,29,27,31,28,26,27,32,29,29,29,30,27,30,28,29,30,31,35,27,31,27,30,28,28,34,32,28,29,27,30,30,30,27,33,28,29,28,27,27,33,29,28,29,31,28,29,28,33,30,28,28,28,30,29,34,30,29,31,28,27,33,33,31,33,30,27,30,29,32,29,28,30,28,28,29,30,17,18,19,17,18,19,18,18,19,18,19,18,19,18,17,18,19,17,20,18,20,19,20,19,19,18,20,19,20,19,19,18,17,19,20,18,19,19,19,19,19,17,17,20,19,19,20,20,21,21,20,19,20,20,18,18,18,19,19,20,20,18,20,20,20,20,20,20,21,20,21,19,21,19,21,21,21,19,19,19,20,18,21,19,20,20,19,21,18,17,21,21,19,19,21,20,21,20,20,20,19,20,19,18,20,19,21,21,21,19,19,20,19,19,19,21,19,21,19,21,21,21,21,21,20,20,22,21,20,20,20,20,21,20,19,21,22,20,19,21,21,20,19,19,19,22,21,21,20,21,22,21,18,20,22,23,23,21,21,22,22,22,20,22,21,21,21,21,21,22,21,21,20,21,20,22,20,22,21,21,20,21,20,20,22,20,20,20,19,19,21,22,18,22,20,19,21,21,19,20,23,22,23,22,22,21,20,22,22,22,21,21,22,22,20,20,21,20,22,21,20,20,20,20,21,22,20,21,22,21,21,21,21,22,20,20,22,19,21,21,20,22,22,20,20,23,22,22,23,23,23,23,22,23,23,23,20,22,22,24,23,23,21,22,23,20,21,22,20,24,21,20,22,21,20,21,20,23,21,20,21,20,24,21,21,22,23,20,21,22,19,23,21,22,20,20,22,20,21,22,22,22,21,22,21,22,22,18,21,21,20,23,22,23,24,24,22,23,24,23,23,22,22,22,21,23,22,23,24,21,20,22,22,22,22,20,23,22,23,22,23,22,23,21,23,19,23,21,23,22,21,23,21,24,21,23,23,23,22,22,23,23,22,20,24,24,24,24,25,24,24,24,24,24,23,23,23,23,24,24,22,23,23,23,22,24,21,22,23,23,22,23,23,22,22,21,25,25,23,21,23,22,22,24,19,22,22,23,24,22,19,23,22,22,22,22,22,23,22,23,25,22,22,25,24,25,24,24,24,24,24,24,24,24,23,24,23,25,22,23,23,25,24,24,23,22,23,22,22,24,25,23,22,23,25,25,25,21,22,23,23,23,23,23,24,24,22,24,23,23,24,25,24,24,24,22,24,24,22,23,24,23,26,25,26,24,25,25,25,24,25,25,25,24,23,24,25,25,24,23,23,24,25,24,21,24,23,24,26,24,24,23,23,21,23,21,23,23,23,22,22,25,24,24,22,25,24,25,24,22,24,24,23,23,24,23,23,26,24,22,23,26,25,26,24,25,24,25,23,25,25,25,26,24,24,25,24,23,23,23,23,24,25,25,24,24,24,24,25,25,26,24,24,25,25,24,24,25,24,24,23,26,25,25,25,25,25,26,24,25,25,24,24,25,25,24,27,26,26,28,27,27,25,26,26,27,25,26,25,25,25,27,25,27,26,25,26,25,25,25,25,25,25,27,26,25,25,26,28,26,24,26,26,27,26,26,26,26,26,25,26,25,25,26,24,26,25,25,26,25,25,26,25,26,25,25,25,25,28,28,28,27,27,26,27,25,26,25,26,24,26,26,25,27,24,28,26,26,26,26,25,26,26,29,24,25,24,26,26,25,25,26,27,25,27,25,27,26,24,26,26,26,30,27,27,26,27,28,28,27,27,27,27,26,27,27,27,27,26,26,27,27,28,28,27,27,27,26,29,26,27,27,30,26,26,26,27,28,28,26,27,27,26,27,25,26,26,29,27,25,28,28,29,27,27,27,26,26,25,27,26,28,28,26,25,28,30,28,27,26,27,29,27,28,27,27,25,26,29,27,27,26,27,27,26,29,27,26,26,26,27,28,29,28,27,27,26,27,36,35,35,37,37,32,36,35,36,35,34,33,35,36,42,36,34,37,32,33,36,34,33,37,32,36,32,34,34,33,33,32,33,34,34,33,32,35,35,37,31,33,32,32,36,33,32,31,31,33,32,31,33,30,29,31,30,31,31,36,30,34,32,32,33,32,33,31,33,33,32,32,33,32,28,30,31,35,34,31,33,30,32,31,28,29,32,29,30,30,31,30,31,30,28,32,31,32,30,33,34,29,30,27,32,34,31,33,32,33,31,32,34,31,31,31,28,30,32,30,28,29,28,29,29,33,30,32,27,27,28,28,28,31,28,28,31,31,30,27,36,28,32,27,27,30,32,31,31,30,28,28,28,30,28,28,28,30,31,28,28,30,33,28,28,27,29,28,28,30,28,30,30,27,29,27,30,31,28,28,32,28,27,31,30,28,32,30,28,32,28,30,29,28,28,31,28,27,31,28,29,28,33,28,27,28,31,32,29,28,30,29,35,29,28,27,27,28,33,31,28,30,28,28,28,29,27,31,28,33,30,29,31,27,27,30,34,31,27,33,28,27,26,28,28,29,31,30,28,28,30,29,28,31,33,33,29,29,27,27,28,31,27,29,30,30,29,35,31,31,31,35,35,31,27,31,28,27,29,30,33,33,31,31,31,28,26,31,35,27,31,31,31,28,30,29,35,35,29,31,33,30,27,30,27,29,28,29,29,28,32,30,28,29,28,27,28,29,28,30,29,30,29,29,31,27,30,35,27,28,30,29,31,29,31,31,29,33,29,31,16,17,16,18,18,18,19,17,18,18,18,19,17,18,18,17,18,19,18,18,18,18,17,18,18,18,18,19,18,19,19,20,20,20,20,20,20,18,19,19,19,19,19,18,19,19,20,18,19,17,20,20,20,18,17,19,18,19,19,19,21,19,19,21,19,21,20,20,20,18,20,20,19,20,20,19,17,19,19,19,19,19,19,19,19,21,21,19,19,21,21,19,19,21,20,19,20,18,19,19,20,20,19,19,18,17,19,20,20,20,20,20,20,20,21,19,20,20,20,21,20,20,20,20,20,20,21,19,19,20,21,19,18,20,20,19,18,21,18,19,22,21,21,21,22,21,21,21,21,19,20,20,19,20,19,20,19,21,21,20,21,20,20,21,21,20,20,19,21,20,19,19,19,20,21,21,20,22,22,22,21,20,21,21,22,21,22,20,21,20,20,21,21,20,21,21,19,21,19,20,19,20,21,19,20,19,20,20,21,19,18,19,19,22,22,22,21,22,22,23,22,22,22,22,21,22,22,20,22,21,21,21,21,21,21,20,22,19,19,21,20,20,20,20,22,21,20,19,20,21,21,20,20,19,21,18,22,21,19,19,23,22,22,22,22,23,22,23,21,23,21,23,22,23,22,23,21,21,20,22,21,20,23,21,21,21,22,21,23,23,22,23,21,20,20,21,21,22,21,19,23,21,17,21,22,21,20,23,22,23,23,22,23,23,23,22,23,22,24,23,22,23,23,22,23,23,22,23,23,23,23,24,21,23,22,23,23,22,22,23,22,24,21,22,22,24,22,23,24,22,22,22,22,21,19,22,22,21,24,24,24,24,23,23,22,24,24,25,24,22,23,24,24,23,22,23,24,23,23,23,24,23,22,22,22,24,21,23,23,22,23,24,19,22,24,24,23,23,22,22,22,22,23,21,23,22,21,22,22,23,23,25,24,24,24,24,24,23,24,24,25,23,25,23,24,25,25,24,24,24,24,23,23,21,24,23,21,23,22,24,22,21,24,23,24,24,24,22,24,24,24,24,23,22,23,23,21,23,24,26,25,25,25,25,26,25,26,25,25,25,24,24,23,23,24,24,25,25,24,23,24,25,23,24,23,24,25,26,23,25,23,22,23,23,25,23,22,25,22,25,24,24,25,21,25,24,23,24,24,21,25,24,24,25,24,25,25,24,24,22,24,25,23,23,24,23,23,24,23,25,25,24,24,24,25,23,25,24,24,24,25,26,24,24,23,24,24,25,24,24,25,23,23,24,24,24,24,24,25,26,24,20,26,24,25,26,24,24,26,25,25,25,25,25,24,25,24,23,27,26,25,25,26,26,26,26,25,26,26,25,25,25,24,26,25,26,25,25,24,26,24,23,25,25,25,25,27,24,25,25,26,25,25,25,27,24,25,25,25,26,26,28,26,24,25,25,25,26,26,26,25,26,23,26,26,28,27,26,26,27,26,26,26,26,27,27,26,28,29,26,29,26,26,26,26,26,27,25,25,28,26,27,22,24,25,26,27,27,26,28,28,29,29,28,27,28,28,27,30,27,29,27,30,28,26,27,28,26,26,27,26,26,26,26,28,26,27,26,26,27,27,27,29,26,26,25,26,29,27,27,29,27,27,27,27,28,25,39,35,37,37,36,35,36,38,35,34,37,34,34,31,34,33,33,33,33,33,32,33,31,32,33,31,32,30,31,34,32,34,32,30,31,32,30,30,36,37,28,32,34,31,29,31,31,30,33,31,37,30,36,33,32,34,30,33,31,29,31,28,30,33,31,30,27,30,31,32,31,30,29,31,30,28,28,28,27,31,28,35,29,33,31,28,29,34,30,31,29,32,30,27,27,29,33,30,29,29,29,30,28,27,29,29,29,29,31,30,30,27,29,28,31,29,28,28,28,28,32,29,28,30,32,31,28,32,42,32,27,28,31,28,31,28,30,29,29,29,28,29,32,27,28,28,31,31,29,28,28,29,29,27,33,27,30,30,30,28,29,29,29,35,28,27,28,28,30,28,29,29,32,35,35,35,27,27,27,28,31,33,29,33,33,30,33,33,29,29,31,29,35,32,27,29,29,31,34,29,28,29,29,31,28,33,32,27,30,28,27,28,27,28,29,28,31,31,29,29,27,34,27,27,33,29,28,34,31,17,18,17,17,18,19,19,19,18,17,19,18,19,18,17,18,19,19,18,19,18,18,19,18,19,19,19,19,20,18,18,18,18,18,18,18,18,18,20,20,19,20,20,19,20,19,17,17,19,20,20,18,19,19,20,19,19,20,20,19,20,18,20,19,18,20,18,19,20,21,21,19,19,20,19,20,19,20,19,19,20,20,19,21,18,18,20,18,19,20,18,18,19,18,19,20,21,20,21,19,20,19,20,20,21,20,20,21,19,20,18,19,19,21,19,18,19,20,20,18,19,21,20,19,21,20,19,20,21,21,19,21,20,20,20,20,21,19,20,19,20,19,21,21,21,22,21,21,21,22,22,21,20,21,22,21,20,21,21,22,21,20,19,18,20,21,19,19,19,20,19,21,20,21,22,20,21,22,21,22,22,21,22,21,21,21,21,21,20,20,21,20,21,21,22,20,22,21,20,21,20,19,22,21,20,22,20,21,22,21,20,21,21,18,19,20,21,21,20,22,21,20,21,18,22,22,21,22,22,23,22,23,23,21,22,21,21,21,22,22,20,22,22,21,20,20,20,20,21,21,21,20,20,19,20,21,21,19,21,22,20,23,22,22,22,23,20,22,21,21,20,21,20,21,22,21,21,20,22,22,19,21,21,21,22,23,23,23,23,23,23,23,21,23,22,24,23,21,23,20,23,22,23,23,23,22,21,21,20,21,21,23,22,21,22,20,21,21,22,21,21,21,20,21,22,21,22,23,21,21,20,22,19,20,21,21,21,24,23,23,22,22,24,23,23,22,23,22,22,23,21,22,20,22,22,22,21,20,23,22,22,22,23,22,23,22,22,21,20,22,22,21,23,23,22,22,24,23,23,24,23,23,24,23,23,23,23,23,23,24,24,22,22,22,22,23,22,22,23,20,24,23,24,22,22,21,21,24,22,22,23,25,23,23,22,22,24,22,20,24,22,20,22,20,23,21,22,24,22,22,24,24,23,25,23,24,25,25,22,23,24,23,23,24,23,24,24,23,25,23,25,22,22,23,24,22,23,24,22,22,21,24,23,23,22,24,24,22,24,24,24,24,23,24,23,23,23,23,23,24,23,24,22,22,23,24,21,19,22,26,24,25,25,24,24,24,25,26,25,25,24,24,23,23,25,25,23,24,25,25,24,22,24,25,25,24,24,24,24,24,23,25,23,24,23,25,25,23,24,25,22,25,25,25,24,23,26,25,25,24,24,25,24,25,25,25,26,24,25,21,23,25,24,27,27,26,27,26,27,26,26,26,25,26,24,25,25,25,26,24,25,24,28,25,25,25,25,25,24,27,25,23,26,25,27,27,26,25,25,25,27,23,26,25,25,26,26,25,25,28,26,25,27,26,25,26,26,26,26,24,25,26,26,29,25,27,24,25,27,26,28,26,27,27,26,27,26,25,29,27,30,27,29,27,26,27,27,27,30,26,26,28,26,27,27,28,27,28,27,26,27,27,26,27,26,25,27,28,27,28,27,27,25,27,26,27,27,26,26,27,25,27,27,29,39,35,36,37,34,34,36,38,36,35,39,33,38,35,33,33,35,35,33,34,35,33,34,33,36,32,33,30,32,30,31,32,32,32,32,34,32,33,32,30,31,37,31,34,31,33,35,32,29,30,32,30,32,30,35,30,30,36,29,29,29,29,30,30,29,29,29,30,30,31,28,33,30,33,28,30,30,28,27,31,35,28,29,26,27,30,33,33,29,27,32,29,28,30,29,28,26,32,30,30,28,30,28,30,29,34,34,31,27,31,28,29,28,27,31,29,27,28,33,35,30,35,29,27,29,30,29,30,30,32,30,32,29,31,31,29,36,29,37,28,28,23,30,28,31,30,31,27,31,30,32,33,30,29,33,33,29,31,28,28,27,27,33,33,34,26,29,27,28,33,33,34,30,29,32,29,30,30,28,35,28,28,33,29,31,30,30,30,27,27,28,21,33,30,27,29,32,29,32,17,18,17,18,17,18,19,19,19,18,17,20,19,19,18,19,18,17,17,18,18,20,20,20,20,19,19,19,18,18,20,18,20,20,19,20,19,20,19,19,19,19,19,20,19,18,19,18,19,18,20,21,20,20,21,21,19,19,20,19,20,21,18,20,20,18,18,20,18,19,19,18,19,18,18,21,21,20,20,20,20,19,19,19,21,20,20,20,19,21,19,20,20,18,19,18,19,20,20,18,19,19,18,19,21,19,21,20,20,20,19,20,21,20,21,20,22,20,21,19,19,19,19,21,19,20,21,19,20,19,20,19,20,20,21,22,21,21,21,20,21,21,20,20,21,19,22,21,20,20,20,20,20,19,20,21,20,20,19,19,20,20,20,19,19,19,22,21,17,22,21,21,21,22,21,21,22,21,21,22,22,22,21,20,21,20,21,22,21,22,21,21,22,20,20,20,21,21,21,20,21,20,21,19,21,22,22,22,21,22,21,21,20,22,22,22,21,21,22,22,20,21,21,20,22,22,21,21,21,22,20,21,22,23,20,20,20,19,22,22,22,19,21,23,23,22,23,24,24,23,21,22,21,22,22,23,21,21,22,21,21,23,22,23,22,22,21,22,23,21,22,23,20,22,21,22,21,20,21,21,21,22,22,22,21,22,20,22,21,21,21,22,21,23,23,22,23,21,23,22,22,22,22,23,21,21,22,22,22,22,23,21,21,22,24,22,21,22,21,21,22,20,22,22,22,22,20,22,20,22,21,25,24,23,23,24,25,22,23,23,23,25,25,21,22,21,24,23,23,23,23,21,23,23,23,24,23,23,23,23,24,23,22,23,24,22,21,22,22,23,18,22,22,22,23,21,22,23,25,25,25,23,23,25,22,23,23,22,23,24,24,24,23,23,24,21,23,21,23,23,23,23,24,24,24,23,23,23,23,23,24,24,25,25,26,25,23,24,25,25,24,22,25,24,26,22,25,23,25,24,24,23,26,24,25,21,25,24,24,22,23,24,23,23,25,24,26,25,25,25,26,25,24,26,24,26,21,27,27,23,25,22,24,26,26,25,26,24,24,25,23,25,25,27,25,25,25,26,25,28,25,27,24,26,23,23,25,27,26,26,24,25,25,26,26,26,22,26,25,25,24,25,24,26,26,25,24,25,28,26,25,26,25,26,28,26,29,26,28,25,28,29,26,27,26,27,26,28,26,27,27,28,29,27,26,27,26,27,26,28,26,25,27,28,26,26,26,27,26,26,40,36,33,33,35,36,34,32,33,32,30,35,33,39,33,29,34,32,32,34,32,31,30,31,29,32,34,29,29,29,31,31,32,31,26,28,29,30,27,29,30,31,28,28,27,34,29,29,29,28,29,30,28,28,32,27,29,37,28,27,36,29,32,30,32,29,32,29,34,28,32,26,25,30,31,27,33,30,27,30,26,31,29,29,29,33,30,32,30,29,37,27,28,29,30,31,34,29,31,16,18,17,17,18,17,19,19,19,18,17,18,18,19,17,18,19,19,19,19,17,19,19,17,17,19,20,19,18,19,19,20,19,18,19,18,19,19,18,19,19,19,18,17,19,18,17,18,20,20,20,19,20,20,20,20,20,18,17,18,18,19,20,20,19,19,19,20,20,20,19,18,18,19,19,18,20,20,20,20,20,19,20,19,19,19,19,20,19,20,18,19,19,19,18,19,18,19,18,18,18,18,18,21,20,20,19,19,20,20,19,20,20,20,19,20,19,20,18,21,20,19,18,20,20,20,19,19,18,18,18,20,18,19,19,18,19,18,21,21,20,20,21,21,19,21,19,21,21,20,19,20,21,21,21,20,19,21,18,18,19,19,19,18,20,20,21,21,20,19,20,18,19,21,21,21,21,21,21,21,20,19,20,18,19,21,20,19,19,20,21,20,20,22,19,19,19,19,19,19,19,20,20,19,19,21,22,21,19,22,21,19,19,19,19,20,20,21,20,21,20,20,20,19,19,18,18,20,21,20,20,20,20,20,22,22,21,22,21,20,21,22,20,21,19,20,20,22,22,22,21,22,22,20,23,21,22,20,21,21,20,22,21,20,19,20,20,23,23,22,22,22,22,22,22,21,22,21,21,21,21,21,22,22,22,19,20,20,23,21,20,20,22,20,19,22,20,21,20,22,20,22,20,22,21,21,20,18,22,18,18,20,21,20,22,23,23,22,24,23,23,23,22,21,23,24,22,20,19,22,20,22,21,23,23,21,22,23,20,21,23,21,22,22,22,20,21,22,20,22,20,22,20,21,21,21,21,20,21,21,20,21,24,20,23,21,21,23,23,23,23,23,22,22,22,21,23,22,23,23,22,21,23,21,22,22,22,21,21,21,21,24,21,22,19,23,22,21,22,22,22,21,22,22,23,22,22,22,22,21,23,18,22,21,21,21,23,24,23,25,24,24,23,22,24,23,23,21,23,23,22,23,23,22,24,24,23,23,23,20,22,21,24,23,21,23,24,22,23,21,23,21,23,23,22,21,21,23,22,24,22,24,24,24,24,24,22,22,24,23,22,22,23,22,24,24,21,24,23,23,24,22,21,24,24,24,23,18,24,26,25,23,23,24,24,26,22,25,24,22,26,22,21,24,23,24,20,24,24,24,24,24,24,22,25,25,23,25,24,24,23,24,23,25,26,25,24,24,26,23,26,25,25,24,24,24,26,24,25,23,27,24,25,27,28,25,27,26,26,25,26,26,26,26,25,25,25,27,26,26,25,26,25,24,25,26,25,26,26,26,26,26,25,25,27,27,27,25,25,26,25,26,28,28,27,27,27,27,27,25,27,27,27,28,26,27,30,26,27,29,28,27,30,29,26,26,26,27,28,25,28,26,27,34,37,34,33,30,31,33,32,38,33,32,32,33,31,30,32,34,35,35,29,29,34,30,28,29,28,27,30,29,28,29,25,28,28,29,28,30,26,26,28,27,28,32,30,29,30,28,31,29,28,30,37,32,36,27,31,33,31,30,29,27,29,29,29,28,30,30,30,31,27,30,34,29,29,31,28,32,30,29,32,30,27,38,35,31,33,28,27,17,17,18,18,17,18,18,19,19,17,18,18,17,19,19,18,17,17,18,18,18,17,19,18,18,19,18,18,19,19,18,17,18,19,18,18,18,19,19,17,18,19,17,18,20,18,19,18,19,18,19,18,20,20,19,20,19,18,19,19,19,18,19,18,20,20,18,17,18,18,20,20,20,19,21,21,20,19,19,20,20,20,19,18,18,19,18,19,20,19,20,18,18,20,20,21,21,21,20,21,21,19,20,21,21,19,21,21,19,21,19,20,21,21,19,20,19,19,19,21,20,19,20,19,21,19,17,20,18,19,19,20,19,20,19,20,20,21,21,21,20,21,20,21,21,20,19,18,19,20,19,20,20,20,22,22,21,22,21,21,21,20,21,20,20,20,20,19,20,19,21,19,20,19,19,20,19,20,19,21,19,19,20,20,20,22,21,20,18,20,20,19,22,22,21,20,22,22,22,21,21,22,21,20,21,22,19,20,21,21,22,19,19,20,20,19,20,22,21,21,20,20,19,20,18,21,20,23,22,21,21,22,22,21,22,21,23,22,21,21,22,20,19,22,20,20,20,20,22,20,20,19,21,20,20,22,20,20,23,22,22,22,21,22,21,21,23,21,22,21,21,23,21,21,22,23,23,23,23,21,20,21,22,21,23,20,22,21,22,22,18,23,23,21,21,21,24,22,23,23,21,22,22,24,21,24,21,20,22,23,19,23,23,22,23,21,21,21,21,23,21,20,22,20,21,23,22,21,24,24,23,24,23,24,22,22,23,23,22,22,24,22,24,24,22,24,22,22,21,23,22,23,21,22,24,22,23,21,20,24,22,24,24,23,25,25,24,24,23,20,23,22,24,22,24,21,23,23,20,22,25,21,23,21,22,23,22,22,24,23,25,26,25,25,25,24,25,25,25,24,24,24,22,26,25,24,24,24,25,25,26,25,24,23,20,24,24,27,27,24,26,25,25,27,26,24,26,22,23,24,22,23,25,24,25,24,25,25,25,26,24,27,25,23,25,26,25,26,26,26,27,24,25,26,26,26,28,25,25,26,27,28,28,28,29,26,27,27,27,27,26,25,25,24,27,26,28,27,26,27,28,26,29,36,36,40,35,35,37,32,32,33,32,36,34,33,29,30,29,30,29,32,35,27,32,28,27,31,27,28,29,29,27,31,30,29,30,28,29,31,31,32,31,27,28,29,28,38,26,29,29,29,30,28,33,31,30,30,27,30,34,38,30,29,33,17,18,17,18,19,19,18,19,19,18,19,19,17,18,18,18,18,17,19,18,17,18,19,17,19,19,18,18,19,19,18,18,19,18,18,17,18,18,19,20,19,19,20,18,20,19,18,18,19,17,18,20,18,18,17,19,20,19,19,19,20,19,18,18,19,20,18,19,19,19,18,18,19,18,19,19,20,20,19,19,19,20,19,20,17,20,18,19,18,20,19,18,18,18,19,19,17,19,17,18,21,20,21,21,20,20,20,20,19,18,20,19,19,19,19,19,18,20,20,20,20,19,19,19,19,19,18,20,19,21,20,22,21,21,20,20,20,18,20,19,19,19,20,20,19,20,19,19,20,20,20,19,19,19,20,18,19,22,21,21,21,21,19,20,19,21,20,19,19,20,20,19,19,20,18,20,18,21,20,22,23,22,22,22,19,21,21,19,20,21,22,22,20,21,22,22,20,21,20,21,20,21,20,19,20,21,20,20,21,20,20,22,22,21,22,21,23,22,22,22,22,20,21,20,21,20,20,21,21,21,21,21,21,20,21,19,20,20,20,19,20,21,20,20,21,22,20,20,20,20,21,20,18,23,23,21,22,23,22,21,21,23,21,21,22,22,21,22,22,21,21,23,18,21,23,22,21,20,23,22,21,22,20,23,21,21,22,21,20,23,22,21,22,22,22,21,20,22,23,23,23,22,24,23,22,22,21,21,23,23,24,23,22,22,21,23,24,21,20,23,22,21,22,22,22,20,21,22,22,21,24,25,23,22,24,23,24,24,23,22,22,23,24,21,23,24,24,22,22,21,20,22,22,23,24,22,21,22,23,23,23,25,22,25,23,24,24,22,21,23,21,24,24,23,22,23,23,22,24,23,21,24,23,23,20,24,25,24,24,23,23,24,24,23,24,24,23,24,23,24,25,25,25,24,24,26,25,25,25,21,26,24,24,25,25,25,26,25,26,26,22,26,25,22,25,26,25,24,26,28,26,29,27,27,28,26,26,26,28,27,28,25,40,36,34,34,33,33,34,33,31,35,31,37,26,27,27,27,30,29,28,28,29,28,26,29,27,36,27,30,31,30,33,31,28,33,28,29,29,29,33,33,28,27,37,17,17,17,17,19,18,18,17,17,18,17,19,18,19,18,18,19,20,17,19,18,17,19,17,17,18,19,19,19,18,20,20,19,20,20,20,18,19,19,18,18,20,17,17,19,20,19,19,20,17,19,19,21,20,20,18,21,20,18,19,19,20,20,19,19,19,19,18,19,19,19,19,19,20,21,20,21,19,20,19,20,20,21,19,21,20,19,20,20,20,20,19,19,18,21,20,20,20,21,20,21,20,19,21,20,20,20,21,20,20,20,18,19,19,20,22,19,21,19,19,19,18,19,20,20,22,20,20,21,21,20,19,20,20,21,21,19,21,22,21,21,19,20,22,21,20,19,20,19,21,19,19,19,22,22,21,22,21,22,20,21,21,20,21,21,20,20,20,20,21,20,21,22,20,20,20,22,22,22,21,22,23,21,21,21,21,21,20,22,21,20,20,20,20,20,20,21,19,21,20,20,19,21,19,21,21,20,20,22,20,19,21,22,21,20,20,20,23,23,23,21,22,23,22,23,22,21,22,22,21,23,23,21,20,20,21,23,20,20,22,20,22,22,21,23,22,23,22,23,22,19,22,22,20,21,23,23,23,22,22,22,22,22,24,24,24,22,22,23,21,24,21,23,23,22,22,21,24,22,21,22,22,25,23,23,23,23,23,21,25,22,22,23,22,22,22,23,24,22,24,21,23,24,22,24,25,23,23,24,25,23,25,24,24,24,24,23,25,25,24,25,26,25,22,26,24,25,24,26,27,26,23,27,27,29,27,39,32,32,28,28,32,25,27,28,31,29,30,29,31,28,29,28,32,32,29,27,34,28,28,17,18,18,18,18,18,18,19,19,19,17,17,17,18,18,19,18,19,18,18,19,19,18,18,17,18,19,18,18,19,18,19,18,19,18,19,17,19,18,19,20,20,20,19,19,19,19,18,18,17,17,20,18,19,20,20,20,19,20,18,20,20,20,18,19,18,18,19,18,20,20,20,20,20,20,19,21,19,18,20,18,21,17,20,20,20,19,19,20,18,21,20,19,19,21,19,20,20,20,21,20,19,18,20,19,20,19,20,19,19,19,20,19,19,21,21,19,21,20,21,20,19,20,21,20,19,19,19,20,19,19,19,20,20,20,20,19,20,20,22,21,20,20,18,19,19,18,21,21,19,19,18,21,19,21,20,21,18,20,19,21,20,20,19,17,18,19,18,21,20,22,21,20,22,22,22,22,20,21,20,22,22,19,20,21,21,19,22,22,20,21,19,20,22,21,21,22,20,19,20,21,19,20,20,22,23,20,20,19,20,23,20,20,21,20,21,21,22,19,22,22,20,20,19,22,22,21,22,22,22,22,19,22,22,21,23,20,22,20,22,20,21,23,21,22,21,18,20,20,22,22,23,21,19,22,22,20,19,23,22,24,20,21,21,20,22,21,22,21,21,22,22,20,20,18,24,24,22,21,22,24,22,21,24,23,20,22,22,24,24,24,24,23,23,20,22,25,23,23,24,23,24,23,23,23,24,25,24,24,24,26,23,24,24,24,22,23,24,24,24,24,26,24,27,25,27,27,26,26,23,25,24,24,24,28,27,26,25,26,24,26,29,27,26,29,25,27,27,27,26,37,34,36,27,35,32,27,37,28,30,17,17,18,17,17,18,18,17,19,19,19,17,17,18,18,17,17,19,17,17,18,17,18,18,18,18,19,18,17,19,18,18,20,18,20,19,20,20,19,18,18,19,19,18,18,18,18,20,20,20,20,19,19,20,19,18,20,19,19,18,19,20,19,19,18,19,20,21,19,20,20,19,18,19,18,20,19,19,21,18,18,19,19,18,18,18,20,19,21,17,21,20,20,20,20,21,19,20,19,19,19,19,20,19,19,18,18,21,18,19,18,19,18,21,20,20,18,21,21,19,18,19,21,18,20,19,18,19,18,19,21,21,22,21,19,22,20,19,19,19,21,19,21,22,20,22,21,21,21,22,22,21,20,20,22,20,20,19,19,20,21,22,22,22,20,19,20,20,20,19,20,23,20,20,21,20,22,21,21,20,21,20,19,20,21,19,20,22,21,23,21,20,21,22,21,22,21,18,20,20,20,23,23,20,22,21,20,21,20,22,23,22,22,21,20,22,21,22,21,23,23,22,20,21,20,19,24,24,23,22,23,24,24,23,22,22,22,21,22,20,21,21,24,23,23,21,24,22,23,22,26,25,25,21,24,23,23,26,24,26,25,26,26,26,29,27,28,26,26,35,36,30,29,30,17,17,18,18,17,17,18,19,18,17,18,19,18,19,19,18,18,18,17,18,17,17,17,18,19,19,19,18,18,19,18,19,18,19,18,19,19,18,19,18,18,17,17,17,19,19,20,19,19,18,19,19,19,18,18,19,19,17,18,19,20,20,19,17,19,19,19,19,18,18,19,20,18,17,18,20,19,18,19,20,17,19,19,18,18,18,20,21,20,21,20,20,20,20,21,20,21,20,19,20,20,19,19,18,20,18,19,19,19,19,19,19,18,18,19,18,21,20,19,21,20,18,18,20,19,18,18,19,21,21,21,21,19,18,22,21,18,18,19,21,20,19,21,20,20,20,17,19,19,18,19,18,22,21,22,20,19,20,19,22,19,20,21,19,19,20,22,22,20,20,19,19,22,19,22,21,21,22,20,21,20,19,19,22,23,21,19,23,22,23,21,19,21,20,19,21,22,21,24,21,22,21,21,22,20,24,22,24,22,23,23,24,23,23,24,21,23,22,25,23,24,22,26,23,26,26,26,27,25,28,31,31,17,18,18,18,17,18,18,18,17,19,17,17,18,18,19,17,18,17,18,18,18,18,18,17,17,20,18,18,18,20,18,16,17,17,18,19,20,20,19,20,20,19,19,19,18,19,18,19,18,17,18,19,19,19,17,18,18,17,19,18,20,19,20,19,17,18,18,18,18,19,19,20,19,19,19,19,18,18,19,19,19,18,18,18,18,19,21,20,20,21,18,20,20,20,21,19,18,18,18,19,18,18,17,20,20,21,19,18,19,20,19,19,18,19,17,19,19,21,19,21,20,19,19,20,19,20,20,21,19,22,18,21,20,21,19,20,20,22,20,21,19,22,21,22,21,22,22,21,19,21,21,21,22,20,21,20,20,22,23,22,22,20,22,21,21,20,20,20,22,21,21,20,21,21,24,24,23,23,22,24,18,22,23,24,23,24,22,22,25,26,27,26,28,26,28,32,27,17,17,16,17,18,17,18,17,17,18,17,17,18,18,18,18,17,19,18,18,18,17,18,17,18,17,19,17,19,18,18,19,19,18,17,18,17,17,18,17,20,19,19,17,17,18,19,16,20,20,20,18,20,19,19,18,18,18,18,17,17,18,18,18,18,18,18,17,17,17,19,18,19,19,17,18,19,18,18,18,18,18,19,19,18,20,21,19,20,20,19,18,19,19,19,19,20,20,19,20,20,19,19,19,19,21,20,22,22,21,20,21,19,18,18,22,18,19,20,19,21,19,22,20,21,20,22,20,21,21,22,21,20,20,22,19,20,20,22,20,20,22,20,22,23,22,21,22,20,20,22,18,24,23,20,19,23,21,21,24,22,24,17,25,25,26,36,29,36,17,17,17,17,18,18,18,17,18,19,19,18,18,18,18,19,19,17,18,19,17,18,18,18,17,18,18,19,18,18,18,18,17,19,19,19,17,18,18,18,19,17,18,19,18,18,20,20,18,19,19,18,17,19,19,20,20,19,19,18,18,18,18,19,17,20,19,19,18,17,21,19,19,18,17,19,19,21,20,21,18,19,16,19,21,21,18,18,20,19,19,20,18,18,18,18,19,21,21,19,19,18,17,21,20,21,20,19,20,20,22,25,23,21,18,27,27,18,17,17,18,17,17,18,18,19,18,18,17,18,18,18,18,17,18,19,18,17,18,18,18,19,20,19,18,19,19,20,19,18,17,17,17,18,19,18,19,18,18,18,18,17,18,20,20,19,20,20,20,17,21,19,17,19,18,22,20,19,19,20,20,18,22,19,21,22,19,22,19,20,21,23,22,20,18,22,18,21,20,22,22,21,21,20,20,22,22,20,24,23,23,19,21,22,24,25,28,27,28,30,17,17,16,17,18,17,18,17,18,18,18,18,17,17,17,17,17,18,18,18,19,18,18,18,19,17,20,20,19,18,18,21,19,19,17,19,18,19,21,20,18,18,19,21,18,17,20,20,22,21,19,21,20,23,19,20,22,21,23,23,22,21,25,21,40,28,17,17,17,17,17,17,18,16,16,18,18,18,19,17,20,19,19,18,18,18,18,18,19,18,17,21,19,19,18,21,19,21,19,18,18,21,20,20,22,22,19,18,26],\"legendgroup\":\"\",\"name\":\"\",\"showlegend\":true,\"type\":\"pie\"}],                        {\"template\":{\"data\":{\"histogram2dcontour\":[{\"type\":\"histogram2dcontour\",\"colorbar\":{\"outlinewidth\":0,\"ticks\":\"\"},\"colorscale\":[[0.0,\"#0d0887\"],[0.1111111111111111,\"#46039f\"],[0.2222222222222222,\"#7201a8\"],[0.3333333333333333,\"#9c179e\"],[0.4444444444444444,\"#bd3786\"],[0.5555555555555556,\"#d8576b\"],[0.6666666666666666,\"#ed7953\"],[0.7777777777777778,\"#fb9f3a\"],[0.8888888888888888,\"#fdca26\"],[1.0,\"#f0f921\"]]}],\"choropleth\":[{\"type\":\"choropleth\",\"colorbar\":{\"outlinewidth\":0,\"ticks\":\"\"}}],\"histogram2d\":[{\"type\":\"histogram2d\",\"colorbar\":{\"outlinewidth\":0,\"ticks\":\"\"},\"colorscale\":[[0.0,\"#0d0887\"],[0.1111111111111111,\"#46039f\"],[0.2222222222222222,\"#7201a8\"],[0.3333333333333333,\"#9c179e\"],[0.4444444444444444,\"#bd3786\"],[0.5555555555555556,\"#d8576b\"],[0.6666666666666666,\"#ed7953\"],[0.7777777777777778,\"#fb9f3a\"],[0.8888888888888888,\"#fdca26\"],[1.0,\"#f0f921\"]]}],\"heatmap\":[{\"type\":\"heatmap\",\"colorbar\":{\"outlinewidth\":0,\"ticks\":\"\"},\"colorscale\":[[0.0,\"#0d0887\"],[0.1111111111111111,\"#46039f\"],[0.2222222222222222,\"#7201a8\"],[0.3333333333333333,\"#9c179e\"],[0.4444444444444444,\"#bd3786\"],[0.5555555555555556,\"#d8576b\"],[0.6666666666666666,\"#ed7953\"],[0.7777777777777778,\"#fb9f3a\"],[0.8888888888888888,\"#fdca26\"],[1.0,\"#f0f921\"]]}],\"heatmapgl\":[{\"type\":\"heatmapgl\",\"colorbar\":{\"outlinewidth\":0,\"ticks\":\"\"},\"colorscale\":[[0.0,\"#0d0887\"],[0.1111111111111111,\"#46039f\"],[0.2222222222222222,\"#7201a8\"],[0.3333333333333333,\"#9c179e\"],[0.4444444444444444,\"#bd3786\"],[0.5555555555555556,\"#d8576b\"],[0.6666666666666666,\"#ed7953\"],[0.7777777777777778,\"#fb9f3a\"],[0.8888888888888888,\"#fdca26\"],[1.0,\"#f0f921\"]]}],\"contourcarpet\":[{\"type\":\"contourcarpet\",\"colorbar\":{\"outlinewidth\":0,\"ticks\":\"\"}}],\"contour\":[{\"type\":\"contour\",\"colorbar\":{\"outlinewidth\":0,\"ticks\":\"\"},\"colorscale\":[[0.0,\"#0d0887\"],[0.1111111111111111,\"#46039f\"],[0.2222222222222222,\"#7201a8\"],[0.3333333333333333,\"#9c179e\"],[0.4444444444444444,\"#bd3786\"],[0.5555555555555556,\"#d8576b\"],[0.6666666666666666,\"#ed7953\"],[0.7777777777777778,\"#fb9f3a\"],[0.8888888888888888,\"#fdca26\"],[1.0,\"#f0f921\"]]}],\"surface\":[{\"type\":\"surface\",\"colorbar\":{\"outlinewidth\":0,\"ticks\":\"\"},\"colorscale\":[[0.0,\"#0d0887\"],[0.1111111111111111,\"#46039f\"],[0.2222222222222222,\"#7201a8\"],[0.3333333333333333,\"#9c179e\"],[0.4444444444444444,\"#bd3786\"],[0.5555555555555556,\"#d8576b\"],[0.6666666666666666,\"#ed7953\"],[0.7777777777777778,\"#fb9f3a\"],[0.8888888888888888,\"#fdca26\"],[1.0,\"#f0f921\"]]}],\"mesh3d\":[{\"type\":\"mesh3d\",\"colorbar\":{\"outlinewidth\":0,\"ticks\":\"\"}}],\"scatter\":[{\"fillpattern\":{\"fillmode\":\"overlay\",\"size\":10,\"solidity\":0.2},\"type\":\"scatter\"}],\"parcoords\":[{\"type\":\"parcoords\",\"line\":{\"colorbar\":{\"outlinewidth\":0,\"ticks\":\"\"}}}],\"scatterpolargl\":[{\"type\":\"scatterpolargl\",\"marker\":{\"colorbar\":{\"outlinewidth\":0,\"ticks\":\"\"}}}],\"bar\":[{\"error_x\":{\"color\":\"#2a3f5f\"},\"error_y\":{\"color\":\"#2a3f5f\"},\"marker\":{\"line\":{\"color\":\"#E5ECF6\",\"width\":0.5},\"pattern\":{\"fillmode\":\"overlay\",\"size\":10,\"solidity\":0.2}},\"type\":\"bar\"}],\"scattergeo\":[{\"type\":\"scattergeo\",\"marker\":{\"colorbar\":{\"outlinewidth\":0,\"ticks\":\"\"}}}],\"scatterpolar\":[{\"type\":\"scatterpolar\",\"marker\":{\"colorbar\":{\"outlinewidth\":0,\"ticks\":\"\"}}}],\"histogram\":[{\"marker\":{\"pattern\":{\"fillmode\":\"overlay\",\"size\":10,\"solidity\":0.2}},\"type\":\"histogram\"}],\"scattergl\":[{\"type\":\"scattergl\",\"marker\":{\"colorbar\":{\"outlinewidth\":0,\"ticks\":\"\"}}}],\"scatter3d\":[{\"type\":\"scatter3d\",\"line\":{\"colorbar\":{\"outlinewidth\":0,\"ticks\":\"\"}},\"marker\":{\"colorbar\":{\"outlinewidth\":0,\"ticks\":\"\"}}}],\"scattermapbox\":[{\"type\":\"scattermapbox\",\"marker\":{\"colorbar\":{\"outlinewidth\":0,\"ticks\":\"\"}}}],\"scatterternary\":[{\"type\":\"scatterternary\",\"marker\":{\"colorbar\":{\"outlinewidth\":0,\"ticks\":\"\"}}}],\"scattercarpet\":[{\"type\":\"scattercarpet\",\"marker\":{\"colorbar\":{\"outlinewidth\":0,\"ticks\":\"\"}}}],\"carpet\":[{\"aaxis\":{\"endlinecolor\":\"#2a3f5f\",\"gridcolor\":\"white\",\"linecolor\":\"white\",\"minorgridcolor\":\"white\",\"startlinecolor\":\"#2a3f5f\"},\"baxis\":{\"endlinecolor\":\"#2a3f5f\",\"gridcolor\":\"white\",\"linecolor\":\"white\",\"minorgridcolor\":\"white\",\"startlinecolor\":\"#2a3f5f\"},\"type\":\"carpet\"}],\"table\":[{\"cells\":{\"fill\":{\"color\":\"#EBF0F8\"},\"line\":{\"color\":\"white\"}},\"header\":{\"fill\":{\"color\":\"#C8D4E3\"},\"line\":{\"color\":\"white\"}},\"type\":\"table\"}],\"barpolar\":[{\"marker\":{\"line\":{\"color\":\"#E5ECF6\",\"width\":0.5},\"pattern\":{\"fillmode\":\"overlay\",\"size\":10,\"solidity\":0.2}},\"type\":\"barpolar\"}],\"pie\":[{\"automargin\":true,\"type\":\"pie\"}]},\"layout\":{\"autotypenumbers\":\"strict\",\"colorway\":[\"#636efa\",\"#EF553B\",\"#00cc96\",\"#ab63fa\",\"#FFA15A\",\"#19d3f3\",\"#FF6692\",\"#B6E880\",\"#FF97FF\",\"#FECB52\"],\"font\":{\"color\":\"#2a3f5f\"},\"hovermode\":\"closest\",\"hoverlabel\":{\"align\":\"left\"},\"paper_bgcolor\":\"white\",\"plot_bgcolor\":\"#E5ECF6\",\"polar\":{\"bgcolor\":\"#E5ECF6\",\"angularaxis\":{\"gridcolor\":\"white\",\"linecolor\":\"white\",\"ticks\":\"\"},\"radialaxis\":{\"gridcolor\":\"white\",\"linecolor\":\"white\",\"ticks\":\"\"}},\"ternary\":{\"bgcolor\":\"#E5ECF6\",\"aaxis\":{\"gridcolor\":\"white\",\"linecolor\":\"white\",\"ticks\":\"\"},\"baxis\":{\"gridcolor\":\"white\",\"linecolor\":\"white\",\"ticks\":\"\"},\"caxis\":{\"gridcolor\":\"white\",\"linecolor\":\"white\",\"ticks\":\"\"}},\"coloraxis\":{\"colorbar\":{\"outlinewidth\":0,\"ticks\":\"\"}},\"colorscale\":{\"sequential\":[[0.0,\"#0d0887\"],[0.1111111111111111,\"#46039f\"],[0.2222222222222222,\"#7201a8\"],[0.3333333333333333,\"#9c179e\"],[0.4444444444444444,\"#bd3786\"],[0.5555555555555556,\"#d8576b\"],[0.6666666666666666,\"#ed7953\"],[0.7777777777777778,\"#fb9f3a\"],[0.8888888888888888,\"#fdca26\"],[1.0,\"#f0f921\"]],\"sequentialminus\":[[0.0,\"#0d0887\"],[0.1111111111111111,\"#46039f\"],[0.2222222222222222,\"#7201a8\"],[0.3333333333333333,\"#9c179e\"],[0.4444444444444444,\"#bd3786\"],[0.5555555555555556,\"#d8576b\"],[0.6666666666666666,\"#ed7953\"],[0.7777777777777778,\"#fb9f3a\"],[0.8888888888888888,\"#fdca26\"],[1.0,\"#f0f921\"]],\"diverging\":[[0,\"#8e0152\"],[0.1,\"#c51b7d\"],[0.2,\"#de77ae\"],[0.3,\"#f1b6da\"],[0.4,\"#fde0ef\"],[0.5,\"#f7f7f7\"],[0.6,\"#e6f5d0\"],[0.7,\"#b8e186\"],[0.8,\"#7fbc41\"],[0.9,\"#4d9221\"],[1,\"#276419\"]]},\"xaxis\":{\"gridcolor\":\"white\",\"linecolor\":\"white\",\"ticks\":\"\",\"title\":{\"standoff\":15},\"zerolinecolor\":\"white\",\"automargin\":true,\"zerolinewidth\":2},\"yaxis\":{\"gridcolor\":\"white\",\"linecolor\":\"white\",\"ticks\":\"\",\"title\":{\"standoff\":15},\"zerolinecolor\":\"white\",\"automargin\":true,\"zerolinewidth\":2},\"scene\":{\"xaxis\":{\"backgroundcolor\":\"#E5ECF6\",\"gridcolor\":\"white\",\"linecolor\":\"white\",\"showbackground\":true,\"ticks\":\"\",\"zerolinecolor\":\"white\",\"gridwidth\":2},\"yaxis\":{\"backgroundcolor\":\"#E5ECF6\",\"gridcolor\":\"white\",\"linecolor\":\"white\",\"showbackground\":true,\"ticks\":\"\",\"zerolinecolor\":\"white\",\"gridwidth\":2},\"zaxis\":{\"backgroundcolor\":\"#E5ECF6\",\"gridcolor\":\"white\",\"linecolor\":\"white\",\"showbackground\":true,\"ticks\":\"\",\"zerolinecolor\":\"white\",\"gridwidth\":2}},\"shapedefaults\":{\"line\":{\"color\":\"#2a3f5f\"}},\"annotationdefaults\":{\"arrowcolor\":\"#2a3f5f\",\"arrowhead\":0,\"arrowwidth\":1},\"geo\":{\"bgcolor\":\"white\",\"landcolor\":\"#E5ECF6\",\"subunitcolor\":\"white\",\"showland\":true,\"showlakes\":true,\"lakecolor\":\"white\"},\"title\":{\"x\":0.05},\"mapbox\":{\"style\":\"light\"}}},\"legend\":{\"tracegroupgap\":0},\"title\":{\"text\":\"a\"}},                        {\"responsive\": true}                    ).then(function(){\n",
              "                            \n",
              "var gd = document.getElementById('2a14e1f6-72f5-435e-b6ab-c3ea8a0ae011');\n",
              "var x = new MutationObserver(function (mutations, observer) {{\n",
              "        var display = window.getComputedStyle(gd).display;\n",
              "        if (!display || display === 'none') {{\n",
              "            console.log([gd, 'removed!']);\n",
              "            Plotly.purge(gd);\n",
              "            observer.disconnect();\n",
              "        }}\n",
              "}});\n",
              "\n",
              "// Listen for the removal of the full notebook cells\n",
              "var notebookContainer = gd.closest('#notebook-container');\n",
              "if (notebookContainer) {{\n",
              "    x.observe(notebookContainer, {childList: true});\n",
              "}}\n",
              "\n",
              "// Listen for the clearing of the current output cell\n",
              "var outputEl = gd.closest('.output');\n",
              "if (outputEl) {{\n",
              "    x.observe(outputEl, {childList: true});\n",
              "}}\n",
              "\n",
              "                        })                };                            </script>        </div>\n",
              "</body>\n",
              "</html>"
            ]
          },
          "metadata": {}
        }
      ],
      "source": [
        "fig = px.pie(df_20, names = 'preferred_foot', title = 'a')\n",
        "fig.show()\n",
        "\n",
        "fig = px.pie(df_20, names = 'age', title = 'a')\n",
        "fig.show()"
      ]
    },
    {
      "cell_type": "markdown",
      "metadata": {
        "id": "aURAHZOSEm2B"
      },
      "source": [
        "#### 3- Histogram of Players Ages"
      ]
    },
    {
      "cell_type": "code",
      "execution_count": null,
      "metadata": {
        "id": "I1ovCwHfEm2B",
        "colab": {
          "base_uri": "https://localhost:8080/",
          "height": 542
        },
        "outputId": "5f7daf6d-04c7-4ac3-99b1-847d49253cfc"
      },
      "outputs": [
        {
          "output_type": "display_data",
          "data": {
            "text/html": [
              "<html>\n",
              "<head><meta charset=\"utf-8\" /></head>\n",
              "<body>\n",
              "    <div>            <script src=\"https://cdnjs.cloudflare.com/ajax/libs/mathjax/2.7.5/MathJax.js?config=TeX-AMS-MML_SVG\"></script><script type=\"text/javascript\">if (window.MathJax && window.MathJax.Hub && window.MathJax.Hub.Config) {window.MathJax.Hub.Config({SVG: {font: \"STIX-Web\"}});}</script>                <script type=\"text/javascript\">window.PlotlyConfig = {MathJaxConfig: 'local'};</script>\n",
              "        <script charset=\"utf-8\" src=\"https://cdn.plot.ly/plotly-2.24.1.min.js\"></script>                <div id=\"a4e209a4-bd3a-463f-b1ee-088d19bd0438\" class=\"plotly-graph-div\" style=\"height:525px; width:100%;\"></div>            <script type=\"text/javascript\">                                    window.PLOTLYENV=window.PLOTLYENV || {};                                    if (document.getElementById(\"a4e209a4-bd3a-463f-b1ee-088d19bd0438\")) {                    Plotly.newPlot(                        \"a4e209a4-bd3a-463f-b1ee-088d19bd0438\",                        [{\"alignmentgroup\":\"True\",\"bingroup\":\"x\",\"hovertemplate\":\"age=%{x}\\u003cbr\\u003ecount=%{y}\\u003cextra\\u003e\\u003c\\u002fextra\\u003e\",\"legendgroup\":\"\",\"marker\":{\"color\":\"#636efa\",\"pattern\":{\"shape\":\"\"}},\"name\":\"\",\"offsetgroup\":\"\",\"orientation\":\"v\",\"showlegend\":false,\"x\":[32,34,27,26,28,28,27,27,33,27,20,28,25,26,28,28,34,31,33,32,30,30,28,25,26,25,24,27,27,32,34,33,32,33,32,33,29,30,30,27,25,24,27,26,34,34,31,32,32,30,30,30,28,32,28,23,25,24,26,25,29,24,27,27,31,29,31,32,27,30,29,29,28,19,20,22,26,23,24,23,24,25,25,24,24,24,28,29,28,26,28,29,27,26,27,26,37,31,31,32,29,31,30,28,31,27,27,28,19,20,22,24,25,23,23,22,25,24,23,23,23,25,27,26,26,27,27,26,36,32,32,32,31,31,32,30,30,30,33,28,30,33,32,30,29,32,28,30,29,28,28,29,30,31,28,29,30,23,24,23,20,21,25,23,25,23,24,24,22,24,23,21,25,24,23,23,23,23,23,25,25,25,25,26,27,26,25,26,25,27,25,27,27,28,28,27,30,26,26,27,41,38,34,33,33,36,32,33,34,30,32,31,31,31,30,32,32,31,29,29,28,29,29,29,31,31,29,28,28,30,28,31,27,28,27,27,27,22,21,22,25,25,24,24,23,22,23,21,23,25,26,26,24,24,25,23,24,28,26,25,27,25,28,26,27,25,26,26,30,26,27,27,29,27,27,26,26,29,28,26,26,26,27,26,25,26,36,35,38,33,34,29,33,34,33,31,32,30,30,33,30,30,29,33,28,31,31,30,29,31,28,26,29,27,28,28,28,27,29,26,27,32,28,31,31,35,31,27,27,21,21,22,21,25,22,24,22,23,25,24,22,25,27,26,26,26,25,23,26,26,22,26,26,26,25,25,25,25,26,27,27,26,27,26,30,30,28,27,26,35,35,33,36,33,31,32,32,33,33,31,35,32,34,32,32,32,32,31,33,29,34,31,31,32,31,29,30,28,30,28,28,31,30,28,29,27,31,35,31,27,30,19,22,22,23,23,22,24,22,25,23,24,22,24,24,21,22,23,24,24,22,25,23,23,24,24,22,23,22,25,24,25,24,25,25,24,23,24,24,25,26,25,26,27,25,26,28,26,26,24,26,25,25,25,25,26,28,27,27,26,26,26,25,27,28,26,27,28,28,27,27,25,27,27,27,30,27,37,33,35,32,35,37,33,33,37,31,33,36,33,34,35,32,28,27,32,36,30,32,32,34,30,32,34,30,30,30,32,30,32,35,29,30,31,29,28,28,29,30,29,30,28,32,29,29,31,28,34,27,28,29,29,29,26,28,30,29,27,27,29,28,28,28,27,27,28,26,29,32,29,27,30,28,35,31,31,35,31,18,22,21,21,20,20,23,21,23,21,21,25,22,23,22,20,22,20,23,22,20,21,24,23,24,24,23,23,23,23,23,22,22,24,22,24,24,24,24,23,23,23,22,22,23,22,24,22,25,24,25,24,24,24,23,27,25,27,26,26,27,26,25,25,26,27,24,26,25,26,27,27,28,25,28,26,26,26,26,26,27,26,29,27,27,29,27,26,26,27,27,27,27,26,27,27,27,37,33,35,33,35,33,34,34,34,31,33,33,32,32,32,32,33,33,33,32,31,32,31,30,31,31,31,29,33,29,31,32,30,30,29,33,29,30,27,32,29,29,30,30,33,29,29,29,28,31,30,27,29,28,33,31,27,31,29,30,33,28,31,30,28,31,28,32,30,29,27,28,29,32,29,30,29,28,28,35,31,31,27,31,31,31,27,31,22,21,20,22,21,22,23,22,22,22,21,21,20,23,22,22,22,25,24,24,23,22,22,23,25,22,23,24,23,26,24,25,25,24,25,24,25,23,25,25,25,24,24,24,22,22,25,25,24,25,24,23,26,23,26,25,24,25,24,23,24,27,27,26,25,25,25,24,25,26,25,25,25,26,28,27,28,27,28,27,26,26,26,24,27,28,28,28,27,29,27,27,27,27,29,27,27,27,26,27,26,26,26,26,27,27,27,27,33,35,34,34,32,36,32,41,35,34,32,33,32,32,32,33,29,29,32,30,31,31,33,32,28,32,31,31,30,30,32,33,32,31,33,30,31,32,33,29,32,35,32,31,30,30,33,30,30,31,35,30,30,28,30,29,30,28,29,30,29,29,28,30,29,30,29,31,31,28,29,30,31,28,28,29,28,28,28,28,31,28,31,29,28,27,28,30,30,29,28,27,32,28,31,28,29,30,27,28,29,28,28,28,29,30,29,29,28,29,28,28,31,30,32,29,29,31,27,27,31,30,30,31,35,31,27,32,31,35,35,20,22,22,20,23,21,21,22,22,22,23,23,23,22,21,21,21,20,21,21,22,21,23,23,23,22,24,22,22,23,23,22,21,23,24,23,22,21,23,24,24,23,22,24,21,22,22,22,22,22,24,25,23,24,24,24,25,24,25,24,23,25,24,23,26,23,26,23,24,22,23,23,24,24,25,25,24,24,25,24,27,25,26,24,24,24,25,25,26,25,25,25,25,26,25,26,24,24,27,25,28,26,28,26,26,27,25,28,25,25,26,26,24,26,27,27,27,27,27,29,26,28,26,27,29,26,28,26,26,25,26,27,28,26,26,26,26,26,29,27,35,32,35,34,35,35,32,33,33,35,35,34,32,32,34,33,34,33,30,35,34,32,33,35,31,36,30,33,32,32,29,33,31,31,31,32,31,32,32,30,29,30,33,31,31,31,30,30,30,30,29,30,29,31,36,29,31,29,29,28,29,29,31,29,32,31,29,27,29,34,28,30,32,32,28,29,28,28,31,30,30,29,28,32,32,31,27,27,29,29,28,31,29,30,30,29,27,29,30,28,29,29,30,30,28,29,31,33,27,29,26,29,28,31,31,31,27,31,31,31,27,34,19,19,18,20,19,20,22,22,23,21,20,22,19,20,20,20,18,22,23,22,21,20,21,22,20,21,21,21,20,24,23,21,22,24,21,21,21,21,24,20,21,22,22,21,21,24,23,24,23,22,22,23,22,21,22,22,23,22,21,22,24,23,23,22,24,23,24,24,22,22,21,22,25,25,25,25,22,24,25,25,23,23,23,23,24,23,24,24,24,26,25,24,26,24,24,25,24,25,25,25,23,26,27,28,25,26,24,25,25,27,26,26,26,25,25,25,25,25,28,27,28,25,25,24,24,27,26,25,25,27,26,28,29,28,27,28,25,25,26,26,28,29,29,27,29,26,28,26,27,30,27,27,27,26,26,28,27,26,27,28,27,25,26,26,27,27,28,36,36,36,34,33,29,36,33,38,33,37,33,35,32,34,33,34,36,33,32,38,32,37,35,31,31,33,32,33,30,32,34,33,35,36,34,34,32,32,33,30,29,30,31,33,32,34,31,29,30,32,29,32,35,31,31,31,33,31,31,31,32,33,34,30,30,30,29,30,37,32,30,29,30,31,32,32,27,28,33,31,31,29,28,28,31,32,30,30,29,28,28,31,29,33,31,32,30,30,29,29,28,27,30,29,31,31,28,29,28,29,29,30,31,32,28,29,29,30,28,28,32,28,31,32,33,34,30,30,28,29,30,31,27,27,28,27,28,29,28,32,28,27,30,29,27,28,30,28,28,29,26,28,29,31,31,30,30,28,30,27,30,28,30,28,26,27,29,26,28,31,33,31,31,27,27,27,31,31,35,31,35,31,31,31,31,28,30,27,35,31,38,33,31,19,22,21,20,19,20,20,20,19,22,22,20,22,22,20,22,20,21,20,20,19,23,23,22,21,23,23,21,21,22,20,21,21,22,20,23,22,22,22,21,21,23,21,20,21,24,21,25,23,23,23,24,23,24,22,24,22,22,21,22,22,21,22,21,23,20,21,22,24,22,24,24,22,24,24,23,23,24,22,25,23,23,23,23,23,22,23,25,23,24,25,21,23,24,23,21,22,21,23,24,22,21,24,26,25,24,24,26,24,25,24,24,24,26,23,24,24,26,24,23,23,24,25,23,24,25,23,24,24,25,24,24,25,23,24,23,23,26,25,25,24,24,23,24,25,25,24,25,26,25,25,24,25,24,24,24,24,26,23,25,24,25,26,26,25,27,27,25,26,25,26,27,26,25,24,26,25,26,25,25,26,25,25,25,26,25,25,26,25,24,25,24,26,25,27,25,25,28,25,25,26,25,25,26,25,26,29,26,26,26,26,26,26,25,27,26,25,27,26,29,26,30,29,29,28,29,30,27,26,26,27,26,27,27,27,26,27,27,26,28,30,28,27,29,26,26,27,28,26,27,26,26,25,29,27,27,28,26,26,26,26,27,26,27,26,40,37,39,33,34,34,34,34,35,34,37,35,37,35,34,34,34,34,35,35,28,38,35,32,35,35,34,33,34,34,32,33,33,33,38,32,34,33,30,32,32,32,31,31,32,30,32,32,32,32,32,33,31,33,33,32,32,34,29,29,30,36,34,30,30,34,31,32,31,31,30,33,29,32,29,31,30,31,30,28,31,29,29,30,33,29,29,32,31,29,28,29,29,29,29,30,30,31,28,28,28,30,33,30,31,30,30,30,30,30,29,28,29,31,29,30,28,29,28,28,33,28,30,28,30,28,30,29,28,28,30,30,34,30,28,30,28,29,28,33,28,32,31,32,28,29,31,34,33,29,34,27,29,28,30,27,31,29,27,30,30,29,28,29,28,28,27,29,29,28,28,27,28,29,30,28,29,28,29,27,33,29,28,28,31,28,31,29,30,32,27,28,28,31,30,26,29,33,28,27,32,32,27,27,29,28,30,30,30,29,30,28,29,29,28,31,28,27,30,29,27,35,27,31,27,27,27,35,27,35,27,27,27,35,27,27,27,31,29,35,33,18,19,18,19,19,20,22,22,22,20,20,21,21,19,20,19,19,19,21,21,21,21,22,20,21,23,21,21,22,23,21,21,22,20,19,21,23,20,21,23,21,21,22,22,22,24,23,23,21,22,22,21,23,23,23,21,23,23,21,23,23,22,22,21,23,22,24,25,23,23,23,23,22,22,23,23,25,22,23,21,22,24,22,22,25,24,24,25,23,23,23,24,24,24,24,22,24,22,23,23,21,26,26,25,24,25,25,25,25,25,25,25,25,24,24,25,26,26,24,23,23,25,23,25,22,23,24,22,25,25,26,24,25,25,24,24,24,24,25,25,25,26,25,24,24,24,25,25,24,25,25,25,25,26,27,26,26,28,26,25,25,25,26,26,26,26,26,26,25,26,24,25,26,24,26,26,25,28,25,26,26,25,27,26,25,25,26,24,25,25,26,25,25,26,28,28,27,26,27,27,26,28,25,26,26,26,27,25,26,26,26,25,26,27,26,26,26,27,25,26,29,27,27,26,27,27,29,27,26,27,26,27,27,26,28,27,27,25,25,27,26,27,26,27,29,26,25,26,29,26,26,30,26,26,25,27,26,25,27,34,35,35,38,36,36,38,35,35,35,35,37,34,34,34,32,36,33,35,32,35,33,33,33,35,34,34,33,34,30,32,33,31,33,31,33,32,32,34,31,33,32,29,35,32,34,32,33,32,28,31,33,33,34,32,31,33,31,31,34,31,30,32,32,30,31,31,35,31,28,34,30,29,30,31,31,29,29,31,29,30,30,31,30,30,35,31,32,30,28,29,32,30,31,30,31,33,29,34,30,31,29,29,29,29,29,30,31,30,30,33,32,30,34,28,30,31,32,27,30,32,28,28,29,32,30,32,30,29,28,31,31,28,27,28,28,29,28,30,29,28,31,30,30,29,27,29,31,27,29,31,28,29,28,28,30,29,32,28,31,26,29,29,28,29,27,29,28,29,29,28,29,30,31,29,27,30,35,31,28,29,31,32,28,27,31,28,30,29,28,28,28,29,29,29,35,29,32,28,32,27,34,31,30,28,27,29,32,32,32,30,29,27,30,34,31,28,28,28,29,29,30,29,28,27,32,30,31,27,35,27,31,27,27,35,27,31,35,31,31,27,27,27,31,35,31,27,35,35,35,35,35,35,27,27,27,28,29,31,35,28,29,29,31,31,32,28,30,27,33,21,21,19,19,21,18,20,21,22,21,22,21,20,21,20,22,21,22,19,21,22,22,22,20,21,22,20,21,21,22,22,22,22,22,22,21,21,22,22,23,23,23,23,24,23,23,23,22,22,22,22,21,21,21,21,20,23,22,22,24,24,22,23,24,23,24,22,24,22,23,22,22,23,22,24,23,20,21,22,22,22,21,24,24,24,25,24,24,23,23,25,23,23,22,25,24,24,22,22,24,22,23,24,23,24,22,22,24,22,23,23,25,26,23,25,24,25,24,25,26,24,24,25,23,25,23,24,25,25,24,23,24,24,25,23,25,26,24,23,26,23,23,23,25,25,23,24,24,22,22,25,24,23,23,26,25,26,25,25,25,24,26,25,24,24,26,24,24,24,25,23,25,25,25,24,26,25,23,25,26,27,28,26,26,26,24,27,26,27,26,26,26,26,25,26,26,26,24,27,24,26,25,26,26,26,24,25,27,25,26,24,25,24,26,25,25,25,27,27,26,25,25,25,25,25,25,25,25,26,26,26,28,26,27,26,26,26,26,25,26,26,26,26,26,27,25,25,26,25,27,28,26,26,26,25,26,27,27,27,27,29,30,27,28,29,27,27,28,28,27,27,28,27,27,26,26,29,27,28,28,26,27,27,26,26,28,26,26,26,26,27,26,27,28,29,28,28,27,25,26,26,27,25,26,26,28,28,26,27,27,25,27,36,40,38,40,37,35,35,38,36,35,34,35,35,37,35,33,36,35,38,36,34,35,35,35,36,34,33,30,33,31,32,33,33,33,36,36,32,32,33,32,32,37,32,28,37,32,31,31,32,31,35,36,31,31,31,31,30,32,30,34,35,33,32,32,32,33,30,34,32,30,30,32,35,30,31,29,30,29,30,33,34,32,30,31,30,29,31,33,34,30,30,32,33,30,34,31,31,29,31,30,29,30,30,30,29,30,31,30,32,34,29,31,33,28,29,29,35,29,30,28,33,27,31,29,28,31,34,31,29,29,30,30,33,27,29,31,32,31,32,30,29,33,28,28,31,33,30,32,32,31,32,30,35,32,33,31,28,31,27,32,28,29,30,28,29,29,33,28,27,29,31,33,31,31,28,38,27,28,28,30,28,28,28,32,30,28,28,33,28,31,28,29,29,28,31,30,26,31,30,29,30,29,33,32,29,29,28,31,29,26,31,28,27,28,31,29,28,28,29,32,31,26,33,26,28,28,32,29,30,27,28,28,30,29,27,29,32,29,29,28,28,28,27,27,30,29,28,31,28,29,27,31,32,28,30,30,27,29,30,29,30,29,34,27,27,29,31,28,32,28,28,29,28,31,29,28,29,30,29,27,26,30,32,28,29,29,27,29,26,27,28,27,27,31,27,27,35,31,35,27,31,35,35,35,27,27,35,31,31,35,35,27,30,29,28,33,30,27,29,29,31,27,26,34,31,30,18,18,17,21,21,20,19,20,19,19,19,21,21,20,19,20,19,21,22,21,22,21,20,22,21,22,21,21,21,19,21,20,19,20,20,21,23,22,22,22,22,22,21,22,21,21,22,22,21,20,22,20,21,23,21,22,23,22,20,23,22,21,21,23,23,23,22,22,23,24,23,23,23,21,21,22,22,22,20,21,23,21,21,23,23,24,23,25,24,24,24,23,23,24,21,23,22,23,24,23,22,24,22,23,22,22,23,22,23,24,21,24,22,23,22,22,24,23,21,23,24,24,23,24,23,23,22,24,23,22,22,24,21,22,23,24,23,23,22,23,23,21,24,22,22,23,22,23,23,26,24,24,24,23,23,24,22,24,23,24,25,23,24,24,24,23,23,24,24,24,24,23,24,24,25,24,24,24,26,24,22,23,24,26,26,25,23,24,25,25,26,26,25,26,24,26,27,25,25,25,25,24,26,25,25,24,24,24,24,24,24,24,24,26,25,25,24,24,25,25,23,24,24,24,25,25,25,24,25,25,22,27,26,27,26,26,27,26,24,26,26,26,26,26,26,24,25,24,26,26,26,24,25,26,26,24,26,26,25,25,26,26,26,25,25,26,22,24,26,26,24,25,25,24,26,25,27,25,25,25,24,27,26,25,26,25,24,22,26,25,25,26,25,27,27,25,26,28,28,29,28,26,28,29,26,25,25,28,26,26,26,27,28,25,25,27,27,25,27,26,26,26,26,26,26,24,26,26,28,25,27,29,27,27,27,30,27,27,27,28,26,29,28,27,27,28,27,27,26,27,27,27,25,27,27,26,27,28,26,27,27,25,27,26,26,26,27,28,27,28,27,27,27,25,26,26,29,27,27,27,30,27,26,27,27,27,29,27,27,28,26,27,26,27,27,29,27,27,36,37,36,36,32,35,35,34,35,36,39,33,34,37,34,37,36,35,34,30,41,35,33,32,32,35,34,33,34,34,36,34,36,34,36,33,34,31,32,28,34,35,31,32,37,31,30,33,33,35,34,33,31,32,32,34,35,30,34,32,33,30,35,34,34,31,31,33,31,33,38,30,29,33,31,33,38,31,35,32,34,32,32,30,31,34,33,29,32,32,30,32,31,31,29,28,31,30,33,31,28,29,30,33,30,31,34,31,29,31,31,32,30,32,30,33,36,32,27,29,37,33,32,31,30,34,31,33,29,30,30,29,30,28,28,35,29,29,33,29,28,32,28,29,30,28,30,32,32,30,29,27,32,31,28,30,29,27,28,33,32,32,31,28,32,28,30,30,31,28,27,28,34,27,27,29,29,29,29,31,31,28,31,30,29,29,28,33,27,29,31,28,29,29,28,27,30,27,28,27,28,28,26,29,32,29,27,29,27,29,29,28,27,28,30,27,30,34,27,28,32,30,27,31,32,31,28,27,30,34,29,28,32,33,29,28,28,25,30,28,29,29,30,29,27,27,27,32,30,27,27,33,30,29,28,28,27,34,32,29,30,28,35,28,29,30,26,28,28,31,31,31,32,29,29,29,30,27,27,33,31,29,30,26,30,27,27,25,27,29,28,28,27,29,28,30,30,27,27,31,29,29,33,28,29,29,28,27,30,29,35,35,27,27,35,27,27,27,27,35,35,27,31,35,27,35,31,27,31,35,31,31,31,35,31,31,35,26,27,27,29,31,31,31,27,32,29,35,27,27,29,29,26,35,38,18,19,20,18,19,20,19,21,19,18,19,22,22,21,21,21,19,19,20,22,21,21,21,22,20,20,21,20,22,19,20,22,22,21,22,22,20,21,20,20,20,22,20,24,21,24,22,21,23,20,23,22,20,21,21,22,23,21,20,22,22,23,24,22,23,21,21,22,21,21,23,23,23,21,23,22,20,24,25,23,24,23,23,23,24,23,23,23,21,22,24,23,23,22,24,23,23,21,22,24,22,22,22,24,25,24,24,24,24,24,23,24,23,24,23,23,23,24,23,22,23,23,22,24,23,21,21,22,24,23,23,23,25,26,25,24,26,24,24,25,25,23,23,25,25,25,25,25,26,25,24,24,24,23,24,23,24,24,25,24,24,24,23,25,24,24,23,25,23,23,24,23,24,24,23,25,26,26,25,25,24,25,24,25,25,24,25,25,24,25,24,25,26,24,25,24,25,24,24,25,23,25,25,23,24,26,25,23,23,27,27,26,27,26,27,26,26,28,25,27,24,25,26,27,26,25,26,26,26,25,25,24,27,25,25,25,26,26,26,24,26,25,24,27,26,26,25,27,25,24,27,26,26,26,26,24,26,27,26,27,25,24,26,26,26,26,24,25,25,26,27,24,26,25,26,23,26,26,29,27,28,25,28,26,26,26,26,26,25,27,26,27,27,26,27,26,28,27,27,25,25,26,28,24,25,27,25,27,28,27,28,27,29,28,27,29,28,27,27,26,27,27,27,26,25,26,28,27,27,26,29,27,26,24,27,29,27,27,26,26,27,26,26,27,26,27,27,28,26,27,28,26,27,26,27,27,27,27,26,27,26,30,25,27,27,26,27,27,27,27,27,27,28,26,29,27,40,40,38,38,36,35,35,35,33,37,36,32,38,34,37,35,27,28,33,36,34,35,35,34,33,33,35,34,34,31,33,39,33,32,34,35,35,34,32,35,33,33,34,32,33,31,31,34,31,31,33,32,30,32,31,33,30,33,34,31,33,34,32,30,33,32,31,33,32,31,32,31,30,32,33,32,32,32,29,30,30,33,32,36,30,29,32,29,31,32,29,29,31,29,29,31,34,36,30,31,33,31,30,30,32,30,30,31,29,31,32,28,31,34,32,29,29,30,29,30,31,31,28,31,33,28,28,32,30,29,29,29,28,33,28,26,29,32,32,30,31,31,30,30,27,31,29,30,29,29,33,30,33,31,28,33,29,28,30,30,31,29,27,29,29,33,29,32,27,35,30,33,27,29,30,27,30,33,29,31,28,34,28,28,30,29,31,28,28,29,32,31,31,30,29,31,27,30,28,27,27,29,30,31,27,31,33,31,28,31,31,27,28,34,29,28,28,34,29,27,27,28,29,31,29,29,28,28,29,27,27,28,31,29,30,28,29,28,30,30,28,28,30,27,30,29,30,29,27,29,33,31,27,30,31,31,30,29,33,32,27,30,28,30,34,35,28,30,30,29,28,29,32,39,28,30,28,32,29,26,28,31,28,27,27,29,29,30,28,28,29,27,27,35,27,31,27,35,27,35,35,35,31,31,35,35,35,35,35,31,31,31,35,31,31,31,29,30,30,28,32,35,31,28,28,30,30,26,28,29,28,29,35,35,27,35,29,30,28,18,18,20,19,18,19,19,19,16,19,20,18,20,21,20,19,21,19,19,19,20,19,21,19,20,19,21,20,20,19,20,21,21,21,21,20,20,21,21,20,20,20,22,22,22,19,22,21,21,21,20,20,21,21,23,20,21,21,21,22,21,21,21,21,21,21,21,22,21,23,21,21,21,21,22,20,22,23,22,20,21,23,24,22,22,22,23,22,23,23,22,21,22,23,21,22,23,21,21,22,21,21,19,22,21,22,23,24,23,24,22,23,22,22,22,21,23,22,22,23,22,21,23,24,22,22,22,22,21,23,23,22,22,22,23,22,23,23,23,23,22,22,23,21,23,24,25,23,23,23,23,23,22,22,23,23,23,23,23,23,24,22,23,22,23,22,24,22,22,23,23,24,23,24,23,24,23,24,24,24,24,22,22,23,23,22,22,22,23,22,24,24,23,24,24,23,24,23,23,23,24,23,23,24,24,24,22,25,26,25,24,25,23,25,24,25,25,25,24,26,24,25,25,24,24,24,24,25,23,26,24,24,24,24,25,25,25,23,23,24,25,25,23,23,24,24,25,25,24,25,24,23,24,25,25,24,24,24,26,25,25,24,25,25,24,23,25,23,24,25,25,23,23,24,24,26,26,26,25,25,25,24,25,23,25,24,24,25,24,25,24,25,24,25,26,23,24,25,24,24,24,24,25,25,24,26,25,22,24,24,24,24,27,25,24,25,26,27,27,27,27,26,26,26,25,25,26,25,26,26,26,25,26,27,26,25,25,26,26,26,24,25,26,26,25,27,25,27,25,26,24,26,26,25,26,24,26,26,25,26,26,27,24,25,26,25,25,24,26,25,25,26,26,28,27,27,26,26,27,28,26,27,26,26,28,26,25,25,26,27,27,29,25,25,27,26,26,25,26,26,28,25,27,27,28,28,27,28,28,27,27,28,27,27,27,28,27,29,27,27,27,25,27,27,27,29,26,28,27,27,26,27,27,26,29,28,27,26,25,27,27,27,27,26,29,27,26,27,30,29,27,28,27,26,27,28,26,26,28,26,27,26,27,25,27,27,27,27,27,27,29,30,27,26,25,33,37,35,34,34,38,38,33,39,39,35,39,28,36,36,35,33,36,39,37,33,36,35,35,37,37,32,34,31,35,38,33,32,34,32,32,31,33,34,32,32,34,32,34,32,35,32,36,33,32,31,36,32,31,33,36,38,31,33,31,31,31,31,29,30,31,33,33,33,32,34,30,30,31,32,31,29,34,34,32,31,31,30,29,36,34,30,32,32,33,30,31,33,32,32,33,35,32,32,34,31,32,33,32,32,31,36,31,29,30,32,30,30,31,31,32,29,33,31,32,32,29,27,32,29,29,31,30,29,30,31,30,32,28,33,32,33,30,33,28,29,30,32,29,33,27,33,31,28,30,29,34,29,29,28,30,30,29,30,31,28,30,29,27,28,29,28,30,32,28,29,28,28,28,28,31,29,28,31,33,28,31,27,31,29,33,27,29,33,27,29,31,28,28,28,29,29,30,31,30,27,27,32,30,29,27,32,28,28,28,31,27,33,33,29,27,29,28,28,29,29,32,29,29,28,30,28,33,30,34,28,30,32,27,28,28,30,29,28,29,32,29,31,30,30,27,28,28,27,30,27,27,27,32,27,31,30,28,26,29,27,29,32,29,30,28,28,30,29,30,28,30,28,29,33,28,30,32,27,30,28,30,28,27,36,35,28,29,28,27,34,28,28,29,33,29,31,27,33,30,30,30,27,31,27,27,29,31,31,27,28,28,28,28,30,28,30,34,29,34,29,35,30,27,28,33,33,29,30,31,28,27,29,32,29,33,34,29,33,31,32,32,28,29,27,32,31,28,28,33,28,27,28,29,29,28,30,28,32,29,27,30,26,31,29,35,29,31,28,28,31,29,29,29,28,27,29,29,35,35,35,35,27,35,27,27,27,31,31,31,27,35,31,31,31,31,27,31,34,31,27,31,31,28,27,32,29,32,27,27,27,31,28,29,29,23,29,27,27,28,28,27,32,27,29,30,33,19,19,20,19,20,19,21,19,19,19,19,18,19,20,21,20,20,20,21,19,20,21,21,21,20,20,19,21,21,20,19,19,22,21,22,21,21,22,20,19,18,19,20,21,21,21,21,22,22,21,21,21,21,22,20,21,22,20,21,22,20,20,21,21,20,22,23,22,21,22,22,21,21,21,20,20,21,22,20,20,22,21,21,21,23,20,20,21,22,22,21,20,21,23,21,23,21,21,22,22,21,22,21,21,21,21,22,21,22,21,21,23,22,22,21,20,20,23,21,23,23,23,23,21,23,23,22,23,22,22,23,23,21,22,23,22,23,22,22,24,23,23,21,23,21,22,23,21,22,21,20,22,22,22,22,23,21,22,21,21,24,23,23,24,24,23,23,23,23,22,23,24,22,23,22,24,22,21,23,22,22,24,23,24,24,22,23,25,22,23,20,23,24,23,24,21,24,21,24,23,24,23,24,24,24,24,23,23,24,25,23,24,25,22,24,23,24,23,23,22,24,23,23,23,24,24,23,21,23,24,23,23,25,23,24,25,22,23,24,22,23,24,24,22,24,23,25,23,25,25,26,24,24,24,24,25,24,24,25,25,23,24,24,24,25,25,24,23,24,24,24,24,26,24,25,26,25,25,22,24,23,24,22,24,24,25,25,25,23,24,25,26,23,24,24,23,22,25,23,23,24,25,24,24,25,26,26,27,25,25,24,25,25,25,25,25,25,25,25,25,24,24,25,25,24,24,25,25,25,24,26,26,26,25,23,23,24,24,25,25,25,24,25,25,25,26,24,24,24,25,24,24,25,24,25,25,28,26,24,27,26,27,26,26,26,26,25,26,25,26,26,26,25,26,25,25,25,26,25,25,25,26,26,26,26,27,26,26,24,25,24,25,24,25,27,25,27,26,25,27,25,25,25,25,27,26,25,24,26,27,26,26,25,25,26,25,26,26,25,25,25,25,25,26,26,26,23,25,25,25,25,24,25,28,26,26,26,26,25,26,28,26,26,26,26,27,27,26,28,26,26,25,26,28,27,26,26,25,26,26,28,25,27,25,27,28,25,28,28,28,26,26,26,27,27,27,27,25,26,25,25,27,29,28,29,28,29,29,29,27,27,28,26,29,27,26,28,27,28,28,27,27,27,27,26,26,27,28,28,27,26,27,27,27,29,27,26,26,26,26,27,29,27,28,26,27,27,27,27,27,27,25,27,27,27,26,27,25,27,27,26,29,25,26,25,26,28,27,27,27,27,26,26,28,26,28,27,27,25,25,25,26,27,26,27,27,27,26,26,26,26,27,26,36,39,34,35,40,36,34,34,36,36,35,37,37,33,37,35,36,38,36,31,32,34,33,32,31,33,38,32,34,32,31,35,31,33,35,36,32,31,32,31,33,31,33,32,33,31,31,31,30,31,28,33,34,32,31,33,30,31,32,31,34,31,38,36,31,32,33,31,32,34,30,33,31,34,30,30,31,33,32,37,35,29,31,33,29,30,34,32,34,31,34,31,28,30,32,32,31,30,31,33,30,31,30,36,30,30,33,28,31,32,36,34,29,31,28,30,30,29,31,31,31,30,33,30,32,30,32,32,31,34,30,30,29,29,32,29,31,29,28,32,31,30,32,29,33,28,28,33,30,30,29,37,29,28,30,30,30,33,27,28,28,32,29,29,34,31,28,29,28,29,28,31,28,28,30,27,29,28,35,30,28,27,37,30,32,28,28,28,30,28,31,31,27,28,32,33,29,31,35,30,27,31,29,29,30,29,27,28,30,30,27,31,29,27,32,28,29,26,26,30,30,30,27,32,27,27,28,30,28,33,33,33,33,30,32,29,29,28,29,31,29,29,27,31,27,29,30,28,29,28,28,29,27,29,31,33,30,29,30,28,30,26,30,33,30,28,28,28,28,27,34,34,32,31,29,27,28,32,31,28,27,30,28,27,30,28,37,29,32,28,31,28,29,28,28,27,28,30,28,31,30,30,31,27,28,28,32,30,28,28,28,33,28,29,28,34,29,29,30,29,29,30,30,30,27,30,27,28,33,29,30,28,30,29,28,35,35,35,31,27,31,27,27,27,31,31,35,35,27,27,27,28,29,29,34,32,27,27,31,27,26,35,28,29,31,35,31,27,28,27,27,30,31,28,28,30,27,30,27,27,27,31,28,27,28,27,35,27,30,29,32,18,19,17,18,18,19,20,19,16,20,20,20,19,19,21,21,19,19,20,18,18,21,19,20,19,20,20,19,21,19,19,21,22,20,22,20,20,21,20,21,19,19,21,20,19,21,22,20,22,19,22,19,21,19,18,21,20,22,21,22,21,22,22,20,21,22,21,21,20,19,20,20,22,22,22,20,22,21,23,23,20,21,22,21,20,20,20,20,22,20,22,22,22,21,21,19,21,22,21,22,23,23,22,23,22,23,22,21,21,22,22,23,23,21,22,21,22,22,22,21,23,23,22,21,22,23,21,21,21,21,23,22,21,22,22,23,22,20,22,20,23,24,21,23,24,23,22,23,22,22,23,22,23,23,22,22,23,23,23,24,21,23,22,22,21,22,22,19,20,22,21,21,21,21,22,21,22,22,21,22,22,21,21,22,20,22,24,24,24,24,23,24,23,24,24,23,23,24,23,23,24,24,23,23,22,23,21,23,23,22,20,23,22,22,21,22,22,22,21,23,21,23,22,23,21,23,25,24,24,24,24,24,25,24,24,24,24,23,23,23,24,22,23,23,23,24,22,23,24,24,24,23,24,23,24,22,24,23,22,24,23,23,22,24,21,24,22,23,24,23,22,25,25,26,24,25,25,25,24,25,26,25,24,24,24,26,24,25,26,26,24,24,26,25,26,24,24,24,23,24,23,25,24,24,23,25,24,23,24,23,23,24,23,25,26,25,22,24,24,23,24,26,24,25,23,21,24,22,22,25,25,25,23,25,25,24,22,26,26,25,25,26,23,25,25,25,25,25,26,26,24,24,25,25,25,24,24,23,25,24,24,26,26,26,24,25,24,26,25,26,23,25,26,25,25,23,24,25,24,25,25,25,27,27,28,25,25,25,25,26,25,26,25,25,27,25,25,27,26,24,25,26,25,26,26,25,26,25,25,27,27,25,25,25,25,26,27,26,25,25,26,25,26,24,25,26,25,25,25,26,24,26,25,25,25,26,26,27,25,24,25,25,26,25,27,26,26,26,26,24,25,25,25,25,26,29,27,27,26,27,26,27,27,26,27,29,27,26,26,26,25,24,27,28,25,26,27,28,27,26,27,26,25,25,26,26,25,26,28,26,26,26,28,25,26,26,26,25,28,24,27,25,29,30,30,28,29,29,28,28,27,28,29,26,27,29,26,27,26,28,28,27,26,27,26,25,26,26,26,26,27,26,26,27,29,27,27,27,26,28,28,25,28,28,27,26,26,28,27,27,27,26,25,27,28,27,26,30,27,29,27,26,26,27,25,28,27,27,28,27,29,27,27,27,27,26,26,28,26,26,28,27,26,27,26,26,26,27,27,26,26,25,27,27,26,36,34,37,37,36,37,36,34,37,33,34,35,35,40,34,39,34,34,36,35,34,36,39,34,33,37,33,32,32,35,33,33,32,33,33,36,33,32,33,34,33,35,33,34,34,35,33,31,32,32,34,32,32,33,31,32,33,33,31,32,34,33,32,31,31,33,34,33,30,32,31,33,33,33,32,30,31,36,35,33,34,34,36,30,31,31,35,33,33,32,35,33,34,34,36,31,35,35,31,32,32,31,30,29,31,30,32,32,30,31,35,31,30,29,28,34,32,30,30,31,31,32,30,31,30,30,27,29,30,30,32,30,30,30,30,30,27,28,29,29,30,33,30,29,28,34,29,30,29,30,29,30,34,32,33,38,30,31,31,32,31,30,29,29,29,28,32,28,30,33,28,29,29,32,31,31,34,31,28,29,32,28,28,28,28,29,30,29,29,28,33,29,31,28,28,28,30,31,30,29,33,29,29,29,30,28,33,30,28,29,32,28,30,37,28,29,28,29,27,30,28,27,34,29,31,29,28,34,27,27,31,28,26,27,27,30,29,33,32,30,30,30,30,32,31,28,32,31,32,29,28,30,28,28,31,29,28,32,30,31,31,34,29,28,32,30,30,29,28,30,28,28,30,30,30,31,30,33,35,30,30,27,30,27,29,27,26,30,29,29,31,35,28,32,27,31,30,30,29,31,28,30,28,31,31,30,31,30,29,31,29,27,31,29,31,28,27,31,30,32,29,27,33,30,28,31,29,29,32,28,30,33,31,27,35,27,33,31,29,31,31,35,30,32,29,31,35,31,27,31,28,29,30,33,32,29,33,30,26,29,29,27,30,31,29,27,31,27,27,30,33,29,26,31,30,29,30,33,31,30,29,29,28,30,27,29,30,31,28,27,30,30,29,28,29,29,32,29,28,29,29,28,28,28,28,30,30,29,31,29,27,35,35,35,35,35,27,35,27,27,35,27,35,31,35,27,28,28,30,29,29,26,29,29,29,35,31,35,35,27,27,27,28,29,28,28,28,35,31,27,35,27,30,29,29,30,30,29,30,27,32,29,28,32,30,35,28,29,28,36,34,34,27,17,18,18,18,19,19,17,19,19,19,18,19,20,20,19,20,18,20,18,20,19,20,21,19,19,19,19,20,19,21,20,20,19,18,19,19,19,21,21,22,21,19,19,21,20,17,21,21,20,20,21,21,21,20,22,21,21,21,20,21,21,20,20,22,22,20,20,20,18,20,21,20,21,21,18,22,22,22,22,21,22,22,22,21,20,22,23,20,20,21,20,20,21,20,19,19,20,21,20,22,19,21,22,23,23,22,22,20,22,23,21,21,22,22,22,22,20,21,20,22,21,20,22,20,20,21,21,21,20,20,22,20,22,21,21,21,22,23,22,21,22,20,22,20,21,21,20,22,21,24,23,22,21,23,22,24,23,21,23,22,24,24,23,23,21,22,22,21,22,21,22,22,22,21,21,21,21,21,21,21,22,22,20,22,23,21,21,22,23,21,20,23,23,23,22,22,22,23,21,21,23,23,21,21,22,23,22,22,22,21,22,23,23,23,23,19,22,22,21,23,22,23,22,20,23,23,21,22,22,24,22,23,22,23,21,21,20,23,24,25,24,24,22,25,24,23,24,25,22,23,24,23,21,21,24,23,23,24,23,22,22,22,23,23,22,22,23,21,22,23,23,24,23,23,22,22,24,24,22,22,22,22,22,21,22,23,20,24,24,23,25,24,22,23,25,25,24,24,23,24,25,24,23,23,22,22,23,24,23,23,24,22,22,23,22,24,22,24,22,24,22,23,23,24,23,24,23,24,23,22,24,25,23,24,22,24,23,23,24,23,24,23,22,23,23,25,25,21,24,23,24,22,25,26,24,24,25,25,24,25,24,25,22,23,25,24,25,24,25,25,24,24,25,24,25,25,24,24,24,25,24,24,24,25,23,22,26,25,21,24,25,23,22,25,25,24,23,23,22,22,25,24,24,24,25,23,25,22,22,25,22,25,23,24,25,25,23,23,27,25,25,25,25,26,25,25,26,25,25,25,24,25,25,26,27,25,25,24,25,25,25,24,24,25,24,25,26,25,24,24,25,25,24,24,27,25,25,24,25,25,24,25,24,24,26,27,25,26,25,26,25,25,25,26,25,28,26,25,25,26,26,25,25,28,27,25,26,24,26,25,26,25,25,26,25,27,26,27,28,26,25,25,27,25,26,25,25,24,25,25,25,24,26,25,26,25,24,25,25,25,26,25,25,26,25,24,26,26,26,27,27,26,27,26,25,25,25,26,27,24,25,26,26,25,24,25,28,28,27,28,26,28,27,24,26,27,26,26,27,25,28,26,26,26,26,25,27,27,28,26,27,28,27,27,25,26,29,25,26,25,25,25,26,26,26,26,25,26,26,27,27,25,29,30,26,27,28,28,27,28,27,26,27,27,28,28,28,28,28,27,27,26,26,27,26,26,29,26,27,26,26,29,29,27,27,26,28,27,26,26,28,27,30,26,26,27,27,26,27,26,26,25,26,26,27,27,26,27,28,28,26,26,26,29,28,37,35,34,35,36,33,34,32,36,33,32,34,34,34,40,37,32,32,32,36,35,35,36,35,38,33,34,35,33,35,33,35,36,36,34,32,33,35,36,34,33,32,33,33,30,34,33,30,32,31,34,34,30,32,31,33,32,31,31,32,36,32,33,30,30,30,30,33,39,38,32,31,35,31,31,32,31,33,31,30,29,32,32,31,35,31,30,32,32,31,30,30,31,29,29,28,28,29,30,30,31,31,32,31,30,35,33,30,30,32,33,31,29,30,28,31,37,30,31,31,29,34,28,29,30,29,31,29,31,32,28,28,29,31,30,29,30,28,33,33,30,33,29,28,30,31,27,28,32,30,32,31,29,33,30,29,32,30,30,34,28,28,32,31,29,28,29,30,30,28,28,34,32,34,29,30,35,28,28,32,28,29,27,29,31,27,30,30,29,28,32,33,28,31,27,29,28,31,28,27,27,30,27,28,28,31,30,30,34,30,30,28,29,31,28,29,28,27,26,30,27,27,29,31,32,30,27,26,29,31,28,33,30,28,28,29,28,27,34,26,28,27,32,31,28,32,29,29,27,30,28,29,29,26,29,29,27,29,26,33,30,32,31,32,32,36,32,28,32,32,29,32,30,39,35,29,33,32,32,29,26,28,28,28,30,27,28,32,28,28,27,31,28,31,30,27,27,29,28,27,31,30,28,33,26,29,31,30,30,27,29,27,30,30,28,29,28,29,30,31,31,30,29,27,31,28,34,29,29,29,31,31,27,35,35,35,35,27,27,27,30,27,27,31,27,35,29,27,28,31,29,28,28,29,36,30,27,30,29,30,31,28,32,28,32,29,28,35,31,31,27,35,31,31,35,31,29,29,33,31,29,30,27,28,32,27,29,28,30,28,28,31,30,30,30,30,29,31,31,32,32,30,31,28,32,32,31,33,29,29,18,17,18,18,18,19,19,17,19,18,18,19,20,19,18,18,19,18,20,20,19,19,20,20,20,21,20,19,20,18,18,20,21,20,21,20,20,21,18,19,19,21,21,21,22,19,19,21,20,20,19,20,21,21,19,18,20,21,21,20,22,22,20,20,20,20,20,20,22,21,19,21,21,21,22,22,22,22,21,20,22,21,21,21,22,19,22,20,21,20,20,19,20,21,20,20,20,22,22,22,22,21,23,22,21,22,22,22,22,22,21,23,22,21,20,20,22,21,21,21,21,23,20,22,20,23,21,20,21,22,20,23,20,21,21,22,23,21,20,22,21,19,21,22,20,20,20,19,21,19,22,22,23,24,23,23,23,23,23,24,22,23,21,22,21,22,23,21,22,22,22,23,23,20,21,23,23,22,22,20,22,20,22,23,20,22,21,21,23,21,23,23,22,23,21,20,23,22,22,22,23,21,22,22,22,21,23,22,22,21,21,20,22,23,23,23,22,24,23,23,23,22,22,22,22,23,23,23,23,21,23,23,21,20,23,22,23,21,21,23,20,23,22,23,23,21,20,23,22,23,20,23,20,22,20,23,22,21,22,21,21,23,21,23,22,21,22,23,23,22,21,19,23,22,24,24,23,23,24,23,22,23,24,25,23,23,22,22,25,23,23,24,24,23,22,24,24,24,23,23,21,23,23,22,24,23,23,23,22,22,23,22,23,23,23,23,22,23,21,23,22,24,23,22,23,24,22,24,23,23,23,22,24,22,22,24,24,24,24,25,23,22,24,24,24,23,24,24,23,24,23,23,23,23,22,24,22,24,24,24,24,24,22,24,22,23,24,24,24,23,22,22,23,24,23,21,23,23,24,20,22,21,26,25,26,26,25,25,25,25,23,25,25,25,26,24,24,24,25,24,25,24,26,26,26,23,25,25,24,24,25,26,24,24,25,25,24,25,24,24,24,24,23,23,25,23,23,22,24,25,24,24,26,23,24,24,25,23,24,26,24,25,24,24,22,23,24,24,25,23,23,23,25,27,25,26,25,26,25,25,25,26,25,26,24,25,24,25,24,26,25,24,24,24,24,25,25,25,25,27,26,21,26,23,25,25,24,27,26,25,24,24,27,22,25,24,24,25,25,27,24,25,25,25,26,25,25,23,24,25,26,26,25,22,26,24,24,25,25,25,27,28,27,26,26,26,25,26,26,26,27,26,26,26,25,24,25,25,25,25,26,26,26,25,26,25,25,25,25,26,25,27,26,26,25,26,27,26,26,26,25,25,25,26,26,26,26,27,27,25,25,26,23,25,25,26,25,25,25,26,24,26,26,25,25,25,25,28,27,26,25,26,26,25,26,23,26,25,28,27,24,25,26,27,24,25,24,24,24,28,29,28,27,27,27,25,26,27,27,26,26,29,27,25,26,26,25,26,26,26,26,26,29,25,26,26,27,25,26,29,27,23,26,25,26,26,26,25,26,25,27,26,27,26,27,28,27,26,27,30,26,29,27,27,26,27,27,27,28,26,26,27,28,28,26,27,26,27,26,26,26,27,26,27,27,27,28,29,27,29,27,27,26,26,26,27,25,28,28,27,28,27,26,26,25,27,27,27,26,27,27,27,27,26,27,27,26,30,26,27,29,25,25,27,26,25,28,27,26,26,26,26,26,30,27,27,29,26,37,36,37,37,33,35,32,39,35,39,33,37,35,33,33,31,33,35,31,38,34,32,34,35,32,32,31,32,33,31,31,32,34,32,36,32,34,32,31,32,31,32,31,30,29,31,33,35,36,32,31,32,31,29,32,33,32,32,36,31,29,32,34,35,33,31,31,32,31,31,31,31,31,30,35,32,31,30,30,32,34,30,32,29,30,30,30,37,34,32,31,32,33,32,34,30,31,32,31,30,33,33,31,28,29,30,30,30,30,30,32,31,29,28,31,32,27,35,31,34,34,30,27,30,27,32,29,30,30,29,29,29,28,28,32,31,28,27,28,30,28,29,31,34,28,31,27,30,33,31,30,30,30,29,29,35,29,28,27,32,32,30,27,29,30,31,29,30,27,29,28,30,34,35,31,29,33,34,30,28,30,30,29,30,31,27,27,31,33,29,29,33,29,27,30,29,29,27,29,31,29,33,27,28,30,28,28,29,28,31,29,30,30,29,31,27,31,27,28,28,27,28,31,30,31,30,27,27,33,33,32,26,28,27,30,30,29,27,27,30,27,30,28,29,28,37,30,29,29,30,34,29,31,32,27,30,32,32,32,28,30,28,33,30,29,29,30,30,30,29,28,34,28,29,29,28,32,28,28,29,30,32,30,31,29,32,29,33,33,25,29,34,30,28,27,32,30,32,29,30,31,33,29,29,30,31,31,28,28,29,28,32,31,28,29,27,28,36,29,30,29,29,27,29,29,31,27,27,27,33,33,28,31,28,28,29,32,31,31,31,31,31,35,28,27,35,27,31,35,28,32,31,26,31,27,32,30,35,34,34,33,30,28,33,28,34,30,27,32,32,33,28,35,31,27,27,29,30,29,28,27,28,27,29,30,31,30,27,29,28,30,32,28,27,27,29,28,30,27,26,27,31,29,17,18,19,18,18,19,18,18,19,20,18,19,20,19,20,20,20,19,20,20,20,18,20,19,19,18,20,18,20,17,19,21,20,19,19,20,21,20,20,19,20,20,20,18,17,20,19,20,18,19,21,20,21,20,20,19,20,19,19,21,21,19,18,19,19,20,20,17,18,22,21,20,21,20,19,21,21,21,21,19,20,20,20,20,18,19,19,20,20,17,21,21,22,21,21,19,21,21,21,21,22,21,22,19,21,21,19,22,22,22,22,22,22,23,21,21,22,21,20,21,22,21,21,20,22,22,21,22,21,20,20,20,20,20,21,21,20,19,20,22,20,20,20,18,23,22,23,23,23,22,23,22,21,21,21,22,22,21,21,22,22,20,21,22,20,20,22,21,20,22,21,21,21,22,21,22,21,21,20,20,19,21,20,17,22,21,21,22,21,22,20,22,21,20,20,21,23,23,24,21,21,23,23,23,23,21,22,23,23,21,23,22,22,22,22,23,22,23,23,21,20,23,22,22,23,21,21,22,23,22,21,23,23,21,22,21,23,20,21,21,21,22,21,23,22,21,20,23,22,21,21,23,21,22,22,20,24,23,24,23,21,22,23,22,22,21,23,23,24,22,22,22,23,23,21,22,22,23,22,23,22,24,21,22,23,21,23,21,23,22,21,21,24,24,21,22,23,23,22,22,23,21,20,21,24,21,22,22,20,22,22,20,22,24,25,24,23,23,23,24,25,24,23,23,23,23,23,24,22,23,23,23,22,23,22,21,23,23,24,23,23,23,22,24,23,22,23,23,22,23,24,23,23,23,22,21,22,22,22,21,24,23,23,21,24,21,23,23,25,21,24,23,22,23,22,23,23,21,22,23,23,23,21,22,23,22,22,25,23,21,22,24,25,25,23,25,23,23,24,24,24,23,24,23,23,24,23,23,23,23,24,24,23,25,23,24,24,23,24,23,24,22,22,23,24,22,24,22,22,23,24,24,23,23,24,23,23,24,23,24,22,24,24,23,23,22,23,23,23,21,24,25,26,26,26,23,24,25,24,26,26,23,25,25,25,23,25,25,23,24,24,23,24,25,26,23,25,24,24,23,23,25,25,25,25,25,24,23,22,24,24,23,24,23,24,23,24,25,23,26,24,24,23,25,25,24,24,24,23,23,24,24,23,25,24,23,26,22,25,24,25,24,24,25,25,26,25,24,27,24,25,25,24,25,26,26,25,23,23,25,25,23,24,25,24,26,24,25,25,25,24,25,26,25,26,24,25,25,24,24,25,23,25,25,23,24,25,25,25,25,24,25,25,25,22,26,26,27,25,25,26,28,26,26,27,25,23,26,26,24,26,25,25,25,25,25,26,25,25,25,26,24,26,24,25,26,25,25,26,26,25,26,23,25,25,25,24,26,24,25,26,25,26,27,25,26,26,26,25,25,25,26,27,26,24,26,25,26,25,26,25,27,26,26,26,25,24,26,26,26,26,26,25,26,25,26,25,26,29,27,25,25,25,26,27,28,26,27,28,24,26,26,26,25,26,28,24,26,26,25,25,26,26,27,27,28,26,24,26,27,25,28,25,26,28,27,28,27,27,27,29,28,27,27,27,27,28,28,29,27,29,27,27,27,29,30,26,27,27,27,25,26,30,28,25,26,27,26,26,29,25,26,28,27,30,27,27,26,26,28,29,27,26,27,27,26,26,26,27,27,25,27,27,28,27,27,27,27,26,27,26,26,26,26,26,26,26,28,27,41,37,37,36,34,32,35,36,37,36,35,35,37,34,34,34,36,36,34,33,37,34,32,38,36,34,32,34,37,37,36,36,33,33,33,32,34,40,32,36,33,35,34,33,32,30,38,31,33,31,31,32,31,33,30,30,31,32,33,32,32,33,32,30,31,33,33,33,36,33,33,33,31,33,34,32,33,29,37,30,32,34,33,31,28,32,31,30,32,37,32,36,30,30,32,30,29,35,34,31,31,30,31,29,28,27,29,32,30,28,30,31,29,30,29,33,29,31,29,30,30,30,30,30,29,29,30,32,29,29,31,30,27,27,28,28,30,31,33,30,30,30,32,28,32,28,31,28,28,28,29,27,30,29,28,29,27,30,28,31,29,28,34,31,32,27,30,31,30,31,29,28,31,29,29,28,28,30,30,29,29,29,26,27,27,30,28,34,35,28,29,31,29,28,31,30,30,29,29,34,28,27,29,28,28,27,29,27,32,31,28,29,33,31,27,31,29,34,29,27,29,32,26,29,27,30,27,27,27,28,30,30,28,29,27,32,33,33,36,38,29,30,30,31,37,27,38,38,30,34,35,31,28,27,26,30,32,28,35,27,30,31,26,31,26,28,27,27,27,27,29,29,30,27,26,28,30,28,29,29,27,31,28,26,27,32,29,29,29,30,27,30,28,29,30,31,35,27,31,27,30,28,28,34,32,28,29,27,30,30,30,27,33,28,29,28,27,27,33,29,28,29,31,28,29,28,33,30,28,28,28,30,29,34,30,29,31,28,27,33,33,31,33,30,27,30,29,32,29,28,30,28,28,29,30,17,18,19,17,18,19,18,18,19,18,19,18,19,18,17,18,19,17,20,18,20,19,20,19,19,18,20,19,20,19,19,18,17,19,20,18,19,19,19,19,19,17,17,20,19,19,20,20,21,21,20,19,20,20,18,18,18,19,19,20,20,18,20,20,20,20,20,20,21,20,21,19,21,19,21,21,21,19,19,19,20,18,21,19,20,20,19,21,18,17,21,21,19,19,21,20,21,20,20,20,19,20,19,18,20,19,21,21,21,19,19,20,19,19,19,21,19,21,19,21,21,21,21,21,20,20,22,21,20,20,20,20,21,20,19,21,22,20,19,21,21,20,19,19,19,22,21,21,20,21,22,21,18,20,22,23,23,21,21,22,22,22,20,22,21,21,21,21,21,22,21,21,20,21,20,22,20,22,21,21,20,21,20,20,22,20,20,20,19,19,21,22,18,22,20,19,21,21,19,20,23,22,23,22,22,21,20,22,22,22,21,21,22,22,20,20,21,20,22,21,20,20,20,20,21,22,20,21,22,21,21,21,21,22,20,20,22,19,21,21,20,22,22,20,20,23,22,22,23,23,23,23,22,23,23,23,20,22,22,24,23,23,21,22,23,20,21,22,20,24,21,20,22,21,20,21,20,23,21,20,21,20,24,21,21,22,23,20,21,22,19,23,21,22,20,20,22,20,21,22,22,22,21,22,21,22,22,18,21,21,20,23,22,23,24,24,22,23,24,23,23,22,22,22,21,23,22,23,24,21,20,22,22,22,22,20,23,22,23,22,23,22,23,21,23,19,23,21,23,22,21,23,21,24,21,23,23,23,22,22,23,23,22,20,24,24,24,24,25,24,24,24,24,24,23,23,23,23,24,24,22,23,23,23,22,24,21,22,23,23,22,23,23,22,22,21,25,25,23,21,23,22,22,24,19,22,22,23,24,22,19,23,22,22,22,22,22,23,22,23,25,22,22,25,24,25,24,24,24,24,24,24,24,24,23,24,23,25,22,23,23,25,24,24,23,22,23,22,22,24,25,23,22,23,25,25,25,21,22,23,23,23,23,23,24,24,22,24,23,23,24,25,24,24,24,22,24,24,22,23,24,23,26,25,26,24,25,25,25,24,25,25,25,24,23,24,25,25,24,23,23,24,25,24,21,24,23,24,26,24,24,23,23,21,23,21,23,23,23,22,22,25,24,24,22,25,24,25,24,22,24,24,23,23,24,23,23,26,24,22,23,26,25,26,24,25,24,25,23,25,25,25,26,24,24,25,24,23,23,23,23,24,25,25,24,24,24,24,25,25,26,24,24,25,25,24,24,25,24,24,23,26,25,25,25,25,25,26,24,25,25,24,24,25,25,24,27,26,26,28,27,27,25,26,26,27,25,26,25,25,25,27,25,27,26,25,26,25,25,25,25,25,25,27,26,25,25,26,28,26,24,26,26,27,26,26,26,26,26,25,26,25,25,26,24,26,25,25,26,25,25,26,25,26,25,25,25,25,28,28,28,27,27,26,27,25,26,25,26,24,26,26,25,27,24,28,26,26,26,26,25,26,26,29,24,25,24,26,26,25,25,26,27,25,27,25,27,26,24,26,26,26,30,27,27,26,27,28,28,27,27,27,27,26,27,27,27,27,26,26,27,27,28,28,27,27,27,26,29,26,27,27,30,26,26,26,27,28,28,26,27,27,26,27,25,26,26,29,27,25,28,28,29,27,27,27,26,26,25,27,26,28,28,26,25,28,30,28,27,26,27,29,27,28,27,27,25,26,29,27,27,26,27,27,26,29,27,26,26,26,27,28,29,28,27,27,26,27,36,35,35,37,37,32,36,35,36,35,34,33,35,36,42,36,34,37,32,33,36,34,33,37,32,36,32,34,34,33,33,32,33,34,34,33,32,35,35,37,31,33,32,32,36,33,32,31,31,33,32,31,33,30,29,31,30,31,31,36,30,34,32,32,33,32,33,31,33,33,32,32,33,32,28,30,31,35,34,31,33,30,32,31,28,29,32,29,30,30,31,30,31,30,28,32,31,32,30,33,34,29,30,27,32,34,31,33,32,33,31,32,34,31,31,31,28,30,32,30,28,29,28,29,29,33,30,32,27,27,28,28,28,31,28,28,31,31,30,27,36,28,32,27,27,30,32,31,31,30,28,28,28,30,28,28,28,30,31,28,28,30,33,28,28,27,29,28,28,30,28,30,30,27,29,27,30,31,28,28,32,28,27,31,30,28,32,30,28,32,28,30,29,28,28,31,28,27,31,28,29,28,33,28,27,28,31,32,29,28,30,29,35,29,28,27,27,28,33,31,28,30,28,28,28,29,27,31,28,33,30,29,31,27,27,30,34,31,27,33,28,27,26,28,28,29,31,30,28,28,30,29,28,31,33,33,29,29,27,27,28,31,27,29,30,30,29,35,31,31,31,35,35,31,27,31,28,27,29,30,33,33,31,31,31,28,26,31,35,27,31,31,31,28,30,29,35,35,29,31,33,30,27,30,27,29,28,29,29,28,32,30,28,29,28,27,28,29,28,30,29,30,29,29,31,27,30,35,27,28,30,29,31,29,31,31,29,33,29,31,16,17,16,18,18,18,19,17,18,18,18,19,17,18,18,17,18,19,18,18,18,18,17,18,18,18,18,19,18,19,19,20,20,20,20,20,20,18,19,19,19,19,19,18,19,19,20,18,19,17,20,20,20,18,17,19,18,19,19,19,21,19,19,21,19,21,20,20,20,18,20,20,19,20,20,19,17,19,19,19,19,19,19,19,19,21,21,19,19,21,21,19,19,21,20,19,20,18,19,19,20,20,19,19,18,17,19,20,20,20,20,20,20,20,21,19,20,20,20,21,20,20,20,20,20,20,21,19,19,20,21,19,18,20,20,19,18,21,18,19,22,21,21,21,22,21,21,21,21,19,20,20,19,20,19,20,19,21,21,20,21,20,20,21,21,20,20,19,21,20,19,19,19,20,21,21,20,22,22,22,21,20,21,21,22,21,22,20,21,20,20,21,21,20,21,21,19,21,19,20,19,20,21,19,20,19,20,20,21,19,18,19,19,22,22,22,21,22,22,23,22,22,22,22,21,22,22,20,22,21,21,21,21,21,21,20,22,19,19,21,20,20,20,20,22,21,20,19,20,21,21,20,20,19,21,18,22,21,19,19,23,22,22,22,22,23,22,23,21,23,21,23,22,23,22,23,21,21,20,22,21,20,23,21,21,21,22,21,23,23,22,23,21,20,20,21,21,22,21,19,23,21,17,21,22,21,20,23,22,23,23,22,23,23,23,22,23,22,24,23,22,23,23,22,23,23,22,23,23,23,23,24,21,23,22,23,23,22,22,23,22,24,21,22,22,24,22,23,24,22,22,22,22,21,19,22,22,21,24,24,24,24,23,23,22,24,24,25,24,22,23,24,24,23,22,23,24,23,23,23,24,23,22,22,22,24,21,23,23,22,23,24,19,22,24,24,23,23,22,22,22,22,23,21,23,22,21,22,22,23,23,25,24,24,24,24,24,23,24,24,25,23,25,23,24,25,25,24,24,24,24,23,23,21,24,23,21,23,22,24,22,21,24,23,24,24,24,22,24,24,24,24,23,22,23,23,21,23,24,26,25,25,25,25,26,25,26,25,25,25,24,24,23,23,24,24,25,25,24,23,24,25,23,24,23,24,25,26,23,25,23,22,23,23,25,23,22,25,22,25,24,24,25,21,25,24,23,24,24,21,25,24,24,25,24,25,25,24,24,22,24,25,23,23,24,23,23,24,23,25,25,24,24,24,25,23,25,24,24,24,25,26,24,24,23,24,24,25,24,24,25,23,23,24,24,24,24,24,25,26,24,20,26,24,25,26,24,24,26,25,25,25,25,25,24,25,24,23,27,26,25,25,26,26,26,26,25,26,26,25,25,25,24,26,25,26,25,25,24,26,24,23,25,25,25,25,27,24,25,25,26,25,25,25,27,24,25,25,25,26,26,28,26,24,25,25,25,26,26,26,25,26,23,26,26,28,27,26,26,27,26,26,26,26,27,27,26,28,29,26,29,26,26,26,26,26,27,25,25,28,26,27,22,24,25,26,27,27,26,28,28,29,29,28,27,28,28,27,30,27,29,27,30,28,26,27,28,26,26,27,26,26,26,26,28,26,27,26,26,27,27,27,29,26,26,25,26,29,27,27,29,27,27,27,27,28,25,39,35,37,37,36,35,36,38,35,34,37,34,34,31,34,33,33,33,33,33,32,33,31,32,33,31,32,30,31,34,32,34,32,30,31,32,30,30,36,37,28,32,34,31,29,31,31,30,33,31,37,30,36,33,32,34,30,33,31,29,31,28,30,33,31,30,27,30,31,32,31,30,29,31,30,28,28,28,27,31,28,35,29,33,31,28,29,34,30,31,29,32,30,27,27,29,33,30,29,29,29,30,28,27,29,29,29,29,31,30,30,27,29,28,31,29,28,28,28,28,32,29,28,30,32,31,28,32,42,32,27,28,31,28,31,28,30,29,29,29,28,29,32,27,28,28,31,31,29,28,28,29,29,27,33,27,30,30,30,28,29,29,29,35,28,27,28,28,30,28,29,29,32,35,35,35,27,27,27,28,31,33,29,33,33,30,33,33,29,29,31,29,35,32,27,29,29,31,34,29,28,29,29,31,28,33,32,27,30,28,27,28,27,28,29,28,31,31,29,29,27,34,27,27,33,29,28,34,31,17,18,17,17,18,19,19,19,18,17,19,18,19,18,17,18,19,19,18,19,18,18,19,18,19,19,19,19,20,18,18,18,18,18,18,18,18,18,20,20,19,20,20,19,20,19,17,17,19,20,20,18,19,19,20,19,19,20,20,19,20,18,20,19,18,20,18,19,20,21,21,19,19,20,19,20,19,20,19,19,20,20,19,21,18,18,20,18,19,20,18,18,19,18,19,20,21,20,21,19,20,19,20,20,21,20,20,21,19,20,18,19,19,21,19,18,19,20,20,18,19,21,20,19,21,20,19,20,21,21,19,21,20,20,20,20,21,19,20,19,20,19,21,21,21,22,21,21,21,22,22,21,20,21,22,21,20,21,21,22,21,20,19,18,20,21,19,19,19,20,19,21,20,21,22,20,21,22,21,22,22,21,22,21,21,21,21,21,20,20,21,20,21,21,22,20,22,21,20,21,20,19,22,21,20,22,20,21,22,21,20,21,21,18,19,20,21,21,20,22,21,20,21,18,22,22,21,22,22,23,22,23,23,21,22,21,21,21,22,22,20,22,22,21,20,20,20,20,21,21,21,20,20,19,20,21,21,19,21,22,20,23,22,22,22,23,20,22,21,21,20,21,20,21,22,21,21,20,22,22,19,21,21,21,22,23,23,23,23,23,23,23,21,23,22,24,23,21,23,20,23,22,23,23,23,22,21,21,20,21,21,23,22,21,22,20,21,21,22,21,21,21,20,21,22,21,22,23,21,21,20,22,19,20,21,21,21,24,23,23,22,22,24,23,23,22,23,22,22,23,21,22,20,22,22,22,21,20,23,22,22,22,23,22,23,22,22,21,20,22,22,21,23,23,22,22,24,23,23,24,23,23,24,23,23,23,23,23,23,24,24,22,22,22,22,23,22,22,23,20,24,23,24,22,22,21,21,24,22,22,23,25,23,23,22,22,24,22,20,24,22,20,22,20,23,21,22,24,22,22,24,24,23,25,23,24,25,25,22,23,24,23,23,24,23,24,24,23,25,23,25,22,22,23,24,22,23,24,22,22,21,24,23,23,22,24,24,22,24,24,24,24,23,24,23,23,23,23,23,24,23,24,22,22,23,24,21,19,22,26,24,25,25,24,24,24,25,26,25,25,24,24,23,23,25,25,23,24,25,25,24,22,24,25,25,24,24,24,24,24,23,25,23,24,23,25,25,23,24,25,22,25,25,25,24,23,26,25,25,24,24,25,24,25,25,25,26,24,25,21,23,25,24,27,27,26,27,26,27,26,26,26,25,26,24,25,25,25,26,24,25,24,28,25,25,25,25,25,24,27,25,23,26,25,27,27,26,25,25,25,27,23,26,25,25,26,26,25,25,28,26,25,27,26,25,26,26,26,26,24,25,26,26,29,25,27,24,25,27,26,28,26,27,27,26,27,26,25,29,27,30,27,29,27,26,27,27,27,30,26,26,28,26,27,27,28,27,28,27,26,27,27,26,27,26,25,27,28,27,28,27,27,25,27,26,27,27,26,26,27,25,27,27,29,39,35,36,37,34,34,36,38,36,35,39,33,38,35,33,33,35,35,33,34,35,33,34,33,36,32,33,30,32,30,31,32,32,32,32,34,32,33,32,30,31,37,31,34,31,33,35,32,29,30,32,30,32,30,35,30,30,36,29,29,29,29,30,30,29,29,29,30,30,31,28,33,30,33,28,30,30,28,27,31,35,28,29,26,27,30,33,33,29,27,32,29,28,30,29,28,26,32,30,30,28,30,28,30,29,34,34,31,27,31,28,29,28,27,31,29,27,28,33,35,30,35,29,27,29,30,29,30,30,32,30,32,29,31,31,29,36,29,37,28,28,23,30,28,31,30,31,27,31,30,32,33,30,29,33,33,29,31,28,28,27,27,33,33,34,26,29,27,28,33,33,34,30,29,32,29,30,30,28,35,28,28,33,29,31,30,30,30,27,27,28,21,33,30,27,29,32,29,32,17,18,17,18,17,18,19,19,19,18,17,20,19,19,18,19,18,17,17,18,18,20,20,20,20,19,19,19,18,18,20,18,20,20,19,20,19,20,19,19,19,19,19,20,19,18,19,18,19,18,20,21,20,20,21,21,19,19,20,19,20,21,18,20,20,18,18,20,18,19,19,18,19,18,18,21,21,20,20,20,20,19,19,19,21,20,20,20,19,21,19,20,20,18,19,18,19,20,20,18,19,19,18,19,21,19,21,20,20,20,19,20,21,20,21,20,22,20,21,19,19,19,19,21,19,20,21,19,20,19,20,19,20,20,21,22,21,21,21,20,21,21,20,20,21,19,22,21,20,20,20,20,20,19,20,21,20,20,19,19,20,20,20,19,19,19,22,21,17,22,21,21,21,22,21,21,22,21,21,22,22,22,21,20,21,20,21,22,21,22,21,21,22,20,20,20,21,21,21,20,21,20,21,19,21,22,22,22,21,22,21,21,20,22,22,22,21,21,22,22,20,21,21,20,22,22,21,21,21,22,20,21,22,23,20,20,20,19,22,22,22,19,21,23,23,22,23,24,24,23,21,22,21,22,22,23,21,21,22,21,21,23,22,23,22,22,21,22,23,21,22,23,20,22,21,22,21,20,21,21,21,22,22,22,21,22,20,22,21,21,21,22,21,23,23,22,23,21,23,22,22,22,22,23,21,21,22,22,22,22,23,21,21,22,24,22,21,22,21,21,22,20,22,22,22,22,20,22,20,22,21,25,24,23,23,24,25,22,23,23,23,25,25,21,22,21,24,23,23,23,23,21,23,23,23,24,23,23,23,23,24,23,22,23,24,22,21,22,22,23,18,22,22,22,23,21,22,23,25,25,25,23,23,25,22,23,23,22,23,24,24,24,23,23,24,21,23,21,23,23,23,23,24,24,24,23,23,23,23,23,24,24,25,25,26,25,23,24,25,25,24,22,25,24,26,22,25,23,25,24,24,23,26,24,25,21,25,24,24,22,23,24,23,23,25,24,26,25,25,25,26,25,24,26,24,26,21,27,27,23,25,22,24,26,26,25,26,24,24,25,23,25,25,27,25,25,25,26,25,28,25,27,24,26,23,23,25,27,26,26,24,25,25,26,26,26,22,26,25,25,24,25,24,26,26,25,24,25,28,26,25,26,25,26,28,26,29,26,28,25,28,29,26,27,26,27,26,28,26,27,27,28,29,27,26,27,26,27,26,28,26,25,27,28,26,26,26,27,26,26,40,36,33,33,35,36,34,32,33,32,30,35,33,39,33,29,34,32,32,34,32,31,30,31,29,32,34,29,29,29,31,31,32,31,26,28,29,30,27,29,30,31,28,28,27,34,29,29,29,28,29,30,28,28,32,27,29,37,28,27,36,29,32,30,32,29,32,29,34,28,32,26,25,30,31,27,33,30,27,30,26,31,29,29,29,33,30,32,30,29,37,27,28,29,30,31,34,29,31,16,18,17,17,18,17,19,19,19,18,17,18,18,19,17,18,19,19,19,19,17,19,19,17,17,19,20,19,18,19,19,20,19,18,19,18,19,19,18,19,19,19,18,17,19,18,17,18,20,20,20,19,20,20,20,20,20,18,17,18,18,19,20,20,19,19,19,20,20,20,19,18,18,19,19,18,20,20,20,20,20,19,20,19,19,19,19,20,19,20,18,19,19,19,18,19,18,19,18,18,18,18,18,21,20,20,19,19,20,20,19,20,20,20,19,20,19,20,18,21,20,19,18,20,20,20,19,19,18,18,18,20,18,19,19,18,19,18,21,21,20,20,21,21,19,21,19,21,21,20,19,20,21,21,21,20,19,21,18,18,19,19,19,18,20,20,21,21,20,19,20,18,19,21,21,21,21,21,21,21,20,19,20,18,19,21,20,19,19,20,21,20,20,22,19,19,19,19,19,19,19,20,20,19,19,21,22,21,19,22,21,19,19,19,19,20,20,21,20,21,20,20,20,19,19,18,18,20,21,20,20,20,20,20,22,22,21,22,21,20,21,22,20,21,19,20,20,22,22,22,21,22,22,20,23,21,22,20,21,21,20,22,21,20,19,20,20,23,23,22,22,22,22,22,22,21,22,21,21,21,21,21,22,22,22,19,20,20,23,21,20,20,22,20,19,22,20,21,20,22,20,22,20,22,21,21,20,18,22,18,18,20,21,20,22,23,23,22,24,23,23,23,22,21,23,24,22,20,19,22,20,22,21,23,23,21,22,23,20,21,23,21,22,22,22,20,21,22,20,22,20,22,20,21,21,21,21,20,21,21,20,21,24,20,23,21,21,23,23,23,23,23,22,22,22,21,23,22,23,23,22,21,23,21,22,22,22,21,21,21,21,24,21,22,19,23,22,21,22,22,22,21,22,22,23,22,22,22,22,21,23,18,22,21,21,21,23,24,23,25,24,24,23,22,24,23,23,21,23,23,22,23,23,22,24,24,23,23,23,20,22,21,24,23,21,23,24,22,23,21,23,21,23,23,22,21,21,23,22,24,22,24,24,24,24,24,22,22,24,23,22,22,23,22,24,24,21,24,23,23,24,22,21,24,24,24,23,18,24,26,25,23,23,24,24,26,22,25,24,22,26,22,21,24,23,24,20,24,24,24,24,24,24,22,25,25,23,25,24,24,23,24,23,25,26,25,24,24,26,23,26,25,25,24,24,24,26,24,25,23,27,24,25,27,28,25,27,26,26,25,26,26,26,26,25,25,25,27,26,26,25,26,25,24,25,26,25,26,26,26,26,26,25,25,27,27,27,25,25,26,25,26,28,28,27,27,27,27,27,25,27,27,27,28,26,27,30,26,27,29,28,27,30,29,26,26,26,27,28,25,28,26,27,34,37,34,33,30,31,33,32,38,33,32,32,33,31,30,32,34,35,35,29,29,34,30,28,29,28,27,30,29,28,29,25,28,28,29,28,30,26,26,28,27,28,32,30,29,30,28,31,29,28,30,37,32,36,27,31,33,31,30,29,27,29,29,29,28,30,30,30,31,27,30,34,29,29,31,28,32,30,29,32,30,27,38,35,31,33,28,27,17,17,18,18,17,18,18,19,19,17,18,18,17,19,19,18,17,17,18,18,18,17,19,18,18,19,18,18,19,19,18,17,18,19,18,18,18,19,19,17,18,19,17,18,20,18,19,18,19,18,19,18,20,20,19,20,19,18,19,19,19,18,19,18,20,20,18,17,18,18,20,20,20,19,21,21,20,19,19,20,20,20,19,18,18,19,18,19,20,19,20,18,18,20,20,21,21,21,20,21,21,19,20,21,21,19,21,21,19,21,19,20,21,21,19,20,19,19,19,21,20,19,20,19,21,19,17,20,18,19,19,20,19,20,19,20,20,21,21,21,20,21,20,21,21,20,19,18,19,20,19,20,20,20,22,22,21,22,21,21,21,20,21,20,20,20,20,19,20,19,21,19,20,19,19,20,19,20,19,21,19,19,20,20,20,22,21,20,18,20,20,19,22,22,21,20,22,22,22,21,21,22,21,20,21,22,19,20,21,21,22,19,19,20,20,19,20,22,21,21,20,20,19,20,18,21,20,23,22,21,21,22,22,21,22,21,23,22,21,21,22,20,19,22,20,20,20,20,22,20,20,19,21,20,20,22,20,20,23,22,22,22,21,22,21,21,23,21,22,21,21,23,21,21,22,23,23,23,23,21,20,21,22,21,23,20,22,21,22,22,18,23,23,21,21,21,24,22,23,23,21,22,22,24,21,24,21,20,22,23,19,23,23,22,23,21,21,21,21,23,21,20,22,20,21,23,22,21,24,24,23,24,23,24,22,22,23,23,22,22,24,22,24,24,22,24,22,22,21,23,22,23,21,22,24,22,23,21,20,24,22,24,24,23,25,25,24,24,23,20,23,22,24,22,24,21,23,23,20,22,25,21,23,21,22,23,22,22,24,23,25,26,25,25,25,24,25,25,25,24,24,24,22,26,25,24,24,24,25,25,26,25,24,23,20,24,24,27,27,24,26,25,25,27,26,24,26,22,23,24,22,23,25,24,25,24,25,25,25,26,24,27,25,23,25,26,25,26,26,26,27,24,25,26,26,26,28,25,25,26,27,28,28,28,29,26,27,27,27,27,26,25,25,24,27,26,28,27,26,27,28,26,29,36,36,40,35,35,37,32,32,33,32,36,34,33,29,30,29,30,29,32,35,27,32,28,27,31,27,28,29,29,27,31,30,29,30,28,29,31,31,32,31,27,28,29,28,38,26,29,29,29,30,28,33,31,30,30,27,30,34,38,30,29,33,17,18,17,18,19,19,18,19,19,18,19,19,17,18,18,18,18,17,19,18,17,18,19,17,19,19,18,18,19,19,18,18,19,18,18,17,18,18,19,20,19,19,20,18,20,19,18,18,19,17,18,20,18,18,17,19,20,19,19,19,20,19,18,18,19,20,18,19,19,19,18,18,19,18,19,19,20,20,19,19,19,20,19,20,17,20,18,19,18,20,19,18,18,18,19,19,17,19,17,18,21,20,21,21,20,20,20,20,19,18,20,19,19,19,19,19,18,20,20,20,20,19,19,19,19,19,18,20,19,21,20,22,21,21,20,20,20,18,20,19,19,19,20,20,19,20,19,19,20,20,20,19,19,19,20,18,19,22,21,21,21,21,19,20,19,21,20,19,19,20,20,19,19,20,18,20,18,21,20,22,23,22,22,22,19,21,21,19,20,21,22,22,20,21,22,22,20,21,20,21,20,21,20,19,20,21,20,20,21,20,20,22,22,21,22,21,23,22,22,22,22,20,21,20,21,20,20,21,21,21,21,21,21,20,21,19,20,20,20,19,20,21,20,20,21,22,20,20,20,20,21,20,18,23,23,21,22,23,22,21,21,23,21,21,22,22,21,22,22,21,21,23,18,21,23,22,21,20,23,22,21,22,20,23,21,21,22,21,20,23,22,21,22,22,22,21,20,22,23,23,23,22,24,23,22,22,21,21,23,23,24,23,22,22,21,23,24,21,20,23,22,21,22,22,22,20,21,22,22,21,24,25,23,22,24,23,24,24,23,22,22,23,24,21,23,24,24,22,22,21,20,22,22,23,24,22,21,22,23,23,23,25,22,25,23,24,24,22,21,23,21,24,24,23,22,23,23,22,24,23,21,24,23,23,20,24,25,24,24,23,23,24,24,23,24,24,23,24,23,24,25,25,25,24,24,26,25,25,25,21,26,24,24,25,25,25,26,25,26,26,22,26,25,22,25,26,25,24,26,28,26,29,27,27,28,26,26,26,28,27,28,25,40,36,34,34,33,33,34,33,31,35,31,37,26,27,27,27,30,29,28,28,29,28,26,29,27,36,27,30,31,30,33,31,28,33,28,29,29,29,33,33,28,27,37,17,17,17,17,19,18,18,17,17,18,17,19,18,19,18,18,19,20,17,19,18,17,19,17,17,18,19,19,19,18,20,20,19,20,20,20,18,19,19,18,18,20,17,17,19,20,19,19,20,17,19,19,21,20,20,18,21,20,18,19,19,20,20,19,19,19,19,18,19,19,19,19,19,20,21,20,21,19,20,19,20,20,21,19,21,20,19,20,20,20,20,19,19,18,21,20,20,20,21,20,21,20,19,21,20,20,20,21,20,20,20,18,19,19,20,22,19,21,19,19,19,18,19,20,20,22,20,20,21,21,20,19,20,20,21,21,19,21,22,21,21,19,20,22,21,20,19,20,19,21,19,19,19,22,22,21,22,21,22,20,21,21,20,21,21,20,20,20,20,21,20,21,22,20,20,20,22,22,22,21,22,23,21,21,21,21,21,20,22,21,20,20,20,20,20,20,21,19,21,20,20,19,21,19,21,21,20,20,22,20,19,21,22,21,20,20,20,23,23,23,21,22,23,22,23,22,21,22,22,21,23,23,21,20,20,21,23,20,20,22,20,22,22,21,23,22,23,22,23,22,19,22,22,20,21,23,23,23,22,22,22,22,22,24,24,24,22,22,23,21,24,21,23,23,22,22,21,24,22,21,22,22,25,23,23,23,23,23,21,25,22,22,23,22,22,22,23,24,22,24,21,23,24,22,24,25,23,23,24,25,23,25,24,24,24,24,23,25,25,24,25,26,25,22,26,24,25,24,26,27,26,23,27,27,29,27,39,32,32,28,28,32,25,27,28,31,29,30,29,31,28,29,28,32,32,29,27,34,28,28,17,18,18,18,18,18,18,19,19,19,17,17,17,18,18,19,18,19,18,18,19,19,18,18,17,18,19,18,18,19,18,19,18,19,18,19,17,19,18,19,20,20,20,19,19,19,19,18,18,17,17,20,18,19,20,20,20,19,20,18,20,20,20,18,19,18,18,19,18,20,20,20,20,20,20,19,21,19,18,20,18,21,17,20,20,20,19,19,20,18,21,20,19,19,21,19,20,20,20,21,20,19,18,20,19,20,19,20,19,19,19,20,19,19,21,21,19,21,20,21,20,19,20,21,20,19,19,19,20,19,19,19,20,20,20,20,19,20,20,22,21,20,20,18,19,19,18,21,21,19,19,18,21,19,21,20,21,18,20,19,21,20,20,19,17,18,19,18,21,20,22,21,20,22,22,22,22,20,21,20,22,22,19,20,21,21,19,22,22,20,21,19,20,22,21,21,22,20,19,20,21,19,20,20,22,23,20,20,19,20,23,20,20,21,20,21,21,22,19,22,22,20,20,19,22,22,21,22,22,22,22,19,22,22,21,23,20,22,20,22,20,21,23,21,22,21,18,20,20,22,22,23,21,19,22,22,20,19,23,22,24,20,21,21,20,22,21,22,21,21,22,22,20,20,18,24,24,22,21,22,24,22,21,24,23,20,22,22,24,24,24,24,23,23,20,22,25,23,23,24,23,24,23,23,23,24,25,24,24,24,26,23,24,24,24,22,23,24,24,24,24,26,24,27,25,27,27,26,26,23,25,24,24,24,28,27,26,25,26,24,26,29,27,26,29,25,27,27,27,26,37,34,36,27,35,32,27,37,28,30,17,17,18,17,17,18,18,17,19,19,19,17,17,18,18,17,17,19,17,17,18,17,18,18,18,18,19,18,17,19,18,18,20,18,20,19,20,20,19,18,18,19,19,18,18,18,18,20,20,20,20,19,19,20,19,18,20,19,19,18,19,20,19,19,18,19,20,21,19,20,20,19,18,19,18,20,19,19,21,18,18,19,19,18,18,18,20,19,21,17,21,20,20,20,20,21,19,20,19,19,19,19,20,19,19,18,18,21,18,19,18,19,18,21,20,20,18,21,21,19,18,19,21,18,20,19,18,19,18,19,21,21,22,21,19,22,20,19,19,19,21,19,21,22,20,22,21,21,21,22,22,21,20,20,22,20,20,19,19,20,21,22,22,22,20,19,20,20,20,19,20,23,20,20,21,20,22,21,21,20,21,20,19,20,21,19,20,22,21,23,21,20,21,22,21,22,21,18,20,20,20,23,23,20,22,21,20,21,20,22,23,22,22,21,20,22,21,22,21,23,23,22,20,21,20,19,24,24,23,22,23,24,24,23,22,22,22,21,22,20,21,21,24,23,23,21,24,22,23,22,26,25,25,21,24,23,23,26,24,26,25,26,26,26,29,27,28,26,26,35,36,30,29,30,17,17,18,18,17,17,18,19,18,17,18,19,18,19,19,18,18,18,17,18,17,17,17,18,19,19,19,18,18,19,18,19,18,19,18,19,19,18,19,18,18,17,17,17,19,19,20,19,19,18,19,19,19,18,18,19,19,17,18,19,20,20,19,17,19,19,19,19,18,18,19,20,18,17,18,20,19,18,19,20,17,19,19,18,18,18,20,21,20,21,20,20,20,20,21,20,21,20,19,20,20,19,19,18,20,18,19,19,19,19,19,19,18,18,19,18,21,20,19,21,20,18,18,20,19,18,18,19,21,21,21,21,19,18,22,21,18,18,19,21,20,19,21,20,20,20,17,19,19,18,19,18,22,21,22,20,19,20,19,22,19,20,21,19,19,20,22,22,20,20,19,19,22,19,22,21,21,22,20,21,20,19,19,22,23,21,19,23,22,23,21,19,21,20,19,21,22,21,24,21,22,21,21,22,20,24,22,24,22,23,23,24,23,23,24,21,23,22,25,23,24,22,26,23,26,26,26,27,25,28,31,31,17,18,18,18,17,18,18,18,17,19,17,17,18,18,19,17,18,17,18,18,18,18,18,17,17,20,18,18,18,20,18,16,17,17,18,19,20,20,19,20,20,19,19,19,18,19,18,19,18,17,18,19,19,19,17,18,18,17,19,18,20,19,20,19,17,18,18,18,18,19,19,20,19,19,19,19,18,18,19,19,19,18,18,18,18,19,21,20,20,21,18,20,20,20,21,19,18,18,18,19,18,18,17,20,20,21,19,18,19,20,19,19,18,19,17,19,19,21,19,21,20,19,19,20,19,20,20,21,19,22,18,21,20,21,19,20,20,22,20,21,19,22,21,22,21,22,22,21,19,21,21,21,22,20,21,20,20,22,23,22,22,20,22,21,21,20,20,20,22,21,21,20,21,21,24,24,23,23,22,24,18,22,23,24,23,24,22,22,25,26,27,26,28,26,28,32,27,17,17,16,17,18,17,18,17,17,18,17,17,18,18,18,18,17,19,18,18,18,17,18,17,18,17,19,17,19,18,18,19,19,18,17,18,17,17,18,17,20,19,19,17,17,18,19,16,20,20,20,18,20,19,19,18,18,18,18,17,17,18,18,18,18,18,18,17,17,17,19,18,19,19,17,18,19,18,18,18,18,18,19,19,18,20,21,19,20,20,19,18,19,19,19,19,20,20,19,20,20,19,19,19,19,21,20,22,22,21,20,21,19,18,18,22,18,19,20,19,21,19,22,20,21,20,22,20,21,21,22,21,20,20,22,19,20,20,22,20,20,22,20,22,23,22,21,22,20,20,22,18,24,23,20,19,23,21,21,24,22,24,17,25,25,26,36,29,36,17,17,17,17,18,18,18,17,18,19,19,18,18,18,18,19,19,17,18,19,17,18,18,18,17,18,18,19,18,18,18,18,17,19,19,19,17,18,18,18,19,17,18,19,18,18,20,20,18,19,19,18,17,19,19,20,20,19,19,18,18,18,18,19,17,20,19,19,18,17,21,19,19,18,17,19,19,21,20,21,18,19,16,19,21,21,18,18,20,19,19,20,18,18,18,18,19,21,21,19,19,18,17,21,20,21,20,19,20,20,22,25,23,21,18,27,27,18,17,17,18,17,17,18,18,19,18,18,17,18,18,18,18,17,18,19,18,17,18,18,18,19,20,19,18,19,19,20,19,18,17,17,17,18,19,18,19,18,18,18,18,17,18,20,20,19,20,20,20,17,21,19,17,19,18,22,20,19,19,20,20,18,22,19,21,22,19,22,19,20,21,23,22,20,18,22,18,21,20,22,22,21,21,20,20,22,22,20,24,23,23,19,21,22,24,25,28,27,28,30,17,17,16,17,18,17,18,17,18,18,18,18,17,17,17,17,17,18,18,18,19,18,18,18,19,17,20,20,19,18,18,21,19,19,17,19,18,19,21,20,18,18,19,21,18,17,20,20,22,21,19,21,20,23,19,20,22,21,23,23,22,21,25,21,40,28,17,17,17,17,17,17,18,16,16,18,18,18,19,17,20,19,19,18,18,18,18,18,19,18,17,21,19,19,18,21,19,21,19,18,18,21,20,20,22,22,19,18,26],\"xaxis\":\"x\",\"yaxis\":\"y\",\"type\":\"histogram\"}],                        {\"template\":{\"data\":{\"histogram2dcontour\":[{\"type\":\"histogram2dcontour\",\"colorbar\":{\"outlinewidth\":0,\"ticks\":\"\"},\"colorscale\":[[0.0,\"#0d0887\"],[0.1111111111111111,\"#46039f\"],[0.2222222222222222,\"#7201a8\"],[0.3333333333333333,\"#9c179e\"],[0.4444444444444444,\"#bd3786\"],[0.5555555555555556,\"#d8576b\"],[0.6666666666666666,\"#ed7953\"],[0.7777777777777778,\"#fb9f3a\"],[0.8888888888888888,\"#fdca26\"],[1.0,\"#f0f921\"]]}],\"choropleth\":[{\"type\":\"choropleth\",\"colorbar\":{\"outlinewidth\":0,\"ticks\":\"\"}}],\"histogram2d\":[{\"type\":\"histogram2d\",\"colorbar\":{\"outlinewidth\":0,\"ticks\":\"\"},\"colorscale\":[[0.0,\"#0d0887\"],[0.1111111111111111,\"#46039f\"],[0.2222222222222222,\"#7201a8\"],[0.3333333333333333,\"#9c179e\"],[0.4444444444444444,\"#bd3786\"],[0.5555555555555556,\"#d8576b\"],[0.6666666666666666,\"#ed7953\"],[0.7777777777777778,\"#fb9f3a\"],[0.8888888888888888,\"#fdca26\"],[1.0,\"#f0f921\"]]}],\"heatmap\":[{\"type\":\"heatmap\",\"colorbar\":{\"outlinewidth\":0,\"ticks\":\"\"},\"colorscale\":[[0.0,\"#0d0887\"],[0.1111111111111111,\"#46039f\"],[0.2222222222222222,\"#7201a8\"],[0.3333333333333333,\"#9c179e\"],[0.4444444444444444,\"#bd3786\"],[0.5555555555555556,\"#d8576b\"],[0.6666666666666666,\"#ed7953\"],[0.7777777777777778,\"#fb9f3a\"],[0.8888888888888888,\"#fdca26\"],[1.0,\"#f0f921\"]]}],\"heatmapgl\":[{\"type\":\"heatmapgl\",\"colorbar\":{\"outlinewidth\":0,\"ticks\":\"\"},\"colorscale\":[[0.0,\"#0d0887\"],[0.1111111111111111,\"#46039f\"],[0.2222222222222222,\"#7201a8\"],[0.3333333333333333,\"#9c179e\"],[0.4444444444444444,\"#bd3786\"],[0.5555555555555556,\"#d8576b\"],[0.6666666666666666,\"#ed7953\"],[0.7777777777777778,\"#fb9f3a\"],[0.8888888888888888,\"#fdca26\"],[1.0,\"#f0f921\"]]}],\"contourcarpet\":[{\"type\":\"contourcarpet\",\"colorbar\":{\"outlinewidth\":0,\"ticks\":\"\"}}],\"contour\":[{\"type\":\"contour\",\"colorbar\":{\"outlinewidth\":0,\"ticks\":\"\"},\"colorscale\":[[0.0,\"#0d0887\"],[0.1111111111111111,\"#46039f\"],[0.2222222222222222,\"#7201a8\"],[0.3333333333333333,\"#9c179e\"],[0.4444444444444444,\"#bd3786\"],[0.5555555555555556,\"#d8576b\"],[0.6666666666666666,\"#ed7953\"],[0.7777777777777778,\"#fb9f3a\"],[0.8888888888888888,\"#fdca26\"],[1.0,\"#f0f921\"]]}],\"surface\":[{\"type\":\"surface\",\"colorbar\":{\"outlinewidth\":0,\"ticks\":\"\"},\"colorscale\":[[0.0,\"#0d0887\"],[0.1111111111111111,\"#46039f\"],[0.2222222222222222,\"#7201a8\"],[0.3333333333333333,\"#9c179e\"],[0.4444444444444444,\"#bd3786\"],[0.5555555555555556,\"#d8576b\"],[0.6666666666666666,\"#ed7953\"],[0.7777777777777778,\"#fb9f3a\"],[0.8888888888888888,\"#fdca26\"],[1.0,\"#f0f921\"]]}],\"mesh3d\":[{\"type\":\"mesh3d\",\"colorbar\":{\"outlinewidth\":0,\"ticks\":\"\"}}],\"scatter\":[{\"fillpattern\":{\"fillmode\":\"overlay\",\"size\":10,\"solidity\":0.2},\"type\":\"scatter\"}],\"parcoords\":[{\"type\":\"parcoords\",\"line\":{\"colorbar\":{\"outlinewidth\":0,\"ticks\":\"\"}}}],\"scatterpolargl\":[{\"type\":\"scatterpolargl\",\"marker\":{\"colorbar\":{\"outlinewidth\":0,\"ticks\":\"\"}}}],\"bar\":[{\"error_x\":{\"color\":\"#2a3f5f\"},\"error_y\":{\"color\":\"#2a3f5f\"},\"marker\":{\"line\":{\"color\":\"#E5ECF6\",\"width\":0.5},\"pattern\":{\"fillmode\":\"overlay\",\"size\":10,\"solidity\":0.2}},\"type\":\"bar\"}],\"scattergeo\":[{\"type\":\"scattergeo\",\"marker\":{\"colorbar\":{\"outlinewidth\":0,\"ticks\":\"\"}}}],\"scatterpolar\":[{\"type\":\"scatterpolar\",\"marker\":{\"colorbar\":{\"outlinewidth\":0,\"ticks\":\"\"}}}],\"histogram\":[{\"marker\":{\"pattern\":{\"fillmode\":\"overlay\",\"size\":10,\"solidity\":0.2}},\"type\":\"histogram\"}],\"scattergl\":[{\"type\":\"scattergl\",\"marker\":{\"colorbar\":{\"outlinewidth\":0,\"ticks\":\"\"}}}],\"scatter3d\":[{\"type\":\"scatter3d\",\"line\":{\"colorbar\":{\"outlinewidth\":0,\"ticks\":\"\"}},\"marker\":{\"colorbar\":{\"outlinewidth\":0,\"ticks\":\"\"}}}],\"scattermapbox\":[{\"type\":\"scattermapbox\",\"marker\":{\"colorbar\":{\"outlinewidth\":0,\"ticks\":\"\"}}}],\"scatterternary\":[{\"type\":\"scatterternary\",\"marker\":{\"colorbar\":{\"outlinewidth\":0,\"ticks\":\"\"}}}],\"scattercarpet\":[{\"type\":\"scattercarpet\",\"marker\":{\"colorbar\":{\"outlinewidth\":0,\"ticks\":\"\"}}}],\"carpet\":[{\"aaxis\":{\"endlinecolor\":\"#2a3f5f\",\"gridcolor\":\"white\",\"linecolor\":\"white\",\"minorgridcolor\":\"white\",\"startlinecolor\":\"#2a3f5f\"},\"baxis\":{\"endlinecolor\":\"#2a3f5f\",\"gridcolor\":\"white\",\"linecolor\":\"white\",\"minorgridcolor\":\"white\",\"startlinecolor\":\"#2a3f5f\"},\"type\":\"carpet\"}],\"table\":[{\"cells\":{\"fill\":{\"color\":\"#EBF0F8\"},\"line\":{\"color\":\"white\"}},\"header\":{\"fill\":{\"color\":\"#C8D4E3\"},\"line\":{\"color\":\"white\"}},\"type\":\"table\"}],\"barpolar\":[{\"marker\":{\"line\":{\"color\":\"#E5ECF6\",\"width\":0.5},\"pattern\":{\"fillmode\":\"overlay\",\"size\":10,\"solidity\":0.2}},\"type\":\"barpolar\"}],\"pie\":[{\"automargin\":true,\"type\":\"pie\"}]},\"layout\":{\"autotypenumbers\":\"strict\",\"colorway\":[\"#636efa\",\"#EF553B\",\"#00cc96\",\"#ab63fa\",\"#FFA15A\",\"#19d3f3\",\"#FF6692\",\"#B6E880\",\"#FF97FF\",\"#FECB52\"],\"font\":{\"color\":\"#2a3f5f\"},\"hovermode\":\"closest\",\"hoverlabel\":{\"align\":\"left\"},\"paper_bgcolor\":\"white\",\"plot_bgcolor\":\"#E5ECF6\",\"polar\":{\"bgcolor\":\"#E5ECF6\",\"angularaxis\":{\"gridcolor\":\"white\",\"linecolor\":\"white\",\"ticks\":\"\"},\"radialaxis\":{\"gridcolor\":\"white\",\"linecolor\":\"white\",\"ticks\":\"\"}},\"ternary\":{\"bgcolor\":\"#E5ECF6\",\"aaxis\":{\"gridcolor\":\"white\",\"linecolor\":\"white\",\"ticks\":\"\"},\"baxis\":{\"gridcolor\":\"white\",\"linecolor\":\"white\",\"ticks\":\"\"},\"caxis\":{\"gridcolor\":\"white\",\"linecolor\":\"white\",\"ticks\":\"\"}},\"coloraxis\":{\"colorbar\":{\"outlinewidth\":0,\"ticks\":\"\"}},\"colorscale\":{\"sequential\":[[0.0,\"#0d0887\"],[0.1111111111111111,\"#46039f\"],[0.2222222222222222,\"#7201a8\"],[0.3333333333333333,\"#9c179e\"],[0.4444444444444444,\"#bd3786\"],[0.5555555555555556,\"#d8576b\"],[0.6666666666666666,\"#ed7953\"],[0.7777777777777778,\"#fb9f3a\"],[0.8888888888888888,\"#fdca26\"],[1.0,\"#f0f921\"]],\"sequentialminus\":[[0.0,\"#0d0887\"],[0.1111111111111111,\"#46039f\"],[0.2222222222222222,\"#7201a8\"],[0.3333333333333333,\"#9c179e\"],[0.4444444444444444,\"#bd3786\"],[0.5555555555555556,\"#d8576b\"],[0.6666666666666666,\"#ed7953\"],[0.7777777777777778,\"#fb9f3a\"],[0.8888888888888888,\"#fdca26\"],[1.0,\"#f0f921\"]],\"diverging\":[[0,\"#8e0152\"],[0.1,\"#c51b7d\"],[0.2,\"#de77ae\"],[0.3,\"#f1b6da\"],[0.4,\"#fde0ef\"],[0.5,\"#f7f7f7\"],[0.6,\"#e6f5d0\"],[0.7,\"#b8e186\"],[0.8,\"#7fbc41\"],[0.9,\"#4d9221\"],[1,\"#276419\"]]},\"xaxis\":{\"gridcolor\":\"white\",\"linecolor\":\"white\",\"ticks\":\"\",\"title\":{\"standoff\":15},\"zerolinecolor\":\"white\",\"automargin\":true,\"zerolinewidth\":2},\"yaxis\":{\"gridcolor\":\"white\",\"linecolor\":\"white\",\"ticks\":\"\",\"title\":{\"standoff\":15},\"zerolinecolor\":\"white\",\"automargin\":true,\"zerolinewidth\":2},\"scene\":{\"xaxis\":{\"backgroundcolor\":\"#E5ECF6\",\"gridcolor\":\"white\",\"linecolor\":\"white\",\"showbackground\":true,\"ticks\":\"\",\"zerolinecolor\":\"white\",\"gridwidth\":2},\"yaxis\":{\"backgroundcolor\":\"#E5ECF6\",\"gridcolor\":\"white\",\"linecolor\":\"white\",\"showbackground\":true,\"ticks\":\"\",\"zerolinecolor\":\"white\",\"gridwidth\":2},\"zaxis\":{\"backgroundcolor\":\"#E5ECF6\",\"gridcolor\":\"white\",\"linecolor\":\"white\",\"showbackground\":true,\"ticks\":\"\",\"zerolinecolor\":\"white\",\"gridwidth\":2}},\"shapedefaults\":{\"line\":{\"color\":\"#2a3f5f\"}},\"annotationdefaults\":{\"arrowcolor\":\"#2a3f5f\",\"arrowhead\":0,\"arrowwidth\":1},\"geo\":{\"bgcolor\":\"white\",\"landcolor\":\"#E5ECF6\",\"subunitcolor\":\"white\",\"showland\":true,\"showlakes\":true,\"lakecolor\":\"white\"},\"title\":{\"x\":0.05},\"mapbox\":{\"style\":\"light\"}}},\"xaxis\":{\"anchor\":\"y\",\"domain\":[0.0,1.0],\"title\":{\"text\":\"age\"}},\"yaxis\":{\"anchor\":\"x\",\"domain\":[0.0,1.0],\"title\":{\"text\":\"count\"}},\"legend\":{\"tracegroupgap\":0},\"title\":{\"text\":\"istogramma et\\u00e0\"},\"barmode\":\"relative\"},                        {\"responsive\": true}                    ).then(function(){\n",
              "                            \n",
              "var gd = document.getElementById('a4e209a4-bd3a-463f-b1ee-088d19bd0438');\n",
              "var x = new MutationObserver(function (mutations, observer) {{\n",
              "        var display = window.getComputedStyle(gd).display;\n",
              "        if (!display || display === 'none') {{\n",
              "            console.log([gd, 'removed!']);\n",
              "            Plotly.purge(gd);\n",
              "            observer.disconnect();\n",
              "        }}\n",
              "}});\n",
              "\n",
              "// Listen for the removal of the full notebook cells\n",
              "var notebookContainer = gd.closest('#notebook-container');\n",
              "if (notebookContainer) {{\n",
              "    x.observe(notebookContainer, {childList: true});\n",
              "}}\n",
              "\n",
              "// Listen for the clearing of the current output cell\n",
              "var outputEl = gd.closest('.output');\n",
              "if (outputEl) {{\n",
              "    x.observe(outputEl, {childList: true});\n",
              "}}\n",
              "\n",
              "                        })                };                            </script>        </div>\n",
              "</body>\n",
              "</html>"
            ]
          },
          "metadata": {}
        }
      ],
      "source": [
        "fig = px.histogram(df_20, x = 'age', title = 'Istogramma età')\n",
        "fig.show()"
      ]
    },
    {
      "cell_type": "markdown",
      "source": [
        "Query per età"
      ],
      "metadata": {
        "id": "cCFg_c1ajWjA"
      }
    },
    {
      "cell_type": "code",
      "source": [
        "filtro_eta = df_20.query('age == 16')\n",
        "print(filtro_eta)"
      ],
      "metadata": {
        "colab": {
          "base_uri": "https://localhost:8080/"
        },
        "id": "5cpPRjC_jZEN",
        "outputId": "ad25b61d-bb70-4e61-e0cb-0e282d9edec3"
      },
      "execution_count": null,
      "outputs": [
        {
          "output_type": "stream",
          "name": "stdout",
          "text": [
            "       sofifa_id                                         player_url  \\\n",
            "4764      246618  https://sofifa.com/player/246618/adam-hlozek/2...   \n",
            "6630      252037  https://sofifa.com/player/252037/fabio-daniel-...   \n",
            "12158     252259  https://sofifa.com/player/252259/enzo-millot/2...   \n",
            "12160     247888  https://sofifa.com/player/247888/sebastiano-es...   \n",
            "14626     252238  https://sofifa.com/player/252238/alan-velasco/...   \n",
            "17614     248187  https://sofifa.com/player/248187/daniel-obbekj...   \n",
            "17782     248567  https://sofifa.com/player/248567/sebastian-and...   \n",
            "17827     251219  https://sofifa.com/player/251219/darragh-burns...   \n",
            "18031     246815  https://sofifa.com/player/246815/oliver-stefan...   \n",
            "18171     252892  https://sofifa.com/player/252892/joseph-starbu...   \n",
            "18242     246410  https://sofifa.com/player/246410/robin-wikberg...   \n",
            "18243     247100  https://sofifa.com/player/247100/elliott-sarto...   \n",
            "\n",
            "          short_name                  long_name  age         dob  height_cm  \\\n",
            "4764       A. Hložek                Adam Hložek   16  2002-07-25        185   \n",
            "6630     Fábio Silva  Fábio Daniel Soares Silva   16  2002-07-19        185   \n",
            "12158      E. Millot                Enzo Millot   16  2002-07-17        175   \n",
            "12160    S. Esposito        Sebastiano Esposito   16  2002-07-02        186   \n",
            "14626     A. Velasco               Alan Velasco   16  2002-07-27        167   \n",
            "17614    D. Obbekjær            Daniel Obbekjær   16  2002-07-16        193   \n",
            "17782    S. Anderson         Sebastian Anderson   16  2002-08-08        175   \n",
            "17827       D. Burns              Darragh Burns   16  2002-08-06        176   \n",
            "18031  O. Stefánsson          Oliver Stefánsson   16  2002-08-03        190   \n",
            "18171    J. Starbuck            Joseph Starbuck   16  2002-08-03        174   \n",
            "18242     R. Wikberg              Robin Wikberg   16  2002-07-03        186   \n",
            "18243   E. Sartorius          Elliott Sartorius   16  2002-07-29        174   \n",
            "\n",
            "       weight_kg       nationality                    club  ...   lwb   ldm  \\\n",
            "4764          80    Czech Republic            Sparta Praha  ...  52+2  50+2   \n",
            "6630          75          Portugal                FC Porto  ...  43+2  40+2   \n",
            "12158         65            France               AS Monaco  ...  58+2  56+2   \n",
            "12160         75             Italy                   Inter  ...  41+2  40+2   \n",
            "14626         63         Argentina           Independiente  ...  55+2  54+2   \n",
            "17614         86           Denmark         Odense Boldklub  ...  44+2  48+2   \n",
            "17782         64     United States         Colorado Rapids  ...  50+2  48+2   \n",
            "17827         62  Northern Ireland  St. Patrick's Athletic  ...  43+2  39+2   \n",
            "18031         75           Iceland          IFK Norrköping  ...  43+2  45+2   \n",
            "18171         69           England            Grimsby Town  ...  44+2  43+2   \n",
            "18242         72            Sweden           Östersunds FK  ...  39+2  41+2   \n",
            "18243         69           England            Lincoln City  ...  33+2  30+2   \n",
            "\n",
            "        cdm   rdm   rwb    lb   lcb    cb   rcb    rb  \n",
            "4764   50+2  50+2  52+2  49+2  46+2  46+2  46+2  49+2  \n",
            "6630   40+2  40+2  43+2  41+2  38+2  38+2  38+2  41+2  \n",
            "12158  56+2  56+2  58+2  56+2  51+2  51+2  51+2  56+2  \n",
            "12160  40+2  40+2  41+2  39+2  37+2  37+2  37+2  39+2  \n",
            "14626  54+2  54+2  55+2  55+2  50+2  50+2  50+2  55+2  \n",
            "17614  48+2  48+2  44+2  46+2  51+2  51+2  51+2  46+2  \n",
            "17782  48+2  48+2  50+2  50+2  48+2  48+2  48+2  50+2  \n",
            "17827  39+2  39+2  43+2  42+2  36+2  36+2  36+2  42+2  \n",
            "18031  45+2  45+2  43+2  46+2  50+2  50+2  50+2  46+2  \n",
            "18171  43+2  43+2  44+2  43+2  40+2  40+2  40+2  43+2  \n",
            "18242  41+2  41+2  39+2  42+2  47+2  47+2  47+2  42+2  \n",
            "18243  30+2  30+2  33+2  32+2  27+2  27+2  27+2  32+2  \n",
            "\n",
            "[12 rows x 104 columns]\n"
          ]
        }
      ]
    },
    {
      "cell_type": "markdown",
      "metadata": {
        "id": "zG8zxAFhEm2B"
      },
      "source": [
        "#### 4- Scatterpolar plot to compare a player's grothw over time\n",
        "let's load the other datasets players from 2016 to 2019"
      ]
    },
    {
      "cell_type": "code",
      "execution_count": null,
      "metadata": {
        "id": "jPIe5P5sEm2B"
      },
      "outputs": [],
      "source": [
        "df_16 = pd.read_csv(\"dataset/players_16.csv\", error_bad_lines=False)\n",
        "df_17 = pd.read_csv(\"dataset/players_17.csv\", error_bad_lines=False)\n",
        "df_18 = pd.read_csv(\"dataset/players_18.csv\", error_bad_lines=False)\n",
        "df_19 = pd.read_csv(\"dataset/players_19.csv\", error_bad_lines=False)"
      ]
    },
    {
      "cell_type": "markdown",
      "metadata": {
        "id": "eW8sUe6HEm2C"
      },
      "source": [
        "player attributes column names"
      ]
    },
    {
      "cell_type": "code",
      "execution_count": null,
      "metadata": {
        "id": "6HpMvcEgEm2C"
      },
      "outputs": [],
      "source": [
        "attributes = ['Pace','Shooting','Passing','Dribbling','Defending','Physic','Overall']"
      ]
    },
    {
      "cell_type": "markdown",
      "metadata": {
        "id": "B664yphwEm2C"
      },
      "source": [
        "Creating a method to compare a Players growth over Time"
      ]
    },
    {
      "cell_type": "code",
      "execution_count": null,
      "metadata": {
        "id": "xLJgx7pAEm2C"
      },
      "outputs": [],
      "source": []
    },
    {
      "cell_type": "markdown",
      "metadata": {
        "id": "qqOBcAjlEm2C"
      },
      "source": [
        "Let's check the growth of Neymar over time"
      ]
    },
    {
      "cell_type": "code",
      "execution_count": null,
      "metadata": {
        "id": "ufMS41VxEm2C"
      },
      "outputs": [],
      "source": []
    },
    {
      "cell_type": "markdown",
      "metadata": {
        "id": "fzv9sqF6Em2C"
      },
      "source": [
        "what about cristiano Ronaldo"
      ]
    },
    {
      "cell_type": "code",
      "execution_count": null,
      "metadata": {
        "id": "pbNCD6UNEm2D"
      },
      "outputs": [],
      "source": []
    },
    {
      "cell_type": "markdown",
      "metadata": {
        "id": "vBjN2pBREm2D"
      },
      "source": [
        "## Task 5:\n",
        "#### 6- Pie chart Describing the Percentage of Players in different Attacker positions"
      ]
    },
    {
      "cell_type": "code",
      "execution_count": null,
      "metadata": {
        "id": "geHHbYUUEm2D"
      },
      "outputs": [],
      "source": [
        "attack = ['RW', 'LW', 'ST', 'CF', 'LS', 'RS', 'RF', 'LF']"
      ]
    },
    {
      "cell_type": "markdown",
      "metadata": {
        "id": "3DX4VbzdEm2D"
      },
      "source": [
        "#### 7- Pie chart Describing the Percentage of Players in different Midfielder positions"
      ]
    },
    {
      "cell_type": "code",
      "execution_count": null,
      "metadata": {
        "id": "_HXWi87LEm2D"
      },
      "outputs": [],
      "source": [
        "mid = ['CAM', 'RCM', 'CDM', 'LDM', 'RM', 'LCM', 'LM', 'RDM', 'RAM','CM', 'LAM']"
      ]
    },
    {
      "cell_type": "markdown",
      "metadata": {
        "id": "B54_RuacEm2D"
      },
      "source": [
        "#### 8- Pie chart Describing the Percentage of Players in different Defender positions"
      ]
    },
    {
      "cell_type": "code",
      "execution_count": null,
      "metadata": {
        "id": "QJJoj372Em2E"
      },
      "outputs": [],
      "source": [
        "defence = ['LCB', 'RCB', 'LB', 'RB', 'CB', 'RWB', 'LWB']"
      ]
    },
    {
      "cell_type": "markdown",
      "metadata": {
        "id": "UDNdAES8Em2E"
      },
      "source": [
        "### Pick Top 5 Players per Position\n",
        "Creating a method to pick top 5 player based on a the player position and the player value in euro"
      ]
    },
    {
      "cell_type": "code",
      "execution_count": null,
      "metadata": {
        "id": "Il9nivDdEm2E"
      },
      "outputs": [],
      "source": []
    },
    {
      "cell_type": "code",
      "execution_count": null,
      "metadata": {
        "id": "p8vMkRjLEm2E"
      },
      "outputs": [],
      "source": []
    },
    {
      "cell_type": "code",
      "execution_count": null,
      "metadata": {
        "id": "-e0q7iLjEm2E"
      },
      "outputs": [],
      "source": []
    }
  ],
  "metadata": {
    "kernelspec": {
      "display_name": "Python 3",
      "language": "python",
      "name": "python3"
    },
    "language_info": {
      "codemirror_mode": {
        "name": "ipython",
        "version": 3
      },
      "file_extension": ".py",
      "mimetype": "text/x-python",
      "name": "python",
      "nbconvert_exporter": "python",
      "pygments_lexer": "ipython3",
      "version": "3.8.5"
    },
    "colab": {
      "provenance": [],
      "include_colab_link": true
    }
  },
  "nbformat": 4,
  "nbformat_minor": 0
}