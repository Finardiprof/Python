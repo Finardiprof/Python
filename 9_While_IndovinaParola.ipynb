{
  "nbformat": 4,
  "nbformat_minor": 0,
  "metadata": {
    "colab": {
      "provenance": [],
      "toc_visible": true,
      "include_colab_link": true
    },
    "kernelspec": {
      "name": "python3",
      "display_name": "Python 3"
    },
    "language_info": {
      "name": "python"
    }
  },
  "cells": [
    {
      "cell_type": "markdown",
      "metadata": {
        "id": "view-in-github",
        "colab_type": "text"
      },
      "source": [
        "<a href=\"https://colab.research.google.com/github/Finardiprof/Python/blob/main/9_While_IndovinaParola.ipynb\" target=\"_parent\"><img src=\"https://colab.research.google.com/assets/colab-badge.svg\" alt=\"Open In Colab\"/></a>"
      ]
    },
    {
      "cell_type": "markdown",
      "metadata": {
        "id": "dDUXq3oq8Foj"
      },
      "source": [
        "# Indovina la parola\n",
        "Traduci in Python l'algoritmo per il gioco \"Indovina la parola che ho pensato\". Python distingue tra lettere maiuscole e minuscole"
      ]
    },
    {
      "cell_type": "code",
      "metadata": {
        "id": "q4HBZDz679gp"
      },
      "source": [
        "#Scrivi il codice qui"
      ],
      "execution_count": null,
      "outputs": []
    },
    {
      "cell_type": "markdown",
      "metadata": {
        "id": "-Dl3g0oD953b"
      },
      "source": [
        "Miglioriamo l'algoritmo: forniamo istruzioni per il gioco e comunichiamo quando la parola inserita non è corretta con per es. \"Ritenta\". Per fare questo è necessario gestire il primo tentativo fuori dal ciclo iterativo: sostituire l'istruzione Parola = \" \" con l'acquisizione della prima parola. Sapresti spiegare perchè? (naturalmente non è l'unica soluzione possibile)"
      ]
    },
    {
      "cell_type": "code",
      "metadata": {
        "id": "U70Lq0im-Vxp"
      },
      "source": [
        "#Scrivi il codice qui"
      ],
      "execution_count": null,
      "outputs": []
    },
    {
      "cell_type": "markdown",
      "metadata": {
        "id": "VXDDEAM38S4V"
      },
      "source": [
        "# Soluzioni proposte"
      ]
    },
    {
      "cell_type": "code",
      "metadata": {
        "colab": {
          "base_uri": "https://localhost:8080/"
        },
        "id": "nEVnc7cf8pqy",
        "outputId": "1845c400-ad43-476f-bf2e-ea0c0cf92a2f"
      },
      "source": [
        "# Indovina la parola che ho pensato\n",
        "PS = \"gatto\" # la Parola Segreta scelta è \"gatto\"\n",
        "Parola = \"\"  # Parola è la variabile che viene utilizzata per contenere i tentativi di chi gioca\n",
        "while Parola != PS:  # Si gioca fino a che la Parola inserita è diversa dalla Parola Segreta\n",
        "  Parola = input(\"inserisci una parola \")\n",
        "print(\"Hai vinto\")"
      ],
      "execution_count": null,
      "outputs": [
        {
          "output_type": "stream",
          "text": [
            "inserisci una parola sd\n",
            "inserisci una parola gatto\n",
            "Hai vinto\n"
          ],
          "name": "stdout"
        }
      ]
    },
    {
      "cell_type": "code",
      "metadata": {
        "colab": {
          "base_uri": "https://localhost:8080/"
        },
        "id": "HjXIKmYP-aw5",
        "outputId": "1bb3b706-beed-40b9-90b8-21ad3005df9d"
      },
      "source": [
        "# Miglioriamo l'algoritmo\n",
        "PS = \"gatto\"\n",
        "print (\"Inserisci una parola e cerca di indovinare quella che ho pensato: si tratta di un animale domestico \")\n",
        "Parola = input(\"inserisci una parola \")\n",
        "while Parola != PS:\n",
        "  print (\"Ritenta!\")\n",
        "  Parola = input(\"inserisci una parola \")\n",
        "print(\"Hai vinto\")"
      ],
      "execution_count": null,
      "outputs": [
        {
          "output_type": "stream",
          "text": [
            "Inserisci una parola e cerca di indovinare quella che ho pensato: si tratta di un animale domestico \n",
            "inserisci una parola cane\n",
            "Ritenta!\n",
            "inserisci una parola criceto\n",
            "Ritenta!\n",
            "inserisci una parola gallina\n",
            "Ritenta!\n",
            "inserisci una parola gatto\n",
            "Hai vinto\n"
          ],
          "name": "stdout"
        }
      ]
    }
  ]
}