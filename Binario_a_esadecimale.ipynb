{
  "nbformat": 4,
  "nbformat_minor": 0,
  "metadata": {
    "colab": {
      "provenance": [],
      "authorship_tag": "ABX9TyPDVwGj/2xnrP0KfOxQ2R68",
      "include_colab_link": true
    },
    "kernelspec": {
      "name": "python3",
      "display_name": "Python 3"
    },
    "language_info": {
      "name": "python"
    }
  },
  "cells": [
    {
      "cell_type": "markdown",
      "metadata": {
        "id": "view-in-github",
        "colab_type": "text"
      },
      "source": [
        "<a href=\"https://colab.research.google.com/github/Finardiprof/Python/blob/main/Binario_a_esadecimale.ipynb\" target=\"_parent\"><img src=\"https://colab.research.google.com/assets/colab-badge.svg\" alt=\"Open In Colab\"/></a>"
      ]
    },
    {
      "cell_type": "code",
      "execution_count": 6,
      "metadata": {
        "colab": {
          "base_uri": "https://localhost:8080/"
        },
        "id": "-sNCCzBj6YZk",
        "outputId": "46a3a89b-06b9-4614-935a-67546c356a4e"
      },
      "outputs": [
        {
          "name": "stdout",
          "output_type": "stream",
          "text": [
            "inserisici numero binario 10001\n"
          ]
        }
      ],
      "source": [
        "numero_binario  = input('inserisici numero binario ')"
      ]
    },
    {
      "cell_type": "code",
      "source": [
        "numero_esadecimale = hex(int(numero_binario,2))\n",
        "print(numero_esadecimale)"
      ],
      "metadata": {
        "colab": {
          "base_uri": "https://localhost:8080/"
        },
        "id": "YCn6I0x86520",
        "outputId": "50a01f11-e0be-4cec-fa90-34dbf43b40e7"
      },
      "execution_count": 7,
      "outputs": [
        {
          "output_type": "stream",
          "name": "stdout",
          "text": [
            "0x11\n"
          ]
        }
      ]
    }
  ]
}