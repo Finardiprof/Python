{
  "nbformat": 4,
  "nbformat_minor": 0,
  "metadata": {
    "colab": {
      "provenance": [],
      "authorship_tag": "ABX9TyPwAdO4yYMvpklTC7Y+hBSg",
      "include_colab_link": true
    },
    "kernelspec": {
      "name": "python3",
      "display_name": "Python 3"
    },
    "language_info": {
      "name": "python"
    }
  },
  "cells": [
    {
      "cell_type": "markdown",
      "metadata": {
        "id": "view-in-github",
        "colab_type": "text"
      },
      "source": [
        "<a href=\"https://colab.research.google.com/github/Finardiprof/Python/blob/main/Interesse_Composto.ipynb\" target=\"_parent\"><img src=\"https://colab.research.google.com/assets/colab-badge.svg\" alt=\"Open In Colab\"/></a>"
      ]
    },
    {
      "cell_type": "markdown",
      "source": [
        "## Capitale ad interesse composto"
      ],
      "metadata": {
        "id": "l1Ryb7ggB7Sz"
      }
    },
    {
      "cell_type": "markdown",
      "source": [
        "Gli interessi composti rappresentano la crescita di un investimento in base a un tasso di interesse, dove gli interessi guadagnati in ogni periodo vengono aggiunti al capitale iniziale per il calcolo degli interessi nel periodo successivo. La formula per il calcolo degli interessi composti è data da:\n",
        "\n",
        "\\begin{equation}\n",
        "A = M \\left(1 + {r}\\right)^{t}\n",
        "\\end{equation}\n",
        "\n",
        "Dove:\n",
        "\\begin{align*}\n",
        "A & = \\text{Ammontare totale dopo il periodo di tempo } t \\\\\n",
        "M & = \\text{Capitale iniziale o Montante} \\\\\n",
        "r & = \\text{Tasso di interesse annuale (in forma decimale)} \\\\\n",
        "n & = \\text{Numero di volte che l'interesse è composto all'anno} \\\\\n",
        "t & = \\text{Numero di anni}\n",
        "\\end{align*}\n"
      ],
      "metadata": {
        "id": "Z3NQvVg8BCId"
      }
    },
    {
      "cell_type": "code",
      "execution_count": null,
      "metadata": {
        "id": "4Endx08-BBoK"
      },
      "outputs": [],
      "source": [
        "# Input del capitale iniziale, tasso di interesse annuale (in percentuale) e numero di anni\n",
        "capitale_iniziale = float(input(\"Inserisci il capitale iniziale: \"))\n",
        "tasso_interesse_annuale = float(input(\"Inserisci il tasso di interesse annuale (in percentuale): \"))\n",
        "anni = int(input(\"Inserisci il numero di anni: \"))\n",
        "\n",
        "# Convertiamo il tasso di interesse da percentuale a decimale\n",
        "tasso_interesse_annuale = tasso_interesse_annuale / 100\n",
        "\n",
        "# Inizializziamo il numero di anni trascorsi\n",
        "anni_trascorsi = 0\n",
        "Montante = [capitale_iniziale]\n",
        "# Calcoliamo l'ammontare totale con interesse composto semplice annuale usando un ciclo while\n",
        "while anni_trascorsi < anni:\n",
        "    capitale_iniziale += capitale_iniziale * tasso_interesse_annuale\n",
        "    anni_trascorsi += 1\n",
        "    Montante.append(capitale_iniziale)\n",
        "\n",
        "# Stampiamo l'ammontare totale\n",
        "print(f\"L'ammontare totale dopo {anni} anni con interesse composto semplice annuale è: {capitale_iniziale:.2f}\")"
      ]
    }
  ]
}