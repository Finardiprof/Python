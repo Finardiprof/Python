{
  "nbformat": 4,
  "nbformat_minor": 0,
  "metadata": {
    "colab": {
      "provenance": [],
      "authorship_tag": "ABX9TyOa1qZjVlfEeUe9WXBvhFfM",
      "include_colab_link": true
    },
    "kernelspec": {
      "name": "python3",
      "display_name": "Python 3"
    },
    "language_info": {
      "name": "python"
    }
  },
  "cells": [
    {
      "cell_type": "markdown",
      "metadata": {
        "id": "view-in-github",
        "colab_type": "text"
      },
      "source": [
        "<a href=\"https://colab.research.google.com/github/Finardiprof/Python/blob/main/Caduta_libera.ipynb\" target=\"_parent\"><img src=\"https://colab.research.google.com/assets/colab-badge.svg\" alt=\"Open In Colab\"/></a>"
      ]
    },
    {
      "cell_type": "code",
      "source": [
        "# Calcola la quota al variare del\n",
        "# tempo di un grave in caduta libera.\n",
        "\n",
        "# RICHIESTA DATI da console\n",
        "quota_in = float(input('quota iniziale in m: '))\n",
        "# dt incremento della variabile t\n",
        "dt = float(input('dt in secondi: '))\n",
        "\n",
        "# INIZIALIZZAZIONE di g e variabili\n",
        "g = 9.81           # m/sec^2\n",
        "t = 0              # sec\n",
        "quota = quota_in   # m\n",
        "\n",
        "# CICLO di CALCOLO e STAMPA\n",
        "while quota >= 0:\n",
        "    quota = quota_in - (1 / 2) * g * (t**2)\n",
        "    if quota >= 0:\n",
        "      print('tempo: {:.2f} s   quota: {:.2f} m'.format(t,quota))\n",
        "      t = t + dt"
      ],
      "metadata": {
        "colab": {
          "base_uri": "https://localhost:8080/"
        },
        "id": "hV0npFJpqrPZ",
        "outputId": "d75bc91c-1056-47ee-ce8e-948ac66ed2f8"
      },
      "execution_count": null,
      "outputs": [
        {
          "output_type": "stream",
          "name": "stdout",
          "text": [
            "quota iniziale in m: 20\n",
            "dt in secondi: 1\n",
            "tempo: 0.00 s   quota: 20.00 m\n",
            "tempo: 1.00 s   quota: 15.09 m\n",
            "tempo: 2.00 s   quota: 0.38 m\n"
          ]
        }
      ]
    },
    {
      "cell_type": "markdown",
      "source": [
        "## Esercizio\n",
        "Determina quanto impiega un corpo a raggiungere una distanza inferiore ad un metro dal suolo, partendo da un'altezza di 1000 m e trascurando l'attrito con l'aria."
      ],
      "metadata": {
        "id": "l2uWFAnWE6YQ"
      }
    },
    {
      "cell_type": "code",
      "source": [
        "#inserisci il codice []"
      ],
      "metadata": {
        "id": "0umZSUMcFQ52"
      },
      "execution_count": null,
      "outputs": []
    }
  ]
}