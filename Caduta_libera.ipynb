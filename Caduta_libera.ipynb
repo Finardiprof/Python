{
  "nbformat": 4,
  "nbformat_minor": 0,
  "metadata": {
    "colab": {
      "provenance": [],
      "authorship_tag": "ABX9TyO7MGa/8aUqgVpL7y9zQowg",
      "include_colab_link": true
    },
    "kernelspec": {
      "name": "python3",
      "display_name": "Python 3"
    },
    "language_info": {
      "name": "python"
    }
  },
  "cells": [
    {
      "cell_type": "markdown",
      "metadata": {
        "id": "view-in-github",
        "colab_type": "text"
      },
      "source": [
        "<a href=\"https://colab.research.google.com/github/Finardiprof/Python/blob/main/Caduta_libera.ipynb\" target=\"_parent\"><img src=\"https://colab.research.google.com/assets/colab-badge.svg\" alt=\"Open In Colab\"/></a>"
      ]
    },
    {
      "cell_type": "code",
      "source": [
        "# Calcola la quota al variare del\n",
        "# tempo di un grave in caduta libera.\n",
        "import matplotlib.pyplot as plt\n",
        "\n",
        "# RICHIESTA DATI da console\n",
        "quota_in = float(input('quota iniziale in m: '))\n",
        "# dt incremento della variabile t\n",
        "dt = float(input('dt in secondi: '))\n",
        "\n",
        "# INIZIALIZZAZIONE di g e variabili\n",
        "g = 9.81           # m/s^2\n",
        "t = 0              # s\n",
        "quota = quota_in   # m\n",
        "T = [t]\n",
        "S = [quota]\n",
        "# CICLO di CALCOLO e STAMPA\n",
        "while quota >= 0:\n",
        "    quota = quota_in - (1 / 2) * g * (t**2)\n",
        "    if quota >= 0:\n",
        "      print('tempo: {:.2f} s   quota: {:.2f} m'.format(t,quota))\n",
        "      t = t + dt\n",
        "      T.append(t)\n",
        "      S.append(quota)\n",
        "plt.plot(T,S)"
      ],
      "metadata": {
        "colab": {
          "base_uri": "https://localhost:8080/",
          "height": 1000
        },
        "id": "hV0npFJpqrPZ",
        "outputId": "6ea6c31d-40be-479b-b6db-c8a451f1d580"
      },
      "execution_count": 17,
      "outputs": [
        {
          "output_type": "stream",
          "name": "stdout",
          "text": [
            "quota iniziale in m: 100\n",
            "dt in secondi: 0.1\n",
            "tempo: 0.00 s   quota: 100.00 m\n",
            "tempo: 0.10 s   quota: 99.95 m\n",
            "tempo: 0.20 s   quota: 99.80 m\n",
            "tempo: 0.30 s   quota: 99.56 m\n",
            "tempo: 0.40 s   quota: 99.22 m\n",
            "tempo: 0.50 s   quota: 98.77 m\n",
            "tempo: 0.60 s   quota: 98.23 m\n",
            "tempo: 0.70 s   quota: 97.60 m\n",
            "tempo: 0.80 s   quota: 96.86 m\n",
            "tempo: 0.90 s   quota: 96.03 m\n",
            "tempo: 1.00 s   quota: 95.09 m\n",
            "tempo: 1.10 s   quota: 94.06 m\n",
            "tempo: 1.20 s   quota: 92.94 m\n",
            "tempo: 1.30 s   quota: 91.71 m\n",
            "tempo: 1.40 s   quota: 90.39 m\n",
            "tempo: 1.50 s   quota: 88.96 m\n",
            "tempo: 1.60 s   quota: 87.44 m\n",
            "tempo: 1.70 s   quota: 85.82 m\n",
            "tempo: 1.80 s   quota: 84.11 m\n",
            "tempo: 1.90 s   quota: 82.29 m\n",
            "tempo: 2.00 s   quota: 80.38 m\n",
            "tempo: 2.10 s   quota: 78.37 m\n",
            "tempo: 2.20 s   quota: 76.26 m\n",
            "tempo: 2.30 s   quota: 74.05 m\n",
            "tempo: 2.40 s   quota: 71.75 m\n",
            "tempo: 2.50 s   quota: 69.34 m\n",
            "tempo: 2.60 s   quota: 66.84 m\n",
            "tempo: 2.70 s   quota: 64.24 m\n",
            "tempo: 2.80 s   quota: 61.54 m\n",
            "tempo: 2.90 s   quota: 58.75 m\n",
            "tempo: 3.00 s   quota: 55.85 m\n",
            "tempo: 3.10 s   quota: 52.86 m\n",
            "tempo: 3.20 s   quota: 49.77 m\n",
            "tempo: 3.30 s   quota: 46.58 m\n",
            "tempo: 3.40 s   quota: 43.30 m\n",
            "tempo: 3.50 s   quota: 39.91 m\n",
            "tempo: 3.60 s   quota: 36.43 m\n",
            "tempo: 3.70 s   quota: 32.85 m\n",
            "tempo: 3.80 s   quota: 29.17 m\n",
            "tempo: 3.90 s   quota: 25.39 m\n",
            "tempo: 4.00 s   quota: 21.52 m\n",
            "tempo: 4.10 s   quota: 17.55 m\n",
            "tempo: 4.20 s   quota: 13.48 m\n",
            "tempo: 4.30 s   quota: 9.31 m\n",
            "tempo: 4.40 s   quota: 5.04 m\n",
            "tempo: 4.50 s   quota: 0.67 m\n"
          ]
        },
        {
          "output_type": "execute_result",
          "data": {
            "text/plain": [
              "[<matplotlib.lines.Line2D at 0x7902757be740>]"
            ]
          },
          "metadata": {},
          "execution_count": 17
        },
        {
          "output_type": "display_data",
          "data": {
            "text/plain": [
              "<Figure size 640x480 with 1 Axes>"
            ],
            "image/png": "[encoded data removed]"
          },
          "metadata": {}
        }
      ]
    },
    {
      "cell_type": "markdown",
      "source": [
        "## Esercizio\n",
        "Determina quanto impiega un corpo a raggiungere una distanza inferiore ad un metro dal suolo, partendo da un'altezza di 1000 m e trascurando l'attrito con l'aria."
      ],
      "metadata": {
        "id": "l2uWFAnWE6YQ"
      }
    },
    {
      "cell_type": "code",
      "source": [
        "#inserisci il codice []"
      ],
      "metadata": {
        "id": "0umZSUMcFQ52"
      },
      "execution_count": null,
      "outputs": []
    }
  ]
}