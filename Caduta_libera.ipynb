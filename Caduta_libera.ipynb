{
  "nbformat": 4,
  "nbformat_minor": 0,
  "metadata": {
    "colab": {
      "provenance": [],
      "authorship_tag": "ABX9TyPypj2qGH6KsCK2SI3Sa0UX",
      "include_colab_link": true
    },
    "kernelspec": {
      "name": "python3",
      "display_name": "Python 3"
    },
    "language_info": {
      "name": "python"
    }
  },
  "cells": [
    {
      "cell_type": "markdown",
      "metadata": {
        "id": "view-in-github",
        "colab_type": "text"
      },
      "source": [
        "<a href=\"https://colab.research.google.com/github/Finardiprof/Python/blob/main/Caduta_libera.ipynb\" target=\"_parent\"><img src=\"https://colab.research.google.com/assets/colab-badge.svg\" alt=\"Open In Colab\"/></a>"
      ]
    },
    {
      "cell_type": "code",
      "source": [
        "# Calcola la quota al variare del\n",
        "# tempo di un grave in caduta libera.\n",
        "import matplotlib.pyplot as plt\n",
        "\n",
        "# RICHIESTA DATI da console\n",
        "quota_in = float(input('quota iniziale in m: '))\n",
        "# dt incremento della variabile t\n",
        "dt = float(input('dt in secondi: '))\n",
        "\n",
        "# INIZIALIZZAZIONE di g e variabili\n",
        "g = 9.81           # m/s^2\n",
        "t = 0              # s\n",
        "quota = quota_in   # m\n",
        "# apre file per la scrittura\n",
        "dati=open('Caduta_libera.txt', 'w')\n",
        "T = [t]\n",
        "S = [quota]\n",
        "# CICLO di CALCOLO e STAMPA\n",
        "while quota >= 0:\n",
        "    quota = quota_in - (1 / 2) * g * (t**2)\n",
        "    if quota >= 0:\n",
        "      print('tempo: {:.2f} s   quota: {:.2f} m'.format(t,quota))\n",
        "      t = t + dt\n",
        "      T.append(t)\n",
        "      S.append(quota)\n",
        "      dati.write('\\t\\t{:f}\\t\\t{:f}\\n'\\\n",
        "                 .format(t, quota))\n",
        "# chiude il file t_teta_omega.txt\n",
        "dati.close()\n",
        "plt.plot(T,S)"
      ],
      "metadata": {
        "id": "hV0npFJpqrPZ"
      },
      "execution_count": null,
      "outputs": []
    },
    {
      "cell_type": "markdown",
      "source": [
        "Salvare il file su txt e poi leggerlo:"
      ],
      "metadata": {
        "id": "7f-83ZuvQH2t"
      }
    },
    {
      "cell_type": "code",
      "source": [
        "from google.colab import files\n",
        "files.download(\"Caduta_libera.txt\")"
      ],
      "metadata": {
        "id": "s_4bXksuPxuj",
        "outputId": "961fa0d8-fffd-42a9-a762-3ed3e9f302ab",
        "colab": {
          "base_uri": "https://localhost:8080/",
          "height": 17
        }
      },
      "execution_count": 7,
      "outputs": [
        {
          "output_type": "display_data",
          "data": {
            "text/plain": [
              "<IPython.core.display.Javascript object>"
            ],
            "application/javascript": [
              "\n",
              "    async function download(id, filename, size) {\n",
              "      if (!google.colab.kernel.accessAllowed) {\n",
              "        return;\n",
              "      }\n",
              "      const div = document.createElement('div');\n",
              "      const label = document.createElement('label');\n",
              "      label.textContent = `Downloading \"${filename}\": `;\n",
              "      div.appendChild(label);\n",
              "      const progress = document.createElement('progress');\n",
              "      progress.max = size;\n",
              "      div.appendChild(progress);\n",
              "      document.body.appendChild(div);\n",
              "\n",
              "      const buffers = [];\n",
              "      let downloaded = 0;\n",
              "\n",
              "      const channel = await google.colab.kernel.comms.open(id);\n",
              "      // Send a message to notify the kernel that we're ready.\n",
              "      channel.send({})\n",
              "\n",
              "      for await (const message of channel.messages) {\n",
              "        // Send a message to notify the kernel that we're ready.\n",
              "        channel.send({})\n",
              "        if (message.buffers) {\n",
              "          for (const buffer of message.buffers) {\n",
              "            buffers.push(buffer);\n",
              "            downloaded += buffer.byteLength;\n",
              "            progress.value = downloaded;\n",
              "          }\n",
              "        }\n",
              "      }\n",
              "      const blob = new Blob(buffers, {type: 'application/binary'});\n",
              "      const a = document.createElement('a');\n",
              "      a.href = window.URL.createObjectURL(blob);\n",
              "      a.download = filename;\n",
              "      div.appendChild(a);\n",
              "      a.click();\n",
              "      div.remove();\n",
              "    }\n",
              "  "
            ]
          },
          "metadata": {}
        },
        {
          "output_type": "display_data",
          "data": {
            "text/plain": [
              "<IPython.core.display.Javascript object>"
            ],
            "application/javascript": [
              "download(\"download_72cf56fc-66dd-42b5-9070-57f84964a127\", \"Caduta_libera.txt\", 239)"
            ]
          },
          "metadata": {}
        }
      ]
    },
    {
      "cell_type": "markdown",
      "source": [
        "## Esercizio\n",
        "Determina quanto impiega un corpo a raggiungere una distanza inferiore ad un metro dal suolo, partendo da un'altezza di 1000 m e trascurando l'attrito con l'aria."
      ],
      "metadata": {
        "id": "l2uWFAnWE6YQ"
      }
    },
    {
      "cell_type": "code",
      "source": [
        "#inserisci il codice []"
      ],
      "metadata": {
        "id": "0umZSUMcFQ52"
      },
      "execution_count": null,
      "outputs": []
    }
  ]
}