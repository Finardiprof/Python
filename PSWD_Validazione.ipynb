{
  "nbformat": 4,
  "nbformat_minor": 0,
  "metadata": {
    "colab": {
      "provenance": [],
      "authorship_tag": "ABX9TyMqVmwbyfZ+5nZLPOtlf02J",
      "include_colab_link": true
    },
    "kernelspec": {
      "name": "python3",
      "display_name": "Python 3"
    },
    "language_info": {
      "name": "python"
    }
  },
  "cells": [
    {
      "cell_type": "markdown",
      "metadata": {
        "id": "view-in-github",
        "colab_type": "text"
      },
      "source": [
        "<a href=\"https://colab.research.google.com/github/Finardiprof/Python/blob/main/PSWD_Validazione.ipynb\" target=\"_parent\"><img src=\"https://colab.research.google.com/assets/colab-badge.svg\" alt=\"Open In Colab\"/></a>"
      ]
    },
    {
      "cell_type": "code",
      "execution_count": null,
      "metadata": {
        "id": "V4hXvS7UtPPj"
      },
      "outputs": [],
      "source": [
        "        # inizializzo le variabili booleane\n",
        "lunghezza = False\n",
        "maiuscole = False\n",
        "minuscole = False\n",
        "cifre = False\n",
        "\n",
        "        # leggo la password\n",
        "password = input('Inserisci la tua password: ')\n",
        "\n",
        "        # controllo le proprietà della password\n",
        "if len(password) > 7:\n",
        "    lunghezza = True\n",
        "    for ch in password:\n",
        "        if ch.isupper():\n",
        "            maiuscole = True\n",
        "        if ch.islower():\n",
        "            minuscole = True\n",
        "        if ch.isdigit():\n",
        "            cifre = True\n",
        "\n",
        "if lunghezza and maiuscole and minuscole and cifre:\n",
        "    print('\\tOK, questa è una password valida!')\n",
        "else:\n",
        "    print('\\tAttenzione: questa password non è valida.')\n",
        "\n"
      ]
    }
  ]
}