{
  "nbformat": 4,
  "nbformat_minor": 0,
  "metadata": {
    "colab": {
      "provenance": [],
      "authorship_tag": "ABX9TyMF+KVN7u147gT0TvqaAQAz",
      "include_colab_link": true
    },
    "kernelspec": {
      "name": "python3",
      "display_name": "Python 3"
    },
    "language_info": {
      "name": "python"
    }
  },
  "cells": [
    {
      "cell_type": "markdown",
      "metadata": {
        "id": "view-in-github",
        "colab_type": "text"
      },
      "source": [
        "<a href=\"https://colab.research.google.com/github/Finardiprof/Python/blob/main/Pseudocasuali.ipynb\" target=\"_parent\"><img src=\"https://colab.research.google.com/assets/colab-badge.svg\" alt=\"Open In Colab\"/></a>"
      ]
    },
    {
      "cell_type": "code",
      "execution_count": 1,
      "metadata": {
        "id": "TBi7Lu3I90HT"
      },
      "outputs": [],
      "source": [
        "import numpy as np\n",
        "import matplotlib.pyplot as plt"
      ]
    },
    {
      "cell_type": "code",
      "source": [
        "Nlanci = 1000000\n",
        "# Genera 100 coppie di punti pseudocasuali uniformi tra 0 e 100\n",
        "#x = np.random.uniform(1, 7, Nlanci)\n",
        "#y = np.random.uniform(1, 7, Nlanci)\n",
        "# Genera 100 coppie di punti pseudocasuali uniformi tra 0 e 100\n",
        "x = np.random.randint(1, 7, Nlanci)\n",
        "y = np.random.randint(1, 7, Nlanci)\n",
        "somma = x + y"
      ],
      "metadata": {
        "id": "_1kWjMS9_cmg"
      },
      "execution_count": 43,
      "outputs": []
    },
    {
      "cell_type": "code",
      "source": [
        "plt.scatter(x, y)\n",
        "plt.xlabel(\"X\")\n",
        "plt.ylabel(\"Y\")\n",
        "plt.title(\"Scatter plot di coppie di punti pseudocasuali\")\n",
        "plt.show()"
      ],
      "metadata": {
        "id": "BF8Q2y6S_iWW"
      },
      "execution_count": null,
      "outputs": []
    },
    {
      "cell_type": "code",
      "source": [
        "# Apertura di un file in modalità scrittura\n",
        "file = open(\"Dati.txt\", \"w\")\n",
        "\n",
        "# Scrivere una stringa nel file\n",
        "file.write(\"X\\tY\\n\")\n",
        "for i in range(len(x)):\n",
        "    file.write(f\"{x[i]}\\t{y[i]}\\n\")\n",
        "# Chiudere il file\n",
        "file.close()"
      ],
      "metadata": {
        "id": "ZNjLCjxH_jIv"
      },
      "execution_count": 39,
      "outputs": []
    },
    {
      "cell_type": "code",
      "source": [
        "# Apertura di un file in modalità scrittura\n",
        "file_csv = open(\"Dati.csv\", \"w\")\n",
        "\n",
        "# Scrivere una stringa nel file\n",
        "file_csv.write(\"X;Y\\n\")\n",
        "for i in range(len(x)):\n",
        "    file_csv.write(f\"{x[i]};{y[i]}\\n\")\n",
        "\n",
        "# Chiudere il file\n",
        "file_csv.close()"
      ],
      "metadata": {
        "id": "2zgCIjL9A4H9"
      },
      "execution_count": 35,
      "outputs": []
    },
    {
      "cell_type": "code",
      "source": [
        "plt.hist(somma, bins = 11, density = True)"
      ],
      "metadata": {
        "colab": {
          "base_uri": "https://localhost:8080/",
          "height": 534
        },
        "id": "ymmqOPKBCmmy",
        "outputId": "063b9ef2-6725-4760-c151-79ec6adba5d6"
      },
      "execution_count": 51,
      "outputs": [
        {
          "output_type": "execute_result",
          "data": {
            "text/plain": [
              "(array([0.0307285, 0.0607937, 0.0918742, 0.1224718, 0.1523841, 0.1841158,\n",
              "        0.152757 , 0.1216941, 0.0913495, 0.0612117, 0.0306196]),\n",
              " array([ 2.        ,  2.90909091,  3.81818182,  4.72727273,  5.63636364,\n",
              "         6.54545455,  7.45454545,  8.36363636,  9.27272727, 10.18181818,\n",
              "        11.09090909, 12.        ]),\n",
              " <BarContainer object of 11 artists>)"
            ]
          },
          "metadata": {},
          "execution_count": 51
        },
        {
          "output_type": "display_data",
          "data": {
            "text/plain": [
              "<Figure size 640x480 with 1 Axes>"
            ],
            "image/png": "[encoded data removed]"
          },
          "metadata": {}
        }
      ]
    }
  ]
}