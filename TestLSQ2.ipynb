{
  "nbformat": 4,
  "nbformat_minor": 0,
  "metadata": {
    "colab": {
      "provenance": [],
      "include_colab_link": true
    },
    "kernelspec": {
      "name": "python3",
      "display_name": "Python 3"
    },
    "language_info": {
      "name": "python"
    }
  },
  "cells": [
    {
      "cell_type": "markdown",
      "metadata": {
        "id": "view-in-github",
        "colab_type": "text"
      },
      "source": [
        "<a href=\"https://colab.research.google.com/github/Finardiprof/Python/blob/main/TestLSQ2.ipynb\" target=\"_parent\"><img src=\"https://colab.research.google.com/assets/colab-badge.svg\" alt=\"Open In Colab\"/></a>"
      ]
    },
    {
      "cell_type": "code",
      "source": [
        "#primo numero\n",
        "a = int(input('Dammi il primo numero: '))\n",
        "#secondo numero\n",
        "b = int(input('Dammi il secondo numero: '))\n",
        "#somma dei due numeri\n",
        "s = a+b\n",
        "print('La somma dei due numeri è:',s)"
      ],
      "metadata": {
        "colab": {
          "base_uri": "https://localhost:8080/"
        },
        "id": "P8OoJOxHZUgD",
        "outputId": "555f6180-8968-4255-8881-6801c1d831ff"
      },
      "execution_count": null,
      "outputs": [
        {
          "output_type": "stream",
          "name": "stdout",
          "text": [
            "Dammi il primo numero: 1\n",
            "Dammi il secondo numero:3\n",
            "la somma dei due numeri è: 4\n"
          ]
        }
      ]
    },
    {
      "cell_type": "code",
      "source": [
        "#soluzione equazione primo grado ax=b\n",
        "a = float(input('Dammi a: '))\n",
        "b = float(input('Dammi b: '))\n",
        "#la soluzione è x = b/a\n",
        "x = b/a\n",
        "print('La soluzione è:' , x)\n"
      ],
      "metadata": {
        "id": "G_-xiwXqbnYk"
      },
      "execution_count": null,
      "outputs": []
    },
    {
      "cell_type": "code",
      "source": [
        "#Fa la somma tra 2 numeri\n",
        "a = float(input('Dammi il primo numero: '))\n",
        "b = float(input('Dammi il secondo numero: '))\n",
        "op = input('inserisci che operazione vuoi fare: +, - ? ')\n",
        "if op == \"+\":\n",
        "  r = a + b # risultato\n",
        "  print('La somma è',r)\n",
        "if op == \"-\":\n",
        "  r = a - b # risultato\n",
        "  print('La differenza è',r)\n",
        "if op != \"+\" and op != \"-\":\n",
        "  print('operazione errata!')\n"
      ],
      "metadata": {
        "colab": {
          "base_uri": "https://localhost:8080/"
        },
        "id": "jG96tc07es9M",
        "outputId": "6080bfe0-a058-401a-df70-3d80c05f2805"
      },
      "execution_count": null,
      "outputs": [
        {
          "output_type": "stream",
          "name": "stdout",
          "text": [
            "Dammi il primo numero: 1\n",
            "Dammi il secondo numero: 2\n",
            "inserisci che operazione vuoi fare: +, - ? *\n",
            "operazione errata!\n"
          ]
        }
      ]
    },
    {
      "cell_type": "code",
      "source": [],
      "metadata": {
        "id": "zjiw71g-l55r"
      },
      "execution_count": null,
      "outputs": []
    },
    {
      "cell_type": "markdown",
      "source": [
        "Caduta libera\n"
      ],
      "metadata": {
        "id": "dsdu-D3nl7kJ"
      }
    },
    {
      "cell_type": "code",
      "source": [
        "h = float(input('La quota iniziale è: '))\n",
        "t = 0 #tempo iniziale\n",
        "dt = 0.1 #incremento di tempo\n",
        "s = h-0.5*9.81*t**2\n",
        "while s>0:\n",
        "  t = t+dt\n",
        "  s = h-0.5*9.81*t**2\n",
        "  if s>=0:\n",
        "    print('tempo',t,'s', 'quota',s, 'm')\n"
      ],
      "metadata": {
        "colab": {
          "base_uri": "https://localhost:8080/"
        },
        "id": "wx4kpR1WmA3C",
        "outputId": "48391cb9-c8e1-4f0d-97b7-260f099395f0"
      },
      "execution_count": 3,
      "outputs": [
        {
          "output_type": "stream",
          "name": "stdout",
          "text": [
            "La quota iniziale è: 10\n",
            "tempo 0.1 s quota 9.95095 m\n",
            "tempo 0.2 s quota 9.8038 m\n",
            "tempo 0.30000000000000004 s quota 9.55855 m\n",
            "tempo 0.4 s quota 9.2152 m\n",
            "tempo 0.5 s quota 8.77375 m\n",
            "tempo 0.6 s quota 8.2342 m\n",
            "tempo 0.7 s quota 7.596550000000001 m\n",
            "tempo 0.7999999999999999 s quota 6.8608 m\n",
            "tempo 0.8999999999999999 s quota 6.026950000000001 m\n",
            "tempo 0.9999999999999999 s quota 5.095000000000001 m\n",
            "tempo 1.0999999999999999 s quota 4.064950000000001 m\n",
            "tempo 1.2 s quota 2.9368 m\n",
            "tempo 1.3 s quota 1.7105499999999996 m\n",
            "tempo 1.4000000000000001 s quota 0.386199999999997 m\n"
          ]
        }
      ]
    }
  ]
}