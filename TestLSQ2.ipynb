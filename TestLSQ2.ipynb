{
  "nbformat": 4,
  "nbformat_minor": 0,
  "metadata": {
    "colab": {
      "provenance": [],
      "include_colab_link": true
    },
    "kernelspec": {
      "name": "python3",
      "display_name": "Python 3"
    },
    "language_info": {
      "name": "python"
    }
  },
  "cells": [
    {
      "cell_type": "markdown",
      "metadata": {
        "id": "view-in-github",
        "colab_type": "text"
      },
      "source": [
        "<a href=\"https://colab.research.google.com/github/Finardiprof/Python/blob/main/TestLSQ2.ipynb\" target=\"_parent\"><img src=\"https://colab.research.google.com/assets/colab-badge.svg\" alt=\"Open In Colab\"/></a>"
      ]
    },
    {
      "cell_type": "code",
      "source": [
        "#primo numero\n",
        "a = int(input('Dammi il primo numero: '))\n",
        "#secondo numero\n",
        "b = int(input('Dammi il secondo numero: '))\n",
        "#somma dei due numeri\n",
        "s = a+b\n",
        "print('La somma dei due numeri è:',s)"
      ],
      "metadata": {
        "colab": {
          "base_uri": "https://localhost:8080/"
        },
        "id": "P8OoJOxHZUgD",
        "outputId": "555f6180-8968-4255-8881-6801c1d831ff"
      },
      "execution_count": 17,
      "outputs": [
        {
          "output_type": "stream",
          "name": "stdout",
          "text": [
            "Dammi il primo numero: 1\n",
            "Dammi il secondo numero:3\n",
            "la somma dei due numeri è: 4\n"
          ]
        }
      ]
    },
    {
      "cell_type": "code",
      "source": [
        "#soluzione equazione primo grado ax=b\n",
        "a = float(input('Dammi a: '))\n",
        "b = float(input('Dammi b: '))\n",
        "#la soluzione è x = b/a\n",
        "x = b/a\n",
        "print('La soluzione è:' , x)\n"
      ],
      "metadata": {
        "colab": {
          "base_uri": "https://localhost:8080/",
          "height": 263
        },
        "id": "G_-xiwXqbnYk",
        "outputId": "b72cae7c-b340-4a36-9a77-7042692933f1"
      },
      "execution_count": 25,
      "outputs": [
        {
          "name": "stdout",
          "output_type": "stream",
          "text": [
            "Dammi a: 0\n",
            "Dammi b: 5.5\n"
          ]
        },
        {
          "output_type": "error",
          "ename": "ZeroDivisionError",
          "evalue": "ignored",
          "traceback": [
            "\u001b[0;31m---------------------------------------------------------------------------\u001b[0m",
            "\u001b[0;31mZeroDivisionError\u001b[0m                         Traceback (most recent call last)",
            "\u001b[0;32m<ipython-input-25-70b790ee206c>\u001b[0m in \u001b[0;36m<cell line: 5>\u001b[0;34m()\u001b[0m\n\u001b[1;32m      3\u001b[0m \u001b[0mb\u001b[0m \u001b[0;34m=\u001b[0m \u001b[0mfloat\u001b[0m\u001b[0;34m(\u001b[0m\u001b[0minput\u001b[0m\u001b[0;34m(\u001b[0m\u001b[0;34m'Dammi b: '\u001b[0m\u001b[0;34m)\u001b[0m\u001b[0;34m)\u001b[0m\u001b[0;34m\u001b[0m\u001b[0;34m\u001b[0m\u001b[0m\n\u001b[1;32m      4\u001b[0m \u001b[0;31m#la soluzione è x = b/a\u001b[0m\u001b[0;34m\u001b[0m\u001b[0;34m\u001b[0m\u001b[0m\n\u001b[0;32m----> 5\u001b[0;31m \u001b[0mx\u001b[0m \u001b[0;34m=\u001b[0m \u001b[0mb\u001b[0m\u001b[0;34m/\u001b[0m\u001b[0ma\u001b[0m\u001b[0;34m\u001b[0m\u001b[0;34m\u001b[0m\u001b[0m\n\u001b[0m\u001b[1;32m      6\u001b[0m \u001b[0mprint\u001b[0m\u001b[0;34m(\u001b[0m\u001b[0;34m'La soluzione è:'\u001b[0m \u001b[0;34m,\u001b[0m \u001b[0mx\u001b[0m\u001b[0;34m)\u001b[0m\u001b[0;34m\u001b[0m\u001b[0;34m\u001b[0m\u001b[0m\n",
            "\u001b[0;31mZeroDivisionError\u001b[0m: float division by zero"
          ]
        }
      ]
    },
    {
      "cell_type": "code",
      "source": [
        "#Fa la somma tra 2 numeri\n",
        "a = float(input('Dammi il primo numero: '))\n",
        "b = float(input('Dammi il secondo numero: '))\n",
        "op = input('inserisci che operazione vuoi fare: +, - ? ')\n",
        "if op == \"+\":\n",
        "  r = a + b # risultato\n",
        "  print('La somma è',r)\n",
        "if op == \"-\":\n",
        "  r = a - b # risultato\n",
        "  print('La differenza è',r)\n",
        "if op != \"+\" and op != \"-\":\n",
        "  print('operazione errata!')\n"
      ],
      "metadata": {
        "colab": {
          "base_uri": "https://localhost:8080/"
        },
        "id": "jG96tc07es9M",
        "outputId": "6080bfe0-a058-401a-df70-3d80c05f2805"
      },
      "execution_count": 37,
      "outputs": [
        {
          "output_type": "stream",
          "name": "stdout",
          "text": [
            "Dammi il primo numero: 1\n",
            "Dammi il secondo numero: 2\n",
            "inserisci che operazione vuoi fare: +, - ? *\n",
            "operazione errata!\n"
          ]
        }
      ]
    },
    {
      "cell_type": "code",
      "source": [],
      "metadata": {
        "id": "zjiw71g-l55r"
      },
      "execution_count": 37,
      "outputs": []
    },
    {
      "cell_type": "markdown",
      "source": [
        "Caduta libera\n"
      ],
      "metadata": {
        "id": "dsdu-D3nl7kJ"
      }
    },
    {
      "cell_type": "code",
      "source": [
        "h = float(input('La quota iniziale è: '))\n",
        "t = 0 #tempo iniziale\n",
        "dt = 0.1 #incremento di tempo\n",
        "s = h-0.5*9.81*t**2\n",
        "while s>0:\n",
        "  t = t+dt\n",
        "  s = h-0.5*9.81*t**2\n",
        "  if s>=0:\n",
        "    print('tempo', t,'s', 'quota', s, 'm')\n",
        ""
      ],
      "metadata": {
        "colab": {
          "base_uri": "https://localhost:8080/"
        },
        "id": "wx4kpR1WmA3C",
        "outputId": "70744a5e-7768-45f2-fc24-f6aeb21c81db"
      },
      "execution_count": 45,
      "outputs": [
        {
          "output_type": "stream",
          "name": "stdout",
          "text": [
            "La quota iniziale è: 19\n",
            "tempo 0.1 s quota 18.95095 m\n",
            "tempo 0.2 s quota 18.8038 m\n",
            "tempo 0.30000000000000004 s quota 18.55855 m\n",
            "tempo 0.4 s quota 18.2152 m\n",
            "tempo 0.5 s quota 17.77375 m\n",
            "tempo 0.6 s quota 17.2342 m\n",
            "tempo 0.7 s quota 16.59655 m\n",
            "tempo 0.7999999999999999 s quota 15.860800000000001 m\n",
            "tempo 0.8999999999999999 s quota 15.026950000000001 m\n",
            "tempo 0.9999999999999999 s quota 14.095 m\n",
            "tempo 1.0999999999999999 s quota 13.064950000000001 m\n",
            "tempo 1.2 s quota 11.9368 m\n",
            "tempo 1.3 s quota 10.71055 m\n",
            "tempo 1.4000000000000001 s quota 9.386199999999997 m\n",
            "tempo 1.5000000000000002 s quota 7.963749999999996 m\n",
            "tempo 1.6000000000000003 s quota 6.443199999999996 m\n",
            "tempo 1.7000000000000004 s quota 4.8245499999999915 m\n",
            "tempo 1.8000000000000005 s quota 3.107799999999992 m\n",
            "tempo 1.9000000000000006 s quota 1.2929499999999905 m\n"
          ]
        }
      ]
    }
  ]
}