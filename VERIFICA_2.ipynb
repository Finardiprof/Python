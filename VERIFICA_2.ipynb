{
  "nbformat": 4,
  "nbformat_minor": 0,
  "metadata": {
    "colab": {
      "provenance": [],
      "authorship_tag": "ABX9TyPTM/tYKQxB0MxcKkbnkVev",
      "include_colab_link": true
    },
    "kernelspec": {
      "name": "python3",
      "display_name": "Python 3"
    },
    "language_info": {
      "name": "python"
    }
  },
  "cells": [
    {
      "cell_type": "markdown",
      "metadata": {
        "id": "view-in-github",
        "colab_type": "text"
      },
      "source": [
        "<a href=\"https://colab.research.google.com/github/Finardiprof/Python/blob/main/VERIFICA_2.ipynb\" target=\"_parent\"><img src=\"https://colab.research.google.com/assets/colab-badge.svg\" alt=\"Open In Colab\"/></a>"
      ]
    },
    {
      "cell_type": "markdown",
      "source": [
        "# Verifica (Funzioni)"
      ],
      "metadata": {
        "id": "63VIUP1TDXF3"
      }
    },
    {
      "cell_type": "markdown",
      "source": [
        "###NOTA: stampare a video i risultati"
      ],
      "metadata": {
        "id": "xhCECpTsP1TJ"
      }
    },
    {
      "cell_type": "markdown",
      "source": [
        "ESERCIZIO 1"
      ],
      "metadata": {
        "id": "F7ta7v1RD66n"
      }
    },
    {
      "cell_type": "code",
      "source": [
        "'''\n",
        "Esercizio 1: Fai una funzione che dati 3 numeri restituisca il minore\n",
        "'''\n",
        "# scrivi il codice qui"
      ],
      "metadata": {
        "id": "jgpm6lKeDfKR"
      },
      "execution_count": null,
      "outputs": []
    },
    {
      "cell_type": "markdown",
      "source": [
        "Fai il test della funzione con i numeri -3, 0, 7"
      ],
      "metadata": {
        "id": "MM43p2pCN1zH"
      }
    },
    {
      "cell_type": "code",
      "source": [
        "# scrivi il codice qui"
      ],
      "metadata": {
        "id": "NxoWLobXNzZO"
      },
      "execution_count": null,
      "outputs": []
    },
    {
      "cell_type": "markdown",
      "source": [
        "ESERCIZIO 2"
      ],
      "metadata": {
        "id": "0wapixBLO4Uv"
      }
    },
    {
      "cell_type": "code",
      "source": [
        "'''\n",
        "Esercizio 2: Fai una funzione che stampa a video il tuo nome e cognome\n",
        "'''\n",
        "# scrivi il codice qui"
      ],
      "metadata": {
        "id": "XhVw9d9rO7gd"
      },
      "execution_count": null,
      "outputs": []
    },
    {
      "cell_type": "markdown",
      "source": [
        "Fai il test della funzione"
      ],
      "metadata": {
        "id": "knj9gxKxOuXp"
      }
    },
    {
      "cell_type": "code",
      "source": [
        "# scrivi il codice qui"
      ],
      "metadata": {
        "id": "lqG_m6ZgOzF9"
      },
      "execution_count": null,
      "outputs": []
    },
    {
      "cell_type": "markdown",
      "source": [
        "ESERCIZIO 3"
      ],
      "metadata": {
        "id": "Z3bmyp2ED_aO"
      }
    },
    {
      "cell_type": "code",
      "execution_count": null,
      "metadata": {
        "id": "wk592TxcCcfY"
      },
      "outputs": [],
      "source": [
        "'''\n",
        "Esercizio 3: Scrivere una funzione per risolvere un'equazione nella forma\n",
        "a⋅x=b, dove a e b sono numeri\n",
        "'''\n",
        "# scrivi il codice qui"
      ]
    },
    {
      "cell_type": "markdown",
      "source": [
        "Fai il test della funzione"
      ],
      "metadata": {
        "id": "9N8gEdiFPqeh"
      }
    },
    {
      "cell_type": "code",
      "source": [
        "# scrivi il codice qui"
      ],
      "metadata": {
        "id": "HScNh8MsPuDV"
      },
      "execution_count": null,
      "outputs": []
    },
    {
      "cell_type": "markdown",
      "source": [
        "ESERCIZIO 4"
      ],
      "metadata": {
        "id": "06yLyTB8EBZa"
      }
    },
    {
      "cell_type": "code",
      "source": [
        "'''\n",
        "Esercizio 4:Scrivi una funzione chiamata perimetro, che calcola\n",
        "il perimetro di un quadrilatero dati i 4 lati.\n",
        "'''\n",
        "# scrivi il codice qui"
      ],
      "metadata": {
        "id": "WwG2PC9pEOme"
      },
      "execution_count": null,
      "outputs": []
    },
    {
      "cell_type": "markdown",
      "source": [
        "Fai il test della funzione"
      ],
      "metadata": {
        "id": "hT0ge2uTU_o5"
      }
    },
    {
      "cell_type": "code",
      "source": [
        "# scrivi il codice qui"
      ],
      "metadata": {
        "id": "mSS7-_vxVBQE"
      },
      "execution_count": null,
      "outputs": []
    },
    {
      "cell_type": "markdown",
      "source": [
        "ESERCIZIO 5"
      ],
      "metadata": {
        "id": "771trkH8HF9D"
      }
    },
    {
      "cell_type": "code",
      "source": [
        "def prova(testo):\n",
        "    vocali = \"aeiouAEIOU\"\n",
        "    conteggio = 0\n",
        "\n",
        "    for carattere in testo:\n",
        "        if carattere in vocali:\n",
        "            conteggio += 1\n",
        "    return conteggio"
      ],
      "metadata": {
        "id": "53OD2YYdR-oo"
      },
      "execution_count": 5,
      "outputs": []
    },
    {
      "cell_type": "code",
      "source": [
        "# scrivi il codice della chiamata della funzione qui"
      ],
      "metadata": {
        "id": "8HO1P-ILhjth"
      },
      "execution_count": null,
      "outputs": []
    },
    {
      "cell_type": "markdown",
      "source": [
        "Spiega qui cosa fa la funzione 'prova':"
      ],
      "metadata": {
        "id": "Q9myB0bZghWx"
      }
    },
    {
      "cell_type": "code",
      "source": [
        "'''\n",
        "Esercizio 6: Crea una funzione che dati in ingresso 3 numeri (a,b,c)\n",
        "verifica se almeno un numero è divisibile per 2.\n",
        "'''\n",
        "# scrivi il codice qui"
      ],
      "metadata": {
        "id": "TZKj_qLDkUfZ"
      },
      "execution_count": null,
      "outputs": []
    },
    {
      "cell_type": "markdown",
      "source": [
        "Fai il test della funzione"
      ],
      "metadata": {
        "id": "dreDnJcRktKN"
      }
    },
    {
      "cell_type": "code",
      "source": [
        "# scrivi il codice qui"
      ],
      "metadata": {
        "id": "XMEvLY1Oku4k"
      },
      "execution_count": null,
      "outputs": []
    }
  ]
}