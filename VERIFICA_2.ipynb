{
  "nbformat": 4,
  "nbformat_minor": 0,
  "metadata": {
    "colab": {
      "provenance": [],
      "authorship_tag": "ABX9TyM4yCudYPcvD0YKldoV+pGO",
      "include_colab_link": true
    },
    "kernelspec": {
      "name": "python3",
      "display_name": "Python 3"
    },
    "language_info": {
      "name": "python"
    }
  },
  "cells": [
    {
      "cell_type": "markdown",
      "metadata": {
        "id": "view-in-github",
        "colab_type": "text"
      },
      "source": [
        "<a href=\"https://colab.research.google.com/github/Finardiprof/Python/blob/main/VERIFICA_2.ipynb\" target=\"_parent\"><img src=\"https://colab.research.google.com/assets/colab-badge.svg\" alt=\"Open In Colab\"/></a>"
      ]
    },
    {
      "cell_type": "markdown",
      "source": [
        "# Verifica (Funzioni)"
      ],
      "metadata": {
        "id": "63VIUP1TDXF3"
      }
    },
    {
      "cell_type": "markdown",
      "source": [
        "###NOTA: stampare a video i risultati"
      ],
      "metadata": {
        "id": "xhCECpTsP1TJ"
      }
    },
    {
      "cell_type": "markdown",
      "source": [
        "ESERCIZIO 1"
      ],
      "metadata": {
        "id": "F7ta7v1RD66n"
      }
    },
    {
      "cell_type": "code",
      "source": [
        "'''\n",
        "Esercizio 1: Fai una funzione che dati 3 numeri restituisca il minore\n",
        "'''\n",
        "# scrivi il codice qui"
      ],
      "metadata": {
        "id": "jgpm6lKeDfKR"
      },
      "execution_count": null,
      "outputs": []
    },
    {
      "cell_type": "markdown",
      "source": [
        "Fai il test della funzione con i numeri -3, 0, 7"
      ],
      "metadata": {
        "id": "MM43p2pCN1zH"
      }
    },
    {
      "cell_type": "code",
      "source": [
        "# scrivi il codice qui"
      ],
      "metadata": {
        "id": "NxoWLobXNzZO"
      },
      "execution_count": null,
      "outputs": []
    },
    {
      "cell_type": "markdown",
      "source": [
        "ESERCIZIO 2"
      ],
      "metadata": {
        "id": "0wapixBLO4Uv"
      }
    },
    {
      "cell_type": "code",
      "source": [
        "'''\n",
        "Esercizio 2: Fai una funzione che stampa a video il tuo nome e cognome\n",
        "'''\n",
        "# scrivi il codice qui"
      ],
      "metadata": {
        "id": "XhVw9d9rO7gd"
      },
      "execution_count": null,
      "outputs": []
    },
    {
      "cell_type": "markdown",
      "source": [
        "Fai il test della funzione"
      ],
      "metadata": {
        "id": "knj9gxKxOuXp"
      }
    },
    {
      "cell_type": "code",
      "source": [
        "# scrivi il codice qui"
      ],
      "metadata": {
        "id": "lqG_m6ZgOzF9"
      },
      "execution_count": null,
      "outputs": []
    },
    {
      "cell_type": "markdown",
      "source": [
        "ESERCIZIO 3"
      ],
      "metadata": {
        "id": "Z3bmyp2ED_aO"
      }
    },
    {
      "cell_type": "code",
      "execution_count": null,
      "metadata": {
        "id": "wk592TxcCcfY"
      },
      "outputs": [],
      "source": [
        "'''\n",
        "Esercizio 3: Scrivere una funzione per risolvere un'equazione nella forma\n",
        "a⋅x=b, dove a è un coefficiente e b è un termine noto\n",
        "'''\n",
        "# scrivi il codice qui"
      ]
    },
    {
      "cell_type": "markdown",
      "source": [
        "Fai il test della funzione"
      ],
      "metadata": {
        "id": "9N8gEdiFPqeh"
      }
    },
    {
      "cell_type": "code",
      "source": [
        "# scrivi il codice qui"
      ],
      "metadata": {
        "id": "HScNh8MsPuDV"
      },
      "execution_count": null,
      "outputs": []
    },
    {
      "cell_type": "markdown",
      "source": [
        "ESERCIZIO 4"
      ],
      "metadata": {
        "id": "06yLyTB8EBZa"
      }
    },
    {
      "cell_type": "code",
      "source": [
        "'''\n",
        "Esercizio 4:Scrivi una funzione chiamata quadrato che accetti un numero\n",
        "come argomento e restituisca il quadrato di quel numero.\n",
        "'''\n",
        "# scrivi il codice qui"
      ],
      "metadata": {
        "id": "WwG2PC9pEOme"
      },
      "execution_count": null,
      "outputs": []
    },
    {
      "cell_type": "markdown",
      "source": [
        "Fai il test della funzione"
      ],
      "metadata": {
        "id": "hT0ge2uTU_o5"
      }
    },
    {
      "cell_type": "code",
      "source": [
        "# scrivi il codice qui"
      ],
      "metadata": {
        "id": "mSS7-_vxVBQE"
      },
      "execution_count": null,
      "outputs": []
    },
    {
      "cell_type": "markdown",
      "source": [
        "ESERCIZIO 5"
      ],
      "metadata": {
        "id": "771trkH8HF9D"
      }
    },
    {
      "cell_type": "markdown",
      "source": [
        "Crea un programma che chieda all'utente di impostare una password (diciamo che la password è \"password123\"). Quindi, chiedi all'utente di inserire la password. Se la password inserita corrisponde alla password preimpostata, stampare un messaggio di successo e terminare il programma. Se la password inserita non è corretta, consentire all'utente di riprovare, fino ad un massimo di 3 tentativi. Se l'utente supera i 3 tentativi, stampa un messaggio di errore e termina il programma."
      ],
      "metadata": {
        "id": "1qX91yc6fHAO"
      }
    },
    {
      "cell_type": "code",
      "source": [
        "def controlla_input():\n",
        "\n",
        "        nome = input(\"Inserisci il tuo nome: \")\n",
        "        eta = int(input(\"Inserisci la tua età: \"))\n",
        "        if nome == \"Andrea\" and eta == 33:\n",
        "          print(f\"Benvenuto, {nome}! Hai {eta} anni.\")\n",
        "        else:\n",
        "          print(\"Input non valido. Assicurati di inserire un nome e un'età valida.\")\n",
        "\n",
        "# Esempio di chiamata alla funzione\n",
        "controlla_input()"
      ],
      "metadata": {
        "id": "53OD2YYdR-oo"
      },
      "execution_count": null,
      "outputs": []
    },
    {
      "cell_type": "code",
      "source": [
        "# Inizializza la password\n",
        "preset_password = \"password123\"\n",
        "\n",
        "# inizializza le variabili\n",
        "Tentativi = 1\n",
        "max_tentativi = 5\n",
        "password_inserita = input(\"Inserisci Password: \")\n",
        "\n",
        "while password_inserita != preset_password and Tentativi < max_tentativi:\n",
        "  print(\"Password errata, ti rimangono \", max_tentativi-Tentativi, \" Tentativi\")\n",
        "  password_inserita = input(\"Inserisci Password: \")\n",
        "  Tentativi += 1\n",
        "\n",
        "if password_inserita == preset_password:\n",
        "  print(\"Puoi entrare! - Successo!\")\n",
        "else:\n",
        "  print(\"hai superato il numero massimo di tentativi!\")"
      ],
      "metadata": {
        "id": "kyMiLrscK662"
      },
      "execution_count": null,
      "outputs": []
    },
    {
      "cell_type": "code",
      "source": [
        "def gioco_indovinello():\n",
        "    risposta_corretta = \"python\"\n",
        "    tentativi = 3\n",
        "\n",
        "    print(\"Indovina la parola! Hai 3 tentativi.\")\n",
        "\n",
        "    while tentativi > 0:\n",
        "        indovinello = input(\"Inserisci la parola: \").lower()\n",
        "\n",
        "        if indovinello == risposta_corretta:\n",
        "            print(\"Complimenti! Hai indovinato.\")\n",
        "            return\n",
        "        else:\n",
        "            tentativi -= 1\n",
        "            if tentativi > 0:\n",
        "                print(f\"Risposta errata. Hai ancora {tentativi} tentativi.\")\n",
        "\n",
        "    print(\"Mi dispiace, hai esaurito i tentativi. La risposta corretta era 'python'.\")\n",
        "\n",
        "# Esempio di chiamata alla funzione\n",
        "gioco_indovinello()\n"
      ],
      "metadata": {
        "id": "miiixm7ATM_-"
      },
      "execution_count": null,
      "outputs": []
    },
    {
      "cell_type": "code",
      "source": [
        "def conta_vocali(testo):\n",
        "    vocali = \"aeiouAEIOU\"\n",
        "    conteggio = 0\n",
        "\n",
        "    for carattere in testo:\n",
        "        if carattere in vocali:\n",
        "            conteggio += 1\n",
        "\n",
        "    return conteggio\n",
        "\n",
        "# Esempio di chiamata alla funzione\n",
        "testo_input = input(\"Inserisci una frase: \")\n",
        "numero_vocali = conta_vocali(testo_input)\n",
        "\n",
        "print(f\"Il numero di vocali nella frase è: {numero_vocali}\")\n"
      ],
      "metadata": {
        "colab": {
          "base_uri": "https://localhost:8080/"
        },
        "id": "Z09Nz-PNT0Vl",
        "outputId": "082bd00a-3482-425d-a206-25c076e8f6d3"
      },
      "execution_count": 4,
      "outputs": [
        {
          "output_type": "stream",
          "name": "stdout",
          "text": [
            "Inserisci una frase: ciao hombre\n",
            "Il numero di vocali nella frase è: 5\n"
          ]
        }
      ]
    }
  ]
}