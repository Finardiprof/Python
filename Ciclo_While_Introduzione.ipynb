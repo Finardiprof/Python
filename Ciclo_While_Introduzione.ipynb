{
  "cells": [
    {
      "cell_type": "markdown",
      "metadata": {
        "id": "view-in-github",
        "colab_type": "text"
      },
      "source": [
        "<a href=\"https://colab.research.google.com/github/Finardiprof/Python/blob/main/Ciclo_While_Introduzione.ipynb\" target=\"_parent\"><img src=\"https://colab.research.google.com/assets/colab-badge.svg\" alt=\"Open In Colab\"/></a>"
      ]
    },
    {
      "cell_type": "markdown",
      "source": [
        "##Ciclo while\n",
        "\n",
        "**Introduzione**\n",
        "\n",
        "Il ciclo `while` è una struttura di controllo che consente di eseguire un blocco di codice ripetutamente, finché una condizione è vera. La sintassi del ciclo `while` è la seguente:"
      ],
      "metadata": {
        "id": "WWXpGG_0DLVs"
      }
    },
    {
      "cell_type": "code",
      "source": [
        "while condizione:\n",
        "    blocco di codice"
      ],
      "outputs": [],
      "execution_count": null,
      "metadata": {
        "id": "qM7Kj4v0DLV2"
      }
    },
    {
      "cell_type": "markdown",
      "source": [
        "Quando il ciclo `while` viene eseguito, la condizione viene prima valutata. Se la condizione è vera, il blocco di codice viene eseguito. Dopo che il blocco di codice è stato eseguito, la condizione viene valutata nuovamente. Se la condizione è ancora vera, il blocco di codice viene eseguito di nuovo. Questo processo continua fino a quando la condizione diventa falsa.\n",
        "\n",
        "**Esempio 1**\n",
        "\n",
        "Ecco un esempio di un ciclo `while` che stampa i numeri da 1 a 10:"
      ],
      "metadata": {
        "id": "8btfyA0bDLV6"
      }
    },
    {
      "cell_type": "code",
      "source": [
        "i = 1\n",
        "while i <= 10:\n",
        "    print(i)\n",
        "    i += 1 # i = i + 1"
      ],
      "outputs": [],
      "execution_count": null,
      "metadata": {
        "id": "r5pb2WZIDLV7"
      }
    },
    {
      "cell_type": "markdown",
      "source": [
        "Questo codice inizia con la variabile `i` impostata a 1. Il ciclo `while` viene quindi eseguito. La condizione `i <= 10` è vera, quindi il blocco di codice viene eseguito. Il blocco di codice stampa il valore di `i`. Quindi, il valore di `i` viene incrementato di 1. Il ciclo `while` viene quindi valutato nuovamente. La condizione `i <= 10` è ancora vera, quindi il blocco di codice viene eseguito nuovamente. Questo processo continua fino a quando `i` diventa maggiore di 10. A questo punto, la condizione `i <= 10` diventa falsa e il ciclo `while` termina.\n",
        "\n",
        "**Esempio 2**\n",
        "\n",
        "Ecco un altro esempio di un ciclo `while` che stampa i numeri pari da 2 a 20:"
      ],
      "metadata": {
        "id": "49F8caNdDLV-"
      }
    },
    {
      "cell_type": "code",
      "source": [
        "i = 2\n",
        "while i <= 20:\n",
        "    if i % 2 == 0:\n",
        "        print(i)\n",
        "    i += 1"
      ],
      "outputs": [],
      "execution_count": null,
      "metadata": {
        "id": "HRNtWZpPDLV_"
      }
    },
    {
      "cell_type": "markdown",
      "source": [
        "Questo codice è simile al precedente, ma aggiunge un'istruzione `if` per verificare se il numero è pari. Se il numero è pari, viene stampato.\n",
        "\n",
        "**Esempio 3**\n",
        "\n",
        "Ecco un esempio di un ciclo `while` che chiede all'utente di inserire un numero e termina quando l'utente inserisce un numero negativo:"
      ],
      "metadata": {
        "id": "WDbkBJuXDLWB"
      }
    },
    {
      "cell_type": "code",
      "source": [
        "numero = 0\n",
        "while numero >= 0:\n",
        "    numero = int(input(\"Inserisci un numero: \"))\n",
        "    print(\"Il numero inserito è:\", numero)"
      ],
      "outputs": [],
      "execution_count": null,
      "metadata": {
        "id": "UDy5crwjDLWC"
      }
    },
    {
      "cell_type": "markdown",
      "source": [
        "Questo codice inizia con la variabile `numero` impostata a 0. Il ciclo `while` viene quindi eseguito. La condizione `numero >= 0` è vera, quindi il blocco di codice viene eseguito. Il blocco di codice chiede all'utente di inserire un numero. Il numero inserito viene quindi memorizzato nella variabile `numero`. Il ciclo `while` viene quindi valutato nuovamente. La condizione `numero >= 0` è ancora vera, quindi il blocco di codice viene eseguito nuovamente. Questo processo continua fino a quando l'utente inserisce un numero negativo. A questo punto, la condizione `numero >= 0` diventa falsa e il ciclo `while` termina.\n",
        "\n",
        "**Conclusione**\n",
        "\n",
        "Il ciclo `while` è una struttura di controllo potente che può essere utilizzata per eseguire un blocco di codice ripetutamente. È importante prestare attenzione alla condizione del ciclo `while` per garantire che il ciclo termini correttamente."
      ],
      "metadata": {
        "id": "WWl_AFljDLWE"
      }
    }
  ],
  "metadata": {
    "colab": {
      "provenance": [],
      "include_colab_link": true
    },
    "kernelspec": {
      "display_name": "Python 3",
      "name": "python3"
    }
  },
  "nbformat": 4,
  "nbformat_minor": 0
}