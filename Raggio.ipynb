{
  "nbformat": 4,
  "nbformat_minor": 0,
  "metadata": {
    "colab": {
      "provenance": [],
      "authorship_tag": "ABX9TyMhHZh7nmW1gIYgGqJFg12+",
      "include_colab_link": true
    },
    "kernelspec": {
      "name": "python3",
      "display_name": "Python 3"
    },
    "language_info": {
      "name": "python"
    }
  },
  "cells": [
    {
      "cell_type": "markdown",
      "metadata": {
        "id": "view-in-github",
        "colab_type": "text"
      },
      "source": [
        "<a href=\"https://colab.research.google.com/github/Finardiprof/Python/blob/main/Raggio.ipynb\" target=\"_parent\"><img src=\"https://colab.research.google.com/assets/colab-badge.svg\" alt=\"Open In Colab\"/></a>"
      ]
    },
    {
      "cell_type": "code",
      "execution_count": 1,
      "metadata": {
        "colab": {
          "base_uri": "https://localhost:8080/"
        },
        "id": "hlPiLQ94C_NU",
        "outputId": "5e512dfa-5fef-4bb8-ab72-273478923271"
      },
      "outputs": [
        {
          "output_type": "stream",
          "name": "stdout",
          "text": [
            "inserisci un numero positivo: 8\n",
            "il raggio del cerchio con l'area data vale: 1.5957691216057308\n",
            "il raggio della sfera con il volume dato vale: 1.2380279645724932\n"
          ]
        }
      ],
      "source": [
        "import math\n",
        "\n",
        "num=-1.0\n",
        "while num<=0:\n",
        "    num = float(input(\"inserisci un numero positivo: \"))\n",
        "def raggio(r):\n",
        "  raggio_cerchio = math.sqrt(r/math.pi)\n",
        "  raggio_sfera = pow(0.75*r/math.pi, 0.33)\n",
        "  return raggio_cerchio, raggio_sfera\n",
        "\n",
        "(rc, rs) = raggio(num)\n",
        "print(\"il raggio del cerchio con l'area data vale:\",rc)\n",
        "print(\"il raggio della sfera con il volume dato vale:\",rs)"
      ]
    }
  ]
}