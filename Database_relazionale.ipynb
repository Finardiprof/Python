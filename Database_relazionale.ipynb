{
  "cells": [
    {
      "cell_type": "markdown",
      "metadata": {
        "id": "view-in-github",
        "colab_type": "text"
      },
      "source": [
        "<a href=\"https://colab.research.google.com/github/Finardiprof/Python/blob/main/Database_relazionale.ipynb\" target=\"_parent\"><img src=\"https://colab.research.google.com/assets/colab-badge.svg\" alt=\"Open In Colab\"/></a>"
      ]
    },
    {
      "cell_type": "markdown",
      "source": [
        "Sì, è possibile creare un database relazionale in Google Colab. Google Colab offre un ambiente virtuale basato su Jupyter Notebook che consente di eseguire codice Python in modo interattivo. Per creare un database relazionale in Colab, è possibile utilizzare il modulo `sqlite3` di Python.\n",
        "\n",
        "**Esempio**\n",
        "\n",
        "Ecco un esempio di come creare un database relazionale in Colab utilizzando SQLite:"
      ],
      "metadata": {
        "id": "vf6YoHW_6bXH"
      }
    },
    {
      "cell_type": "code",
      "source": [
        "import sqlite3\n",
        "\n",
        "# Creare un connettore al database\n",
        "conn = sqlite3.connect(':memory:')\n",
        "\n",
        "# Creare un cursore\n",
        "c = conn.cursor()\n",
        "\n",
        "# Creare una tabella\n",
        "c.execute('''CREATE TABLE IF NOT EXISTS mytable (\n",
        "  id INTEGER PRIMARY KEY AUTOINCREMENT,\n",
        "  nome VARCHAR(255) NOT NULL,\n",
        "  cognome VARCHAR(255) NOT NULL\n",
        ")''')\n",
        "\n",
        "# Inserire dati nella tabella\n",
        "c.execute('INSERT INTO mytable (nome, cognome) VALUES (?, ?)', ('Mario', 'Rossi'))\n",
        "c.execute('INSERT INTO mytable (nome, cognome) VALUES (?, ?)', ('Giovanni', 'Verdi'))\n",
        "c.execute('INSERT INTO mytable (nome, cognome) VALUES (?, ?)', ('Luca', 'Bianchi'))\n",
        "\n",
        "# Committare i cambiamenti\n",
        "conn.commit()\n",
        "\n",
        "# Eseguire una query sulla tabella\n",
        "c.execute('SELECT * FROM mytable')\n",
        "\n",
        "# Estrarre i risultati della query\n",
        "results = c.fetchall()\n",
        "\n",
        "# Chiudere il connettore al database\n",
        "conn.close()\n",
        "\n",
        "# Stampare i risultati della query\n",
        "for row in results:\n",
        "  print(row)"
      ],
      "outputs": [],
      "execution_count": null,
      "metadata": {
        "id": "0ndUAyX46bXP"
      }
    },
    {
      "cell_type": "markdown",
      "source": [
        "Questo codice creerà un database in memoria e inserirà tre record nella tabella `mytable`. Eseguirà quindi una query sulla tabella e stamperà i risultati sul terminale.\n",
        "\n",
        "**Salvare e caricare il database**\n",
        "\n",
        "È possibile salvare il database creato in Colab utilizzando il seguente codice:"
      ],
      "metadata": {
        "id": "52cZVrn66bXS"
      }
    },
    {
      "cell_type": "code",
      "source": [
        "import pickle\n",
        "\n",
        "# Salvare il database su file\n",
        "with open('mydatabase.db', 'wb') as f:\n",
        "  pickle.dump(conn, f)\n",
        "\n",
        "# Caricare il database da file\n",
        "with open('mydatabase.db', 'rb') as f:\n",
        "  conn = pickle.load(f)"
      ],
      "outputs": [],
      "execution_count": null,
      "metadata": {
        "id": "64guHx2C6bXT"
      }
    },
    {
      "cell_type": "markdown",
      "source": [
        "Questo codice salverà il database su un file denominato `mydatabase.db`. È possibile quindi caricare il database utilizzando lo stesso codice, sostituendo il nome del file con il nome del file in cui è stato salvato il database.\n",
        "\n",
        "**Conclusione**\n",
        "\n",
        "È possibile creare, utilizzare e salvare database relazionali in Google Colab utilizzando il modulo `sqlite3` di Python."
      ],
      "metadata": {
        "id": "hmb2EwHr6bXU"
      }
    }
  ],
  "metadata": {
    "colab": {
      "provenance": [],
      "include_colab_link": true
    },
    "kernelspec": {
      "display_name": "Python 3",
      "name": "python3"
    }
  },
  "nbformat": 4,
  "nbformat_minor": 0
}