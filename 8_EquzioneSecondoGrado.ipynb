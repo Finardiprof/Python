{
  "nbformat": 4,
  "nbformat_minor": 0,
  "metadata": {
    "colab": {
      "provenance": [],
      "toc_visible": true,
      "include_colab_link": true
    },
    "kernelspec": {
      "name": "python3",
      "display_name": "Python 3"
    },
    "language_info": {
      "name": "python"
    }
  },
  "cells": [
    {
      "cell_type": "markdown",
      "metadata": {
        "id": "view-in-github",
        "colab_type": "text"
      },
      "source": [
        "<a href=\"https://colab.research.google.com/github/Finardiprof/Python/blob/main/8_EquzioneSecondoGrado.ipynb\" target=\"_parent\"><img src=\"https://colab.research.google.com/assets/colab-badge.svg\" alt=\"Open In Colab\"/></a>"
      ]
    },
    {
      "cell_type": "markdown",
      "metadata": {
        "id": "yn7a-odX_Hbi"
      },
      "source": [
        "# Algoritmo per la soluzione di un'equazione di secondo grado"
      ]
    },
    {
      "cell_type": "code",
      "metadata": {
        "id": "zqZpHqBY_BPD"
      },
      "source": [
        "#Scrivi il codice qui"
      ],
      "execution_count": null,
      "outputs": []
    },
    {
      "cell_type": "markdown",
      "metadata": {
        "id": "APnOhJ_p_MPZ"
      },
      "source": [
        "# Soluzione proposta"
      ]
    },
    {
      "cell_type": "code",
      "metadata": {
        "id": "KzubPYhZ_cy9"
      },
      "source": [
        "# Soluzione di un'equazione di secondo grado\n",
        "a = float(input(\"Inserisci il coefficiente del termine di 2° grado: \"))\n",
        "b = float(input(\"Inserisci il coefficiente del termine di 1° grado:  \"))\n",
        "c = float(input(\"Inserisci il termine noto: \"))\n",
        "Delta = b**2 - 4*a*c\n",
        "if Delta < 0:\n",
        "  print (\"L'equazione non ha soluzioni in R\")\n",
        "if Delta == 0:\n",
        "  print(\"L'equazione ha soluzione doppia, x=\", -b/(2*a))\n",
        "if Delta > 0:\n",
        "  x1 = (-b-((Delta)/(2*a))**(0.5))\n",
        "  x2 = (-b+((Delta)/(2*a))**(0.5))\n",
        "  print(\"L'equazione ha soluzioni, x1=\", x1, \"x2=\", x2)"
      ],
      "execution_count": null,
      "outputs": []
    },
    {
      "cell_type": "code",
      "metadata": {
        "id": "48DKBurrK9fc"
      },
      "source": [
        "# Soluzione di un'equazione di secondo grado con import libreria math\n",
        "import math\n",
        "a = float(input(\"Inserisci il coefficiente del termine di 2° grado: \"))\n",
        "b = float(input(\"Inserisci il coefficiente del termine di 1° grado:  \"))\n",
        "c = float(input(\"Inserisci il termine noto: \"))\n",
        "Delta = b**2 - 4*a*c\n",
        "if Delta < 0:\n",
        "  print (\"L'equazione non ha soluzioni in R\")\n",
        "if Delta == 0:\n",
        "  print(\"L'equazione la soluzione doppia, x=\", -b/(2*a))\n",
        "if Delta > 0:\n",
        "  x1 = (-b-math.sqrt(Delta)/(2*a))\n",
        "  x2 = (-b+math.sqrt(Delta)/(2*a))\n",
        "  print(\"L'equazione ha soluzioni, x1=\", x1, \"x2=\", x2)"
      ],
      "execution_count": null,
      "outputs": []
    }
  ]
}