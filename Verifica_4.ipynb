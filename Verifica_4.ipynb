{
  "nbformat": 4,
  "nbformat_minor": 0,
  "metadata": {
    "colab": {
      "provenance": [],
      "authorship_tag": "ABX9TyPAPib4fl1c7e6s5RoOPlGI",
      "include_colab_link": true
    },
    "kernelspec": {
      "name": "python3",
      "display_name": "Python 3"
    },
    "language_info": {
      "name": "python"
    }
  },
  "cells": [
    {
      "cell_type": "markdown",
      "metadata": {
        "id": "view-in-github",
        "colab_type": "text"
      },
      "source": [
        "<a href=\"https://colab.research.google.com/github/Finardiprof/Python/blob/main/Verifica_4.ipynb\" target=\"_parent\"><img src=\"https://colab.research.google.com/assets/colab-badge.svg\" alt=\"Open In Colab\"/></a>"
      ]
    },
    {
      "cell_type": "markdown",
      "source": [
        "#Esercizio 1: Liste\n",
        "Crea una lista di 10 numeri consecutivi a partire da 1.\n",
        "Stampa la lista."
      ],
      "metadata": {
        "id": "RxElWzfkGbBM"
      }
    },
    {
      "cell_type": "code",
      "source": [],
      "metadata": {
        "id": "P1Uu-562GY8z"
      },
      "execution_count": null,
      "outputs": []
    },
    {
      "cell_type": "markdown",
      "source": [
        "Aggiungi il numero 11 alla fine della lista."
      ],
      "metadata": {
        "id": "xbLU6R9cG0ZT"
      }
    },
    {
      "cell_type": "code",
      "source": [],
      "metadata": {
        "id": "FfPtt2blG13c"
      },
      "execution_count": null,
      "outputs": []
    },
    {
      "cell_type": "markdown",
      "source": [
        "Rimuovi il primo elemento dalla lista.\n",
        "Stampa la lista aggiornata."
      ],
      "metadata": {
        "id": "p5Z1z2KDG1JS"
      }
    },
    {
      "cell_type": "code",
      "source": [],
      "metadata": {
        "id": "mFD_uOy7G2l0"
      },
      "execution_count": null,
      "outputs": []
    },
    {
      "cell_type": "markdown",
      "source": [
        "Calcolare la media della lista\n",
        "Stampa il risultato."
      ],
      "metadata": {
        "id": "c1VS1v3AG3nz"
      }
    },
    {
      "cell_type": "code",
      "source": [],
      "metadata": {
        "id": "waxVSaUfHUjT"
      },
      "execution_count": null,
      "outputs": []
    },
    {
      "cell_type": "markdown",
      "source": [
        "Importa la libreria numpy"
      ],
      "metadata": {
        "id": "HXWQhzJGHyzP"
      }
    },
    {
      "cell_type": "code",
      "source": [
        "import numpy as np"
      ],
      "metadata": {
        "id": "8MIoqhXpH2Ym"
      },
      "execution_count": null,
      "outputs": []
    },
    {
      "cell_type": "markdown",
      "source": [
        "Crea una lista di numeri da 1 a 20 (con step = 1) utilizzando il comando linsace di numpy"
      ],
      "metadata": {
        "id": "4sLqlwOSHyKl"
      }
    },
    {
      "cell_type": "code",
      "source": [],
      "metadata": {
        "id": "w7HVg2GJHxMx"
      },
      "execution_count": null,
      "outputs": []
    },
    {
      "cell_type": "markdown",
      "source": [
        "##Esercizio 2: Grafici con Matplotlib"
      ],
      "metadata": {
        "id": "ch3mK9LSHfow"
      }
    },
    {
      "cell_type": "markdown",
      "source": [
        "importa la libreria"
      ],
      "metadata": {
        "id": "QiWnR94wIICk"
      }
    },
    {
      "cell_type": "code",
      "source": [
        "import matplotlib.pyplot as plt"
      ],
      "metadata": {
        "id": "oaCtJyvXHhNg"
      },
      "execution_count": null,
      "outputs": []
    },
    {
      "cell_type": "markdown",
      "source": [
        "Crea un grafico che mostra la curva di una funzione matematica (ad esempio, y = x^3).\n",
        "*   Come \"x\" crea una lista di 50 numeri consecutivi a partire da 0\n",
        "\n"
      ],
      "metadata": {
        "id": "fh_wtziYITSw"
      }
    },
    {
      "cell_type": "code",
      "source": [],
      "metadata": {
        "id": "p2uciSycIsJf"
      },
      "execution_count": null,
      "outputs": []
    },
    {
      "cell_type": "markdown",
      "source": [
        "Personalizza il grafico per renderlo leggibile"
      ],
      "metadata": {
        "id": "LKkb9NclJ4Wd"
      }
    },
    {
      "cell_type": "code",
      "source": [],
      "metadata": {
        "id": "b2r_l9HxJ7VR"
      },
      "execution_count": null,
      "outputs": []
    },
    {
      "cell_type": "markdown",
      "source": [
        "##Esercizio 3: Grafico a barre"
      ],
      "metadata": {
        "id": "OcUxj5-7Jeyz"
      }
    },
    {
      "cell_type": "markdown",
      "source": [
        "Completa il codice per creare il grafico a barre.\n",
        "\n",
        "> Spiega inoltre cosa fa il codice\n",
        "\n"
      ],
      "metadata": {
        "id": "cvDR-TFdJlu0"
      }
    },
    {
      "cell_type": "code",
      "source": [
        "# Importare le librerie necessarie\n",
        "import matplotlib.pyplot as plt\n",
        "\n",
        "# Definizione dei dati\n",
        "eta = [\"18\", \"25\", \"35\", \"45\", \"55\", \"65\"]\n",
        "libri_letti = [2, 5, 4, 3, 2, 1]\n",
        "\n",
        "# Completa il codice per creare il grafico a barre\n",
        "\n",
        "# Aggiungere un titolo al grafico: \"Numero medio di libri letti per età\"\n",
        "\n",
        "# Aggiungere etichette agli assi\n",
        "plt.xlabel(\"Età\")\n",
        "plt.ylabel(\"Numero di libri\")\n",
        "\n",
        "# Mostrare il grafico\n",
        "plt.show()"
      ],
      "metadata": {
        "id": "o_-D5xGQJmAg"
      },
      "execution_count": null,
      "outputs": []
    },
    {
      "cell_type": "markdown",
      "source": [
        "##Esercizio 4:\n",
        "Il seguente codice riguarda il moto caduta libera.\n",
        "\n",
        "> Completa il codice mancante, in modo da fare anche il grafico velocità-tempo\n",
        "\n"
      ],
      "metadata": {
        "id": "u74QoivuO0OA"
      }
    },
    {
      "cell_type": "code",
      "source": [
        "import matplotlib.pyplot as plt\n",
        "import numpy as np\n",
        "\n",
        "# Definizione delle variabili\n",
        "tempo = np.linspace(0, 5, 100)\n",
        "altezza_iniziale = 100\n",
        "#codice mancante\n",
        "\n",
        "\n",
        "# Calcolo dell'altezza e della velocità\n",
        "altezza = altezza_iniziale - 0.5 * accelerazione_gravita * tempo**2\n",
        "velocita = -accelerazione_gravita * tempo\n",
        "\n",
        "# Calcolo della posizione\n",
        "posizione = np.zeros(len(tempo))\n",
        "for i in range(len(tempo)):\n",
        "  posizione[i] = 0.5 * accelerazione_gravita * tempo[i]**2\n",
        "\n",
        "# Creazione del grafico\n",
        "plt.subplot(211)\n",
        "plt.plot(tempo, altezza, label=\"Altezza\")\n",
        "plt.xlabel(\"Tempo (s)\")\n",
        "plt.ylabel(\"Altezza (m)\")\n",
        "plt.legend()\n",
        "\n",
        "plt.subplot(212)\n",
        "#codice mancante\n",
        "\n",
        "plt.show()\n"
      ],
      "metadata": {
        "colab": {
          "base_uri": "https://localhost:8080/",
          "height": 430
        },
        "id": "TIQtpkKIO4RD",
        "outputId": "8472858e-4b4d-4da4-c07c-0d2b8397dcac"
      },
      "execution_count": 9,
      "outputs": [
        {
          "output_type": "display_data",
          "data": {
            "text/plain": [
              "<Figure size 640x480 with 2 Axes>"
            ],
            "image/png": "[encoded data removed]"
          },
          "metadata": {}
        }
      ]
    }
  ]
}