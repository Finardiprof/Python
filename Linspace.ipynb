{
  "nbformat": 4,
  "nbformat_minor": 0,
  "metadata": {
    "colab": {
      "provenance": [],
      "authorship_tag": "ABX9TyPGGO9n8JWyJe/+041g5alk",
      "include_colab_link": true
    },
    "kernelspec": {
      "name": "python3",
      "display_name": "Python 3"
    },
    "language_info": {
      "name": "python"
    }
  },
  "cells": [
    {
      "cell_type": "markdown",
      "metadata": {
        "id": "view-in-github",
        "colab_type": "text"
      },
      "source": [
        "<a href=\"https://colab.research.google.com/github/Finardiprof/Python/blob/main/Linspace.ipynb\" target=\"_parent\"><img src=\"https://colab.research.google.com/assets/colab-badge.svg\" alt=\"Open In Colab\"/></a>"
      ]
    },
    {
      "cell_type": "code",
      "execution_count": 3,
      "metadata": {
        "colab": {
          "base_uri": "https://localhost:8080/"
        },
        "id": "3qf2jR0QwAhc",
        "outputId": "2beb7c66-3e84-4e43-ca80-20178f581a3a"
      },
      "outputs": [
        {
          "output_type": "stream",
          "name": "stdout",
          "text": [
            "[ 0.          1.11111111  2.22222222  3.33333333  4.44444444  5.55555556\n",
            "  6.66666667  7.77777778  8.88888889 10.        ]\n",
            "1.1111111111111112\n",
            "[ 1.  2.  3.  4.  5.  6.  7.  8.  9. 10.]\n",
            "1.0\n"
          ]
        }
      ],
      "source": [
        "import numpy as np\n",
        "t = np.linspace(0,10,10)\n",
        "print(t)\n",
        "print((10-0)/(10-1))\n",
        "t = np.linspace(1,10,10)\n",
        "print(t)\n",
        "print((10-1)/(10-1))\n",
        "\n",
        "#t = np.linspace(a,b,n)\n",
        "# equispaziati di x = (b-a)/(n-1)"
      ]
    }
  ]
}