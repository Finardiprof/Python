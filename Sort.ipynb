{
  "nbformat": 4,
  "nbformat_minor": 0,
  "metadata": {
    "colab": {
      "provenance": [],
      "authorship_tag": "ABX9TyP1uu1JgXzG4q5KTVkJ55fX",
      "include_colab_link": true
    },
    "kernelspec": {
      "name": "python3",
      "display_name": "Python 3"
    },
    "language_info": {
      "name": "python"
    }
  },
  "cells": [
    {
      "cell_type": "markdown",
      "metadata": {
        "id": "view-in-github",
        "colab_type": "text"
      },
      "source": [
        "<a href=\"https://colab.research.google.com/github/Finardiprof/Python/blob/main/Sort.ipynb\" target=\"_parent\"><img src=\"https://colab.research.google.com/assets/colab-badge.svg\" alt=\"Open In Colab\"/></a>"
      ]
    },
    {
      "cell_type": "code",
      "execution_count": 51,
      "metadata": {
        "id": "FAgXAR09iDTP"
      },
      "outputs": [],
      "source": [
        "def ordina_lista(lista):\n",
        "  for j in range(0, len(lista)-1):\n",
        "        for i in range(0, len(lista)-1):\n",
        "            if lista[i]>lista[i+1]:\n",
        "                lista[i] , lista[i+1] = lista[i+1] , lista[i]\n",
        "  return lista"
      ]
    },
    {
      "cell_type": "code",
      "source": [
        "L = [-1,10,8,5,-7]\n",
        "L_ord = ordina_lista(L)\n",
        "print(L_ord)"
      ],
      "metadata": {
        "colab": {
          "base_uri": "https://localhost:8080/"
        },
        "id": "26FJFht9idZD",
        "outputId": "270e8aac-1ad9-459c-f5db-85b00b3b7533"
      },
      "execution_count": 52,
      "outputs": [
        {
          "output_type": "stream",
          "name": "stdout",
          "text": [
            "[-7, -1, 5, 8, 10]\n"
          ]
        }
      ]
    }
  ]
}