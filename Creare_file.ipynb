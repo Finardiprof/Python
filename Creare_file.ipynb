{
  "cells": [
    {
      "cell_type": "markdown",
      "metadata": {
        "id": "view-in-github",
        "colab_type": "text"
      },
      "source": [
        "<a href=\"https://colab.research.google.com/github/Finardiprof/Python/blob/main/Creare_file.ipynb\" target=\"_parent\"><img src=\"https://colab.research.google.com/assets/colab-badge.svg\" alt=\"Open In Colab\"/></a>"
      ]
    },
    {
      "cell_type": "markdown",
      "source": [
        "## Creare un file Python\n",
        "\n",
        "**Creare un file Python utilizzando la funzione `open()`**\n",
        "\n",
        "La funzione `open()` viene utilizzata per aprire un file in Python. Richiede due argomenti:\n",
        "\n",
        "* Il percorso del file\n",
        "* La modalità di apertura"
      ],
      "metadata": {
        "id": "ahYDnBdzCVzZ"
      }
    },
    {
      "cell_type": "markdown",
      "source": [
        "**Esempio:**"
      ],
      "metadata": {
        "id": "W3Cw2r8FCVze"
      }
    },
    {
      "cell_type": "code",
      "source": [
        "# Creare un nuovo file Python chiamato \"mio_file.txt\"\n",
        "mio_file = open(\"mio_file.txt\", \"w\")\n",
        "\n",
        "# Scrivere una stringa nel file\n",
        "mio_file.write(\"Questa è una riga di testo.\")\n",
        "\n",
        "# Chiudere il file\n",
        "mio_file.close()"
      ],
      "outputs": [],
      "execution_count": null,
      "metadata": {
        "id": "yiCRtNpKCVzf"
      }
    },
    {
      "cell_type": "markdown",
      "source": [
        "**Leggere un file Python utilizzando la funzione `read()`**\n",
        "\n",
        "La funzione `read()` legge il contenuto di un file aperto. Restituisce una stringa contenente il contenuto del file."
      ],
      "metadata": {
        "id": "1vPq0OspCVzf"
      }
    },
    {
      "cell_type": "code",
      "source": [
        "# Apertura di un file in modalità lettura\n",
        "test = open(\"test.txt\", \"r\")\n",
        "\n",
        "# Leggere il contenuto del file\n",
        "contenuto_file = test.read()\n",
        "\n",
        "# Stampa il contenuto del file\n",
        "print(contenuto_file)\n",
        "\n",
        "# Chiudere il file\n",
        "mio_file.close()"
      ],
      "outputs": [
        {
          "output_type": "stream",
          "name": "stdout",
          "text": [
            "Questo è solo un test\n",
            "riga 2\n",
            "riga 3\n"
          ]
        }
      ],
      "execution_count": null,
      "metadata": {
        "colab": {
          "base_uri": "https://localhost:8080/"
        },
        "id": "IjRbFwTMCVzg",
        "outputId": "dcf3975b-0d94-4671-d03a-c13a8450c8fe"
      }
    },
    {
      "cell_type": "markdown",
      "source": [
        "**Esempio:**"
      ],
      "metadata": {
        "id": "4LYw31YWCVzg"
      }
    },
    {
      "cell_type": "markdown",
      "source": [
        "**Scrivere in un file Python utilizzando la funzione `write()`**\n",
        "\n",
        "La funzione `write()` scrive una stringa in un file aperto."
      ],
      "metadata": {
        "id": "impJX5G_CVzh"
      }
    },
    {
      "cell_type": "code",
      "source": [
        "# Apertura di un file in modalità scrittura\n",
        "mio_file = open(\"mio_file2.txt\", \"w\")\n",
        "\n",
        "# Scrivere una stringa nel file\n",
        "mio_file.write(\"Questa è una nuova riga di testo.\")\n",
        "\n",
        "# Chiudere il file\n",
        "mio_file.close()"
      ],
      "outputs": [],
      "execution_count": null,
      "metadata": {
        "id": "fz5otuBNCVzh"
      }
    },
    {
      "cell_type": "markdown",
      "source": [
        "**Esempio:**"
      ],
      "metadata": {
        "id": "CYcBeLBsCVzh"
      }
    },
    {
      "cell_type": "code",
      "source": [
        "# Appendere una nuova riga di testo a \"mio_file.txt\"\n",
        "mio_file2 = open(\"mio_file2.txt\", \"a\")\n",
        "mio_file2.write(\"\\nQuesta è una nuova riga di testo da aggiungere.\")\n",
        "mio_file2.close()"
      ],
      "outputs": [],
      "execution_count": null,
      "metadata": {
        "id": "0FmE3W03CVzi"
      }
    }
  ],
  "metadata": {
    "colab": {
      "provenance": [],
      "include_colab_link": true
    },
    "kernelspec": {
      "display_name": "Python 3",
      "name": "python3"
    }
  },
  "nbformat": 4,
  "nbformat_minor": 0
}