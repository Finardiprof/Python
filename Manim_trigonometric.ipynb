{
  "nbformat": 4,
  "nbformat_minor": 0,
  "metadata": {
    "colab": {
      "provenance": [],
      "authorship_tag": "ABX9TyNt9gEDEudcxpkZfj76bxtO",
      "include_colab_link": true
    },
    "kernelspec": {
      "name": "python3",
      "display_name": "Python 3"
    },
    "language_info": {
      "name": "python"
    }
  },
  "cells": [
    {
      "cell_type": "markdown",
      "metadata": {
        "id": "view-in-github",
        "colab_type": "text"
      },
      "source": [
        "<a href=\"https://colab.research.google.com/github/Finardiprof/Python/blob/main/Manim_trigonometric.ipynb\" target=\"_parent\"><img src=\"https://colab.research.google.com/assets/colab-badge.svg\" alt=\"Open In Colab\"/></a>"
      ]
    },
    {
      "cell_type": "code",
      "execution_count": null,
      "metadata": {
        "colab": {
          "base_uri": "https://localhost:8080/"
        },
        "id": "K6OCrhdaK_k0",
        "outputId": "6d417ac2-bec3-469c-dd7c-5b6c2894dcdb"
      },
      "outputs": [
        {
          "output_type": "stream",
          "name": "stdout",
          "text": [
            "Collecting manim\n",
            "  Downloading manim-0.18.1-py3-none-any.whl (585 kB)\n",
            "\u001b[2K     \u001b[90m━━━━━━━━━━━━━━━━━━━━━━━━━━━━━━━━━━━━━━━━\u001b[0m \u001b[32m585.2/585.2 kB\u001b[0m \u001b[31m3.2 MB/s\u001b[0m eta \u001b[36m0:00:00\u001b[0m\n",
            "\u001b[?25hRequirement already satisfied: Pillow>=9.1 in /usr/local/lib/python3.10/dist-packages (from manim) (9.4.0)\n",
            "Requirement already satisfied: Pygments>=2.0.0 in /usr/local/lib/python3.10/dist-packages (from manim) (2.16.1)\n",
            "Requirement already satisfied: click>=8.0 in /usr/local/lib/python3.10/dist-packages (from manim) (8.1.7)\n",
            "Collecting cloup>=2.0.0 (from manim)\n",
            "  Downloading cloup-3.0.5-py2.py3-none-any.whl (54 kB)\n",
            "\u001b[2K     \u001b[90m━━━━━━━━━━━━━━━━━━━━━━━━━━━━━━━━━━━━━━━━\u001b[0m \u001b[32m54.4/54.4 kB\u001b[0m \u001b[31m4.0 MB/s\u001b[0m eta \u001b[36m0:00:00\u001b[0m\n",
            "\u001b[?25hRequirement already satisfied: decorator>=4.3.2 in /usr/local/lib/python3.10/dist-packages (from manim) (4.4.2)\n",
            "Collecting isosurfaces>=0.1.0 (from manim)\n",
            "  Downloading isosurfaces-0.1.2-py3-none-any.whl (11 kB)\n",
            "Collecting manimpango<1.0.0,>=0.5.0 (from manim)\n",
            "  Downloading ManimPango-0.5.0.tar.gz (4.1 MB)\n",
            "\u001b[2K     \u001b[90m━━━━━━━━━━━━━━━━━━━━━━━━━━━━━━━━━━━━━━━━\u001b[0m \u001b[32m4.1/4.1 MB\u001b[0m \u001b[31m31.8 MB/s\u001b[0m eta \u001b[36m0:00:00\u001b[0m\n",
            "\u001b[?25h"
          ]
        }
      ],
      "source": [
        "# prompt: manim code trigonometric ration on unit circle\n",
        "\n",
        "!pip install manim\n",
        "\n",
        "from manim import *\n",
        "\n",
        "class TrigRatioOnUnitCircle(Scene):\n",
        "    def construct(self):\n",
        "        # Create unit circle\n",
        "        circle = Circle(radius=2, color=WHITE)\n",
        "        self.play(Create(circle))\n",
        "\n",
        "        # Create angle theta\n",
        "        theta = ValueTracker(0)\n",
        "        angle = Angle(RIGHT, rotate(theta.get_value() * DEGREES, about_point=ORIGIN), radius=0.5, other_angle=False)\n",
        "        angle_label = MathTex(r\"\\theta\").move_to(angle.point_from_proportion(0.5) * 1.2)\n",
        "\n",
        "        # Create point P on the circle\n",
        "        point_P = Dot(circle.point_at_angle(theta.get_value() * DEGREES))\n",
        "        point_P_label = MathTex(\"P\").next_to(point_P, UR, buff=0.1)\n",
        "\n",
        "        # Create lines for sine, cosine, and tangent\n",
        "        sine_line = Line(ORIGIN, point_P.get_center()[1] * UP, color=RED)\n",
        "        cosine_line = Line(ORIGIN, point_P.get_center()[0] * RIGHT, color=BLUE)\n",
        "        tangent_line = Line(point_P.get_center()[0] * RIGHT, point_P.get_center()[0] * RIGHT + np.tan(theta.get_value() * DEGREES) * UP, color=GREEN)\n",
        "\n",
        "        # Create labels for sine, cosine, and tangent\n",
        "        sine_label = MathTex(r\"\\sin(\\theta)\").next_to(sine_line, LEFT, buff=0.1)\n",
        "        cosine_label = MathTex(r\"\\cos(\\theta)\").next_to(cosine_line, DOWN, buff=0.1)\n",
        "        tangent_label = MathTex(r\"\\tan(\\theta)\").next_to(tangent_line, RIGHT, buff=0.1)\n",
        "\n",
        "        # Add all elements to the scene\n",
        "        self.play(\n",
        "            Create(angle),\n",
        "            Write(angle_label),\n",
        "            Create(point_P),\n",
        "            Write(point_P_label),\n",
        "            Create(sine_line),\n",
        "            Write(sine_label),\n",
        "            Create(cosine_line),\n",
        "            Write(cosine_label)\n",
        "        )\n",
        "\n",
        "        # Animate angle theta and update elements accordingly\n",
        "        self.play(\n",
        "            theta.animate.set_value(360),\n",
        "            UpdateFromFunc(angle, lambda m: m.become(Angle(RIGHT, rotate(theta.get_value() * DEGREES, about_point=ORIGIN), radius=0.5, other_angle=False))),\n",
        "            UpdateFromFunc(angle_label, lambda m: m.move_to(angle.point_from_proportion(0.5) * 1.2)),\n",
        "            UpdateFromFunc(point_P, lambda m: m.move_to(circle.point_at_angle(theta.get_value() * DEGREES))),\n",
        "            UpdateFromFunc(point_P_label, lambda m: m.next_to(point_P, UR, buff=0.1)),\n",
        "            UpdateFromFunc(sine_line, lambda m: m.become(Line(ORIGIN, point_P.get_center()[1] * UP, color=RED))),\n",
        "            UpdateFromFunc(sine_label, lambda m: m.next_to(sine_line, LEFT, buff=0.1)),\n",
        "            UpdateFromFunc(cosine_line, lambda m: m.become(Line(ORIGIN, point_P.get_center()[0] * RIGHT, color=BLUE))),\n",
        "            UpdateFromFunc(cosine_label, lambda m: m.next_to(cosine_line, DOWN, buff=0.1)),\n",
        "            run_time=5,\n",
        "            rate_func=linear\n",
        "        )\n",
        "\n",
        "        # Add tangent line and label\n",
        "        self.play(\n",
        "            Create(tangent_line),\n",
        "            Write(tangent_label)\n",
        "        )\n",
        "\n",
        "        # Animate angle theta again with tangent line\n",
        "        self.play(\n",
        "            theta.animate.set_value(720),\n",
        "            UpdateFromFunc(angle, lambda m: m.become(Angle(RIGHT, rotate(theta.get_value() * DEGREES, about_point=ORIGIN), radius=0.5, other_angle=False))),\n",
        "            UpdateFromFunc(angle_label, lambda m: m.move_to(angle.point_from_proportion(0.5) * 1.2)),\n",
        "            UpdateFromFunc(point_P, lambda m: m.move_to(circle.point_at_angle(theta.get_value() * DEGREES))),\n",
        "            UpdateFromFunc(point_P_label, lambda m: m.next_to(point_P, UR, buff=0.1)),\n",
        "            UpdateFromFunc(sine_line, lambda m: m.become(Line(ORIGIN, point_P.get_center()[1] * UP, color=RED))),\n",
        "            UpdateFromFunc(sine_label, lambda m: m.next_to(sine_line, LEFT, buff=0.1)),\n",
        "            UpdateFromFunc(cosine_line, lambda m: m.become(Line(ORIGIN, point_P.get_center()[0] * RIGHT, color=BLUE))),\n",
        "            UpdateFromFunc(cosine_label, lambda m: m.next_to(cosine_line, DOWN, buff=0.1)),\n",
        "            UpdateFromFunc(tangent_line, lambda m: m.become(Line(point_P.get_center()[0] * RIGHT, point_P.get_center()[0] * RIGHT + np.tan(theta.get_value() * DEGREES) * UP, color=GREEN))),\n",
        "            UpdateFromFunc(tangent_label, lambda m: m.next_to(tangent_line, RIGHT, buff=0.1)),\n",
        "            run_time=10,\n",
        "            rate_func=linear\n",
        "        )\n",
        "\n",
        "        self.wait(2)\n"
      ]
    }
  ]
}