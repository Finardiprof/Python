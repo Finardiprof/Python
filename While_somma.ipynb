{
  "cells": [
    {
      "cell_type": "markdown",
      "metadata": {
        "id": "view-in-github",
        "colab_type": "text"
      },
      "source": [
        "<a href=\"https://colab.research.google.com/github/Finardiprof/Python/blob/main/While_somma.ipynb\" target=\"_parent\"><img src=\"https://colab.research.google.com/assets/colab-badge.svg\" alt=\"Open In Colab\"/></a>"
      ]
    },
    {
      "cell_type": "markdown",
      "source": [
        "Ecco un codice semplice ma interessante con un ciclo while:"
      ],
      "metadata": {
        "id": "ORO-O6MUAik3"
      }
    },
    {
      "cell_type": "code",
      "source": [
        "# Calcola la somma dei numeri da 1 a n\n",
        "\n",
        "n = int(input(\"Inserisci un numero: \"))\n",
        "\n",
        "s = 0\n",
        "i = 1\n",
        "\n",
        "while i <= n:\n",
        "  s += i\n",
        "  i += 1\n",
        "\n",
        "print(\"La somma è:\", s)"
      ],
      "outputs": [],
      "execution_count": null,
      "metadata": {
        "id": "4VruN6nIAilB"
      }
    },
    {
      "cell_type": "markdown",
      "source": [
        "Questo codice calcola la somma dei numeri da 1 a n. Il codice utilizza un ciclo while per iterare sui numeri da 1 a n. Ad ogni iterazione, il codice aggiunge il numero corrente alla somma.\n",
        "\n",
        "Ecco un esempio di output del codice:\n",
        "\n",
        "```\n",
        "Inserisci un numero: 10\n",
        "La somma è: 55\n",
        "```\n",
        "\n",
        "Un altro esempio interessante di codice con un ciclo while è un gioco di indovinelli. Il gioco di indovinelli funziona in questo modo:\n",
        "\n",
        "* Il computer genera un numero casuale tra 1 e 100.\n",
        "* L'utente indovina il numero.\n",
        "* Il computer fornisce feedback all'utente, indicando se l'ipotesi è troppo alta o troppo bassa.\n",
        "* Il gioco continua finché l'utente non indovina il numero corretto.\n",
        "\n",
        "Ecco un codice per un gioco di indovinelli:"
      ],
      "metadata": {
        "id": "fw1ELkUzAilI"
      }
    },
    {
      "cell_type": "code",
      "source": [
        "# Gioco di indovinelli\n",
        "\n",
        "import random\n",
        "\n",
        "num = random.randint(1, 100)\n",
        "\n",
        "while True:\n",
        "  guess = int(input(\"Indovina il numero: \"))\n",
        "\n",
        "  if guess == num:\n",
        "    print(\"Hai indovinato!\")\n",
        "    break\n",
        "  elif guess < num:\n",
        "    print(\"Il numero è troppo basso.\")\n",
        "  else:\n",
        "    print(\"Il numero è troppo alto.\")"
      ],
      "outputs": [],
      "execution_count": null,
      "metadata": {
        "id": "7J6F_8DWAilL"
      }
    },
    {
      "cell_type": "markdown",
      "source": [
        "Ecco un esempio di output del gioco di indovinelli:\n",
        "\n",
        "```\n",
        "Indovina il numero: 50\n",
        "Il numero è troppo alto.\n",
        "Indovina il numero: 25\n",
        "Il numero è troppo basso.\n",
        "Indovina il numero: 37\n",
        "Hai indovinato!\n",
        "```\n",
        "\n",
        "Questo è solo un esempio di codice con un ciclo while. Esistono molti altri modi interessanti per utilizzare i cicli while."
      ],
      "metadata": {
        "id": "SgvNabEyAilO"
      }
    }
  ],
  "metadata": {
    "colab": {
      "provenance": [],
      "include_colab_link": true
    },
    "kernelspec": {
      "display_name": "Python 3",
      "name": "python3"
    }
  },
  "nbformat": 4,
  "nbformat_minor": 0
}