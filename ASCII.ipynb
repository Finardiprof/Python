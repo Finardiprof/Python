{
  "nbformat": 4,
  "nbformat_minor": 0,
  "metadata": {
    "colab": {
      "provenance": [],
      "authorship_tag": "ABX9TyMQvirh9LDsSdUWuYGTI0ji",
      "include_colab_link": true
    },
    "kernelspec": {
      "name": "python3",
      "display_name": "Python 3"
    },
    "language_info": {
      "name": "python"
    }
  },
  "cells": [
    {
      "cell_type": "markdown",
      "metadata": {
        "id": "view-in-github",
        "colab_type": "text"
      },
      "source": [
        "<a href=\"https://colab.research.google.com/github/Finardiprof/Python/blob/main/ASCII.ipynb\" target=\"_parent\"><img src=\"https://colab.research.google.com/assets/colab-badge.svg\" alt=\"Open In Colab\"/></a>"
      ]
    },
    {
      "cell_type": "markdown",
      "source": [
        "## ESEMPIO CODICE ASCII"
      ],
      "metadata": {
        "id": "mtCJ4UyvRqn1"
      }
    },
    {
      "cell_type": "code",
      "source": [
        "# Chiedi all'utente di inserire un carattere\n",
        "carattere = input(\"Inserisci un carattere: \")\n",
        "\n",
        "# Ottieni il valore ASCII del carattere\n",
        "valore_ascii = ord(carattere)\n",
        "\n",
        "# Converte il valore ASCII in binario\n",
        "valore_binario = bin(valore_ascii)\n",
        "\n",
        "# Stampa il valore ASCII e il suo equivalente binario\n",
        "print(f\"Il valore ASCII di '{carattere}' è {valore_ascii}\")\n",
        "print(f\"In binario, questo corrisponde a: {valore_binario}\")"
      ],
      "metadata": {
        "id": "o_4xqlcyiOM8"
      },
      "execution_count": null,
      "outputs": []
    }
  ]
}