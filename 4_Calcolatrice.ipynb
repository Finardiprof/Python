{
  "nbformat": 4,
  "nbformat_minor": 0,
  "metadata": {
    "colab": {
      "provenance": [],
      "toc_visible": true,
      "include_colab_link": true
    },
    "kernelspec": {
      "name": "python3",
      "display_name": "Python 3"
    },
    "language_info": {
      "name": "python"
    }
  },
  "cells": [
    {
      "cell_type": "markdown",
      "metadata": {
        "id": "view-in-github",
        "colab_type": "text"
      },
      "source": [
        "<a href=\"https://colab.research.google.com/github/Finardiprof/Python/blob/main/4_Calcolatrice.ipynb\" target=\"_parent\"><img src=\"https://colab.research.google.com/assets/colab-badge.svg\" alt=\"Open In Colab\"/></a>"
      ]
    },
    {
      "cell_type": "markdown",
      "metadata": {
        "id": "cfQEivgxoJct"
      },
      "source": [
        "# Calcolatrice\n",
        "Scrivere l'algoritmo per realizzare una calcolatrice che, inseriti due numeri reali e l'operazione che si vuole fare, fornisca il risultato"
      ]
    },
    {
      "cell_type": "code",
      "metadata": {
        "id": "nsD6A-38rLAz"
      },
      "source": [
        "#Scrivi il codice qui"
      ],
      "execution_count": null,
      "outputs": []
    },
    {
      "cell_type": "markdown",
      "metadata": {
        "id": "cD6qEASqurtx"
      },
      "source": [
        "Ora prova a migliorare l'algoritmo: e se per errore  viene inserito un simbolo che non corrisponde ad uno di quelli previsti come operatore?"
      ]
    },
    {
      "cell_type": "code",
      "metadata": {
        "id": "UHodC4hyu9NX"
      },
      "source": [
        "#Scrivi il codice qui"
      ],
      "execution_count": null,
      "outputs": []
    },
    {
      "cell_type": "markdown",
      "metadata": {
        "id": "eyX76W7Y0nwf"
      },
      "source": [
        "E se il divisore è zero??"
      ]
    },
    {
      "cell_type": "code",
      "metadata": {
        "id": "yX5i6sKw0vVs"
      },
      "source": [
        "#Scrivi il codice qui"
      ],
      "execution_count": null,
      "outputs": []
    },
    {
      "cell_type": "markdown",
      "metadata": {
        "id": "GUwN7fgYrSOF"
      },
      "source": [
        "# Soluzioni proposte"
      ]
    },
    {
      "cell_type": "code",
      "metadata": {
        "id": "X0qkf3k5reTr"
      },
      "source": [
        "#Possibile algoritmo per una calcolatrice basic\n",
        "n1 = float (input(\"Inserisci il primo numero: \"))\n",
        "n2 = float (input(\"Inserisci il secondo numero: \"))\n",
        "op = input(\"Inserisci un operatore a scelta tra: +, -, *, / \") #op è una variabile di tipo String\n",
        "if op == \"+\":\n",
        "  print (\"la somma di \", n1, \" e \", n2, \"è: \", n1+n2)\n",
        "if op == \"-\":\n",
        "  print (\"la differenza tra \", n1, \" e \", n2, \"è: \", n1-n2)\n",
        "if op == \"*\":\n",
        "  print (\"il prodotto di \", n1, \" per \", n2, \"è: \", n1*n2)\n",
        "if op == \"/\":\n",
        "  print (\"il quoziente tra \", n1, \" e \", n2, \"è: \", n1/n2)"
      ],
      "execution_count": null,
      "outputs": []
    },
    {
      "cell_type": "code",
      "metadata": {
        "id": "g3mYtdxMvB2y"
      },
      "source": [
        "# Se viene inserito un simbolo che non corrisponde ad uno di quelli previsti come operatore?\n",
        "# Soluzione 1\n",
        "n1 = float (input(\"Inserisci il primo numero: \"))\n",
        "n2 = float (input(\"Inserisci il secondo numero: \"))\n",
        "op = input(\"Inserisci un operatore a scelta tra: +, -, *, / \") #op è una variabile di tipo String\n",
        "if op == \"+\":\n",
        "  print (\"la somma di \", n1, \" e \", n2, \"è: \", n1+n2)\n",
        "if op == \"-\":\n",
        "  print (\"la differenza tra \", n1, \" e \", n2, \"è: \", n1-n2)\n",
        "if op == \"*\":\n",
        "  print (\"il prodotto di \", n1, \" per \", n2, \"è: \", n1*n2)\n",
        "if op == \"/\":\n",
        "  print (\"il quoziente tra \", n1, \" e \", n2, \"è: \", n1/n2)\n",
        "if op != \"+\" and op != \"-\" and op != \"*\" and op != \"/\":\n",
        "  print (\"L'operatore inserito non è corretto\")"
      ],
      "execution_count": null,
      "outputs": []
    },
    {
      "cell_type": "code",
      "metadata": {
        "id": "N9aBOK6vwRY5"
      },
      "source": [
        "# Se viene inserito un simbolo che non corrisponde ad uno di quelli previsti come operatore?\n",
        "# Soluzione 2\n",
        "n1 = float (input(\"Inserisci il primo numero: \"))\n",
        "n2 = float (input(\"Inserisci il secondo numero: \"))\n",
        "op = input(\"Inserisci un operatore a scelta tra: +, -, *, / \") #op è una variabile di tipo String\n",
        "if op == \"+\":\n",
        "  print (\"la somma di \", n1, \" e \", n2, \"è: \", n1+n2)\n",
        "else:\n",
        "  if op == \"-\":\n",
        "\n",
        "    print (\"la differenza tra \", n1, \" e \", n2, \"è: \", n1-n2)\n",
        "  else:\n",
        "    if op == \"*\":\n",
        "      print (\"il prodotto di \", n1, \" per \", n2, \"è: \", n1*n2)\n",
        "    else:\n",
        "      if op == \"/\":\n",
        "        print (\"il quoziente tra \", n1, \" e \", n2, \"è: \", n1/n2)\n",
        "      else:\n",
        "        print (\"L'operatore inserito non è corretto\")"
      ],
      "execution_count": null,
      "outputs": []
    },
    {
      "cell_type": "code",
      "metadata": {
        "id": "R2phpTNjxF9s"
      },
      "source": [
        "# Se viene inserito un simbolo che non corrisponde ad uno di quelli previsti come operatore?\n",
        "# Lo stesso risultato si ottiene con l'algoritmo seguente in cui la frase else: if... viene sostituita\n",
        "# con la parola chiave elif\n",
        "# Soluzione 3\n",
        "n1 = float (input(\"Inserisci il primo numero: \"))\n",
        "n2 = float (input(\"Inserisci il secondo numero: \"))\n",
        "op = input(\"Inserisci un operatore a scelta tra: +, -, *, / \") #op è una variabile di tipo String\n",
        "if op == \"+\":\n",
        "  print (\"la somma di \", n1, \" e \", n2, \"è: \", n1+n2)\n",
        "elif op == \"-\":\n",
        "  print (\"la differenza tra \", n1, \" e \", n2, \"è: \", n1-n2)\n",
        "elif op == \"*\":\n",
        "  print (\"il prodotto di \", n1, \" per \", n2, \"è: \", n1*n2)\n",
        "elif op == \"/\":\n",
        "  print (\"il quoziente tra \", n1, \" e \", n2, \"è: \", n1/n2)\n",
        "else:\n",
        "  print (\"L'operatore inserito non è corretto\")"
      ],
      "execution_count": null,
      "outputs": []
    },
    {
      "cell_type": "code",
      "metadata": {
        "id": "lDoMZoRH02SE"
      },
      "source": [
        "# e se il divisore è zero?\n",
        "n1 = float (input(\"Inserisci il primo numero: \"))\n",
        "n2 = float (input(\"Inserisci il secondo numero: \"))\n",
        "op = input(\"Inserisci un operatore a scelta tra: +, -, *, / \") #op è una variabile di tipo String\n",
        "if op == \"+\":\n",
        "  print (\"la somma di \", n1, \" e \", n2, \"è: \", n1+n2)\n",
        "if op == \"-\":\n",
        "  print (\"la differenza tra \", n1, \" e \", n2, \"è: \", n1-n2)\n",
        "if op == \"*\":\n",
        "  print (\"il prodotto di \", n1, \" per \", n2, \"è: \", n1*n2)\n",
        "if op == \"/\":\n",
        "  if n2 == 0:\n",
        "    print (\"Non si può dividere per zero!!\")\n",
        "  else:\n",
        "    print (\"il quoziente tra \", n1, \" e \", n2, \"è: \", n1/n2)\n",
        "if op != \"+\" and op != \"-\" and op != \"*\" and op != \"/\":\n",
        "  print (\"L'operatore inserito non è corretto\")"
      ],
      "execution_count": null,
      "outputs": []
    }
  ]
}