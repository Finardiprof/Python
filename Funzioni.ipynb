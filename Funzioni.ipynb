{
  "nbformat": 4,
  "nbformat_minor": 0,
  "metadata": {
    "colab": {
      "provenance": [],
      "authorship_tag": "ABX9TyM+5hfW/4rCdUkirggJW9jU",
      "include_colab_link": true
    },
    "kernelspec": {
      "name": "python3",
      "display_name": "Python 3"
    },
    "language_info": {
      "name": "python"
    }
  },
  "cells": [
    {
      "cell_type": "markdown",
      "metadata": {
        "id": "view-in-github",
        "colab_type": "text"
      },
      "source": [
        "<a href=\"https://colab.research.google.com/github/Finardiprof/Python/blob/main/Funzioni.ipynb\" target=\"_parent\"><img src=\"https://colab.research.google.com/assets/colab-badge.svg\" alt=\"Open In Colab\"/></a>"
      ]
    },
    {
      "cell_type": "code",
      "execution_count": null,
      "metadata": {
        "id": "8JceUC1kFm0n"
      },
      "outputs": [],
      "source": [
        "def somma(a,b):\n",
        "    r = a+b\n",
        "    return r"
      ]
    },
    {
      "cell_type": "code",
      "source": [
        "x = 2\n",
        "y = 10\n",
        "S = somma(x,y)\n",
        "print(S)"
      ],
      "metadata": {
        "id": "EjOZFAoFFxK9"
      },
      "execution_count": null,
      "outputs": []
    },
    {
      "cell_type": "code",
      "source": [
        "def operazioni(x,y):\n",
        "    r1 = x+y\n",
        "    r2 = x-y\n",
        "    return (r1,r2)\n"
      ],
      "metadata": {
        "id": "micHYU6ku4Po"
      },
      "execution_count": 1,
      "outputs": []
    },
    {
      "cell_type": "code",
      "source": [
        "x = 1\n",
        "y = 7\n",
        "(a,b) = operazioni(x,y)\n",
        "print(a,b)"
      ],
      "metadata": {
        "id": "mrXIc9WovGHT",
        "outputId": "61b16d14-df89-4c17-c39a-06550da05145",
        "colab": {
          "base_uri": "https://localhost:8080/"
        }
      },
      "execution_count": 2,
      "outputs": [
        {
          "output_type": "stream",
          "name": "stdout",
          "text": [
            "8 -6\n"
          ]
        }
      ]
    }
  ]
}